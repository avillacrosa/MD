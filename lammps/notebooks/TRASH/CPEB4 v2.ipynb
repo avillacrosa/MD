{
 "cells": [
  {
   "cell_type": "code",
   "execution_count": 119,
   "metadata": {},
   "outputs": [],
   "source": [
    "import os\n",
    "import sys\n",
    "import importlib\n",
    "import matplotlib.pyplot as plt\n",
    "if '../utils' not in sys.path:\n",
    "    sys.path.insert(0,'../utils')\n",
    "import lmp\n",
    "import lmpsetup\n",
    "import analysis\n",
    "import numpy as np\n",
    "\n",
    "importlib.reload(lmp);\n",
    "importlib.reload(lmpsetup);\n",
    "importlib.reload(analysis);"
   ]
  },
  {
   "cell_type": "code",
   "execution_count": 94,
   "metadata": {},
   "outputs": [],
   "source": [
    "cpeb4     = 'MGDYGFGVLVQSNTGNKSAFPVRFHPHLQPPHHHQNATPSPAAFINNNTAANGSSAGSAWLFPAPATHNIQDEILGSEKAKSQQQEQQDPLEKQQLSPSPGQEAGILPETEKAKSEENQGDNSSENGNGKEKIRIESPVLTGFDYQEATGLGTSTQPLTSSASSLTGFSNWSAAIAPSSSTIINEDASFFHQGGVPAASANNGALLFQNFPHHVSPGFGGSFSPQIGPLSQHHPHHPHFQHHHSQHQQQRRSPASPHPPPFTHRNAAFNQLPHLANNLNKPPSPWSSYQSPSPTPSSSWSPGGGGYGGWGGSQGRDHRRGLNGGITPLNSISPLKKNFASNHIQLQKYARPSSAFAPKSWMEDSLNRADNIFPFPDRPRTFDMHSLESSLIDIMRAENDTIKARTYGRRRGQSSLFPMEDGFLDDGRGDQPLHSGLGSPHCFSHQNGE'\n",
    "cpeb4_7D  = 'MGDYGFGVLVQSNTGNKDAFPVRFHPHLQPPHHHQNADPDPAAFINNNTAANGSSAGSAWLFPAPATHNIQDEILGSEKAKSQQQEQQDPLEKQQLDPSPGQEAGILPETEKAKSEENQGDNSSENGNGKEKIRIESPVLTGFDYQEATGLGTSTQPLTSSASSLTGFSNWSAAIAPSSSTIINEDASFFHQGGVPAASANNGALLFQNFPHHVSPGFGGSFSPQIGPLSQHHPHHPHFQHHHSQHQQQRRDPADPHPPPFTHRNAAFNQLPHLANNLNKPPSPWSSYQSPSPTPSSSWSPGGGGYGGWGGSQGRDHRRGLNGGITPLNSISPLKKNFASNHIQLQKYARPSDAFAPKSWMEDSLNRADNIFPFPDRPRTFDMHSLESSLIDIMRAENDTIKARTYGRRRGQSSLFPMEDGFLDDGRGDQPLHSGLGSPHCFSHQNGE'\n",
    "cpeb4_12D = 'MGDYGFGVLVQSNTGNKDAFPVRFHPHLQPPHHHQNADPDPAAFINNNTAANGSSAGSAWLFPAPATHNIQDEILGSEKAKSQQQEQQDPLEKQQLDPSPGQEAGILPETEKAKSEENQGDNSSENGNGKEKIRIESPVLTGFDYQEATGLGTSTQPLTSSASSLTGFSNWSAAIAPSSSTIINEDASFFHQGGVPAASANNGALLFQNFPHHVSPGFGGSFSPQIGPLSQHHPHHPHFQHHHSQHQQQRRDPADPHPPPFTHRNAAFNQLPHLANNLNKPPSPWSSYQSPSPTPSSSWSPGGGGYGGWGGSQGRDHRRGLNGGIDPLNDIDPLKKNFASNHIQLQKYARPSDAFAPKDWMEDDLNRADNIFPFPDRPRTFDMHSLESSLIDIMRAENDTIKARTYGRRRGQSSLFPMEDGFLDDGRGDQPLHSGLGSPHCFSHQNGE'\n",
    "cpeb4_d4  = 'MGDYGFGVLVQSNTGNKSAFPVRFHPHLQPPHHHQNATPSPAAFINNNTAANGSSAGSAWLFPAPATHNIQDEILGSEKAKSQQQEQQDPLEKQQLSPSPGQEAGILPETEKAKSEENQGDNSSENGNGKEKIRIESPVLTGFDYQEATGLGTSTQPLTSSASSLTGFSNWSAAIAPSSSTIINEDASFFHQGGVPAASANNGALLFQNFPHHVSPGFGGSFSPQIGPLSQHHPHHPHFQHHHSQHQQQRRSPASPHPPPFTHRNAAFNQLPHLANNLNKPPSPWSSYQSPSPTPSSSWSPGGGGYGGWGGSQGRDHRRGLNGGITPLNSISPLKKNFASNHIQLQKYARPSSAFAPKSWMEDSLNRADNIFPFPDRPRTFDMHSLESSLIDIMRAENDTIKGQSSLFPMEDGFLDDGRGDQPLHSGLGSPHCFSHQNGE'"
   ]
  },
  {
   "cell_type": "code",
   "execution_count": 95,
   "metadata": {},
   "outputs": [],
   "source": [
    "lscales = [0.8, 1.]\n",
    "Is = np.array([10, 400])*10**(-3)\n",
    "eps_r = [10., 80.]"
   ]
  },
  {
   "cell_type": "code",
   "execution_count": 96,
   "metadata": {},
   "outputs": [
    {
     "name": "stdout",
     "output_type": "stream",
     "text": [
      "Directory does not exist. Creating dir : /home/adria/perdiux/prod/lammps/dignon/7D_CPEB4/0.8ls-10I-80e\n",
      "hps_0.8ls-10I-80e\n",
      "Directory does not exist. Creating dir : /home/adria/perdiux/prod/lammps/dignon/7D_CPEB4/0.8ls-400I-80e\n",
      "hps_0.8ls-400I-80e\n",
      "Directory does not exist. Creating dir : /home/adria/perdiux/prod/lammps/dignon/7D_CPEB4/1.0ls-10I-80e\n",
      "hps_1.0ls-10I-80e\n",
      "Directory does not exist. Creating dir : /home/adria/perdiux/prod/lammps/dignon/7D_CPEB4/1.0ls-400I-80e\n",
      "hps_1.0ls-400I-80e\n",
      "Directory does not exist. Creating dir : /home/adria/perdiux/prod/lammps/dignon/7D_CPEB4/1.0ls-10I-10e\n",
      "hps_1.0ls-10I-10e\n",
      "Directory does not exist. Creating dir : /home/adria/perdiux/prod/lammps/dignon/7D_CPEB4/1.0ls-400I-10e\n",
      "hps_1.0ls-400I-10e\n",
      "hps_1.0ls-10I-80e\n",
      "hps_1.0ls-400I-80e\n"
     ]
    }
   ],
   "source": [
    "base_dir = '/home/adria/perdiux/prod/lammps/dignon/7D_CPEB4'\n",
    "for ls in lscales:\n",
    "    for I in Is:\n",
    "        eps = 80\n",
    "        o_wd = os.path.join(base_dir,f'{ls:.1f}ls-{I*1e3:.0f}I-{eps:.0f}e')\n",
    "        setter = lmpsetup.LMPSetup(oliba_wd=o_wd, seq=cpeb4_7D, temper=True)\n",
    "        setter.ionic_strength = I\n",
    "        setter.water_perm = eps\n",
    "        setter.hps_scale = ls\n",
    "        setter.get_hps_params()\n",
    "        setter.get_hps_pairs()\n",
    "        setter.write_hps_files()\n",
    "        \n",
    "for eps in eps_r:\n",
    "        for I in Is:\n",
    "            ls = 1.\n",
    "            o_wd = os.path.join(base_dir,f'{ls:.1f}ls-{I*1e3:.0f}I-{eps:.0f}e')\n",
    "            setter = lmpsetup.LMPSetup(oliba_wd=o_wd, seq=cpeb4_7D, temper=True)\n",
    "            setter.ionic_strength = I\n",
    "            setter.water_perm = eps\n",
    "            setter.hps_scale = ls\n",
    "            setter.get_hps_params()\n",
    "            setter.get_hps_pairs()\n",
    "            setter.write_hps_files()"
   ]
  },
  {
   "cell_type": "code",
   "execution_count": 97,
   "metadata": {},
   "outputs": [
    {
     "name": "stdout",
     "output_type": "stream",
     "text": [
      "Directory does not exist. Creating dir : /home/adria/perdiux/prod/lammps/dignon/12D_CPEB4/0.8ls-10I-80e\n",
      "hps_0.8ls-10I-80e\n",
      "Directory does not exist. Creating dir : /home/adria/perdiux/prod/lammps/dignon/12D_CPEB4/0.8ls-400I-80e\n",
      "hps_0.8ls-400I-80e\n",
      "Directory does not exist. Creating dir : /home/adria/perdiux/prod/lammps/dignon/12D_CPEB4/1.0ls-10I-80e\n",
      "hps_1.0ls-10I-80e\n",
      "Directory does not exist. Creating dir : /home/adria/perdiux/prod/lammps/dignon/12D_CPEB4/1.0ls-400I-80e\n",
      "hps_1.0ls-400I-80e\n",
      "Directory does not exist. Creating dir : /home/adria/perdiux/prod/lammps/dignon/12D_CPEB4/1.0ls-10I-10e\n",
      "hps_1.0ls-10I-10e\n",
      "Directory does not exist. Creating dir : /home/adria/perdiux/prod/lammps/dignon/12D_CPEB4/1.0ls-400I-10e\n",
      "hps_1.0ls-400I-10e\n",
      "hps_1.0ls-10I-80e\n",
      "hps_1.0ls-400I-80e\n"
     ]
    }
   ],
   "source": [
    "base_dir = '/home/adria/perdiux/prod/lammps/dignon/12D_CPEB4'\n",
    "for ls in lscales:\n",
    "    for I in Is:\n",
    "        eps = 80\n",
    "        o_wd = os.path.join(base_dir,f'{ls:.1f}ls-{I*1e3:.0f}I-{eps:.0f}e')\n",
    "        setter = lmpsetup.LMPSetup(oliba_wd=o_wd, seq=cpeb4_12D, temper=True)\n",
    "        setter.ionic_strength = I\n",
    "        setter.water_perm = eps\n",
    "        setter.hps_scale = ls\n",
    "        setter.get_hps_params()\n",
    "        setter.get_hps_pairs()\n",
    "        setter.write_hps_files()\n",
    "        \n",
    "for eps in eps_r:\n",
    "        for I in Is:\n",
    "            ls = 1.\n",
    "            o_wd = os.path.join(base_dir,f'{ls:.1f}ls-{I*1e3:.0f}I-{eps:.0f}e')\n",
    "            setter = lmpsetup.LMPSetup(oliba_wd=o_wd, seq=cpeb4_12D, temper=True)\n",
    "            setter.ionic_strength = I\n",
    "            setter.water_perm = eps\n",
    "            setter.hps_scale = ls\n",
    "            setter.get_hps_params()\n",
    "            setter.get_hps_pairs()\n",
    "            setter.write_hps_files()"
   ]
  },
  {
   "cell_type": "code",
   "execution_count": 98,
   "metadata": {},
   "outputs": [
    {
     "name": "stdout",
     "output_type": "stream",
     "text": [
      "Directory does not exist. Creating dir : /home/adria/perdiux/prod/lammps/dignon/CPEB4_D4/0.8ls-10I-80e\n",
      "hps_0.8ls-10I-80e\n",
      "Directory does not exist. Creating dir : /home/adria/perdiux/prod/lammps/dignon/CPEB4_D4/0.8ls-400I-80e\n",
      "hps_0.8ls-400I-80e\n",
      "Directory does not exist. Creating dir : /home/adria/perdiux/prod/lammps/dignon/CPEB4_D4/1.0ls-10I-80e\n",
      "hps_1.0ls-10I-80e\n",
      "Directory does not exist. Creating dir : /home/adria/perdiux/prod/lammps/dignon/CPEB4_D4/1.0ls-400I-80e\n",
      "hps_1.0ls-400I-80e\n",
      "Directory does not exist. Creating dir : /home/adria/perdiux/prod/lammps/dignon/CPEB4_D4/1.0ls-10I-10e\n",
      "hps_1.0ls-10I-10e\n",
      "Directory does not exist. Creating dir : /home/adria/perdiux/prod/lammps/dignon/CPEB4_D4/1.0ls-400I-10e\n",
      "hps_1.0ls-400I-10e\n",
      "hps_1.0ls-10I-80e\n",
      "hps_1.0ls-400I-80e\n"
     ]
    }
   ],
   "source": [
    "base_dir = '/home/adria/perdiux/prod/lammps/dignon/CPEB4_D4'\n",
    "for ls in lscales:\n",
    "    for I in Is:\n",
    "        eps = 80\n",
    "        o_wd = os.path.join(base_dir,f'{ls:.1f}ls-{I*1e3:.0f}I-{eps:.0f}e')\n",
    "        setter = lmpsetup.LMPSetup(oliba_wd=o_wd, seq=cpeb4_d4, temper=True)\n",
    "        setter.ionic_strength = I\n",
    "        setter.water_perm = eps\n",
    "        setter.hps_scale = ls\n",
    "        setter.get_hps_params()\n",
    "        setter.get_hps_pairs()\n",
    "        setter.write_hps_files()\n",
    "        \n",
    "for eps in eps_r:\n",
    "        for I in Is:\n",
    "            ls = 1.\n",
    "            o_wd = os.path.join(base_dir,f'{ls:.1f}ls-{I*1e3:.0f}I-{eps:.0f}e')\n",
    "            setter = lmpsetup.LMPSetup(oliba_wd=o_wd, seq=cpeb4_d4, temper=True)\n",
    "            setter.ionic_strength = I\n",
    "            setter.water_perm = eps\n",
    "            setter.hps_scale = ls\n",
    "            setter.get_hps_params()\n",
    "            setter.get_hps_pairs()\n",
    "            setter.write_hps_files()"
   ]
  },
  {
   "cell_type": "code",
   "execution_count": 120,
   "metadata": {},
   "outputs": [],
   "source": [
    "base_dir = '/home/adria/perdiux/prod/lammps/dignon/WT_CPEB4'\n",
    "for ls in lscales:\n",
    "    for I in Is:\n",
    "        eps = 80\n",
    "        o_wd = os.path.join(base_dir,f'{ls:.1f}ls-{I*1e3:.0f}I-{eps:.0f}e')\n",
    "        setter = lmpsetup.LMPSetup(oliba_wd=o_wd, seq=cpeb4_d4, temper=True)\n",
    "        setter.ionic_strength = I\n",
    "        setter.water_perm = eps\n",
    "        setter.hps_scale = ls\n",
    "        setter.get_hps_params()\n",
    "        setter.get_hps_pairs()\n",
    "        setter.write_hps_files()\n",
    "        \n",
    "for eps in eps_r:\n",
    "        for I in Is:\n",
    "            ls = 1.\n",
    "            o_wd = os.path.join(base_dir,f'{ls:.1f}ls-{I*1e3:.0f}I-{eps:.0f}e')\n",
    "            setter = lmpsetup.LMPSetup(oliba_wd=o_wd, seq=cpeb4_d4, temper=True)\n",
    "            setter.ionic_strength = I\n",
    "            setter.water_perm = eps\n",
    "            setter.hps_scale = ls\n",
    "            setter.get_hps_params()\n",
    "            setter.get_hps_pairs()\n",
    "            setter.write_hps_files()"
   ]
  },
  {
   "cell_type": "code",
   "execution_count": 1,
   "metadata": {},
   "outputs": [
    {
     "ename": "NameError",
     "evalue": "name 'lmp' is not defined",
     "output_type": "error",
     "traceback": [
      "\u001b[0;31m---------------------------------------------------------------------------\u001b[0m",
      "\u001b[0;31mNameError\u001b[0m                                 Traceback (most recent call last)",
      "\u001b[0;32m<ipython-input-1-717c0c365ab5>\u001b[0m in \u001b[0;36m<module>\u001b[0;34m\u001b[0m\n\u001b[1;32m      1\u001b[0m \u001b[0;31m#SCRAMBLING\u001b[0m\u001b[0;34m\u001b[0m\u001b[0;34m\u001b[0m\u001b[0;34m\u001b[0m\u001b[0m\n\u001b[0;32m----> 2\u001b[0;31m \u001b[0mscrambles\u001b[0m \u001b[0;34m=\u001b[0m \u001b[0mlmp\u001b[0m\u001b[0;34m.\u001b[0m\u001b[0mLMP\u001b[0m\u001b[0;34m(\u001b[0m\u001b[0moliba_wd\u001b[0m\u001b[0;34m=\u001b[0m\u001b[0;34m'.'\u001b[0m\u001b[0;34m)\u001b[0m\u001b[0;34m\u001b[0m\u001b[0;34m\u001b[0m\u001b[0m\n\u001b[0m\u001b[1;32m      3\u001b[0m \u001b[0mseqs\u001b[0m\u001b[0;34m,\u001b[0m \u001b[0mdeltas\u001b[0m\u001b[0;34m,\u001b[0m \u001b[0mscds\u001b[0m \u001b[0;34m=\u001b[0m \u001b[0mscrambles\u001b[0m\u001b[0;34m.\u001b[0m\u001b[0mcharge_scramble\u001b[0m\u001b[0;34m(\u001b[0m\u001b[0mcpeb4\u001b[0m\u001b[0;34m,\u001b[0m \u001b[0mkeep_positions\u001b[0m\u001b[0;34m=\u001b[0m\u001b[0;32mFalse\u001b[0m\u001b[0;34m,\u001b[0m \u001b[0mshuffles\u001b[0m\u001b[0;34m=\u001b[0m\u001b[0;36m1\u001b[0m\u001b[0;34m)\u001b[0m\u001b[0;34m\u001b[0m\u001b[0;34m\u001b[0m\u001b[0m\n\u001b[1;32m      4\u001b[0m \u001b[0;32mfor\u001b[0m \u001b[0mi\u001b[0m \u001b[0;32min\u001b[0m \u001b[0mrange\u001b[0m\u001b[0;34m(\u001b[0m\u001b[0mlen\u001b[0m\u001b[0;34m(\u001b[0m\u001b[0mseqs\u001b[0m\u001b[0;34m)\u001b[0m\u001b[0;34m)\u001b[0m\u001b[0;34m:\u001b[0m\u001b[0;34m\u001b[0m\u001b[0;34m\u001b[0m\u001b[0m\n\u001b[1;32m      5\u001b[0m     \u001b[0mprint\u001b[0m\u001b[0;34m(\u001b[0m\u001b[0;34mf'{deltas[i]:.2f} {scds[i]:.2f}'\u001b[0m\u001b[0;34m)\u001b[0m\u001b[0;34m\u001b[0m\u001b[0;34m\u001b[0m\u001b[0m\n",
      "\u001b[0;31mNameError\u001b[0m: name 'lmp' is not defined"
     ]
    }
   ],
   "source": [
    "#SCRAMBLING\n",
    "scrambles = lmp.LMP(oliba_wd='.')\n",
    "seqs, deltas, scds = scrambles.charge_scramble(cpeb4, keep_positions=False, shuffles=1)\n",
    "for i in range(len(seqs)):\n",
    "    print(f'{deltas[i]:.2f} {scds[i]:.2f}')"
   ]
  },
  {
   "cell_type": "code",
   "execution_count": 114,
   "metadata": {},
   "outputs": [
    {
     "name": "stdout",
     "output_type": "stream",
     "text": [
      "MDRYHFGVLVQSNTGNKEAFPVNHGHERQPHHKGQNATPSPAKFINNNTAAHHSSAGSHDLFPAPDHENIQNSILHSPRDSSHQDHQQQPLGKEQLSESPKEGHGILPPTRGEDKAGKQGEKSSLNGNGQAQHDIQEPVLTGFSYQDATGLGTSTQPLTSSASSLDGFSNWSAAIAPSSSTIINNPKSFHHKGEVPAASANNGALLFQNFPARVSPGFGGSFSDQIGPLSHAHPHPHRDDQHWSQTQQQIQSPAKPPPPPFTFHNAAFNQLPNLANELNSRPSPHKSYRSPSETRSSSWSPGGEGYGGWGGSQGREDQHGLNGEITPLRSISPLERNFASNFIQEKDYALPRREFAPASHMAISLNSAFRIFPFPNDPSTFQMTSLNSSLIRIMPARNETKSAGTYGAAHGDDSLHPMSGGFLWWGGGQQPLFSGLRSPPCFSPQNGQ 0.5667413151500392 6.316735247897127\n"
     ]
    }
   ],
   "source": [
    "print(seqs[-1], deltas[-1], scds[-1])"
   ]
  },
  {
   "cell_type": "code",
   "execution_count": 122,
   "metadata": {},
   "outputs": [
    {
     "name": "stdout",
     "output_type": "stream",
     "text": [
      "Directory does not exist. Creating dir : /home/adria/perdiux/prod/lammps/dignon/SCRAMBLES/1/1.0ls-10I-10e\n",
      "Directory does not exist. Creating dir : /home/adria/perdiux/prod/lammps/dignon/SCRAMBLES/1/1.0ls-10I-80e\n",
      "Directory does not exist. Creating dir : /home/adria/perdiux/prod/lammps/dignon/SCRAMBLES/1/1.0ls-400I-10e\n",
      "Directory does not exist. Creating dir : /home/adria/perdiux/prod/lammps/dignon/SCRAMBLES/1/1.0ls-400I-80e\n",
      "Directory does not exist. Creating dir : /home/adria/perdiux/prod/lammps/dignon/SCRAMBLES/2/1.0ls-10I-10e\n",
      "Directory does not exist. Creating dir : /home/adria/perdiux/prod/lammps/dignon/SCRAMBLES/2/1.0ls-10I-80e\n",
      "Directory does not exist. Creating dir : /home/adria/perdiux/prod/lammps/dignon/SCRAMBLES/2/1.0ls-400I-10e\n",
      "Directory does not exist. Creating dir : /home/adria/perdiux/prod/lammps/dignon/SCRAMBLES/2/1.0ls-400I-80e\n",
      "Directory does not exist. Creating dir : /home/adria/perdiux/prod/lammps/dignon/SCRAMBLES/3/1.0ls-10I-10e\n",
      "Directory does not exist. Creating dir : /home/adria/perdiux/prod/lammps/dignon/SCRAMBLES/3/1.0ls-10I-80e\n",
      "Directory does not exist. Creating dir : /home/adria/perdiux/prod/lammps/dignon/SCRAMBLES/3/1.0ls-400I-10e\n",
      "Directory does not exist. Creating dir : /home/adria/perdiux/prod/lammps/dignon/SCRAMBLES/3/1.0ls-400I-80e\n"
     ]
    }
   ],
   "source": [
    "# Movable positions, so close to a \"random\" protein\n",
    "scramble1 = 'MDRYHFGVLVQSNTGNKEAFPVNHGHERQPHHKGQNATPSPAKFINNNTAAHHSSAGSHDLFPAPDHENIQNSILHSPRDSSHQDHQQQPLGKEQLSESPKEGHGILPPTRGEDKAGKQGEKSSLNGNGQAQHDIQEPVLTGFSYQDATGLGTSTQPLTSSASSLDGFSNWSAAIAPSSSTIINNPKSFHHKGEVPAASANNGALLFQNFPARVSPGFGGSFSDQIGPLSHAHPHPHRDDQHWSQTQQQIQSPAKPPPPPFTFHNAAFNQLPNLANELNSRPSPHKSYRSPSETRSSSWSPGGEGYGGWGGSQGREDQHGLNGEITPLRSISPLERNFASNFIQEKDYALPRREFAPASHMAISLNSAFRIFPFPNDPSTFQMTSLNSSLIRIMPARNETKSAGTYGAAHGDDSLHPMSGGFLWWGGGQQPLFSGLRSPPCFSPQNGQ'\n",
    "# Fixed positions, kappa = 1\n",
    "scramble2 = 'MGDYGFGVLVQSNTGNESAFPVHFKPDLQPPREEQNATPSPAAFINNNTAANGSSAGSAWLFPAPATENIQEKILGSEDAKSQQQEQQDPLKEQQLSPSPGQRAGILPRTHKAHSKRNQGHNSSKNGNGHHKIRIHSPVLTGFHYQHATGLGTSTQPLTSSASSLTGFSNWSAAIAPSSSTIINEDASFFHQGGVPAASANNGALLFQNFPRHVSPGFGGSFSPQIGPLSQHHPDRPHFQHKKSQRQQQHRSPASPEPPPFTEENAAFNQLPDLANNLNDPPSPWSSYQSPSPTPSSSWSPGGGGYGGWGGSQGDKKHHGLNGGITPLNSISPLDENFASNDIQLQEYAKPSSAFAPRSWMRHSLNDAENIFPFPDEPKTFRMRSLDSSLIEIMHAHNRTIHARTYGHHRGQSSLFPMHHGFLDDGEGDQPLESGLGSPHCFSRQNGR'\n",
    "#Fixed positions, kappa = minimum\n",
    "scramble3 = 'MGKYGFGVLVQSNTGNHSAFPVHFEPHLQPPREKQNATPSPAAFINNNTAANGSSAGSAWLFPAPATDNIQDHILGSHRAESQQQDQQEPLREQQLSPSPGQKAGILPHTRDAHSDHNQGENSSHNGNGHKKIEIKSPVLTGFDYQHATGLGTSTQPLTSSASSLTGFSNWSAAIAPSSSTIINKHASFFKQGGVPAASANNGALLFQNFPHEVSPGFGGSFSPQIGPLSQHEPKRPRFQDRKSQEQQQHHSPASPKPPPFTRENAAFNQLPELANNLNEPPSPWSSYQSPSPTPSSSWSPGGGGYGGWGGSQGDHKDHGLNGGITPLNSISPLDHNFASNDIQLQEYARPSSAFAPHSWMDHSLNEAHNIFPFPKRPDTFHMRSLRSSLIHIMHADNRTIEAETYGKEHGQSSLFPMRDGFLDRGRGEQPLRSGLGSPRCFSDQNGH'\n",
    "\n",
    "scrambles = [scramble1, scramble2, scramble3]\n",
    "dirs = ['/home/adria/perdiux/prod/lammps/dignon/SCRAMBLES/1', '/home/adria/perdiux/prod/lammps/dignon/SCRAMBLES/2', '/home/adria/perdiux/prod/lammps/dignon/SCRAMBLES/3']\n",
    "\n",
    "for i, scr in enumerate(scrambles):\n",
    "    for I in Is:\n",
    "        for eps in eps_r:\n",
    "            ls = 1.\n",
    "            o_wd = os.path.join(dirs[i],f'{ls:.1f}ls-{I*1e3:.0f}I-{eps:.0f}e')\n",
    "            setter = lmpsetup.LMPSetup(oliba_wd=o_wd, seq=scr, temper=True)\n",
    "            setter.ionic_strength = I\n",
    "            setter.water_perm = eps\n",
    "            setter.hps_scale = ls\n",
    "            setter.get_hps_params()\n",
    "            setter.get_hps_pairs()\n",
    "            setter.write_hps_files()"
   ]
  },
  {
   "cell_type": "code",
   "execution_count": 117,
   "metadata": {},
   "outputs": [
    {
     "name": "stdout",
     "output_type": "stream",
     "text": [
      "Directory does not exist. Creating dir : /home/adria/perdiux/prod/lammps/dignon/L0_CPEB4/0ls-10I-10e\n",
      "Directory does not exist. Creating dir : /home/adria/perdiux/prod/lammps/dignon/L0_CPEB4/0ls-400I-10e\n"
     ]
    }
   ],
   "source": [
    "base_dir = '/home/adria/perdiux/prod/lammps/dignon/L0_CPEB4'\n",
    "for I in Is:\n",
    "    eps=10.\n",
    "    o_wd = os.path.join(base_dir,f'0ls-{I*1e3:.0f}I-{eps:.0f}e')\n",
    "    setter = lmpsetup.LMPSetup(oliba_wd=o_wd, seq=cpeb4, temper=True)\n",
    "    setter.ionic_strength = I\n",
    "    setter.water_perm = eps\n",
    "    setter.hps_scale = 0\n",
    "    setter.get_hps_params()\n",
    "    setter.get_hps_pairs()\n",
    "    setter.write_hps_files()"
   ]
  },
  {
   "cell_type": "code",
   "execution_count": null,
   "metadata": {},
   "outputs": [],
   "source": []
  },
  {
   "cell_type": "code",
   "execution_count": null,
   "metadata": {},
   "outputs": [],
   "source": []
  },
  {
   "cell_type": "code",
   "execution_count": null,
   "metadata": {},
   "outputs": [],
   "source": []
  },
  {
   "cell_type": "code",
   "execution_count": 108,
   "metadata": {},
   "outputs": [
    {
     "name": "stdout",
     "output_type": "stream",
     "text": [
      "hps_.\n",
      "hps_default_output\n",
      "[[500. 500. 500.]]\n",
      "-> Saving equilibration pdb at ../default_output/equilibration.pdb\n"
     ]
    }
   ],
   "source": [
    "importlib.reload(lmp);\n",
    "importlib.reload(lmpsetup);\n",
    "importlib.reload(analysis);\n",
    "\n",
    "#CPEB4 Equilibration\n",
    "cpeb4     = 'MGDYGFGVLVQSNTGNKSAFPVRFHPHLQPPHHHQNATPSPAAFINNNTAANGSSAGSAWLFPAPATHNIQDEILGSEKAKSQQQEQQDPLEKQQLSPSPGQEAGILPETEKAKSEENQGDNSSENGNGKEKIRIESPVLTGFDYQEATGLGTSTQPLTSSASSLTGFSNWSAAIAPSSSTIINEDASFFHQGGVPAASANNGALLFQNFPHHVSPGFGGSFSPQIGPLSQHHPHHPHFQHHHSQHQQQRRSPASPHPPPFTHRNAAFNQLPHLANNLNKPPSPWSSYQSPSPTPSSSWSPGGGGYGGWGGSQGRDHRRGLNGGITPLNSISPLKKNFASNHIQLQKYARPSSAFAPKSWMEDSLNRADNIFPFPDRPRTFDMHSLESSLIDIMRAENDTIKARTYGRRRGQSSLFPMEDGFLDDGRGDQPLHSGLGSPHCFSHQNGE'\n",
    "equil = lmpsetup.LMPSetup(oliba_wd='.', seq=cpeb4)\n",
    "# equil.get_equilibration_xyz(t=400000)\n",
    "equil.get_equilibration_xyz(t=400000)"
   ]
  },
  {
   "cell_type": "code",
   "execution_count": null,
   "metadata": {},
   "outputs": [],
   "source": []
  },
  {
   "cell_type": "code",
   "execution_count": null,
   "metadata": {},
   "outputs": [],
   "source": []
  },
  {
   "cell_type": "code",
   "execution_count": null,
   "metadata": {},
   "outputs": [],
   "source": []
  },
  {
   "cell_type": "code",
   "execution_count": null,
   "metadata": {},
   "outputs": [],
   "source": []
  }
 ],
 "metadata": {
  "kernelspec": {
   "display_name": "Python 3",
   "language": "python",
   "name": "python3"
  },
  "language_info": {
   "codemirror_mode": {
    "name": "ipython",
    "version": 3
   },
   "file_extension": ".py",
   "mimetype": "text/x-python",
   "name": "python",
   "nbconvert_exporter": "python",
   "pygments_lexer": "ipython3",
   "version": "3.7.4"
  }
 },
 "nbformat": 4,
 "nbformat_minor": 2
}
