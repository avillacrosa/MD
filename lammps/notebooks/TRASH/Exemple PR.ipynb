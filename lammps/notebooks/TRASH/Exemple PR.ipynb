{
 "cells": [
  {
   "cell_type": "code",
   "execution_count": 1,
   "metadata": {},
   "outputs": [],
   "source": [
    "#Us farà falta incloure aquestes llibreries al vostre PATH de Python.\n",
    "\n",
    "import lmpsetup\n",
    "\n",
    "import lmp\n",
    "import plotter\n",
    "import analysis"
   ]
  },
  {
   "cell_type": "markdown",
   "metadata": {},
   "source": [
    "### Exemple de setup"
   ]
  },
  {
   "cell_type": "markdown",
   "metadata": {},
   "source": [
    "Tinc el codi en un repositori de github. Per a baixar-lo n'hi hauria d'haver prou amb :"
   ]
  },
  {
   "cell_type": "markdown",
   "metadata": {},
   "source": [
    "`git clone https://github.com/avillacrosa/MD`"
   ]
  },
  {
   "cell_type": "markdown",
   "metadata": {},
   "source": [
    "Bàsicament són dues funcionalitats agrupades en 4 llibreries : crear nous fitxers d'output per a córrer el LAMMPS amb HPS i analitzar l'output de les simulacions. \n",
    "\n",
    "Per a generar-ne, usem lmpsetup. L'exemple més ràpid per a crear un setup senzill és"
   ]
  },
  {
   "cell_type": "code",
   "execution_count": null,
   "metadata": {},
   "outputs": [],
   "source": [
    "setter = lmpsetup.LMPSetup(oliba_wd='/home/adria/foo', temper=False, chains=1, protein='PR')\n",
    "setter.write_hps_files(equil=False, rerun=False, data=True, qsub=False, lmp=True, slurm=False, readme=False, rst=False)"
   ]
  },
  {
   "cell_type": "markdown",
   "metadata": {},
   "source": [
    "On **oliba_wd** és el directory on voleu córrer la simulació (si no existeix es crearà). Si voleu que sigui a les perdius cal que sigui un directory de perdiu muntat amb sshfs per exemple. \n",
    "\n",
    "Respecte al write\n",
    "\n",
    "- equil : .lmp per a equilibrar **(default=False)**\n",
    "\n",
    "- rerun : .lmp per a preparar un rerun **(default=False)**\n",
    "\n",
    "- data : .data per a la topologia **(default=True)**\n",
    "\n",
    "- qsub : .qsub per a enviar a les perdius **(default=True)**\n",
    "\n",
    "- lmp : .lmp per a córrer la simulació **(default=True)**\n",
    "\n",
    "- slurm : .slm per a córrer al csuc **(default=False)**\n",
    "\n",
    "- readme : .readme inclou dades de la simulació **(default=False)**\n",
    "\n",
    "- rst : .lmp per a fer un read_restart **(default=False)**\n",
    "\n",
    "A més a més, el programa sempre escriu un fitxer .pdb amb la topologia (actualment no funciona en un cas concret)"
   ]
  },
  {
   "cell_type": "markdown",
   "metadata": {},
   "source": [
    "Si volem canviar paràmetres de la simulació, cal accedir a diversos atributs de la classe LMPSetup. Els més importants (*n'hi ha més*) que tinc implementats ara i els seus **valors default** són :"
   ]
  },
  {
   "cell_type": "code",
   "execution_count": null,
   "metadata": {},
   "outputs": [],
   "source": [
    "setter.temperature = 300                              # Temperatura si no fem temper\n",
    "setter.temperatures = [300, 320, 340, 360, 380, 400]  # Temperatures per al temper\n",
    "setter.ionic_strength = 100e-3                        # Força iònica (M)\n",
    "setter.dt = 10.                                       # Timestep\n",
    "setter.t = 100000000                                  # Timesteps totals\n",
    "\n",
    "setter.box_size = 2500                                # Mida de la caixa\n",
    "setter.water_perm = 80.                               # Permitivitat relativa del medi\n",
    "setter.hps_scale = 1.0                                # Escala de l'HPS\n",
    "\n",
    "setter.v_seed = 494211                                # Random seed per a la velocitat\n",
    "setter.langevin_seed = 451618                         # Random seed per al termostat de Langevin\n",
    "setter.save = 50000                                   # Cada quant gravem la trajectòria I les dades termodinàmiques\n",
    "setter.langevin_damp = 10000                          # Esmorteïment del termostat de Langevin"
   ]
  },
  {
   "cell_type": "markdown",
   "metadata": {},
   "source": [
    "Per tant, per al cas de 2 cadenes de PR i un REX entre 400, 450, 500, a I=20mM, eps_rel=10 de durada 10000 timesteps amb cada timestep de 20 fs:"
   ]
  },
  {
   "cell_type": "code",
   "execution_count": 3,
   "metadata": {},
   "outputs": [],
   "source": [
    "setter = lmpsetup.LMPSetup(oliba_wd='/home/adria/foo', temper=True, chains=2, protein='PR')\n",
    "setter.temperatures = [400, 450, 500]\n",
    "setter.ionic_strength = 20e-3\n",
    "setter.water_perm = 10. \n",
    "setter.t = 10000\n",
    "setter.dt = 20.\n",
    "setter.write_hps_files()"
   ]
  },
  {
   "cell_type": "markdown",
   "metadata": {},
   "source": [
    "Per últim si es vol afegir una proteïna, cal incloure un fitxer amb el nom de la proteïna i amb extensió .seq (PR.seq en aquest cas) a `scripts/lammps/data/sequences` (en un futur tinc pensat poder introduir una nova proteina amb la seqüència i sense haver de crear el fitxer). En general al folder data hi ha a més de seqüències, les templates que s'usen per a construir els fitxers de lammps, pdb's d'equilibració i els valors del model HPS. "
   ]
  }
 ],
 "metadata": {
  "kernelspec": {
   "display_name": "Python 3",
   "language": "python",
   "name": "python3"
  },
  "language_info": {
   "codemirror_mode": {
    "name": "ipython",
    "version": 3
   },
   "file_extension": ".py",
   "mimetype": "text/x-python",
   "name": "python",
   "nbconvert_exporter": "python",
   "pygments_lexer": "ipython3",
   "version": "3.7.4"
  }
 },
 "nbformat": 4,
 "nbformat_minor": 2
}
