{
 "cells": [
  {
   "cell_type": "code",
   "execution_count": 34,
   "metadata": {},
   "outputs": [],
   "source": [
    "import mdtraj as md"
   ]
  },
  {
   "cell_type": "code",
   "execution_count": 35,
   "metadata": {},
   "outputs": [],
   "source": [
    "t = md.load('/home/adria/data/prod/lammps/12D_CPEB4_D4x50/T0/dcd_traj.dcd', top='/home/adria/data/prod/lammps/12D_CPEB4_D4x50/T0/topo.pdb')\n",
    "tr = t[::10]\n",
    "tr.save_netcdf(filename='/home/adria/Movies/12Dx50T0.netcdf')"
   ]
  },
  {
   "cell_type": "code",
   "execution_count": 36,
   "metadata": {},
   "outputs": [],
   "source": [
    "t = md.load('/home/adria/data/prod/lammps/12D_CPEB4_D4x50/T1/dcd_traj.dcd', top='/home/adria/data/prod/lammps/12D_CPEB4_D4x50/T1/topo.pdb')\n",
    "tr = t[::10]\n",
    "tr.save_netcdf(filename='/home/adria/Movies/12Dx50T1.netcdf')"
   ]
  },
  {
   "cell_type": "code",
   "execution_count": 37,
   "metadata": {},
   "outputs": [],
   "source": [
    "t = md.load('/home/adria/data/prod/lammps/CPEB4_D4x50/T0/dcd_traj.dcd', top='/home/adria/data/prod/lammps/12D_CPEB4_D4x50/T0/topo.pdb')\n",
    "tr = t[::10]\n",
    "tr.save_netcdf(filename='/home/adria/Movies/D4x50T0.netcdf')"
   ]
  },
  {
   "cell_type": "code",
   "execution_count": 38,
   "metadata": {},
   "outputs": [],
   "source": [
    "t = md.load('/home/adria/data/prod/lammps/CPEB4_D4x50/T1/dcd_traj.dcd', top='/home/adria/data/prod/lammps/12D_CPEB4_D4x50/T1/topo.pdb')\n",
    "tr = t[::10]\n",
    "tr.save_netcdf(filename='/home/adria/Movies/D4x50T1.netcdf')"
   ]
  },
  {
   "cell_type": "code",
   "execution_count": 39,
   "metadata": {},
   "outputs": [],
   "source": [
    "t = md.load('/home/adria/data/prod/lammps/7D_CPEB4x50/T0/dcd_traj.dcd', top='/home/adria/data/prod/lammps/7D_CPEB4x50/T0/topo.pdb')\n",
    "tr = t[::10]\n",
    "tr.save_netcdf(filename='/home/adria/Movies/7Dx50T0.netcdf')"
   ]
  },
  {
   "cell_type": "code",
   "execution_count": 40,
   "metadata": {},
   "outputs": [],
   "source": [
    "t = md.load('/home/adria/data/prod/lammps/7D_CPEB4x50/T1/dcd_traj.dcd', top='/home/adria/data/prod/lammps/7D_CPEB4x50/T1/topo.pdb')\n",
    "tr = t[::10]\n",
    "tr.save_netcdf(filename='/home/adria/Movies/7Dx50T1.netcdf')"
   ]
  },
  {
   "cell_type": "code",
   "execution_count": null,
   "metadata": {},
   "outputs": [],
   "source": []
  },
  {
   "cell_type": "code",
   "execution_count": null,
   "metadata": {},
   "outputs": [],
   "source": []
  },
  {
   "cell_type": "code",
   "execution_count": 42,
   "metadata": {},
   "outputs": [],
   "source": [
    "t = md.load('/home/adria/data/prod/lammps/12D_CPEB4_D4x2/reorder-0.dcd', top='/home/adria/data/prod/lammps/12D_CPEB4_D4x2/topo.pdb')\n",
    "tr = t[::10]\n",
    "tr.save_netcdf(filename='/home/adria/Movies/12Dx2T0.netcdf')"
   ]
  },
  {
   "cell_type": "code",
   "execution_count": 43,
   "metadata": {},
   "outputs": [],
   "source": [
    "t = md.load('/home/adria/data/prod/lammps/CPEB4_D4x2/reorder-0.dcd', top='/home/adria/data/prod/lammps/CPEB4_D4x2/topo.pdb')\n",
    "tr = t[::10]\n",
    "tr.save_netcdf(filename='/home/adria/Movies/D4x2T0.netcdf')"
   ]
  },
  {
   "cell_type": "code",
   "execution_count": 44,
   "metadata": {},
   "outputs": [],
   "source": [
    "t = md.load('/home/adria/data/prod/lammps/CPEB4x2/reorder-0.dcd', top='/home/adria/data/prod/lammps/CPEB4x2/topo.pdb')\n",
    "tr = t[::10]\n",
    "tr.save_netcdf(filename='/home/adria/Movies/WTx2T0.netcdf')"
   ]
  },
  {
   "cell_type": "code",
   "execution_count": 45,
   "metadata": {},
   "outputs": [],
   "source": [
    "t = md.load('/home/adria/data/prod/lammps/7D_CPEB4x2/reorder-0.dcd', top='/home/adria/data/prod/lammps/7D_CPEB4x2/topo.pdb')\n",
    "tr = t[::10]\n",
    "tr.save_netcdf(filename='/home/adria/Movies/7Dx2T0.netcdf')"
   ]
  },
  {
   "cell_type": "code",
   "execution_count": null,
   "metadata": {},
   "outputs": [],
   "source": []
  },
  {
   "cell_type": "code",
   "execution_count": 51,
   "metadata": {},
   "outputs": [],
   "source": [
    "t = md.load('/home/adria/data/prod/lammps/12D_CPEB4_D4x2/reorder-8.dcd', top='/home/adria/data/prod/lammps/12D_CPEB4_D4x2/topo.pdb')\n",
    "tr = t[::10]\n",
    "tr.save_netcdf(filename='/home/adria/Movies/12Dx2T8.netcdf')"
   ]
  },
  {
   "cell_type": "code",
   "execution_count": 52,
   "metadata": {},
   "outputs": [],
   "source": [
    "t = md.load('/home/adria/data/prod/lammps/CPEB4_D4x2/reorder-8.dcd', top='/home/adria/data/prod/lammps/CPEB4_D4x2/topo.pdb')\n",
    "tr = t[::10]\n",
    "tr.save_netcdf(filename='/home/adria/Movies/D4x2T8.netcdf')"
   ]
  },
  {
   "cell_type": "code",
   "execution_count": 53,
   "metadata": {},
   "outputs": [],
   "source": [
    "t = md.load('/home/adria/data/prod/lammps/CPEB4x2/reorder-8.dcd', top='/home/adria/data/prod/lammps/CPEB4x2/topo.pdb')\n",
    "tr = t[::10]\n",
    "tr.save_netcdf(filename='/home/adria/Movies/WTx2T8.netcdf')"
   ]
  },
  {
   "cell_type": "code",
   "execution_count": 54,
   "metadata": {},
   "outputs": [],
   "source": [
    "t = md.load('/home/adria/data/prod/lammps/7D_CPEB4x2/reorder-8.dcd', top='/home/adria/data/prod/lammps/7D_CPEB4x2/topo.pdb')\n",
    "tr = t[::10]\n",
    "tr.save_netcdf(filename='/home/adria/Movies/7Dx2T8.netcdf')"
   ]
  },
  {
   "cell_type": "code",
   "execution_count": null,
   "metadata": {},
   "outputs": [],
   "source": []
  }
 ],
 "metadata": {
  "kernelspec": {
   "display_name": "Python 3",
   "language": "python",
   "name": "python3"
  },
  "language_info": {
   "codemirror_mode": {
    "name": "ipython",
    "version": 3
   },
   "file_extension": ".py",
   "mimetype": "text/x-python",
   "name": "python",
   "nbconvert_exporter": "python",
   "pygments_lexer": "ipython3",
   "version": "3.7.4"
  }
 },
 "nbformat": 4,
 "nbformat_minor": 2
}
