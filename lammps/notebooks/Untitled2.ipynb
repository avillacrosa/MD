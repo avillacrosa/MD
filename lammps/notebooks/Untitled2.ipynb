{
 "cells": [
  {
   "cell_type": "code",
   "execution_count": 1,
   "metadata": {},
   "outputs": [],
   "source": [
    "import numpy as np\n",
    "import matplotlib.pyplot as plt\n",
    "import sys\n",
    "import math\n",
    "sys.path.insert(1, '../utils')\n",
    "import conversion"
   ]
  },
  {
   "cell_type": "code",
   "execution_count": 2,
   "metadata": {},
   "outputs": [],
   "source": [
    "dirc = '/home/adria/oliba/perdiux/prod/lammps/dignon/I_cpeb4/0.103'\n",
    "data = conversion.getLMPthermo(dirc)"
   ]
  },
  {
   "cell_type": "code",
   "execution_count": 3,
   "metadata": {},
   "outputs": [],
   "source": [
    "og_data = np.array(data[0][0])"
   ]
  },
  {
   "cell_type": "code",
   "execution_count": 4,
   "metadata": {},
   "outputs": [
    {
     "name": "stdout",
     "output_type": "stream",
     "text": [
      "422.1013205942307\n",
      "391.24271541517084\n",
      "388.0592250751313\n",
      "390.9487779152665\n",
      "388.240323985177\n",
      "389.8100153190108\n",
      "394.67008533971244\n",
      "391.18881456853416\n",
      "390.3694389459784\n"
     ]
    }
   ],
   "source": [
    "totalE = og_data[:,1] + og_data[:,2]\n",
    "n_blocks = 10\n",
    "blocks = np.linspace(0,totalE.shape, n_blocks, dtype='int')\n",
    "for i in range(1, blocks.shape[0]):\n",
    "    print(totalE[blocks[i - 1][0]:blocks[i][0]].mean())"
   ]
  },
  {
   "cell_type": "code",
   "execution_count": 5,
   "metadata": {},
   "outputs": [
    {
     "name": "stdout",
     "output_type": "stream",
     "text": [
      "(array([[[ 0.0000000e+00, -3.8067227e+01,  3.9972663e+02,  3.0000000e+02,\n",
      "          4.9321388e+02],\n",
      "        [ 5.0000000e+03,  9.8897645e+01,  4.2858371e+02,  3.2165761e+02,\n",
      "          4.3611484e+02],\n",
      "        [ 1.0000000e+04,  9.3989333e+01,  3.8117665e+02,  2.8607800e+02,\n",
      "          4.1110105e+02],\n",
      "        ...,\n",
      "        [ 1.9685000e+07, -1.0002246e+01,  4.2265308e+02,  3.1720660e+02,\n",
      "          3.1582135e+01],\n",
      "        [ 1.9690000e+07,  3.0908025e+00,  4.1730269e+02,  3.1319106e+02,\n",
      "          3.0683640e+01],\n",
      "        [ 1.9695000e+07, -9.8043602e+00,  3.9268397e+02,  2.9471440e+02,\n",
      "          2.9860478e+01]]]), [1])\n",
      "406.5563828764943\n",
      "392.2628745975396\n",
      "391.2025531027716\n",
      "389.9458693060468\n",
      "393.2561287896997\n",
      "390.77536385773385\n",
      "389.6487358114144\n",
      "389.7890159858823\n",
      "nan\n"
     ]
    },
    {
     "name": "stderr",
     "output_type": "stream",
     "text": [
      "/home/adria/miniconda3/lib/python3.7/site-packages/ipykernel_launcher.py:9: RuntimeWarning: Mean of empty slice.\n",
      "  if __name__ == '__main__':\n",
      "/home/adria/miniconda3/lib/python3.7/site-packages/numpy/core/_methods.py:161: RuntimeWarning: invalid value encountered in double_scalars\n",
      "  ret = ret.dtype.type(ret / rcount)\n"
     ]
    }
   ],
   "source": [
    "dirt = '/home/adria/oliba/perdiux/prod/lammps/dignon/TEST/dt20'\n",
    "data_test = conversion.getLMPthermo(dirt)\n",
    "print(data_test)\n",
    "og_data_test = np.array(data_test[0][0])\n",
    "totalE_test = og_data_test[:,1] + og_data_test[:,2]\n",
    "n_blocks_test = 10\n",
    "blocks_test = np.linspace(0,totalE.shape, n_blocks, dtype='int')\n",
    "for i in range(1, blocks_test.shape[0]):\n",
    "    print(totalE_test[blocks_test[i - 1][0]:blocks_test[i][0]].mean())"
   ]
  },
  {
   "cell_type": "code",
   "execution_count": null,
   "metadata": {},
   "outputs": [],
   "source": []
  },
  {
   "cell_type": "code",
   "execution_count": null,
   "metadata": {},
   "outputs": [],
   "source": []
  }
 ],
 "metadata": {
  "kernelspec": {
   "display_name": "Python 3",
   "language": "python",
   "name": "python3"
  },
  "language_info": {
   "codemirror_mode": {
    "name": "ipython",
    "version": 3
   },
   "file_extension": ".py",
   "mimetype": "text/x-python",
   "name": "python",
   "nbconvert_exporter": "python",
   "pygments_lexer": "ipython3",
   "version": "3.7.3"
  }
 },
 "nbformat": 4,
 "nbformat_minor": 2
}
