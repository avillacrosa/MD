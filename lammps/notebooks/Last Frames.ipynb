{
 "cells": [
  {
   "cell_type": "code",
   "execution_count": 4,
   "metadata": {},
   "outputs": [],
   "source": [
    "import os\n",
    "import mdtraj as md\n",
    "\n",
    "wd = '/home/adria/data/prod/lammps/12D_CPEB4_D4x50/REX'\n",
    "temps = [11]\n",
    "for T in temps:\n",
    "    tr = md.load(os.path.join(wd,f'reorder-{T}.dcd'), top=os.path.join(wd,'topo.pdb'))"
   ]
  },
  {
   "cell_type": "code",
   "execution_count": 5,
   "metadata": {},
   "outputs": [
    {
     "data": {
      "text/plain": [
       "<mdtraj.Trajectory with 2019 frames, 22000 atoms, 22000 residues, and unitcells at 0x7f439e0bea10>"
      ]
     },
     "execution_count": 5,
     "metadata": {},
     "output_type": "execute_result"
    }
   ],
   "source": [
    "tr"
   ]
  },
  {
   "cell_type": "code",
   "execution_count": 7,
   "metadata": {},
   "outputs": [],
   "source": [
    "tr[-200:].save_xtc('/home/adria/12DT11.xtc')"
   ]
  },
  {
   "cell_type": "code",
   "execution_count": null,
   "metadata": {},
   "outputs": [],
   "source": []
  },
  {
   "cell_type": "code",
   "execution_count": 8,
   "metadata": {},
   "outputs": [],
   "source": [
    "import os\n",
    "import mdtraj as md\n",
    "\n",
    "wd = '/home/adria/data/prod/lammps/7D_CPEB4x50/REX'\n",
    "temps = [11]\n",
    "for T in temps:\n",
    "    tr = md.load(os.path.join(wd,f'reorder-{T}.dcd'), top=os.path.join(wd,'topo.pdb'))"
   ]
  },
  {
   "cell_type": "code",
   "execution_count": 10,
   "metadata": {},
   "outputs": [],
   "source": [
    "tr[-200:].save_lammpstrj('/home/adria/7DT11.lammpstrj')"
   ]
  },
  {
   "cell_type": "code",
   "execution_count": null,
   "metadata": {},
   "outputs": [],
   "source": []
  }
 ],
 "metadata": {
  "kernelspec": {
   "display_name": "Python 3",
   "language": "python",
   "name": "python3"
  },
  "language_info": {
   "codemirror_mode": {
    "name": "ipython",
    "version": 3
   },
   "file_extension": ".py",
   "mimetype": "text/x-python",
   "name": "python",
   "nbconvert_exporter": "python",
   "pygments_lexer": "ipython3",
   "version": "3.7.4"
  }
 },
 "nbformat": 4,
 "nbformat_minor": 2
}
