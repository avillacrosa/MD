{
 "cells": [
  {
   "cell_type": "code",
   "execution_count": 1,
   "metadata": {},
   "outputs": [],
   "source": [
    "%load_ext autoreload\n",
    "%autoreload 2\n",
    "import analysis"
   ]
  },
  {
   "cell_type": "code",
   "execution_count": 2,
   "metadata": {},
   "outputs": [
    {
     "name": "stdout",
     "output_type": "stream",
     "text": [
      "> Run Completed at 16.55% for 12D_CPEB4_D4. Ran 16550000 steps for a total of 332 frames \n",
      "> Taking frames every 1 for a total of 1000 to avoid strong correlations\n"
     ]
    }
   ],
   "source": [
    "analysis.Analysis(oliba_wd='/home/adria/data/prod/lammps/HPS/EXPANDED-REX-CPEB4/12D', equil_frames=0).save_movies()"
   ]
  },
  {
   "cell_type": "code",
   "execution_count": 3,
   "metadata": {},
   "outputs": [
    {
     "name": "stdout",
     "output_type": "stream",
     "text": [
      "> Run Completed at 12.60% for 7D_CPEB4. Ran 12600000 steps for a total of 253 frames \n",
      "> Taking frames every 1 for a total of 1000 to avoid strong correlations\n"
     ]
    }
   ],
   "source": [
    "analysis.Analysis(oliba_wd='/home/adria/data/prod/lammps/HPS/EXPANDED-REX-CPEB4/7D', equil_frames=0).save_movies()"
   ]
  },
  {
   "cell_type": "code",
   "execution_count": 4,
   "metadata": {},
   "outputs": [
    {
     "name": "stdout",
     "output_type": "stream",
     "text": [
      "> Run Completed at 14.80% for CPEB4_D4. Ran 14800000 steps for a total of 297 frames \n",
      "> Taking frames every 1 for a total of 1000 to avoid strong correlations\n"
     ]
    }
   ],
   "source": [
    "analysis.Analysis(oliba_wd='/home/adria/data/prod/lammps/HPS/EXPANDED-REX-CPEB4/D4', equil_frames=0).save_movies()"
   ]
  },
  {
   "cell_type": "code",
   "execution_count": 5,
   "metadata": {},
   "outputs": [
    {
     "name": "stdout",
     "output_type": "stream",
     "text": [
      "> Run Completed at 13.40% for CPEB4. Ran 13400000 steps for a total of 269 frames \n",
      "> Taking frames every 1 for a total of 1000 to avoid strong correlations\n"
     ]
    }
   ],
   "source": [
    "analysis.Analysis(oliba_wd='/home/adria/data/prod/lammps/HPS/EXPANDED-REX-CPEB4/WT', equil_frames=0).save_movies()"
   ]
  },
  {
   "cell_type": "code",
   "execution_count": null,
   "metadata": {},
   "outputs": [],
   "source": []
  }
 ],
 "metadata": {
  "kernelspec": {
   "display_name": "Python 3",
   "language": "python",
   "name": "python3"
  },
  "language_info": {
   "codemirror_mode": {
    "name": "ipython",
    "version": 3
   },
   "file_extension": ".py",
   "mimetype": "text/x-python",
   "name": "python",
   "nbconvert_exporter": "python",
   "pygments_lexer": "ipython3",
   "version": "3.7.4"
  }
 },
 "nbformat": 4,
 "nbformat_minor": 2
}
