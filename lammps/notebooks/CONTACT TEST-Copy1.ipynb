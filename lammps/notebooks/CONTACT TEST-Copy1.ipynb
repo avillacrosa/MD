{
 "cells": [
  {
   "cell_type": "code",
   "execution_count": 2,
   "metadata": {},
   "outputs": [
    {
     "name": "stdout",
     "output_type": "stream",
     "text": [
      "The autoreload extension is already loaded. To reload it, use:\n",
      "  %reload_ext autoreload\n"
     ]
    }
   ],
   "source": [
    "%load_ext autoreload\n",
    "%autoreload 2\n",
    "import warnings \n",
    "warnings.filterwarnings('ignore')\n",
    "\n",
    "import lmp\n",
    "import plotter\n",
    "import analysis\n",
    "import lmpsetup\n",
    "import numpy as np"
   ]
  },
  {
   "cell_type": "code",
   "execution_count": 5,
   "metadata": {},
   "outputs": [
    {
     "name": "stdout",
     "output_type": "stream",
     "text": [
      "xtc_traj_00\n",
      "xtc_traj_01\n",
      "xtc_traj_02\n",
      "xtc_traj_03\n",
      "xtc_traj_04\n",
      "xtc_traj_05\n",
      "xtc_traj_06\n",
      "xtc_traj_07\n",
      "xtc_traj_08\n",
      "xtc_traj_09\n",
      "xtc_traj_10\n",
      "xtc_traj_11\n",
      "xtc_traj_12\n",
      "xtc_traj_13\n",
      "xtc_traj_14\n",
      "xtc_traj_15\n",
      "xtc_traj_16\n",
      "xtc_traj_17\n",
      "xtc_traj_18\n",
      "xtc_traj_19\n",
      "xtc_traj_20\n",
      "xtc_traj_21\n",
      "xtc_traj_22\n",
      "xtc_traj_23\n",
      "xtc_traj_24\n",
      "xtc_traj_25\n",
      "xtc_traj_26\n",
      "xtc_traj_27\n",
      "xtc_traj_28\n",
      "xtc_traj_29\n",
      "xtc_traj_30\n",
      "xtc_traj_31\n",
      "xtc_traj_32\n",
      "xtc_traj_33\n",
      "xtc_traj_34\n",
      "xtc_traj_35\n",
      "xtc_traj_36\n",
      "xtc_traj_37\n",
      "xtc_traj_38\n",
      "xtc_traj_39\n",
      "xtc_traj_40\n",
      "xtc_traj_41\n",
      "xtc_traj_42\n",
      "xtc_traj_43\n",
      "xtc_traj_44\n",
      "xtc_traj_45\n",
      "xtc_traj_46\n",
      "xtc_traj_47\n",
      "xtc_traj_48\n",
      "xtc_traj_49\n"
     ]
    }
   ],
   "source": [
    "for i in range(0,50):\n",
    "    print(f'xtc_traj_{i:02d}')"
   ]
  },
  {
   "cell_type": "code",
   "execution_count": null,
   "metadata": {},
   "outputs": [],
   "source": []
  }
 ],
 "metadata": {
  "kernelspec": {
   "display_name": "Python 3",
   "language": "python",
   "name": "python3"
  },
  "language_info": {
   "codemirror_mode": {
    "name": "ipython",
    "version": 3
   },
   "file_extension": ".py",
   "mimetype": "text/x-python",
   "name": "python",
   "nbconvert_exporter": "python",
   "pygments_lexer": "ipython3",
   "version": "3.7.4"
  }
 },
 "nbformat": 4,
 "nbformat_minor": 2
}
