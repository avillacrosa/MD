{
 "cells": [
  {
   "cell_type": "code",
   "execution_count": 1,
   "metadata": {},
   "outputs": [],
   "source": [
    "%load_ext autoreload\n",
    "%autoreload 2\n",
    "import warnings \n",
    "warnings.filterwarnings('ignore')\n",
    "\n",
    "import lmp\n",
    "import plotter\n",
    "import analysis\n",
    "import lmpsetup\n",
    "import numpy as np"
   ]
  },
  {
   "cell_type": "markdown",
   "metadata": {},
   "source": [
    "# Summary"
   ]
  },
  {
   "cell_type": "markdown",
   "metadata": {},
   "source": [
    "The main points of focus of this week are the same as last weeks, since the two last points were not achieved :\n",
    "\n",
    "1. Compare the CPEB4 analogs to obtain possible differences in **radius of gyration** and **contacts** between them. In particular, we want to compare 12D_CPEB4_D4 vs CPEB4_D4 and 7D_CPEB4 vs CPEB4. \n",
    "\n",
    "\n",
    "2. Perform a simplistic minimization of parameters to **maximize the distance between the radius of gyration of the CPEB4 analogs to obtain which I, HPS Scale and epsilon give a clearest difference between the analogs.**\n",
    "\n",
    "\n",
    "3. Finally, initiate the analysis of multichain simulations (x2 and x5), **trying** to find the **interchain contacts** and possibly the **binodals of all analogs**."
   ]
  },
  {
   "cell_type": "markdown",
   "metadata": {},
   "source": [
    "### 1. CPEB4 Analogs comparison"
   ]
  },
  {
   "cell_type": "markdown",
   "metadata": {},
   "source": [
    "We just wish to include here the CPEB4x2 and CPEB4x5 cases:"
   ]
  },
  {
   "cell_type": "code",
   "execution_count": 2,
   "metadata": {},
   "outputs": [],
   "source": [
    "d = '/home/adria/perdiux/prod/lammps/dignon/CPEB4x2/'\n",
    "protein = 'CPEB4'\n",
    "small_set = lmpsetup.LMPSetup(oliba_wd=d, protein=protein, chains=2, temper=True)\n",
    "small_set.temperatures = np.round(np.linspace(300,500,12), 2).tolist()\n",
    "small_set.get_hps_pairs()\n",
    "small_set.write_hps_files(slurm=False)"
   ]
  },
  {
   "cell_type": "code",
   "execution_count": 3,
   "metadata": {},
   "outputs": [],
   "source": [
    "d = '/home/adria/perdiux/prod/lammps/dignon/CPEB4x5/'\n",
    "protein = 'CPEB4'\n",
    "small_set = lmpsetup.LMPSetup(oliba_wd=d, protein=protein, chains=5, temper=True)\n",
    "small_set.temperatures = np.round(np.linspace(300,500,12), 2).tolist()\n",
    "small_set.get_hps_pairs()\n",
    "small_set.write_hps_files(slurm=False)"
   ]
  },
  {
   "cell_type": "markdown",
   "metadata": {},
   "source": [
    "Analysis goes as follows : "
   ]
  },
  {
   "cell_type": "code",
   "execution_count": null,
   "metadata": {},
   "outputs": [],
   "source": []
  },
  {
   "cell_type": "markdown",
   "metadata": {},
   "source": [
    "### 2. Optimization of the difference between Rg of analogs"
   ]
  },
  {
   "cell_type": "markdown",
   "metadata": {},
   "source": [
    "Here we want to sort of maximize the difference between radius of gyrations of CPEB4 analogs at a fixed temperature to define what experimental parameters are to be studied when considering criticality. We can minimize using my own methods :"
   ]
  },
  {
   "cell_type": "code",
   "execution_count": 39,
   "metadata": {
    "scrolled": false
   },
   "outputs": [
    {
     "name": "stdout",
     "output_type": "stream",
     "text": [
      "Swapping progress : 99.99 %RGI,REWRG 33.5175713479909 33.51784883998984\n"
     ]
    }
   ],
   "source": [
    "minimizer = analysis.Analysis(oliba_wd=None)\n",
    "min_result = minimizer.minimize_I_ls(a_dir='/home/adria/data/prod/lammps/12D_CPEB4_D4/x1/1.0ls-100I-80e', b_dir='/home/adria/data/prod/lammps/CPEB4_D4/x1/1.0ls-100I-80e')"
   ]
  },
  {
   "cell_type": "code",
   "execution_count": null,
   "metadata": {},
   "outputs": [
    {
     "name": "stdout",
     "output_type": "stream",
     "text": [
      "Swapping progress : 100.00 %wapping progress : 0.00 %"
     ]
    }
   ],
   "source": [
    "minimizer = analysis.Analysis(oliba_wd=None)\n",
    "min_result = minimizer.minimize_I_ls(a_dir='/home/adria/data/prod/lammps/12D_CPEB4_D4/1.0ls-100I-80e', b_dir='/home/adria/data/prod/lammps/CPEB4_D4/1.0ls-100I-80e')"
   ]
  },
  {
   "cell_type": "code",
   "execution_count": null,
   "metadata": {},
   "outputs": [],
   "source": []
  }
 ],
 "metadata": {
  "kernelspec": {
   "display_name": "Python 3",
   "language": "python",
   "name": "python3"
  },
  "language_info": {
   "codemirror_mode": {
    "name": "ipython",
    "version": 3
   },
   "file_extension": ".py",
   "mimetype": "text/x-python",
   "name": "python",
   "nbconvert_exporter": "python",
   "pygments_lexer": "ipython3",
   "version": "3.7.4"
  }
 },
 "nbformat": 4,
 "nbformat_minor": 2
}
