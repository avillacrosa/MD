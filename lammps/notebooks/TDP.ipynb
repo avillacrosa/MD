{
 "cells": [
  {
   "cell_type": "code",
   "execution_count": 3,
   "metadata": {},
   "outputs": [
    {
     "name": "stdout",
     "output_type": "stream",
     "text": [
      "The autoreload extension is already loaded. To reload it, use:\n",
      "  %reload_ext autoreload\n"
     ]
    }
   ],
   "source": [
    "%load_ext autoreload\n",
    "%autoreload 2\n",
    "import analysis\n",
    "import shutil\n",
    "import os"
   ]
  },
  {
   "cell_type": "code",
   "execution_count": null,
   "metadata": {
    "scrolled": false
   },
   "outputs": [
    {
     "name": "stdout",
     "output_type": "stream",
     "text": [
      "> Run Completed at 2.59% for TDP43. Ran 25905000 steps for a total of 5182 frames \n",
      "> Taking frames every 2 for a total of 1000 to avoid strong correlations\n",
      "iRg 30.54787991772586\n"
     ]
    }
   ],
   "source": [
    "residues = 'GAVLMIFYWKRHDESTCNQP'\n",
    "seq = 'GNSRGGGAGLGNNQGSNMGGGMNFGAFSINPAMMAAAQAALQSSWGMMGMLASQQNQSGPSGNNQNQGNMQREPNQAFGSGNNS'\n",
    "\n",
    "temp_dir = '/home/adria/TDP'\n",
    "T=3\n",
    "\n",
    "tdp = analysis.Analysis(oliba_wd='/home/adria/data/prod/lammps/TDP-BIG')\n",
    "shutil.copyfile(os.path.join(tdp.o_wd, f'reorder-{T}.lammpstrj'), os.path.join(temp_dir, f'atom_traj_tdp.lammpstrj'))\n",
    "\n",
    "print(\"iRg\", tdp.rg().mean(axis=1)[3])\n",
    "for i in range(len(seq)):\n",
    "    for r in residues:\n",
    "        new_seq = seq[:i] + r + seq[i + 1:]\n",
    "        rerun_rg, lmp_rg, rew_rg, n_eff = tdp.topo_minimize(T=T, new_seq=new_seq, temp_dir=temp_dir)\n",
    "        with open(\"/home/adria/scripts/data/TDPrew.txt\", 'a+') as seqf:\n",
    "            seqf.write(f'{rerun_rg} {lmp_rg} {rew_rg} {n_eff} {new_seq}\\n')"
   ]
  },
  {
   "cell_type": "code",
   "execution_count": null,
   "metadata": {},
   "outputs": [],
   "source": []
  },
  {
   "cell_type": "code",
   "execution_count": 2,
   "metadata": {},
   "outputs": [
    {
     "name": "stdout",
     "output_type": "stream",
     "text": [
      "sdasda\n"
     ]
    }
   ],
   "source": [
    "a = \"\"\n",
    "print(f\"sdasda{a}\")"
   ]
  }
 ],
 "metadata": {
  "kernelspec": {
   "display_name": "Python 3",
   "language": "python",
   "name": "python3"
  },
  "language_info": {
   "codemirror_mode": {
    "name": "ipython",
    "version": 3
   },
   "file_extension": ".py",
   "mimetype": "text/x-python",
   "name": "python",
   "nbconvert_exporter": "python",
   "pygments_lexer": "ipython3",
   "version": "3.7.4"
  }
 },
 "nbformat": 4,
 "nbformat_minor": 2
}
