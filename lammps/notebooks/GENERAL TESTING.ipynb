{
 "cells": [
  {
   "cell_type": "code",
   "execution_count": 67,
   "metadata": {},
   "outputs": [
    {
     "name": "stdout",
     "output_type": "stream",
     "text": [
      "Swapping progress 0.0%\r",
      "Swapping progress 20.0%\r",
      "Swapping progress 40.0%\r",
      "Swapping progress 60.0%\r",
      "Swapping progress 80.0%\r",
      "                                        \r",
      "A\n"
     ]
    }
   ],
   "source": [
    "import sys\n",
    "for i in range(0,5):\n",
    "    print(f'Swapping progress {i/5:2.1%}', end='\\r')\n",
    "    \n",
    "print(\" \"*40, end='\\r')\n"
   ]
  },
  {
   "cell_type": "code",
   "execution_count": null,
   "metadata": {},
   "outputs": [],
   "source": []
  }
 ],
 "metadata": {
  "kernelspec": {
   "display_name": "Python 3",
   "language": "python",
   "name": "python3"
  },
  "language_info": {
   "codemirror_mode": {
    "name": "ipython",
    "version": 3
   },
   "file_extension": ".py",
   "mimetype": "text/x-python",
   "name": "python",
   "nbconvert_exporter": "python",
   "pygments_lexer": "ipython3",
   "version": "3.7.4"
  }
 },
 "nbformat": 4,
 "nbformat_minor": 2
}
