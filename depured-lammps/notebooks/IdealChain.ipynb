{
 "cells": [
  {
   "cell_type": "code",
   "execution_count": 1,
   "metadata": {},
   "outputs": [],
   "source": [
    "import numpy as np\n",
    "import random\n",
    "import math\n",
    "import matplotlib.pyplot as plt"
   ]
  },
  {
   "cell_type": "code",
   "execution_count": 2,
   "metadata": {},
   "outputs": [],
   "source": [
    "def rg(positions):\n",
    "    posnp = np.array(positions)\n",
    "    rmean = [posnp[:,0].mean(0), posnp[:,1].mean(0), posnp[:,2].mean(0)]\n",
    "    rmean = np.array(rmean)\n",
    "    rg = 0\n",
    "    for pos in positions:\n",
    "        rg+= (pos[0] - rmean[0])**2 + (pos[1] - rmean[1])**2 + (pos[2] - rmean[2])**2\n",
    "    return math.sqrt(rg/len(positions))"
   ]
  },
  {
   "cell_type": "code",
   "execution_count": 3,
   "metadata": {},
   "outputs": [],
   "source": [
    "n = 448\n",
    "bond_length = 3.8\n",
    "steps = 500000"
   ]
  },
  {
   "cell_type": "code",
   "execution_count": 4,
   "metadata": {},
   "outputs": [],
   "source": [
    "positions = np.zeros(shape=(n,3))\n",
    "x = 0\n",
    "for pos in range(n):\n",
    "    positions[pos][0] = 3.8*pos"
   ]
  },
  {
   "cell_type": "code",
   "execution_count": 5,
   "metadata": {
    "scrolled": true
   },
   "outputs": [],
   "source": [
    "rgs = []\n",
    "for step in range(steps):\n",
    "    r_pos = random.randrange(n)\n",
    "    rx = np.random.normal(0,1,1)[0]\n",
    "    ry = np.random.normal(0,1,1)[0]\n",
    "    rz = np.random.normal(0,1,1)[0]\n",
    "    r = np.sqrt(rx*rx+ry*ry+rz*rz)\n",
    "    rx = rx/r\n",
    "    ry = ry/r\n",
    "    rz = rz/r\n",
    "    for mods in range(r_pos,n):\n",
    "        positions[mods][0] = positions[mods-1][0] + rx\n",
    "        positions[mods][1] = positions[mods-1][1] + ry\n",
    "        positions[mods][2] = positions[mods-1][2] + rz\n",
    "    rgs.append(rg(positions))"
   ]
  },
  {
   "cell_type": "code",
   "execution_count": 6,
   "metadata": {},
   "outputs": [
    {
     "name": "stderr",
     "output_type": "stream",
     "text": [
      "IOPub data rate exceeded.\n",
      "The notebook server will temporarily stop sending output\n",
      "to the client in order to avoid crashing it.\n",
      "To change this limit, set the config variable\n",
      "`--NotebookApp.iopub_data_rate_limit`.\n",
      "\n",
      "Current values:\n",
      "NotebookApp.iopub_data_rate_limit=1000000.0 (bytes/sec)\n",
      "NotebookApp.rate_limit_window=3.0 (secs)\n",
      "\n"
     ]
    }
   ],
   "source": [
    "print(rgs)"
   ]
  },
  {
   "cell_type": "code",
   "execution_count": 7,
   "metadata": {},
   "outputs": [
    {
     "data": {
      "text/plain": [
       "[<matplotlib.lines.Line2D at 0x7f5e88381fd0>]"
      ]
     },
     "execution_count": 7,
     "metadata": {},
     "output_type": "execute_result"
    },
    {
     "data": {
      "image/png": "[encoded data removed]",
      "text/plain": [
       "<Figure size 432x288 with 1 Axes>"
      ]
     },
     "metadata": {
      "needs_background": "light"
     },
     "output_type": "display_data"
    }
   ],
   "source": [
    "plt.plot(np.linspace(0,steps,steps,endpoint=True), rgs)"
   ]
  },
  {
   "cell_type": "code",
   "execution_count": null,
   "metadata": {},
   "outputs": [],
   "source": []
  }
 ],
 "metadata": {
  "kernelspec": {
   "display_name": "Python 3",
   "language": "python",
   "name": "python3"
  },
  "language_info": {
   "codemirror_mode": {
    "name": "ipython",
    "version": 3
   },
   "file_extension": ".py",
   "mimetype": "text/x-python",
   "name": "python",
   "nbconvert_exporter": "python",
   "pygments_lexer": "ipython3",
   "version": "3.7.4"
  }
 },
 "nbformat": 4,
 "nbformat_minor": 2
}
