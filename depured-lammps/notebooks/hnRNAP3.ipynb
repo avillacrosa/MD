{
 "cells": [
  {
   "cell_type": "code",
   "execution_count": 12,
   "metadata": {},
   "outputs": [],
   "source": [
    "import sys\n",
    "sys.path.insert(1,'../utils')\n",
    "import analysis\n",
    "import os\n",
    "import lmp\n",
    "import matplotlib.pyplot as plt\n",
    "import mdtraj as md\n",
    "import numpy as np"
   ]
  },
  {
   "cell_type": "code",
   "execution_count": 2,
   "metadata": {},
   "outputs": [],
   "source": [
    "d = '/home/adria/perdiux/prod/lammps/dignon/RE-T-hnRPA'"
   ]
  },
  {
   "cell_type": "code",
   "execution_count": 3,
   "metadata": {},
   "outputs": [
    {
     "name": "stdout",
     "output_type": "stream",
     "text": [
      "['/home/adria/perdiux/prod/lammps/dignon/RE-T-hnRPA/log.lammps.0', '/home/adria/perdiux/prod/lammps/dignon/RE-T-hnRPA/log.lammps.1', '/home/adria/perdiux/prod/lammps/dignon/RE-T-hnRPA/log.lammps.2', '/home/adria/perdiux/prod/lammps/dignon/RE-T-hnRPA/log.lammps.3', '/home/adria/perdiux/prod/lammps/dignon/RE-T-hnRPA/log.lammps.4', '/home/adria/perdiux/prod/lammps/dignon/RE-T-hnRPA/log.lammps.5', '/home/adria/perdiux/prod/lammps/dignon/RE-T-hnRPA/log.lammps.6', '/home/adria/perdiux/prod/lammps/dignon/RE-T-hnRPA/log.lammps.7', '/home/adria/perdiux/prod/lammps/dignon/RE-T-hnRPA/log.lammps.8', '/home/adria/perdiux/prod/lammps/dignon/RE-T-hnRPA/log.lammps.9', '/home/adria/perdiux/prod/lammps/dignon/RE-T-hnRPA/log.lammps.10', '/home/adria/perdiux/prod/lammps/dignon/RE-T-hnRPA/log.lammps.11']\n"
     ]
    },
    {
     "data": {
      "text/plain": [
       "(12, 20001, 5)"
      ]
     },
     "execution_count": 3,
     "metadata": {},
     "output_type": "execute_result"
    }
   ],
   "source": [
    "hnrnap_analyzer = analysis.Analysis(oliba_wd=d, temper=True)\n",
    "raw_data = hnrnap_analyzer.data\n",
    "raw_data.shape"
   ]
  },
  {
   "cell_type": "code",
   "execution_count": 4,
   "metadata": {},
   "outputs": [],
   "source": [
    "def get_temp_data(lmp_drs):\n",
    "    data = []\n",
    "    for d in lmp_drs:\n",
    "        log_lmp = open(os.path.join(d, 'log.lammps'), 'r')\n",
    "        lines = log_lmp.readlines()\n",
    "        data_start = 0\n",
    "        data_end = 0\n",
    "        for i, line in enumerate(lines):\n",
    "            if \"Step\" in line:\n",
    "                data_start = i + 1\n",
    "            if \"Loop\" in line:\n",
    "                data_end = i\n",
    "            if data_end and data_start != 0:\n",
    "                break\n",
    "        if data_end == 0:\n",
    "            data_end = len(lines)\n",
    "        data.append(\n",
    "            np.loadtxt(os.path.join(d, 'log.lammps'), skiprows=data_start, max_rows=data_end - data_start))\n",
    "    data = np.array(data,dtype='int')\n",
    "    return data"
   ]
  },
  {
   "cell_type": "code",
   "execution_count": 5,
   "metadata": {},
   "outputs": [
    {
     "name": "stdout",
     "output_type": "stream",
     "text": [
      "(1001, 13)\n"
     ]
    }
   ],
   "source": [
    "temp_data = get_temp_data([d])[0]\n",
    "print(temp_data.shape)"
   ]
  },
  {
   "cell_type": "code",
   "execution_count": 6,
   "metadata": {},
   "outputs": [
    {
     "name": "stdout",
     "output_type": "stream",
     "text": [
      "(1001, 13)\n"
     ]
    }
   ],
   "source": [
    "print(temp_data.shape)"
   ]
  },
  {
   "cell_type": "code",
   "execution_count": 7,
   "metadata": {},
   "outputs": [],
   "source": [
    "t_step = int(temp_data[1,0] - temp_data[0,0])"
   ]
  },
  {
   "cell_type": "code",
   "execution_count": 8,
   "metadata": {
    "scrolled": true
   },
   "outputs": [],
   "source": [
    "temp_sort_data = {0:[], 1:[], 2:[], 3:[], 4:[], 5:[], 6:[], 7:[], 8:[], 9:[], 10:[], 11:[]}\n",
    "for t in range(1, temp_data.shape[0]):\n",
    "    current_range = [(t-1)*t_step, t*t_step]\n",
    "    temperatures = temp_data[t,1:-1]\n",
    "    for temperature in temperatures:\n",
    "        indices = (raw_data[temperature,:,0] > current_range[0]) & (raw_data[temperature,:,0] < current_range[1])\n",
    "        temp_sort_data[temperature].append(raw_data[temperature, indices, 4].mean())"
   ]
  },
  {
   "cell_type": "code",
   "execution_count": 9,
   "metadata": {},
   "outputs": [
    {
     "data": {
      "image/png": "[encoded data removed]",
      "text/plain": [
       "<Figure size 432x288 with 1 Axes>"
      ]
     },
     "metadata": {
      "needs_background": "light"
     },
     "output_type": "display_data"
    }
   ],
   "source": [
    "for temp_key in temp_sort_data:\n",
    "    temp_sort_data[temp_key] = np.array(temp_sort_data[temp_key])\n",
    "    plt.plot(temp_key, temp_sort_data[temp_key].mean(), '.')"
   ]
  },
  {
   "cell_type": "code",
   "execution_count": 11,
   "metadata": {},
   "outputs": [],
   "source": [
    "seq = \"GRGGNFGFGDSRGGGGNFGPGPGSNFRGGSDGYGSGRGFGDGYNGYGGGPGGGNFGGSPGYGGGRGGYGGGGPGYGNQGGGYGGGYDNYGGGNYGSGNYNDFGNYNQQPSNYGPMKSGNFGGSRNMGGPYGGGNYGPGGSGGSGGYGGRSRY\"\n",
    "hnrnap_analyzer.set_sequence(seq)"
   ]
  },
  {
   "cell_type": "code",
   "execution_count": 16,
   "metadata": {},
   "outputs": [
    {
     "data": {
      "text/plain": [
       "<mdtraj.Trajectory with 20001 frames, 152 atoms, 1 residues, and unitcells at 0x7eff3c1dc950>"
      ]
     },
     "execution_count": 16,
     "metadata": {},
     "output_type": "execute_result"
    }
   ],
   "source": [
    "dirrr = '/home/adria/perdiux/prod/lammps/dignon/hnRPA/RE-T-hnRPA/xtc_temper0.xtc'\n",
    "topo = '/home/adria/perdiux/prod/lammps/dignon/hnRPA/RE-T-hnRPA/hps_trj.pdb'\n",
    "md.load(dirrr, top=topo)"
   ]
  },
  {
   "cell_type": "code",
   "execution_count": null,
   "metadata": {},
   "outputs": [],
   "source": []
  }
 ],
 "metadata": {
  "kernelspec": {
   "display_name": "Python 3",
   "language": "python",
   "name": "python3"
  },
  "language_info": {
   "codemirror_mode": {
    "name": "ipython",
    "version": 3
   },
   "file_extension": ".py",
   "mimetype": "text/x-python",
   "name": "python",
   "nbconvert_exporter": "python",
   "pygments_lexer": "ipython3",
   "version": "3.7.4"
  }
 },
 "nbformat": 4,
 "nbformat_minor": 2
}
