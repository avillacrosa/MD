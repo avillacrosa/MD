{
 "cells": [
  {
   "cell_type": "code",
   "execution_count": 1,
   "metadata": {},
   "outputs": [],
   "source": [
    "import mdtraj as md"
   ]
  },
  {
   "cell_type": "code",
   "execution_count": 2,
   "metadata": {},
   "outputs": [
    {
     "ename": "RuntimeError",
     "evalue": "XTC read error: Compressed 3d coordinate",
     "output_type": "error",
     "traceback": [
      "\u001b[0;31m---------------------------------------------------------------------------\u001b[0m",
      "\u001b[0;31mRuntimeError\u001b[0m                              Traceback (most recent call last)",
      "\u001b[0;32m<ipython-input-2-092dca7a8773>\u001b[0m in \u001b[0;36m<module>\u001b[0;34m\u001b[0m\n\u001b[1;32m      1\u001b[0m \u001b[0mdirs\u001b[0m \u001b[0;34m=\u001b[0m \u001b[0;34m'/home/adria/perdiux/prod/lammps/dignon/hnRPA/3RE-T-hnRPA/xtc_temper0.xtc'\u001b[0m\u001b[0;34m\u001b[0m\u001b[0;34m\u001b[0m\u001b[0m\n\u001b[1;32m      2\u001b[0m \u001b[0mtopo\u001b[0m \u001b[0;34m=\u001b[0m \u001b[0;34m'/home/adria/perdiux/prod/lammps/dignon/hnRPA/3RE-T-hnRPA/hps_trj.pdb'\u001b[0m\u001b[0;34m\u001b[0m\u001b[0;34m\u001b[0m\u001b[0m\n\u001b[0;32m----> 3\u001b[0;31m \u001b[0mmd\u001b[0m\u001b[0;34m.\u001b[0m\u001b[0mload\u001b[0m\u001b[0;34m(\u001b[0m\u001b[0mdirs\u001b[0m\u001b[0;34m,\u001b[0m\u001b[0mtop\u001b[0m\u001b[0;34m=\u001b[0m\u001b[0mtopo\u001b[0m\u001b[0;34m)\u001b[0m\u001b[0;34m\u001b[0m\u001b[0;34m\u001b[0m\u001b[0m\n\u001b[0m",
      "\u001b[0;32m~/anaconda3/lib/python3.7/site-packages/mdtraj/core/trajectory.py\u001b[0m in \u001b[0;36mload\u001b[0;34m(filename_or_filenames, discard_overlapping_frames, **kwargs)\u001b[0m\n\u001b[1;32m    428\u001b[0m         \u001b[0m_assert_files_or_dirs_exist\u001b[0m\u001b[0;34m(\u001b[0m\u001b[0mfilename_or_filenames\u001b[0m\u001b[0;34m)\u001b[0m\u001b[0;34m\u001b[0m\u001b[0;34m\u001b[0m\u001b[0m\n\u001b[1;32m    429\u001b[0m \u001b[0;34m\u001b[0m\u001b[0m\n\u001b[0;32m--> 430\u001b[0;31m     \u001b[0mvalue\u001b[0m \u001b[0;34m=\u001b[0m \u001b[0mloader\u001b[0m\u001b[0;34m(\u001b[0m\u001b[0mfilename\u001b[0m\u001b[0;34m,\u001b[0m \u001b[0;34m**\u001b[0m\u001b[0mkwargs\u001b[0m\u001b[0;34m)\u001b[0m\u001b[0;34m\u001b[0m\u001b[0;34m\u001b[0m\u001b[0m\n\u001b[0m\u001b[1;32m    431\u001b[0m     \u001b[0;32mreturn\u001b[0m \u001b[0mvalue\u001b[0m\u001b[0;34m\u001b[0m\u001b[0;34m\u001b[0m\u001b[0m\n\u001b[1;32m    432\u001b[0m \u001b[0;34m\u001b[0m\u001b[0m\n",
      "\u001b[0;32mmdtraj/formats/xtc/xtc.pyx\u001b[0m in \u001b[0;36mmdtraj.formats.xtc.load_xtc\u001b[0;34m()\u001b[0m\n",
      "\u001b[0;32mmdtraj/formats/xtc/xtc.pyx\u001b[0m in \u001b[0;36mmdtraj.formats.xtc.load_xtc\u001b[0;34m()\u001b[0m\n",
      "\u001b[0;32mmdtraj/formats/xtc/xtc.pyx\u001b[0m in \u001b[0;36mmdtraj.formats.xtc.XTCTrajectoryFile.read_as_traj\u001b[0;34m()\u001b[0m\n",
      "\u001b[0;32mmdtraj/formats/xtc/xtc.pyx\u001b[0m in \u001b[0;36mmdtraj.formats.xtc.XTCTrajectoryFile.read\u001b[0;34m()\u001b[0m\n",
      "\u001b[0;32mmdtraj/formats/xtc/xtc.pyx\u001b[0m in \u001b[0;36mmdtraj.formats.xtc.XTCTrajectoryFile._read\u001b[0;34m()\u001b[0m\n",
      "\u001b[0;31mRuntimeError\u001b[0m: XTC read error: Compressed 3d coordinate"
     ]
    }
   ],
   "source": [
    "dirs = '/home/adria/perdiux/prod/lammps/dignon/hnRPA/3RE-T-hnRPA/xtc_temper0.xtc'\n",
    "topo = '/home/adria/perdiux/prod/lammps/dignon/hnRPA/3RE-T-hnRPA/hps_trj.pdb'\n",
    "md.load(dirs,top=topo)"
   ]
  },
  {
   "cell_type": "code",
   "execution_count": 3,
   "metadata": {},
   "outputs": [
    {
     "data": {
      "text/plain": [
       "<mdtraj.Trajectory with 20001 frames, 152 atoms, 1 residues, and unitcells at 0x7fe818f1eb10>"
      ]
     },
     "execution_count": 3,
     "metadata": {},
     "output_type": "execute_result"
    }
   ],
   "source": [
    "dirs = '/home/adria/perdiux/prod/lammps/dignon/hnRPA/RE-T-hnRPA/xtc_temper0.xtc'\n",
    "topo = '/home/adria/perdiux/prod/lammps/dignon/hnRPA/RE-T-hnRPA/hps_trj.pdb'\n",
    "md.load(dirs,top=topo)"
   ]
  },
  {
   "cell_type": "code",
   "execution_count": null,
   "metadata": {},
   "outputs": [],
   "source": []
  }
 ],
 "metadata": {
  "kernelspec": {
   "display_name": "Python 3",
   "language": "python",
   "name": "python3"
  },
  "language_info": {
   "codemirror_mode": {
    "name": "ipython",
    "version": 3
   },
   "file_extension": ".py",
   "mimetype": "text/x-python",
   "name": "python",
   "nbconvert_exporter": "python",
   "pygments_lexer": "ipython3",
   "version": "3.7.4"
  }
 },
 "nbformat": 4,
 "nbformat_minor": 2
}
