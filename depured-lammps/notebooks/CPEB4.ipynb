{
 "cells": [
  {
   "cell_type": "code",
   "execution_count": 1,
   "metadata": {},
   "outputs": [],
   "source": [
    "import os\n",
    "import sys\n",
    "import importlib\n",
    "if '../utils' not in sys.path:\n",
    "    sys.path.insert(0,'../utils')\n",
    "import lmp\n",
    "import lmpsetup\n",
    "import analysis\n",
    "import numpy as np\n",
    "\n",
    "importlib.reload(lmp);\n",
    "importlib.reload(lmpsetup);\n",
    "importlib.reload(analysis);"
   ]
  },
  {
   "cell_type": "markdown",
   "metadata": {},
   "source": [
    "### CPEB4 setup\n",
    "We setup two independent replica exchange simulations for CPEB4, ranging from 150K to 600K :"
   ]
  },
  {
   "cell_type": "code",
   "execution_count": 2,
   "metadata": {},
   "outputs": [],
   "source": [
    "cpeb4 = 'MGDYGFGVLVQSNTGNKSAFPVRFHPHLQPPHHHQNATPSPAAFINNNTAANGSSAGSAWLFPAPATHNIQDEILGSEKAKSQQQEQQDPLEKQQLSPSPGQEAGILPETEKAKSEENQGDNSSENGNGKEKIRIESPVLTGFDYQEATGLGTSTQPLTSSASSLTGFSNWSAAIAPSSSTIINEDASFFHQGGVPAASANNGALLFQNFPHHVSPGFGGSFSPQIGPLSQHHPHHPHFQHHHSQHQQQRRSPASPHPPPFTHRNAAFNQLPHLANNLNKPPSPWSSYQSPSPTPSSSWSPGGGGYGGWGGSQGRDHRRGLNGGITPLNSISPLKKNFASNHIQLQKYARPSSAFAPKSWMEDSLNRADNIFPFPDRPRTFDMHSLESSLIDIMRAENDTIKARTYGRRRGQSSLFPMEDGFLDDGRGDQPLHSGLGSPHCFSHQNGE'"
   ]
  },
  {
   "cell_type": "code",
   "execution_count": 3,
   "metadata": {},
   "outputs": [],
   "source": [
    "dir1 = '/home/adria/perdiux/prod/lammps/dignon/CPEB4/RE-cpeb4'\n",
    "c1 = lmpsetup.LMPSetup(oliba_wd=dir1, seq=cpeb4, temper=True)\n",
    "c1.temperatures = '150.0 170.0 192.5 217.5 247.5 280.0 320.0 362.5 410.0 467.5 530.0 600.0'\n",
    "c1.processors = 12\n",
    "c1.t = 100000000\n",
    "c1.get_equilibration_xyz()\n",
    "c1.get_hps_params()\n",
    "c1.get_hps_pairs()\n",
    "c1.write_hps_files()"
   ]
  },
  {
   "cell_type": "code",
   "execution_count": 4,
   "metadata": {},
   "outputs": [],
   "source": [
    "dir2 = '/home/adria/perdiux/prod/lammps/dignon/CPEB4/2-RE-cpeb4'\n",
    "c2 = lmpsetup.LMPSetup(oliba_wd=dir2, seq=cpeb4, temper=True)\n",
    "c2.temperatures = '150.0 170.0 192.5 217.5 247.5 280.0 320.0 362.5 410.0 467.5 530.0 600.0'\n",
    "c2.processors = 12\n",
    "c2.t = 100000000\n",
    "c2.get_equilibration_xyz()\n",
    "c2.v_seed = c1.v_seed + 1\n",
    "c2.langevin_seed = c1.langevin_seed + 1\n",
    "c2.get_hps_params()\n",
    "c2.get_hps_pairs()\n",
    "c2.write_hps_files()"
   ]
  },
  {
   "cell_type": "markdown",
   "metadata": {},
   "source": [
    "We also wish to setup dynamics with a varying scale on lambda"
   ]
  },
  {
   "cell_type": "code",
   "execution_count": 7,
   "metadata": {},
   "outputs": [],
   "source": [
    "rang = np.linspace(0.55, 1, 4)\n",
    "l_base = lmpsetup.LMPSetup(oliba_wd='', seq=cpeb4, temper=True)\n",
    "l_base.processors = 12\n",
    "l_base.t = 100000000\n",
    "l_base.get_equilibration_xyz()\n",
    "for r in rang:\n",
    "    d = f'/home/adria/perdiux/prod/lammps/dignon/CPEB4/{r:.2f}-lS-cpeb4'\n",
    "    os.mkdir(d)\n",
    "    l_base.o_wd = d\n",
    "    l_base.hps_scale = r\n",
    "    l_base.get_hps_params()\n",
    "    l_base.get_hps_pairs()\n",
    "    l_base.write_hps_files()"
   ]
  },
  {
   "cell_type": "code",
   "execution_count": null,
   "metadata": {},
   "outputs": [],
   "source": []
  }
 ],
 "metadata": {
  "kernelspec": {
   "display_name": "Python 3",
   "language": "python",
   "name": "python3"
  },
  "language_info": {
   "codemirror_mode": {
    "name": "ipython",
    "version": 3
   },
   "file_extension": ".py",
   "mimetype": "text/x-python",
   "name": "python",
   "nbconvert_exporter": "python",
   "pygments_lexer": "ipython3",
   "version": "3.7.4"
  }
 },
 "nbformat": 4,
 "nbformat_minor": 2
}
