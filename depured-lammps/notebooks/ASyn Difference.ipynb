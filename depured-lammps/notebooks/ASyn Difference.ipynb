{
 "cells": [
  {
   "cell_type": "code",
   "execution_count": 1,
   "metadata": {},
   "outputs": [],
   "source": [
    "import sys\n",
    "import importlib\n",
    "sys.path.insert(1,'../utils')\n",
    "import lmp\n",
    "import lmpsetup"
   ]
  },
  {
   "cell_type": "code",
   "execution_count": 2,
   "metadata": {},
   "outputs": [
    {
     "name": "stdout",
     "output_type": "stream",
     "text": [
      "[14, 32]  \n",
      "\n",
      "Finding used sequence. Note that Isoleucine and Leucine have the same exact HPS parameters. Therefore, they are not distinguishable.\n",
      "MDVFMKGISKAKEGVVAAAEKTKQGVAEAAGKTKEGVIYVGSKTKEGVVHGVATVAEKTKEQVTNVGGAVVTGVTAVAQKTVEGAGSIAAATGFVKKDQIGKNEEGAPQEGIIEDMPVDPDNEAYEMPSEEGYQDYEPEA\n"
     ]
    }
   ],
   "source": [
    "o_asyn_dir = '/home/adria/perdiux/prod/lammps/dignon/TEST/asyn/TEST/test_my_run'\n",
    "o_asyn_lmp = lmp.LMP(o_asyn_dir)\n",
    "seq = o_asyn_lmp.decode_seq_from_hps()\n",
    "print(seq)"
   ]
  },
  {
   "cell_type": "code",
   "execution_count": 3,
   "metadata": {},
   "outputs": [
    {
     "name": "stdout",
     "output_type": "stream",
     "text": [
      "[13, 32]     \n",
      "\n",
      "Finding used sequence. Note that Isoleucine and Leucine have the same exact HPS parameters. Therefore, they are not distinguishable.\n",
      "MDVFMKGISKAKEGVVAAAEKTKQGVAEAAGKTKEGVIYVGSKTKEGVVHGVATVAEKTKEQVTNVGGAVVTGVTAVAQKTVEGAGSIAAATGFVKKDQIGKNEEGAPQEGIIEDMPVDPDNEAYEMPSEEGYQDYEPEA\n"
     ]
    }
   ],
   "source": [
    "r_asyn_dir = '/home/adria/perdiux/prod/lammps/dignon/TEST/asyn/TEST/ramon_run'\n",
    "r_asyn_lmp = lmp.LMP(r_asyn_dir)\n",
    "seq_r = r_asyn_lmp.decode_seq_from_hps()\n",
    "print(seq_r)"
   ]
  },
  {
   "cell_type": "code",
   "execution_count": 4,
   "metadata": {},
   "outputs": [
    {
     "data": {
      "text/plain": [
       "True"
      ]
     },
     "execution_count": 4,
     "metadata": {},
     "output_type": "execute_result"
    }
   ],
   "source": [
    "seq_r == seq"
   ]
  },
  {
   "cell_type": "markdown",
   "metadata": {},
   "source": [
    "Sequences are the same but not results still differ... Try to set up asyn"
   ]
  },
  {
   "cell_type": "code",
   "execution_count": 1,
   "metadata": {
    "scrolled": false
   },
   "outputs": [
    {
     "name": "stdout",
     "output_type": "stream",
     "text": [
      "20\n",
      "['A', 'R', 'N', 'D', 'C', 'E', 'Q', 'G', 'H', 'I', 'L', 'K', 'M', 'F', 'P', 'S', 'T', 'W', 'Y', 'V']\n"
     ]
    }
   ],
   "source": [
    "import sys\n",
    "import importlib\n",
    "sys.path.insert(1,'../utils')\n",
    "import lmp\n",
    "import lmpsetup\n",
    "importlib.reload(lmp);\n",
    "importlib.reload(lmpsetup);\n",
    "\n",
    "make_dir = '/home/adria/perdiux/prod/lammps/dignon/TEST/asyn/TEST/test_my_run'\n",
    "seq = 'MDVFMKGISKAKEGVVAAAEKTKQGVAEAAGKTKEGVIYVGSKTKEGVVHGVATVAEKTKEQVTNVGGAVVTGVTAVAQKTVEGAGSLAAATGFVKKDQIGKNEEGAPQEGIIEDMPVDPDNEAYEMPSEEGYQDYEPEA'\n",
    "asyn_maker = lmpsetup.LMPSetup(make_dir, seq)\n",
    "# asyn_maker.del_missing_aas()\n",
    "# asyn_maker.lammps_ordering()\n",
    "asyn_maker.get_hps_params()\n",
    "asyn_maker.get_hps_pairs()\n",
    "# asyn_maker.get_hps_pairs()\n",
    "asyn_maker.write_hps_files()"
   ]
  },
  {
   "cell_type": "code",
   "execution_count": null,
   "metadata": {},
   "outputs": [],
   "source": []
  },
  {
   "cell_type": "code",
   "execution_count": null,
   "metadata": {},
   "outputs": [],
   "source": []
  }
 ],
 "metadata": {
  "kernelspec": {
   "display_name": "Python 3",
   "language": "python",
   "name": "python3"
  },
  "language_info": {
   "codemirror_mode": {
    "name": "ipython",
    "version": 3
   },
   "file_extension": ".py",
   "mimetype": "text/x-python",
   "name": "python",
   "nbconvert_exporter": "python",
   "pygments_lexer": "ipython3",
   "version": "3.7.4"
  }
 },
 "nbformat": 4,
 "nbformat_minor": 2
}
