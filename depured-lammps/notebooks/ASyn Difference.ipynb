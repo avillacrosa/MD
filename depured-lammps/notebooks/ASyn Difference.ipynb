{
 "cells": [
  {
   "cell_type": "code",
   "execution_count": 1,
   "metadata": {},
   "outputs": [],
   "source": [
    "import sys\n",
    "import importlib\n",
    "sys.path.insert(1,'../utils')\n",
    "import lmp\n",
    "import lmpsetup"
   ]
  },
  {
   "cell_type": "code",
   "execution_count": 2,
   "metadata": {},
   "outputs": [
    {
     "name": "stdout",
     "output_type": "stream",
     "text": [
      "[14, 32]  \n",
      "\n",
      "Finding used sequence. Note that Isoleucine and Leucine have the same exact HPS parameters. Therefore, they are not distinguishable.\n",
      "MDVFMKGISKAKEGVVAAAEKTKQGVAEAAGKTKEGVIYVGSKTKEGVVHGVATVAEKTKEQVTNVGGAVVTGVTAVAQKTVEGAGSIAAATGFVKKDQIGKNEEGAPQEGIIEDMPVDPDNEAYEMPSEEGYQDYEPEA\n"
     ]
    }
   ],
   "source": [
    "o_asyn_dir = '/home/adria/perdiux/prod/lammps/dignon/TEST/asyn/TEST/test_my_run'\n",
    "o_asyn_lmp = lmp.LMP(o_asyn_dir)\n",
    "seq = o_asyn_lmp.decode_seq_from_hps()\n",
    "print(seq)"
   ]
  },
  {
   "cell_type": "code",
   "execution_count": 3,
   "metadata": {},
   "outputs": [
    {
     "name": "stdout",
     "output_type": "stream",
     "text": [
      "[13, 32]     \n",
      "\n",
      "Finding used sequence. Note that Isoleucine and Leucine have the same exact HPS parameters. Therefore, they are not distinguishable.\n",
      "MDVFMKGISKAKEGVVAAAEKTKQGVAEAAGKTKEGVIYVGSKTKEGVVHGVATVAEKTKEQVTNVGGAVVTGVTAVAQKTVEGAGSIAAATGFVKKDQIGKNEEGAPQEGIIEDMPVDPDNEAYEMPSEEGYQDYEPEA\n"
     ]
    }
   ],
   "source": [
    "r_asyn_dir = '/home/adria/perdiux/prod/lammps/dignon/TEST/asyn/TEST/ramon_run'\n",
    "r_asyn_lmp = lmp.LMP(r_asyn_dir)\n",
    "seq_r = r_asyn_lmp.decode_seq_from_hps()\n",
    "print(seq_r)"
   ]
  },
  {
   "cell_type": "code",
   "execution_count": 4,
   "metadata": {},
   "outputs": [
    {
     "data": {
      "text/plain": [
       "True"
      ]
     },
     "execution_count": 4,
     "metadata": {},
     "output_type": "execute_result"
    }
   ],
   "source": [
    "seq_r == seq"
   ]
  },
  {
   "cell_type": "markdown",
   "metadata": {},
   "source": [
    "Sequences are the same but not results still differ... Try to set up asyn"
   ]
  },
  {
   "cell_type": "code",
   "execution_count": 8,
   "metadata": {
    "scrolled": false
   },
   "outputs": [
    {
     "name": "stdout",
     "output_type": "stream",
     "text": [
      "pre {'A': {'id': 9, 'name': 'ALA', 'mass': 71.0800018, 'q': 0.0}, 'N': {'id': 15, 'name': 'ASN', 'mass': 114.099998, 'q': 0.0}, 'D': {'id': 2, 'name': 'ASP', 'mass': 115.099998, 'q': -1.0}, 'E': {'id': 10, 'name': 'GLU', 'mass': 129.100006, 'q': -1.0}, 'Q': {'id': 12, 'name': 'GLN', 'mass': 128.100006, 'q': 0.0}, 'G': {'id': 6, 'name': 'GLY', 'mass': 57.0499992, 'q': 0.0}, 'H': {'id': 14, 'name': 'HIS', 'mass': 137.100006, 'q': 0.5}, 'I': {'id': 7, 'name': 'ILE', 'mass': 113.199997, 'q': 0.0}, 'L': {'id': 9, 'name': 'LEU', 'mass': 113.199997, 'q': 0.0}, 'K': {'id': 5, 'name': 'LYS', 'mass': 128.199997, 'q': 1.0}, 'M': {'id': 1, 'name': 'MET', 'mass': 131.199997, 'q': 0.0}, 'F': {'id': 4, 'name': 'PHE', 'mass': 147.199997, 'q': 0.0}, 'P': {'id': 16, 'name': 'PRO', 'mass': 97.1200027, 'q': 0.0}, 'S': {'id': 8, 'name': 'SER', 'mass': 87.0800018, 'q': 0.0}, 'T': {'id': 11, 'name': 'THR', 'mass': 101.099998, 'q': 0.0}, 'Y': {'id': 13, 'name': 'TYR', 'mass': 163.199997, 'q': 0.0}, 'V': {'id': 3, 'name': 'VAL', 'mass': 99.0699997, 'q': 0.0}}\n",
      "\n",
      "\n",
      "PRE [6.18, 5.58, 5.86, 6.36, 6.36, 4.5, 6.18, 5.18, 5.04, 6.18, 5.92, 5.62, 6.02, 6.46, 6.08, 5.68, 5.56]\n",
      "POST [6.18, 5.58, 5.86, 6.36, 6.36, 4.5, 6.18, 5.18, 5.04, 5.92, 5.62, 6.02, 6.46, 6.08, 5.68, 6.18, 5.56]\n"
     ]
    }
   ],
   "source": [
    "import sys\n",
    "import importlib\n",
    "sys.path.insert(1,'../utils')\n",
    "import lmp\n",
    "import lmpsetup\n",
    "importlib.reload(lmp);\n",
    "importlib.reload(lmpsetup);\n",
    "\n",
    "make_dir = '/home/adria/perdiux/prod/lammps/dignon/TEST/asyn/TEST/test_my_run'\n",
    "seq = 'MDVFMKGISKAKEGVVAAAEKTKQGVAEAAGKTKEGVIYVGSKTKEGVVHGVATVAEKTKEQVTNVGGAVVTGVTAVAQKTVEGAGSIAAATGFVKKDQIGKNEEGAPQEGIIEDMPVDPDNEAYEMPSEEGYQDYEPEA'\n",
    "\n",
    "asyn_maker = lmpsetup.LMPSetup(make_dir, seq)\n",
    "asyn_maker.del_missing_aas()\n",
    "asyn_maker.lammps_ordering()\n",
    "asyn_maker.get_hps_params()\n",
    "# asyn_maker.get_hps_pairs(pairs_from_file='/home/adria/scripts/depured-lammps/data/lambda_pairs.dat')\n",
    "asyn_maker.get_hps_pairs()\n",
    "asyn_maker.generate_lmp_input()\n",
    "asyn_maker.generate_topo_input(nchains=1)\n",
    "asyn_maker.generate_qsub()\n",
    "asyn_maker.write_hps_files()"
   ]
  },
  {
   "cell_type": "code",
   "execution_count": null,
   "metadata": {},
   "outputs": [],
   "source": []
  },
  {
   "cell_type": "code",
   "execution_count": null,
   "metadata": {},
   "outputs": [],
   "source": []
  }
 ],
 "metadata": {
  "kernelspec": {
   "display_name": "Python 3",
   "language": "python",
   "name": "python3"
  },
  "language_info": {
   "codemirror_mode": {
    "name": "ipython",
    "version": 3
   },
   "file_extension": ".py",
   "mimetype": "text/x-python",
   "name": "python",
   "nbconvert_exporter": "python",
   "pygments_lexer": "ipython3",
   "version": "3.7.4"
  }
 },
 "nbformat": 4,
 "nbformat_minor": 2
}
