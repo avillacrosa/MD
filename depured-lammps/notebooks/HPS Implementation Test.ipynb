{
 "cells": [
  {
   "cell_type": "markdown",
   "metadata": {},
   "source": [
    "## α-synucleïn test\n",
    "\n",
    "We attempt to compare the results of my HPS implementation to Ramon's. First, lib imports : "
   ]
  },
  {
   "cell_type": "code",
   "execution_count": null,
   "metadata": {},
   "outputs": [],
   "source": [
    "import os\n",
    "import sys\n",
    "import importlib\n",
    "if '../utils' not in sys.path:\n",
    "    sys.path.insert(0,'../utils')\n",
    "import lmp\n",
    "import lmpsetup\n",
    "import analysis\n",
    "\n",
    "importlib.reload(lmp);\n",
    "importlib.reload(lmpsetup);\n",
    "importlib.reload(analysis);\n",
    "\n",
    "seq = 'MDVFMKGISKAKEGVVAAAEKTKQGVAEAAGKTKEGVIYVGSKTKEGVVHGVATVAEKTKEQVTNVGGAVVTGVTAVAQKTVEGAGSLAAATGFVKKDQIGKNEEGAPQEGIIEDMPVDPDNEAYEMPSEEGYQDYEPEA'\n",
    "pdb = '/home/adria/perdiux/prod/lammps/dignon/TEST/asyn/TEST/ramon_run/data_trj.pdb'"
   ]
  },
  {
   "cell_type": "markdown",
   "metadata": {},
   "source": [
    "Considering only a single, simple and short LAMMPS run, **Ramon's** data gives :"
   ]
  },
  {
   "cell_type": "code",
   "execution_count": 2,
   "metadata": {},
   "outputs": [
    {
     "data": {
      "text/plain": [
       "array([[[   0.      ,  313.78388 ,  124.29978 ,  300.      ],\n",
       "        [ 500.      ,   14.373451,  123.10149 ,  297.10792 ],\n",
       "        [1000.      ,   16.663285,  118.2894  ,  285.49382 ],\n",
       "        [1500.      ,   22.543052,  121.06175 ,  292.18495 ],\n",
       "        [2000.      ,   26.739724,  130.07105 ,  313.92907 ]]])"
      ]
     },
     "execution_count": 2,
     "metadata": {},
     "output_type": "execute_result"
    }
   ],
   "source": [
    "ramon_dir = '/home/adria/perdiux/prod/lammps/dignon/TEST/asyn/TEST/ramon_run'\n",
    "r_lmp = lmp.LMP(ramon_dir)\n",
    "r_lmp.run('lmp.lmp', n_cores=1);\n",
    "data = r_lmp.get_lmp_data()\n",
    "data"
   ]
  },
  {
   "cell_type": "markdown",
   "metadata": {},
   "source": [
    "Compare this to **my** HPS implementation, using the same starting frame and the same random seeds:"
   ]
  },
  {
   "cell_type": "code",
   "execution_count": 3,
   "metadata": {},
   "outputs": [
    {
     "data": {
      "text/plain": [
       "array([[[   0.      ,  313.78387 ,  124.29978 ,  300.      ],\n",
       "        [ 500.      ,   14.373443,  123.10149 ,  297.10792 ],\n",
       "        [1000.      ,   16.663281,  118.28939 ,  285.49382 ],\n",
       "        [1500.      ,   22.543012,  121.06174 ,  292.18492 ],\n",
       "        [2000.      ,   26.739396,  130.07117 ,  313.92938 ]]])"
      ]
     },
     "execution_count": 3,
     "metadata": {},
     "output_type": "execute_result"
    }
   ],
   "source": [
    "my_dir = '/home/adria/perdiux/prod/lammps/dignon/TEST/asyn/TEST/my_run_compare'\n",
    "my_setup = lmpsetup.LMPSetup(oliba_wd=my_dir, seq=seq)\n",
    "my_setup.t = 2000\n",
    "my_setup.save = 500\n",
    "my_setup.get_pdb_xyz(pdb)\n",
    "my_setup.get_hps_params()\n",
    "my_setup.get_hps_pairs()\n",
    "my_setup.write_hps_files()\n",
    "\n",
    "my_setup.run('lmp.lmp', n_cores=1);\n",
    "my_data = my_setup.get_lmp_data()\n",
    "my_data"
   ]
  },
  {
   "cell_type": "markdown",
   "metadata": {},
   "source": [
    "Use LAMMPS ordering in my run we see that **nothing** actually changes"
   ]
  },
  {
   "cell_type": "code",
   "execution_count": 4,
   "metadata": {},
   "outputs": [
    {
     "data": {
      "text/plain": [
       "array([[[   0.      ,  313.78387 ,  124.29978 ,  300.      ],\n",
       "        [ 500.      ,   14.373443,  123.10149 ,  297.10792 ],\n",
       "        [1000.      ,   16.663281,  118.28939 ,  285.49382 ],\n",
       "        [1500.      ,   22.543012,  121.06174 ,  292.18492 ],\n",
       "        [2000.      ,   26.739396,  130.07117 ,  313.92938 ]]])"
      ]
     },
     "execution_count": 4,
     "metadata": {},
     "output_type": "execute_result"
    }
   ],
   "source": [
    "lmp_my_dir = '/home/adria/perdiux/prod/lammps/dignon/TEST/asyn/TEST/my_run_lmp'\n",
    "lmp_my_dir_setup = lmpsetup.LMPSetup(oliba_wd=lmp_my_dir, seq=seq)\n",
    "lmp_my_dir_setup.t = 2000\n",
    "lmp_my_dir_setup.save = 500\n",
    "lmp_my_dir_setup.del_missing_aas()\n",
    "lmp_my_dir_setup.lammps_ordering()\n",
    "lmp_my_dir_setup.get_pdb_xyz(pdb)\n",
    "lmp_my_dir_setup.get_hps_params()\n",
    "lmp_my_dir_setup.get_hps_pairs()\n",
    "lmp_my_dir_setup.write_hps_files()\n",
    "\n",
    "lmp_my_dir_setup.run('lmp.lmp', n_cores=1);\n",
    "lmp_my_data = lmp_my_dir_setup.get_lmp_data()\n",
    "lmp_my_data"
   ]
  },
  {
   "cell_type": "markdown",
   "metadata": {},
   "source": [
    "So we get the same results, therefore the differences are somewhere else. **They are actually in a lambda_ij roundup difference between both run's**:"
   ]
  },
  {
   "cell_type": "code",
   "execution_count": 5,
   "metadata": {},
   "outputs": [
    {
     "data": {
      "text/plain": [
       "array([[[   0.      ,  313.78388 ,  124.29978 ,  300.      ],\n",
       "        [ 500.      ,   14.373451,  123.10149 ,  297.10792 ],\n",
       "        [1000.      ,   16.663285,  118.2894  ,  285.49382 ],\n",
       "        [1500.      ,   22.543052,  121.06175 ,  292.18495 ],\n",
       "        [2000.      ,   26.739724,  130.07105 ,  313.92907 ]]])"
      ]
     },
     "execution_count": 5,
     "metadata": {},
     "output_type": "execute_result"
    }
   ],
   "source": [
    "l_my_dir = '/home/adria/perdiux/prod/lammps/dignon/TEST/asyn/TEST/my_run_lambda'\n",
    "l_lmp_my_dir_setup = lmpsetup.LMPSetup(oliba_wd=l_my_dir, seq=seq)\n",
    "l_lmp_my_dir_setup.t = 2000\n",
    "l_lmp_my_dir_setup.save = 500\n",
    "l_lmp_my_dir_setup.del_missing_aas()\n",
    "l_lmp_my_dir_setup.lammps_ordering()\n",
    "l_lmp_my_dir_setup.get_pdb_xyz(pdb)\n",
    "l_lmp_my_dir_setup.get_hps_params()\n",
    "l_lmp_my_dir_setup.get_hps_pairs(from_file='/home/adria/scripts/depured-lammps/data/lambda_pairs.dat')\n",
    "l_lmp_my_dir_setup.write_hps_files()\n",
    "\n",
    "l_lmp_my_dir_setup.run('lmp.lmp', n_cores=1);\n",
    "l_lmp_my_data = l_lmp_my_dir_setup.get_lmp_data()\n",
    "l_lmp_my_data"
   ]
  },
  {
   "cell_type": "code",
   "execution_count": 6,
   "metadata": {},
   "outputs": [
    {
     "data": {
      "text/plain": [
       "array([[[ True,  True,  True,  True],\n",
       "        [ True,  True,  True,  True],\n",
       "        [ True,  True,  True,  True],\n",
       "        [ True,  True,  True,  True],\n",
       "        [ True,  True,  True,  True]]])"
      ]
     },
     "execution_count": 6,
     "metadata": {},
     "output_type": "execute_result"
    }
   ],
   "source": [
    "l_lmp_my_data == data"
   ]
  },
  {
   "cell_type": "code",
   "execution_count": 7,
   "metadata": {},
   "outputs": [
    {
     "data": {
      "text/plain": [
       "array([[[ True, False,  True,  True],\n",
       "        [ True, False,  True,  True],\n",
       "        [ True, False, False,  True],\n",
       "        [ True, False, False, False],\n",
       "        [ True, False, False, False]]])"
      ]
     },
     "execution_count": 7,
     "metadata": {},
     "output_type": "execute_result"
    }
   ],
   "source": [
    "l_lmp_my_data == lmp_my_data"
   ]
  },
  {
   "cell_type": "code",
   "execution_count": 8,
   "metadata": {},
   "outputs": [
    {
     "data": {
      "text/plain": [
       "array([[[ True, False,  True,  True],\n",
       "        [ True, False,  True,  True],\n",
       "        [ True, False, False,  True],\n",
       "        [ True, False, False, False],\n",
       "        [ True, False, False, False]]])"
      ]
     },
     "execution_count": 8,
     "metadata": {},
     "output_type": "execute_result"
    }
   ],
   "source": [
    "l_lmp_my_data == my_data"
   ]
  },
  {
   "cell_type": "code",
   "execution_count": null,
   "metadata": {},
   "outputs": [],
   "source": []
  }
 ],
 "metadata": {
  "kernelspec": {
   "display_name": "Python 3",
   "language": "python",
   "name": "python3"
  },
  "language_info": {
   "codemirror_mode": {
    "name": "ipython",
    "version": 3
   },
   "file_extension": ".py",
   "mimetype": "text/x-python",
   "name": "python",
   "nbconvert_exporter": "python",
   "pygments_lexer": "ipython3",
   "version": "3.7.4"
  }
 },
 "nbformat": 4,
 "nbformat_minor": 2
}
