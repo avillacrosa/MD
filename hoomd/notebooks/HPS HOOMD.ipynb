{
 "cells": [
  {
   "cell_type": "code",
   "execution_count": 1,
   "metadata": {},
   "outputs": [],
   "source": [
    "%load_ext autoreload\n",
    "%autoreload 2\n",
    "import hoomdsetup\n",
    "import hoomd\n",
    "from hoomd import md"
   ]
  },
  {
   "cell_type": "code",
   "execution_count": 10,
   "metadata": {
    "scrolled": false
   },
   "outputs": [
    {
     "name": "stdout",
     "output_type": "stream",
     "text": [
      "notice(2): Group \"all\" created containing 448 particles\n",
      "notice(2): integrate.langevin/bd is using specified gamma values\n",
      "notice(2): -- Neighborlist exclusion statistics -- :\n",
      "notice(2): Particles with 1 exclusions             : 2\n",
      "notice(2): Particles with 2 exclusions             : 446\n",
      "notice(2): Neighbors included by diameter          : no\n",
      "notice(2): Neighbors excluded when in the same body: no\n",
      "** starting run **\n",
      "Time 00:00:02 | Step 1000 / 1000 | TPS 412.626 | ETA 00:00:00\n",
      "Average TPS: 412.432\n",
      "---------\n",
      "-- Neighborlist stats:\n",
      "741 normal updates / 10 forced updates / 0 dangerous updates\n",
      "n_neigh_min: 0 / n_neigh_max: 57 / n_neigh_avg: 17.2522\n",
      "shortest rebuild period: 1\n",
      "-- Cell list stats:\n",
      "Dimension: 5, 5, 5\n",
      "n_min    : 0 / n_max: 36 / n_avg: 3.584\n",
      "** run complete **\n"
     ]
    }
   ],
   "source": [
    "l = 200\n",
    "\n",
    "hps = hoomdsetup.HPS(protein='CPEB4')\n",
    "hoomd.context.initialize(\"\")\n",
    "box = hoomd.data.boxdim(Lx=l, Ly=l, Lz=l)\n",
    "\n",
    "snap = hoomd.data.make_snapshot(N=len(hps.sequence),\n",
    "                                box=box,\n",
    "                                bond_types=['harmonic'],\n",
    "                                particle_types=hps.particle_types)\n",
    "snap.particles.position[:] = hps.get_pos()\n",
    "hps.build_bonds(snap)\n",
    "\n",
    "hoomd.init.read_snapshot(snap);\n",
    "\n",
    "harmonic = md.bond.harmonic()\n",
    "harmonic.bond_coeff.set('harmonic', k=400.0, r0=3.8)\n",
    "\n",
    "nl = md.nlist.cell()\n",
    "hps_table = hps.get_HPS_pair_table(nl)\n",
    "\n",
    "md.integrate.mode_standard(dt=0.005)\n",
    "hoomd.md.integrate.langevin(group=hoomd.group.all(), kT=1.2, seed=4)\n",
    "\n",
    "# Run for 10,00 time steps\n",
    "hoomd.run(10e8)"
   ]
  },
  {
   "cell_type": "code",
   "execution_count": null,
   "metadata": {},
   "outputs": [],
   "source": []
  },
  {
   "cell_type": "code",
   "execution_count": null,
   "metadata": {},
   "outputs": [],
   "source": []
  },
  {
   "cell_type": "code",
   "execution_count": null,
   "metadata": {},
   "outputs": [],
   "source": []
  },
  {
   "cell_type": "code",
   "execution_count": null,
   "metadata": {},
   "outputs": [],
   "source": []
  },
  {
   "cell_type": "code",
   "execution_count": 14,
   "metadata": {},
   "outputs": [],
   "source": [
    "def HPS(r, rmin, rmax, eps, lambd, sigma):\n",
    "    V = 4*eps*((sigma/r)**12 - (sigma/r)**6)\n",
    "    F = 4*eps/r*(12*(sigma/r)**12 - 6*(sigma/r)**6)\n",
    "#     if r <= 2**(1/6)*sigma:\n",
    "#         V = V + (1-lambd)*eps\n",
    "#     else:\n",
    "#         V = lambd*V\n",
    "#         F = lambd*F\n",
    "    return (V, F)"
   ]
  },
  {
   "cell_type": "code",
   "execution_count": 18,
   "metadata": {
    "scrolled": false
   },
   "outputs": [
    {
     "name": "stdout",
     "output_type": "stream",
     "text": [
      "notice(2): Group \"all\" created containing 448 particles\n",
      "notice(2): integrate.langevin/bd is using specified gamma values\n",
      "notice(2): -- Neighborlist exclusion statistics -- :\n",
      "notice(2): Particles with 1 exclusions             : 2\n",
      "notice(2): Particles with 2 exclusions             : 446\n",
      "notice(2): Neighbors included by diameter          : no\n",
      "notice(2): Neighbors excluded when in the same body: no\n",
      "** starting run **\n"
     ]
    },
    {
     "name": "stderr",
     "output_type": "stream",
     "text": [
      "**ERROR**: out of memory before /hoomd/GPUArray.h:947\n"
     ]
    },
    {
     "ename": "RuntimeError",
     "evalue": "CUDA Error",
     "output_type": "error",
     "traceback": [
      "\u001b[0;31m---------------------------------------------------------------------------\u001b[0m",
      "\u001b[0;31mRuntimeError\u001b[0m                              Traceback (most recent call last)",
      "\u001b[0;32m<ipython-input-18-d9d77b65b75a>\u001b[0m in \u001b[0;36m<module>\u001b[0;34m\u001b[0m\n\u001b[1;32m     62\u001b[0m \u001b[0;34m\u001b[0m\u001b[0m\n\u001b[1;32m     63\u001b[0m \u001b[0;31m# Run for 10,00 time steps\u001b[0m\u001b[0;34m\u001b[0m\u001b[0;34m\u001b[0m\u001b[0;34m\u001b[0m\u001b[0m\n\u001b[0;32m---> 64\u001b[0;31m \u001b[0mhoomd\u001b[0m\u001b[0;34m.\u001b[0m\u001b[0mrun\u001b[0m\u001b[0;34m(\u001b[0m\u001b[0;36m10e1\u001b[0m\u001b[0;34m)\u001b[0m\u001b[0;34m\u001b[0m\u001b[0;34m\u001b[0m\u001b[0m\n\u001b[0m",
      "\u001b[0;32m~/anaconda3/lib/python3.7/site-packages/hoomd/__init__.py\u001b[0m in \u001b[0;36mrun\u001b[0;34m(tsteps, profile, limit_hours, limit_multiple, callback_period, callback, quiet)\u001b[0m\n\u001b[1;32m    199\u001b[0m     \u001b[0;32mif\u001b[0m \u001b[0;32mnot\u001b[0m \u001b[0mquiet\u001b[0m\u001b[0;34m:\u001b[0m\u001b[0;34m\u001b[0m\u001b[0;34m\u001b[0m\u001b[0m\n\u001b[1;32m    200\u001b[0m         \u001b[0mcontext\u001b[0m\u001b[0;34m.\u001b[0m\u001b[0mmsg\u001b[0m\u001b[0;34m.\u001b[0m\u001b[0mnotice\u001b[0m\u001b[0;34m(\u001b[0m\u001b[0;36m1\u001b[0m\u001b[0;34m,\u001b[0m \u001b[0;34m\"** starting run **\\n\"\u001b[0m\u001b[0;34m)\u001b[0m\u001b[0;34m;\u001b[0m\u001b[0;34m\u001b[0m\u001b[0;34m\u001b[0m\u001b[0m\n\u001b[0;32m--> 201\u001b[0;31m     \u001b[0mcontext\u001b[0m\u001b[0;34m.\u001b[0m\u001b[0mcurrent\u001b[0m\u001b[0;34m.\u001b[0m\u001b[0msystem\u001b[0m\u001b[0;34m.\u001b[0m\u001b[0mrun\u001b[0m\u001b[0;34m(\u001b[0m\u001b[0mint\u001b[0m\u001b[0;34m(\u001b[0m\u001b[0mtsteps\u001b[0m\u001b[0;34m)\u001b[0m\u001b[0;34m,\u001b[0m \u001b[0mcallback_period\u001b[0m\u001b[0;34m,\u001b[0m \u001b[0mcallback\u001b[0m\u001b[0;34m,\u001b[0m \u001b[0mlimit_hours\u001b[0m\u001b[0;34m,\u001b[0m \u001b[0mint\u001b[0m\u001b[0;34m(\u001b[0m\u001b[0mlimit_multiple\u001b[0m\u001b[0;34m)\u001b[0m\u001b[0;34m)\u001b[0m\u001b[0;34m;\u001b[0m\u001b[0;34m\u001b[0m\u001b[0;34m\u001b[0m\u001b[0m\n\u001b[0m\u001b[1;32m    202\u001b[0m     \u001b[0;32mif\u001b[0m \u001b[0;32mnot\u001b[0m \u001b[0mquiet\u001b[0m\u001b[0;34m:\u001b[0m\u001b[0;34m\u001b[0m\u001b[0;34m\u001b[0m\u001b[0m\n\u001b[1;32m    203\u001b[0m         \u001b[0mcontext\u001b[0m\u001b[0;34m.\u001b[0m\u001b[0mmsg\u001b[0m\u001b[0;34m.\u001b[0m\u001b[0mnotice\u001b[0m\u001b[0;34m(\u001b[0m\u001b[0;36m1\u001b[0m\u001b[0;34m,\u001b[0m \u001b[0;34m\"** run complete **\\n\"\u001b[0m\u001b[0;34m)\u001b[0m\u001b[0;34m;\u001b[0m\u001b[0;34m\u001b[0m\u001b[0;34m\u001b[0m\u001b[0m\n",
      "\u001b[0;31mRuntimeError\u001b[0m: CUDA Error"
     ]
    }
   ],
   "source": [
    "import hoomd\n",
    "import numpy as np\n",
    "from hoomd import md\n",
    "\n",
    "particles = {'A': {'id': 1, 'name': 'ALA', 'mass': 71.0800018, 'q': 0.0, 'lambda': 0.72973, 'sigma': 5.04}, 'R': {'id': 2, 'name': 'ARG', 'mass': 156.10111, 'q': 1.0, 'lambda': 0.0, 'sigma': 6.56}, 'N': {'id': 3, 'name': 'ASN', 'mass': 114.099998, 'q': 0.0, 'lambda': 0.432432, 'sigma': 5.68}, 'D': {'id': 4, 'name': 'ASP', 'mass': 115.099998, 'q': -1.0, 'lambda': 0.378378, 'sigma': 5.58}, 'C': {'id': 5, 'name': 'CYS', 'mass': 103.00919, 'q': 0.0, 'lambda': 0.594595, 'sigma': 5.48}, 'E': {'id': 6, 'name': 'GLU', 'mass': 129.100006, 'q': -1.0, 'lambda': 0.459459, 'sigma': 5.92}, 'Q': {'id': 7, 'name': 'GLN', 'mass': 128.100006, 'q': 0.0, 'lambda': 0.513514, 'sigma': 6.02}, 'G': {'id': 8, 'name': 'GLY', 'mass': 57.0499992, 'q': 0.0, 'lambda': 0.648649, 'sigma': 4.5}, 'H': {'id': 9, 'name': 'HIS', 'mass': 137.100006, 'q': 0.5, 'lambda': 0.513514, 'sigma': 6.08}, 'I': {'id': 10, 'name': 'ILE', 'mass': 113.199997, 'q': 0.0, 'lambda': 0.972973, 'sigma': 6.18}, 'L': {'id': 11, 'name': 'LEU', 'mass': 113.199997, 'q': 0.0, 'lambda': 0.972973, 'sigma': 6.18}, 'K': {'id': 12, 'name': 'LYS', 'mass': 128.199997, 'q': 1.0, 'lambda': 0.513514, 'sigma': 6.36}, 'M': {'id': 13, 'name': 'MET', 'mass': 131.199997, 'q': 0.0, 'lambda': 0.837838, 'sigma': 6.18}, 'F': {'id': 14, 'name': 'PHE', 'mass': 147.199997, 'q': 0.0, 'lambda': 1.0, 'sigma': 6.36}, 'P': {'id': 15, 'name': 'PRO', 'mass': 97.1200027, 'q': 0.0, 'lambda': 1.0, 'sigma': 5.56}, 'S': {'id': 16, 'name': 'SER', 'mass': 87.0800018, 'q': 0.0, 'lambda': 0.594595, 'sigma': 5.18}, 'T': {'id': 17, 'name': 'THR', 'mass': 101.099998, 'q': 0.0, 'lambda': 0.675676, 'sigma': 5.62}, 'W': {'id': 18, 'name': 'TRP', 'mass': 186.07931, 'q': 0.0, 'lambda': 0.945946, 'sigma': 6.78}, 'Y': {'id': 19, 'name': 'TYR', 'mass': 163.199997, 'q': 0.0, 'lambda': 0.864865, 'sigma': 6.46}, 'V': {'id': 20, 'name': 'VAL', 'mass': 99.0699997, 'q': 0.0, 'lambda': 0.891892, 'sigma': 5.86}}\n",
    "particle_types = list(particles.keys())\n",
    "l = 2000\n",
    "seq     = 'MGDYGFGVLVQSNTGNKSAFPVRFHPHLQPPHHHQNATPSPAAFINNNTAANGSSAGSAWLFPAPATHNIQDEILGSEKAKSQQQEQQDPLEKQQLSPSPGQEAGILPETEKAKSEENQGDNSSENGNGKEKIRIESPVLTGFDYQEATGLGTSTQPLTSSASSLTGFSNWSAAIAPSSSTIINEDASFFHQGGVPAASANNGALLFQNFPHHVSPGFGGSFSPQIGPLSQHHPHHPHFQHHHSQHQQQRRSPASPHPPPFTHRNAAFNQLPHLANNLNKPPSPWSSYQSPSPTPSSSWSPGGGGYGGWGGSQGRDHRRGLNGGITPLNSISPLKKNFASNHIQLQKYARPSSAFAPKSWMEDSLNRADNIFPFPDRPRTFDMHSLESSLIDIMRAENDTIKARTYGRRRGQSSLFPMEDGFLDDGRGDQPLHSGLGSPHCFSHQNGE'\n",
    "\n",
    "hoomd.context.initialize(\"\")\n",
    "\n",
    "box = hoomd.data.boxdim(Lx=l, Ly=l, Lz=l)\n",
    "snap = hoomd.data.make_snapshot(N=len(seq),\n",
    "                                box=box,\n",
    "                                bond_types=['harmonic'],\n",
    "                                particle_types=particle_types)\n",
    "\n",
    "snap.particles.position[:] = pos\n",
    "\n",
    "bond_arr = []\n",
    "for i, aa in enumerate(seq):\n",
    "    snap.particles.typeid[i]=particles[aa][\"id\"]\n",
    "    bond_arr.append([i,i+1])\n",
    "del bond_arr[-1]\n",
    "snap.bonds.resize(len(seq)-1);\n",
    "snap.bonds.group[:] = bond_arr[:]\n",
    "\n",
    "hoomd.init.read_snapshot(snap);\n",
    "\n",
    "harmonic = md.bond.harmonic()\n",
    "harmonic.bond_coeff.set('harmonic', k=400.0, r0=3.8)\n",
    "\n",
    "\n",
    "nl = md.nlist.cell()\n",
    "lj = hoomd.md.pair.lj(r_cut=3.0, nlist=nl)\n",
    "\n",
    "# debye = md.charge.pppm(group='all', nlist=nl)\n",
    "# hps_table = md.pair.table(width=len(seq), nlist=nl);\n",
    "for i in range(len(particle_types)):\n",
    "    aa_i = particle_types[i]\n",
    "    for j in range(i, len(particle_types)):\n",
    "        aa_j = particle_types[j]\n",
    "#         print(aa_i, aa_j)\n",
    "        lj.pair_coeff.set(str(aa_i), str(aa_j), epsilon=1.0, sigma=1.0)\n",
    "#         lj.pair_coeff.set('A', 'A', epsilon=1.0, sigma=1.0)\n",
    "\n",
    "        \n",
    "#         lambd = (particles[aa_i][\"lambda\"] + particles[aa_j][\"lambda\"])/2\n",
    "#         sigma = (particles[aa_i][\"sigma\"] + particles[aa_j][\"sigma\"])/2\n",
    "#         hps_table.pair_coeff.set(aa_i, aa_j, func=HPS, \n",
    "#                                  rmin=0.8, \n",
    "#                                  rmax=0.9,\n",
    "#                                  coeff=dict(eps=10, lambd=lambd, sigma=4))\n",
    "\n",
    "\n",
    "# lj = md.pair.lj(r_cut=3.0, nlist=nl)\n",
    "# lj.pair_coeff.set('A', 'A', epsilon=1.0, sigma=1.0)\n",
    "\n",
    "# Integrate at constant temperature\n",
    "md.integrate.mode_standard(dt=0.005)\n",
    "hoomd.md.integrate.langevin(group=hoomd.group.all(), kT=1.2, seed=4)\n",
    "\n",
    "# Run for 10,00 time steps\n",
    "hoomd.run(10e1)"
   ]
  },
  {
   "cell_type": "code",
   "execution_count": null,
   "metadata": {},
   "outputs": [],
   "source": [
    "import hoomd\n",
    "import numpy as np\n",
    "from hoomd import md\n",
    "\n",
    "def HPS(r, rmin, rmax, eps, lambd, sigma):\n",
    "    V = 4*eps*((sigma/r)**12 - (sigma/r)**6)\n",
    "    F = 4*eps/r*(12*(sigma/r)**12 - 6*(sigma/r)**6)\n",
    "    if r <= 2**(1/6)*sigma:\n",
    "        V = V + (1-lambd)*eps\n",
    "    else:\n",
    "        V = lambd*V\n",
    "        F = lambd*F\n",
    "    return (V, F)\n",
    "\n",
    "particles = {'A': {'id': 1, 'name': 'ALA', 'mass': 71.0800018, 'q': 0.0, 'lambda': 0.72973, 'sigma': 5.04}, 'R': {'id': 2, 'name': 'ARG', 'mass': 156.10111, 'q': 1.0, 'lambda': 0.0, 'sigma': 6.56}, 'N': {'id': 3, 'name': 'ASN', 'mass': 114.099998, 'q': 0.0, 'lambda': 0.432432, 'sigma': 5.68}, 'D': {'id': 4, 'name': 'ASP', 'mass': 115.099998, 'q': -1.0, 'lambda': 0.378378, 'sigma': 5.58}, 'C': {'id': 5, 'name': 'CYS', 'mass': 103.00919, 'q': 0.0, 'lambda': 0.594595, 'sigma': 5.48}, 'E': {'id': 6, 'name': 'GLU', 'mass': 129.100006, 'q': -1.0, 'lambda': 0.459459, 'sigma': 5.92}, 'Q': {'id': 7, 'name': 'GLN', 'mass': 128.100006, 'q': 0.0, 'lambda': 0.513514, 'sigma': 6.02}, 'G': {'id': 8, 'name': 'GLY', 'mass': 57.0499992, 'q': 0.0, 'lambda': 0.648649, 'sigma': 4.5}, 'H': {'id': 9, 'name': 'HIS', 'mass': 137.100006, 'q': 0.5, 'lambda': 0.513514, 'sigma': 6.08}, 'I': {'id': 10, 'name': 'ILE', 'mass': 113.199997, 'q': 0.0, 'lambda': 0.972973, 'sigma': 6.18}, 'L': {'id': 11, 'name': 'LEU', 'mass': 113.199997, 'q': 0.0, 'lambda': 0.972973, 'sigma': 6.18}, 'K': {'id': 12, 'name': 'LYS', 'mass': 128.199997, 'q': 1.0, 'lambda': 0.513514, 'sigma': 6.36}, 'M': {'id': 13, 'name': 'MET', 'mass': 131.199997, 'q': 0.0, 'lambda': 0.837838, 'sigma': 6.18}, 'F': {'id': 14, 'name': 'PHE', 'mass': 147.199997, 'q': 0.0, 'lambda': 1.0, 'sigma': 6.36}, 'P': {'id': 15, 'name': 'PRO', 'mass': 97.1200027, 'q': 0.0, 'lambda': 1.0, 'sigma': 5.56}, 'S': {'id': 16, 'name': 'SER', 'mass': 87.0800018, 'q': 0.0, 'lambda': 0.594595, 'sigma': 5.18}, 'T': {'id': 17, 'name': 'THR', 'mass': 101.099998, 'q': 0.0, 'lambda': 0.675676, 'sigma': 5.62}, 'W': {'id': 18, 'name': 'TRP', 'mass': 186.07931, 'q': 0.0, 'lambda': 0.945946, 'sigma': 6.78}, 'Y': {'id': 19, 'name': 'TYR', 'mass': 163.199997, 'q': 0.0, 'lambda': 0.864865, 'sigma': 6.46}, 'V': {'id': 20, 'name': 'VAL', 'mass': 99.0699997, 'q': 0.0, 'lambda': 0.891892, 'sigma': 5.86}}\n",
    "particle_types = list(particles.keys())\n",
    "l = 200\n",
    "seq     = 'MGDYGFGVLVQSNTGNKSAFPVRFHPHLQPPHHHQNATPSPAAFINNNTAANGSSAGSAWLFPAPATHNIQDEILGSEKAKSQQQEQQDPLEKQQLSPSPGQEAGILPETEKAKSEENQGDNSSENGNGKEKIRIESPVLTGFDYQEATGLGTSTQPLTSSASSLTGFSNWSAAIAPSSSTIINEDASFFHQGGVPAASANNGALLFQNFPHHVSPGFGGSFSPQIGPLSQHHPHHPHFQHHHSQHQQQRRSPASPHPPPFTHRNAAFNQLPHLANNLNKPPSPWSSYQSPSPTPSSSWSPGGGGYGGWGGSQGRDHRRGLNGGITPLNSISPLKKNFASNHIQLQKYARPSSAFAPKSWMEDSLNRADNIFPFPDRPRTFDMHSLESSLIDIMRAENDTIKARTYGRRRGQSSLFPMEDGFLDDGRGDQPLHSGLGSPHCFSHQNGE'\n",
    "\n",
    "hoomd.context.initialize(\"\")\n",
    "\n",
    "box = hoomd.data.boxdim(Lx=l, Ly=l, Lz=l)\n",
    "snap = hoomd.data.make_snapshot(N=len(seq),\n",
    "                                box=box,\n",
    "                                bond_types=['harmonic'],\n",
    "                                particle_types=particle_types)\n",
    "bond_arr = []\n",
    "for i, aa in enumerate(seq):\n",
    "    snap.particles.typeid[i]=particles[aa][\"id\"]\n",
    "    bond_arr.append([i,i+1])\n",
    "del bond_arr[-1]\n",
    "snap.bonds.resize(len(seq)-1);\n",
    "snap.bonds.group[:] = bond_arr[:]\n",
    "    \n",
    "hoomd.init.read_snapshot(snap);\n",
    "\n",
    "harmonic = md.bond.harmonic()\n",
    "harmonic.bond_coeff.set('harmonic', k=100.0, r0=3.8)\n",
    "\n",
    "# Specify Lennard-Jones interactions between particle pairs\n",
    "nl = md.nlist.cell()\n",
    "# debye = md.charge.pppm(group='all', nlist=nl)\n",
    "hps_table = md.pair.table(width=len(seq), nlist=nl);\n",
    "for i in range(len(particle_types)):\n",
    "    aa_i = particle_types[i]\n",
    "    for j in range(i, len(particle_types)):\n",
    "        aa_j = particle_types[j]\n",
    "        lambd = (particles[aa_i][\"lambda\"] + particles[aa_j][\"lambda\"])/2\n",
    "        sigma = (particles[aa_i][\"sigma\"] + particles[aa_j][\"sigma\"])/2\n",
    "        hps_table.pair_coeff.set(aa_i, aa_j, func=HPS, \n",
    "                                 rmin=3.8, \n",
    "                                 rmax=35,\n",
    "                                 coeff=dict(eps=0.1, lambd=lambd, sigma=sigma))\n",
    "\n",
    "\n",
    "# lj = md.pair.lj(r_cut=3.0, nlist=nl)\n",
    "# lj.pair_coeff.set('A', 'A', epsilon=1.0, sigma=1.0)\n",
    "\n",
    "# Integrate at constant temperature\n",
    "md.integrate.mode_standard(dt=0.005)\n",
    "hoomd.md.integrate.langevin(group=hoomd.group.all(), kT=1.2, seed=4)\n",
    "\n",
    "# Run for 10,00 time steps\n",
    "hoomd.run(10e2)\n"
   ]
  },
  {
   "cell_type": "code",
   "execution_count": null,
   "metadata": {},
   "outputs": [],
   "source": []
  }
 ],
 "metadata": {
  "kernelspec": {
   "display_name": "Python 3",
   "language": "python",
   "name": "python3"
  },
  "language_info": {
   "codemirror_mode": {
    "name": "ipython",
    "version": 3
   },
   "file_extension": ".py",
   "mimetype": "text/x-python",
   "name": "python",
   "nbconvert_exporter": "python",
   "pygments_lexer": "ipython3",
   "version": "3.7.4"
  }
 },
 "nbformat": 4,
 "nbformat_minor": 2
}
