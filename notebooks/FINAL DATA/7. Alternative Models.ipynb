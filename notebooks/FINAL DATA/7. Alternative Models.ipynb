{
 "cells": [
  {
   "cell_type": "code",
   "execution_count": 2,
   "metadata": {},
   "outputs": [],
   "source": [
    "%load_ext autoreload\n",
    "%autoreload 2\n",
    "%matplotlib inline\n",
    "\n",
    "import lmpsetup\n",
    "import hmdsetup\n",
    "\n",
    "import lmp\n",
    "import hmd\n",
    "\n",
    "import numpy as np\n",
    "import matplotlib.pyplot as plt\n",
    "import analysis\n",
    "\n",
    "import scipy.constants as cnt\n",
    "\n",
    "import shutil\n",
    "import os\n",
    "import mdtraj as md\n",
    "import statsmodels.tsa.stattools\n",
    "import MDAnalysis as mda\n",
    "import scipy\n",
    "from matplotlib.lines import Line2D\n",
    "\n",
    "WT_COL='darkblue'\n",
    "D7_COL='royalblue'\n",
    "\n",
    "D4_COL = 'red'\n",
    "D12_COL = 'orange'"
   ]
  },
  {
   "cell_type": "markdown",
   "metadata": {},
   "source": [
    "### KH"
   ]
  },
  {
   "cell_type": "code",
   "execution_count": null,
   "metadata": {},
   "outputs": [],
   "source": []
  },
  {
   "cell_type": "markdown",
   "metadata": {},
   "source": [
    "#### Cat-$\\pi$ extended"
   ]
  },
  {
   "cell_type": "code",
   "execution_count": 3,
   "metadata": {},
   "outputs": [],
   "source": [
    "wt = hmd.HMD(md_dir='/home/adria/perdiux/prod/lammps/final/HPS-catpi/WT')"
   ]
  },
  {
   "cell_type": "code",
   "execution_count": 4,
   "metadata": {},
   "outputs": [],
   "source": [
    "d4 = hmd.HMD(md_dir='/home/adria/perdiux/prod/lammps/final/HPS-catpi/D4')"
   ]
  },
  {
   "cell_type": "code",
   "execution_count": 5,
   "metadata": {},
   "outputs": [
    {
     "data": {
      "text/plain": [
       "(array([23.492923  , 24.11125108, 24.80911152, 25.75107044, 26.74087799,\n",
       "        27.95516828, 29.51512758, 31.49369596]),\n",
       " array([0.00963066, 0.02528404, 0.02234567, 0.01199544, 0.07293934,\n",
       "        0.03970716, 0.06544292, 0.09690384]))"
      ]
     },
     "execution_count": 5,
     "metadata": {},
     "output_type": "execute_result"
    }
   ],
   "source": [
    "wt.rg()\n",
    "d4.rg()"
   ]
  },
  {
   "cell_type": "code",
   "execution_count": 10,
   "metadata": {},
   "outputs": [
    {
     "data": {
      "text/plain": [
       "<matplotlib.legend.Legend at 0x7f3eb62bd0d0>"
      ]
     },
     "execution_count": 10,
     "metadata": {},
     "output_type": "execute_result"
    },
    {
     "data": {
      "image/png": "[encoded data removed]",
      "text/plain": [
       "<Figure size 432x288 with 1 Axes>"
      ]
     },
     "metadata": {
      "needs_background": "light"
     },
     "output_type": "display_data"
    }
   ],
   "source": [
    "plt.plot(wt.c_rg[0], label='D4')\n",
    "plt.plot(d4.c_rg[0], label='WT')\n",
    "plt.legend()"
   ]
  }
 ],
 "metadata": {
  "kernelspec": {
   "display_name": "Python 3",
   "language": "python",
   "name": "python3"
  }
 },
 "nbformat": 4,
 "nbformat_minor": 2
}
