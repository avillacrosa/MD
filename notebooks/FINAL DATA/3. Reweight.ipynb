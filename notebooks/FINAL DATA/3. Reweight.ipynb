{
 "cells": [
  {
   "cell_type": "code",
   "execution_count": 1,
   "metadata": {},
   "outputs": [],
   "source": [
    "%load_ext autoreload\n",
    "%autoreload 2\n",
    "%matplotlib inline\n",
    "\n",
    "import lmpsetup\n",
    "import hmdsetup\n",
    "\n",
    "import lmp\n",
    "import hmd\n",
    "\n",
    "import pandas as pd\n",
    "\n",
    "import numpy as np\n",
    "import matplotlib.pyplot as plt\n",
    "import analysis\n",
    "\n",
    "import scipy.constants as cnt\n",
    "\n",
    "import shutil\n",
    "import os\n",
    "import mdtraj as md\n",
    "import statsmodels.tsa.stattools\n",
    "import MDAnalysis.analysis as mda\n",
    "import scipy\n",
    "from matplotlib.lines import Line2D\n",
    "\n",
    "WT_COL='darkblue'\n",
    "D7_COL='royalblue'\n",
    "\n",
    "D4_COL = 'red'\n",
    "D12_COL = 'orange'"
   ]
  },
  {
   "cell_type": "code",
   "execution_count": 13,
   "metadata": {},
   "outputs": [
    {
     "data": {
      "text/plain": [
       "array([0.6  , 0.625, 0.65 , 0.675, 0.7  , 0.725, 0.75 ])"
      ]
     },
     "execution_count": 13,
     "metadata": {},
     "output_type": "execute_result"
    }
   ],
   "source": [
    "np.arange(0.6,0.75,0.025)"
   ]
  },
  {
   "cell_type": "code",
   "execution_count": 14,
   "metadata": {},
   "outputs": [
    {
     "data": {
      "text/plain": [
       "array([0.75 , 0.775, 0.8  , 0.825, 0.85 , 0.875, 0.9  ])"
      ]
     },
     "execution_count": 14,
     "metadata": {},
     "output_type": "execute_result"
    }
   ],
   "source": [
    "np.arange(0.75,0.9,0.025)"
   ]
  },
  {
   "cell_type": "code",
   "execution_count": 16,
   "metadata": {},
   "outputs": [
    {
     "data": {
      "text/plain": [
       "array([0.9  , 0.925, 0.95 , 0.975, 1.   , 1.025, 1.05 , 1.075, 1.1  ])"
      ]
     },
     "execution_count": 16,
     "metadata": {},
     "output_type": "execute_result"
    }
   ],
   "source": [
    "np.arange(0.9,1.1+0.025,0.025)"
   ]
  },
  {
   "cell_type": "markdown",
   "metadata": {},
   "source": [
    "### FULL ROUTINE"
   ]
  },
  {
   "cell_type": "markdown",
   "metadata": {},
   "source": [
    "### 12D - D4"
   ]
  },
  {
   "cell_type": "code",
   "execution_count": 45,
   "metadata": {
    "scrolled": true
   },
   "outputs": [
    {
     "data": {
      "text/plain": [
       "<matplotlib.colorbar.Colorbar at 0x7f7cf02c0890>"
      ]
     },
     "execution_count": 45,
     "metadata": {},
     "output_type": "execute_result"
    },
    {
     "data": {
      "image/png": "[encoded data removed]",
      "text/plain": [
       "<Figure size 1152x288 with 5 Axes>"
      ]
     },
     "metadata": {
      "needs_background": "light"
     },
     "output_type": "display_data"
    }
   ],
   "source": [
    "# ls=[\"1.0\",\"0.8\", \"0.75\", \"0.7\", \"0.6\"]\n",
    "# ls=[\"1.0\",\"0.8\", \"0.75\", \"0.6\"]\n",
    "ts = np.linspace(280,400,8)\n",
    "fig, axs = plt.subplots(1, 4, figsize=(16, 4))\n",
    "c=0\n",
    "for T in [0]:\n",
    "    ls=[\"1.0\",\"0.8\", \"0.75\"]\n",
    "    data = []\n",
    "    for l in ls:\n",
    "        if len(data) == 0:\n",
    "            data = np.genfromtxt(f'/home/adria/scripts/md/bin/d12-d4/rw_{l}_HPST-{T}.txt', skip_header=2)\n",
    "        else:\n",
    "            test = np.genfromtxt(f'/home/adria/scripts/md/bin/d12-d4/rw_{l}_HPST-{T}.txt', skip_header=2)\n",
    "            data = np.concatenate([data, test])\n",
    "\n",
    "    ls = np.flip(np.unique(data[:,0]))\n",
    "    eps = np.flip(np.unique(data[:,1]))\n",
    "\n",
    "    rw = pd.DataFrame(index=eps, columns=ls)\n",
    "    rw = rw.astype('float64')\n",
    "    neff_rw = pd.DataFrame(np.random.randint(0,10,size=(len(eps), len(ls))), index=eps, columns=ls)\n",
    "    neff_rw = neff_rw.astype('float64')\n",
    "\n",
    "    for row in data:\n",
    "        l = row[0]\n",
    "        e = row[1]\n",
    "        diff = row[2]\n",
    "        neff = row[3]\n",
    "        neff = row[4]\n",
    "        rw[l][e] = diff.astype(float)\n",
    "        neff_rw[l][e] = neff    \n",
    "\n",
    "    cut = 0.3\n",
    "    mask = rw\n",
    "    mask.values[np.where(neff_rw.values<cut)] = np.nan\n",
    "    \n",
    "    cmap = plt.get_cmap()\n",
    "    cmap.set_bad(color = 'grey', alpha = 1.)\n",
    "    img = axs[c].pcolormesh(eps,ls,rw.T, cmap=cmap)\n",
    "    axs[c].set_title(f\"{ts[c]:.0f}\")\n",
    "    c+=1\n",
    "    \n",
    "fig.subplots_adjust(right=0.81)\n",
    "cbar_ax = fig.add_axes([0.85, 0.15, 0.03, 0.7])\n",
    "fig.colorbar(img, cax=cbar_ax)"
   ]
  },
  {
   "cell_type": "markdown",
   "metadata": {},
   "source": [
    "### 7D - WT"
   ]
  },
  {
   "cell_type": "code",
   "execution_count": 41,
   "metadata": {},
   "outputs": [
    {
     "data": {
      "text/plain": [
       "<matplotlib.colorbar.Colorbar at 0x7f7cf07f5a10>"
      ]
     },
     "execution_count": 41,
     "metadata": {},
     "output_type": "execute_result"
    },
    {
     "data": {
      "image/png": "[encoded data removed]",
      "text/plain": [
       "<Figure size 1152x288 with 5 Axes>"
      ]
     },
     "metadata": {
      "needs_background": "light"
     },
     "output_type": "display_data"
    }
   ],
   "source": [
    "# ls=[\"1.0\",\"0.8\", \"0.75\", \"0.7\", \"0.6\"]\n",
    "# ls=[\"1.0\",\"0.8\", \"0.75\", \"0.6\"]\n",
    "ts = np.linspace(280,400,8)\n",
    "fig, axs = plt.subplots(1, 4, figsize=(16, 4))\n",
    "c=0\n",
    "for T in [0]:\n",
    "    ls=[\"1.0\",\"0.8\", \"0.75\"]\n",
    "    data = []\n",
    "    for l in ls:\n",
    "        if len(data) == 0:\n",
    "            data = np.genfromtxt(f'/home/adria/scripts/md/bin/d7-wt/rw_{l}_HPST-{T}.txt', skip_header=2)\n",
    "        else:\n",
    "            test = np.genfromtxt(f'/home/adria/scripts/md/bin/d7-wt/rw_{l}_HPST-{T}.txt', skip_header=2)\n",
    "            data = np.concatenate([data, test])\n",
    "\n",
    "    ls = np.flip(np.unique(data[:,0]))\n",
    "    eps = np.flip(np.unique(data[:,1]))\n",
    "\n",
    "    rw = pd.DataFrame(index=eps, columns=ls)\n",
    "    rw = rw.astype('float64')\n",
    "    neff_rw = pd.DataFrame(np.random.randint(0,10,size=(len(eps), len(ls))), index=eps, columns=ls)\n",
    "    neff_rw = neff_rw.astype('float64')\n",
    "\n",
    "    for row in data:\n",
    "        l = row[0]\n",
    "        e = row[1]\n",
    "        diff = row[2]\n",
    "        neff = row[3]\n",
    "        neff = row[4]\n",
    "        rw[l][e] = diff.astype(float)\n",
    "        neff_rw[l][e] = neff    \n",
    "\n",
    "    cut = 0.2\n",
    "    mask = rw\n",
    "    mask.values[np.where(neff_rw.values<cut)] = np.nan\n",
    "    \n",
    "    cmap = plt.get_cmap()\n",
    "    cmap.set_bad(color = 'grey', alpha = 1.)\n",
    "    img = axs[c].pcolormesh(eps,ls,rw.T, cmap=cmap)\n",
    "    axs[c].set_title(f\"{ts[c]:.0f}\")\n",
    "    c+=1\n",
    "    \n",
    "fig.subplots_adjust(right=0.81)\n",
    "cbar_ax = fig.add_axes([0.85, 0.15, 0.03, 0.7])\n",
    "fig.colorbar(img, cax=cbar_ax)"
   ]
  },
  {
   "cell_type": "markdown",
   "metadata": {},
   "source": [
    "### WT - E4"
   ]
  },
  {
   "cell_type": "code",
   "execution_count": 39,
   "metadata": {},
   "outputs": [
    {
     "data": {
      "text/plain": [
       "<matplotlib.colorbar.Colorbar at 0x7f7cf0b7e910>"
      ]
     },
     "execution_count": 39,
     "metadata": {},
     "output_type": "execute_result"
    },
    {
     "data": {
      "image/png": "[encoded data removed]",
      "text/plain": [
       "<Figure size 1152x288 with 5 Axes>"
      ]
     },
     "metadata": {
      "needs_background": "light"
     },
     "output_type": "display_data"
    }
   ],
   "source": [
    "# ls=[\"1.0\",\"0.8\", \"0.75\", \"0.7\", \"0.6\"]\n",
    "# ls=[\"1.0\",\"0.8\", \"0.75\", \"0.6\"]\n",
    "ts = np.linspace(280,400,8)\n",
    "fig, axs = plt.subplots(1, 4, figsize=(16, 4))\n",
    "c=0\n",
    "for T in [0]:\n",
    "    ls=[\"1.0\",\"0.8\", \"0.75\"]\n",
    "    data = []\n",
    "    for l in ls:\n",
    "        if len(data) == 0:\n",
    "            data = np.genfromtxt(f'/home/adria/scripts/md/bin/wt-d4/rw_{l}_HPST-{T}.txt', skip_header=2)\n",
    "        else:\n",
    "            test = np.genfromtxt(f'/home/adria/scripts/md/bin/wt-d4/rw_{l}_HPST-{T}.txt', skip_header=2)\n",
    "            data = np.concatenate([data, test])\n",
    "\n",
    "    ls = np.flip(np.unique(data[:,0]))\n",
    "    eps = np.flip(np.unique(data[:,1]))\n",
    "\n",
    "    rw = pd.DataFrame(index=eps, columns=ls)\n",
    "    rw = rw.astype('float64')\n",
    "    neff_rw = pd.DataFrame(np.random.randint(0,10,size=(len(eps), len(ls))), index=eps, columns=ls)\n",
    "    neff_rw = neff_rw.astype('float64')\n",
    "\n",
    "    for row in data:\n",
    "        l = row[0]\n",
    "        e = row[1]\n",
    "        diff = row[2]\n",
    "        neff = row[3]\n",
    "        neff = row[4]\n",
    "        rw[l][e] = diff.astype(float)\n",
    "        neff_rw[l][e] = neff    \n",
    "\n",
    "    cut = 0.2\n",
    "    mask = rw\n",
    "    mask.values[np.where(neff_rw.values<cut)] = np.nan\n",
    "    \n",
    "    cmap = plt.get_cmap()\n",
    "    cmap.set_bad(color = 'grey', alpha = 1.)\n",
    "    img = axs[c].pcolormesh(eps,ls,rw.T, cmap=cmap)\n",
    "    axs[c].set_title(f\"{ts[c]:.0f}\")\n",
    "    c+=1\n",
    "    \n",
    "fig.subplots_adjust(right=0.81)\n",
    "cbar_ax = fig.add_axes([0.85, 0.15, 0.03, 0.7])\n",
    "fig.colorbar(img, cax=cbar_ax)"
   ]
  },
  {
   "cell_type": "code",
   "execution_count": null,
   "metadata": {},
   "outputs": [],
   "source": []
  },
  {
   "cell_type": "code",
   "execution_count": null,
   "metadata": {},
   "outputs": [],
   "source": []
  },
  {
   "cell_type": "code",
   "execution_count": null,
   "metadata": {},
   "outputs": [],
   "source": []
  },
  {
   "cell_type": "markdown",
   "metadata": {},
   "source": [
    "### 0.75 eps only"
   ]
  },
  {
   "cell_type": "code",
   "execution_count": 26,
   "metadata": {
    "scrolled": true
   },
   "outputs": [
    {
     "data": {
      "image/png": "[encoded data removed]",
      "text/plain": [
       "<Figure size 432x288 with 1 Axes>"
      ]
     },
     "metadata": {
      "needs_background": "light"
     },
     "output_type": "display_data"
    }
   ],
   "source": [
    "c=0\n",
    "fig, ax = plt.subplots()\n",
    "for T in range(0,1):\n",
    "    ls=[\"0.75\"]\n",
    "    data = []\n",
    "    for l in ls:\n",
    "        if len(data) == 0:\n",
    "            data = np.genfromtxt(f'/home/adria/rw_results_eps/rw_{l}_HPST-{T}.txt', skip_header=2)\n",
    "        else:\n",
    "            test = np.genfromtxt(f'/home/adria/rw_results_eps/rw_{l}_HPST-{T}.txt', skip_header=2)\n",
    "            data = np.concatenate([data, test])\n",
    "    ls = np.flip(np.unique(data[:,0]))\n",
    "    eps = np.flip(np.unique(data[:,1]))\n",
    "    ax.plot(np.flip(data[:,1]), data[:,2],'o')\n",
    "    secaxy = ax.secondary_yaxis('right')\n",
    "    secaxy.plot()\n",
    "\n",
    "#     plt.plot(np.flip(data[:,1]), data[:,2],'o')\n",
    "    \n"
   ]
  },
  {
   "cell_type": "code",
   "execution_count": null,
   "metadata": {},
   "outputs": [],
   "source": []
  },
  {
   "cell_type": "code",
   "execution_count": null,
   "metadata": {},
   "outputs": [],
   "source": []
  },
  {
   "cell_type": "code",
   "execution_count": null,
   "metadata": {},
   "outputs": [],
   "source": []
  },
  {
   "cell_type": "code",
   "execution_count": 150,
   "metadata": {},
   "outputs": [
    {
     "data": {
      "image/png": "[encoded data removed]",
      "text/plain": [
       "<Figure size 432x288 with 2 Axes>"
      ]
     },
     "metadata": {
      "needs_background": "light"
     },
     "output_type": "display_data"
    }
   ],
   "source": [
    "# ls=[\"1.0\",\"0.8\", \"0.75\", \"0.7\", \"0.6\"]\n",
    "# ls=[\"1.0\",\"0.8\", \"0.75\", \"0.6\"]\n",
    "\n",
    "# fig, axs = plt.subplots(1, 4, figsize=(16, 4))\n",
    "c=0\n",
    "for T in range(3,4):\n",
    "    ls=[\"0.75\"]\n",
    "    data = []\n",
    "    for l in ls:\n",
    "        if len(data) == 0:\n",
    "            data = np.genfromtxt(f'/home/adria/rw_results3/rw_{l}_HPST-{T}.txt', skip_header=2)\n",
    "        else:\n",
    "            test = np.genfromtxt(f'/home/adria/rw_results3/rw_{l}_HPST-{T}.txt', skip_header=2)\n",
    "            data = np.concatenate([data, test])\n",
    "\n",
    "    ls = np.flip(np.unique(data[:,0]))\n",
    "    eps = np.flip(np.unique(data[:,1]))\n",
    "\n",
    "    rw = pd.DataFrame(np.random.randint(0,10,size=(len(eps), len(ls))), index=eps, columns=ls)\n",
    "    rw = rw.astype('float64')\n",
    "    neff_rw = pd.DataFrame(np.random.randint(0,10,size=(len(eps), len(ls))), index=eps, columns=ls)\n",
    "    neff_rw = neff_rw.astype('float64')\n",
    "\n",
    "    for row in data:\n",
    "        l = row[0]\n",
    "        e = row[1]\n",
    "        diff = row[2]\n",
    "        neff = row[3]\n",
    "        neff = row[4]\n",
    "        rw[l][e] = diff.astype(float)\n",
    "        neff_rw[l][e] = neff    \n",
    "\n",
    "    cut = 0.6\n",
    "    mask = rw\n",
    "    mask.values[np.where(neff_rw.values<cut)] = np.nan\n",
    "    \n",
    "    cmap = plt.get_cmap()\n",
    "    cmap.set_bad(color = 'grey', alpha = 1.)\n",
    "    # img = plt.pcolor(ls,eps,rw)\n",
    "    img = plt.pcolormesh(eps,ls,rw.T, cmap=cmap)\n",
    "    plt.colorbar(img)\n",
    "    c+=1\n",
    "    \n",
    "# fig.subplots_adjust(right=0.8)\n",
    "# cbar_ax = fig.add_axes([0.85, 0.15, 0.05, 0.7])\n",
    "# fig.colorbar(img, cax=cbar_ax)"
   ]
  },
  {
   "cell_type": "code",
   "execution_count": null,
   "metadata": {},
   "outputs": [],
   "source": []
  },
  {
   "cell_type": "code",
   "execution_count": null,
   "metadata": {},
   "outputs": [],
   "source": []
  },
  {
   "cell_type": "code",
   "execution_count": null,
   "metadata": {},
   "outputs": [],
   "source": []
  }
 ],
 "metadata": {
  "kernelspec": {
   "display_name": "Python 3",
   "language": "python",
   "name": "python3"
  },
  "language_info": {
   "codemirror_mode": {
    "name": "ipython",
    "version": 3
   },
   "file_extension": ".py",
   "mimetype": "text/x-python",
   "name": "python",
   "nbconvert_exporter": "python",
   "pygments_lexer": "ipython3",
   "version": "3.7.4"
  }
 },
 "nbformat": 4,
 "nbformat_minor": 2
}
