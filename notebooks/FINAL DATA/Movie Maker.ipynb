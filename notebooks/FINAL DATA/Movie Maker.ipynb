{
 "cells": [
  {
   "cell_type": "code",
   "execution_count": 1,
   "metadata": {},
   "outputs": [],
   "source": [
    "%load_ext autoreload\n",
    "%autoreload 2\n",
    "%matplotlib inline\n",
    "\n",
    "import lmpsetup\n",
    "import hmdsetup\n",
    "\n",
    "import lmp\n",
    "import hmd\n",
    "\n",
    "import pandas as pd\n",
    "\n",
    "import numpy as np\n",
    "import matplotlib.pyplot as plt\n",
    "import analysis\n",
    "\n",
    "import scipy.constants as cnt\n",
    "\n",
    "import shutil\n",
    "import os\n",
    "import mdtraj as md\n",
    "import statsmodels.tsa.stattools\n",
    "import MDAnalysis.analysis as mda\n",
    "import scipy\n",
    "from matplotlib.lines import Line2D\n",
    "\n",
    "\n",
    "from style_vars import *\n",
    "plt.style.use('default')\n",
    "plt.style.use('style.mplstyle')\n",
    "\n",
    "hps_lines = [Line2D([0], [0], color='black', ls='--'),\n",
    "                Line2D([0], [0], color='black')]\n",
    "\n",
    "wt_d4_lines = [Line2D([0], [0], color=C_W),\n",
    "                Line2D([0], [0], color=C_4)]"
   ]
  },
  {
   "cell_type": "code",
   "execution_count": 3,
   "metadata": {},
   "outputs": [
    {
     "name": "stdout",
     "output_type": "stream",
     "text": [
      "Saving at /home/adria/Movies/HMD/HPS-T/1.0/D4\n"
     ]
    }
   ],
   "source": [
    "hmd.HMD(md_dir='/home/adria/irb/final/D4').save_frames(name='HPS-T/1.0/D4')"
   ]
  },
  {
   "cell_type": "code",
   "execution_count": 6,
   "metadata": {},
   "outputs": [
    {
     "name": "stdout",
     "output_type": "stream",
     "text": [
      "Saving at /home/adria/Movies/HMD/HPS-T/1.0/WT\n"
     ]
    }
   ],
   "source": [
    "hmd.HMD(md_dir='/home/adria/irb/final/WT').save_frames(name='HPS-T/1.0/WT')"
   ]
  },
  {
   "cell_type": "code",
   "execution_count": null,
   "metadata": {},
   "outputs": [],
   "source": []
  },
  {
   "cell_type": "code",
   "execution_count": null,
   "metadata": {},
   "outputs": [],
   "source": []
  }
 ],
 "metadata": {
  "kernelspec": {
   "display_name": "Python 3",
   "language": "python",
   "name": "python3"
  },
  "language_info": {
   "codemirror_mode": {
    "name": "ipython",
    "version": 3
   },
   "file_extension": ".py",
   "mimetype": "text/x-python",
   "name": "python",
   "nbconvert_exporter": "python",
   "pygments_lexer": "ipython3",
   "version": "3.7.4"
  }
 },
 "nbformat": 4,
 "nbformat_minor": 2
}
