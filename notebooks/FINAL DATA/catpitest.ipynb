{
 "cells": [
  {
   "cell_type": "code",
   "execution_count": 1,
   "metadata": {},
   "outputs": [],
   "source": [
    "%load_ext autoreload\n",
    "%autoreload 2\n",
    "%matplotlib inline\n",
    "\n",
    "import lmpsetup\n",
    "import hmdsetup\n",
    "\n",
    "import lmp\n",
    "import hmd\n",
    "\n",
    "import numpy as np\n",
    "import matplotlib.pyplot as plt\n",
    "import analysis\n",
    "\n",
    "import scipy.constants as cnt\n",
    "\n",
    "import shutil\n",
    "import re\n",
    "import os\n",
    "import mdtraj as md\n",
    "import statsmodels.tsa.stattools\n",
    "import MDAnalysis.analysis as mda\n",
    "import scipy\n",
    "from matplotlib.lines import Line2D\n",
    "from scipy import ndimage\n",
    "\n",
    "from style_vars import *\n",
    "plt.style.use('default')\n",
    "plt.style.use('style.mplstyle')\n",
    "\n",
    "hps_lines = [Line2D([0], [0], color='black', ls='--'),\n",
    "                Line2D([0], [0], color='black')]\n",
    "\n",
    "wt_d4_lines = [Line2D([0], [0], color=C_W),\n",
    "                Line2D([0], [0], color=C_4)]\n",
    "\n",
    "import matplotlib.image as mpimg\n",
    "import matplotlib.gridspec as gridspec"
   ]
  },
  {
   "cell_type": "code",
   "execution_count": 4,
   "metadata": {},
   "outputs": [
    {
     "name": "stdout",
     "output_type": "stream",
     "text": [
      "-0.85\n"
     ]
    }
   ],
   "source": [
    "def HPS_pi_potential(r, eps_hps, eps_pi, lambd, sigma):\n",
    "    V = 4 * eps_hps * ((sigma / r) ** 12 - (sigma / r) ** 6)\n",
    "    F = 4 * eps_hps / r * (12 * (sigma / r) ** 12 - 6 * (sigma / r) ** 6)\n",
    "    V_pi = eps_pi * ((sigma / r) ** 12 - (sigma / r) ** 6)\n",
    "    F_pi = eps_pi / r * (12 * (sigma / r) ** 12 - 6 * (sigma / r) ** 6)\n",
    "    if r <= 2 ** (1 / 6) * sigma:\n",
    "        V = V + (1 - lambd) * eps_hps + V_pi\n",
    "        F = F + F_pi\n",
    "    else:\n",
    "        V = lambd * V + V_pi\n",
    "        F = lambd * F + F_pi\n",
    "    return V\n",
    "eps_pi=3\n",
    "eps_hps=0.2\n",
    "lambd=(0+1)/2\n",
    "sigma=(6.56+6.36)/2\n",
    "print(HPS_pi_potential(2 ** (1 / 6) * sigma, eps_hps, eps_pi, lambd, sigma))"
   ]
  }
 ],
 "metadata": {
  "kernelspec": {
   "display_name": "Python 3",
   "language": "python",
   "name": "python3"
  },
  "language_info": {
   "codemirror_mode": {
    "name": "ipython",
    "version": 3
   },
   "file_extension": ".py",
   "mimetype": "text/x-python",
   "name": "python",
   "nbconvert_exporter": "python",
   "pygments_lexer": "ipython3",
   "version": "3.7.4"
  }
 },
 "nbformat": 4,
 "nbformat_minor": 2
}
