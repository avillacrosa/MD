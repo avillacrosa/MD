{
 "cells": [
  {
   "cell_type": "code",
   "execution_count": 34,
   "metadata": {},
   "outputs": [
    {
     "name": "stdout",
     "output_type": "stream",
     "text": [
      "The autoreload extension is already loaded. To reload it, use:\n",
      "  %reload_ext autoreload\n"
     ]
    }
   ],
   "source": [
    "%load_ext autoreload\n",
    "%autoreload 2\n",
    "import hmdsetup\n",
    "import lmpsetup"
   ]
  },
  {
   "cell_type": "code",
   "execution_count": 40,
   "metadata": {},
   "outputs": [
    {
     "name": "stdout",
     "output_type": "stream",
     "text": [
      "831.8127972815753\n"
     ]
    }
   ],
   "source": [
    "temperatures = [300., 354.55, 390.91, 427.27]\n",
    "hmdsetup.HMDSetup(protein='CPEB4', \n",
    "                  oliba_wd='/home/adria/irb/hoomd/slab_test', \n",
    "                  chains=20, \n",
    "                  save=500,\n",
    "                  temper=False,\n",
    "                  box_size=50,\n",
    "                  t=int(1e9),\n",
    "                  processors=4,\n",
    "                  charge_scale=0,\n",
    "                  temperatures=temperatures).write_hps_files()"
   ]
  },
  {
   "cell_type": "code",
   "execution_count": 39,
   "metadata": {},
   "outputs": [
    {
     "name": "stdout",
     "output_type": "stream",
     "text": [
      "831.8127972815753\n",
      "╔═══════════════════════════════════════════════════════════════════════════╗\n",
      "║     Input files created at /home/adria/irb/lammps/slab_test for CPEB4     ║\n",
      "║---------------------------------------------------------------------------║\n",
      "║   PARAMETERS                                                              ║\n",
      "║       - Model = HPS                                                       ║\n",
      "║       - Chains = 20                                                       ║\n",
      "║       - Ionic Strength (mM) = 0.1                                         ║\n",
      "║       - Medium Permittivity = 80.0                                        ║\n",
      "║       - Temperatures (K) = [300.0, 354.55, 390.91, 427.27]                ║\n",
      "║       - HPS Scale = 1.0                                                   ║\n",
      "╚═══════════════════════════════════════════════════════════════════════════╝\n"
     ]
    }
   ],
   "source": [
    "temperatures = [300., 354.55, 390.91, 427.27]\n",
    "lmpsetup.LMPSetup(protein='CPEB4', \n",
    "                  oliba_wd='/home/adria/irb/lammps/slab_test', \n",
    "                  chains=20, \n",
    "                  save=500,\n",
    "                  temper=False,\n",
    "                  box_size=50,\n",
    "                  t=int(1e9),\n",
    "                  processors=4,\n",
    "                  charge_scale=0,\n",
    "                  use_random=True,\n",
    "                  temperatures=temperatures).write_hps_files()"
   ]
  },
  {
   "cell_type": "code",
   "execution_count": null,
   "metadata": {},
   "outputs": [],
   "source": []
  }
 ],
 "metadata": {
  "kernelspec": {
   "display_name": "Python 3",
   "language": "python",
   "name": "python3"
  },
  "language_info": {
   "codemirror_mode": {
    "name": "ipython",
    "version": 3
   },
   "file_extension": ".py",
   "mimetype": "text/x-python",
   "name": "python",
   "nbconvert_exporter": "python",
   "pygments_lexer": "ipython3",
   "version": "3.7.4"
  }
 },
 "nbformat": 4,
 "nbformat_minor": 2
}
