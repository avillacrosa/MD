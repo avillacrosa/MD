{
 "cells": [
  {
   "cell_type": "code",
   "execution_count": 2,
   "metadata": {},
   "outputs": [],
   "source": [
    "%load_ext autoreload\n",
    "%autoreload 2\n",
    "%matplotlib inline\n",
    "\n",
    "import lmpsetup\n",
    "import hmdsetup\n",
    "\n",
    "import lmp\n",
    "import hmd\n",
    "\n",
    "import numpy as np\n",
    "import matplotlib.pyplot as plt\n",
    "import analysis\n",
    "\n",
    "import scipy.constants as cnt\n",
    "\n",
    "import shutil\n",
    "import os\n",
    "import mdtraj as md\n",
    "import statsmodels.tsa.stattools\n",
    "import MDAnalysis as mda\n",
    "import scipy\n",
    "from matplotlib.lines import Line2D\n",
    "\n",
    "WT_COL='darkblue'\n",
    "D7_COL='royalblue'\n",
    "\n",
    "D4_COL = 'red'\n",
    "D12_COL = 'orange'"
   ]
  },
  {
   "cell_type": "code",
   "execution_count": 4,
   "metadata": {},
   "outputs": [
    {
     "name": "stdout",
     "output_type": "stream",
     "text": [
      "270.0 270.0\n",
      "277.14285714285717 277.14285714285717\n",
      "284.2857142857143 284.2857142857143\n",
      "291.42857142857144 291.42857142857144\n",
      "298.57142857142856 298.57142857142856\n",
      "305.7142857142857 305.7142857142857\n",
      "312.8571428571429 312.8571428571429\n",
      "320.0 320.0\n"
     ]
    }
   ],
   "source": [
    "##SLURM\n",
    "for temp in np.linspace(270, 320, 8):\n",
    "    s = hmdsetup.HMDSetup(\n",
    "                    protein='7D_CPEB4',\n",
    "                    oliba_wd='/home/adria/irb/final/7D_WT_08',\n",
    "                    temperature=temp,\n",
    "                    debye=0.1,\n",
    "                    model='HPS-T',\n",
    "                    save=10000,\n",
    "                    chains=20,\n",
    "                    hps_scale=0.8,\n",
    "                    slab_method='npt',\n",
    "                    t=int(1e9)).write_hps_files()"
   ]
  },
  {
   "cell_type": "markdown",
   "metadata": {},
   "source": [
    "### FINAL CAT PI"
   ]
  },
  {
   "cell_type": "code",
   "execution_count": 88,
   "metadata": {},
   "outputs": [
    {
     "name": "stdout",
     "output_type": "stream",
     "text": [
      "280.0 280.0\n",
      "297.14285714285717 297.14285714285717\n",
      "314.2857142857143 314.2857142857143\n",
      "331.42857142857144 331.42857142857144\n",
      "348.57142857142856 348.57142857142856\n",
      "365.7142857142857 365.7142857142857\n",
      "382.8571428571429 382.8571428571429\n",
      "400.0 400.0\n",
      "280.0 280.0\n",
      "297.14285714285717 297.14285714285717\n",
      "314.2857142857143 314.2857142857143\n",
      "331.42857142857144 331.42857142857144\n",
      "348.57142857142856 348.57142857142856\n",
      "365.7142857142857 365.7142857142857\n",
      "382.8571428571429 382.8571428571429\n",
      "400.0 400.0\n"
     ]
    }
   ],
   "source": [
    "temperatures = np.linspace(280, 400, 8)\n",
    "\n",
    "for temp in temperatures:\n",
    "    hmdsetup.HMDSetup(protein='CPEB4',\n",
    "                  debye=0.1,\n",
    "                  oliba_wd='/home/adria/perdiux/prod/slurm/cat-pi/WT', \n",
    "                  save=10000,\n",
    "                  t=int(1e9),\n",
    "                  temperature=temp,\n",
    "                  processors=1,\n",
    "                  model='HPS-CAT').write_hps_files(slurm=True)\n",
    "    \n",
    "for temp in temperatures:\n",
    "    hmdsetup.HMDSetup(protein='CPEB4_D4',\n",
    "                  debye=0.1,\n",
    "                  oliba_wd='/home/adria/perdiux/prod/slurm/cat-pi/D4', \n",
    "                  save=10000,\n",
    "                  t=int(1e9),\n",
    "                  temperature=temp,\n",
    "                  processors=1,\n",
    "                  model='HPS-CAT').write_hps_files(slurm=True)"
   ]
  },
  {
   "cell_type": "markdown",
   "metadata": {},
   "source": [
    "### FINAL SLABS"
   ]
  },
  {
   "cell_type": "code",
   "execution_count": 90,
   "metadata": {},
   "outputs": [
    {
     "name": "stdout",
     "output_type": "stream",
     "text": [
      "335 335\n",
      "340 340\n",
      "345 345\n",
      "350 350\n"
     ]
    }
   ],
   "source": [
    "# for temp in [295,300,305,310]:\n",
    "# for temp in [315,320,325,330]:\n",
    "for temp in [335,340,345,350]:\n",
    "    s = hmdsetup.HMDSetup(\n",
    "                    protein='CPEB4',\n",
    "                    oliba_wd='/home/adria/irb/final/WT_065_60',\n",
    "                    temperature=temp,\n",
    "                    debye=0.1,\n",
    "                    model='HPS-T',\n",
    "                    save=10000,\n",
    "                    chains=20,\n",
    "                    hps_scale=0.65,\n",
    "                    water_perm=60,\n",
    "                    slab_method='npt',\n",
    "                    t=int(1e9)).write_hps_files()"
   ]
  },
  {
   "cell_type": "markdown",
   "metadata": {},
   "source": [
    "### Final VARS"
   ]
  },
  {
   "cell_type": "code",
   "execution_count": 78,
   "metadata": {},
   "outputs": [
    {
     "name": "stdout",
     "output_type": "stream",
     "text": [
      "╔═══════════════════════════════════════════════════════════════════════════════╗\n",
      "║     Input files created at /home/adria/perdiux/prod/slurm/CPEB4 for CPEB4     ║\n",
      "║-------------------------------------------------------------------------------║\n",
      "║   PARAMETERS                                                                  ║\n",
      "║       - Model = HPS-T                                                         ║\n",
      "║       - Chains = 1                                                            ║\n",
      "║       - Ionic Strength (mM) = 0.1                                             ║\n",
      "║       - Medium Permittivity = 0.65                                            ║\n",
      "║       - Temperatures (K) = [280.         297.14285714 314.28571429 331.42857143 348.57142857\n",
      " 365.71428571 382.85714286 400.        ]    ║\n",
      "║       - HPS Scale = 0.6                                                       ║\n",
      "╚═══════════════════════════════════════════════════════════════════════════════╝\n",
      "╔═════════════════════════════════════════════════════════════════════════════════════╗\n",
      "║     Input files created at /home/adria/perdiux/prod/slurm/CPEB4_D4 for CPEB4_D4     ║\n",
      "║-------------------------------------------------------------------------------------║\n",
      "║   PARAMETERS                                                                        ║\n",
      "║       - Model = HPS-T                                                               ║\n",
      "║       - Chains = 1                                                                  ║\n",
      "║       - Ionic Strength (mM) = 0.1                                                   ║\n",
      "║       - Medium Permittivity = 0.65                                                  ║\n",
      "║       - Temperatures (K) = [280.         297.14285714 314.28571429 331.42857143 348.57142857\n",
      " 365.71428571 382.85714286 400.        ]    ║\n",
      "║       - HPS Scale = 0.6                                                             ║\n",
      "╚═════════════════════════════════════════════════════════════════════════════════════╝\n",
      "╔═════════════════════════════════════════════════════════════════════════════════════════════╗\n",
      "║     Input files created at /home/adria/perdiux/prod/slurm/12D_CPEB4_D4 for 12D_CPEB4_D4     ║\n",
      "║---------------------------------------------------------------------------------------------║\n",
      "║   PARAMETERS                                                                                ║\n",
      "║       - Model = HPS-T                                                                       ║\n",
      "║       - Chains = 1                                                                          ║\n",
      "║       - Ionic Strength (mM) = 0.1                                                           ║\n",
      "║       - Medium Permittivity = 0.65                                                          ║\n",
      "║       - Temperatures (K) = [280.         297.14285714 314.28571429 331.42857143 348.57142857\n",
      " 365.71428571 382.85714286 400.        ]    ║\n",
      "║       - HPS Scale = 0.6                                                                     ║\n",
      "╚═════════════════════════════════════════════════════════════════════════════════════════════╝\n",
      "╔═════════════════════════════════════════════════════════════════════════════════════╗\n",
      "║     Input files created at /home/adria/perdiux/prod/slurm/7D_CPEB4 for 7D_CPEB4     ║\n",
      "║-------------------------------------------------------------------------------------║\n",
      "║   PARAMETERS                                                                        ║\n",
      "║       - Model = HPS-T                                                               ║\n",
      "║       - Chains = 1                                                                  ║\n",
      "║       - Ionic Strength (mM) = 0.1                                                   ║\n",
      "║       - Medium Permittivity = 0.65                                                  ║\n",
      "║       - Temperatures (K) = [280.         297.14285714 314.28571429 331.42857143 348.57142857\n",
      " 365.71428571 382.85714286 400.        ]    ║\n",
      "║       - HPS Scale = 0.6                                                             ║\n",
      "╚═════════════════════════════════════════════════════════════════════════════════════╝\n"
     ]
    }
   ],
   "source": [
    "temperatures = np.linspace(280, 400, 8)\n",
    "test_alpha = lmpsetup.LMPSetup(oliba_wd='/home/adria/perdiux/prod/slurm/CPEB4',\n",
    "                               debye=0.1,\n",
    "                               temperatures=temperatures,\n",
    "                               model='HPS-T',\n",
    "                               save=10000,\n",
    "                               hps_scale=0.6,\n",
    "                               water_perm=0.65,\n",
    "                               protein='CPEB4',\n",
    "                               processors=2,\n",
    "                               t=int(1e9)).write_hps_files(qsub=False, slurm=True)\n",
    "\n",
    "test_alpha = lmpsetup.LMPSetup(oliba_wd='/home/adria/perdiux/prod/slurm/CPEB4_D4',\n",
    "                               debye=0.1,\n",
    "                               temperatures=temperatures,\n",
    "                               model='HPS-T',\n",
    "                               save=10000,\n",
    "                               hps_scale=0.6,\n",
    "                               water_perm=0.65,\n",
    "                               protein='CPEB4_D4',\n",
    "                               processors=2,\n",
    "                               t=int(1e9)).write_hps_files(qsub=False, slurm=True)\n",
    "\n",
    "test_alpha = lmpsetup.LMPSetup(oliba_wd='/home/adria/perdiux/prod/slurm/12D_CPEB4_D4',\n",
    "                               debye=0.1,\n",
    "                               temperatures=temperatures,\n",
    "                               model='HPS-T',\n",
    "                               save=10000,\n",
    "                               hps_scale=0.6,\n",
    "                               water_perm=0.65,\n",
    "                               protein='12D_CPEB4_D4',\n",
    "                               processors=2,\n",
    "                               t=int(1e9)).write_hps_files(qsub=False, slurm=True)\n",
    "\n",
    "test_alpha = lmpsetup.LMPSetup(oliba_wd='/home/adria/perdiux/prod/slurm/7D_CPEB4',\n",
    "                               debye=0.1,\n",
    "                               temperatures=temperatures,\n",
    "                               model='HPS-T',\n",
    "                               save=10000,\n",
    "                               hps_scale=0.6,\n",
    "                               water_perm=0.65,\n",
    "                               protein='7D_CPEB4',\n",
    "                               processors=2,\n",
    "                               t=int(1e9)).write_hps_files(qsub=False, slurm=True)"
   ]
  },
  {
   "cell_type": "markdown",
   "metadata": {},
   "source": [
    "#### Fixed HEL"
   ]
  },
  {
   "cell_type": "code",
   "execution_count": 14,
   "metadata": {},
   "outputs": [
    {
     "name": "stdout",
     "output_type": "stream",
     "text": [
      "╔══════════════════════════════════════════════════════════════════════════════════════════════╗\n",
      "║     Input files created at /home/adria/perdiux/prod/lammps/final/heltest for CPEB4_alpha     ║\n",
      "║----------------------------------------------------------------------------------------------║\n",
      "║   PARAMETERS                                                                                 ║\n",
      "║       - Model = HPS-T                                                                        ║\n",
      "║       - Chains = 2                                                                           ║\n",
      "║       - Ionic Strength (mM) = 0.1                                                            ║\n",
      "║       - Medium Permittivity = 80.0                                                           ║\n",
      "║       - Temperatures (K) = [300]                                                             ║\n",
      "║       - HPS Scale = 0.8                                                                      ║\n",
      "╚══════════════════════════════════════════════════════════════════════════════════════════════╝\n"
     ]
    }
   ],
   "source": [
    "test_alpha = lmpsetup.LMPSetup(oliba_wd='/home/adria/perdiux/prod/lammps/final/heltest',\n",
    "                               debye=0.1,\n",
    "                               temperatures=[300],\n",
    "                               model='HPS-T',\n",
    "                               save=100,\n",
    "                               hps_scale=0.8,\n",
    "                               chains=2,\n",
    "                               protein='CPEB4_alpha',\n",
    "                               fix_region=[379,393],\n",
    "                               processors=1,\n",
    "                               t=100000).write_hps_files(qsub=True)"
   ]
  },
  {
   "cell_type": "code",
   "execution_count": 10,
   "metadata": {},
   "outputs": [
    {
     "name": "stdout",
     "output_type": "stream",
     "text": [
      "╔════════════════════════════════════════════════════════════════════════════════════════════════════════════╗\n",
      "║     Input files created at /home/adria/perdiux/prod/lammps/final/CPEB4_alpha_slab_good for CPEB4_alpha     ║\n",
      "║------------------------------------------------------------------------------------------------------------║\n",
      "║   PARAMETERS                                                                                               ║\n",
      "║       - Model = HPS-T                                                                                      ║\n",
      "║       - Chains = 20                                                                                        ║\n",
      "║       - Ionic Strength (mM) = 0.1                                                                          ║\n",
      "║       - Medium Permittivity = 80.0                                                                         ║\n",
      "║       - Temperatures (K) = [270.         277.14285714 284.28571429 291.42857143 298.57142857\n",
      " 305.71428571 312.85714286 320.        ]    ║\n",
      "║       - HPS Scale = 0.8                                                                                    ║\n",
      "╚════════════════════════════════════════════════════════════════════════════════════════════════════════════╝\n"
     ]
    }
   ],
   "source": [
    "temperatures = np.linspace(270, 320, 8)\n",
    "test_alpha = lmpsetup.LMPSetup(oliba_wd='/home/adria/perdiux/prod/lammps/final/CPEB4_alpha_slab_good',\n",
    "                               debye=0.1,\n",
    "                               temperatures=temperatures,\n",
    "                               model='HPS-T',\n",
    "                               save=10000,\n",
    "                               host='@perdiu49',\n",
    "                               hps_scale=0.8,\n",
    "                               chains=20,\n",
    "                               protein='CPEB4_alpha',\n",
    "                               fix_region=[379,393],\n",
    "                               processors=4,\n",
    "                               t=int(1e9)).write_hps_files(qsub=True)"
   ]
  },
  {
   "cell_type": "code",
   "execution_count": 74,
   "metadata": {},
   "outputs": [
    {
     "name": "stdout",
     "output_type": "stream",
     "text": [
      "╔═══════════════════════════════════════════════════════════════════════════════════════════════════════════╗\n",
      "║     Input files created at /home/adria/perdiux/prod/lammps/final/CPEB4_alpha_slab_065 for CPEB4_alpha     ║\n",
      "║-----------------------------------------------------------------------------------------------------------║\n",
      "║   PARAMETERS                                                                                              ║\n",
      "║       - Model = HPS-T                                                                                     ║\n",
      "║       - Chains = 20                                                                                       ║\n",
      "║       - Ionic Strength (mM) = 0.1                                                                         ║\n",
      "║       - Medium Permittivity = 60                                                                          ║\n",
      "║       - Temperatures (K) = [280.         297.14285714 314.28571429 331.42857143 348.57142857\n",
      " 365.71428571 382.85714286 400.        ]    ║\n",
      "║       - HPS Scale = 0.65                                                                                  ║\n",
      "╚═══════════════════════════════════════════════════════════════════════════════════════════════════════════╝\n"
     ]
    }
   ],
   "source": [
    "temperatures = np.linspace(280, 400, 8)\n",
    "test_alpha = lmpsetup.LMPSetup(oliba_wd='/home/adria/perdiux/prod/lammps/final/CPEB4_alpha_slab_065',\n",
    "                               debye=0.1,\n",
    "                               temperatures=temperatures,\n",
    "                               model='HPS-T',\n",
    "                               save=10000,\n",
    "                               host='@perdiu49',\n",
    "                               hps_scale=0.65,\n",
    "                               chains=20,\n",
    "                               water_perm=60,\n",
    "                               protein='CPEB4_alpha',\n",
    "                               fix_region=[379,393],\n",
    "                               processors=4,\n",
    "                               t=int(1e9)).write_hps_files(qsub=True)"
   ]
  },
  {
   "cell_type": "markdown",
   "metadata": {},
   "source": [
    "#### R VARS"
   ]
  },
  {
   "cell_type": "code",
   "execution_count": 66,
   "metadata": {},
   "outputs": [],
   "source": [
    "temperatures = np.linspace(280, 400, 8)\n",
    "r=0.2\n",
    "\n",
    "s = lmpsetup.LMPSetup(temperatures=temperatures,\n",
    "                  protein='CPEB4',\n",
    "                  host='@perdiu28',\n",
    "                  debye=0.1,\n",
    "                  oliba_wd=f'/home/adria/perdiux/prod/lammps/final/RVARS/{r}/WT', \n",
    "                  hps_scale=1,\n",
    "                  save=10000,\n",
    "                  t=int(1e9),\n",
    "                  processors=1,\n",
    "                  model='HPS-T')\n",
    "s.write_hps_files(silent=True)\n",
    "\n",
    "s = lmpsetup.LMPSetup(temperatures=temperatures,\n",
    "                  protein='CPEB4_D4',\n",
    "                  host='@perdiu31',\n",
    "                  debye=0.1,\n",
    "                  oliba_wd=f'/home/adria/perdiux/prod/lammps/final/RVARS/{r}/D4', \n",
    "                  hps_scale=1,\n",
    "                  save=10000,\n",
    "                  t=int(1e9),\n",
    "                  processors=1,\n",
    "                  model='HPS-T')\n",
    "s.write_hps_files(silent=True)"
   ]
  },
  {
   "cell_type": "code",
   "execution_count": null,
   "metadata": {},
   "outputs": [],
   "source": []
  },
  {
   "cell_type": "code",
   "execution_count": null,
   "metadata": {},
   "outputs": [],
   "source": []
  },
  {
   "cell_type": "markdown",
   "metadata": {},
   "source": [
    "### HMD"
   ]
  },
  {
   "cell_type": "code",
   "execution_count": 52,
   "metadata": {},
   "outputs": [
    {
     "name": "stdout",
     "output_type": "stream",
     "text": [
      "270.0 270.0\n",
      "277.14285714285717 277.14285714285717\n",
      "284.2857142857143 284.2857142857143\n",
      "291.42857142857144 291.42857142857144\n",
      "298.57142857142856 298.57142857142856\n",
      "305.7142857142857 305.7142857142857\n",
      "312.8571428571429 312.8571428571429\n",
      "320.0 320.0\n"
     ]
    }
   ],
   "source": [
    "##SLURM\n",
    "for temp in np.linspace(270, 320, 8):\n",
    "    s = hmdsetup.HMDSetup(\n",
    "                    protein='CPEB4',\n",
    "                    oliba_wd='/home/adria/perdiux/hmd_slurm/WT_08',\n",
    "                    temperature=temp,\n",
    "                    debye=0.1,\n",
    "                    model='HPS-T',\n",
    "                    save=10000,\n",
    "                    chains=20,\n",
    "                    hps_scale=0.8,\n",
    "                    slab_method='npt',\n",
    "                    t=int(1e9)).write_hps_files(slurm=True)"
   ]
  },
  {
   "cell_type": "code",
   "execution_count": null,
   "metadata": {},
   "outputs": [],
   "source": [
    "##SLURM\n",
    "for temp in np.linspace(270, 320, 8):\n",
    "    s = hmdsetup.HMDSetup(\n",
    "                    protein='7D_CPEB4',\n",
    "                    oliba_wd='/home/adria/perdiux/hmd_slurm/7D_WT_08',\n",
    "                    temperature=temp,\n",
    "                    debye=0.1,\n",
    "                    model='HPS-T',\n",
    "                    save=10000,\n",
    "                    chains=20,\n",
    "                    hps_scale=0.8,\n",
    "                    slab_method='npt',\n",
    "                    t=int(1e9)).write_hps_files(slurm=True)"
   ]
  },
  {
   "cell_type": "code",
   "execution_count": 15,
   "metadata": {},
   "outputs": [
    {
     "name": "stdout",
     "output_type": "stream",
     "text": [
      "270.0 270.0\n",
      "277.14285714285717 277.14285714285717\n",
      "284.2857142857143 284.2857142857143\n",
      "291.42857142857144 291.42857142857144\n",
      "298.57142857142856 298.57142857142856\n",
      "305.7142857142857 305.7142857142857\n",
      "312.8571428571429 312.8571428571429\n",
      "320.0 320.0\n"
     ]
    }
   ],
   "source": [
    "##SLURM\n",
    "for temp in np.linspace(270, 320, 8):\n",
    "    s = hmdsetup.HMDSetup(\n",
    "                    protein='CPEB4_D4',\n",
    "                    oliba_wd='/home/adria/perdiux/hmd_slurm/D4_08',\n",
    "                    temperature=temp,\n",
    "                    debye=0.1,\n",
    "                    model='HPS-T',\n",
    "                    save=10000,\n",
    "                    chains=20,\n",
    "                    hps_scale=0.8,\n",
    "                    slab_method='npt',\n",
    "                    t=int(1e9)).write_hps_files(slurm=True)"
   ]
  },
  {
   "cell_type": "code",
   "execution_count": null,
   "metadata": {},
   "outputs": [],
   "source": []
  },
  {
   "cell_type": "code",
   "execution_count": null,
   "metadata": {},
   "outputs": [],
   "source": []
  },
  {
   "cell_type": "code",
   "execution_count": 47,
   "metadata": {},
   "outputs": [
    {
     "name": "stdout",
     "output_type": "stream",
     "text": [
      "270.0 270.0\n",
      "280.0 280.0\n",
      "290.0 290.0\n",
      "300.0 300.0\n"
     ]
    }
   ],
   "source": [
    "for temp in np.linspace(270, 300, 4):\n",
    "    s = hmdsetup.HMDSetup(\n",
    "                    protein='CPEB4',\n",
    "                    oliba_wd='/home/adria/irb/final/WT_065_60-v3',\n",
    "                    temperature=temp,\n",
    "                    debye=0.1,\n",
    "                    model='HPS-T',\n",
    "                    save=10000,\n",
    "                    chains=20,\n",
    "                    hps_scale=0.65,\n",
    "                    water_perm=60,\n",
    "                    slab_method='npt',\n",
    "                    t=int(1e9)).write_hps_files()"
   ]
  },
  {
   "cell_type": "code",
   "execution_count": 32,
   "metadata": {},
   "outputs": [
    {
     "name": "stdout",
     "output_type": "stream",
     "text": [
      "280.0 280.0\n",
      "320.0 320.0\n",
      "360.0 360.0\n",
      "400.0 400.0\n"
     ]
    }
   ],
   "source": [
    "for temp in np.linspace(280, 400, 4):\n",
    "    s = hmdsetup.HMDSetup(\n",
    "                    protein='CPEB4',\n",
    "                    oliba_wd='/home/adria/irb/final/WT_06_40',\n",
    "                    temperature=temp,\n",
    "                    debye=0.1,\n",
    "                    model='HPS-T',\n",
    "                    save=10000,\n",
    "                    chains=20,\n",
    "                    hps_scale=0.6,\n",
    "                    water_perm=40,\n",
    "                    slab_method='npt',\n",
    "                    time=int(1e9)).write_hps_files()"
   ]
  },
  {
   "cell_type": "code",
   "execution_count": 33,
   "metadata": {},
   "outputs": [
    {
     "name": "stdout",
     "output_type": "stream",
     "text": [
      "280.0 280.0\n",
      "320.0 320.0\n",
      "360.0 360.0\n",
      "400.0 400.0\n"
     ]
    }
   ],
   "source": [
    "for temp in np.linspace(280, 400, 4):\n",
    "    s = hmdsetup.HMDSetup(\n",
    "                    protein='CPEB4',\n",
    "                    oliba_wd='/home/adria/irb/final/WT_07_50',\n",
    "                    temperature=temp,\n",
    "                    debye=0.1,\n",
    "                    model='HPS-T',\n",
    "                    save=10000,\n",
    "                    chains=20,\n",
    "                    hps_scale=0.7,\n",
    "                    water_perm=50,\n",
    "                    slab_method='npt',\n",
    "                    time=int(1e9)).write_hps_files()"
   ]
  },
  {
   "cell_type": "code",
   "execution_count": 34,
   "metadata": {},
   "outputs": [
    {
     "name": "stdout",
     "output_type": "stream",
     "text": [
      "280.0 280.0\n",
      "320.0 320.0\n",
      "360.0 360.0\n",
      "400.0 400.0\n"
     ]
    }
   ],
   "source": [
    "for temp in np.linspace(280, 400, 4):\n",
    "    s = hmdsetup.HMDSetup(\n",
    "                    protein='CPEB4',\n",
    "                    oliba_wd='/home/adria/irb/final/WT_07_80',\n",
    "                    temperature=temp,\n",
    "                    debye=0.1,\n",
    "                    model='HPS-T',\n",
    "                    save=10000,\n",
    "                    chains=20,\n",
    "                    hps_scale=0.7,\n",
    "                    water_perm=80,\n",
    "                    slab_method='npt',\n",
    "                    time=int(1e9)).write_hps_files()"
   ]
  },
  {
   "cell_type": "code",
   "execution_count": null,
   "metadata": {},
   "outputs": [],
   "source": []
  },
  {
   "cell_type": "code",
   "execution_count": null,
   "metadata": {},
   "outputs": [],
   "source": []
  },
  {
   "cell_type": "code",
   "execution_count": 26,
   "metadata": {},
   "outputs": [
    {
     "name": "stdout",
     "output_type": "stream",
     "text": [
      "280.0 280.0\n",
      "320.0 320.0\n",
      "360.0 360.0\n",
      "400.0 400.0\n"
     ]
    }
   ],
   "source": [
    "for temp in np.linspace(280, 400, 4):\n",
    "    s = hmdsetup.HMDSetup(\n",
    "                    protein='CPEB4',\n",
    "                    oliba_wd='/home/adria/irb/final/WT_08_40',\n",
    "                    temperature=temp,\n",
    "                    debye=0.1,\n",
    "                    model='HPS-T',\n",
    "                    save=10000,\n",
    "                    chains=20,\n",
    "                    hps_scale=0.8,\n",
    "                    water_perm=40,\n",
    "                    slab_method='npt',\n",
    "                    time=int(1e9)).write_hps_files()"
   ]
  },
  {
   "cell_type": "markdown",
   "metadata": {},
   "source": [
    "## Summary\n",
    "\n",
    "**[Reweighters](#1)**\n",
    "\n",
    "**[HPS Single chain Results](#2)**\n",
    "\n",
    "\n",
    "**[HPS-T Single chain Results](#3)**\n",
    "\n",
    "**[HPS-T Slab Results](#3)**\n",
    "\n",
    "**[E4 Variants](#4)**\n",
    "\n",
    "**[KH](#5)**"
   ]
  },
  {
   "cell_type": "markdown",
   "metadata": {},
   "source": [
    "### Reweighters <a id='1'></a>"
   ]
  },
  {
   "cell_type": "markdown",
   "metadata": {},
   "source": [
    "### HPS Single chain Results <a id='2'></a>"
   ]
  },
  {
   "cell_type": "code",
   "execution_count": null,
   "metadata": {},
   "outputs": [],
   "source": []
  },
  {
   "cell_type": "markdown",
   "metadata": {},
   "source": [
    "### HPS-T Single chain Results <a id='3'></a>"
   ]
  },
  {
   "cell_type": "markdown",
   "metadata": {},
   "source": [
    "#### $\\lambda=0$ to no electro"
   ]
  },
  {
   "cell_type": "code",
   "execution_count": 36,
   "metadata": {},
   "outputs": [],
   "source": [
    "temperatures = np.linspace(280, 400, 8)"
   ]
  },
  {
   "cell_type": "code",
   "execution_count": 37,
   "metadata": {},
   "outputs": [
    {
     "name": "stdout",
     "output_type": "stream",
     "text": [
      "╔═══════════════════════════════════════════════════════════════════════════╗\n",
      "║     Input files created at /home/adria/perdiux/EpsVsLamb/L0 for CPEB4     ║\n",
      "║---------------------------------------------------------------------------║\n",
      "║   PARAMETERS                                                              ║\n",
      "║       - Model = HPS-T                                                     ║\n",
      "║       - Chains = 1                                                        ║\n",
      "║       - Ionic Strength (mM) = 0.1                                         ║\n",
      "║       - Medium Permittivity = 80.0                                        ║\n",
      "║       - Temperatures (K) = [280.         297.14285714 314.28571429 331.42857143 348.57142857\n",
      " 365.71428571 382.85714286 400.        ]    ║\n",
      "║       - HPS Scale = 0                                                     ║\n",
      "╚═══════════════════════════════════════════════════════════════════════════╝\n"
     ]
    }
   ],
   "source": [
    "lmpsetup.LMPSetup(temperatures=temperatures,\n",
    "                  protein='CPEB4',\n",
    "                  host='@perdiu35',\n",
    "                  debye=0.1,\n",
    "                  oliba_wd='/home/adria/perdiux/EpsVsLamb/L0', \n",
    "                  hps_scale=0,\n",
    "                  save=10000,\n",
    "                  t=int(1e9),\n",
    "                  processors=2,\n",
    "                  model='HPS-T').write_hps_files()"
   ]
  },
  {
   "cell_type": "code",
   "execution_count": 38,
   "metadata": {},
   "outputs": [
    {
     "name": "stdout",
     "output_type": "stream",
     "text": [
      "╔═══════════════════════════════════════════════════════════════════════════════╗\n",
      "║     Input files created at /home/adria/perdiux/EpsVsLamb/EPSINF for CPEB4     ║\n",
      "║-------------------------------------------------------------------------------║\n",
      "║   PARAMETERS                                                                  ║\n",
      "║       - Model = HPS-T                                                         ║\n",
      "║       - Chains = 1                                                            ║\n",
      "║       - Ionic Strength (mM) = 0.1                                             ║\n",
      "║       - Medium Permittivity = 80.0                                            ║\n",
      "║       - Temperatures (K) = [280.         297.14285714 314.28571429 331.42857143 348.57142857\n",
      " 365.71428571 382.85714286 400.        ]    ║\n",
      "║       - HPS Scale = 1                                                         ║\n",
      "╚═══════════════════════════════════════════════════════════════════════════════╝\n"
     ]
    }
   ],
   "source": [
    "lmpsetup.LMPSetup(temperatures=temperatures,\n",
    "                  protein='CPEB4',\n",
    "                  host='@perdiu34',\n",
    "                  debye=0.1,\n",
    "                  oliba_wd='/home/adria/perdiux/EpsVsLamb/EPSINF', \n",
    "                  hps_scale=1,\n",
    "                  save=10000,\n",
    "                  t=int(1e9),\n",
    "                  processors=2,\n",
    "                  model='HPS-T').write_hps_files()"
   ]
  },
  {
   "cell_type": "code",
   "execution_count": 4,
   "metadata": {},
   "outputs": [
    {
     "name": "stdout",
     "output_type": "stream",
     "text": [
      "╔══════════════════════════════════════════════════════════════════════════════╗\n",
      "║     Input files created at /home/adria/perdiux/EpsVsLamb/EPS20 for CPEB4     ║\n",
      "║------------------------------------------------------------------------------║\n",
      "║   PARAMETERS                                                                 ║\n",
      "║       - Model = HPS-T                                                        ║\n",
      "║       - Chains = 1                                                           ║\n",
      "║       - Ionic Strength (mM) = 0.1                                            ║\n",
      "║       - Medium Permittivity = 20                                             ║\n",
      "║       - Temperatures (K) = [280.         297.14285714 314.28571429 331.42857143 348.57142857\n",
      " 365.71428571 382.85714286 400.        ]    ║\n",
      "║       - HPS Scale = 1                                                        ║\n",
      "╚══════════════════════════════════════════════════════════════════════════════╝\n",
      "╔══════════════════════════════════════════════════════════════════════════════╗\n",
      "║     Input files created at /home/adria/perdiux/EpsVsLamb/EPS40 for CPEB4     ║\n",
      "║------------------------------------------------------------------------------║\n",
      "║   PARAMETERS                                                                 ║\n",
      "║       - Model = HPS-T                                                        ║\n",
      "║       - Chains = 1                                                           ║\n",
      "║       - Ionic Strength (mM) = 0.1                                            ║\n",
      "║       - Medium Permittivity = 40                                             ║\n",
      "║       - Temperatures (K) = [280.         297.14285714 314.28571429 331.42857143 348.57142857\n",
      " 365.71428571 382.85714286 400.        ]    ║\n",
      "║       - HPS Scale = 1                                                        ║\n",
      "╚══════════════════════════════════════════════════════════════════════════════╝\n",
      "╔══════════════════════════════════════════════════════════════════════════════╗\n",
      "║     Input files created at /home/adria/perdiux/EpsVsLamb/EPS60 for CPEB4     ║\n",
      "║------------------------------------------------------------------------------║\n",
      "║   PARAMETERS                                                                 ║\n",
      "║       - Model = HPS-T                                                        ║\n",
      "║       - Chains = 1                                                           ║\n",
      "║       - Ionic Strength (mM) = 0.1                                            ║\n",
      "║       - Medium Permittivity = 60                                             ║\n",
      "║       - Temperatures (K) = [280.         297.14285714 314.28571429 331.42857143 348.57142857\n",
      " 365.71428571 382.85714286 400.        ]    ║\n",
      "║       - HPS Scale = 1                                                        ║\n",
      "╚══════════════════════════════════════════════════════════════════════════════╝\n"
     ]
    }
   ],
   "source": [
    "temperatures = np.linspace(280, 400, 8)\n",
    "hosts = [25,26,27]\n",
    "for i, eps in enumerate([20,40,60]):\n",
    "    lmpsetup.LMPSetup(temperatures=temperatures,\n",
    "                      protein='CPEB4',\n",
    "                      host=f'@perdiu{hosts[i]}',\n",
    "                      debye=0.1,\n",
    "                      oliba_wd=f'/home/adria/perdiux/EpsVsLamb/EPS{eps}', \n",
    "                      hps_scale=1,\n",
    "                      save=10000,\n",
    "                      water_perm=eps,\n",
    "                      t=int(1e9),\n",
    "                      processors=1,\n",
    "                      model='HPS-T').write_hps_files()"
   ]
  },
  {
   "cell_type": "markdown",
   "metadata": {},
   "source": [
    "#### Cat-Pi extended"
   ]
  },
  {
   "cell_type": "code",
   "execution_count": 2,
   "metadata": {},
   "outputs": [],
   "source": [
    "temperatures = np.linspace(280, 400, 4)"
   ]
  },
  {
   "cell_type": "code",
   "execution_count": 3,
   "metadata": {},
   "outputs": [
    {
     "name": "stdout",
     "output_type": "stream",
     "text": [
      "280.0 280.0\n",
      "320.0 320.0\n",
      "360.0 360.0\n",
      "400.0 400.0\n"
     ]
    }
   ],
   "source": [
    "for temp in temperatures:\n",
    "    hmdsetup.HMDSetup(protein='CPEB4',\n",
    "                  debye=0.1,\n",
    "                  oliba_wd='/home/adria/irb/hoomd/FINAL/hps-cat2/WT', \n",
    "                  hps_scale=0.75,\n",
    "                  save=10000,\n",
    "                  t=int(1e9),\n",
    "                  temperature=temp,\n",
    "                  model='HPS-CAT').write_hps_files()"
   ]
  },
  {
   "cell_type": "code",
   "execution_count": 4,
   "metadata": {},
   "outputs": [
    {
     "name": "stdout",
     "output_type": "stream",
     "text": [
      "280.0 280.0\n",
      "320.0 320.0\n",
      "360.0 360.0\n",
      "400.0 400.0\n"
     ]
    }
   ],
   "source": [
    "for temp in temperatures:\n",
    "    hmdsetup.HMDSetup(protein='CPEB4_D4',\n",
    "                  debye=0.1,\n",
    "                  oliba_wd='/home/adria/irb/hoomd/FINAL/hps-cat2/D4', \n",
    "                  hps_scale=0.75,\n",
    "                  save=10000,\n",
    "                  t=int(1e9),\n",
    "                  temperature=temp,\n",
    "                  model='HPS-CAT').write_hps_files()"
   ]
  },
  {
   "cell_type": "markdown",
   "metadata": {},
   "source": [
    "#### 0.6 - e40"
   ]
  },
  {
   "cell_type": "code",
   "execution_count": 4,
   "metadata": {},
   "outputs": [
    {
     "name": "stdout",
     "output_type": "stream",
     "text": [
      "╔═══════════════════════════════════════════════════════════════════════════════════════════════════╗\n",
      "║     Input files created at /home/adria/perdiux/prod/lammps/final/HPS-T/0.6_40/D4 for CPEB4_D4     ║\n",
      "║---------------------------------------------------------------------------------------------------║\n",
      "║   PARAMETERS                                                                                      ║\n",
      "║       - Model = HPS-T                                                                             ║\n",
      "║       - Chains = 1                                                                                ║\n",
      "║       - Ionic Strength (mM) = 0.1                                                                 ║\n",
      "║       - Medium Permittivity = 40                                                                  ║\n",
      "║       - Temperatures (K) = [280.         297.14285714 314.28571429 331.42857143 348.57142857\n",
      " 365.71428571 382.85714286 400.        ]    ║\n",
      "║       - HPS Scale = 0.6                                                                           ║\n",
      "╚═══════════════════════════════════════════════════════════════════════════════════════════════════╝\n",
      "╔═══════════════════════════════════════════════════════════════════════════════════════════════════════════╗\n",
      "║     Input files created at /home/adria/perdiux/prod/lammps/final/HPS-T/0.6_40/12D_D4 for 12D_CPEB4_D4     ║\n",
      "║-----------------------------------------------------------------------------------------------------------║\n",
      "║   PARAMETERS                                                                                              ║\n",
      "║       - Model = HPS-T                                                                                     ║\n",
      "║       - Chains = 1                                                                                        ║\n",
      "║       - Ionic Strength (mM) = 0.1                                                                         ║\n",
      "║       - Medium Permittivity = 40                                                                          ║\n",
      "║       - Temperatures (K) = [280.         297.14285714 314.28571429 331.42857143 348.57142857\n",
      " 365.71428571 382.85714286 400.        ]    ║\n",
      "║       - HPS Scale = 0.6                                                                                   ║\n",
      "╚═══════════════════════════════════════════════════════════════════════════════════════════════════════════╝\n"
     ]
    }
   ],
   "source": [
    "temperatures = np.linspace(280, 400, 8)\n",
    "lmpsetup.LMPSetup(temperatures=temperatures,\n",
    "                  protein='CPEB4_D4',\n",
    "                  host='@perdiu40',\n",
    "                  debye=0.1,\n",
    "                  oliba_wd='/home/adria/perdiux/prod/lammps/final/HPS-T/0.6_40/D4', \n",
    "                  hps_scale=0.6,\n",
    "                  water_perm=40,\n",
    "                  save=10000,\n",
    "                  t=int(1e9),\n",
    "                  processors=2,\n",
    "                  model='HPS-T').write_hps_files()\n",
    "\n",
    "lmpsetup.LMPSetup(temperatures=temperatures,\n",
    "                  protein='12D_CPEB4_D4',\n",
    "                  host='@perdiu38',\n",
    "                  debye=0.1,\n",
    "                  oliba_wd='/home/adria/perdiux/prod/lammps/final/HPS-T/0.6_40/12D_D4', \n",
    "                  hps_scale=0.6,\n",
    "                  water_perm=40,\n",
    "                  save=10000,\n",
    "                  t=int(1e9),\n",
    "                  processors=2,\n",
    "                  model='HPS-T').write_hps_files()"
   ]
  },
  {
   "cell_type": "markdown",
   "metadata": {},
   "source": [
    "#### 0.8 - e40"
   ]
  },
  {
   "cell_type": "code",
   "execution_count": 14,
   "metadata": {},
   "outputs": [
    {
     "name": "stdout",
     "output_type": "stream",
     "text": [
      "The history saving thread hit an unexpected error (OperationalError('database is locked')).History will not be written to the database.\n",
      "╔═══════════════════════════════════════════════════════════════════════════════════════════════════╗\n",
      "║     Input files created at /home/adria/perdiux/prod/lammps/final/HPS-T/0.8_40/D4 for CPEB4_D4     ║\n",
      "║---------------------------------------------------------------------------------------------------║\n",
      "║   PARAMETERS                                                                                      ║\n",
      "║       - Model = HPS-T                                                                             ║\n",
      "║       - Chains = 1                                                                                ║\n",
      "║       - Ionic Strength (mM) = 0.1                                                                 ║\n",
      "║       - Medium Permittivity = 40                                                                  ║\n",
      "║       - Temperatures (K) = [280.         297.14285714 314.28571429 331.42857143 348.57142857\n",
      " 365.71428571 382.85714286 400.        ]    ║\n",
      "║       - HPS Scale = 0.8                                                                           ║\n",
      "╚═══════════════════════════════════════════════════════════════════════════════════════════════════╝\n",
      "╔═══════════════════════════════════════════════════════════════════════════════════════════════════════════╗\n",
      "║     Input files created at /home/adria/perdiux/prod/lammps/final/HPS-T/0.8_40/12D_D4 for 12D_CPEB4_D4     ║\n",
      "║-----------------------------------------------------------------------------------------------------------║\n",
      "║   PARAMETERS                                                                                              ║\n",
      "║       - Model = HPS-T                                                                                     ║\n",
      "║       - Chains = 1                                                                                        ║\n",
      "║       - Ionic Strength (mM) = 0.1                                                                         ║\n",
      "║       - Medium Permittivity = 40                                                                          ║\n",
      "║       - Temperatures (K) = [280.         297.14285714 314.28571429 331.42857143 348.57142857\n",
      " 365.71428571 382.85714286 400.        ]    ║\n",
      "║       - HPS Scale = 0.8                                                                                   ║\n",
      "╚═══════════════════════════════════════════════════════════════════════════════════════════════════════════╝\n"
     ]
    }
   ],
   "source": [
    "temperatures = np.linspace(280, 400, 8)\n",
    "lmpsetup.LMPSetup(temperatures=temperatures,\n",
    "                  protein='CPEB4_D4',\n",
    "                  host='@perdiu40',\n",
    "                  debye=0.1,\n",
    "                  oliba_wd='/home/adria/perdiux/prod/lammps/final/HPS-T/0.8_40/D4', \n",
    "                  hps_scale=0.8,\n",
    "                  water_perm=40,\n",
    "                  save=10000,\n",
    "                  t=int(1e9),\n",
    "                  processors=2,\n",
    "                  model='HPS-T').write_hps_files()\n",
    "\n",
    "lmpsetup.LMPSetup(temperatures=temperatures,\n",
    "                  protein='12D_CPEB4_D4',\n",
    "                  host='@perdiu38',\n",
    "                  debye=0.1,\n",
    "                  oliba_wd='/home/adria/perdiux/prod/lammps/final/HPS-T/0.8_40/12D_D4', \n",
    "                  hps_scale=0.8,\n",
    "                  water_perm=40,\n",
    "                  save=10000,\n",
    "                  t=int(1e9),\n",
    "                  processors=2,\n",
    "                  model='HPS-T').write_hps_files()"
   ]
  },
  {
   "cell_type": "markdown",
   "metadata": {},
   "source": [
    "#### 0.75 - e50"
   ]
  },
  {
   "cell_type": "code",
   "execution_count": 52,
   "metadata": {},
   "outputs": [],
   "source": [
    "temperatures = np.linspace(280, 400, 8)"
   ]
  },
  {
   "cell_type": "code",
   "execution_count": 58,
   "metadata": {},
   "outputs": [
    {
     "name": "stdout",
     "output_type": "stream",
     "text": [
      "╔═══════════════════════════════════════════════════════════════════════════════════════════════════════╗\n",
      "║     Input files created at /home/adria/perdiux/prod/lammps/final/HPS-T/0.75_50/7D_WT for 7D_CPEB4     ║\n",
      "║-------------------------------------------------------------------------------------------------------║\n",
      "║   PARAMETERS                                                                                          ║\n",
      "║       - Model = HPS-T                                                                                 ║\n",
      "║       - Chains = 1                                                                                    ║\n",
      "║       - Ionic Strength (mM) = 0.1                                                                     ║\n",
      "║       - Medium Permittivity = 50                                                                      ║\n",
      "║       - Temperatures (K) = [280.         297.14285714 314.28571429 331.42857143 348.57142857\n",
      " 365.71428571 382.85714286 400.        ]    ║\n",
      "║       - HPS Scale = 0.75                                                                              ║\n",
      "╚═══════════════════════════════════════════════════════════════════════════════════════════════════════╝\n"
     ]
    }
   ],
   "source": [
    "# lmpsetup.LMPSetup(temperatures=temperatures,\n",
    "#                   protein='CPEB4',\n",
    "#                   host='@perdiu25',\n",
    "#                   debye=0.1,\n",
    "#                   oliba_wd='/home/adria/perdiux/prod/lammps/final/HPS-T/0.75_50/WT', \n",
    "#                   hps_scale=0.75,\n",
    "#                   water_perm=50,\n",
    "#                   save=10000,\n",
    "#                   t=int(1e9),\n",
    "#                   processors=3,\n",
    "#                   model='HPS-T').write_hps_files()\n",
    "\n",
    "# lmpsetup.LMPSetup(temperatures=temperatures,\n",
    "#                   protein='7D_CPEB4',\n",
    "#                   host='@perdiu29',\n",
    "#                   debye=0.1,\n",
    "#                   oliba_wd='/home/adria/perdiux/prod/lammps/final/HPS-T/0.75_50/7D_WT', \n",
    "#                   hps_scale=0.75,\n",
    "#                   water_perm=50,\n",
    "#                   save=10000,\n",
    "#                   t=int(1e9),\n",
    "#                   processors=3,\n",
    "#                   model='HPS-T').write_hps_files()"
   ]
  },
  {
   "cell_type": "code",
   "execution_count": 6,
   "metadata": {
    "scrolled": false
   },
   "outputs": [
    {
     "name": "stdout",
     "output_type": "stream",
     "text": [
      "╔══════════════════════════════════════════════════════════════════════════╗\n",
      "║     Input files created at /home/adria/perdiux/slurm/D4 for CPEB4_D4     ║\n",
      "║--------------------------------------------------------------------------║\n",
      "║   PARAMETERS                                                             ║\n",
      "║       - Model = HPS-T                                                    ║\n",
      "║       - Chains = 1                                                       ║\n",
      "║       - Ionic Strength (mM) = 0.1                                        ║\n",
      "║       - Medium Permittivity = 50                                         ║\n",
      "║       - Temperatures (K) = [280.         297.14285714 314.28571429 331.42857143 348.57142857\n",
      " 365.71428571 382.85714286 400.        ]    ║\n",
      "║       - HPS Scale = 0.75                                                 ║\n",
      "╚══════════════════════════════════════════════════════════════════════════╝\n",
      "╔══════════════════════════════════════════════════════════════════════════════════╗\n",
      "║     Input files created at /home/adria/perdiux/slurm/12D_D4 for 12D_CPEB4_D4     ║\n",
      "║----------------------------------------------------------------------------------║\n",
      "║   PARAMETERS                                                                     ║\n",
      "║       - Model = HPS-T                                                            ║\n",
      "║       - Chains = 1                                                               ║\n",
      "║       - Ionic Strength (mM) = 0.1                                                ║\n",
      "║       - Medium Permittivity = 50                                                 ║\n",
      "║       - Temperatures (K) = [280.         297.14285714 314.28571429 331.42857143 348.57142857\n",
      " 365.71428571 382.85714286 400.        ]    ║\n",
      "║       - HPS Scale = 0.75                                                         ║\n",
      "╚══════════════════════════════════════════════════════════════════════════════════╝\n"
     ]
    }
   ],
   "source": [
    "lmpsetup.LMPSetup(temperatures=temperatures,\n",
    "                  protein='CPEB4_D4',\n",
    "                  debye=0.1,\n",
    "                  oliba_wd='/home/adria/perdiux/slurm/D4', \n",
    "                  hps_scale=0.75,\n",
    "                  water_perm=50,\n",
    "                  save=10000,\n",
    "                  t=int(1e9),\n",
    "                  processors=4,\n",
    "                  model='HPS-T').write_hps_files(slurm=True, qsub=False)\n",
    "\n",
    "lmpsetup.LMPSetup(temperatures=temperatures,\n",
    "                  protein='12D_CPEB4_D4',\n",
    "                  debye=0.1,\n",
    "                  oliba_wd='/home/adria/perdiux/slurm/12D_D4', \n",
    "                  hps_scale=0.75,\n",
    "                  water_perm=50,\n",
    "                  save=10000,\n",
    "                  t=int(1e9),\n",
    "                  processors=4,\n",
    "                  model='HPS-T').write_hps_files(slurm=True, qsub=False)"
   ]
  },
  {
   "cell_type": "code",
   "execution_count": 3,
   "metadata": {},
   "outputs": [
    {
     "name": "stdout",
     "output_type": "stream",
     "text": [
      "280.0 280.0\n",
      "320.0 320.0\n",
      "360.0 360.0\n",
      "400.0 400.0\n"
     ]
    }
   ],
   "source": [
    "temperatures = np.linspace(280, 400, 4)\n",
    "for temp in temperatures:\n",
    "    hmdsetup.HMDSetup(protein='CPEB4',\n",
    "                  debye=0.1,\n",
    "                  oliba_wd='/home/adria/irb/hoomd/FINAL/HPS-T/WT_50_075', \n",
    "                  hps_scale=0.75,\n",
    "                  save=10000,\n",
    "                  t=int(1e9),\n",
    "                  water_perm=50,\n",
    "                  chains=20,\n",
    "                  temperature=temp,\n",
    "                  model='HPS-T').write_hps_files()"
   ]
  },
  {
   "cell_type": "markdown",
   "metadata": {},
   "source": [
    "#### 0.6 e 50"
   ]
  },
  {
   "cell_type": "code",
   "execution_count": 8,
   "metadata": {},
   "outputs": [
    {
     "name": "stdout",
     "output_type": "stream",
     "text": [
      "280.0 280.0\n",
      "320.0 320.0\n",
      "360.0 360.0\n",
      "400.0 400.0\n"
     ]
    }
   ],
   "source": [
    "temperatures = np.linspace(280, 400, 4)\n",
    "for temp in temperatures:\n",
    "    hmdsetup.HMDSetup(protein='CPEB4',\n",
    "                  debye=0.1,\n",
    "                  oliba_wd='/home/adria/irb/hoomd/FINAL/HPS-T/WT_50_06', \n",
    "                  hps_scale=0.6,\n",
    "                  save=10000,\n",
    "                  t=int(1e9),\n",
    "                  water_perm=50,\n",
    "                  chains=20,\n",
    "                  temperature=temp,\n",
    "                  slab=True,\n",
    "                  model='HPS-T').write_hps_files()"
   ]
  },
  {
   "cell_type": "markdown",
   "metadata": {},
   "source": [
    "#### 0.7 e50"
   ]
  },
  {
   "cell_type": "code",
   "execution_count": 9,
   "metadata": {},
   "outputs": [
    {
     "name": "stdout",
     "output_type": "stream",
     "text": [
      "280.0 280.0\n",
      "320.0 320.0\n",
      "360.0 360.0\n",
      "400.0 400.0\n"
     ]
    }
   ],
   "source": [
    "temperatures = np.linspace(280, 400, 4)\n",
    "for temp in temperatures:\n",
    "    hmdsetup.HMDSetup(protein='CPEB4',\n",
    "                  debye=0.1,\n",
    "                  oliba_wd='/home/adria/irb/hoomd/FINAL/HPS-T/WT_50_07', \n",
    "                  hps_scale=0.7,\n",
    "                  save=10000,\n",
    "                  t=int(1e9),\n",
    "                  water_perm=50,\n",
    "                  chains=20,\n",
    "                  temperature=temp,\n",
    "                  slab=True,\n",
    "                  model='HPS-T').write_hps_files()"
   ]
  },
  {
   "cell_type": "code",
   "execution_count": 10,
   "metadata": {},
   "outputs": [
    {
     "name": "stdout",
     "output_type": "stream",
     "text": [
      "280.0 280.0\n",
      "293.3333333333333 293.3333333333333\n",
      "306.6666666666667 306.6666666666667\n",
      "320.0 320.0\n"
     ]
    }
   ],
   "source": [
    "temperatures = np.linspace(280, 320, 4)\n",
    "for temp in temperatures:\n",
    "    hmdsetup.HMDSetup(protein='CPEB4',\n",
    "                  debye=0.1,\n",
    "                  oliba_wd='/home/adria/irb/hoomd/FINAL/HPS-T/WT_50_07_LOWT', \n",
    "                  hps_scale=0.7,\n",
    "                  save=10000,\n",
    "                  t=int(1e9),\n",
    "                  water_perm=50,\n",
    "                  chains=20,\n",
    "                  temperature=temp,\n",
    "                  slab=True,\n",
    "                  model='HPS-T').write_hps_files()"
   ]
  },
  {
   "cell_type": "markdown",
   "metadata": {},
   "source": [
    "#### 0.75"
   ]
  },
  {
   "cell_type": "code",
   "execution_count": 9,
   "metadata": {},
   "outputs": [],
   "source": [
    "temperatures = np.linspace(280, 400, 8)"
   ]
  },
  {
   "cell_type": "code",
   "execution_count": 57,
   "metadata": {},
   "outputs": [
    {
     "name": "stdout",
     "output_type": "stream",
     "text": [
      "╔════════════════════════════════════════════════════════════════════════════════════════════════════════╗\n",
      "║     Input files created at /home/adria/perdiux/prod/lammps/final/HPS-T/0.75_New/7D_WT for 7D_CPEB4     ║\n",
      "║--------------------------------------------------------------------------------------------------------║\n",
      "║   PARAMETERS                                                                                           ║\n",
      "║       - Model = HPS-T                                                                                  ║\n",
      "║       - Chains = 1                                                                                     ║\n",
      "║       - Ionic Strength (mM) = 0.1                                                                      ║\n",
      "║       - Medium Permittivity = 80.0                                                                     ║\n",
      "║       - Temperatures (K) = [280.         297.14285714 314.28571429 331.42857143 348.57142857\n",
      " 365.71428571 382.85714286 400.        ]    ║\n",
      "║       - HPS Scale = 0.75                                                                               ║\n",
      "╚════════════════════════════════════════════════════════════════════════════════════════════════════════╝\n"
     ]
    }
   ],
   "source": [
    "# lmpsetup.LMPSetup(temperatures=temperatures,\n",
    "#                   protein='CPEB4',\n",
    "#                   host='@perdiu26',\n",
    "#                   debye=0.1,\n",
    "#                   oliba_wd='/home/adria/perdiux/prod/lammps/final/HPS-T/0.75_New/WT', \n",
    "#                   hps_scale=0.75,\n",
    "#                   save=10000,\n",
    "#                   t=int(1e9),\n",
    "#                   processors=3,\n",
    "#                   model='HPS-T').write_hps_files()\n",
    "\n",
    "lmpsetup.LMPSetup(temperatures=temperatures,\n",
    "                  protein='7D_CPEB4',\n",
    "                  host='@perdiu29',\n",
    "                  debye=0.1,\n",
    "                  oliba_wd='/home/adria/perdiux/prod/lammps/final/HPS-T/0.75_New/7D_WT', \n",
    "                  hps_scale=0.75,\n",
    "                  save=10000,\n",
    "                  t=int(1e9),\n",
    "                  processors=3,\n",
    "                  model='HPS-T').write_hps_files()"
   ]
  },
  {
   "cell_type": "code",
   "execution_count": 11,
   "metadata": {},
   "outputs": [
    {
     "name": "stdout",
     "output_type": "stream",
     "text": [
      "╔═════════════════════════════════════════════════════════════════════════════════════════════════════╗\n",
      "║     Input files created at /home/adria/perdiux/prod/lammps/final/HPS-T/0.75_New/D4 for CPEB4_D4     ║\n",
      "║-----------------------------------------------------------------------------------------------------║\n",
      "║   PARAMETERS                                                                                        ║\n",
      "║       - Model = HPS-T                                                                               ║\n",
      "║       - Chains = 1                                                                                  ║\n",
      "║       - Ionic Strength (mM) = 0.1                                                                   ║\n",
      "║       - Medium Permittivity = 80.0                                                                  ║\n",
      "║       - Temperatures (K) = [280.         297.14285714 314.28571429 331.42857143 348.57142857\n",
      " 365.71428571 382.85714286 400.        ]    ║\n",
      "║       - HPS Scale = 0.75                                                                            ║\n",
      "╚═════════════════════════════════════════════════════════════════════════════════════════════════════╝\n",
      "╔═════════════════════════════════════════════════════════════════════════════════════════════════════════════╗\n",
      "║     Input files created at /home/adria/perdiux/prod/lammps/final/HPS-T/0.75_New/12D_D4 for 12D_CPEB4_D4     ║\n",
      "║-------------------------------------------------------------------------------------------------------------║\n",
      "║   PARAMETERS                                                                                                ║\n",
      "║       - Model = HPS-T                                                                                       ║\n",
      "║       - Chains = 1                                                                                          ║\n",
      "║       - Ionic Strength (mM) = 0.1                                                                           ║\n",
      "║       - Medium Permittivity = 80.0                                                                          ║\n",
      "║       - Temperatures (K) = [280.         297.14285714 314.28571429 331.42857143 348.57142857\n",
      " 365.71428571 382.85714286 400.        ]    ║\n",
      "║       - HPS Scale = 0.75                                                                                    ║\n",
      "╚═════════════════════════════════════════════════════════════════════════════════════════════════════════════╝\n"
     ]
    }
   ],
   "source": [
    "lmpsetup.LMPSetup(temperatures=temperatures,\n",
    "                  protein='CPEB4_D4',\n",
    "                  host='@perdiu31',\n",
    "                  debye=0.1,\n",
    "                  oliba_wd='/home/adria/perdiux/prod/lammps/final/HPS-T/0.75_New/D4', \n",
    "                  hps_scale=0.75,\n",
    "                  save=10000,\n",
    "                  t=int(1e9),\n",
    "                  processors=3,\n",
    "                  model='HPS-T').write_hps_files()\n",
    "\n",
    "lmpsetup.LMPSetup(temperatures=temperatures,\n",
    "                  protein='12D_CPEB4_D4',\n",
    "                  host='@perdiu33',\n",
    "                  debye=0.1,\n",
    "                  oliba_wd='/home/adria/perdiux/prod/lammps/final/HPS-T/0.75_New/12D_D4', \n",
    "                  hps_scale=0.75,\n",
    "                  save=10000,\n",
    "                  t=int(1e9),\n",
    "                  processors=3,\n",
    "                  model='HPS-T').write_hps_files()"
   ]
  },
  {
   "cell_type": "markdown",
   "metadata": {},
   "source": [
    "#### 0.7"
   ]
  },
  {
   "cell_type": "code",
   "execution_count": 39,
   "metadata": {},
   "outputs": [],
   "source": [
    "temperatures = np.linspace(280, 400, 8)"
   ]
  },
  {
   "cell_type": "code",
   "execution_count": 56,
   "metadata": {},
   "outputs": [
    {
     "name": "stdout",
     "output_type": "stream",
     "text": [
      "╔═══════════════════════════════════════════════════════════════════════════════════════════════════╗\n",
      "║     Input files created at /home/adria/perdiux/prod/lammps/final/HPS-T/0.7/7D_WT for 7D_CPEB4     ║\n",
      "║---------------------------------------------------------------------------------------------------║\n",
      "║   PARAMETERS                                                                                      ║\n",
      "║       - Model = HPS-T                                                                             ║\n",
      "║       - Chains = 1                                                                                ║\n",
      "║       - Ionic Strength (mM) = 0.1                                                                 ║\n",
      "║       - Medium Permittivity = 80.0                                                                ║\n",
      "║       - Temperatures (K) = [280.         297.14285714 314.28571429 331.42857143 348.57142857\n",
      " 365.71428571 382.85714286 400.        ]    ║\n",
      "║       - HPS Scale = 0.7                                                                           ║\n",
      "╚═══════════════════════════════════════════════════════════════════════════════════════════════════╝\n"
     ]
    }
   ],
   "source": [
    "lmpsetup.LMPSetup(temperatures=temperatures,\n",
    "                  protein='7D_CPEB4',\n",
    "                  host='@perdiu46',\n",
    "                  debye=0.1,\n",
    "                  oliba_wd='/home/adria/perdiux/prod/lammps/final/HPS-T/0.7/7D_WT', \n",
    "                  hps_scale=0.7,\n",
    "                  save=10000,\n",
    "                  t=int(1e9),\n",
    "                  processors=2,\n",
    "                  model='HPS-T').write_hps_files()\n",
    "\n",
    "# lmpsetup.LMPSetup(temperatures=temperatures,\n",
    "#                   protein='CPEB4',\n",
    "#                   host='@perdiu37',\n",
    "#                   debye=0.1,\n",
    "#                   oliba_wd='/home/adria/perdiux/prod/lammps/final/HPS-T/0.7/WT', \n",
    "#                   hps_scale=0.7,\n",
    "#                   save=10000,\n",
    "#                   t=int(1e9),\n",
    "#                   processors=2,\n",
    "#                   model='HPS-T').write_hps_files()"
   ]
  },
  {
   "cell_type": "code",
   "execution_count": 43,
   "metadata": {},
   "outputs": [
    {
     "name": "stdout",
     "output_type": "stream",
     "text": [
      "╔════════════════════════════════════════════════════════════════════════════════════════════════════════╗\n",
      "║     Input files created at /home/adria/perdiux/prod/lammps/final/HPS-T/0.7/12D_D4 for 12D_CPEB4_D4     ║\n",
      "║--------------------------------------------------------------------------------------------------------║\n",
      "║   PARAMETERS                                                                                           ║\n",
      "║       - Model = HPS-T                                                                                  ║\n",
      "║       - Chains = 1                                                                                     ║\n",
      "║       - Ionic Strength (mM) = 0.1                                                                      ║\n",
      "║       - Medium Permittivity = 80.0                                                                     ║\n",
      "║       - Temperatures (K) = [280.         297.14285714 314.28571429 331.42857143 348.57142857\n",
      " 365.71428571 382.85714286 400.        ]    ║\n",
      "║       - HPS Scale = 0.7                                                                                ║\n",
      "╚════════════════════════════════════════════════════════════════════════════════════════════════════════╝\n"
     ]
    }
   ],
   "source": [
    "# lmpsetup.LMPSetup(temperatures=temperatures,\n",
    "#                   protein='CPEB4_D4',\n",
    "#                   host='@perdiu38',\n",
    "#                   debye=0.1,\n",
    "#                   oliba_wd='/home/adria/perdiux/prod/lammps/final/HPS-T/0.7/D4', \n",
    "#                   hps_scale=0.7,\n",
    "#                   save=10000,\n",
    "#                   t=int(1e9),\n",
    "#                   processors=2,\n",
    "#                   model='HPS-T').write_hps_files()\n",
    "\n",
    "lmpsetup.LMPSetup(temperatures=temperatures,\n",
    "                  protein='12D_CPEB4_D4',\n",
    "                  host='@perdiu46',\n",
    "                  debye=0.1,\n",
    "                  oliba_wd='/home/adria/perdiux/prod/lammps/final/HPS-T/0.7/12D_D4', \n",
    "                  hps_scale=0.7,\n",
    "                  save=10000,\n",
    "                  t=int(1e9),\n",
    "                  processors=2,\n",
    "                  model='HPS-T').write_hps_files()"
   ]
  },
  {
   "cell_type": "markdown",
   "metadata": {},
   "source": [
    "### HPS-T Slab Results <a id='3'></a>"
   ]
  },
  {
   "cell_type": "code",
   "execution_count": 20,
   "metadata": {},
   "outputs": [
    {
     "name": "stdout",
     "output_type": "stream",
     "text": [
      "280.0 280.0\n",
      "320.0 320.0\n",
      "360.0 360.0\n",
      "400.0 400.0\n"
     ]
    }
   ],
   "source": [
    "for temp in np.linspace(280, 400, 4):\n",
    "    s = hmdsetup.HMDSetup(\n",
    "                    protein='CPEB4_D4',\n",
    "                    oliba_wd='/home/adria/irb/hoomd/FINAL/HPS-T/D4_GOODDER',\n",
    "                    temperature=temp,\n",
    "                    debye=0.1,\n",
    "                    model='HPS-T',\n",
    "                    save=10000,\n",
    "                    chains=20,\n",
    "                    slab_method='npt',\n",
    "                    time=int(1e9),).write_hps_files()"
   ]
  },
  {
   "cell_type": "code",
   "execution_count": 22,
   "metadata": {},
   "outputs": [
    {
     "name": "stdout",
     "output_type": "stream",
     "text": [
      "280.0 280.0\n",
      "320.0 320.0\n",
      "360.0 360.0\n",
      "400.0 400.0\n"
     ]
    }
   ],
   "source": [
    "for temp in np.linspace(280, 400, 4):\n",
    "    s = hmdsetup.HMDSetup(\n",
    "                    protein='CPEB4',\n",
    "                    oliba_wd='/home/adria/irb/final/WT',\n",
    "                    temperature=temp,\n",
    "                    debye=0.1,\n",
    "                    model='HPS-T',\n",
    "                    save=10000,\n",
    "                    chains=20,\n",
    "                    slab_method='npt',\n",
    "                    time=int(1e9)).write_hps_files()"
   ]
  },
  {
   "cell_type": "code",
   "execution_count": 51,
   "metadata": {},
   "outputs": [
    {
     "name": "stdout",
     "output_type": "stream",
     "text": [
      "280.0 280.0\n",
      "320.0 320.0\n",
      "360.0 360.0\n",
      "400.0 400.0\n"
     ]
    }
   ],
   "source": [
    "for temp in np.linspace(280, 400, 4):\n",
    "    s = hmdsetup.HMDSetup(\n",
    "                    protein='12D_CPEB4_D4',\n",
    "                    oliba_wd='/home/adria/irb/hoomd/FINAL/12D_D4',\n",
    "                    temperature=temp,\n",
    "                    debye=0.1,\n",
    "                    model='HPS-T',\n",
    "                    save=10000,\n",
    "                    chains=20,\n",
    "                    slab=True,\n",
    "                    time=int(1e9),).write_hps_files()"
   ]
  },
  {
   "cell_type": "code",
   "execution_count": 45,
   "metadata": {},
   "outputs": [
    {
     "name": "stdout",
     "output_type": "stream",
     "text": [
      "280.0 280.0\n",
      "320.0 320.0\n",
      "360.0 360.0\n",
      "400.0 400.0\n"
     ]
    }
   ],
   "source": [
    "for temp in np.linspace(280, 400, 4):\n",
    "    s = hmdsetup.HMDSetup(\n",
    "                    protein='7D_CPEB4',\n",
    "                    oliba_wd='/home/adria/irb/hoomd/FINAL/7D_WT',\n",
    "                    temperature=temp,\n",
    "                    debye=0.1,\n",
    "                    model='HPS-T',\n",
    "                    save=10000,\n",
    "                    chains=20,\n",
    "                    slab=True,\n",
    "                    time=int(1e9),).write_hps_files()"
   ]
  },
  {
   "cell_type": "code",
   "execution_count": null,
   "metadata": {},
   "outputs": [],
   "source": [
    "t.phase_diagram()"
   ]
  },
  {
   "cell_type": "markdown",
   "metadata": {},
   "source": [
    "### E4 Variants <a id='4'></a>"
   ]
  },
  {
   "cell_type": "markdown",
   "metadata": {},
   "source": [
    "**R to K**"
   ]
  },
  {
   "cell_type": "markdown",
   "metadata": {},
   "source": [
    "### KH <a id='5'></a>"
   ]
  },
  {
   "cell_type": "markdown",
   "metadata": {},
   "source": [
    "**REPRODUCIBILITY**"
   ]
  },
  {
   "cell_type": "markdown",
   "metadata": {},
   "source": [
    "**HPS-KH**"
   ]
  },
  {
   "cell_type": "code",
   "execution_count": 12,
   "metadata": {},
   "outputs": [
    {
     "name": "stdout",
     "output_type": "stream",
     "text": [
      "╔══════════════════════════════════════════════════════════════════════════════════════╗\n",
      "║     Input files created at /home/adria/perdiux/prod/lammps/final/KH/WT for CPEB4     ║\n",
      "║--------------------------------------------------------------------------------------║\n",
      "║   PARAMETERS                                                                         ║\n",
      "║       - Model = KH-HPS                                                               ║\n",
      "║       - Chains = 1                                                                   ║\n",
      "║       - Ionic Strength (mM) = 0.1                                                    ║\n",
      "║       - Medium Permittivity = 80.0                                                   ║\n",
      "║       - Temperatures (K) = [280.         297.14285714 314.28571429 331.42857143 348.57142857\n",
      " 365.71428571 382.85714286 400.        ]    ║\n",
      "║       - HPS Scale = 1.0                                                              ║\n",
      "╚══════════════════════════════════════════════════════════════════════════════════════╝\n",
      "╔═════════════════════════════════════════════════════════════════════════════════════════╗\n",
      "║     Input files created at /home/adria/perdiux/prod/lammps/final/KH/D4 for CPEB4_D4     ║\n",
      "║-----------------------------------------------------------------------------------------║\n",
      "║   PARAMETERS                                                                            ║\n",
      "║       - Model = KH-HPS                                                                  ║\n",
      "║       - Chains = 1                                                                      ║\n",
      "║       - Ionic Strength (mM) = 0.1                                                       ║\n",
      "║       - Medium Permittivity = 80.0                                                      ║\n",
      "║       - Temperatures (K) = [280.         297.14285714 314.28571429 331.42857143 348.57142857\n",
      " 365.71428571 382.85714286 400.        ]    ║\n",
      "║       - HPS Scale = 1.0                                                                 ║\n",
      "╚═════════════════════════════════════════════════════════════════════════════════════════╝\n"
     ]
    }
   ],
   "source": [
    "temperatures = np.linspace(280, 400, 8)\n",
    "lmpsetup.LMPSetup(temperatures=temperatures,\n",
    "                  protein='CPEB4',\n",
    "                  host='@perdiu49',\n",
    "                  debye=0.1,\n",
    "                  oliba_wd='/home/adria/perdiux/prod/lammps/final/KH/WT', \n",
    "                  save=10000,\n",
    "                  t=int(1e9),\n",
    "                  processors=4,\n",
    "                  model='KH-HPS').write_hps_files()\n",
    "\n",
    "temperatures = np.linspace(280, 400, 8)\n",
    "lmpsetup.LMPSetup(temperatures=temperatures,\n",
    "                  protein='CPEB4_D4',\n",
    "                  host='@perdiu47',\n",
    "                  debye=0.1,\n",
    "                  oliba_wd='/home/adria/perdiux/prod/lammps/final/KH/D4', \n",
    "                  save=10000,\n",
    "                  t=int(1e9),\n",
    "                  processors=4,\n",
    "                  model='KH-HPS').write_hps_files()"
   ]
  }
 ],
 "metadata": {
  "kernelspec": {
   "display_name": "Python 3",
   "language": "python",
   "name": "python3"
  },
  "language_info": {
   "codemirror_mode": {
    "name": "ipython",
    "version": 3
   },
   "file_extension": ".py",
   "mimetype": "text/x-python",
   "name": "python",
   "nbconvert_exporter": "python",
   "pygments_lexer": "ipython3",
   "version": "3.7.4"
  }
 },
 "nbformat": 4,
 "nbformat_minor": 2
}
