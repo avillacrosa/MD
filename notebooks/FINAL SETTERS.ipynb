{
 "cells": [
  {
   "cell_type": "code",
   "execution_count": 1,
   "metadata": {},
   "outputs": [],
   "source": [
    "%load_ext autoreload\n",
    "%autoreload 2\n",
    "%matplotlib inline\n",
    "\n",
    "import lmpsetup\n",
    "import hmdsetup\n",
    "\n",
    "import lmp\n",
    "import hmd\n",
    "\n",
    "import numpy as np\n",
    "import matplotlib.pyplot as plt\n",
    "import analysis\n",
    "\n",
    "import scipy.constants as cnt\n",
    "\n",
    "import shutil\n",
    "import os\n",
    "import mdtraj as md\n",
    "import statsmodels.tsa.stattools\n",
    "import MDAnalysis as mda\n",
    "import scipy\n",
    "from matplotlib.lines import Line2D\n",
    "\n",
    "WT_COL='darkblue'\n",
    "D7_COL='royalblue'\n",
    "\n",
    "D4_COL = 'red'\n",
    "D12_COL = 'orange'"
   ]
  },
  {
   "cell_type": "code",
   "execution_count": 5,
   "metadata": {},
   "outputs": [
    {
     "data": {
      "text/plain": [
       "0.0018"
      ]
     },
     "execution_count": 5,
     "metadata": {},
     "output_type": "execute_result"
    }
   ],
   "source": [
    "phis_mM = 100\n",
    "phis_mM * 0.001 / (1000. / 18.)"
   ]
  },
  {
   "cell_type": "code",
   "execution_count": 14,
   "metadata": {},
   "outputs": [
    {
     "name": "stderr",
     "output_type": "stream",
     "text": [
      "/home/adria/anaconda3/lib/python3.7/site-packages/MDAnalysis/topology/PDBParser.py:330: UserWarning: Element information is absent or missing for a few atoms. Elements attributes will not be populated.\n",
      "  warnings.warn(\"Element information is absent or missing for a few \"\n"
     ]
    }
   ],
   "source": [
    "lammpstrj = '/home/adria/perdiux/prod/lammps/final/HPS-T/0.75/WT/atom_traj_0.lammpsdump'\n",
    "top = '/home/adria/perdiux/prod/lammps/final/HPS-T/0.75/WT/topo.pdb'\n",
    "u = mda.Universe(top, lammpstrj)"
   ]
  },
  {
   "cell_type": "code",
   "execution_count": 20,
   "metadata": {},
   "outputs": [],
   "source": [
    "with mda.Writer(\"/home/adria/perdiux/prod/lammps/final/HPS-T/0.75/WT/new_dcd_0.dcd\", u.atoms.n_atoms) as W:\n",
    "    for ts in u.trajectory:\n",
    "        W.write(u.atoms)"
   ]
  },
  {
   "cell_type": "code",
   "execution_count": 22,
   "metadata": {},
   "outputs": [
    {
     "data": {
      "text/plain": [
       "<mdtraj.Trajectory with 100001 frames, 448 atoms, 448 residues, and unitcells at 0x7fdd9ea6f8d0>"
      ]
     },
     "execution_count": 22,
     "metadata": {},
     "output_type": "execute_result"
    }
   ],
   "source": [
    "md.load('/home/adria/perdiux/prod/lammps/final/HPS-T/0.75/WT/new_dcd_0.dcd', top=top)"
   ]
  },
  {
   "cell_type": "markdown",
   "metadata": {},
   "source": [
    "## Summary\n",
    "\n",
    "**[Reweighters](#1)**\n",
    "\n",
    "**[HPS Single chain Results](#2)**\n",
    "\n",
    "\n",
    "**[HPS-T Single chain Results](#3)**\n",
    "\n",
    "**[HPS-T Slab Results](#3)**\n",
    "\n",
    "**[E4 Variants](#4)**\n",
    "\n",
    "**[KH](#5)**"
   ]
  },
  {
   "cell_type": "markdown",
   "metadata": {},
   "source": [
    "### Reweighters <a id='1'></a>"
   ]
  },
  {
   "cell_type": "markdown",
   "metadata": {},
   "source": [
    "### HPS Single chain Results <a id='2'></a>"
   ]
  },
  {
   "cell_type": "code",
   "execution_count": null,
   "metadata": {},
   "outputs": [],
   "source": []
  },
  {
   "cell_type": "markdown",
   "metadata": {},
   "source": [
    "### HPS-T Single chain Results <a id='3'></a>"
   ]
  },
  {
   "cell_type": "markdown",
   "metadata": {},
   "source": [
    "#### $\\lambda=0$ to no electro"
   ]
  },
  {
   "cell_type": "code",
   "execution_count": 36,
   "metadata": {},
   "outputs": [],
   "source": [
    "temperatures = np.linspace(280, 400, 8)"
   ]
  },
  {
   "cell_type": "code",
   "execution_count": 37,
   "metadata": {},
   "outputs": [
    {
     "name": "stdout",
     "output_type": "stream",
     "text": [
      "╔═══════════════════════════════════════════════════════════════════════════╗\n",
      "║     Input files created at /home/adria/perdiux/EpsVsLamb/L0 for CPEB4     ║\n",
      "║---------------------------------------------------------------------------║\n",
      "║   PARAMETERS                                                              ║\n",
      "║       - Model = HPS-T                                                     ║\n",
      "║       - Chains = 1                                                        ║\n",
      "║       - Ionic Strength (mM) = 0.1                                         ║\n",
      "║       - Medium Permittivity = 80.0                                        ║\n",
      "║       - Temperatures (K) = [280.         297.14285714 314.28571429 331.42857143 348.57142857\n",
      " 365.71428571 382.85714286 400.        ]    ║\n",
      "║       - HPS Scale = 0                                                     ║\n",
      "╚═══════════════════════════════════════════════════════════════════════════╝\n"
     ]
    }
   ],
   "source": [
    "lmpsetup.LMPSetup(temperatures=temperatures,\n",
    "                  protein='CPEB4',\n",
    "                  host='@perdiu35',\n",
    "                  debye=0.1,\n",
    "                  oliba_wd='/home/adria/perdiux/EpsVsLamb/L0', \n",
    "                  hps_scale=0,\n",
    "                  save=10000,\n",
    "                  t=int(1e9),\n",
    "                  processors=2,\n",
    "                  model='HPS-T').write_hps_files()"
   ]
  },
  {
   "cell_type": "code",
   "execution_count": 38,
   "metadata": {},
   "outputs": [
    {
     "name": "stdout",
     "output_type": "stream",
     "text": [
      "╔═══════════════════════════════════════════════════════════════════════════════╗\n",
      "║     Input files created at /home/adria/perdiux/EpsVsLamb/EPSINF for CPEB4     ║\n",
      "║-------------------------------------------------------------------------------║\n",
      "║   PARAMETERS                                                                  ║\n",
      "║       - Model = HPS-T                                                         ║\n",
      "║       - Chains = 1                                                            ║\n",
      "║       - Ionic Strength (mM) = 0.1                                             ║\n",
      "║       - Medium Permittivity = 80.0                                            ║\n",
      "║       - Temperatures (K) = [280.         297.14285714 314.28571429 331.42857143 348.57142857\n",
      " 365.71428571 382.85714286 400.        ]    ║\n",
      "║       - HPS Scale = 1                                                         ║\n",
      "╚═══════════════════════════════════════════════════════════════════════════════╝\n"
     ]
    }
   ],
   "source": [
    "lmpsetup.LMPSetup(temperatures=temperatures,\n",
    "                  protein='CPEB4',\n",
    "                  host='@perdiu34',\n",
    "                  debye=0.1,\n",
    "                  oliba_wd='/home/adria/perdiux/EpsVsLamb/EPSINF', \n",
    "                  hps_scale=1,\n",
    "                  save=10000,\n",
    "                  t=int(1e9),\n",
    "                  processors=2,\n",
    "                  model='HPS-T').write_hps_files()"
   ]
  },
  {
   "cell_type": "markdown",
   "metadata": {},
   "source": [
    "#### Cat-Pi extended"
   ]
  },
  {
   "cell_type": "code",
   "execution_count": 2,
   "metadata": {},
   "outputs": [],
   "source": [
    "temperatures = np.linspace(280, 400, 4)"
   ]
  },
  {
   "cell_type": "code",
   "execution_count": 3,
   "metadata": {},
   "outputs": [
    {
     "name": "stdout",
     "output_type": "stream",
     "text": [
      "280.0 280.0\n",
      "320.0 320.0\n",
      "360.0 360.0\n",
      "400.0 400.0\n"
     ]
    }
   ],
   "source": [
    "for temp in temperatures:\n",
    "    hmdsetup.HMDSetup(protein='CPEB4',\n",
    "                  debye=0.1,\n",
    "                  oliba_wd='/home/adria/irb/hoomd/FINAL/hps-cat2/WT', \n",
    "                  hps_scale=0.75,\n",
    "                  save=10000,\n",
    "                  t=int(1e9),\n",
    "                  temperature=temp,\n",
    "                  model='HPS-CAT').write_hps_files()"
   ]
  },
  {
   "cell_type": "code",
   "execution_count": 4,
   "metadata": {},
   "outputs": [
    {
     "name": "stdout",
     "output_type": "stream",
     "text": [
      "280.0 280.0\n",
      "320.0 320.0\n",
      "360.0 360.0\n",
      "400.0 400.0\n"
     ]
    }
   ],
   "source": [
    "for temp in temperatures:\n",
    "    hmdsetup.HMDSetup(protein='CPEB4_D4',\n",
    "                  debye=0.1,\n",
    "                  oliba_wd='/home/adria/irb/hoomd/FINAL/hps-cat2/D4', \n",
    "                  hps_scale=0.75,\n",
    "                  save=10000,\n",
    "                  t=int(1e9),\n",
    "                  temperature=temp,\n",
    "                  model='HPS-CAT').write_hps_files()"
   ]
  },
  {
   "cell_type": "markdown",
   "metadata": {},
   "source": [
    "#### 0.75 - e50"
   ]
  },
  {
   "cell_type": "code",
   "execution_count": 52,
   "metadata": {},
   "outputs": [],
   "source": [
    "temperatures = np.linspace(280, 400, 8)"
   ]
  },
  {
   "cell_type": "code",
   "execution_count": 58,
   "metadata": {},
   "outputs": [
    {
     "name": "stdout",
     "output_type": "stream",
     "text": [
      "╔═══════════════════════════════════════════════════════════════════════════════════════════════════════╗\n",
      "║     Input files created at /home/adria/perdiux/prod/lammps/final/HPS-T/0.75_50/7D_WT for 7D_CPEB4     ║\n",
      "║-------------------------------------------------------------------------------------------------------║\n",
      "║   PARAMETERS                                                                                          ║\n",
      "║       - Model = HPS-T                                                                                 ║\n",
      "║       - Chains = 1                                                                                    ║\n",
      "║       - Ionic Strength (mM) = 0.1                                                                     ║\n",
      "║       - Medium Permittivity = 50                                                                      ║\n",
      "║       - Temperatures (K) = [280.         297.14285714 314.28571429 331.42857143 348.57142857\n",
      " 365.71428571 382.85714286 400.        ]    ║\n",
      "║       - HPS Scale = 0.75                                                                              ║\n",
      "╚═══════════════════════════════════════════════════════════════════════════════════════════════════════╝\n"
     ]
    }
   ],
   "source": [
    "# lmpsetup.LMPSetup(temperatures=temperatures,\n",
    "#                   protein='CPEB4',\n",
    "#                   host='@perdiu25',\n",
    "#                   debye=0.1,\n",
    "#                   oliba_wd='/home/adria/perdiux/prod/lammps/final/HPS-T/0.75_50/WT', \n",
    "#                   hps_scale=0.75,\n",
    "#                   water_perm=50,\n",
    "#                   save=10000,\n",
    "#                   t=int(1e9),\n",
    "#                   processors=3,\n",
    "#                   model='HPS-T').write_hps_files()\n",
    "\n",
    "lmpsetup.LMPSetup(temperatures=temperatures,\n",
    "                  protein='7D_CPEB4',\n",
    "                  host='@perdiu29',\n",
    "                  debye=0.1,\n",
    "                  oliba_wd='/home/adria/perdiux/prod/lammps/final/HPS-T/0.75_50/7D_WT', \n",
    "                  hps_scale=0.75,\n",
    "                  water_perm=50,\n",
    "                  save=10000,\n",
    "                  t=int(1e9),\n",
    "                  processors=3,\n",
    "                  model='HPS-T').write_hps_files()"
   ]
  },
  {
   "cell_type": "code",
   "execution_count": 55,
   "metadata": {},
   "outputs": [
    {
     "name": "stdout",
     "output_type": "stream",
     "text": [
      "╔════════════════════════════════════════════════════════════════════════════════════════════════════╗\n",
      "║     Input files created at /home/adria/perdiux/prod/lammps/final/HPS-T/0.75_50/D4 for CPEB4_D4     ║\n",
      "║----------------------------------------------------------------------------------------------------║\n",
      "║   PARAMETERS                                                                                       ║\n",
      "║       - Model = HPS-T                                                                              ║\n",
      "║       - Chains = 1                                                                                 ║\n",
      "║       - Ionic Strength (mM) = 0.1                                                                  ║\n",
      "║       - Medium Permittivity = 50                                                                   ║\n",
      "║       - Temperatures (K) = [280.         297.14285714 314.28571429 331.42857143 348.57142857\n",
      " 365.71428571 382.85714286 400.        ]    ║\n",
      "║       - HPS Scale = 0.75                                                                           ║\n",
      "╚════════════════════════════════════════════════════════════════════════════════════════════════════╝\n",
      "╔════════════════════════════════════════════════════════════════════════════════════════════════════════════╗\n",
      "║     Input files created at /home/adria/perdiux/prod/lammps/final/HPS-T/0.75_50/12D_D4 for 12D_CPEB4_D4     ║\n",
      "║------------------------------------------------------------------------------------------------------------║\n",
      "║   PARAMETERS                                                                                               ║\n",
      "║       - Model = HPS-T                                                                                      ║\n",
      "║       - Chains = 1                                                                                         ║\n",
      "║       - Ionic Strength (mM) = 0.1                                                                          ║\n",
      "║       - Medium Permittivity = 50                                                                           ║\n",
      "║       - Temperatures (K) = [280.         297.14285714 314.28571429 331.42857143 348.57142857\n",
      " 365.71428571 382.85714286 400.        ]    ║\n",
      "║       - HPS Scale = 0.75                                                                                   ║\n",
      "╚════════════════════════════════════════════════════════════════════════════════════════════════════════════╝\n"
     ]
    }
   ],
   "source": [
    "lmpsetup.LMPSetup(temperatures=temperatures,\n",
    "                  protein='CPEB4_D4',\n",
    "                  host='@perdiu46',\n",
    "                  debye=0.1,\n",
    "                  oliba_wd='/home/adria/perdiux/prod/lammps/final/HPS-T/0.75_50/D4', \n",
    "                  hps_scale=0.75,\n",
    "                  water_perm=50,\n",
    "                  save=10000,\n",
    "                  t=int(1e9),\n",
    "                  processors=2,\n",
    "                  model='HPS-T').write_hps_files()\n",
    "\n",
    "lmpsetup.LMPSetup(temperatures=temperatures,\n",
    "                  protein='12D_CPEB4_D4',\n",
    "                  host='@perdiu39',\n",
    "                  debye=0.1,\n",
    "                  oliba_wd='/home/adria/perdiux/prod/lammps/final/HPS-T/0.75_50/12D_D4', \n",
    "                  hps_scale=0.75,\n",
    "                  water_perm=50,\n",
    "                  save=10000,\n",
    "                  t=int(1e9),\n",
    "                  processors=2,\n",
    "                  model='HPS-T').write_hps_files()"
   ]
  },
  {
   "cell_type": "markdown",
   "metadata": {},
   "source": [
    "#### 0.75"
   ]
  },
  {
   "cell_type": "code",
   "execution_count": 9,
   "metadata": {},
   "outputs": [],
   "source": [
    "temperatures = np.linspace(280, 400, 8)"
   ]
  },
  {
   "cell_type": "code",
   "execution_count": 57,
   "metadata": {},
   "outputs": [
    {
     "name": "stdout",
     "output_type": "stream",
     "text": [
      "╔════════════════════════════════════════════════════════════════════════════════════════════════════════╗\n",
      "║     Input files created at /home/adria/perdiux/prod/lammps/final/HPS-T/0.75_New/7D_WT for 7D_CPEB4     ║\n",
      "║--------------------------------------------------------------------------------------------------------║\n",
      "║   PARAMETERS                                                                                           ║\n",
      "║       - Model = HPS-T                                                                                  ║\n",
      "║       - Chains = 1                                                                                     ║\n",
      "║       - Ionic Strength (mM) = 0.1                                                                      ║\n",
      "║       - Medium Permittivity = 80.0                                                                     ║\n",
      "║       - Temperatures (K) = [280.         297.14285714 314.28571429 331.42857143 348.57142857\n",
      " 365.71428571 382.85714286 400.        ]    ║\n",
      "║       - HPS Scale = 0.75                                                                               ║\n",
      "╚════════════════════════════════════════════════════════════════════════════════════════════════════════╝\n"
     ]
    }
   ],
   "source": [
    "# lmpsetup.LMPSetup(temperatures=temperatures,\n",
    "#                   protein='CPEB4',\n",
    "#                   host='@perdiu26',\n",
    "#                   debye=0.1,\n",
    "#                   oliba_wd='/home/adria/perdiux/prod/lammps/final/HPS-T/0.75_New/WT', \n",
    "#                   hps_scale=0.75,\n",
    "#                   save=10000,\n",
    "#                   t=int(1e9),\n",
    "#                   processors=3,\n",
    "#                   model='HPS-T').write_hps_files()\n",
    "\n",
    "lmpsetup.LMPSetup(temperatures=temperatures,\n",
    "                  protein='7D_CPEB4',\n",
    "                  host='@perdiu29',\n",
    "                  debye=0.1,\n",
    "                  oliba_wd='/home/adria/perdiux/prod/lammps/final/HPS-T/0.75_New/7D_WT', \n",
    "                  hps_scale=0.75,\n",
    "                  save=10000,\n",
    "                  t=int(1e9),\n",
    "                  processors=3,\n",
    "                  model='HPS-T').write_hps_files()"
   ]
  },
  {
   "cell_type": "code",
   "execution_count": 11,
   "metadata": {},
   "outputs": [
    {
     "name": "stdout",
     "output_type": "stream",
     "text": [
      "╔═════════════════════════════════════════════════════════════════════════════════════════════════════╗\n",
      "║     Input files created at /home/adria/perdiux/prod/lammps/final/HPS-T/0.75_New/D4 for CPEB4_D4     ║\n",
      "║-----------------------------------------------------------------------------------------------------║\n",
      "║   PARAMETERS                                                                                        ║\n",
      "║       - Model = HPS-T                                                                               ║\n",
      "║       - Chains = 1                                                                                  ║\n",
      "║       - Ionic Strength (mM) = 0.1                                                                   ║\n",
      "║       - Medium Permittivity = 80.0                                                                  ║\n",
      "║       - Temperatures (K) = [280.         297.14285714 314.28571429 331.42857143 348.57142857\n",
      " 365.71428571 382.85714286 400.        ]    ║\n",
      "║       - HPS Scale = 0.75                                                                            ║\n",
      "╚═════════════════════════════════════════════════════════════════════════════════════════════════════╝\n",
      "╔═════════════════════════════════════════════════════════════════════════════════════════════════════════════╗\n",
      "║     Input files created at /home/adria/perdiux/prod/lammps/final/HPS-T/0.75_New/12D_D4 for 12D_CPEB4_D4     ║\n",
      "║-------------------------------------------------------------------------------------------------------------║\n",
      "║   PARAMETERS                                                                                                ║\n",
      "║       - Model = HPS-T                                                                                       ║\n",
      "║       - Chains = 1                                                                                          ║\n",
      "║       - Ionic Strength (mM) = 0.1                                                                           ║\n",
      "║       - Medium Permittivity = 80.0                                                                          ║\n",
      "║       - Temperatures (K) = [280.         297.14285714 314.28571429 331.42857143 348.57142857\n",
      " 365.71428571 382.85714286 400.        ]    ║\n",
      "║       - HPS Scale = 0.75                                                                                    ║\n",
      "╚═════════════════════════════════════════════════════════════════════════════════════════════════════════════╝\n"
     ]
    }
   ],
   "source": [
    "lmpsetup.LMPSetup(temperatures=temperatures,\n",
    "                  protein='CPEB4_D4',\n",
    "                  host='@perdiu31',\n",
    "                  debye=0.1,\n",
    "                  oliba_wd='/home/adria/perdiux/prod/lammps/final/HPS-T/0.75_New/D4', \n",
    "                  hps_scale=0.75,\n",
    "                  save=10000,\n",
    "                  t=int(1e9),\n",
    "                  processors=3,\n",
    "                  model='HPS-T').write_hps_files()\n",
    "\n",
    "lmpsetup.LMPSetup(temperatures=temperatures,\n",
    "                  protein='12D_CPEB4_D4',\n",
    "                  host='@perdiu33',\n",
    "                  debye=0.1,\n",
    "                  oliba_wd='/home/adria/perdiux/prod/lammps/final/HPS-T/0.75_New/12D_D4', \n",
    "                  hps_scale=0.75,\n",
    "                  save=10000,\n",
    "                  t=int(1e9),\n",
    "                  processors=3,\n",
    "                  model='HPS-T').write_hps_files()"
   ]
  },
  {
   "cell_type": "markdown",
   "metadata": {},
   "source": [
    "#### 0.7"
   ]
  },
  {
   "cell_type": "code",
   "execution_count": 39,
   "metadata": {},
   "outputs": [],
   "source": [
    "temperatures = np.linspace(280, 400, 8)"
   ]
  },
  {
   "cell_type": "code",
   "execution_count": 56,
   "metadata": {},
   "outputs": [
    {
     "name": "stdout",
     "output_type": "stream",
     "text": [
      "╔═══════════════════════════════════════════════════════════════════════════════════════════════════╗\n",
      "║     Input files created at /home/adria/perdiux/prod/lammps/final/HPS-T/0.7/7D_WT for 7D_CPEB4     ║\n",
      "║---------------------------------------------------------------------------------------------------║\n",
      "║   PARAMETERS                                                                                      ║\n",
      "║       - Model = HPS-T                                                                             ║\n",
      "║       - Chains = 1                                                                                ║\n",
      "║       - Ionic Strength (mM) = 0.1                                                                 ║\n",
      "║       - Medium Permittivity = 80.0                                                                ║\n",
      "║       - Temperatures (K) = [280.         297.14285714 314.28571429 331.42857143 348.57142857\n",
      " 365.71428571 382.85714286 400.        ]    ║\n",
      "║       - HPS Scale = 0.7                                                                           ║\n",
      "╚═══════════════════════════════════════════════════════════════════════════════════════════════════╝\n"
     ]
    }
   ],
   "source": [
    "lmpsetup.LMPSetup(temperatures=temperatures,\n",
    "                  protein='7D_CPEB4',\n",
    "                  host='@perdiu46',\n",
    "                  debye=0.1,\n",
    "                  oliba_wd='/home/adria/perdiux/prod/lammps/final/HPS-T/0.7/7D_WT', \n",
    "                  hps_scale=0.7,\n",
    "                  save=10000,\n",
    "                  t=int(1e9),\n",
    "                  processors=2,\n",
    "                  model='HPS-T').write_hps_files()\n",
    "\n",
    "# lmpsetup.LMPSetup(temperatures=temperatures,\n",
    "#                   protein='CPEB4',\n",
    "#                   host='@perdiu37',\n",
    "#                   debye=0.1,\n",
    "#                   oliba_wd='/home/adria/perdiux/prod/lammps/final/HPS-T/0.7/WT', \n",
    "#                   hps_scale=0.7,\n",
    "#                   save=10000,\n",
    "#                   t=int(1e9),\n",
    "#                   processors=2,\n",
    "#                   model='HPS-T').write_hps_files()"
   ]
  },
  {
   "cell_type": "code",
   "execution_count": 43,
   "metadata": {},
   "outputs": [
    {
     "name": "stdout",
     "output_type": "stream",
     "text": [
      "╔════════════════════════════════════════════════════════════════════════════════════════════════════════╗\n",
      "║     Input files created at /home/adria/perdiux/prod/lammps/final/HPS-T/0.7/12D_D4 for 12D_CPEB4_D4     ║\n",
      "║--------------------------------------------------------------------------------------------------------║\n",
      "║   PARAMETERS                                                                                           ║\n",
      "║       - Model = HPS-T                                                                                  ║\n",
      "║       - Chains = 1                                                                                     ║\n",
      "║       - Ionic Strength (mM) = 0.1                                                                      ║\n",
      "║       - Medium Permittivity = 80.0                                                                     ║\n",
      "║       - Temperatures (K) = [280.         297.14285714 314.28571429 331.42857143 348.57142857\n",
      " 365.71428571 382.85714286 400.        ]    ║\n",
      "║       - HPS Scale = 0.7                                                                                ║\n",
      "╚════════════════════════════════════════════════════════════════════════════════════════════════════════╝\n"
     ]
    }
   ],
   "source": [
    "# lmpsetup.LMPSetup(temperatures=temperatures,\n",
    "#                   protein='CPEB4_D4',\n",
    "#                   host='@perdiu38',\n",
    "#                   debye=0.1,\n",
    "#                   oliba_wd='/home/adria/perdiux/prod/lammps/final/HPS-T/0.7/D4', \n",
    "#                   hps_scale=0.7,\n",
    "#                   save=10000,\n",
    "#                   t=int(1e9),\n",
    "#                   processors=2,\n",
    "#                   model='HPS-T').write_hps_files()\n",
    "\n",
    "lmpsetup.LMPSetup(temperatures=temperatures,\n",
    "                  protein='12D_CPEB4_D4',\n",
    "                  host='@perdiu46',\n",
    "                  debye=0.1,\n",
    "                  oliba_wd='/home/adria/perdiux/prod/lammps/final/HPS-T/0.7/12D_D4', \n",
    "                  hps_scale=0.7,\n",
    "                  save=10000,\n",
    "                  t=int(1e9),\n",
    "                  processors=2,\n",
    "                  model='HPS-T').write_hps_files()"
   ]
  },
  {
   "cell_type": "markdown",
   "metadata": {},
   "source": [
    "### HPS-T Slab Results <a id='3'></a>"
   ]
  },
  {
   "cell_type": "code",
   "execution_count": 28,
   "metadata": {},
   "outputs": [
    {
     "name": "stdout",
     "output_type": "stream",
     "text": [
      "280.0 280.0\n",
      "320.0 320.0\n",
      "360.0 360.0\n",
      "400.0 400.0\n"
     ]
    }
   ],
   "source": [
    "for temp in np.linspace(280, 400, 4):\n",
    "    s = hmdsetup.HMDSetup(\n",
    "                    protein='CPEB4_D4',\n",
    "                    oliba_wd='/home/adria/irb/hoomd/FINAL/D4',\n",
    "                    temperature=temp,\n",
    "                    debye=0.1,\n",
    "                    model='HPS-T',\n",
    "                    save=10000,\n",
    "                    chains=20,\n",
    "                    slab=True,\n",
    "                    time=int(1e9),).write_hps_files()"
   ]
  },
  {
   "cell_type": "code",
   "execution_count": 51,
   "metadata": {},
   "outputs": [
    {
     "name": "stdout",
     "output_type": "stream",
     "text": [
      "280.0 280.0\n",
      "320.0 320.0\n",
      "360.0 360.0\n",
      "400.0 400.0\n"
     ]
    }
   ],
   "source": [
    "for temp in np.linspace(280, 400, 4):\n",
    "    s = hmdsetup.HMDSetup(\n",
    "                    protein='12D_CPEB4_D4',\n",
    "                    oliba_wd='/home/adria/irb/hoomd/FINAL/12D_D4',\n",
    "                    temperature=temp,\n",
    "                    debye=0.1,\n",
    "                    model='HPS-T',\n",
    "                    save=10000,\n",
    "                    chains=20,\n",
    "                    slab=True,\n",
    "                    time=int(1e9),).write_hps_files()"
   ]
  },
  {
   "cell_type": "code",
   "execution_count": 45,
   "metadata": {},
   "outputs": [
    {
     "name": "stdout",
     "output_type": "stream",
     "text": [
      "280.0 280.0\n",
      "320.0 320.0\n",
      "360.0 360.0\n",
      "400.0 400.0\n"
     ]
    }
   ],
   "source": [
    "for temp in np.linspace(280, 400, 4):\n",
    "    s = hmdsetup.HMDSetup(\n",
    "                    protein='7D_CPEB4',\n",
    "                    oliba_wd='/home/adria/irb/hoomd/FINAL/7D_WT',\n",
    "                    temperature=temp,\n",
    "                    debye=0.1,\n",
    "                    model='HPS-T',\n",
    "                    save=10000,\n",
    "                    chains=20,\n",
    "                    slab=True,\n",
    "                    time=int(1e9),).write_hps_files()"
   ]
  },
  {
   "cell_type": "code",
   "execution_count": null,
   "metadata": {},
   "outputs": [],
   "source": [
    "t.phase_diagram()"
   ]
  },
  {
   "cell_type": "markdown",
   "metadata": {},
   "source": [
    "### E4 Variants <a id='4'></a>"
   ]
  },
  {
   "cell_type": "markdown",
   "metadata": {},
   "source": [
    "**R to K**"
   ]
  },
  {
   "cell_type": "markdown",
   "metadata": {},
   "source": [
    "### KH <a id='5'></a>"
   ]
  },
  {
   "cell_type": "markdown",
   "metadata": {},
   "source": [
    "**REPRODUCIBILITY**"
   ]
  },
  {
   "cell_type": "markdown",
   "metadata": {},
   "source": [
    "**HPS-KH**"
   ]
  },
  {
   "cell_type": "code",
   "execution_count": null,
   "metadata": {},
   "outputs": [],
   "source": []
  }
 ],
 "metadata": {
  "kernelspec": {
   "display_name": "Python 3",
   "language": "python",
   "name": "python3"
  },
  "language_info": {
   "codemirror_mode": {
    "name": "ipython",
    "version": 3
   },
   "file_extension": ".py",
   "mimetype": "text/x-python",
   "name": "python",
   "nbconvert_exporter": "python",
   "pygments_lexer": "ipython3",
   "version": "3.7.4"
  }
 },
 "nbformat": 4,
 "nbformat_minor": 2
}
