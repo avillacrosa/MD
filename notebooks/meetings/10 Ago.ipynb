{
 "cells": [
  {
   "cell_type": "code",
   "execution_count": 2,
   "metadata": {},
   "outputs": [
    {
     "name": "stdout",
     "output_type": "stream",
     "text": [
      "The autoreload extension is already loaded. To reload it, use:\n",
      "  %reload_ext autoreload\n"
     ]
    }
   ],
   "source": [
    "%load_ext autoreload\n",
    "%autoreload 2\n",
    "%matplotlib inline\n",
    "\n",
    "import lmpsetup\n",
    "import hmdsetup\n",
    "\n",
    "import lmp\n",
    "import hmd\n",
    "\n",
    "import numpy as np\n",
    "import matplotlib.pyplot as plt\n",
    "import analysis\n",
    "\n",
    "import scipy.constants as cnt\n",
    "\n",
    "import shutil\n",
    "import os\n",
    "import mdtraj as md\n",
    "import statsmodels.tsa.stattools\n",
    "import MDAnalysis.analysis as mda\n",
    "import scipy\n",
    "from matplotlib.lines import Line2D\n",
    "\n",
    "WT_COL='darkblue'\n",
    "D7_COL='royalblue'\n",
    "\n",
    "D4_COL = 'red'\n",
    "D12_COL = 'orange'"
   ]
  },
  {
   "cell_type": "code",
   "execution_count": 69,
   "metadata": {},
   "outputs": [
    {
     "name": "stdout",
     "output_type": "stream",
     "text": [
      "False\n",
      "False\n",
      "False\n",
      "False\n",
      "False\n",
      "False\n",
      "False\n",
      "False\n"
     ]
    }
   ],
   "source": [
    "temperatures = np.linspace(280, 400, 4)\n",
    "hosts = [\"@perdiu34\"]*2 + [\"@perdiu39\"]*2 + [\"@perdiu40\"]*2 + [\"@perdiu41\"]*2\n",
    "for i, host in enumerate(hosts):\n",
    "    t = lmpsetup.LMPSetup(oliba_wd=f'/home/adria/perdiux/prod/lammps/final/HPS_vars/P_SCR/{i}',\n",
    "                          protein='CPEB4',\n",
    "                          processors = 2,\n",
    "                          temperatures=temperatures,\n",
    "                          host=host,\n",
    "                          debye=0.1,\n",
    "                          chains=1,\n",
    "                          save=50000,\n",
    "                          model='HPS-T',\n",
    "                          hps_scale=0.75)\n",
    "    t.scramble_Ps(p_prot_name='7D_CPEB4')\n",
    "    t.write_hps_files(silent=True)"
   ]
  },
  {
   "cell_type": "markdown",
   "metadata": {},
   "source": [
    "## Summary\n",
    "\n",
    "**[1. HPS Model](#1)**\n",
    "\n",
    "**[2. HPS-T Model](#2)**\n",
    "\n",
    "**[3. Reweighting of eps-lambd](#3)**"
   ]
  },
  {
   "cell_type": "code",
   "execution_count": 63,
   "metadata": {},
   "outputs": [],
   "source": [
    "temperatures = np.linspace(280, 400, 8)"
   ]
  },
  {
   "cell_type": "code",
   "execution_count": 64,
   "metadata": {},
   "outputs": [
    {
     "name": "stdout",
     "output_type": "stream",
     "text": [
      "╔═════════════════════════════════════════════════════════════════════════════════════════════════════════╗\n",
      "║     Input files created at /home/adria/perdiux/prod/lammps/final/HPS_vars/CPEB4_RtoK for CPEB4_RtoK     ║\n",
      "║---------------------------------------------------------------------------------------------------------║\n",
      "║   PARAMETERS                                                                                            ║\n",
      "║       - Model = HPS                                                                                     ║\n",
      "║       - Chains = 1                                                                                      ║\n",
      "║       - Ionic Strength (mM) = 0.1                                                                       ║\n",
      "║       - Medium Permittivity = 80.0                                                                      ║\n",
      "║       - Temperatures (K) = [280.         297.14285714 314.28571429 331.42857143 348.57142857\n",
      " 365.71428571 382.85714286 400.        ]    ║\n",
      "║       - HPS Scale = 1.0                                                                                 ║\n",
      "╚═════════════════════════════════════════════════════════════════════════════════════════════════════════╝\n"
     ]
    }
   ],
   "source": [
    "lmpsetup.LMPSetup(temperatures=temperatures,\n",
    "                  protein='CPEB4_RtoK',\n",
    "                  host='@perdiu37',\n",
    "                  debye=0.1,\n",
    "                  oliba_wd='/home/adria/perdiux/prod/lammps/final/HPS_vars/CPEB4_RtoK', \n",
    "                  save=10000,\n",
    "                  t=int(1e9),\n",
    "                  processors=4,\n",
    "                  model='HPS').write_hps_files()"
   ]
  },
  {
   "cell_type": "code",
   "execution_count": 93,
   "metadata": {},
   "outputs": [
    {
     "name": "stdout",
     "output_type": "stream",
     "text": [
      "╔═════════════════════════════════════════════════════════════════════════════════════════════╗\n",
      "║     Input files created at /home/adria/perdiux/prod/lammps/final/HPS-T/0.7/WT for CPEB4     ║\n",
      "║---------------------------------------------------------------------------------------------║\n",
      "║   PARAMETERS                                                                                ║\n",
      "║       - Model = HPS                                                                         ║\n",
      "║       - Chains = 1                                                                          ║\n",
      "║       - Ionic Strength (mM) = 0.1                                                           ║\n",
      "║       - Medium Permittivity = 80.0                                                          ║\n",
      "║       - Temperatures (K) = [280.         297.14285714 314.28571429 331.42857143 348.57142857\n",
      " 365.71428571 382.85714286 400.        ]    ║\n",
      "║       - HPS Scale = 0.7                                                                     ║\n",
      "╚═════════════════════════════════════════════════════════════════════════════════════════════╝\n"
     ]
    }
   ],
   "source": [
    "lmpsetup.LMPSetup(temperatures=temperatures,\n",
    "                  protein='CPEB4',\n",
    "                  host='@perdiu42',\n",
    "                  debye=0.1,\n",
    "                  oliba_wd='/home/adria/perdiux/prod/lammps/final/HPS-T/0.7/WT', \n",
    "                  hps_scale=0.7,\n",
    "                  save=10000,\n",
    "                  t=int(1e9),\n",
    "                  processors=2,\n",
    "                  model='HPS').write_hps_files()"
   ]
  },
  {
   "cell_type": "code",
   "execution_count": 94,
   "metadata": {},
   "outputs": [
    {
     "name": "stdout",
     "output_type": "stream",
     "text": [
      "╔════════════════════════════════════════════════════════════════════════════════════════════════╗\n",
      "║     Input files created at /home/adria/perdiux/prod/lammps/final/HPS-T/0.7/D4 for CPEB4_D4     ║\n",
      "║------------------------------------------------------------------------------------------------║\n",
      "║   PARAMETERS                                                                                   ║\n",
      "║       - Model = HPS                                                                            ║\n",
      "║       - Chains = 1                                                                             ║\n",
      "║       - Ionic Strength (mM) = 0.1                                                              ║\n",
      "║       - Medium Permittivity = 80.0                                                             ║\n",
      "║       - Temperatures (K) = [280.         297.14285714 314.28571429 331.42857143 348.57142857\n",
      " 365.71428571 382.85714286 400.        ]    ║\n",
      "║       - HPS Scale = 0.7                                                                        ║\n",
      "╚════════════════════════════════════════════════════════════════════════════════════════════════╝\n"
     ]
    }
   ],
   "source": [
    "lmpsetup.LMPSetup(temperatures=temperatures,\n",
    "                  protein='CPEB4_D4',\n",
    "                  host='@perdiu43',\n",
    "                  debye=0.1,\n",
    "                  hps_scale=0.7,\n",
    "                  oliba_wd='/home/adria/perdiux/prod/lammps/final/HPS-T/0.7/D4', \n",
    "                  save=10000,\n",
    "                  t=int(1e9),\n",
    "                  processors=2,\n",
    "                  model='HPS').write_hps_files()"
   ]
  },
  {
   "cell_type": "code",
   "execution_count": null,
   "metadata": {},
   "outputs": [],
   "source": []
  },
  {
   "cell_type": "code",
   "execution_count": 103,
   "metadata": {},
   "outputs": [
    {
     "name": "stdout",
     "output_type": "stream",
     "text": [
      "╔══════════════════════════════════════════════════════════════════════════════════════════════════════════╗\n",
      "║     Input files created at /home/adria/perdiux/prod/lammps/final/HPS_vars/CPEB4_KH-HPS-HYB for CPEB4     ║\n",
      "║----------------------------------------------------------------------------------------------------------║\n",
      "║   PARAMETERS                                                                                             ║\n",
      "║       - Model = HPS                                                                                      ║\n",
      "║       - Chains = 1                                                                                       ║\n",
      "║       - Ionic Strength (mM) = 0.1                                                                        ║\n",
      "║       - Medium Permittivity = 80.0                                                                       ║\n",
      "║       - Temperatures (K) = [280. 304. 328. 352. 376. 400.]                                               ║\n",
      "║       - HPS Scale = 1.0                                                                                  ║\n",
      "╚══════════════════════════════════════════════════════════════════════════════════════════════════════════╝\n"
     ]
    }
   ],
   "source": [
    "temperatures = np.linspace(280, 400, 6)\n",
    "lmpsetup.LMPSetup(temperatures=temperatures,\n",
    "                  protein='CPEB4',\n",
    "                  host='@perdiu36',\n",
    "                  debye=0.1,\n",
    "                  oliba_wd='/home/adria/perdiux/prod/lammps/final/HPS_vars/CPEB4_KH-HPS-HYB', \n",
    "                  save=10000,\n",
    "                  t=int(1e9),\n",
    "                  processors=2,\n",
    "                  model='HPS').write_hps_files()"
   ]
  },
  {
   "cell_type": "code",
   "execution_count": 105,
   "metadata": {},
   "outputs": [
    {
     "name": "stdout",
     "output_type": "stream",
     "text": [
      "╔═══════════════════════════════════════════════════════════════════════════════════════════════════════════════╗\n",
      "║     Input files created at /home/adria/perdiux/prod/lammps/final/HPS_vars/CPEB4_KH-HPS-HYB-0.75 for CPEB4     ║\n",
      "║---------------------------------------------------------------------------------------------------------------║\n",
      "║   PARAMETERS                                                                                                  ║\n",
      "║       - Model = HPS                                                                                           ║\n",
      "║       - Chains = 1                                                                                            ║\n",
      "║       - Ionic Strength (mM) = 0.1                                                                             ║\n",
      "║       - Medium Permittivity = 80.0                                                                            ║\n",
      "║       - Temperatures (K) = [280. 304. 328. 352. 376. 400.]                                                    ║\n",
      "║       - HPS Scale = 0.75                                                                                      ║\n",
      "╚═══════════════════════════════════════════════════════════════════════════════════════════════════════════════╝\n"
     ]
    }
   ],
   "source": [
    "temperatures = np.linspace(280, 400, 6)\n",
    "lmpsetup.LMPSetup(temperatures=temperatures,\n",
    "                  protein='CPEB4',\n",
    "                  host='@perdiu30',\n",
    "                  debye=0.1,\n",
    "                  oliba_wd='/home/adria/perdiux/prod/lammps/final/HPS_vars/CPEB4_KH-HPS-HYB-0.75', \n",
    "                  save=10000,\n",
    "                  t=int(1e9),\n",
    "                  hps_scale=0.75,\n",
    "                  processors=2,\n",
    "                  model='HPS').write_hps_files()"
   ]
  },
  {
   "cell_type": "code",
   "execution_count": null,
   "metadata": {},
   "outputs": [],
   "source": []
  },
  {
   "cell_type": "code",
   "execution_count": 95,
   "metadata": {},
   "outputs": [
    {
     "name": "stdout",
     "output_type": "stream",
     "text": [
      "DOING CspTm\n",
      "DOING Integrase\n",
      "DOING ProTa-N\n",
      "DOING ProTa-C\n",
      "DOING R15\n",
      "DOING R17\n",
      "DOING hCyp\n",
      "DOING Protein-L\n",
      "DOING ACTR\n",
      "DOING hNHE1cdt\n",
      "DOING sNase\n",
      "DOING ASYN\n"
     ]
    }
   ],
   "source": [
    "prots = ['CspTm', 'Integrase', 'ProTa-N', \n",
    "         'ProTa-C', 'R15', 'R17', \n",
    "         'hCyp', 'Protein-L', 'ACTR', \n",
    "         'hNHE1cdt', 'sNase', 'ASYN']\n",
    "hosts = [\"@perdiu25\"]*6+[\"@perdiu27\"]*6\n",
    "Is = np.array([42,50,42,42,128,128,85,128,199,199,17,156])*10**-3\n",
    "for i in range(len(prots)):\n",
    "    print(f\"DOING {prots[i]}\")\n",
    "    lmpsetup.LMPSetup(oliba_wd=f'/home/adria/perdiux/prod/lammps/dignon/KH_test/{i}.{prots[i]}',\n",
    "                     temperatures=[298],\n",
    "                     ionic_strength=Is[i],\n",
    "                     protein=prots[i],\n",
    "                     model='KH-HPS',\n",
    "                     t=int(1e9),\n",
    "                     processors=2,\n",
    "                     host=hosts[i],\n",
    "                     chains=1,\n",
    "                     save=10000).write_hps_files(qsub=True, silent=True)"
   ]
  }
 ],
 "metadata": {
  "kernelspec": {
   "display_name": "Python 3",
   "language": "python",
   "name": "python3"
  },
  "language_info": {
   "codemirror_mode": {
    "name": "ipython",
    "version": 3
   },
   "file_extension": ".py",
   "mimetype": "text/x-python",
   "name": "python",
   "nbconvert_exporter": "python",
   "pygments_lexer": "ipython3",
   "version": "3.7.4"
  }
 },
 "nbformat": 4,
 "nbformat_minor": 2
}
