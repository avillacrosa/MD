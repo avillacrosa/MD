{
 "cells": [
  {
   "cell_type": "code",
   "execution_count": 3,
   "metadata": {},
   "outputs": [
    {
     "name": "stdout",
     "output_type": "stream",
     "text": [
      "The autoreload extension is already loaded. To reload it, use:\n",
      "  %reload_ext autoreload\n"
     ]
    }
   ],
   "source": [
    "%load_ext autoreload\n",
    "%autoreload 2\n",
    "%matplotlib inline\n",
    "\n",
    "import lmpsetup\n",
    "import hmdsetup\n",
    "\n",
    "import lmp\n",
    "import hmd\n",
    "\n",
    "import pandas as pd\n",
    "\n",
    "import numpy as np\n",
    "import matplotlib.pyplot as plt\n",
    "import analysis\n",
    "\n",
    "import scipy.constants as cnt\n",
    "import decimal\n",
    "\n",
    "import mdtraj as md\n",
    "import statsmodels.tsa.stattools\n",
    "import MDAnalysis.analysis as mda\n",
    "from matplotlib.lines import Line2D"
   ]
  },
  {
   "cell_type": "code",
   "execution_count": 7,
   "metadata": {},
   "outputs": [
    {
     "name": "stdout",
     "output_type": "stream",
     "text": [
      "300 300\n"
     ]
    }
   ],
   "source": [
    "hmdsetup.HMDSetup(oliba_wd='/home/adria/test/cat_test',\n",
    "                  chain=1,\n",
    "                  protein='CPEB4',\n",
    "                  debye=0.1,\n",
    "                  temperature=300,\n",
    "                  slab=False,\n",
    "                  model='HPS-cat').write_hps_files()\n",
    "                  "
   ]
  },
  {
   "cell_type": "code",
   "execution_count": 24,
   "metadata": {},
   "outputs": [
    {
     "name": "stdout",
     "output_type": "stream",
     "text": [
      "> Run Completed at 88.03% for CPEB4_alpha. Ran 880320000 steps for a total of 88033 frames \n",
      "> Taking frames every None for a total of [88405, 87745, 99701, 99701, 99701, 99701, 99701, 99701] to avoid strong correlations\n"
     ]
    }
   ],
   "source": [
    "t = lmp.LMP(md_dir='/home/adria/perdiux/prod/lammps/final/HPS/WT')"
   ]
  },
  {
   "cell_type": "code",
   "execution_count": 33,
   "metadata": {},
   "outputs": [],
   "source": [
    "def save_pdb(self, display=False):\n",
    "    header = f'CRYST1     {300:.0f}     {300:.0f}     {300:.0f}     90     90     90   \\n'\n",
    "    xyz = ''\n",
    "    c = 0\n",
    "    for n in range(self.chains):\n",
    "        for i, aa in enumerate(self.sequence):\n",
    "            coords = self.structures[-1].xyz[0, c, :]\n",
    "            coords = coords + [300/2, 300/2, 300/2]\n",
    "            if display:\n",
    "                if self.residue_dict[aa][\"q\"] > 0:\n",
    "                    res_name = 'C' if display == 'charged' else 'P'\n",
    "                elif self.residue_dict[aa][\"q\"] < 0:\n",
    "                    res_name = 'C' if display == 'charged' else 'M'\n",
    "                else:\n",
    "                    res_name = 'N'\n",
    "            else:\n",
    "                res_name = self.residue_dict[aa][\"name\"]\n",
    "            tag = \"CA\"\n",
    "            xyz += f'ATOM  {c + 1:>5}{tag:>4}  {res_name} {chr(65+n)} {i + 1:>3}    {coords[0]:>8.2f}{coords[1]:>8.2f}{coords[2]:>8.2f}  1.00  0.00      C \\n'\n",
    "            c += 1\n",
    "    bonds = ''\n",
    "    bottom = 'END \\n'\n",
    "    return header + xyz + bonds + bottom\n",
    "strpdb = save_pdb(t)\n",
    "with open(\"/home/adria/CPEB4_extended-v2.pdb\", 'w+') as pdb:\n",
    "    pdb.write(strpdb)"
   ]
  },
  {
   "cell_type": "code",
   "execution_count": 15,
   "metadata": {},
   "outputs": [],
   "source": [
    "csptm = 'MRGKVKWFDSKKGYGFITKDEGGDVFVHWSAIEMEGFKTLKEGQVVEFEIQEGKKGPQAAHVKVVE'\n",
    "integrase='CFLDGIDKAQEEHEKYHSNWRAMASDFNLPPVVAKGIVASCDKCQLKGEAMHGQVDC'\n",
    "protan='GPSDAAVDTSSEITTKDLKEKKEVVEEAENGRDAPANGNAENEENGEQEADNEVDEECEEGGEEEEEEEEGDGEEEDGDEDEEAESATGKRAAEDDEDDDVDTKKQKTDEDD'\n",
    "protac='MAHHHHHHSAALEVLFQGPMSDAAVDTSSEITTKDLKEKKEVVEEAENGRDAPANGNANEENGEQEADNEVDEECEEGGEEEEEEEEGDGEEEDGDEDEEAESATGKRAAEDDEDDDVDTKKQKTDEDD'\n",
    "r15='KLKEANKQQNFNTGIKDFDFWLSEVEALLASEDYGKDLASVNNLLKKHQLLEADISAHEDRLKDLNSQADSLMTSSAFDTSQVKDKRETINGRFQRIKSMAAARRAKLNESHRL'\n",
    "r17='RLEESLEYQQFVANVEEEEAWINEKMTLVASEDYGDTLAAIQGLLKKHEAFETDFTVHKDRVNDVAANGEDLIKKNNHHVENITAKMKGLKGKVSDLEKA'\n",
    "hcyp='SSFHRIIPGFMSQGGDFTRHNGTGGKSIYGEKFEDENFILKHTGPGILSMANAGPNTNGSQFFISTAKTEFLDGKHVVFGKVKEGMNIVEAMERFGSRNGKTSKKITIADSGQLE'\n",
    "proteinl='MEEVTIKANLIFANGSTQTAEFKGTFEKATSEAYAYADTLKKDNGEWTVDVADKGYTLNIKFAG'\n",
    "ACTR='GTQNRPLLRNSLDDLVGPPSNLEGQSDERALLDQLHTLLSNTDATGLEEIDRALGIPELVNQGQALEPKQD'\n",
    "hnhe1cdt='MVPAHKLDSPTMSRARIGSDPLAYEPKEDLPVITIDPASPQSPESVDLVNEELKGKVLGLSRDPAKVAEEDEDDDGGIMMRSKETSSPGTDDVFTPAPSDSPSSQRIQRCLSDPGPHPEPGEGEPFFPKGQ'\n",
    "sNase='ATSTKKLHKEPATLIKAIDGDTVKLMYKGQPMTFRLLLVDTPETKHPKKGVEKYGPEASAFTKKMVENAKKIEVEFDKGQRTDKYGRGLAYIYADGKMVNEALVRQGLAKVAYVYKPNNTHEQHLRKSEAQAKKEK'\n",
    "asyn='MDVFMKGISKAKEGVVAAAEKTKQGVAEAAGKTKEGVIYVGSKTKEGVVHGVATVAEKTKEQVTNVGGAVVTGVTAVAQKTVEGAGSLAAATGFVKKDQIGKNEEGAPQEGIIEDMPVDPDNEAYEMPSEEGYQDYEPEA'\n",
    "\n",
    "seqs = [csptm, integrase, protan, protac, r15, r17, hcyp, proteinl, ACTR, hnhe1cdt, sNase, asyn]\n",
    "seqs_n = [\"csptm\", \"integrase\", \"protan\", \"protac\", \"r15\", \"r17\", \"hcyp\", \"proteinl\", \"ACTR\", \"hnhe1cdt\", \"sNase\", \"asyn\"]\n",
    "published = [\n",
    "    0.676,\n",
    "    0.648,\n",
    "    0.555,\n",
    "    0.573,\n",
    "    0.616,\n",
    "    0.647,\n",
    "    0.679,\n",
    "    0.682,\n",
    "    0.644,\n",
    "    0.671,\n",
    "    0.659,\n",
    "    0.659,\n",
    "]"
   ]
  },
  {
   "cell_type": "code",
   "execution_count": 23,
   "metadata": {},
   "outputs": [
    {
     "name": "stdout",
     "output_type": "stream",
     "text": [
      "PROT MINE PUBLISHED\n",
      "csptm 0.6749 0.676\n",
      "integrase 0.6543 0.648\n",
      "protan 0.5401 0.555\n",
      "protac 0.5611 0.573\n",
      "r15 0.6169 0.616\n",
      "r17 0.6419 0.647\n",
      "hcyp 0.6644 0.679\n",
      "proteinl 0.6782 0.682\n",
      "ACTR 0.6467 0.644\n",
      "hnhe1cdt 0.668 0.671\n",
      "sNase 0.6574 0.659\n",
      "asyn 0.6743 0.659\n"
     ]
    }
   ],
   "source": [
    "d = {'A': {'id': 1, 'name': 'ALA', 'mass': 71.0800018, 'q': 0.0, 'type': 'hydrophobic', 'lambda': 0.7297297297297297, 'sigma': 5.04}, 'R': {'id': 2, 'name': 'ARG', 'mass': 156.2, 'q': 1.0, 'type': 'charged', 'lambda': 0.0, 'sigma': 6.56}, 'N': {'id': 3, 'name': 'ASN', 'mass': 114.099998, 'q': 0.0, 'type': 'polar', 'lambda': 0.43243243243243246, 'sigma': 5.68}, 'D': {'id': 4, 'name': 'ASP', 'mass': 115.099998, 'q': -1.0, 'type': 'charged', 'lambda': 0.3783783783783784, 'sigma': 5.58}, 'C': {'id': 5, 'name': 'CYS', 'mass': 103.1, 'q': 0.0, 'type': 'other', 'lambda': 0.5945945945945946, 'sigma': 5.48}, 'Q': {'id': 6, 'name': 'GLN', 'mass': 128.100006, 'q': 0.0, 'type': 'polar', 'lambda': 0.5135135135135135, 'sigma': 6.02}, 'E': {'id': 7, 'name': 'GLU', 'mass': 129.100006, 'q': -1.0, 'type': 'charged', 'lambda': 0.4594594594594595, 'sigma': 5.92}, 'G': {'id': 8, 'name': 'GLY', 'mass': 57.0499992, 'q': 0.0, 'type': 'other', 'lambda': 0.6486486486486487, 'sigma': 4.5}, 'H': {'id': 9, 'name': 'HIS', 'mass': 137.100006, 'q': 0.5, 'type': 'aromatic', 'lambda': 0.5135135135135135, 'sigma': 6.08}, 'I': {'id': 10, 'name': 'ILE', 'mass': 113.199997, 'q': 0.0, 'type': 'hydrophobic', 'lambda': 0.972972972972973, 'sigma': 6.18}, 'L': {'id': 11, 'name': 'LEU', 'mass': 113.199997, 'q': 0.0, 'type': 'hydrophobic', 'lambda': 0.972972972972973, 'sigma': 6.18}, 'K': {'id': 12, 'name': 'LYS', 'mass': 128.199997, 'q': 1.0, 'type': 'charged', 'lambda': 0.5135135135135135, 'sigma': 6.36}, 'M': {'id': 13, 'name': 'MET', 'mass': 131.199997, 'q': 0.0, 'type': 'hydrophobic', 'lambda': 0.8378378378378378, 'sigma': 6.18}, 'F': {'id': 14, 'name': 'PHE', 'mass': 147.199997, 'q': 0.0, 'type': 'aromatic', 'lambda': 1.0, 'sigma': 6.36}, 'P': {'id': 15, 'name': 'PRO', 'mass': 97.1200027, 'q': 0.0, 'type': 'other', 'lambda': 1.0, 'sigma': 5.56}, 'S': {'id': 16, 'name': 'SER', 'mass': 87.0800018, 'q': 0.0, 'type': 'polar', 'lambda': 0.5945945945945946, 'sigma': 5.18}, 'T': {'id': 17, 'name': 'THR', 'mass': 101.099998, 'q': 0.0, 'type': 'polar', 'lambda': 0.6756756756756757, 'sigma': 5.62}, 'W': {'id': 18, 'name': 'TRP', 'mass': 186.199999, 'q': 0.0, 'type': 'aromatic', 'lambda': 0.9459459459459459, 'sigma': 6.78}, 'Y': {'id': 19, 'name': 'TYR', 'mass': 163.199997, 'q': 0.0, 'type': 'aromatic', 'lambda': 0.8648648648648649, 'sigma': 6.46}, 'V': {'id': 20, 'name': 'VAL', 'mass': 99.0699997, 'q': 0.0, 'type': 'hydrophobic', 'lambda': 0.8918918918918919, 'sigma': 5.86}}\n",
    "print(\"PROT\",        \"MINE\",        \"PUBLISHED\")\n",
    "for i, s in enumerate(seqs):\n",
    "    h1 = []\n",
    "    h2 = 0\n",
    "    for aa in s:\n",
    "        h1.append(d[aa][\"lambda\"])\n",
    "        h2 += d[aa][\"lambda\"]\n",
    "    h1 = np.array(h1)\n",
    "    h2/= len(s)\n",
    "    print(seqs_n[i], round(h1.mean(),4), published[i])"
   ]
  },
  {
   "cell_type": "code",
   "execution_count": null,
   "metadata": {},
   "outputs": [],
   "source": []
  },
  {
   "cell_type": "code",
   "execution_count": 2,
   "metadata": {},
   "outputs": [
    {
     "data": {
      "text/plain": [
       "(array([44.73528294]), array([0.21864415]))"
      ]
     },
     "execution_count": 2,
     "metadata": {},
     "output_type": "execute_result"
    }
   ],
   "source": [
    "t = hmd.HMD(md_dir='/home/adria/irb/hoomd/protan', equil_frames=10)\n",
    "t.rg()"
   ]
  },
  {
   "cell_type": "code",
   "execution_count": 20,
   "metadata": {},
   "outputs": [
    {
     "name": "stdout",
     "output_type": "stream",
     "text": [
      "> Run Completed at 1.65% for None. Ran 16490000 steps for a total of 1650 frames \n",
      "> Taking frames every 1 for a total of 1000 to avoid strong correlations\n"
     ]
    },
    {
     "data": {
      "text/plain": [
       "(array([44.52889931]), array([0.77686206]))"
      ]
     },
     "execution_count": 20,
     "metadata": {},
     "output_type": "execute_result"
    }
   ],
   "source": [
    "t = lmp.LMP(md_dir='/home/adria/test/hps_test/0.ProTa-N', equil_frames=10)\n",
    "t.rg()"
   ]
  },
  {
   "cell_type": "code",
   "execution_count": null,
   "metadata": {},
   "outputs": [],
   "source": []
  },
  {
   "cell_type": "code",
   "execution_count": 4,
   "metadata": {},
   "outputs": [],
   "source": []
  },
  {
   "cell_type": "code",
   "execution_count": 9,
   "metadata": {},
   "outputs": [
    {
     "name": "stdout",
     "output_type": "stream",
     "text": [
      "ALA 71.08 0.0 5.04 0.72973\n",
      "ARG 156.2 1.0 6.56 0.0\n",
      "ASN 114.1 0.0 5.68 0.432432\n",
      "ASP 115.1 -1.0 5.58 0.378378\n",
      "CYS 103.1 0.0 5.48 0.594595\n",
      "GLN 128.1 0.0 6.02 0.513514\n",
      "GLU 129.1 -1.0 5.92 0.459459\n",
      "GLY 57.05 0.0 4.5 0.648649\n",
      "HIS 137.1 0.5 6.08 0.513514\n",
      "ILE 113.2 0.0 6.18 0.972973\n",
      "LEU 113.2 0.0 6.18 0.972973\n",
      "LYS 128.2 1.0 6.36 0.513514\n",
      "MET 131.2 0.0 6.18 0.837838\n",
      "PHE 147.2 0.0 6.36 1.0\n",
      "PRO 97.12 0.0 5.56 1.0\n",
      "SER 87.08 0.0 5.18 0.594595\n",
      "THR 101.1 0.0 5.62 0.675676\n",
      "TRP 186.2 0.0 6.78 0.945946\n",
      "TYR 163.2 0.0 6.46 0.864865\n",
      "VAL 99.07 0.0 5.86 0.891892\n"
     ]
    }
   ],
   "source": [
    "for aa in d:\n",
    "    inf = d[aa]\n",
    "    print(inf[\"name\"], round(inf[\"mass\"],2), inf[\"q\"], inf[\"sigma\"], inf[\"lambda\"])"
   ]
  },
  {
   "cell_type": "code",
   "execution_count": null,
   "metadata": {},
   "outputs": [],
   "source": []
  },
  {
   "cell_type": "code",
   "execution_count": 3,
   "metadata": {},
   "outputs": [
    {
     "name": "stdout",
     "output_type": "stream",
     "text": [
      "298 298\n"
     ]
    }
   ],
   "source": [
    "s = hmdsetup.HMDSetup(oliba_wd=f'/home/adria/irb/hoomd/protan',\n",
    "                     temperature=298,\n",
    "                     debye=0.67,\n",
    "                     protein='ProTa-N',\n",
    "                     model='HPS',\n",
    "                     t=int(1e9),\n",
    "                     processors=2,\n",
    "                     chains=1,\n",
    "                     save=10000).write_hps_files()"
   ]
  },
  {
   "cell_type": "code",
   "execution_count": 3,
   "metadata": {},
   "outputs": [
    {
     "name": "stdout",
     "output_type": "stream",
     "text": [
      "DOING ProTa-N\n",
      "DOING ProTa-C\n"
     ]
    }
   ],
   "source": [
    "prots = ['ProTa-N', 'ProTa-C']\n",
    "Is = np.array([42,42])*10**-3\n",
    "for i in range(len(prots)):\n",
    "    print(f\"DOING {prots[i]}\")\n",
    "    s = lmpsetup.LMPSetup(oliba_wd=f'/home/adria/test/hps_test/{i}.{prots[i]}',\n",
    "                     temperatures=[298],\n",
    "                     ionic_strength=Is[i],\n",
    "                     protein=prots[i],\n",
    "                     model='HPS',\n",
    "                     t=int(1e9),\n",
    "                     processors=2,\n",
    "                     chains=1,\n",
    "                     save=10000)\n",
    "    s.del_missing_aas()\n",
    "    s.lammps_ordering()\n",
    "    s.write_hps_files(qsub=False, silent=True)"
   ]
  },
  {
   "cell_type": "code",
   "execution_count": 17,
   "metadata": {},
   "outputs": [
    {
     "name": "stdout",
     "output_type": "stream",
     "text": [
      "G 0.648649\n",
      "P 1.0\n",
      "S 0.594595\n",
      "D 0.378378\n",
      "A 0.72973\n",
      "A 0.72973\n",
      "V 0.891892\n",
      "D 0.378378\n",
      "T 0.675676\n",
      "S 0.594595\n",
      "S 0.594595\n",
      "E 0.459459\n",
      "I 0.972973\n",
      "T 0.675676\n",
      "T 0.675676\n",
      "K 0.513514\n",
      "D 0.378378\n",
      "L 0.972973\n",
      "K 0.513514\n",
      "E 0.459459\n",
      "K 0.513514\n",
      "K 0.513514\n",
      "E 0.459459\n",
      "V 0.891892\n",
      "V 0.891892\n",
      "E 0.459459\n",
      "E 0.459459\n",
      "A 0.72973\n",
      "E 0.459459\n",
      "N 0.432432\n",
      "G 0.648649\n",
      "R 0.0\n",
      "D 0.378378\n",
      "A 0.72973\n",
      "P 1.0\n",
      "A 0.72973\n",
      "N 0.432432\n",
      "G 0.648649\n",
      "N 0.432432\n",
      "A 0.72973\n",
      "E 0.459459\n",
      "N 0.432432\n",
      "E 0.459459\n",
      "E 0.459459\n",
      "N 0.432432\n",
      "G 0.648649\n",
      "E 0.459459\n",
      "Q 0.513514\n",
      "E 0.459459\n",
      "A 0.72973\n",
      "D 0.378378\n",
      "N 0.432432\n",
      "E 0.459459\n",
      "V 0.891892\n",
      "D 0.378378\n",
      "E 0.459459\n",
      "E 0.459459\n",
      "C 0.594595\n",
      "E 0.459459\n",
      "E 0.459459\n",
      "G 0.648649\n",
      "G 0.648649\n",
      "E 0.459459\n",
      "E 0.459459\n",
      "E 0.459459\n",
      "E 0.459459\n",
      "E 0.459459\n",
      "E 0.459459\n",
      "E 0.459459\n",
      "E 0.459459\n",
      "G 0.648649\n",
      "D 0.378378\n",
      "G 0.648649\n",
      "E 0.459459\n",
      "E 0.459459\n",
      "E 0.459459\n",
      "D 0.378378\n",
      "G 0.648649\n",
      "D 0.378378\n",
      "E 0.459459\n",
      "D 0.378378\n",
      "E 0.459459\n",
      "E 0.459459\n",
      "A 0.72973\n",
      "E 0.459459\n",
      "S 0.594595\n",
      "A 0.72973\n",
      "T 0.675676\n",
      "G 0.648649\n",
      "K 0.513514\n",
      "R 0.0\n",
      "A 0.72973\n",
      "A 0.72973\n",
      "E 0.459459\n",
      "D 0.378378\n",
      "D 0.378378\n",
      "E 0.459459\n",
      "D 0.378378\n",
      "D 0.378378\n",
      "D 0.378378\n",
      "V 0.891892\n",
      "D 0.378378\n",
      "T 0.675676\n",
      "K 0.513514\n",
      "K 0.513514\n",
      "Q 0.513514\n",
      "K 0.513514\n",
      "T 0.675676\n",
      "D 0.378378\n",
      "E 0.459459\n",
      "D 0.378378\n",
      "D 0.378378\n",
      "PROTANMEAN 0.5400578303571428 0.555\n"
     ]
    }
   ],
   "source": [
    "lambdas  = {\n",
    "\"I\": 0.972973,\n",
    "\"V\": 0.891892,\n",
    "\"L\": 0.972973,\n",
    "\"F\": 1.0,\n",
    "\"C\": 0.594595,\n",
    "\"M\": 0.837838,\n",
    "\"A\": 0.72973,\n",
    "\"G\": 0.648649,\n",
    "\"T\": 0.675676,\n",
    "\"S\": 0.594595,\n",
    "\"W\": 0.945946,\n",
    "\"Y\": 0.864865,\n",
    "\"P\": 1.0,\n",
    "\"H\": 0.513514,\n",
    "\"E\": 0.459459,\n",
    "\"Q\": 0.513514,\n",
    "\"D\": 0.378378,\n",
    "\"N\": 0.432432,\n",
    "\"K\": 0.513514,\n",
    "\"R\": 0.0}\n",
    "\n",
    "l=[]\n",
    "\n",
    "\n",
    "protan = \"GPSDAAVDTSSEITTKDLKEKKEVVEEAENGRDAPANGNAENEENGEQEADNEVDEECEEGGEEEEEEEEGDGEEEDGDEDEEAESATGKRAAEDDEDDDVDTKKQKTDEDD\"\n",
    "protan = \"GPSDAAVDTSSEITTKDLKEKKEVVEEAENGRDAPANGNAENEENGEQEADNEVDEECEEGGEEEEEEEEGDGEEEDGDEDEEAESATGKRAAEDDEDDDVDTKKQKTDEDD\"\n",
    "for aa in protan:\n",
    "    print(aa,lambdas[aa])\n",
    "    l.append(lambdas[aa])\n",
    "print(\"PROTANMEAN\", np.array(l).mean(), 0.555)"
   ]
  },
  {
   "cell_type": "code",
   "execution_count": 111,
   "metadata": {},
   "outputs": [
    {
     "name": "stdout",
     "output_type": "stream",
     "text": [
      "PROTANMEAN 0.54 0.555\n",
      "ASYNMEAN 0.674 0.678\n"
     ]
    }
   ],
   "source": [
    "t = lmp.LMP(md_dir=None)\n",
    "lambs = {}\n",
    "# with open('/home/adria/scripts/data/hps/lambdas_old.dat','r') as lambdas:\n",
    "with open('/home/adria/scripts/data/hps/lambdas.dat','r') as lambdas:\n",
    "    for line in lambdas.readlines():\n",
    "        ls = line.split()\n",
    "        lambs[ls[0]] = ls[1]\n",
    "lambs\n",
    "protan = \"GPSDAAVDTSSEITTKDLKEKKEVVEEAENGRDAPANGNAENEENGEQEADNEVDEECEEGGEEEEEEEEGDGEEEDGDEDEEAESATGKRAAEDDEDDDVDTKKQKTDEDD\"\n",
    "l = []\n",
    "for aa in protan:\n",
    "    l.append( float(lambs[t.residue_dict[aa][\"name\"]]))\n",
    "print(\"PROTANMEAN\", round(np.array(l).mean(),3), 0.555)\n",
    "\n",
    "asyn = \"MDVFMKGISKAKEGVVAAAEKTKQGVAEAAGKTKEGVIYVGSKTKEGVVHGVATVAEKTKEQVTNVGGAVVTGVTAVAQKTVEGAGSLAAATGFVKKDQIGKNEEGAPQEGIIEDMPVDPDNEAYEMPSEEGYQDYEPEA\"\n",
    "l = []\n",
    "for aa in asyn:\n",
    "    l.append( float(lambs[t.residue_dict[aa][\"name\"]]))\n",
    "print(\"ASYNMEAN\", round(np.array(l).mean(),3), 0.678)\n"
   ]
  },
  {
   "cell_type": "code",
   "execution_count": 59,
   "metadata": {},
   "outputs": [
    {
     "data": {
      "text/html": [
       "<div>\n",
       "<style scoped>\n",
       "    .dataframe tbody tr th:only-of-type {\n",
       "        vertical-align: middle;\n",
       "    }\n",
       "\n",
       "    .dataframe tbody tr th {\n",
       "        vertical-align: top;\n",
       "    }\n",
       "\n",
       "    .dataframe thead th {\n",
       "        text-align: right;\n",
       "    }\n",
       "</style>\n",
       "<table border=\"1\" class=\"dataframe\">\n",
       "  <thead>\n",
       "    <tr style=\"text-align: right;\">\n",
       "      <th></th>\n",
       "      <th>ALA</th>\n",
       "      <th>ARG</th>\n",
       "      <th>ASN</th>\n",
       "      <th>ASP</th>\n",
       "      <th>CYS</th>\n",
       "      <th>GLU</th>\n",
       "      <th>GLN</th>\n",
       "      <th>GLY</th>\n",
       "      <th>HIS</th>\n",
       "      <th>ILE</th>\n",
       "      <th>LEU</th>\n",
       "      <th>LYS</th>\n",
       "      <th>MET</th>\n",
       "      <th>PHE</th>\n",
       "      <th>PRO</th>\n",
       "      <th>SER</th>\n",
       "      <th>THR</th>\n",
       "      <th>TRP</th>\n",
       "      <th>TYR</th>\n",
       "      <th>VAL</th>\n",
       "    </tr>\n",
       "  </thead>\n",
       "  <tbody>\n",
       "    <tr>\n",
       "      <td>ALA</td>\n",
       "      <td>0.72973</td>\n",
       "      <td>0.364865</td>\n",
       "      <td>0.581081</td>\n",
       "      <td>0.554054</td>\n",
       "      <td>0.662162</td>\n",
       "      <td>0.594595</td>\n",
       "      <td>0.621622</td>\n",
       "      <td>0.689189</td>\n",
       "      <td>0.621622</td>\n",
       "      <td>0.851351</td>\n",
       "      <td>0.851351</td>\n",
       "      <td>0.621622</td>\n",
       "      <td>0.783784</td>\n",
       "      <td>0.864865</td>\n",
       "      <td>0.864865</td>\n",
       "      <td>0.662162</td>\n",
       "      <td>0.702703</td>\n",
       "      <td>0.837838</td>\n",
       "      <td>0.797297</td>\n",
       "      <td>0.810811</td>\n",
       "    </tr>\n",
       "    <tr>\n",
       "      <td>ARG</td>\n",
       "      <td>0.364865</td>\n",
       "      <td>0</td>\n",
       "      <td>0.216216</td>\n",
       "      <td>0.189189</td>\n",
       "      <td>0.297297</td>\n",
       "      <td>0.22973</td>\n",
       "      <td>0.256757</td>\n",
       "      <td>0.324324</td>\n",
       "      <td>0.256757</td>\n",
       "      <td>0.486486</td>\n",
       "      <td>0.486486</td>\n",
       "      <td>0.256757</td>\n",
       "      <td>0.418919</td>\n",
       "      <td>0.5</td>\n",
       "      <td>0.5</td>\n",
       "      <td>0.297297</td>\n",
       "      <td>0.337838</td>\n",
       "      <td>0.472973</td>\n",
       "      <td>0.432432</td>\n",
       "      <td>0.445946</td>\n",
       "    </tr>\n",
       "    <tr>\n",
       "      <td>ASN</td>\n",
       "      <td>0.581081</td>\n",
       "      <td>0.216216</td>\n",
       "      <td>0.432432</td>\n",
       "      <td>0.405405</td>\n",
       "      <td>0.513514</td>\n",
       "      <td>0.445946</td>\n",
       "      <td>0.472973</td>\n",
       "      <td>0.540541</td>\n",
       "      <td>0.472973</td>\n",
       "      <td>0.702703</td>\n",
       "      <td>0.702703</td>\n",
       "      <td>0.472973</td>\n",
       "      <td>0.635135</td>\n",
       "      <td>0.716216</td>\n",
       "      <td>0.716216</td>\n",
       "      <td>0.513514</td>\n",
       "      <td>0.554054</td>\n",
       "      <td>0.689189</td>\n",
       "      <td>0.648649</td>\n",
       "      <td>0.662162</td>\n",
       "    </tr>\n",
       "    <tr>\n",
       "      <td>ASP</td>\n",
       "      <td>0.554054</td>\n",
       "      <td>0.189189</td>\n",
       "      <td>0.405405</td>\n",
       "      <td>0.378378</td>\n",
       "      <td>0.486486</td>\n",
       "      <td>0.418919</td>\n",
       "      <td>0.445946</td>\n",
       "      <td>0.513514</td>\n",
       "      <td>0.445946</td>\n",
       "      <td>0.675676</td>\n",
       "      <td>0.675676</td>\n",
       "      <td>0.445946</td>\n",
       "      <td>0.608108</td>\n",
       "      <td>0.689189</td>\n",
       "      <td>0.689189</td>\n",
       "      <td>0.486486</td>\n",
       "      <td>0.527027</td>\n",
       "      <td>0.662162</td>\n",
       "      <td>0.621622</td>\n",
       "      <td>0.635135</td>\n",
       "    </tr>\n",
       "    <tr>\n",
       "      <td>CYS</td>\n",
       "      <td>0.662162</td>\n",
       "      <td>0.297297</td>\n",
       "      <td>0.513514</td>\n",
       "      <td>0.486486</td>\n",
       "      <td>0.594595</td>\n",
       "      <td>0.527027</td>\n",
       "      <td>0.554054</td>\n",
       "      <td>0.621622</td>\n",
       "      <td>0.554054</td>\n",
       "      <td>0.783784</td>\n",
       "      <td>0.783784</td>\n",
       "      <td>0.554054</td>\n",
       "      <td>0.716216</td>\n",
       "      <td>0.797297</td>\n",
       "      <td>0.797297</td>\n",
       "      <td>0.594595</td>\n",
       "      <td>0.635135</td>\n",
       "      <td>0.77027</td>\n",
       "      <td>0.72973</td>\n",
       "      <td>0.743243</td>\n",
       "    </tr>\n",
       "    <tr>\n",
       "      <td>GLU</td>\n",
       "      <td>0.594595</td>\n",
       "      <td>0.22973</td>\n",
       "      <td>0.445946</td>\n",
       "      <td>0.418919</td>\n",
       "      <td>0.527027</td>\n",
       "      <td>0.459459</td>\n",
       "      <td>0.486486</td>\n",
       "      <td>0.554054</td>\n",
       "      <td>0.486486</td>\n",
       "      <td>0.716216</td>\n",
       "      <td>0.716216</td>\n",
       "      <td>0.486486</td>\n",
       "      <td>0.648649</td>\n",
       "      <td>0.72973</td>\n",
       "      <td>0.72973</td>\n",
       "      <td>0.527027</td>\n",
       "      <td>0.567568</td>\n",
       "      <td>0.702703</td>\n",
       "      <td>0.662162</td>\n",
       "      <td>0.675676</td>\n",
       "    </tr>\n",
       "    <tr>\n",
       "      <td>GLN</td>\n",
       "      <td>0.621622</td>\n",
       "      <td>0.256757</td>\n",
       "      <td>0.472973</td>\n",
       "      <td>0.445946</td>\n",
       "      <td>0.554054</td>\n",
       "      <td>0.486486</td>\n",
       "      <td>0.513514</td>\n",
       "      <td>0.581081</td>\n",
       "      <td>0.513514</td>\n",
       "      <td>0.743243</td>\n",
       "      <td>0.743243</td>\n",
       "      <td>0.513514</td>\n",
       "      <td>0.675676</td>\n",
       "      <td>0.756757</td>\n",
       "      <td>0.756757</td>\n",
       "      <td>0.554054</td>\n",
       "      <td>0.594595</td>\n",
       "      <td>0.72973</td>\n",
       "      <td>0.689189</td>\n",
       "      <td>0.702703</td>\n",
       "    </tr>\n",
       "    <tr>\n",
       "      <td>GLY</td>\n",
       "      <td>0.689189</td>\n",
       "      <td>0.324324</td>\n",
       "      <td>0.540541</td>\n",
       "      <td>0.513514</td>\n",
       "      <td>0.621622</td>\n",
       "      <td>0.554054</td>\n",
       "      <td>0.581081</td>\n",
       "      <td>0.648649</td>\n",
       "      <td>0.581081</td>\n",
       "      <td>0.810811</td>\n",
       "      <td>0.810811</td>\n",
       "      <td>0.581081</td>\n",
       "      <td>0.743243</td>\n",
       "      <td>0.824324</td>\n",
       "      <td>0.824324</td>\n",
       "      <td>0.621622</td>\n",
       "      <td>0.662162</td>\n",
       "      <td>0.797297</td>\n",
       "      <td>0.756757</td>\n",
       "      <td>0.77027</td>\n",
       "    </tr>\n",
       "    <tr>\n",
       "      <td>HIS</td>\n",
       "      <td>0.621622</td>\n",
       "      <td>0.256757</td>\n",
       "      <td>0.472973</td>\n",
       "      <td>0.445946</td>\n",
       "      <td>0.554054</td>\n",
       "      <td>0.486486</td>\n",
       "      <td>0.513514</td>\n",
       "      <td>0.581081</td>\n",
       "      <td>0.513514</td>\n",
       "      <td>0.743243</td>\n",
       "      <td>0.743243</td>\n",
       "      <td>0.513514</td>\n",
       "      <td>0.675676</td>\n",
       "      <td>0.756757</td>\n",
       "      <td>0.756757</td>\n",
       "      <td>0.554054</td>\n",
       "      <td>0.594595</td>\n",
       "      <td>0.72973</td>\n",
       "      <td>0.689189</td>\n",
       "      <td>0.702703</td>\n",
       "    </tr>\n",
       "    <tr>\n",
       "      <td>ILE</td>\n",
       "      <td>0.851351</td>\n",
       "      <td>0.486486</td>\n",
       "      <td>0.702703</td>\n",
       "      <td>0.675676</td>\n",
       "      <td>0.783784</td>\n",
       "      <td>0.716216</td>\n",
       "      <td>0.743243</td>\n",
       "      <td>0.810811</td>\n",
       "      <td>0.743243</td>\n",
       "      <td>0.972973</td>\n",
       "      <td>0.972973</td>\n",
       "      <td>0.743243</td>\n",
       "      <td>0.905405</td>\n",
       "      <td>0.986486</td>\n",
       "      <td>0.986486</td>\n",
       "      <td>0.783784</td>\n",
       "      <td>0.824324</td>\n",
       "      <td>0.959459</td>\n",
       "      <td>0.918919</td>\n",
       "      <td>0.932432</td>\n",
       "    </tr>\n",
       "    <tr>\n",
       "      <td>LEU</td>\n",
       "      <td>0.851351</td>\n",
       "      <td>0.486486</td>\n",
       "      <td>0.702703</td>\n",
       "      <td>0.675676</td>\n",
       "      <td>0.783784</td>\n",
       "      <td>0.716216</td>\n",
       "      <td>0.743243</td>\n",
       "      <td>0.810811</td>\n",
       "      <td>0.743243</td>\n",
       "      <td>0.972973</td>\n",
       "      <td>0.972973</td>\n",
       "      <td>0.743243</td>\n",
       "      <td>0.905405</td>\n",
       "      <td>0.986486</td>\n",
       "      <td>0.986486</td>\n",
       "      <td>0.783784</td>\n",
       "      <td>0.824324</td>\n",
       "      <td>0.959459</td>\n",
       "      <td>0.918919</td>\n",
       "      <td>0.932432</td>\n",
       "    </tr>\n",
       "    <tr>\n",
       "      <td>LYS</td>\n",
       "      <td>0.621622</td>\n",
       "      <td>0.256757</td>\n",
       "      <td>0.472973</td>\n",
       "      <td>0.445946</td>\n",
       "      <td>0.554054</td>\n",
       "      <td>0.486486</td>\n",
       "      <td>0.513514</td>\n",
       "      <td>0.581081</td>\n",
       "      <td>0.513514</td>\n",
       "      <td>0.743243</td>\n",
       "      <td>0.743243</td>\n",
       "      <td>0.513514</td>\n",
       "      <td>0.675676</td>\n",
       "      <td>0.756757</td>\n",
       "      <td>0.756757</td>\n",
       "      <td>0.554054</td>\n",
       "      <td>0.594595</td>\n",
       "      <td>0.72973</td>\n",
       "      <td>0.689189</td>\n",
       "      <td>0.702703</td>\n",
       "    </tr>\n",
       "    <tr>\n",
       "      <td>MET</td>\n",
       "      <td>0.783784</td>\n",
       "      <td>0.418919</td>\n",
       "      <td>0.635135</td>\n",
       "      <td>0.608108</td>\n",
       "      <td>0.716216</td>\n",
       "      <td>0.648649</td>\n",
       "      <td>0.675676</td>\n",
       "      <td>0.743243</td>\n",
       "      <td>0.675676</td>\n",
       "      <td>0.905405</td>\n",
       "      <td>0.905405</td>\n",
       "      <td>0.675676</td>\n",
       "      <td>0.837838</td>\n",
       "      <td>0.918919</td>\n",
       "      <td>0.918919</td>\n",
       "      <td>0.716216</td>\n",
       "      <td>0.756757</td>\n",
       "      <td>0.891892</td>\n",
       "      <td>0.851351</td>\n",
       "      <td>0.864865</td>\n",
       "    </tr>\n",
       "    <tr>\n",
       "      <td>PHE</td>\n",
       "      <td>0.864865</td>\n",
       "      <td>0.5</td>\n",
       "      <td>0.716216</td>\n",
       "      <td>0.689189</td>\n",
       "      <td>0.797297</td>\n",
       "      <td>0.72973</td>\n",
       "      <td>0.756757</td>\n",
       "      <td>0.824324</td>\n",
       "      <td>0.756757</td>\n",
       "      <td>0.986486</td>\n",
       "      <td>0.986486</td>\n",
       "      <td>0.756757</td>\n",
       "      <td>0.918919</td>\n",
       "      <td>1</td>\n",
       "      <td>1</td>\n",
       "      <td>0.797297</td>\n",
       "      <td>0.837838</td>\n",
       "      <td>0.972973</td>\n",
       "      <td>0.932432</td>\n",
       "      <td>0.945946</td>\n",
       "    </tr>\n",
       "    <tr>\n",
       "      <td>PRO</td>\n",
       "      <td>0.864865</td>\n",
       "      <td>0.5</td>\n",
       "      <td>0.716216</td>\n",
       "      <td>0.689189</td>\n",
       "      <td>0.797297</td>\n",
       "      <td>0.72973</td>\n",
       "      <td>0.756757</td>\n",
       "      <td>0.824324</td>\n",
       "      <td>0.756757</td>\n",
       "      <td>0.986486</td>\n",
       "      <td>0.986486</td>\n",
       "      <td>0.756757</td>\n",
       "      <td>0.918919</td>\n",
       "      <td>1</td>\n",
       "      <td>1</td>\n",
       "      <td>0.797297</td>\n",
       "      <td>0.837838</td>\n",
       "      <td>0.972973</td>\n",
       "      <td>0.932432</td>\n",
       "      <td>0.945946</td>\n",
       "    </tr>\n",
       "    <tr>\n",
       "      <td>SER</td>\n",
       "      <td>0.662162</td>\n",
       "      <td>0.297297</td>\n",
       "      <td>0.513514</td>\n",
       "      <td>0.486486</td>\n",
       "      <td>0.594595</td>\n",
       "      <td>0.527027</td>\n",
       "      <td>0.554054</td>\n",
       "      <td>0.621622</td>\n",
       "      <td>0.554054</td>\n",
       "      <td>0.783784</td>\n",
       "      <td>0.783784</td>\n",
       "      <td>0.554054</td>\n",
       "      <td>0.716216</td>\n",
       "      <td>0.797297</td>\n",
       "      <td>0.797297</td>\n",
       "      <td>0.594595</td>\n",
       "      <td>0.635135</td>\n",
       "      <td>0.77027</td>\n",
       "      <td>0.72973</td>\n",
       "      <td>0.743243</td>\n",
       "    </tr>\n",
       "    <tr>\n",
       "      <td>THR</td>\n",
       "      <td>0.702703</td>\n",
       "      <td>0.337838</td>\n",
       "      <td>0.554054</td>\n",
       "      <td>0.527027</td>\n",
       "      <td>0.635135</td>\n",
       "      <td>0.567568</td>\n",
       "      <td>0.594595</td>\n",
       "      <td>0.662162</td>\n",
       "      <td>0.594595</td>\n",
       "      <td>0.824324</td>\n",
       "      <td>0.824324</td>\n",
       "      <td>0.594595</td>\n",
       "      <td>0.756757</td>\n",
       "      <td>0.837838</td>\n",
       "      <td>0.837838</td>\n",
       "      <td>0.635135</td>\n",
       "      <td>0.675676</td>\n",
       "      <td>0.810811</td>\n",
       "      <td>0.77027</td>\n",
       "      <td>0.783784</td>\n",
       "    </tr>\n",
       "    <tr>\n",
       "      <td>TRP</td>\n",
       "      <td>0.837838</td>\n",
       "      <td>0.472973</td>\n",
       "      <td>0.689189</td>\n",
       "      <td>0.662162</td>\n",
       "      <td>0.77027</td>\n",
       "      <td>0.702703</td>\n",
       "      <td>0.72973</td>\n",
       "      <td>0.797297</td>\n",
       "      <td>0.72973</td>\n",
       "      <td>0.959459</td>\n",
       "      <td>0.959459</td>\n",
       "      <td>0.72973</td>\n",
       "      <td>0.891892</td>\n",
       "      <td>0.972973</td>\n",
       "      <td>0.972973</td>\n",
       "      <td>0.77027</td>\n",
       "      <td>0.810811</td>\n",
       "      <td>0.945946</td>\n",
       "      <td>0.905405</td>\n",
       "      <td>0.918919</td>\n",
       "    </tr>\n",
       "    <tr>\n",
       "      <td>TYR</td>\n",
       "      <td>0.797297</td>\n",
       "      <td>0.432432</td>\n",
       "      <td>0.648649</td>\n",
       "      <td>0.621622</td>\n",
       "      <td>0.72973</td>\n",
       "      <td>0.662162</td>\n",
       "      <td>0.689189</td>\n",
       "      <td>0.756757</td>\n",
       "      <td>0.689189</td>\n",
       "      <td>0.918919</td>\n",
       "      <td>0.918919</td>\n",
       "      <td>0.689189</td>\n",
       "      <td>0.851351</td>\n",
       "      <td>0.932432</td>\n",
       "      <td>0.932432</td>\n",
       "      <td>0.72973</td>\n",
       "      <td>0.77027</td>\n",
       "      <td>0.905405</td>\n",
       "      <td>0.864865</td>\n",
       "      <td>0.878378</td>\n",
       "    </tr>\n",
       "    <tr>\n",
       "      <td>VAL</td>\n",
       "      <td>0.810811</td>\n",
       "      <td>0.445946</td>\n",
       "      <td>0.662162</td>\n",
       "      <td>0.635135</td>\n",
       "      <td>0.743243</td>\n",
       "      <td>0.675676</td>\n",
       "      <td>0.702703</td>\n",
       "      <td>0.77027</td>\n",
       "      <td>0.702703</td>\n",
       "      <td>0.932432</td>\n",
       "      <td>0.932432</td>\n",
       "      <td>0.702703</td>\n",
       "      <td>0.864865</td>\n",
       "      <td>0.945946</td>\n",
       "      <td>0.945946</td>\n",
       "      <td>0.743243</td>\n",
       "      <td>0.783784</td>\n",
       "      <td>0.918919</td>\n",
       "      <td>0.878378</td>\n",
       "      <td>0.891892</td>\n",
       "    </tr>\n",
       "  </tbody>\n",
       "</table>\n",
       "</div>"
      ],
      "text/plain": [
       "          ALA       ARG       ASN       ASP       CYS       GLU       GLN  \\\n",
       "ALA   0.72973  0.364865  0.581081  0.554054  0.662162  0.594595  0.621622   \n",
       "ARG  0.364865         0  0.216216  0.189189  0.297297   0.22973  0.256757   \n",
       "ASN  0.581081  0.216216  0.432432  0.405405  0.513514  0.445946  0.472973   \n",
       "ASP  0.554054  0.189189  0.405405  0.378378  0.486486  0.418919  0.445946   \n",
       "CYS  0.662162  0.297297  0.513514  0.486486  0.594595  0.527027  0.554054   \n",
       "GLU  0.594595   0.22973  0.445946  0.418919  0.527027  0.459459  0.486486   \n",
       "GLN  0.621622  0.256757  0.472973  0.445946  0.554054  0.486486  0.513514   \n",
       "GLY  0.689189  0.324324  0.540541  0.513514  0.621622  0.554054  0.581081   \n",
       "HIS  0.621622  0.256757  0.472973  0.445946  0.554054  0.486486  0.513514   \n",
       "ILE  0.851351  0.486486  0.702703  0.675676  0.783784  0.716216  0.743243   \n",
       "LEU  0.851351  0.486486  0.702703  0.675676  0.783784  0.716216  0.743243   \n",
       "LYS  0.621622  0.256757  0.472973  0.445946  0.554054  0.486486  0.513514   \n",
       "MET  0.783784  0.418919  0.635135  0.608108  0.716216  0.648649  0.675676   \n",
       "PHE  0.864865       0.5  0.716216  0.689189  0.797297   0.72973  0.756757   \n",
       "PRO  0.864865       0.5  0.716216  0.689189  0.797297   0.72973  0.756757   \n",
       "SER  0.662162  0.297297  0.513514  0.486486  0.594595  0.527027  0.554054   \n",
       "THR  0.702703  0.337838  0.554054  0.527027  0.635135  0.567568  0.594595   \n",
       "TRP  0.837838  0.472973  0.689189  0.662162   0.77027  0.702703   0.72973   \n",
       "TYR  0.797297  0.432432  0.648649  0.621622   0.72973  0.662162  0.689189   \n",
       "VAL  0.810811  0.445946  0.662162  0.635135  0.743243  0.675676  0.702703   \n",
       "\n",
       "          GLY       HIS       ILE       LEU       LYS       MET       PHE  \\\n",
       "ALA  0.689189  0.621622  0.851351  0.851351  0.621622  0.783784  0.864865   \n",
       "ARG  0.324324  0.256757  0.486486  0.486486  0.256757  0.418919       0.5   \n",
       "ASN  0.540541  0.472973  0.702703  0.702703  0.472973  0.635135  0.716216   \n",
       "ASP  0.513514  0.445946  0.675676  0.675676  0.445946  0.608108  0.689189   \n",
       "CYS  0.621622  0.554054  0.783784  0.783784  0.554054  0.716216  0.797297   \n",
       "GLU  0.554054  0.486486  0.716216  0.716216  0.486486  0.648649   0.72973   \n",
       "GLN  0.581081  0.513514  0.743243  0.743243  0.513514  0.675676  0.756757   \n",
       "GLY  0.648649  0.581081  0.810811  0.810811  0.581081  0.743243  0.824324   \n",
       "HIS  0.581081  0.513514  0.743243  0.743243  0.513514  0.675676  0.756757   \n",
       "ILE  0.810811  0.743243  0.972973  0.972973  0.743243  0.905405  0.986486   \n",
       "LEU  0.810811  0.743243  0.972973  0.972973  0.743243  0.905405  0.986486   \n",
       "LYS  0.581081  0.513514  0.743243  0.743243  0.513514  0.675676  0.756757   \n",
       "MET  0.743243  0.675676  0.905405  0.905405  0.675676  0.837838  0.918919   \n",
       "PHE  0.824324  0.756757  0.986486  0.986486  0.756757  0.918919         1   \n",
       "PRO  0.824324  0.756757  0.986486  0.986486  0.756757  0.918919         1   \n",
       "SER  0.621622  0.554054  0.783784  0.783784  0.554054  0.716216  0.797297   \n",
       "THR  0.662162  0.594595  0.824324  0.824324  0.594595  0.756757  0.837838   \n",
       "TRP  0.797297   0.72973  0.959459  0.959459   0.72973  0.891892  0.972973   \n",
       "TYR  0.756757  0.689189  0.918919  0.918919  0.689189  0.851351  0.932432   \n",
       "VAL   0.77027  0.702703  0.932432  0.932432  0.702703  0.864865  0.945946   \n",
       "\n",
       "          PRO       SER       THR       TRP       TYR       VAL  \n",
       "ALA  0.864865  0.662162  0.702703  0.837838  0.797297  0.810811  \n",
       "ARG       0.5  0.297297  0.337838  0.472973  0.432432  0.445946  \n",
       "ASN  0.716216  0.513514  0.554054  0.689189  0.648649  0.662162  \n",
       "ASP  0.689189  0.486486  0.527027  0.662162  0.621622  0.635135  \n",
       "CYS  0.797297  0.594595  0.635135   0.77027   0.72973  0.743243  \n",
       "GLU   0.72973  0.527027  0.567568  0.702703  0.662162  0.675676  \n",
       "GLN  0.756757  0.554054  0.594595   0.72973  0.689189  0.702703  \n",
       "GLY  0.824324  0.621622  0.662162  0.797297  0.756757   0.77027  \n",
       "HIS  0.756757  0.554054  0.594595   0.72973  0.689189  0.702703  \n",
       "ILE  0.986486  0.783784  0.824324  0.959459  0.918919  0.932432  \n",
       "LEU  0.986486  0.783784  0.824324  0.959459  0.918919  0.932432  \n",
       "LYS  0.756757  0.554054  0.594595   0.72973  0.689189  0.702703  \n",
       "MET  0.918919  0.716216  0.756757  0.891892  0.851351  0.864865  \n",
       "PHE         1  0.797297  0.837838  0.972973  0.932432  0.945946  \n",
       "PRO         1  0.797297  0.837838  0.972973  0.932432  0.945946  \n",
       "SER  0.797297  0.594595  0.635135   0.77027   0.72973  0.743243  \n",
       "THR  0.837838  0.635135  0.675676  0.810811   0.77027  0.783784  \n",
       "TRP  0.972973   0.77027  0.810811  0.945946  0.905405  0.918919  \n",
       "TYR  0.932432   0.72973   0.77027  0.905405  0.864865  0.878378  \n",
       "VAL  0.945946  0.743243  0.783784  0.918919  0.878378  0.891892  "
      ]
     },
     "execution_count": 59,
     "metadata": {},
     "output_type": "execute_result"
    }
   ],
   "source": [
    "aas = ['ALA','ARG','ASN','ASP','CYS','GLU','GLN','GLY','HIS','ILE','LEU','LYS','MET','PHE','PRO','SER','THR','TRP','TYR','VAL',]\n",
    "with open('/home/adria/scripts/data/hps/lambdas_test.dat','r') as lambdas:\n",
    "    for line in lambdas.readlines():\n",
    "        ls = line.split()\n",
    "        lambs[ls[0]] = ls[1]\n",
    "df = pd.DataFrame(columns=aas, index=aas)\n",
    "for i in range(len(aas)):\n",
    "    for j in range(i, len(aas)):\n",
    "        df[aas[i]][aas[j]]=round((float(lambs[aas[i]])+float(lambs[aas[j]]))/2,6)\n",
    "        df[aas[j]][aas[i]]=round((float(lambs[aas[i]])+float(lambs[aas[j]]))/2,6)\n",
    "        \n",
    "df"
   ]
  },
  {
   "cell_type": "code",
   "execution_count": 60,
   "metadata": {
    "scrolled": true
   },
   "outputs": [
    {
     "name": "stdout",
     "output_type": "stream",
     "text": [
      "0.648649\n",
      "0.824324\n",
      "0.621622\n",
      "0.513514\n",
      "0.689189\n",
      "0.77027\n",
      "0.662162\n",
      "0.554054\n",
      "0.810811\n",
      "0.324324\n",
      "0.810811\n",
      "0.54054\n",
      "0.324324\n",
      "0.581082\n",
      "0.621622\n",
      "1.0\n",
      "0.797297\n",
      "0.689189\n",
      "0.864865\n",
      "0.945946\n",
      "0.837838\n",
      "0.72973\n",
      "0.986486\n",
      "0.5\n",
      "0.986486\n",
      "0.716216\n",
      "0.5\n",
      "0.756757\n",
      "0.797297\n",
      "0.594595\n",
      "0.486486\n",
      "0.662163\n",
      "0.743243\n",
      "0.635136\n",
      "0.527027\n",
      "0.783784\n",
      "0.297297\n",
      "0.783784\n",
      "0.513514\n",
      "0.297297\n",
      "0.554054\n",
      "0.594595\n",
      "0.378378\n",
      "0.554054\n",
      "0.635135\n",
      "0.527027\n",
      "0.418918\n",
      "0.675676\n",
      "0.189189\n",
      "0.675676\n",
      "0.405405\n",
      "0.189189\n",
      "0.445946\n",
      "0.486486\n",
      "0.72973\n",
      "0.810811\n",
      "0.702703\n",
      "0.594594\n",
      "0.851351\n",
      "0.364865\n",
      "0.851351\n",
      "0.581081\n",
      "0.364865\n",
      "0.621622\n",
      "0.662162\n",
      "0.891892\n",
      "0.783784\n",
      "0.675676\n",
      "0.932433\n",
      "0.445946\n",
      "0.932433\n",
      "0.662162\n",
      "0.445946\n",
      "0.702703\n",
      "0.743243\n",
      "0.675676\n",
      "0.567568\n",
      "0.824324\n",
      "0.337838\n",
      "0.824324\n",
      "0.554054\n",
      "0.337838\n",
      "0.594595\n",
      "0.635135\n",
      "0.459459\n",
      "0.716216\n",
      "0.22973\n",
      "0.716216\n",
      "0.445946\n",
      "0.22973\n",
      "0.486486\n",
      "0.527027\n",
      "0.972973\n",
      "0.486486\n",
      "0.972973\n",
      "0.702703\n",
      "0.486486\n",
      "0.743243\n",
      "0.783784\n",
      "0.0\n",
      "0.486486\n",
      "0.216216\n",
      "0.0\n",
      "0.256757\n",
      "0.297297\n",
      "0.972973\n",
      "0.702703\n",
      "0.486486\n",
      "0.743243\n",
      "0.783784\n",
      "0.432432\n",
      "0.216216\n",
      "0.472973\n",
      "0.513514\n",
      "0.0\n",
      "0.256757\n",
      "0.297297\n",
      "0.513514\n",
      "0.554054\n",
      "0.594595\n"
     ]
    }
   ],
   "source": [
    "digs = ['MET','ASP','VAL','PHE','LYS','GLY','ILE','SER','ALA','GLU','THR','GLN','TYR','HIS','ASN','LEU','PRO',]\n",
    "\n",
    "dig_lambs = np.genfromtxt('/home/adria/scripts/data/hps/dignon_asyn_pairs.dat')\n",
    "\n",
    "c=0\n",
    "for i in range(len(digs)):\n",
    "    for j in range(i,len(digs)):\n",
    "        df[digs[i]][digs[j]] = dig_lambs[c]\n",
    "        c+=1\n",
    "df\n",
    "\n",
    "protan = [\"GLY\", \"PRO\", \"SER\", \"ASP\", \"ALA\", \"VAL\", \"THR\", \"GLU\", \"ILE\", \"ARG\", \"LEU\", \"ASN\", \"ARG\", \"GLN\", \"CYS\"]\n",
    "for i in range(len(protan)):\n",
    "    for j in range(i,len(protan)):\n",
    "#         print(i+1,j+1, df[protan[i]][protan[j]])\n",
    "        print(df[protan[i]][protan[j]])        "
   ]
  },
  {
   "cell_type": "code",
   "execution_count": 7,
   "metadata": {
    "scrolled": false
   },
   "outputs": [
    {
     "name": "stdout",
     "output_type": "stream",
     "text": [
      "MET MET || 0.838 || FULL DIGNON 0.837838\n",
      "MET ASP || 0.608 || FULL DIGNON 0.608108\n",
      "MET VAL || 0.865 || FULL DIGNON 0.864865\n",
      "MET PHE || 0.919 || FULL DIGNON 0.918919\n",
      "MET LYS || 0.6759999999999999 || FULL DIGNON 0.675676\n",
      "MET GLY || 0.7435 || FULL DIGNON 0.743243\n",
      "MET ILE || 0.9055 || FULL DIGNON 0.905406\n",
      "MET SER || 0.7164999999999999 || FULL DIGNON 0.716217\n",
      "MET ALA || 0.784 || FULL DIGNON 0.783784\n",
      "MET GLU || 0.6485 || FULL DIGNON 0.648649\n",
      "MET THR || 0.757 || FULL DIGNON 0.756757\n",
      "MET GLN || 0.6759999999999999 || FULL DIGNON 0.675676\n",
      "MET TYR || 0.8514999999999999 || FULL DIGNON 0.851351\n",
      "MET HIS || 0.6759999999999999 || FULL DIGNON 0.675676\n",
      "MET ASN || 0.635 || FULL DIGNON 0.635135\n",
      "MET LEU || 0.9055 || FULL DIGNON 0.905406\n",
      "MET PRO || 0.919 || FULL DIGNON 0.918919\n",
      "ASP ASP || 0.378 || FULL DIGNON 0.378378\n",
      "ASP VAL || 0.635 || FULL DIGNON 0.635135\n",
      "ASP PHE || 0.6890000000000001 || FULL DIGNON 0.689189\n",
      "ASP LYS || 0.446 || FULL DIGNON 0.445946\n",
      "ASP GLY || 0.5135000000000001 || FULL DIGNON 0.513514\n",
      "ASP ILE || 0.6755 || FULL DIGNON 0.675676\n",
      "ASP SER || 0.4865 || FULL DIGNON 0.486486\n",
      "ASP ALA || 0.554 || FULL DIGNON 0.554054\n",
      "ASP GLU || 0.4185 || FULL DIGNON 0.418918\n",
      "ASP THR || 0.527 || FULL DIGNON 0.527027\n",
      "ASP GLN || 0.446 || FULL DIGNON 0.445946\n",
      "ASP TYR || 0.6214999999999999 || FULL DIGNON 0.621621\n",
      "ASP HIS || 0.446 || FULL DIGNON 0.445946\n",
      "ASP ASN || 0.405 || FULL DIGNON 0.405405\n",
      "ASP LEU || 0.6755 || FULL DIGNON 0.675676\n",
      "ASP PRO || 0.6890000000000001 || FULL DIGNON 0.689189\n",
      "VAL VAL || 0.892 || FULL DIGNON 0.891892\n",
      "VAL PHE || 0.946 || FULL DIGNON 0.945946\n",
      "VAL LYS || 0.7030000000000001 || FULL DIGNON 0.702703\n",
      "VAL GLY || 0.7705 || FULL DIGNON 0.77027\n",
      "VAL ILE || 0.9325 || FULL DIGNON 0.932433\n",
      "VAL SER || 0.7435 || FULL DIGNON 0.743244\n",
      "VAL ALA || 0.8109999999999999 || FULL DIGNON 0.810811\n",
      "VAL GLU || 0.6755 || FULL DIGNON 0.675676\n",
      "VAL THR || 0.784 || FULL DIGNON 0.783784\n",
      "VAL GLN || 0.7030000000000001 || FULL DIGNON 0.702703\n",
      "VAL TYR || 0.8785000000000001 || FULL DIGNON 0.878379\n",
      "VAL HIS || 0.7030000000000001 || FULL DIGNON 0.702703\n",
      "VAL ASN || 0.662 || FULL DIGNON 0.662162\n",
      "VAL LEU || 0.9325 || FULL DIGNON 0.932433\n",
      "VAL PRO || 0.946 || FULL DIGNON 0.945946\n",
      "PHE PHE || 1.0 || FULL DIGNON 1.0\n",
      "PHE LYS || 0.757 || FULL DIGNON 0.756757\n",
      "PHE GLY || 0.8245 || FULL DIGNON 0.824324\n",
      "PHE ILE || 0.9864999999999999 || FULL DIGNON 0.986486\n",
      "PHE SER || 0.7975 || FULL DIGNON 0.797297\n",
      "PHE ALA || 0.865 || FULL DIGNON 0.864865\n",
      "PHE GLU || 0.7295 || FULL DIGNON 0.72973\n",
      "PHE THR || 0.8380000000000001 || FULL DIGNON 0.837838\n",
      "PHE GLN || 0.757 || FULL DIGNON 0.756757\n",
      "PHE TYR || 0.9325 || FULL DIGNON 0.932433\n",
      "PHE HIS || 0.757 || FULL DIGNON 0.756757\n",
      "PHE ASN || 0.716 || FULL DIGNON 0.716216\n",
      "PHE LEU || 0.9864999999999999 || FULL DIGNON 0.986486\n",
      "PHE PRO || 1.0 || FULL DIGNON 1.0\n",
      "LYS LYS || 0.514 || FULL DIGNON 0.513514\n",
      "LYS GLY || 0.5815 || FULL DIGNON 0.581082\n",
      "LYS ILE || 0.7435 || FULL DIGNON 0.743243\n",
      "LYS SER || 0.5545 || FULL DIGNON 0.554054\n",
      "LYS ALA || 0.622 || FULL DIGNON 0.621622\n",
      "LYS GLU || 0.48650000000000004 || FULL DIGNON 0.486486\n",
      "LYS THR || 0.595 || FULL DIGNON 0.594595\n",
      "LYS GLN || 0.514 || FULL DIGNON 0.513514\n",
      "LYS TYR || 0.6895 || FULL DIGNON 0.689189\n",
      "LYS HIS || 0.514 || FULL DIGNON 0.513514\n",
      "LYS ASN || 0.473 || FULL DIGNON 0.472973\n",
      "LYS LEU || 0.7435 || FULL DIGNON 0.743243\n",
      "LYS PRO || 0.757 || FULL DIGNON 0.756757\n",
      "GLY GLY || 0.649 || FULL DIGNON 0.648649\n",
      "GLY ILE || 0.8109999999999999 || FULL DIGNON 0.810811\n",
      "GLY SER || 0.622 || FULL DIGNON 0.621622\n",
      "GLY ALA || 0.6895 || FULL DIGNON 0.689189\n",
      "GLY GLU || 0.554 || FULL DIGNON 0.554054\n",
      "GLY THR || 0.6625000000000001 || FULL DIGNON 0.662162\n",
      "GLY GLN || 0.5815 || FULL DIGNON 0.581082\n",
      "GLY TYR || 0.757 || FULL DIGNON 0.756757\n",
      "GLY HIS || 0.5815 || FULL DIGNON 0.581082\n",
      "GLY ASN || 0.5405 || FULL DIGNON 0.54054\n",
      "GLY LEU || 0.8109999999999999 || FULL DIGNON 0.810811\n",
      "GLY PRO || 0.8245 || FULL DIGNON 0.824324\n",
      "ILE ILE || 0.973 || FULL DIGNON 0.972973\n",
      "ILE SER || 0.784 || FULL DIGNON 0.783784\n",
      "ILE ALA || 0.8514999999999999 || FULL DIGNON 0.851351\n",
      "ILE GLU || 0.716 || FULL DIGNON 0.716216\n",
      "ILE THR || 0.8245 || FULL DIGNON 0.824324\n",
      "ILE GLN || 0.7435 || FULL DIGNON 0.743243\n",
      "ILE TYR || 0.919 || FULL DIGNON 0.918919\n",
      "ILE HIS || 0.7435 || FULL DIGNON 0.743243\n",
      "ILE ASN || 0.7025 || FULL DIGNON 0.702703\n",
      "ILE LEU || 0.973 || FULL DIGNON 0.972973\n",
      "ILE PRO || 0.9864999999999999 || FULL DIGNON 0.986486\n",
      "SER SER || 0.595 || FULL DIGNON 0.594595\n",
      "SER ALA || 0.6625 || FULL DIGNON 0.662163\n",
      "SER GLU || 0.527 || FULL DIGNON 0.527027\n",
      "SER THR || 0.6355 || FULL DIGNON 0.635136\n",
      "SER GLN || 0.5545 || FULL DIGNON 0.554054\n",
      "SER TYR || 0.73 || FULL DIGNON 0.72973\n",
      "SER HIS || 0.5545 || FULL DIGNON 0.554054\n",
      "SER ASN || 0.5135 || FULL DIGNON 0.513514\n",
      "SER LEU || 0.784 || FULL DIGNON 0.783784\n",
      "SER PRO || 0.7975 || FULL DIGNON 0.797297\n",
      "ALA ALA || 0.73 || FULL DIGNON 0.72973\n",
      "ALA GLU || 0.5945 || FULL DIGNON 0.594594\n",
      "ALA THR || 0.7030000000000001 || FULL DIGNON 0.702703\n",
      "ALA GLN || 0.622 || FULL DIGNON 0.621622\n",
      "ALA TYR || 0.7975 || FULL DIGNON 0.797297\n",
      "ALA HIS || 0.622 || FULL DIGNON 0.621622\n",
      "ALA ASN || 0.581 || FULL DIGNON 0.581081\n",
      "ALA LEU || 0.8514999999999999 || FULL DIGNON 0.851351\n",
      "ALA PRO || 0.865 || FULL DIGNON 0.864865\n",
      "GLU GLU || 0.459 || FULL DIGNON 0.459459\n",
      "GLU THR || 0.5675 || FULL DIGNON 0.567567\n",
      "GLU GLN || 0.48650000000000004 || FULL DIGNON 0.486486\n",
      "GLU TYR || 0.662 || FULL DIGNON 0.662162\n",
      "GLU HIS || 0.48650000000000004 || FULL DIGNON 0.486486\n",
      "GLU ASN || 0.4455 || FULL DIGNON 0.445946\n",
      "GLU LEU || 0.716 || FULL DIGNON 0.716216\n",
      "GLU PRO || 0.7295 || FULL DIGNON 0.72973\n",
      "THR THR || 0.676 || FULL DIGNON 0.675676\n",
      "THR GLN || 0.595 || FULL DIGNON 0.594595\n",
      "THR TYR || 0.7705 || FULL DIGNON 0.77027\n",
      "THR HIS || 0.595 || FULL DIGNON 0.594595\n",
      "THR ASN || 0.554 || FULL DIGNON 0.554054\n",
      "THR LEU || 0.8245 || FULL DIGNON 0.824324\n",
      "THR PRO || 0.8380000000000001 || FULL DIGNON 0.837838\n",
      "GLN GLN || 0.514 || FULL DIGNON 0.513514\n",
      "GLN TYR || 0.6895 || FULL DIGNON 0.689189\n",
      "GLN HIS || 0.514 || FULL DIGNON 0.513514\n",
      "GLN ASN || 0.473 || FULL DIGNON 0.472973\n",
      "GLN LEU || 0.7435 || FULL DIGNON 0.743243\n",
      "GLN PRO || 0.757 || FULL DIGNON 0.756757\n",
      "TYR TYR || 0.865 || FULL DIGNON 0.864865\n",
      "TYR HIS || 0.6895 || FULL DIGNON 0.689189\n",
      "TYR ASN || 0.6485 || FULL DIGNON 0.648649\n",
      "TYR LEU || 0.919 || FULL DIGNON 0.918919\n",
      "TYR PRO || 0.9325 || FULL DIGNON 0.932433\n",
      "HIS HIS || 0.514 || FULL DIGNON 0.513514\n",
      "HIS ASN || 0.473 || FULL DIGNON 0.472973\n",
      "HIS LEU || 0.7435 || FULL DIGNON 0.743243\n",
      "HIS PRO || 0.757 || FULL DIGNON 0.756757\n",
      "ASN ASN || 0.432 || FULL DIGNON 0.432432\n",
      "ASN LEU || 0.7025 || FULL DIGNON 0.702703\n",
      "ASN PRO || 0.716 || FULL DIGNON 0.716216\n",
      "LEU LEU || 0.973 || FULL DIGNON 0.972973\n",
      "LEU PRO || 0.9864999999999999 || FULL DIGNON 0.986486\n",
      "PRO PRO || 1.0 || FULL DIGNON 1.0\n"
     ]
    }
   ],
   "source": [
    "\n",
    "aas = ['ALA','ARG','ASN','ASP','CYS','GLU','GLN','GLY','HIS','ILE','LEU','LYS','MET','PHE','PRO','SER','THR','TRP','TYR','VAL',]\n",
    "aas.sort()\n",
    "digs = ['MET','ASP','VAL','PHE','LYS','GLY','ILE','SER','ALA','GLU','THR','GLN','TYR','HIS','ASN','LEU','PRO',]\n",
    "\n",
    "lambs = {}\n",
    "# with open('/home/adria/scripts/data/hps/lambdas_old.dat','r') as lambdas:\n",
    "with open('/home/adria/scripts/data/hps/lambdas_test.dat','r') as lambdas:\n",
    "    for line in lambdas.readlines():\n",
    "        ls = line.split()\n",
    "        lambs[ls[0]] = ls[1]\n",
    "lambs\n",
    "\n",
    "dig_lambs = np.genfromtxt('/home/adria/scripts/data/hps/dignon_asyn_pairs.dat')\n",
    "dig_lambs.shape\n",
    "\n",
    "c = 0\n",
    "for i in range(len(digs)):\n",
    "    for j in range(i,len(digs)):\n",
    "        aa_i = digs[i]\n",
    "        aa_j = digs[j]\n",
    "        mine = (float(lambs[aa_i])+float(lambs[aa_j]))/2\n",
    "        rounded = decimal.Decimal(str(mine)).quantize(decimal.Decimal('0.0000001'), rounding=decimal.ROUND_UP)\n",
    "#         rounded = float(rounded)\n",
    "#         rounded2 = decimal.Decimal(str(rounded)).quantize(decimal.Decimal('0.000001'), rounding=decimal.ROUND_HALF_UP)\n",
    "#         rounded2 = float(rounded2)\n",
    "        dignon = dig_lambs[c]\n",
    "#         if rounded!=dignon:\n",
    "#         direction = \"DIG IS UP..\" if dignon > rounded else \"DIG IS DOWN\"\n",
    "#         diff = dignon - rounded\n",
    "#             print( aa_i, aa_j, \"||\",  direction, \"|| FULL\", mine, \"DIGNON\", dig_lambs[c],\"MINE\", rounded, lambs[aa_i], lambs[aa_j])\n",
    "#             print( aa_i, aa_j, \"||\",  direction, \"|| FULL\", mine, \"DIGNON\", dig_lambs[c],\"MINE\", rounded, rounded2)\n",
    "        print( aa_i, aa_j, \"||\",  mine, \"|| FULL\", \"DIGNON\", dig_lambs[c])\n",
    "    \n",
    "        c += 1\n",
    "    \n"
   ]
  },
  {
   "cell_type": "code",
   "execution_count": 41,
   "metadata": {},
   "outputs": [
    {
     "name": "stdout",
     "output_type": "stream",
     "text": [
      "> Run Completed at 93.39% for CPEB4_RtoK. Ran 933950000 steps for a total of 18680 frames \n",
      "> Taking frames every 1 for a total of 1000 to avoid strong correlations\n",
      "> Run Completed at 83.78% for CPEB4_alpha. Ran 83785000 steps for a total of 16758 frames \n",
      "> Taking frames every 1 for a total of 1000 to avoid strong correlations\n",
      "> Run Completed at 87.52% for CPEB4_alpha. Ran 875150000 steps for a total of 17504 frames \n",
      "> Taking frames every 1 for a total of 1000 to avoid strong correlations\n",
      "> Run Completed at 9.65% for CPEB4_E4_as_F. Ran 96500000 steps for a total of 1931 frames \n",
      "> Taking frames every 1 for a total of 1000 to avoid strong correlations\n"
     ]
    }
   ],
   "source": [
    "r_k = lmp.LMP(md_dir='/home/adria/perdiux/prod/lammps/dignon/KH/CPEB4_RtoK')\n",
    "og = lmp.LMP(md_dir='/home/adria/perdiux/prod/lammps/dignon/CPEB4/x1/1.0ls-100I-80e')\n",
    "og = lmp.LMP(md_dir='/home/adria/perdiux/prod/lammps/dignon/CPEB4/x1/1.0ls-100I-80e')\n",
    "r_p = lmp.LMP(md_dir='/home/adria/perdiux/prod/lammps/dignon/KH/CPEB4_RasP')\n",
    "e4_f = lmp.LMP(md_dir='/home/adria/perdiux/prod/lammps/dignon/KH/CPEB4_E4_as_F')"
   ]
  },
  {
   "cell_type": "code",
   "execution_count": 42,
   "metadata": {},
   "outputs": [
    {
     "data": {
      "text/plain": [
       "<matplotlib.legend.Legend at 0x7f1e32838b10>"
      ]
     },
     "execution_count": 42,
     "metadata": {},
     "output_type": "execute_result"
    },
    {
     "data": {
      "image/png": "[encoded data removed]",
      "text/plain": [
       "<Figure size 432x288 with 1 Axes>"
      ]
     },
     "metadata": {
      "needs_background": "light"
     },
     "output_type": "display_data"
    }
   ],
   "source": [
    "plt.plot(og.temperatures, og.rg()[0], label='OG')\n",
    "plt.plot(r_k.temperatures, r_k.rg()[0], label='RK')\n",
    "plt.plot(r_p.temperatures, r_p.rg()[0], label='RP')\n",
    "plt.plot(e4_f.temperatures, e4_f.rg()[0], label='E4-A')\n",
    "plt.legend()"
   ]
  },
  {
   "cell_type": "code",
   "execution_count": 43,
   "metadata": {},
   "outputs": [
    {
     "data": {
      "text/plain": [
       "<matplotlib.legend.Legend at 0x7f1e3199da50>"
      ]
     },
     "execution_count": 43,
     "metadata": {},
     "output_type": "execute_result"
    },
    {
     "data": {
      "image/png": "[encoded data removed]",
      "text/plain": [
       "<Figure size 432x288 with 1 Axes>"
      ]
     },
     "metadata": {
      "needs_background": "light"
     },
     "output_type": "display_data"
    }
   ],
   "source": [
    "plt.plot(og.temperatures, og.flory_scaling_formula(), label='OG')\n",
    "plt.plot(r_k.temperatures,r_k.flory_scaling_formula(), label='RK')\n",
    "plt.plot(r_p.temperatures, r_p.flory_scaling_formula(), label='RP')\n",
    "plt.plot(e4_f.temperatures, e4_f.flory_scaling_formula(), label='RP')\n",
    "plt.legend()"
   ]
  },
  {
   "cell_type": "code",
   "execution_count": null,
   "metadata": {},
   "outputs": [],
   "source": []
  },
  {
   "cell_type": "code",
   "execution_count": null,
   "metadata": {},
   "outputs": [],
   "source": []
  },
  {
   "cell_type": "code",
   "execution_count": 118,
   "metadata": {},
   "outputs": [
    {
     "name": "stdout",
     "output_type": "stream",
     "text": [
      "> Run Completed at 4.94% for None. Ran 49420000 steps for a total of 4943 frames \n",
      "> Taking frames every 1 for a total of 1000 to avoid strong correlations\n",
      "> Run Completed at 5.68% for ASYN. Ran 56790000 steps for a total of 5680 frames \n",
      "> Taking frames every 1 for a total of 1000 to avoid strong correlations\n",
      "> Run Completed at 5.65% for ASYN. Ran 56530000 steps for a total of 5654 frames \n",
      "> Taking frames every 1 for a total of 1000 to avoid strong correlations\n",
      "> Run Completed at 7.55% for None. Ran 75500000 steps for a total of 7551 frames \n",
      "> Taking frames every 1 for a total of 1000 to avoid strong correlations\n"
     ]
    }
   ],
   "source": [
    "dig_asyn = lmp.LMP(md_dir='/home/adria/test/hps_test/digasyn',equil_frames=1000)\n",
    "myasyn = lmp.LMP(md_dir='/home/adria/test/hps_test/myasyn', equil_frames=1000)\n",
    "myasyn_re = lmp.LMP(md_dir='/home/adria/test/hps_test/myasyn_re', equil_frames=1000)\n",
    "myasyn_re2 = lmp.LMP(md_dir='/home/adria/test/hps_test/myasyn_re2', equil_frames=1000)"
   ]
  },
  {
   "cell_type": "code",
   "execution_count": 121,
   "metadata": {},
   "outputs": [
    {
     "name": "stdout",
     "output_type": "stream",
     "text": [
      "TARGET 21.874999999999996\n"
     ]
    }
   ],
   "source": [
    "exp_data = np.genfromtxt('/home/adria/documents/HPS_data.csv', delimiter=',')*10.\n",
    "print(\"TARGET\", exp_data[:,1][-1],)"
   ]
  },
  {
   "cell_type": "code",
   "execution_count": 122,
   "metadata": {},
   "outputs": [
    {
     "data": {
      "text/plain": [
       "21.568778250073063"
      ]
     },
     "execution_count": 122,
     "metadata": {},
     "output_type": "execute_result"
    }
   ],
   "source": [
    "myasyn.rg()[0][0]"
   ]
  },
  {
   "cell_type": "code",
   "execution_count": 123,
   "metadata": {},
   "outputs": [
    {
     "name": "stdout",
     "output_type": "stream",
     "text": [
      "21.82755176761543\n"
     ]
    }
   ],
   "source": [
    "print(dig_asyn.rg()[0][0])"
   ]
  },
  {
   "cell_type": "code",
   "execution_count": 124,
   "metadata": {},
   "outputs": [
    {
     "data": {
      "text/plain": [
       "21.567244612097284"
      ]
     },
     "execution_count": 124,
     "metadata": {},
     "output_type": "execute_result"
    }
   ],
   "source": [
    "myasyn_re.rg()[0][0]"
   ]
  },
  {
   "cell_type": "code",
   "execution_count": 125,
   "metadata": {},
   "outputs": [
    {
     "data": {
      "text/plain": [
       "21.87816623633217"
      ]
     },
     "execution_count": 125,
     "metadata": {},
     "output_type": "execute_result"
    }
   ],
   "source": [
    "myasyn_re2.rg()[0][0]"
   ]
  },
  {
   "cell_type": "code",
   "execution_count": 25,
   "metadata": {},
   "outputs": [
    {
     "name": "stdout",
     "output_type": "stream",
     "text": [
      "DOING ProTa-N\n",
      "DOING ProTa-C\n"
     ]
    }
   ],
   "source": [
    "prots = ['ProTa-N', 'ProTa-C']\n",
    "Is = np.array([42,42])*10**-3\n",
    "for i in range(len(prots)):\n",
    "    print(f\"DOING {prots[i]}\")\n",
    "    s = lmpsetup.LMPSetup(oliba_wd=f'/home/adria/test/hps_test/{i}.{prots[i]}',\n",
    "                     temperatures=[298],\n",
    "                     ionic_strength=Is[i],\n",
    "                     protein=prots[i],\n",
    "                     model='HPS',\n",
    "                     t=int(1e9),\n",
    "                     processors=2,\n",
    "                     chains=1,\n",
    "                     save=50000)\n",
    "    s.del_missing_aas()\n",
    "    s.lammps_ordering()\n",
    "    s.write_hps_files(qsub=False, silent=True)"
   ]
  },
  {
   "cell_type": "code",
   "execution_count": 21,
   "metadata": {},
   "outputs": [
    {
     "name": "stdout",
     "output_type": "stream",
     "text": [
      "> Run Completed at 0.01% for None. Ran 50000 steps for a total of 2 frames \n",
      "> Taking frames every 1 for a total of 1000 to avoid strong correlations\n"
     ]
    },
    {
     "name": "stderr",
     "output_type": "stream",
     "text": [
      "/home/adria/scripts/md/md/analysis.py:662: RuntimeWarning: Mean of empty slice.\n",
      "  mean = observable.mean(axis=1)\n",
      "/home/adria/anaconda3/lib/python3.7/site-packages/numpy/core/_methods.py:154: RuntimeWarning: invalid value encountered in true_divide\n",
      "  ret, rcount, out=ret, casting='unsafe', subok=False)\n",
      "/home/adria/scripts/md/md/analysis.py:669: RuntimeWarning: Mean of empty slice.\n",
      "  err += (observable[T, rng].mean() - mean[T]) ** 2\n",
      "/home/adria/anaconda3/lib/python3.7/site-packages/numpy/core/_methods.py:161: RuntimeWarning: invalid value encountered in double_scalars\n",
      "  ret = ret.dtype.type(ret / rcount)\n"
     ]
    }
   ],
   "source": [
    "prots = ['ProTa-N', 'ProTa-C',]\n",
    "rgs = []\n",
    "for i in range(1):\n",
    "    wr = lmp.LMP(md_dir=f'/home/adria/test/hps_test/{i}.{prots[i]}', equil_frames=10)\n",
    "    rgs.append(wr.rg(full=True)[0]) \n",
    "#     print(prots[i], rgs[-1])\n",
    "# rgs"
   ]
  },
  {
   "cell_type": "code",
   "execution_count": 122,
   "metadata": {},
   "outputs": [
    {
     "data": {
      "text/plain": [
       "[<matplotlib.lines.Line2D at 0x7f1e947162d0>]"
      ]
     },
     "execution_count": 122,
     "metadata": {},
     "output_type": "execute_result"
    },
    {
     "data": {
      "image/png": "[encoded data removed]",
      "text/plain": [
       "<Figure size 432x288 with 1 Axes>"
      ]
     },
     "metadata": {
      "needs_background": "light"
     },
     "output_type": "display_data"
    }
   ],
   "source": [
    "plt.plot(rgs[0][0])"
   ]
  },
  {
   "cell_type": "code",
   "execution_count": 64,
   "metadata": {},
   "outputs": [],
   "source": [
    "exp_data = np.genfromtxt('/home/adria/documents/HPS_data.csv', delimiter=',')*10."
   ]
  },
  {
   "cell_type": "code",
   "execution_count": 74,
   "metadata": {},
   "outputs": [
    {
     "data": {
      "text/plain": [
       "array([24.    , 28.3125])"
      ]
     },
     "execution_count": 74,
     "metadata": {},
     "output_type": "execute_result"
    }
   ],
   "source": [
    "#DIGNON\n",
    "exp_data[[2,3],1]"
   ]
  },
  {
   "cell_type": "code",
   "execution_count": 75,
   "metadata": {},
   "outputs": [
    {
     "data": {
      "text/plain": [
       "array([28.88760807, 37.26188761])"
      ]
     },
     "execution_count": 75,
     "metadata": {},
     "output_type": "execute_result"
    }
   ],
   "source": [
    "#EXPERIMENTAL\n",
    "exp_data[[2,3],0]"
   ]
  },
  {
   "cell_type": "code",
   "execution_count": null,
   "metadata": {},
   "outputs": [],
   "source": []
  },
  {
   "cell_type": "code",
   "execution_count": null,
   "metadata": {},
   "outputs": [],
   "source": []
  },
  {
   "cell_type": "code",
   "execution_count": null,
   "metadata": {},
   "outputs": [],
   "source": []
  },
  {
   "cell_type": "code",
   "execution_count": 99,
   "metadata": {},
   "outputs": [
    {
     "data": {
      "text/plain": [
       "array([1.        , 1.        , 0.97297297, 0.64864865, 0.94594595,\n",
       "       0.89189189, 0.86486486, 0.83783784, 0.72972973, 0.67567568,\n",
       "       0.64864865, 0.59459459, 0.59459459, 0.51351351, 0.51351351,\n",
       "       0.51351351, 0.45945946, 0.43243243, 0.37837838, 0.        ])"
      ]
     },
     "execution_count": 99,
     "metadata": {},
     "output_type": "execute_result"
    }
   ],
   "source": [
    "og_data = np.array([-4,-4,-3.5,3-.5,-3,-2,-1.5,-1.0,1,2,2.5,3.5,3.5,5,5,5,6,6.5,7.5,14.5,])\n",
    "og_data = og_data-og_data.max()\n",
    "og_data = np.abs(og_data)\n",
    "og_data/og_data.max()"
   ]
  },
  {
   "cell_type": "code",
   "execution_count": 24,
   "metadata": {},
   "outputs": [
    {
     "name": "stdout",
     "output_type": "stream",
     "text": [
      "0.9054054999945 0.9054055 0.905406\n",
      "0.9054054999945 0.9054055 905405.5\n"
     ]
    }
   ],
   "source": [
    "import decimal\n",
    "\n",
    "\n",
    "kkk = (0.837837999999+0.97297299999)/2\n",
    "kk2 = round(kkk, 7)\n",
    "kk3 = deccc = decimal.Decimal(str(kk2)).quantize(decimal.Decimal('0.000001'), \n",
    "    rounding=decimal.ROUND_HALF_UP)\n",
    "print(kkk, kk2, kk3)\n",
    "deccc = decimal.Decimal(str(kkk*10**6)).quantize(decimal.Decimal('.1'), \n",
    "    rounding=decimal.ROUND_HALF_UP)\n",
    "print(kkk, round(kkk, 7), deccc,)"
   ]
  },
  {
   "cell_type": "code",
   "execution_count": 18,
   "metadata": {},
   "outputs": [
    {
     "data": {
      "text/plain": [
       "Decimal('905406')"
      ]
     },
     "execution_count": 18,
     "metadata": {},
     "output_type": "execute_result"
    }
   ],
   "source": [
    "decimal.Decimal(str(905405.5)).quantize(decimal.Decimal('1'), rounding=decimal.ROUND_HALF_UP)"
   ]
  },
  {
   "cell_type": "code",
   "execution_count": 66,
   "metadata": {},
   "outputs": [
    {
     "name": "stdout",
     "output_type": "stream",
     "text": [
      "> Run Completed at 0.13% for None. Ran 1280000 steps for a total of 129 frames \n",
      "> Taking frames every 1 for a total of 1000 to avoid strong correlations\n"
     ]
    },
    {
     "data": {
      "text/plain": [
       "(array([44.01830458]), array([1.82895572]))"
      ]
     },
     "execution_count": 66,
     "metadata": {},
     "output_type": "execute_result"
    }
   ],
   "source": [
    "s = lmp.LMP(md_dir='/home/adria/test/hps_test/0.ProTa-N', equil_frames=10)\n",
    "s.rg()"
   ]
  },
  {
   "cell_type": "code",
   "execution_count": 68,
   "metadata": {},
   "outputs": [
    {
     "data": {
      "text/plain": [
       "(array([44.33188965]), array([0.37718101]))"
      ]
     },
     "execution_count": 68,
     "metadata": {},
     "output_type": "execute_result"
    }
   ],
   "source": [
    "s = hmd.HMD(md_dir='/home/adria/irb/hoomd/protan', equil_frames=10)\n",
    "s.rg()"
   ]
  },
  {
   "cell_type": "code",
   "execution_count": 96,
   "metadata": {},
   "outputs": [
    {
     "name": "stdout",
     "output_type": "stream",
     "text": [
      "╔═══════════════════════════════════════════════════════════════════════════════╗\n",
      "║     Input files created at /home/adria/test/hps_test/myasyn_re_f for ASYN     ║\n",
      "║-------------------------------------------------------------------------------║\n",
      "║   PARAMETERS                                                                  ║\n",
      "║       - Model = HPS                                                           ║\n",
      "║       - Chains = 1                                                            ║\n",
      "║       - Ionic Strength (mM) = 0.1                                             ║\n",
      "║       - Medium Permittivity = 80.0                                            ║\n",
      "║       - Temperatures (K) = [300, 320, 340, 360, 380, 400]                     ║\n",
      "║       - HPS Scale = 1.0                                                       ║\n",
      "╚═══════════════════════════════════════════════════════════════════════════════╝\n"
     ]
    }
   ],
   "source": [
    "t = lmpsetup.LMPSetup(oliba_wd='/home/adria/test/hps_test/myasyn_re_f',\n",
    "                  protein='ASYN',\n",
    "                  chains=1)\n",
    "t.del_missing_aas()\n",
    "t.lammps_ordering()\n",
    "t.write_hps_files()"
   ]
  },
  {
   "cell_type": "code",
   "execution_count": null,
   "metadata": {},
   "outputs": [],
   "source": []
  }
 ],
 "metadata": {
  "kernelspec": {
   "display_name": "Python 3",
   "language": "python",
   "name": "python3"
  },
  "language_info": {
   "codemirror_mode": {
    "name": "ipython",
    "version": 3
   },
   "file_extension": ".py",
   "mimetype": "text/x-python",
   "name": "python",
   "nbconvert_exporter": "python",
   "pygments_lexer": "ipython3",
   "version": "3.7.4"
  }
 },
 "nbformat": 4,
 "nbformat_minor": 2
}
