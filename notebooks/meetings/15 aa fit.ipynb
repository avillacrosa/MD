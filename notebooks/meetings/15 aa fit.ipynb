{
 "cells": [
  {
   "cell_type": "code",
   "execution_count": 19,
   "metadata": {},
   "outputs": [
    {
     "name": "stdout",
     "output_type": "stream",
     "text": [
      "The autoreload extension is already loaded. To reload it, use:\n",
      "  %reload_ext autoreload\n"
     ]
    }
   ],
   "source": [
    "%load_ext autoreload\n",
    "%autoreload 2\n",
    "\n",
    "import lmpsetup"
   ]
  },
  {
   "cell_type": "code",
   "execution_count": 82,
   "metadata": {
    "scrolled": false
   },
   "outputs": [
    {
     "name": "stdout",
     "output_type": "stream",
     "text": [
      "╔════════════════════════════════════════════════════════════════════════════════════════════════╗\n",
      "║     Input files created at /home/adria/perdiux/prod/lammps/dignon/SLAB-TEST/TEST for CPEB4     ║\n",
      "║------------------------------------------------------------------------------------------------║\n",
      "║   PARAMETERS                                                                                   ║\n",
      "║       - Model = HPS                                                                            ║\n",
      "║       - Chains = 50                                                                            ║\n",
      "║       - Ionic Strength (mM) = 0.1                                                              ║\n",
      "║       - Medium Permittivity = 80.0                                                             ║\n",
      "║       - Temperatures (K) = [300]                                                               ║\n",
      "║       - HPS Scale = 1.0                                                                        ║\n",
      "╚════════════════════════════════════════════════════════════════════════════════════════════════╝\n"
     ]
    }
   ],
   "source": [
    "s = lmpsetup.LMPSetup(oliba_wd='/home/adria/perdiux/prod/lammps/dignon/SLAB-TEST/TEST',\n",
    "                      use_random=True,\n",
    "                      protein='CPEB4',\n",
    "                      temperatures=[300],\n",
    "                      chains=50,\n",
    "                      temper=False)\n",
    "s.write_hps_files()"
   ]
  },
  {
   "cell_type": "code",
   "execution_count": null,
   "metadata": {},
   "outputs": [],
   "source": []
  }
 ],
 "metadata": {
  "kernelspec": {
   "display_name": "Python 3",
   "language": "python",
   "name": "python3"
  },
  "language_info": {
   "codemirror_mode": {
    "name": "ipython",
    "version": 3
   },
   "file_extension": ".py",
   "mimetype": "text/x-python",
   "name": "python",
   "nbconvert_exporter": "python",
   "pygments_lexer": "ipython3",
   "version": "3.7.4"
  }
 },
 "nbformat": 4,
 "nbformat_minor": 2
}
