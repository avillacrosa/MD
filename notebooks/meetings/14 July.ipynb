{
 "cells": [
  {
   "cell_type": "code",
   "execution_count": 429,
   "metadata": {},
   "outputs": [
    {
     "name": "stdout",
     "output_type": "stream",
     "text": [
      "The autoreload extension is already loaded. To reload it, use:\n",
      "  %reload_ext autoreload\n"
     ]
    }
   ],
   "source": [
    "%load_ext autoreload\n",
    "%autoreload 2\n",
    "%matplotlib inline\n",
    "\n",
    "import analysis\n",
    "import lmpsetup\n",
    "import hmdsetup\n",
    "import hmd\n",
    "\n",
    "import numpy as np\n",
    "import matplotlib.pyplot as plt\n",
    "import analysis\n",
    "import rgRPA\n",
    "\n",
    "import scipy.constants as cnt\n",
    "\n",
    "import mdtraj as md\n",
    "import statsmodels.tsa.stattools\n",
    "import MDAnalysis.analysis as mda\n",
    "from matplotlib.lines import Line2D"
   ]
  },
  {
   "cell_type": "code",
   "execution_count": 524,
   "metadata": {},
   "outputs": [
    {
     "name": "stdout",
     "output_type": "stream",
     "text": [
      "╔═══════════════════════════════════════════════════════════════════╗\n",
      "║     Input files created at /home/adria/test/pulchra/pr for PR     ║\n",
      "║-------------------------------------------------------------------║\n",
      "║   PARAMETERS                                                      ║\n",
      "║       - Model = HPS                                               ║\n",
      "║       - Chains = 1                                                ║\n",
      "║       - Ionic Strength (mM) = 0.1                                 ║\n",
      "║       - Medium Permittivity = 80.0                                ║\n",
      "║       - Temperatures (K) = [300, 320, 340, 360, 380, 400]         ║\n",
      "║       - HPS Scale = 1.0                                           ║\n",
      "╚═══════════════════════════════════════════════════════════════════╝\n"
     ]
    }
   ],
   "source": [
    "lmpsetup.LMPSetup('/home/adria/test/pulchra/pr',\n",
    "                 protein='PR').write_hps_files()"
   ]
  },
  {
   "cell_type": "markdown",
   "metadata": {},
   "source": [
    "## Summary\n",
    "\n",
    "**[1. HOOMD Testing](#1)**\n",
    "\n",
    "**[2. KH Testing](#2)**\n",
    "\n",
    "**[3. SLAB Testing](#3)**"
   ]
  },
  {
   "cell_type": "markdown",
   "metadata": {},
   "source": [
    "### 1. HOOMD Testing <a id='1'></a>"
   ]
  },
  {
   "cell_type": "code",
   "execution_count": 209,
   "metadata": {},
   "outputs": [],
   "source": [
    "temperatures = [300,325,350,375]\n",
    "for temp in temperatures:\n",
    "    hmdsetup.HMDSetup(temperature=temp,\n",
    "                      protein='CPEB4',\n",
    "                      debye=0.1,\n",
    "                      oliba_wd='/home/adria/irb/hoomd/csp2/full', \n",
    "                      save=5000,\n",
    "                      t=100000000,\n",
    "                      slab=False,\n",
    "                      model='HPS-T').write_hps_files()"
   ]
  },
  {
   "cell_type": "code",
   "execution_count": 208,
   "metadata": {},
   "outputs": [
    {
     "name": "stdout",
     "output_type": "stream",
     "text": [
      "╔═══════════════════════════════════════════════════════════════════╗\n",
      "║     Input files created at /home/adria/lmp-ref/full for CPEB4     ║\n",
      "║-------------------------------------------------------------------║\n",
      "║   PARAMETERS                                                      ║\n",
      "║       - Model = HPS-T                                             ║\n",
      "║       - Chains = 1                                                ║\n",
      "║       - Ionic Strength (mM) = 0.1                                 ║\n",
      "║       - Medium Permittivity = 80.0                                ║\n",
      "║       - Temperatures (K) = [300, 325, 350, 375]                   ║\n",
      "║       - HPS Scale = 1.0                                           ║\n",
      "╚═══════════════════════════════════════════════════════════════════╝\n"
     ]
    }
   ],
   "source": [
    "temperatures = [300,325,350,375]\n",
    "lmpsetup.LMPSetup(temperatures=temperatures,\n",
    "                  protein='CPEB4',\n",
    "                  debye=0.1,\n",
    "                  oliba_wd='/home/adria/lmp-ref/full', \n",
    "                  save=5000,\n",
    "                  t=100000000,\n",
    "                  slab=False,\n",
    "                  model='HPS-T').write_hps_files()"
   ]
  },
  {
   "cell_type": "code",
   "execution_count": 194,
   "metadata": {},
   "outputs": [
    {
     "name": "stdout",
     "output_type": "stream",
     "text": [
      "> Taking frames every 2 for a total of 10000 to avoid strong correlations\n"
     ]
    }
   ],
   "source": [
    "rg_h =[]\n",
    "temperatures = [300,325,350,375]\n",
    "for i, temp in enumerate(temperatures):\n",
    "    tr = md.load(f'/home/adria/irb/hoomd/csp2/full/trajectory_{temp}.dcd', top='/home/adria/irb/hoomd/csp2/full/topo.pdb')\n",
    "    rg_h.append(md.compute_rg(tr).mean()*100)\n",
    "rg_h = np.array(rg_h)\n",
    "rg_l = analysis.Analysis(oliba_wd='/home/adria/lmp-ref/full').rg()"
   ]
  },
  {
   "cell_type": "code",
   "execution_count": 195,
   "metadata": {},
   "outputs": [
    {
     "name": "stdout",
     "output_type": "stream",
     "text": [
      "[17.17280497 15.67061808 15.41776436 16.68127186]\n",
      "[17.22843141 15.5566841  15.4218347  16.62126677]\n"
     ]
    }
   ],
   "source": [
    "print(rg_h)\n",
    "print(rg_l.mean(axis=1))"
   ]
  },
  {
   "cell_type": "markdown",
   "metadata": {},
   "source": [
    "**Implementation is finally successful then ! Check some slabs**"
   ]
  },
  {
   "cell_type": "code",
   "execution_count": 526,
   "metadata": {},
   "outputs": [
    {
     "name": "stdout",
     "output_type": "stream",
     "text": [
      "[[606.87516154   0.84092491]\n",
      " [566.04171223   0.87041971]\n",
      " [522.16633199   0.89926338]\n",
      " [470.70401813   0.92942422]\n",
      " [411.63488876   0.95763001]\n",
      " [294.8525757    0.98720765]\n",
      " [164.30005766   1.00043906]\n",
      " [ 30.55450623   0.98815039]\n",
      " [ 12.14386544   0.95806576]\n",
      " [  5.89299561   0.92927676]\n",
      " [  2.68008032   0.90048446]\n",
      " [  2.50114321   0.87103439]\n",
      " [  0.80322882   0.84158598]]\n"
     ]
    },
    {
     "data": {
      "text/plain": [
       "[<matplotlib.lines.Line2D at 0x7f332b629e50>]"
      ]
     },
     "execution_count": 526,
     "metadata": {},
     "output_type": "execute_result"
    },
    {
     "data": {
      "image/png": "[encoded data removed]",
      "text/plain": [
       "<Figure size 432x288 with 1 Axes>"
      ]
     },
     "metadata": {
      "needs_background": "light"
     },
     "output_type": "display_data"
    }
   ],
   "source": [
    "s = hmd.HMD(md_dir='/home/adria/irb/hoomd/FUS')\n",
    "rho_d, rho_c = s.phase_diagram()\n",
    "exp_data = np.genfromtxt('/home/adria/documents/fus.txt', delimiter=',')\n",
    "print(exp_data)\n",
    "plt.plot(rho_c, s.temperatures, '--o')\n",
    "plt.plot(rho_d, s.temperatures, '--o')"
   ]
  },
  {
   "cell_type": "code",
   "execution_count": 528,
   "metadata": {},
   "outputs": [
    {
     "name": "stdout",
     "output_type": "stream",
     "text": [
      "> Taking frames every 1 for a total of 10000 to avoid strong correlations\n",
      "> Interface fit failed for negative z, returning 0 (no interface) !!!\n"
     ]
    },
    {
     "data": {
      "text/plain": [
       "[<matplotlib.lines.Line2D at 0x7f33789403d0>]"
      ]
     },
     "execution_count": 528,
     "metadata": {},
     "output_type": "execute_result"
    },
    {
     "data": {
      "image/png": "[encoded data removed]",
      "text/plain": [
       "<Figure size 432x288 with 1 Axes>"
      ]
     },
     "metadata": {
      "needs_background": "light"
     },
     "output_type": "display_data"
    }
   ],
   "source": [
    "fus = analysis.Analysis(oliba_wd='/home/adria/perdiux/prod/lammps/dignon/FUS_TEST')\n",
    "rho_c, rho_d = fus.phase_diagram()\n",
    "\n",
    "exp_data = np.genfromtxt('/home/adria/documents/fus.txt', delimiter=',')\n",
    "# plt.plot(rho_c*1660.54, fus.temperatures, '--o')\n",
    "plt.plot(rho_c, fus.temperatures, '--o')\n",
    "# plt.plot(rho_d*1660.54, fus.temperatures, '--o')\n",
    "plt.plot(rho_d, fus.temperatures, '--o')\n",
    "# plt.plot(exp_data[:,0],  exp_data[:,1]*344.4, '--o')"
   ]
  },
  {
   "cell_type": "markdown",
   "metadata": {},
   "source": [
    "### 2. KH testing <a id='2'></a>"
   ]
  },
  {
   "cell_type": "markdown",
   "metadata": {},
   "source": [
    "Check if both ways of implementing KH are equal :"
   ]
  },
  {
   "cell_type": "code",
   "execution_count": 216,
   "metadata": {},
   "outputs": [
    {
     "name": "stdout",
     "output_type": "stream",
     "text": [
      "╔═══════════════════════════════════════════════════════════════════════════════════════════╗\n",
      "║     Input files created at /home/adria/perdiux/prod/lammps/dignon/KH/hps_kh for CPEB4     ║\n",
      "║-------------------------------------------------------------------------------------------║\n",
      "║   PARAMETERS                                                                              ║\n",
      "║       - Model = KH-HPS                                                                    ║\n",
      "║       - Chains = 1                                                                        ║\n",
      "║       - Ionic Strength (mM) = 0.1                                                         ║\n",
      "║       - Medium Permittivity = 80.0                                                        ║\n",
      "║       - Temperatures (K) = [280. 320. 360. 400.]                                          ║\n",
      "║       - HPS Scale = 1.0                                                                   ║\n",
      "╚═══════════════════════════════════════════════════════════════════════════════════════════╝\n"
     ]
    }
   ],
   "source": [
    "temperatures = np.linspace(280,400,4)\n",
    "\n",
    "# KH as if HPS\n",
    "lmpsetup.LMPSetup(oliba_wd=f'/home/adria/perdiux/prod/lammps/dignon/KH/hps_kh',\n",
    "                      host=f'@perdiu35',\n",
    "                      protein='CPEB4',\n",
    "                      chains=1, \n",
    "                      model='KH-HPS',\n",
    "                      save=50000,\n",
    "                      t=int(1e8),\n",
    "                      processors=2,\n",
    "                      temperatures=temperatures,\n",
    "                      debye=0.1).write_hps_files()"
   ]
  },
  {
   "cell_type": "code",
   "execution_count": 204,
   "metadata": {},
   "outputs": [
    {
     "name": "stdout",
     "output_type": "stream",
     "text": [
      "╔════════════════════════════════════════════════════════════════════════════════════════════╗\n",
      "║     Input files created at /home/adria/perdiux/prod/lammps/dignon/KH/true_kh for CPEB4     ║\n",
      "║--------------------------------------------------------------------------------------------║\n",
      "║   PARAMETERS                                                                               ║\n",
      "║       - Model = KH                                                                         ║\n",
      "║       - Chains = 1                                                                         ║\n",
      "║       - Ionic Strength (mM) = 0.1                                                          ║\n",
      "║       - Medium Permittivity = 80.0                                                         ║\n",
      "║       - Temperatures (K) = [280. 320. 360. 400.]                                           ║\n",
      "║       - HPS Scale = 1.0                                                                    ║\n",
      "╚════════════════════════════════════════════════════════════════════════════════════════════╝\n",
      "╔═══════════════════════════════════════════════════════════════════════════════════════════╗\n",
      "║     Input files created at /home/adria/perdiux/prod/lammps/dignon/KH/hps_kh for CPEB4     ║\n",
      "║-------------------------------------------------------------------------------------------║\n",
      "║   PARAMETERS                                                                              ║\n",
      "║       - Model = KH-HPS                                                                    ║\n",
      "║       - Chains = 1                                                                        ║\n",
      "║       - Ionic Strength (mM) = 0.1                                                         ║\n",
      "║       - Medium Permittivity = 80.0                                                        ║\n",
      "║       - Temperatures (K) = [280. 320. 360. 400.]                                          ║\n",
      "║       - HPS Scale = 1.0                                                                   ║\n",
      "╚═══════════════════════════════════════════════════════════════════════════════════════════╝\n"
     ]
    }
   ],
   "source": [
    "temperatures = np.linspace(280,400,4)\n",
    "\n",
    "# Dignon out of the box\n",
    "lmpsetup.LMPSetup(oliba_wd=f'/home/adria/perdiux/prod/lammps/dignon/KH/true_kh',\n",
    "                      host=f'@perdiu35',\n",
    "                      protein='CPEB4',\n",
    "                      chains=1, \n",
    "                      model='KH',\n",
    "                      save=50000,\n",
    "                      t=int(1e8),\n",
    "                      processors=2,\n",
    "                      temperatures=temperatures,\n",
    "                      debye=0.1).write_hps_files()"
   ]
  },
  {
   "cell_type": "code",
   "execution_count": 261,
   "metadata": {},
   "outputs": [
    {
     "name": "stdout",
     "output_type": "stream",
     "text": [
      "> Taking frames every 1 for a total of 10000 to avoid strong correlations\n",
      "> Taking frames every 1 for a total of 10000 to avoid strong correlations\n"
     ]
    }
   ],
   "source": [
    "hps_kh = analysis.Analysis(oliba_wd='/home/adria/perdiux/prod/lammps/dignon/KH/hps_kh')\n",
    "true_kh = analysis.Analysis(oliba_wd='/home/adria/perdiux/prod/lammps/dignon/KH/true_kh')"
   ]
  },
  {
   "cell_type": "code",
   "execution_count": 263,
   "metadata": {},
   "outputs": [
    {
     "data": {
      "text/plain": [
       "array([22.21587016, 23.18452454, 24.18940826, 25.45412197])"
      ]
     },
     "execution_count": 263,
     "metadata": {},
     "output_type": "execute_result"
    }
   ],
   "source": [
    "hps_kh.rg().mean(axis=1)"
   ]
  },
  {
   "cell_type": "code",
   "execution_count": 264,
   "metadata": {},
   "outputs": [
    {
     "data": {
      "text/plain": [
       "array([22.22314147, 23.18144377, 24.18086114, 25.50792919])"
      ]
     },
     "execution_count": 264,
     "metadata": {},
     "output_type": "execute_result"
    }
   ],
   "source": [
    "true_kh.rg().mean(axis=1)"
   ]
  },
  {
   "cell_type": "markdown",
   "metadata": {},
   "source": [
    "**Good !**"
   ]
  },
  {
   "cell_type": "markdown",
   "metadata": {},
   "source": [
    "**For asyn :**"
   ]
  },
  {
   "cell_type": "code",
   "execution_count": 537,
   "metadata": {},
   "outputs": [
    {
     "name": "stdout",
     "output_type": "stream",
     "text": [
      "╔═══════════════════════════════════════════════════════════════════════════════════════════════╗\n",
      "║     Input files created at /home/adria/perdiux/prod/lammps/dignon/KH/asyn/hps_kh for ASYN     ║\n",
      "║-----------------------------------------------------------------------------------------------║\n",
      "║   PARAMETERS                                                                                  ║\n",
      "║       - Model = KH-HPS                                                                        ║\n",
      "║       - Chains = 1                                                                            ║\n",
      "║       - Ionic Strength (mM) = 0.1                                                             ║\n",
      "║       - Medium Permittivity = 80.0                                                            ║\n",
      "║       - Temperatures (K) = [300]                                                              ║\n",
      "║       - HPS Scale = 1.0                                                                       ║\n",
      "╚═══════════════════════════════════════════════════════════════════════════════════════════════╝\n",
      "╔════════════════════════════════════════════════════════════════════════════════════════════════╗\n",
      "║     Input files created at /home/adria/perdiux/prod/lammps/dignon/KH/asyn/true_kh for ASYN     ║\n",
      "║------------------------------------------------------------------------------------------------║\n",
      "║   PARAMETERS                                                                                   ║\n",
      "║       - Model = KH                                                                             ║\n",
      "║       - Chains = 1                                                                             ║\n",
      "║       - Ionic Strength (mM) = 0.1                                                              ║\n",
      "║       - Medium Permittivity = 80.0                                                             ║\n",
      "║       - Temperatures (K) = [300]                                                               ║\n",
      "║       - HPS Scale = 1.0                                                                        ║\n",
      "╚════════════════════════════════════════════════════════════════════════════════════════════════╝\n"
     ]
    }
   ],
   "source": [
    "# KH as if HPS\n",
    "r = lmpsetup.LMPSetup(oliba_wd=f'/home/adria/perdiux/prod/lammps/dignon/KH/asyn/hps_kh',\n",
    "                      host=f'@perdiu34',\n",
    "                      protein='ASYN',\n",
    "                      chains=1, \n",
    "                      model='KH-HPS',\n",
    "                      save=50000,\n",
    "                      t=int(1e8),\n",
    "                      processors=5,\n",
    "                      temperatures=[300],\n",
    "                      debye=0.1)\n",
    "r.lammps_ordering()\n",
    "r.del_missing_aas()\n",
    "r.write_hps_files()\n",
    "\n",
    "# Dignon out of the box\n",
    "s = lmpsetup.LMPSetup(oliba_wd=f'/home/adria/perdiux/prod/lammps/dignon/KH/asyn/true_kh',\n",
    "                      host=f'@perdiu34',\n",
    "                      protein='ASYN',\n",
    "                      chains=1, \n",
    "                      model='KH',\n",
    "                      save=50000,\n",
    "                      t=int(1e8),\n",
    "                      processors=5,\n",
    "                      temperatures=[300],\n",
    "                      debye=0.1)\n",
    "s.del_missing_aas()\n",
    "s.lammps_ordering()\n",
    "s.write_hps_files()"
   ]
  },
  {
   "cell_type": "code",
   "execution_count": 115,
   "metadata": {},
   "outputs": [
    {
     "name": "stdout",
     "output_type": "stream",
     "text": [
      "╔════════════════════════════════════════════════════════════════════════════════════════════╗\n",
      "║     Input files created at /home/adria/perdiux/prod/lammps/dignon/KH_test/kh for CPEB4     ║\n",
      "║--------------------------------------------------------------------------------------------║\n",
      "║   PARAMETERS                                                                               ║\n",
      "║       - Model = KH                                                                         ║\n",
      "║       - Chains = 1                                                                         ║\n",
      "║       - Ionic Strength (mM) = 0.1                                                          ║\n",
      "║       - Medium Permittivity = 80.0                                                         ║\n",
      "║       - Temperatures (K) = [280.         297.14285714 314.28571429 331.42857143 348.57142857\n",
      " 365.71428571 382.85714286 400.        ]    ║\n",
      "║       - HPS Scale = 1.0                                                                    ║\n",
      "╚════════════════════════════════════════════════════════════════════════════════════════════╝\n",
      "╔═════════════════════════════════════════════════════════════════════════════════════════════╗\n",
      "║     Input files created at /home/adria/perdiux/prod/lammps/dignon/KH_test/hps for CPEB4     ║\n",
      "║---------------------------------------------------------------------------------------------║\n",
      "║   PARAMETERS                                                                                ║\n",
      "║       - Model = HPS                                                                         ║\n",
      "║       - Chains = 1                                                                          ║\n",
      "║       - Ionic Strength (mM) = 0.1                                                           ║\n",
      "║       - Medium Permittivity = 80.0                                                          ║\n",
      "║       - Temperatures (K) = [280.         297.14285714 314.28571429 331.42857143 348.57142857\n",
      " 365.71428571 382.85714286 400.        ]    ║\n",
      "║       - HPS Scale = 1.0                                                                     ║\n",
      "╚═════════════════════════════════════════════════════════════════════════════════════════════╝\n"
     ]
    }
   ],
   "source": [
    "temperatures = np.linspace(280,400,4)\n",
    "\n",
    "# Dignon out of the box\n",
    "lmpsetup.LMPSetup(oliba_wd=f'/home/adria/perdiux/prod/lammps/dignon/KH/true_kh',\n",
    "                      host=f'@perdiu35',\n",
    "                      protein='CPEB4',\n",
    "                      chains=1, \n",
    "                      model='HPS',\n",
    "                      save=50000,\n",
    "                      t=int(1e8),\n",
    "                      processors=2,\n",
    "                      temperatures=temperatures,\n",
    "                      debye=0.1).write_hps_files()"
   ]
  },
  {
   "cell_type": "code",
   "execution_count": 531,
   "metadata": {},
   "outputs": [
    {
     "name": "stdout",
     "output_type": "stream",
     "text": [
      "> Taking frames every 1 for a total of 10000 to avoid strong correlations\n",
      "> Taking frames every 1 for a total of 10000 to avoid strong correlations\n",
      "> Taking frames every 1 for a total of 10000 to avoid strong correlations\n"
     ]
    }
   ],
   "source": [
    "asyn_hps_kh = analysis.Analysis(oliba_wd='/home/adria/perdiux/prod/lammps/dignon/KH/asyn/hps_kh')\n",
    "asyn_true_kh = analysis.Analysis(oliba_wd='/home/adria/perdiux/prod/lammps/dignon/KH/asyn/true_kh2')\n",
    "asyn_dig_kh = analysis.Analysis(oliba_wd='/home/adria/perdiux/prod/lammps/dignon/KH/asyn/dignon')"
   ]
  },
  {
   "cell_type": "code",
   "execution_count": 532,
   "metadata": {},
   "outputs": [
    {
     "name": "stdout",
     "output_type": "stream",
     "text": [
      "[17.50166791] [17.52189136] [17.43845833]\n"
     ]
    }
   ],
   "source": [
    "print(asyn_hps_kh.rg().mean(axis=1), asyn_true_kh.rg().mean(axis=1), asyn_dig_kh.rg().mean(axis=1))"
   ]
  },
  {
   "cell_type": "markdown",
   "metadata": {},
   "source": [
    "I assume this is ok, but improve !"
   ]
  },
  {
   "cell_type": "code",
   "execution_count": 419,
   "metadata": {},
   "outputs": [],
   "source": [
    "helper = analysis.Analysis(oliba_wd=None)"
   ]
  },
  {
   "cell_type": "code",
   "execution_count": 420,
   "metadata": {},
   "outputs": [
    {
     "name": "stdout",
     "output_type": "stream",
     "text": [
      "['A', 'C', 'D', 'E', 'F', 'G', 'H', 'I', 'K', 'L', 'M', 'N', 'P', 'Q', 'R', 'S', 'T', 'V', 'W', 'Y']\n"
     ]
    }
   ],
   "source": [
    "cols = list(helper.residue_dict.keys())\n",
    "cols.sort()\n",
    "print(cols)"
   ]
  },
  {
   "cell_type": "code",
   "execution_count": 421,
   "metadata": {},
   "outputs": [],
   "source": [
    "translator = {}\n",
    "for k in cols:\n",
    "    aa_3letters = helper.residue_dict[k][\"name\"]\n",
    "    translator[aa_3letters] = k"
   ]
  },
  {
   "cell_type": "code",
   "execution_count": 422,
   "metadata": {},
   "outputs": [],
   "source": [
    "import pandas as pd\n",
    "df = pd.DataFrame(index=cols, columns=cols)"
   ]
  },
  {
   "cell_type": "code",
   "execution_count": 423,
   "metadata": {},
   "outputs": [],
   "source": [
    "import os\n",
    "lambdas = {}\n",
    "with open('/home/adria/scripts/data/hps/real_kh.dat') as filein:\n",
    "    for line in filein:\n",
    "        line = line.split()\n",
    "        aa_i = translator[line[0]]\n",
    "        aa_j = translator[line[1]]\n",
    "        df[aa_i][aa_j] = line[2]\n",
    "        if aa_i != aa_j:\n",
    "            df[aa_j][aa_i] = line[2]        "
   ]
  },
  {
   "cell_type": "code",
   "execution_count": 425,
   "metadata": {},
   "outputs": [],
   "source": [
    "d = df.to_csv(sep=' ')\n",
    "with open('/home/adria/scripts/data/hps/kh_f.dat', 'w+') as fin:\n",
    "    fin.write(d)"
   ]
  },
  {
   "cell_type": "code",
   "execution_count": 426,
   "metadata": {},
   "outputs": [
    {
     "name": "stdout",
     "output_type": "stream",
     "text": [
      "╔═════════════════════════════════════════════════════════════════════════════════════════════════╗\n",
      "║     Input files created at /home/adria/perdiux/prod/lammps/dignon/KH/asyn/true_kh2 for ASYN     ║\n",
      "║-------------------------------------------------------------------------------------------------║\n",
      "║   PARAMETERS                                                                                    ║\n",
      "║       - Model = KH                                                                              ║\n",
      "║       - Chains = 1                                                                              ║\n",
      "║       - Ionic Strength (mM) = 0.1                                                               ║\n",
      "║       - Medium Permittivity = 80.0                                                              ║\n",
      "║       - Temperatures (K) = [300]                                                                ║\n",
      "║       - HPS Scale = 1.0                                                                         ║\n",
      "╚═════════════════════════════════════════════════════════════════════════════════════════════════╝\n"
     ]
    }
   ],
   "source": [
    "# KH as if HPS\n",
    "lmpsetup.LMPSetup(oliba_wd=f'/home/adria/perdiux/prod/lammps/dignon/KH/asyn/hps_kh',\n",
    "                      host=f'@perdiu34',\n",
    "                      protein='ASYN',\n",
    "                      chains=1, \n",
    "                      model='KH-HPS',\n",
    "                      save=50000,\n",
    "                      t=int(1e8),\n",
    "                      processors=5,\n",
    "                      temperatures=[300],\n",
    "                      debye=0.1).write_hps_files()"
   ]
  },
  {
   "cell_type": "markdown",
   "metadata": {},
   "source": [
    "### 3. Slab testing <a id='3'></a>"
   ]
  },
  {
   "cell_type": "code",
   "execution_count": 221,
   "metadata": {},
   "outputs": [
    {
     "name": "stdout",
     "output_type": "stream",
     "text": [
      "> Taking frames every 1 for a total of 10000 to avoid strong correlations\n"
     ]
    }
   ],
   "source": [
    "fus = analysis.Analysis(oliba_wd='/home/adria/perdiux/prod/lammps/dignon/FUS_TEST')"
   ]
  },
  {
   "cell_type": "code",
   "execution_count": 479,
   "metadata": {},
   "outputs": [
    {
     "name": "stdout",
     "output_type": "stream",
     "text": [
      "> Interface fit failed for negative z, returning 0 (no interface) !!!\n",
      "605.9212140179975 0.7\n",
      "> Interface fit failed for negative z, returning 0 (no interface) !!!\n"
     ]
    },
    {
     "ename": "KeyboardInterrupt",
     "evalue": "",
     "output_type": "error",
     "traceback": [
      "\u001b[0;31m---------------------------------------------------------------------------\u001b[0m",
      "\u001b[0;31mKeyboardInterrupt\u001b[0m                         Traceback (most recent call last)",
      "\u001b[0;32m<ipython-input-479-4353df3e45ec>\u001b[0m in \u001b[0;36m<module>\u001b[0;34m\u001b[0m\n\u001b[1;32m      3\u001b[0m \u001b[0mexp_data\u001b[0m \u001b[0;34m=\u001b[0m \u001b[0mnp\u001b[0m\u001b[0;34m.\u001b[0m\u001b[0mgenfromtxt\u001b[0m\u001b[0;34m(\u001b[0m\u001b[0;34m'/home/adria/documents/fus.txt'\u001b[0m\u001b[0;34m,\u001b[0m \u001b[0mdelimiter\u001b[0m\u001b[0;34m=\u001b[0m\u001b[0;34m','\u001b[0m\u001b[0;34m)\u001b[0m\u001b[0;34m\u001b[0m\u001b[0;34m\u001b[0m\u001b[0m\n\u001b[1;32m      4\u001b[0m \u001b[0;32mfor\u001b[0m \u001b[0mcutoff\u001b[0m \u001b[0;32min\u001b[0m \u001b[0mcutoffs\u001b[0m\u001b[0;34m:\u001b[0m\u001b[0;34m\u001b[0m\u001b[0;34m\u001b[0m\u001b[0m\n\u001b[0;32m----> 5\u001b[0;31m     \u001b[0mrho_d\u001b[0m\u001b[0;34m,\u001b[0m \u001b[0mrho_c\u001b[0m \u001b[0;34m=\u001b[0m \u001b[0mfus\u001b[0m\u001b[0;34m.\u001b[0m\u001b[0mphase_diagram\u001b[0m\u001b[0;34m(\u001b[0m\u001b[0mcutoff\u001b[0m\u001b[0;34m=\u001b[0m\u001b[0mcutoff\u001b[0m\u001b[0;34m)\u001b[0m\u001b[0;34m\u001b[0m\u001b[0;34m\u001b[0m\u001b[0m\n\u001b[0m\u001b[1;32m      6\u001b[0m     \u001b[0md\u001b[0m \u001b[0;34m=\u001b[0m \u001b[0mrho_c\u001b[0m\u001b[0;34m[\u001b[0m\u001b[0;36m0\u001b[0m\u001b[0;34m]\u001b[0m\u001b[0;34m/\u001b[0m\u001b[0mcnt\u001b[0m\u001b[0;34m.\u001b[0m\u001b[0mAvogadro\u001b[0m\u001b[0;34m*\u001b[0m\u001b[0;36m10\u001b[0m\u001b[0;34m**\u001b[0m\u001b[0;36m30\u001b[0m\u001b[0;34m/\u001b[0m\u001b[0;36m10\u001b[0m\u001b[0;34m**\u001b[0m\u001b[0;36m3\u001b[0m\u001b[0;34m\u001b[0m\u001b[0;34m\u001b[0m\u001b[0m\n\u001b[1;32m      7\u001b[0m     \u001b[0mplt\u001b[0m\u001b[0;34m.\u001b[0m\u001b[0mplot\u001b[0m\u001b[0;34m(\u001b[0m\u001b[0mrho_c\u001b[0m\u001b[0;34m*\u001b[0m\u001b[0;36m1660.54\u001b[0m\u001b[0;34m,\u001b[0m \u001b[0mfus\u001b[0m\u001b[0;34m.\u001b[0m\u001b[0mtemperatures\u001b[0m\u001b[0;34m,\u001b[0m \u001b[0;34m'--o'\u001b[0m\u001b[0;34m)\u001b[0m\u001b[0;34m\u001b[0m\u001b[0;34m\u001b[0m\u001b[0m\n",
      "\u001b[0;32m~/scripts/lammps/lammps/analysis.py\u001b[0m in \u001b[0;36mphase_diagram\u001b[0;34m(self, cutoff)\u001b[0m\n\u001b[1;32m   1012\u001b[0m         \u001b[0mcondensed_densities\u001b[0m \u001b[0;34m=\u001b[0m \u001b[0;34m[\u001b[0m\u001b[0;34m]\u001b[0m\u001b[0;34m\u001b[0m\u001b[0;34m\u001b[0m\u001b[0m\n\u001b[1;32m   1013\u001b[0m         \u001b[0;32mfor\u001b[0m \u001b[0mT\u001b[0m \u001b[0;32min\u001b[0m \u001b[0mrange\u001b[0m\u001b[0;34m(\u001b[0m\u001b[0mlen\u001b[0m\u001b[0;34m(\u001b[0m\u001b[0mself\u001b[0m\u001b[0;34m.\u001b[0m\u001b[0mtemperatures\u001b[0m\u001b[0;34m)\u001b[0m\u001b[0;34m)\u001b[0m\u001b[0;34m:\u001b[0m\u001b[0;34m\u001b[0m\u001b[0;34m\u001b[0m\u001b[0m\n\u001b[0;32m-> 1014\u001b[0;31m             \u001b[0mz\u001b[0m\u001b[0;34m,\u001b[0m \u001b[0mrho_z\u001b[0m \u001b[0;34m=\u001b[0m \u001b[0mself\u001b[0m\u001b[0;34m.\u001b[0m\u001b[0mdensity_profile\u001b[0m\u001b[0;34m(\u001b[0m\u001b[0mT\u001b[0m\u001b[0;34m=\u001b[0m\u001b[0mT\u001b[0m\u001b[0;34m,\u001b[0m \u001b[0mnoise\u001b[0m\u001b[0;34m=\u001b[0m\u001b[0;32mFalse\u001b[0m\u001b[0;34m)\u001b[0m\u001b[0;34m\u001b[0m\u001b[0;34m\u001b[0m\u001b[0m\n\u001b[0m\u001b[1;32m   1015\u001b[0m             \u001b[0;31m# z_fit, rho_fit, tanh_fit, interface_pos = self.interface_position(rho_z=rho_z.mean(axis=0), slab_bins=z)\u001b[0m\u001b[0;34m\u001b[0m\u001b[0;34m\u001b[0m\u001b[0;34m\u001b[0m\u001b[0m\n\u001b[1;32m   1016\u001b[0m             \u001b[0minterface\u001b[0m \u001b[0;34m=\u001b[0m \u001b[0mself\u001b[0m\u001b[0;34m.\u001b[0m\u001b[0minterface_position\u001b[0m\u001b[0;34m(\u001b[0m\u001b[0mrho_z\u001b[0m\u001b[0;34m=\u001b[0m\u001b[0mrho_z\u001b[0m\u001b[0;34m.\u001b[0m\u001b[0mmean\u001b[0m\u001b[0;34m(\u001b[0m\u001b[0maxis\u001b[0m\u001b[0;34m=\u001b[0m\u001b[0;36m0\u001b[0m\u001b[0;34m)\u001b[0m\u001b[0;34m,\u001b[0m \u001b[0mz\u001b[0m\u001b[0;34m=\u001b[0m\u001b[0mz\u001b[0m\u001b[0;34m,\u001b[0m \u001b[0mcutoff\u001b[0m\u001b[0;34m=\u001b[0m\u001b[0mcutoff\u001b[0m\u001b[0;34m)\u001b[0m\u001b[0;34m\u001b[0m\u001b[0;34m\u001b[0m\u001b[0m\n",
      "\u001b[0;32m~/scripts/lammps/lammps/analysis.py\u001b[0m in \u001b[0;36mdensity_profile\u001b[0;34m(self, T, noise)\u001b[0m\n\u001b[1;32m    919\u001b[0m             \u001b[0;32mreturn\u001b[0m \u001b[0mnp\u001b[0m\u001b[0;34m.\u001b[0m\u001b[0marray\u001b[0m\u001b[0;34m(\u001b[0m\u001b[0mbins_f\u001b[0m\u001b[0;34m)\u001b[0m\u001b[0;34m,\u001b[0m \u001b[0mnp\u001b[0m\u001b[0;34m.\u001b[0m\u001b[0marray\u001b[0m\u001b[0;34m(\u001b[0m\u001b[0mxbins\u001b[0m\u001b[0;34m)\u001b[0m\u001b[0;34m\u001b[0m\u001b[0;34m\u001b[0m\u001b[0m\n\u001b[1;32m    920\u001b[0m \u001b[0;34m\u001b[0m\u001b[0m\n\u001b[0;32m--> 921\u001b[0;31m         \u001b[0mxa\u001b[0m\u001b[0;34m,\u001b[0m \u001b[0mslab_bins\u001b[0m \u001b[0;34m=\u001b[0m \u001b[0mbin_coms\u001b[0m\u001b[0;34m(\u001b[0m\u001b[0mbin_size\u001b[0m\u001b[0;34m=\u001b[0m\u001b[0;36m16\u001b[0m\u001b[0;34m)\u001b[0m\u001b[0;34m\u001b[0m\u001b[0;34m\u001b[0m\u001b[0m\n\u001b[0m\u001b[1;32m    922\u001b[0m \u001b[0;34m\u001b[0m\u001b[0m\n\u001b[1;32m    923\u001b[0m         \u001b[0mn_lags\u001b[0m \u001b[0;34m=\u001b[0m \u001b[0mmath\u001b[0m\u001b[0;34m.\u001b[0m\u001b[0mceil\u001b[0m\u001b[0;34m(\u001b[0m\u001b[0mlen\u001b[0m\u001b[0;34m(\u001b[0m\u001b[0mslab_bins\u001b[0m\u001b[0;34m)\u001b[0m \u001b[0;34m/\u001b[0m \u001b[0;36m2\u001b[0m\u001b[0;34m)\u001b[0m\u001b[0;34m\u001b[0m\u001b[0;34m\u001b[0m\u001b[0m\n",
      "\u001b[0;32m~/scripts/lammps/lammps/analysis.py\u001b[0m in \u001b[0;36mbin_coms\u001b[0;34m(bin_size)\u001b[0m\n\u001b[1;32m    912\u001b[0m                 \u001b[0mtf\u001b[0m \u001b[0;34m=\u001b[0m \u001b[0mtest\u001b[0m\u001b[0;34m[\u001b[0m\u001b[0mframe\u001b[0m\u001b[0;34m,\u001b[0m \u001b[0;34m:\u001b[0m\u001b[0;34m]\u001b[0m\u001b[0;34m\u001b[0m\u001b[0;34m\u001b[0m\u001b[0m\n\u001b[1;32m    913\u001b[0m                 \u001b[0;32mfor\u001b[0m \u001b[0mz\u001b[0m \u001b[0;32min\u001b[0m \u001b[0mxbins\u001b[0m\u001b[0;34m:\u001b[0m\u001b[0;34m\u001b[0m\u001b[0;34m\u001b[0m\u001b[0m\n\u001b[0;32m--> 914\u001b[0;31m                     \u001b[0mll\u001b[0m \u001b[0;34m=\u001b[0m \u001b[0mlen\u001b[0m\u001b[0;34m(\u001b[0m\u001b[0mtf\u001b[0m\u001b[0;34m[\u001b[0m\u001b[0mnp\u001b[0m\u001b[0;34m.\u001b[0m\u001b[0mwhere\u001b[0m\u001b[0;34m(\u001b[0m\u001b[0;34m(\u001b[0m\u001b[0mtf\u001b[0m \u001b[0;34m>\u001b[0m \u001b[0mz\u001b[0m\u001b[0;34m)\u001b[0m \u001b[0;34m&\u001b[0m \u001b[0;34m(\u001b[0m\u001b[0mtf\u001b[0m \u001b[0;34m<\u001b[0m \u001b[0;34m(\u001b[0m\u001b[0mz\u001b[0m \u001b[0;34m+\u001b[0m \u001b[0mbin_size\u001b[0m\u001b[0;34m)\u001b[0m\u001b[0;34m)\u001b[0m\u001b[0;34m)\u001b[0m\u001b[0;34m]\u001b[0m\u001b[0;34m)\u001b[0m\u001b[0;34m\u001b[0m\u001b[0;34m\u001b[0m\u001b[0m\n\u001b[0m\u001b[1;32m    915\u001b[0m                     \u001b[0;31m# TODO : STRONG ASSUMPTION\u001b[0m\u001b[0;34m\u001b[0m\u001b[0;34m\u001b[0m\u001b[0;34m\u001b[0m\u001b[0m\n\u001b[1;32m    916\u001b[0m                     \u001b[0mbins\u001b[0m\u001b[0;34m.\u001b[0m\u001b[0mappend\u001b[0m\u001b[0;34m(\u001b[0m\u001b[0mll\u001b[0m \u001b[0;34m/\u001b[0m \u001b[0mbin_size\u001b[0m\u001b[0;34m)\u001b[0m\u001b[0;34m\u001b[0m\u001b[0;34m\u001b[0m\u001b[0m\n",
      "\u001b[0;31mKeyboardInterrupt\u001b[0m: "
     ]
    },
    {
     "data": {
      "image/png": "[encoded data removed]",
      "text/plain": [
       "<Figure size 432x288 with 1 Axes>"
      ]
     },
     "metadata": {
      "needs_background": "light"
     },
     "output_type": "display_data"
    }
   ],
   "source": [
    "rhos = []\n",
    "cutoffs = np.linspace(0.7,1,10)\n",
    "exp_data = np.genfromtxt('/home/adria/documents/fus.txt', delimiter=',')\n",
    "for cutoff in cutoffs:\n",
    "    rho_d, rho_c = fus.phase_diagram(cutoff=cutoff)\n",
    "    d = rho_c[0]/cnt.Avogadro*10**30/10**3\n",
    "    plt.plot(rho_c*1660.54, fus.temperatures, '--o')\n",
    "    plt.plot(rho_d*1660.54, fus.temperatures, '--o')\n",
    "    plt.plot(exp_data[:,0],  exp_data[:,1]*344.4, '--o')\n",
    "    print(d, cutoff)\n",
    "    rhos.append(d)"
   ]
  },
  {
   "cell_type": "code",
   "execution_count": 480,
   "metadata": {},
   "outputs": [
    {
     "data": {
      "text/plain": [
       "[<matplotlib.lines.Line2D at 0x7f334dd37250>]"
      ]
     },
     "execution_count": 480,
     "metadata": {},
     "output_type": "execute_result"
    },
    {
     "data": {
      "image/png": "[encoded data removed]",
      "text/plain": [
       "<Figure size 432x288 with 1 Axes>"
      ]
     },
     "metadata": {
      "needs_background": "light"
     },
     "output_type": "display_data"
    }
   ],
   "source": [
    "fus = analysis.Analysis(oliba_wd='/home/adria/perdiux/prod/lammps/dignon/FUS_TEST')\n",
    "\n",
    "exp_data = np.genfromtxt('/home/adria/documents/fus.txt', delimiter=',')\n",
    "plt.plot(rho_c*1660.54, fus.temperatures, '--o')\n",
    "plt.plot(rho_d*1660.54, fus.temperatures, '--o')\n",
    "plt.plot(exp_data[:,0],  exp_data[:,1]*344.4, '--o')"
   ]
  },
  {
   "cell_type": "markdown",
   "metadata": {},
   "source": [
    "Let's try for FUS, using NPT-Dignon and my NVT:"
   ]
  },
  {
   "cell_type": "code",
   "execution_count": 299,
   "metadata": {},
   "outputs": [
    {
     "name": "stdout",
     "output_type": "stream",
     "text": [
      "╔═══════════════════════════════════════════════════════════════════════╗\n",
      "║     Input files created at /home/adria/SLAB-TEST/FUS/MINE for FUS     ║\n",
      "║-----------------------------------------------------------------------║\n",
      "║   PARAMETERS                                                          ║\n",
      "║       - Model = HPS                                                   ║\n",
      "║       - Chains = 100                                                  ║\n",
      "║       - Ionic Strength (mM) = 0.1                                     ║\n",
      "║       - Medium Permittivity = 80.0                                    ║\n",
      "║       - Temperatures (K) = [300]                                      ║\n",
      "║       - HPS Scale = 1.0                                               ║\n",
      "╚═══════════════════════════════════════════════════════════════════════╝\n"
     ]
    }
   ],
   "source": [
    "lmpsetup.LMPSetup(oliba_wd=f'/home/adria/SLAB-TEST/FUS/MINE',\n",
    "                      protein='FUS',\n",
    "                      chains=100, \n",
    "                      model='HPS',\n",
    "                      save=500,\n",
    "                      t=int(10000),\n",
    "                      slab=True,\n",
    "                      use_random=True,\n",
    "                      processors=2,\n",
    "                      temperatures=[300],\n",
    "                      debye=0.1).write_hps_files(qsub=False)"
   ]
  },
  {
   "cell_type": "markdown",
   "metadata": {},
   "source": [
    "-> HMD"
   ]
  },
  {
   "cell_type": "code",
   "execution_count": 530,
   "metadata": {},
   "outputs": [],
   "source": [
    "# temperatures_FUS = np.array(plot_data)[:,1]*344.4\n",
    "temperatures_FUS = [290, 300, 310, 320]\n",
    "\n",
    "for temp in temperatures_FUS:\n",
    "    hmdsetup.HMDSetup(oliba_wd=f'/home/adria/irb/hoomd/FUS',\n",
    "                          protein='FUS',\n",
    "                          chains=100, \n",
    "                          model='HPS',\n",
    "                          save=50000,\n",
    "                          t=int(1e9),\n",
    "                          slab=True,\n",
    "                          use_random=True,\n",
    "                          temperature=temp,\n",
    "                          debye=0.1).write_hps_files()"
   ]
  }
 ],
 "metadata": {
  "kernelspec": {
   "display_name": "Python 3",
   "language": "python",
   "name": "python3"
  },
  "language_info": {
   "codemirror_mode": {
    "name": "ipython",
    "version": 3
   },
   "file_extension": ".py",
   "mimetype": "text/x-python",
   "name": "python",
   "nbconvert_exporter": "python",
   "pygments_lexer": "ipython3",
   "version": "3.7.4"
  }
 },
 "nbformat": 4,
 "nbformat_minor": 2
}
