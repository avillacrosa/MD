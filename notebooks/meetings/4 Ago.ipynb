{
 "cells": [
  {
   "cell_type": "code",
   "execution_count": 3,
   "metadata": {},
   "outputs": [],
   "source": [
    "%load_ext autoreload\n",
    "%autoreload 2\n",
    "%matplotlib inline\n",
    "\n",
    "import lmpsetup\n",
    "import hmdsetup\n",
    "\n",
    "import lmp\n",
    "import hmd\n",
    "\n",
    "import numpy as np\n",
    "import matplotlib.pyplot as plt\n",
    "import analysis\n",
    "\n",
    "import scipy.constants as cnt\n",
    "\n",
    "import shutil\n",
    "import os\n",
    "import mdtraj as md\n",
    "import statsmodels.tsa.stattools\n",
    "import MDAnalysis.analysis as mda\n",
    "import scipy\n",
    "from matplotlib.lines import Line2D\n",
    "\n",
    "WT_COL='darkblue'\n",
    "D7_COL='royalblue'\n",
    "\n",
    "D4_COL = 'red'\n",
    "D12_COL = 'orange'"
   ]
  },
  {
   "cell_type": "code",
   "execution_count": 52,
   "metadata": {},
   "outputs": [],
   "source": [
    "t = md.load('/home/adria/perdiux/electro_test/traj100.dcd', top='/home/adria/perdiux/electro_test/topo.pdb')"
   ]
  },
  {
   "cell_type": "code",
   "execution_count": 53,
   "metadata": {},
   "outputs": [
    {
     "data": {
      "text/plain": [
       "<mdtraj.Trajectory with 100 frames, 448 atoms, 448 residues, and unitcells at 0x7f7af3b64b50>"
      ]
     },
     "execution_count": 53,
     "metadata": {},
     "output_type": "execute_result"
    }
   ],
   "source": [
    "t"
   ]
  },
  {
   "cell_type": "code",
   "execution_count": 51,
   "metadata": {},
   "outputs": [],
   "source": [
    "t[:100].save_xtc('/home/adria/perdiux/electro_test/traj100.xtc')\n",
    "t[:100].save_dcd('/home/adria/perdiux/electro_test/traj100.dcd')"
   ]
  },
  {
   "cell_type": "code",
   "execution_count": 50,
   "metadata": {},
   "outputs": [
    {
     "data": {
      "text/plain": [
       "array([     0.,  10000.,  20000.,  30000.,  40000.,  50000.,  60000.,\n",
       "        70000.,  80000.,  90000., 100000., 110000., 120000., 130000.,\n",
       "       140000., 150000., 160000., 170000., 180000., 190000., 200000.,\n",
       "       210000., 220000., 230000., 240000., 250000., 260000., 270000.,\n",
       "       280000., 290000., 300000., 310000., 320000., 330000., 340000.,\n",
       "       350000., 360000., 370000., 380000., 390000., 400000., 410000.,\n",
       "       420000., 430000., 440000., 450000., 460000., 470000., 480000.,\n",
       "       490000., 500000., 510000., 520000., 530000., 540000., 550000.,\n",
       "       560000., 570000., 580000., 590000., 600000., 610000., 620000.,\n",
       "       630000., 640000., 650000., 660000., 670000., 680000., 690000.,\n",
       "       700000., 710000., 720000., 730000., 740000., 750000., 760000.,\n",
       "       770000., 780000., 790000., 800000., 810000., 820000., 830000.,\n",
       "       840000., 850000., 860000., 870000., 880000., 890000., 900000.,\n",
       "       910000., 920000., 930000., 940000., 950000., 960000., 970000.,\n",
       "       980000., 990000.])"
      ]
     },
     "execution_count": 50,
     "metadata": {},
     "output_type": "execute_result"
    }
   ],
   "source": [
    "np.genfromtxt('/home/adria/perdiux/electro_test/log_3.lammps', skip_header=True)[:,0]"
   ]
  },
  {
   "cell_type": "markdown",
   "metadata": {},
   "source": [
    "## Summary\n",
    "\n",
    "**[1. HPS Model](#1)**\n",
    "\n",
    "**[2. HPS-T Model](#2)**\n",
    "\n",
    "**[3. Reweighting of eps-lambd](#3)**"
   ]
  },
  {
   "cell_type": "markdown",
   "metadata": {},
   "source": [
    "T-RANGE = 280->400"
   ]
  },
  {
   "cell_type": "code",
   "execution_count": 5,
   "metadata": {},
   "outputs": [],
   "source": [
    "temperatures = np.linspace(280,400,8)"
   ]
  },
  {
   "cell_type": "markdown",
   "metadata": {},
   "source": [
    "### 1. HPS Model <a id='1'></a>"
   ]
  },
  {
   "cell_type": "code",
   "execution_count": 7,
   "metadata": {
    "collapsed": true
   },
   "outputs": [
    {
     "name": "stdout",
     "output_type": "stream",
     "text": [
      "╔═══════════════════════════════════════════════════════════════════════════════════════╗\n",
      "║     Input files created at /home/adria/perdiux/prod/lammps/final/HPS/WT for CPEB4     ║\n",
      "║---------------------------------------------------------------------------------------║\n",
      "║   PARAMETERS                                                                          ║\n",
      "║       - Model = HPS                                                                   ║\n",
      "║       - Chains = 1                                                                    ║\n",
      "║       - Ionic Strength (mM) = 0.1                                                     ║\n",
      "║       - Medium Permittivity = 80.0                                                    ║\n",
      "║       - Temperatures (K) = [280.         297.14285714 314.28571429 331.42857143 348.57142857\n",
      " 365.71428571 382.85714286 400.        ]    ║\n",
      "║       - HPS Scale = 1.0                                                               ║\n",
      "╚═══════════════════════════════════════════════════════════════════════════════════════╝\n",
      "╔══════════════════════════════════════════════════════════════════════════════════════════╗\n",
      "║     Input files created at /home/adria/perdiux/prod/lammps/final/HPS/D4 for CPEB4_D4     ║\n",
      "║------------------------------------------------------------------------------------------║\n",
      "║   PARAMETERS                                                                             ║\n",
      "║       - Model = HPS                                                                      ║\n",
      "║       - Chains = 1                                                                       ║\n",
      "║       - Ionic Strength (mM) = 0.1                                                        ║\n",
      "║       - Medium Permittivity = 80.0                                                       ║\n",
      "║       - Temperatures (K) = [280.         297.14285714 314.28571429 331.42857143 348.57142857\n",
      " 365.71428571 382.85714286 400.        ]    ║\n",
      "║       - HPS Scale = 1.0                                                                  ║\n",
      "╚══════════════════════════════════════════════════════════════════════════════════════════╝\n"
     ]
    }
   ],
   "source": [
    "lmpsetup.LMPSetup(oliba_wd='/home/adria/perdiux/prod/lammps/final/HPS/WT',\n",
    "                  protein='CPEB4',\n",
    "                  debye=0.1,\n",
    "                  temperatures=temperatures,\n",
    "                  model='HPS',\n",
    "                  save=10000,\n",
    "                  t=int(1e9),\n",
    "                  processors=3,\n",
    "                  host=\"@perdiu32\").write_hps_files()\n",
    "\n",
    "lmpsetup.LMPSetup(oliba_wd='/home/adria/perdiux/prod/lammps/final/HPS/D4',\n",
    "                  protein='CPEB4_D4',\n",
    "                  debye=0.1,\n",
    "                  temperatures=temperatures,\n",
    "                  model='HPS',\n",
    "                  save=10000,\n",
    "                  processors=3,\n",
    "                  t=int(1e9),\n",
    "                  host=\"@perdiu30\").write_hps_files()"
   ]
  },
  {
   "cell_type": "code",
   "execution_count": 8,
   "metadata": {
    "collapsed": true
   },
   "outputs": [
    {
     "name": "stdout",
     "output_type": "stream",
     "text": [
      "╔═════════════════════════════════════════════════════════════════════════════════════════════╗\n",
      "║     Input files created at /home/adria/perdiux/prod/lammps/final/HPS/7D_WT for 7D_CPEB4     ║\n",
      "║---------------------------------------------------------------------------------------------║\n",
      "║   PARAMETERS                                                                                ║\n",
      "║       - Model = HPS                                                                         ║\n",
      "║       - Chains = 1                                                                          ║\n",
      "║       - Ionic Strength (mM) = 0.1                                                           ║\n",
      "║       - Medium Permittivity = 80.0                                                          ║\n",
      "║       - Temperatures (K) = [280.         297.14285714 314.28571429 331.42857143 348.57142857\n",
      " 365.71428571 382.85714286 400.        ]    ║\n",
      "║       - HPS Scale = 1.0                                                                     ║\n",
      "╚═════════════════════════════════════════════════════════════════════════════════════════════╝\n",
      "╔══════════════════════════════════════════════════════════════════════════════════════════════════╗\n",
      "║     Input files created at /home/adria/perdiux/prod/lammps/final/HPS/12D_D4 for 12D_CPEB4_D4     ║\n",
      "║--------------------------------------------------------------------------------------------------║\n",
      "║   PARAMETERS                                                                                     ║\n",
      "║       - Model = HPS                                                                              ║\n",
      "║       - Chains = 1                                                                               ║\n",
      "║       - Ionic Strength (mM) = 0.1                                                                ║\n",
      "║       - Medium Permittivity = 80.0                                                               ║\n",
      "║       - Temperatures (K) = [280.         297.14285714 314.28571429 331.42857143 348.57142857\n",
      " 365.71428571 382.85714286 400.        ]    ║\n",
      "║       - HPS Scale = 1.0                                                                          ║\n",
      "╚══════════════════════════════════════════════════════════════════════════════════════════════════╝\n"
     ]
    }
   ],
   "source": [
    "lmpsetup.LMPSetup(oliba_wd='/home/adria/perdiux/prod/lammps/final/HPS/7D_WT',\n",
    "                  protein='7D_CPEB4',\n",
    "                  debye=0.1,\n",
    "                  temperatures=temperatures,\n",
    "                  model='HPS',\n",
    "                  save=10000,\n",
    "                  t=int(1e9),\n",
    "                  processors=3,\n",
    "                  host=\"@perdiu25\").write_hps_files()\n",
    "\n",
    "lmpsetup.LMPSetup(oliba_wd='/home/adria/perdiux/prod/lammps/final/HPS/12D_D4',\n",
    "                  protein='12D_CPEB4_D4',\n",
    "                  debye=0.1,\n",
    "                  temperatures=temperatures,\n",
    "                  model='HPS',\n",
    "                  save=10000,\n",
    "                  processors=3,\n",
    "                  t=int(1e9),\n",
    "                  host=\"@perdiu27\").write_hps_files()"
   ]
  },
  {
   "cell_type": "code",
   "execution_count": 49,
   "metadata": {},
   "outputs": [
    {
     "name": "stdout",
     "output_type": "stream",
     "text": [
      "> Run Completed at 78.41% for CPEB4_alpha. Ran 784120000 steps for a total of 78413 frames \n",
      "> Taking frames every 2 for a total of [39734, 39066, 46200, 49851, 49851, 49851, 49851, 49851] to avoid strong correlations\n",
      "> Run Completed at 73.43% for CPEB4_D4. Ran 734330000 steps for a total of 73434 frames \n",
      "> Taking frames every 2 for a total of [36569, 38488, 41476, 44108, 49851, 49851, 49851, 49851] to avoid strong correlations\n",
      "> Run Completed at 70.50% for 7D_CPEB4. Ran 704980000 steps for a total of 70499 frames \n",
      "> Taking frames every 2 for a total of [35102, 36768, 36829, 44241, 49851, 49851, 49851, 49851] to avoid strong correlations\n",
      "> Run Completed at 68.80% for 12D_CPEB4_D4. Ran 688010000 steps for a total of 68802 frames \n",
      "> Taking frames every 2 for a total of [34255, 36853, 40038, 43166, 49851, 49851, 49851, 49851] to avoid strong correlations\n"
     ]
    }
   ],
   "source": [
    "wt = lmp.LMP(md_dir='/home/adria/perdiux/prod/lammps/final/HPS/WT', every=2)\n",
    "d4 = lmp.LMP(md_dir='/home/adria/perdiux/prod/lammps/final/HPS/D4', every=2)\n",
    "d7 = lmp.LMP(md_dir='/home/adria/perdiux/prod/lammps/final/HPS/7D_WT', every=2)\n",
    "d12 = lmp.LMP(md_dir='/home/adria/perdiux/prod/lammps/final/HPS/12D_D4', every=2)"
   ]
  },
  {
   "cell_type": "code",
   "execution_count": 50,
   "metadata": {},
   "outputs": [
    {
     "data": {
      "text/plain": [
       "<matplotlib.legend.Legend at 0x7f48ef392ed0>"
      ]
     },
     "execution_count": 50,
     "metadata": {},
     "output_type": "execute_result"
    },
    {
     "data": {
      "image/png": "[encoded data removed]",
      "text/plain": [
       "<Figure size 576x432 with 1 Axes>"
      ]
     },
     "metadata": {
      "needs_background": "light"
     },
     "output_type": "display_data"
    }
   ],
   "source": [
    "plt.figure(figsize=(8,6))\n",
    "rg = wt.rg()\n",
    "plt.errorbar(wt.temperatures, rg[0], yerr=rg[1], label='WT', color='blue')\n",
    "rg = d4.rg()\n",
    "plt.errorbar(d4.temperatures, rg[0], yerr=rg[1], label='D4', color='red')\n",
    "plt.axhline(wt.dig_rg(), ls='--', color='black', alpha=0.5)\n",
    "plt.axhline(d4.dig_rg(), ls='--', color='black', alpha=0.5)\n",
    "plt.legend()"
   ]
  },
  {
   "cell_type": "code",
   "execution_count": 51,
   "metadata": {},
   "outputs": [
    {
     "data": {
      "text/plain": [
       "<matplotlib.legend.Legend at 0x7f48fa7719d0>"
      ]
     },
     "execution_count": 51,
     "metadata": {},
     "output_type": "execute_result"
    },
    {
     "data": {
      "image/png": "[encoded data removed]",
      "text/plain": [
       "<Figure size 576x432 with 1 Axes>"
      ]
     },
     "metadata": {
      "needs_background": "light"
     },
     "output_type": "display_data"
    }
   ],
   "source": [
    "plt.figure(figsize=(8,6))\n",
    "rg = wt.rg()\n",
    "plt.errorbar(wt.temperatures, rg[0], yerr=rg[1], label='WT', color='darkblue')\n",
    "rg = d7.rg()\n",
    "plt.errorbar(d7.temperatures, rg[0], yerr=rg[1], label='7D', color='royalblue')\n",
    "plt.axhline(wt.dig_rg(), ls='--', color='black', alpha=0.5)\n",
    "plt.legend()"
   ]
  },
  {
   "cell_type": "code",
   "execution_count": 52,
   "metadata": {},
   "outputs": [
    {
     "data": {
      "text/plain": [
       "<matplotlib.legend.Legend at 0x7f48cdd11950>"
      ]
     },
     "execution_count": 52,
     "metadata": {},
     "output_type": "execute_result"
    },
    {
     "data": {
      "image/png": "[encoded data removed]",
      "text/plain": [
       "<Figure size 576x432 with 1 Axes>"
      ]
     },
     "metadata": {
      "needs_background": "light"
     },
     "output_type": "display_data"
    }
   ],
   "source": [
    "plt.figure(figsize=(8,6))\n",
    "rg = d12.rg()\n",
    "plt.errorbar(d12.temperatures, rg[0], yerr=rg[1], label='12D', color='orange')\n",
    "rg = d4.rg()\n",
    "plt.axhline(d4.dig_rg(), ls='--', color='black', alpha=0.5)\n",
    "plt.errorbar(d4.temperatures, rg[0], yerr=rg[1], label='D4', color='red')\n",
    "plt.legend()"
   ]
  },
  {
   "cell_type": "markdown",
   "metadata": {},
   "source": [
    "### 2. HPS-T Model <a id='2'></a>"
   ]
  },
  {
   "cell_type": "markdown",
   "metadata": {},
   "source": [
    "#### OLD DATA"
   ]
  },
  {
   "cell_type": "code",
   "execution_count": 10,
   "metadata": {},
   "outputs": [
    {
     "name": "stdout",
     "output_type": "stream",
     "text": [
      "> Run Completed at 41.44% for CPEB4_alpha. Ran 414400000 steps for a total of 41441 frames \n",
      "> Taking frames every None for a total of [52568, 45400, 42566, 41163, 41424, 42574, 47335, 60391] to avoid strong correlations\n",
      "> Run Completed at 27.51% for CPEB4_D4. Ran 275120000 steps for a total of 27513 frames \n",
      "> Taking frames every None for a total of [38020, 33907, 31223, 28132, 27228, 27747, 33204, 40248] to avoid strong correlations\n",
      "> Run Completed at 25.60% for 7D_CPEB4. Ran 256030000 steps for a total of 25604 frames \n",
      "> Taking frames every None for a total of [33422, 30036, 27586, 25315, 28593, 30253, 32087, 41581] to avoid strong correlations\n",
      "> Run Completed at 28.79% for 12D_CPEB4_D4. Ran 287910000 steps for a total of 28792 frames \n",
      "> Taking frames every None for a total of [37684, 32089, 28752, 28505, 38101, 39872, 43836, 55927] to avoid strong correlations\n"
     ]
    },
    {
     "data": {
      "text/plain": [
       "(array([32.29756633, 28.33784668, 26.35503792, 25.68818493, 25.89517573,\n",
       "        26.765542  , 29.11697705, 36.31896036]),\n",
       " array([0.11335919, 0.06735984, 0.03160798, 0.02747944, 0.03646744,\n",
       "        0.03681166, 0.02963239, 0.29707934]))"
      ]
     },
     "execution_count": 10,
     "metadata": {},
     "output_type": "execute_result"
    }
   ],
   "source": [
    "# 1.0\n",
    "wt_1 = lmp.LMP(md_dir='/home/adria/perdiux/prod/lammps/final/HPS-T/WT')\n",
    "wt_1.rg()\n",
    "d4_1 = lmp.LMP(md_dir='/home/adria/perdiux/prod/lammps/final/HPS-T/D4')\n",
    "d4_1.rg()\n",
    "d7_1 = lmp.LMP(md_dir='/home/adria/perdiux/prod/lammps/final/HPS-T/7D_WT')\n",
    "d7_1.rg()\n",
    "d12_1 = lmp.LMP(md_dir='/home/adria/perdiux/prod/lammps/final/HPS-T/12D_D4')\n",
    "d12_1.rg()"
   ]
  },
  {
   "cell_type": "code",
   "execution_count": 11,
   "metadata": {},
   "outputs": [
    {
     "data": {
      "text/plain": [
       "<ErrorbarContainer object of 3 artists>"
      ]
     },
     "execution_count": 11,
     "metadata": {},
     "output_type": "execute_result"
    },
    {
     "data": {
      "image/png": "[encoded data removed]",
      "text/plain": [
       "<Figure size 576x432 with 1 Axes>"
      ]
     },
     "metadata": {
      "needs_background": "light"
     },
     "output_type": "display_data"
    }
   ],
   "source": [
    "plt.figure(figsize=(8,6))\n",
    "plt.errorbar(wt_1.temperatures, wt_1.c_rg[0], yerr=wt_1.c_rg[1], color=WT_COL, label='WT')\n",
    "plt.errorbar(d4_1.temperatures, d4_1.c_rg[0], yerr=d4_1.c_rg[1], color=D4_COL, label='D4')"
   ]
  },
  {
   "cell_type": "code",
   "execution_count": 12,
   "metadata": {},
   "outputs": [
    {
     "data": {
      "text/plain": [
       "<ErrorbarContainer object of 3 artists>"
      ]
     },
     "execution_count": 12,
     "metadata": {},
     "output_type": "execute_result"
    },
    {
     "data": {
      "image/png": "[encoded data removed]",
      "text/plain": [
       "<Figure size 576x432 with 1 Axes>"
      ]
     },
     "metadata": {
      "needs_background": "light"
     },
     "output_type": "display_data"
    }
   ],
   "source": [
    "plt.figure(figsize=(8,6))\n",
    "plt.errorbar(wt_1.temperatures, wt_1.c_rg[0], yerr=wt_1.c_rg[1], color=WT_COL, label='WT')\n",
    "plt.errorbar(d7_1.temperatures, d7_1.c_rg[0], yerr=d7_1.c_rg[1], color=D4_COL, label='D7')"
   ]
  },
  {
   "cell_type": "code",
   "execution_count": 13,
   "metadata": {},
   "outputs": [
    {
     "data": {
      "text/plain": [
       "<ErrorbarContainer object of 3 artists>"
      ]
     },
     "execution_count": 13,
     "metadata": {},
     "output_type": "execute_result"
    },
    {
     "data": {
      "image/png": "[encoded data removed]",
      "text/plain": [
       "<Figure size 576x432 with 1 Axes>"
      ]
     },
     "metadata": {
      "needs_background": "light"
     },
     "output_type": "display_data"
    }
   ],
   "source": [
    "plt.figure(figsize=(8,6))\n",
    "plt.errorbar(d4_1.temperatures, d4_1.c_rg[0], yerr=d4_1.c_rg[1], color=D4_COL, label='D4')\n",
    "plt.errorbar(d12_1.temperatures, d12_1.c_rg[0], yerr=d12_1.c_rg[1], color=D12_COL, label='12D')"
   ]
  },
  {
   "cell_type": "code",
   "execution_count": 28,
   "metadata": {},
   "outputs": [
    {
     "name": "stdout",
     "output_type": "stream",
     "text": [
      "> Run Completed at 100.00% for CPEB4_alpha. Ran 1000000000 steps for a total of 20001 frames \n",
      "> Taking frames every None for a total of [19701, 19701, 19701, 19701, 19701, 19701, 19701, 19701] to avoid strong correlations\n",
      "> Run Completed at 90.00% for CPEB4_D4. Ran 900050000 steps for a total of 18002 frames \n",
      "> Taking frames every None for a total of [19701, 19701, 19701, 19701, 17704, 19701, 19701, 19701] to avoid strong correlations\n",
      "> Run Completed at 96.25% for 7D_CPEB4. Ran 962450000 steps for a total of 19250 frames \n",
      "> Taking frames every None for a total of [19701, 19701, 19701, 18951, 18997, 19552, 19701, 19701] to avoid strong correlations\n",
      "> Run Completed at 94.22% for 12D_CPEB4_D4. Ran 942150000 steps for a total of 18844 frames \n",
      "> Taking frames every None for a total of [19701, 19701, 19701, 18545, 19701, 19482, 19701, 19701] to avoid strong correlations\n"
     ]
    },
    {
     "data": {
      "text/plain": [
       "(array([56.63027429, 50.71546231, 46.50185872, 43.80619748, 45.19587564,\n",
       "        49.53597156, 55.1880777 , 61.74959521]),\n",
       " array([0.35742079, 0.42741063, 0.56481468, 0.25275923, 0.48843475,\n",
       "        0.27993788, 0.26584864, 0.38857858]))"
      ]
     },
     "execution_count": 28,
     "metadata": {},
     "output_type": "execute_result"
    }
   ],
   "source": [
    "# 0.75\n",
    "wt_075 = lmp.LMP(md_dir='/home/adria/perdiux/prod/lammps/final/HPS-T/0.75/WT')\n",
    "wt_075.rg()\n",
    "d4_075 = lmp.LMP(md_dir='/home/adria/perdiux/prod/lammps/final/HPS-T/0.75/D4')\n",
    "d4_075.rg()\n",
    "d7_075 = lmp.LMP(md_dir='/home/adria/perdiux/prod/lammps/final/HPS-T/0.75/7D_WT')\n",
    "d7_075.rg()\n",
    "d12_075 = lmp.LMP(md_dir='/home/adria/perdiux/prod/lammps/final/HPS-T/0.75/12D_D4')\n",
    "d12_075.rg()"
   ]
  },
  {
   "cell_type": "code",
   "execution_count": 32,
   "metadata": {},
   "outputs": [
    {
     "data": {
      "text/plain": [
       "<matplotlib.lines.Line2D at 0x7f7af3ac0f50>"
      ]
     },
     "execution_count": 32,
     "metadata": {},
     "output_type": "execute_result"
    },
    {
     "data": {
      "image/png": "[encoded data removed]",
      "text/plain": [
       "<Figure size 576x432 with 1 Axes>"
      ]
     },
     "metadata": {
      "needs_background": "light"
     },
     "output_type": "display_data"
    }
   ],
   "source": [
    "plt.figure(figsize=(8,6))\n",
    "plt.errorbar(wt_075.temperatures, wt_075.c_rg[0], yerr=wt_075.c_rg[1], color=WT_COL, label='WT')\n",
    "plt.errorbar(d4_075.temperatures, d4_075.c_rg[0], yerr=d4_075.c_rg[1], color=D4_COL, label='D4')\n",
    "plt.axhline(wt_075.dig_rg())"
   ]
  },
  {
   "cell_type": "code",
   "execution_count": 30,
   "metadata": {},
   "outputs": [
    {
     "data": {
      "text/plain": [
       "<ErrorbarContainer object of 3 artists>"
      ]
     },
     "execution_count": 30,
     "metadata": {},
     "output_type": "execute_result"
    },
    {
     "data": {
      "image/png": "[encoded data removed]",
      "text/plain": [
       "<Figure size 576x432 with 1 Axes>"
      ]
     },
     "metadata": {
      "needs_background": "light"
     },
     "output_type": "display_data"
    }
   ],
   "source": [
    "plt.figure(figsize=(8,6))\n",
    "plt.errorbar(wt_075.temperatures, wt_075.c_rg[0], yerr=wt_075.c_rg[1], color=WT_COL, label='WT')\n",
    "plt.errorbar(d7_075.temperatures, d7_075.c_rg[0], yerr=d7_075.c_rg[1], color=D4_COL, label='D7')"
   ]
  },
  {
   "cell_type": "code",
   "execution_count": 31,
   "metadata": {},
   "outputs": [
    {
     "data": {
      "text/plain": [
       "<ErrorbarContainer object of 3 artists>"
      ]
     },
     "execution_count": 31,
     "metadata": {},
     "output_type": "execute_result"
    },
    {
     "data": {
      "image/png": "[encoded data removed]",
      "text/plain": [
       "<Figure size 576x432 with 1 Axes>"
      ]
     },
     "metadata": {
      "needs_background": "light"
     },
     "output_type": "display_data"
    }
   ],
   "source": [
    "plt.figure(figsize=(8,6))\n",
    "plt.errorbar(d4_075.temperatures, d4_075.c_rg[0], yerr=d4_075.c_rg[1], color=D4_COL, label='D4')\n",
    "plt.errorbar(d12_075.temperatures, d12_075.c_rg[0], yerr=d12_075.c_rg[1], color=D12_COL, label='12D')"
   ]
  },
  {
   "cell_type": "markdown",
   "metadata": {},
   "source": [
    "#### NEW DATA SETUP"
   ]
  },
  {
   "cell_type": "code",
   "execution_count": 82,
   "metadata": {},
   "outputs": [],
   "source": [
    "temperatures = np.linspace(280,400,8)"
   ]
  },
  {
   "cell_type": "code",
   "execution_count": 67,
   "metadata": {},
   "outputs": [
    {
     "name": "stdout",
     "output_type": "stream",
     "text": [
      "╔═════════════════════════════════════════════════════════════════════════════════════════╗\n",
      "║     Input files created at /home/adria/perdiux/prod/lammps/final/HPS-T/WT for CPEB4     ║\n",
      "║-----------------------------------------------------------------------------------------║\n",
      "║   PARAMETERS                                                                            ║\n",
      "║       - Model = HPS-T                                                                   ║\n",
      "║       - Chains = 1                                                                      ║\n",
      "║       - Ionic Strength (mM) = 0.1                                                       ║\n",
      "║       - Medium Permittivity = 80.0                                                      ║\n",
      "║       - Temperatures (K) = [280.         297.14285714 314.28571429 331.42857143 348.57142857\n",
      " 365.71428571 382.85714286 400.        ]    ║\n",
      "║       - HPS Scale = 1.0                                                                 ║\n",
      "╚═════════════════════════════════════════════════════════════════════════════════════════╝\n"
     ]
    }
   ],
   "source": [
    "lmpsetup.LMPSetup(oliba_wd='/home/adria/perdiux/prod/lammps/final/HPS-T/WT',\n",
    "                  protein='CPEB4',\n",
    "                  debye=0.1,\n",
    "                  temperatures=temperatures,\n",
    "                  model='HPS-T',\n",
    "                  save=10000,\n",
    "                  t=int(1e9),\n",
    "                  processors=4,\n",
    "                  host=\"@perdiu46\").write_hps_files()\n",
    "\n",
    "lmpsetup.LMPSetup(oliba_wd='/home/adria/perdiux/prod/lammps/final/HPS-T/D4',\n",
    "                  protein='CPEB4_D4',\n",
    "                  debye=0.1,\n",
    "                  temperatures=temperatures,\n",
    "                  model='HPS-T',\n",
    "                  save=10000,\n",
    "                  processors=3,\n",
    "                  t=int(1e9),\n",
    "                  host=\"@perdiu32\").write_hps_files()"
   ]
  },
  {
   "cell_type": "code",
   "execution_count": 63,
   "metadata": {},
   "outputs": [
    {
     "name": "stdout",
     "output_type": "stream",
     "text": [
      "╔═══════════════════════════════════════════════════════════════════════════════════════════════╗\n",
      "║     Input files created at /home/adria/perdiux/prod/lammps/final/HPS-T/7D_WT for 7D_CPEB4     ║\n",
      "║-----------------------------------------------------------------------------------------------║\n",
      "║   PARAMETERS                                                                                  ║\n",
      "║       - Model = HPS-T                                                                         ║\n",
      "║       - Chains = 1                                                                            ║\n",
      "║       - Ionic Strength (mM) = 0.1                                                             ║\n",
      "║       - Medium Permittivity = 80.0                                                            ║\n",
      "║       - Temperatures (K) = [280.         297.14285714 314.28571429 331.42857143 348.57142857\n",
      " 365.71428571 382.85714286 400.        ]    ║\n",
      "║       - HPS Scale = 1.0                                                                       ║\n",
      "╚═══════════════════════════════════════════════════════════════════════════════════════════════╝\n",
      "╔════════════════════════════════════════════════════════════════════════════════════════════════════╗\n",
      "║     Input files created at /home/adria/perdiux/prod/lammps/final/HPS-T/12D_D4 for 12D_CPEB4_D4     ║\n",
      "║----------------------------------------------------------------------------------------------------║\n",
      "║   PARAMETERS                                                                                       ║\n",
      "║       - Model = HPS-T                                                                              ║\n",
      "║       - Chains = 1                                                                                 ║\n",
      "║       - Ionic Strength (mM) = 0.1                                                                  ║\n",
      "║       - Medium Permittivity = 80.0                                                                 ║\n",
      "║       - Temperatures (K) = [280.         297.14285714 314.28571429 331.42857143 348.57142857\n",
      " 365.71428571 382.85714286 400.        ]    ║\n",
      "║       - HPS Scale = 1.0                                                                            ║\n",
      "╚════════════════════════════════════════════════════════════════════════════════════════════════════╝\n"
     ]
    }
   ],
   "source": [
    "lmpsetup.LMPSetup(oliba_wd='/home/adria/perdiux/prod/lammps/final/HPS-T/7D_WT',\n",
    "                  protein='7D_CPEB4',\n",
    "                  debye=0.1,\n",
    "                  temperatures=temperatures,\n",
    "                  model='HPS-T',\n",
    "                  save=10000,\n",
    "                  t=int(1e9),\n",
    "                  processors=3,\n",
    "                  host=\"@perdiu26\").write_hps_files()\n",
    "\n",
    "lmpsetup.LMPSetup(oliba_wd='/home/adria/perdiux/prod/lammps/final/HPS-T/12D_D4',\n",
    "                  protein='12D_CPEB4_D4',\n",
    "                  debye=0.1,\n",
    "                  temperatures=temperatures,\n",
    "                  model='HPS-T',\n",
    "                  save=10000,\n",
    "                  processors=3,\n",
    "                  t=int(1e9),\n",
    "                  host=\"@perdiu31\").write_hps_files()"
   ]
  },
  {
   "cell_type": "markdown",
   "metadata": {},
   "source": [
    "### REDUCED HPS-T"
   ]
  },
  {
   "cell_type": "code",
   "execution_count": 33,
   "metadata": {},
   "outputs": [],
   "source": [
    "temperatures = np.linspace(280,400,8)"
   ]
  },
  {
   "cell_type": "code",
   "execution_count": 54,
   "metadata": {},
   "outputs": [
    {
     "name": "stdout",
     "output_type": "stream",
     "text": [
      "╔══════════════════════════════════════════════════════════════════════════════════════════════╗\n",
      "║     Input files created at /home/adria/perdiux/prod/lammps/final/HPS-T/0.75/WT for CPEB4     ║\n",
      "║----------------------------------------------------------------------------------------------║\n",
      "║   PARAMETERS                                                                                 ║\n",
      "║       - Model = HPS-T                                                                        ║\n",
      "║       - Chains = 1                                                                           ║\n",
      "║       - Ionic Strength (mM) = 0.1                                                            ║\n",
      "║       - Medium Permittivity = 80.0                                                           ║\n",
      "║       - Temperatures (K) = [280.         297.14285714 314.28571429 331.42857143 348.57142857\n",
      " 365.71428571 382.85714286 400.        ]    ║\n",
      "║       - HPS Scale = 0.75                                                                     ║\n",
      "╚══════════════════════════════════════════════════════════════════════════════════════════════╝\n",
      "╔═════════════════════════════════════════════════════════════════════════════════════════════════╗\n",
      "║     Input files created at /home/adria/perdiux/prod/lammps/final/HPS-T/0.75/D4 for CPEB4_D4     ║\n",
      "║-------------------------------------------------------------------------------------------------║\n",
      "║   PARAMETERS                                                                                    ║\n",
      "║       - Model = HPS-T                                                                           ║\n",
      "║       - Chains = 1                                                                              ║\n",
      "║       - Ionic Strength (mM) = 0.1                                                               ║\n",
      "║       - Medium Permittivity = 80.0                                                              ║\n",
      "║       - Temperatures (K) = [280.         297.14285714 314.28571429 331.42857143 348.57142857\n",
      " 365.71428571 382.85714286 400.        ]    ║\n",
      "║       - HPS Scale = 0.75                                                                        ║\n",
      "╚═════════════════════════════════════════════════════════════════════════════════════════════════╝\n"
     ]
    }
   ],
   "source": [
    "lmpsetup.LMPSetup(oliba_wd='/home/adria/perdiux/prod/lammps/final/HPS-T/0.75/WT',\n",
    "                  protein='CPEB4',\n",
    "                  debye=0.1,\n",
    "                  temperatures=temperatures,\n",
    "                  model='HPS-T',\n",
    "                  hps_scale=0.75,\n",
    "                  save=10000,\n",
    "                  t=int(1e9),\n",
    "                  processors=4,\n",
    "                  host=\"@perdiu32\").write_hps_files(qsub=False, slurm=True)\n",
    "\n",
    "lmpsetup.LMPSetup(oliba_wd='/home/adria/perdiux/prod/lammps/final/HPS-T/0.75/D4',\n",
    "                  protein='CPEB4_D4',\n",
    "                  debye=0.1,\n",
    "                  temperatures=temperatures,\n",
    "                  model='HPS-T',\n",
    "                  hps_scale=0.75,\n",
    "                  save=10000,\n",
    "                  processors=4,\n",
    "                  t=int(1e9),\n",
    "                  host=\"@perdiu30\").write_hps_files(qsub=False, slurm=True)"
   ]
  },
  {
   "cell_type": "code",
   "execution_count": 55,
   "metadata": {},
   "outputs": [
    {
     "name": "stdout",
     "output_type": "stream",
     "text": [
      "╔════════════════════════════════════════════════════════════════════════════════════════════════════╗\n",
      "║     Input files created at /home/adria/perdiux/prod/lammps/final/HPS-T/0.75/7D_WT for 7D_CPEB4     ║\n",
      "║----------------------------------------------------------------------------------------------------║\n",
      "║   PARAMETERS                                                                                       ║\n",
      "║       - Model = HPS-T                                                                              ║\n",
      "║       - Chains = 1                                                                                 ║\n",
      "║       - Ionic Strength (mM) = 0.1                                                                  ║\n",
      "║       - Medium Permittivity = 80.0                                                                 ║\n",
      "║       - Temperatures (K) = [280.         297.14285714 314.28571429 331.42857143 348.57142857\n",
      " 365.71428571 382.85714286 400.        ]    ║\n",
      "║       - HPS Scale = 0.75                                                                           ║\n",
      "╚════════════════════════════════════════════════════════════════════════════════════════════════════╝\n",
      "╔═════════════════════════════════════════════════════════════════════════════════════════════════════════╗\n",
      "║     Input files created at /home/adria/perdiux/prod/lammps/final/HPS-T/0.75/12D_D4 for 12D_CPEB4_D4     ║\n",
      "║---------------------------------------------------------------------------------------------------------║\n",
      "║   PARAMETERS                                                                                            ║\n",
      "║       - Model = HPS-T                                                                                   ║\n",
      "║       - Chains = 1                                                                                      ║\n",
      "║       - Ionic Strength (mM) = 0.1                                                                       ║\n",
      "║       - Medium Permittivity = 80.0                                                                      ║\n",
      "║       - Temperatures (K) = [280.         297.14285714 314.28571429 331.42857143 348.57142857\n",
      " 365.71428571 382.85714286 400.        ]    ║\n",
      "║       - HPS Scale = 0.75                                                                                ║\n",
      "╚═════════════════════════════════════════════════════════════════════════════════════════════════════════╝\n"
     ]
    }
   ],
   "source": [
    "lmpsetup.LMPSetup(oliba_wd='/home/adria/perdiux/prod/lammps/final/HPS-T/0.75/7D_WT',\n",
    "                  protein='7D_CPEB4',\n",
    "                  debye=0.1,\n",
    "                  temperatures=temperatures,\n",
    "                  model='HPS-T',\n",
    "                  hps_scale=0.75,\n",
    "                  save=10000,\n",
    "                  t=int(1e9),\n",
    "                  processors=4,\n",
    "                  host=\"@perdiu25\").write_hps_files(qsub=False, slurm=True)\n",
    "\n",
    "lmpsetup.LMPSetup(oliba_wd='/home/adria/perdiux/prod/lammps/final/HPS-T/0.75/12D_D4',\n",
    "                  protein='12D_CPEB4_D4',\n",
    "                  debye=0.1,\n",
    "                  temperatures=temperatures,\n",
    "                  model='HPS-T',\n",
    "                  hps_scale=0.75,\n",
    "                  save=10000,\n",
    "                  processors=4,\n",
    "                  t=int(1e9),\n",
    "                  host=\"@perdiu27\").write_hps_files(qsub=False, slurm=True)"
   ]
  },
  {
   "cell_type": "markdown",
   "metadata": {},
   "source": [
    "### SLABS"
   ]
  },
  {
   "cell_type": "code",
   "execution_count": 29,
   "metadata": {},
   "outputs": [
    {
     "name": "stdout",
     "output_type": "stream",
     "text": [
      "280 280\n",
      "320 320\n",
      "360 360\n",
      "400 400\n"
     ]
    }
   ],
   "source": [
    "slab_temps= [280,320,360,400]\n",
    "for T in slab_temps:\n",
    "    hmdsetup.HMDSetup(oliba_wd='/home/adria/irb/hoomd/WT',\n",
    "                      protein='CPEB4',\n",
    "                      temperature=T,\n",
    "                      debye=0.1,\n",
    "                      save=50000,\n",
    "                      t=int(1e9),\n",
    "                      chains=30,\n",
    "                      slab=\"NPT\",\n",
    "                      model='HPS-T',).write_hps_files()"
   ]
  },
  {
   "cell_type": "code",
   "execution_count": 70,
   "metadata": {},
   "outputs": [],
   "source": [
    "wt_s = hmd.HMD(md_dir='/home/adria/irb/hoomd/WT')"
   ]
  },
  {
   "cell_type": "code",
   "execution_count": 90,
   "metadata": {},
   "outputs": [
    {
     "name": "stdout",
     "output_type": "stream",
     "text": [
      "280.0\n",
      "Interfaces at  [-28.511726425682582, 28.511726425682582] [-84.70317577887381, 84.70317577887381]\n",
      "320.0\n",
      "Interfaces at  [-32.3597837278202, 32.3597837278202] [-75.75698277958963, 75.75698277958963]\n",
      "360.0\n",
      "Interfaces at  [-26.910720418438206, 26.910720418438206] [-72.72452337367696, 72.72452337367696]\n",
      "400.0\n",
      "Interfaces at  [-26.259983136268865, 26.259983136268865] [-86.84377105910077, 86.84377105910077]\n"
     ]
    }
   ],
   "source": [
    "rho_d, rho_c = wt_s.phase_diagram()"
   ]
  },
  {
   "cell_type": "code",
   "execution_count": 91,
   "metadata": {},
   "outputs": [
    {
     "data": {
      "text/plain": [
       "[<matplotlib.lines.Line2D at 0x7feb1846bbd0>]"
      ]
     },
     "execution_count": 91,
     "metadata": {},
     "output_type": "execute_result"
    },
    {
     "data": {
      "image/png": "[encoded data removed]",
      "text/plain": [
       "<Figure size 432x288 with 1 Axes>"
      ]
     },
     "metadata": {
      "needs_background": "light"
     },
     "output_type": "display_data"
    }
   ],
   "source": [
    "plt.plot(rho_c, wt_s.temperatures)\n",
    "plt.plot(rho_d, wt_s.temperatures)"
   ]
  },
  {
   "cell_type": "code",
   "execution_count": 54,
   "metadata": {},
   "outputs": [
    {
     "name": "stdout",
     "output_type": "stream",
     "text": [
      "280 280\n",
      "320 320\n",
      "360 360\n",
      "400 400\n"
     ]
    }
   ],
   "source": [
    "slab_temps= [280,320,360,400]\n",
    "for T in slab_temps:\n",
    "    hmdsetup.HMDSetup(oliba_wd='/home/adria/irb/hoomd/FINAL/red-WT',\n",
    "                      protein='CPEB4',\n",
    "                      temperature=T,\n",
    "                      debye=0.1,\n",
    "                      save=50000,\n",
    "                      t=int(1e9),\n",
    "                      hps_scale=0.75,\n",
    "                      chains=30,\n",
    "                      slab=\"NPT\",\n",
    "                      model='HPS-T',).write_hps_files()"
   ]
  },
  {
   "cell_type": "code",
   "execution_count": 13,
   "metadata": {},
   "outputs": [
    {
     "name": "stdout",
     "output_type": "stream",
     "text": [
      "280.0 280.0\n",
      "300.0 300.0\n",
      "320.0 320.0\n",
      "340.0 340.0\n"
     ]
    }
   ],
   "source": [
    "slab_temps = np.linspace(280,340,4)\n",
    "for T in slab_temps:\n",
    "    hmdsetup.HMDSetup(oliba_wd='/home/adria/irb/hoomd/FINAL/red-08-WT',\n",
    "                      protein='CPEB4',\n",
    "                      temperature=T,\n",
    "                      debye=0.1,\n",
    "                      save=50000,\n",
    "                      t=int(1e9),\n",
    "                      hps_scale=0.8,\n",
    "                      chains=30,\n",
    "                      slab=True,\n",
    "                      model='HPS-T',).write_hps_files()"
   ]
  },
  {
   "cell_type": "code",
   "execution_count": 56,
   "metadata": {},
   "outputs": [
    {
     "name": "stdout",
     "output_type": "stream",
     "text": [
      "{'x': 990.0, 'y': 990.0, 'z': 2500.0}\n",
      "280.0\n",
      "Interfaces at  [-111.35322841916482, 111.35322841916482] [-189.56383869438574, 189.56383869438574]\n",
      "300.0\n",
      "Interfaces at  [-22.356460588320008, 22.356460588320008] [-154.25626709439027, 154.25626709439027]\n",
      "320.0\n",
      "Interfaces at  [-60.80068839498204, 60.80068839498204] [-120.62917562131726, 120.62917562131726]\n",
      "340.0\n",
      "Interfaces at  [-19.695219062100602, 19.695219062100602] [-172.2608016296037, 172.2608016296037]\n"
     ]
    }
   ],
   "source": [
    "wt_s = hmd.HMD(md_dir='/home/adria/irb/hoomd/FINAL/red-08-WT', equil_frames=0)\n",
    "rho_d, rho_c = wt_s.phase_diagram()"
   ]
  },
  {
   "cell_type": "code",
   "execution_count": 57,
   "metadata": {},
   "outputs": [
    {
     "data": {
      "text/plain": [
       "[<matplotlib.lines.Line2D at 0x7f7b1294fb90>]"
      ]
     },
     "execution_count": 57,
     "metadata": {},
     "output_type": "execute_result"
    },
    {
     "data": {
      "image/png": "[encoded data removed]",
      "text/plain": [
       "<Figure size 432x288 with 1 Axes>"
      ]
     },
     "metadata": {
      "needs_background": "light"
     },
     "output_type": "display_data"
    }
   ],
   "source": [
    "plt.plot(rho_c, wt_s.temperatures)\n",
    "plt.plot(rho_d, wt_s.temperatures)"
   ]
  },
  {
   "cell_type": "markdown",
   "metadata": {},
   "source": [
    "### 3. Reweighting of eps-lambd <a id='3'></a>"
   ]
  },
  {
   "cell_type": "code",
   "execution_count": 4,
   "metadata": {},
   "outputs": [
    {
     "name": "stdout",
     "output_type": "stream",
     "text": [
      "> Run Completed at 100.00% for 12D_CPEB4_D4. Ran 1000000000 steps for a total of 100001 frames \n",
      "> Taking frames every None for a total of [99701, 99701, 99701, 99701, 99701, 99701, 99701, 99701] to avoid strong correlations\n",
      "> Run Completed at 100.00% for CPEB4_D4. Ran 1000000000 steps for a total of 100001 frames \n",
      "> Taking frames every None for a total of [99701, 99701, 99701, 99701, 99701, 99701, 99701, 99701] to avoid strong correlations\n"
     ]
    }
   ],
   "source": [
    "d12_dir = '/home/adria/perdiux/prod/lammps/final/HPS/12D_D4'\n",
    "d4_dir = '/home/adria/perdiux/prod/lammps/final/HPS/D4'\n",
    "d12, d4 = lmp.LMP(md_dir=d12_dir), lmp.LMP(md_dir=d4_dir)"
   ]
  },
  {
   "cell_type": "code",
   "execution_count": 7,
   "metadata": {},
   "outputs": [],
   "source": [
    "def n_eff_calc(weights, kish=False):\n",
    "    \"\"\"\n",
    "    Return the effective sample size from given probabilites (weights)\n",
    "    :param weights: ndarray, weights for a given run\n",
    "    :param kish: ??\n",
    "    :return: float, effective sample size\n",
    "    \"\"\"\n",
    "    if kish:\n",
    "        n_eff = 1. / np.sum(weights ** 2) / weights.size\n",
    "    else:\n",
    "        n_eff = np.exp(-np.sum(weights * np.log(weights * weights.size)))\n",
    "    return n_eff\n",
    "\n",
    "def maximize_charge(a_dir, b_dir, T, l0, eps0, method='sto', temp_dir='/home/adria/OPT',  total_frames=20000, savefile='stomin.txt', weight_cost_mean=1):\n",
    "    print(\"RUNNING\")\n",
    "    x0 = np.array([l0,eps0])\n",
    "    above_tc = d12\n",
    "    below_tc = d4\n",
    "    rgiA, rgiB = above_tc.rg(use='md')[0][T], below_tc.rg(use='md')[0][T]\n",
    "    mean_rg = (rgiA + rgiB) / 2\n",
    "\n",
    "    def rg_rerun(T, eps, ls, prot, data_dir):\n",
    "        og_time = int(np.max(prot.data[T, :, 0]))\n",
    "        og_save = int(prot.data[T, 1, 0])\n",
    "        \n",
    "        every = prot.every_frames if prot.every_frames is not None else 1\n",
    "        last = prot.last_frames if prot.last_frames is not None else total_frames\n",
    "        Ei = prot.data[T, :, 1]\n",
    "        Ei = Ei[prot.equil_frames::every]\n",
    "        Ei = Ei[-last:]\n",
    "        rgi = prot.rg(use='md', full=True)[0][T]\n",
    "        if prot.last_frames is None:\n",
    "            rgi = rgi[-total_frames:]\n",
    "        protein = prot.protein\n",
    "\n",
    "        shutil.copyfile(os.path.join(data_dir, 'data.data'), os.path.join(temp_dir, f'data.data'))\n",
    "        shutil.copyfile(os.path.join(data_dir, f'atom_traj_{T}.lammpstrj'),\n",
    "                        os.path.join(temp_dir, f'atom_traj_{protein}.lammpstrj'))\n",
    "\n",
    "        rerun = lmpsetup.LMPSetup(oliba_wd=temp_dir, protein=protein)\n",
    "        rerun.water_perm = eps\n",
    "        rerun.hps_scale = ls\n",
    "        rerun.save = og_save\n",
    "        rerun.debye_wv = 0.1\n",
    "        rerun.temperatures = [above_tc.temperatures[T]]\n",
    "        rerun.rerun_dump = f'atom_traj_{protein}.lammpstrj'\n",
    "        # in frames\n",
    "        rerun.rerun_skip = every\n",
    "        # in timesteps\n",
    "        rerun.rerun_start = og_time + og_save - Ei.shape[0]*og_save*every\n",
    "        # in timesteps\n",
    "        rerun.rerun_stop = og_time\n",
    "        rerun.temperature = prot.get_temperatures()[T]\n",
    "        # TODO : Remove hardcoding\n",
    "        rerun.box_size = {\"x\": 5000, \"y\": 5000, \"z\": 5000}\n",
    "        rerun.write_hps_files(rerun=True, data=False, qsub=False, rst=False, silent=True)\n",
    "        rerun.run(file=os.path.join(temp_dir, 'lmp0.lmp'), n_cores=1)\n",
    "        rerun_analysis = lmp.LMP(md_dir=temp_dir)\n",
    "        Ef = rerun_analysis.data[0, :, 1]\n",
    "        weights = rerun_analysis.weights(Ei=Ei, Ef=Ef, T=prot.get_temperatures()[T])\n",
    "        weights = weights / np.sum(weights)\n",
    "        n_eff = n_eff_calc(weights)\n",
    "        reweight_rg = np.dot(rgi, weights.T)\n",
    "        return reweight_rg, n_eff\n",
    "\n",
    "    def calc_cost(x, T):\n",
    "        ls = x[0]\n",
    "        eps = x[1]\n",
    "        \n",
    "        rw_above_rg, neff_a = rg_rerun(T=T, eps=eps, ls=ls, prot=above_tc, data_dir=a_dir)\n",
    "        rw_below_rg, neff_b = rg_rerun(T=T, eps=eps, ls=ls, prot=below_tc, data_dir=b_dir)\n",
    "        global rw_A\n",
    "        global rw_B\n",
    "        rw_A, rw_B = rw_above_rg, rw_below_rg\n",
    "        c = - (rw_above_rg - rw_below_rg) ** 2 + weight_cost_mean * ((rw_below_rg + rw_above_rg) / 2 - mean_rg) ** 2\n",
    "        print(\"=\" * 80)\n",
    "        print(f\"ls={ls}, eps={eps}, RgA_i={rgiA}, RgB_i={rgiB}\")\n",
    "        print(f\"Rw RgA, {rw_A:.3f}, Rw RgB {rw_B:.3f}, diff {rw_A - rw_B:.2f}, dist to mean {(rw_below_rg + rw_above_rg) / 2 - mean_rg:.2f}, cost {c:.2f}\")\n",
    "        print(f\"Neff-A, {neff_a} Neff-B, {neff_b}\")\n",
    "        print(\"=\" * 80)\n",
    "        if method=='opt':\n",
    "            return c\n",
    "        else:\n",
    "            return c, neff_a, neff_b\n",
    "    \n",
    "\n",
    "    if method == 'opt':\n",
    "        cons_all = ({'type':'ineq', 'fun': lambda x:  1 - x[0]   },\n",
    "                   {'type':'ineq', 'fun': lambda x:  x[0] - 0.5 })\n",
    "        m = scipy.optimize.minimize(fun=calc_cost, x0=np.array(x0), method=\"COBYLA\", constraints=cons_all, args=(T,))\n",
    "\n",
    "        print(\"=\" * 80)\n",
    "        print(\n",
    "            f\"For T={T} and initial parameters I = {I0}, eps = {eps0} with RgA = {above_tc.rg(use='md').mean(axis=1)[T]:.2f}, RgB = {below_tc.rg(use='md').mean(axis=1)[T]:.2f}\")\n",
    "        print(f\"Minimization resulted in {m.x[0]}  {m.x[1]} and reweighted Rg's A = {rw_A:.2f} and B = {rw_B:.2f}\")\n",
    "        print(\"=\" * 80)\n",
    "        result = \"=============================================\\n\"\n",
    "        result += f'T={T}, I0={I0}, eps={eps0}, rgiAbove={rgiA}, rgiBelow={rgiB} \\n'\n",
    "        result += f'If={m.x[0]}, eps={m.x[1]}, rgAboveF={rw_A}, rgBelowF={rw_B}\\n'\n",
    "        result += \"=============================================\\n\"\n",
    "        with open(f'minimization_{T}.txt', 'a+') as min:\n",
    "            min.write(result)\n",
    "\n",
    "        return m\n",
    "    elif method == 'sto':\n",
    "        best, best_params, best_neffs = 0, [], [-1, -1]\n",
    "        iterations = 50000\n",
    "        for it in range(iterations):\n",
    "            current = []\n",
    "            for x in x0:\n",
    "                current.append(x * np.random.normal(1, 0.02, 1)[0])\n",
    "            cst, neff_a, neff_b = calc_cost(current, args=(T,))\n",
    "            if cst < best:\n",
    "                best = cst\n",
    "                best_params = current[:]\n",
    "                best_neffs = [neff_a, neff_b]\n",
    "                print(\"Saving at /home/adria/rew_test.txt\", f'data/{savefile}')\n",
    "                with open('/home/adria/rew_test.txt', 'a+') as fout:\n",
    "                    str_curr = \", \".join(map(str,current))\n",
    "                    fout.write(\n",
    "                        f\"{it} {cst} {rw_A} {rw_B} {str_curr} {neff_a} {neff_b}\\n\")\n",
    "                x0 = current\n",
    "        return best, best_params, best_neffs"
   ]
  },
  {
   "cell_type": "code",
   "execution_count": 9,
   "metadata": {
    "scrolled": true
   },
   "outputs": [
    {
     "name": "stdout",
     "output_type": "stream",
     "text": [
      "RUNNING\n"
     ]
    },
    {
     "ename": "KeyboardInterrupt",
     "evalue": "",
     "output_type": "error",
     "traceback": [
      "\u001b[0;31m---------------------------------------------------------------------------\u001b[0m",
      "\u001b[0;31mKeyboardInterrupt\u001b[0m                         Traceback (most recent call last)",
      "\u001b[0;32m<ipython-input-9-a04666ed83da>\u001b[0m in \u001b[0;36m<module>\u001b[0;34m\u001b[0m\n\u001b[0;32m----> 1\u001b[0;31m \u001b[0mmaximize_charge\u001b[0m\u001b[0;34m(\u001b[0m\u001b[0ma_dir\u001b[0m\u001b[0;34m=\u001b[0m\u001b[0md12_dir\u001b[0m\u001b[0;34m,\u001b[0m \u001b[0mb_dir\u001b[0m\u001b[0;34m=\u001b[0m\u001b[0md4_dir\u001b[0m\u001b[0;34m,\u001b[0m \u001b[0mT\u001b[0m\u001b[0;34m=\u001b[0m\u001b[0;36m0\u001b[0m\u001b[0;34m,\u001b[0m \u001b[0ml0\u001b[0m\u001b[0;34m=\u001b[0m\u001b[0;36m1\u001b[0m\u001b[0;34m,\u001b[0m \u001b[0meps0\u001b[0m\u001b[0;34m=\u001b[0m\u001b[0;36m80\u001b[0m\u001b[0;34m,\u001b[0m \u001b[0mmethod\u001b[0m\u001b[0;34m=\u001b[0m\u001b[0;34m'opt'\u001b[0m\u001b[0;34m)\u001b[0m\u001b[0;34m\u001b[0m\u001b[0;34m\u001b[0m\u001b[0m\n\u001b[0m",
      "\u001b[0;32m<ipython-input-7-793c9dfcd7a0>\u001b[0m in \u001b[0;36mmaximize_charge\u001b[0;34m(a_dir, b_dir, T, l0, eps0, method, temp_dir, total_frames, savefile, weight_cost_mean)\u001b[0m\n\u001b[1;32m     17\u001b[0m     \u001b[0mabove_tc\u001b[0m \u001b[0;34m=\u001b[0m \u001b[0md12\u001b[0m\u001b[0;34m\u001b[0m\u001b[0;34m\u001b[0m\u001b[0m\n\u001b[1;32m     18\u001b[0m     \u001b[0mbelow_tc\u001b[0m \u001b[0;34m=\u001b[0m \u001b[0md4\u001b[0m\u001b[0;34m\u001b[0m\u001b[0;34m\u001b[0m\u001b[0m\n\u001b[0;32m---> 19\u001b[0;31m     \u001b[0mrgiA\u001b[0m\u001b[0;34m,\u001b[0m \u001b[0mrgiB\u001b[0m \u001b[0;34m=\u001b[0m \u001b[0mabove_tc\u001b[0m\u001b[0;34m.\u001b[0m\u001b[0mrg\u001b[0m\u001b[0;34m(\u001b[0m\u001b[0muse\u001b[0m\u001b[0;34m=\u001b[0m\u001b[0;34m'md'\u001b[0m\u001b[0;34m)\u001b[0m\u001b[0;34m[\u001b[0m\u001b[0;36m0\u001b[0m\u001b[0;34m]\u001b[0m\u001b[0;34m[\u001b[0m\u001b[0mT\u001b[0m\u001b[0;34m]\u001b[0m\u001b[0;34m,\u001b[0m \u001b[0mbelow_tc\u001b[0m\u001b[0;34m.\u001b[0m\u001b[0mrg\u001b[0m\u001b[0;34m(\u001b[0m\u001b[0muse\u001b[0m\u001b[0;34m=\u001b[0m\u001b[0;34m'md'\u001b[0m\u001b[0;34m)\u001b[0m\u001b[0;34m[\u001b[0m\u001b[0;36m0\u001b[0m\u001b[0;34m]\u001b[0m\u001b[0;34m[\u001b[0m\u001b[0mT\u001b[0m\u001b[0;34m]\u001b[0m\u001b[0;34m\u001b[0m\u001b[0;34m\u001b[0m\u001b[0m\n\u001b[0m\u001b[1;32m     20\u001b[0m     \u001b[0mmean_rg\u001b[0m \u001b[0;34m=\u001b[0m \u001b[0;34m(\u001b[0m\u001b[0mrgiA\u001b[0m \u001b[0;34m+\u001b[0m \u001b[0mrgiB\u001b[0m\u001b[0;34m)\u001b[0m \u001b[0;34m/\u001b[0m \u001b[0;36m2\u001b[0m\u001b[0;34m\u001b[0m\u001b[0;34m\u001b[0m\u001b[0m\n\u001b[1;32m     21\u001b[0m \u001b[0;34m\u001b[0m\u001b[0m\n",
      "\u001b[0;32m~/scripts/md/md/analysis.py\u001b[0m in \u001b[0;36mrg\u001b[0;34m(self, use, full)\u001b[0m\n\u001b[1;32m    440\u001b[0m                     \u001b[0mrg\u001b[0m \u001b[0;34m=\u001b[0m \u001b[0mrg\u001b[0m \u001b[0;34m*\u001b[0m \u001b[0;36m10\u001b[0m\u001b[0;34m\u001b[0m\u001b[0;34m\u001b[0m\u001b[0m\n\u001b[1;32m    441\u001b[0m                 \u001b[0;32melse\u001b[0m\u001b[0;34m:\u001b[0m\u001b[0;34m\u001b[0m\u001b[0;34m\u001b[0m\u001b[0m\n\u001b[0;32m--> 442\u001b[0;31m                     \u001b[0mrg\u001b[0m \u001b[0;34m=\u001b[0m \u001b[0mmd\u001b[0m\u001b[0;34m.\u001b[0m\u001b[0mcompute_rg\u001b[0m\u001b[0;34m(\u001b[0m\u001b[0mtraj\u001b[0m\u001b[0;34m)\u001b[0m\u001b[0;34m\u001b[0m\u001b[0;34m\u001b[0m\u001b[0m\n\u001b[0m\u001b[1;32m    443\u001b[0m                 \u001b[0mrgs\u001b[0m\u001b[0;34m.\u001b[0m\u001b[0mappend\u001b[0m\u001b[0;34m(\u001b[0m\u001b[0mrg\u001b[0m\u001b[0;34m)\u001b[0m\u001b[0;34m\u001b[0m\u001b[0;34m\u001b[0m\u001b[0m\n\u001b[1;32m    444\u001b[0m         \u001b[0;32mfor\u001b[0m \u001b[0mi\u001b[0m \u001b[0;32min\u001b[0m \u001b[0mrange\u001b[0m\u001b[0;34m(\u001b[0m\u001b[0mlen\u001b[0m\u001b[0;34m(\u001b[0m\u001b[0mrgs\u001b[0m\u001b[0;34m)\u001b[0m\u001b[0;34m)\u001b[0m\u001b[0;34m:\u001b[0m\u001b[0;34m\u001b[0m\u001b[0;34m\u001b[0m\u001b[0m\n",
      "\u001b[0;32m~/anaconda3/lib/python3.7/site-packages/mdtraj/geometry/rg.py\u001b[0m in \u001b[0;36mcompute_rg\u001b[0;34m(traj, masses)\u001b[0m\n\u001b[1;32m     94\u001b[0m     \u001b[0mIf\u001b[0m \u001b[0mmasses\u001b[0m \u001b[0mare\u001b[0m \u001b[0mnone\u001b[0m\u001b[0;34m,\u001b[0m \u001b[0massumes\u001b[0m \u001b[0mequal\u001b[0m \u001b[0mmasses\u001b[0m\u001b[0;34m.\u001b[0m\u001b[0;34m\u001b[0m\u001b[0;34m\u001b[0m\u001b[0m\n\u001b[1;32m     95\u001b[0m     \"\"\"\n\u001b[0;32m---> 96\u001b[0;31m     \u001b[0;32mreturn\u001b[0m \u001b[0m_compute_rg_xyz\u001b[0m\u001b[0;34m(\u001b[0m\u001b[0mtraj\u001b[0m\u001b[0;34m.\u001b[0m\u001b[0mxyz\u001b[0m\u001b[0;34m,\u001b[0m \u001b[0mmasses\u001b[0m\u001b[0;34m=\u001b[0m\u001b[0mmasses\u001b[0m\u001b[0;34m)\u001b[0m\u001b[0;34m\u001b[0m\u001b[0;34m\u001b[0m\u001b[0m\n\u001b[0m",
      "\u001b[0;32m~/anaconda3/lib/python3.7/site-packages/mdtraj/geometry/rg.py\u001b[0m in \u001b[0;36m_compute_rg_xyz\u001b[0;34m(xyz, masses)\u001b[0m\n\u001b[1;32m     67\u001b[0m     \u001b[0mweights\u001b[0m \u001b[0;34m=\u001b[0m \u001b[0mmasses\u001b[0m \u001b[0;34m/\u001b[0m \u001b[0mmasses\u001b[0m\u001b[0;34m.\u001b[0m\u001b[0msum\u001b[0m\u001b[0;34m(\u001b[0m\u001b[0;34m)\u001b[0m\u001b[0;34m\u001b[0m\u001b[0;34m\u001b[0m\u001b[0m\n\u001b[1;32m     68\u001b[0m \u001b[0;34m\u001b[0m\u001b[0m\n\u001b[0;32m---> 69\u001b[0;31m     \u001b[0mmu\u001b[0m \u001b[0;34m=\u001b[0m \u001b[0mxyz\u001b[0m\u001b[0;34m.\u001b[0m\u001b[0mmean\u001b[0m\u001b[0;34m(\u001b[0m\u001b[0;36m1\u001b[0m\u001b[0;34m)\u001b[0m\u001b[0;34m\u001b[0m\u001b[0;34m\u001b[0m\u001b[0m\n\u001b[0m\u001b[1;32m     70\u001b[0m     \u001b[0mcentered\u001b[0m \u001b[0;34m=\u001b[0m \u001b[0;34m(\u001b[0m\u001b[0mxyz\u001b[0m\u001b[0;34m.\u001b[0m\u001b[0mtranspose\u001b[0m\u001b[0;34m(\u001b[0m\u001b[0;34m(\u001b[0m\u001b[0;36m1\u001b[0m\u001b[0;34m,\u001b[0m \u001b[0;36m0\u001b[0m\u001b[0;34m,\u001b[0m \u001b[0;36m2\u001b[0m\u001b[0;34m)\u001b[0m\u001b[0;34m)\u001b[0m \u001b[0;34m-\u001b[0m \u001b[0mmu\u001b[0m\u001b[0;34m)\u001b[0m\u001b[0;34m.\u001b[0m\u001b[0mtranspose\u001b[0m\u001b[0;34m(\u001b[0m\u001b[0;34m(\u001b[0m\u001b[0;36m1\u001b[0m\u001b[0;34m,\u001b[0m \u001b[0;36m0\u001b[0m\u001b[0;34m,\u001b[0m \u001b[0;36m2\u001b[0m\u001b[0;34m)\u001b[0m\u001b[0;34m)\u001b[0m\u001b[0;34m\u001b[0m\u001b[0;34m\u001b[0m\u001b[0m\n\u001b[1;32m     71\u001b[0m     \u001b[0msquared_dists\u001b[0m \u001b[0;34m=\u001b[0m \u001b[0;34m(\u001b[0m\u001b[0mcentered\u001b[0m \u001b[0;34m**\u001b[0m \u001b[0;36m2\u001b[0m\u001b[0;34m)\u001b[0m\u001b[0;34m.\u001b[0m\u001b[0msum\u001b[0m\u001b[0;34m(\u001b[0m\u001b[0;36m2\u001b[0m\u001b[0;34m)\u001b[0m\u001b[0;34m\u001b[0m\u001b[0;34m\u001b[0m\u001b[0m\n",
      "\u001b[0;32m~/anaconda3/lib/python3.7/site-packages/numpy/core/_methods.py\u001b[0m in \u001b[0;36m_mean\u001b[0;34m(a, axis, dtype, out, keepdims)\u001b[0m\n\u001b[1;32m    149\u001b[0m             \u001b[0mis_float16_result\u001b[0m \u001b[0;34m=\u001b[0m \u001b[0;32mTrue\u001b[0m\u001b[0;34m\u001b[0m\u001b[0;34m\u001b[0m\u001b[0m\n\u001b[1;32m    150\u001b[0m \u001b[0;34m\u001b[0m\u001b[0m\n\u001b[0;32m--> 151\u001b[0;31m     \u001b[0mret\u001b[0m \u001b[0;34m=\u001b[0m \u001b[0mumr_sum\u001b[0m\u001b[0;34m(\u001b[0m\u001b[0marr\u001b[0m\u001b[0;34m,\u001b[0m \u001b[0maxis\u001b[0m\u001b[0;34m,\u001b[0m \u001b[0mdtype\u001b[0m\u001b[0;34m,\u001b[0m \u001b[0mout\u001b[0m\u001b[0;34m,\u001b[0m \u001b[0mkeepdims\u001b[0m\u001b[0;34m)\u001b[0m\u001b[0;34m\u001b[0m\u001b[0;34m\u001b[0m\u001b[0m\n\u001b[0m\u001b[1;32m    152\u001b[0m     \u001b[0;32mif\u001b[0m \u001b[0misinstance\u001b[0m\u001b[0;34m(\u001b[0m\u001b[0mret\u001b[0m\u001b[0;34m,\u001b[0m \u001b[0mmu\u001b[0m\u001b[0;34m.\u001b[0m\u001b[0mndarray\u001b[0m\u001b[0;34m)\u001b[0m\u001b[0;34m:\u001b[0m\u001b[0;34m\u001b[0m\u001b[0;34m\u001b[0m\u001b[0m\n\u001b[1;32m    153\u001b[0m         ret = um.true_divide(\n",
      "\u001b[0;31mKeyboardInterrupt\u001b[0m: "
     ]
    }
   ],
   "source": [
    "maximize_charge(a_dir=d12_dir, b_dir=d4_dir, T=0, l0=1, eps0=80, method='opt')"
   ]
  },
  {
   "cell_type": "code",
   "execution_count": 38,
   "metadata": {},
   "outputs": [
    {
     "data": {
      "text/plain": [
       "26.6438862726664"
      ]
     },
     "execution_count": 38,
     "metadata": {},
     "output_type": "execute_result"
    }
   ],
   "source": [
    "d12.rg()[0][0]"
   ]
  },
  {
   "cell_type": "code",
   "execution_count": 39,
   "metadata": {},
   "outputs": [
    {
     "data": {
      "text/plain": [
       "26.329914129104985"
      ]
     },
     "execution_count": 39,
     "metadata": {},
     "output_type": "execute_result"
    }
   ],
   "source": [
    "d4.rg()[0][0]"
   ]
  },
  {
   "cell_type": "code",
   "execution_count": 52,
   "metadata": {},
   "outputs": [
    {
     "data": {
      "text/plain": [
       "array([127.99502 ,  50.900432,  55.707637, ...,  77.041855,  67.054605,\n",
       "        59.478386])"
      ]
     },
     "execution_count": 52,
     "metadata": {},
     "output_type": "execute_result"
    }
   ],
   "source": [
    "initial[0,:,1]"
   ]
  },
  {
   "cell_type": "markdown",
   "metadata": {},
   "source": [
    "def n_eff_calc(weights, kish=False):\n",
    "    \"\"\"\n",
    "    Return the effective sample size from given probabilites (weights)\n",
    "    :param weights: ndarray, weights for a given run\n",
    "    :param kish: ??\n",
    "    :return: float, effective sample size\n",
    "    \"\"\"\n",
    "    if kish:\n",
    "        n_eff = 1. / np.sum(weights ** 2) / weights.size\n",
    "    else:\n",
    "        n_eff = np.exp(-np.sum(weights * np.log(weights * weights.size)))\n",
    "    return n_eff\n",
    "\n",
    "def maximize_charge(a_dir, b_dir, T, method='sto', temp_dir='/home/adria/OPT',\n",
    "                    I0=None, l0=None, eps0=None, total_frames=1000, savefile='stomin.txt', weight_cost_mean=1):\n",
    "    print(\"RUNNING\")\n",
    "    default = {\"I\": 100e-3, \"ls\": 1.0, \"eps\": 80.0}\n",
    "    above_tc = d12\n",
    "    below_tc = d4\n",
    "    rgiA, rgiB = above_tc.rg(use='md')[0][T], below_tc.rg(use='md')[0][T]\n",
    "    mean_rg = (rgiA + rgiB) / 2\n",
    "    x0, x0_dict, args, args_dict = [], {}, [], {}\n",
    "    if I0 is not None:\n",
    "        x0.append(I0)\n",
    "        x0_dict[\"I\"] = len(x0) - 1\n",
    "    if l0 is not None:\n",
    "        x0.append(l0)\n",
    "        x0_dict[\"ls\"] = len(x0) - 1\n",
    "    if eps0 is not None:\n",
    "        x0.append(eps0)\n",
    "        x0_dict[\"eps\"] = len(x0) - 1\n",
    "\n",
    "    def rg_rerun(T, eps, I, ls, protein_object, data_dir):\n",
    "        og_time = int(np.max(protein_object.data[T, :, 0]))\n",
    "        og_save = int(protein_object.data[T, 1, 0])\n",
    "        \n",
    "        every = protein_object.every_frames if protein_object.every_frames is not None else 1\n",
    "        last = protein_object.last_frames if protein_object.last_frames is not None else total_frames\n",
    "        \n",
    "        Ei = protein_object.data[T, :, 1]\n",
    "        Ei = Ei[protein_object.equil_frames::every]\n",
    "        Ei = Ei[-last:]\n",
    "        rgi = protein_object.rg(use='md', full=True)[0][T]\n",
    "        if protein_object.last_frames is None:\n",
    "            rgi = rgi[-total_frames:]\n",
    "        protein = protein_object.protein\n",
    "\n",
    "        shutil.copyfile(os.path.join(data_dir, 'data.data'), os.path.join(temp_dir, f'data.data'))\n",
    "        shutil.copyfile(os.path.join(data_dir, f'atom_traj_{T}.lammpstrj'),\n",
    "                        os.path.join(temp_dir, f'atom_traj_{protein}.lammpstrj'))\n",
    "\n",
    "        rerun = lmpsetup.LMPSetup(oliba_wd=temp_dir, protein=protein)\n",
    "        # rerun.ionic_strength = I\n",
    "        rerun.water_perm = eps\n",
    "        rerun.hps_scale = ls\n",
    "        rerun.save = og_save\n",
    "        rerun.debye = 0.1\n",
    "        rerun.temperatures = [above_tc.temperatures[T]]\n",
    "        rerun.rerun_dump = f'atom_traj_{protein}.lammpstrj'\n",
    "        # in frames\n",
    "        rerun.rerun_skip = every\n",
    "        # in timesteps\n",
    "        rerun.rerun_start = og_time + og_save - Ei.shape[0]*og_save*every\n",
    "        # in timesteps\n",
    "        rerun.rerun_stop = og_time\n",
    "        rerun.temperature = protein_object.get_temperatures()[T]\n",
    "        # TODO : Remove hardcoding\n",
    "        rerun.box_size = {\"x\": 5000, \"y\": 5000, \"z\": 5000}\n",
    "        rerun.write_hps_files(rerun=True, data=False, qsub=False, rst=False, silent=True)\n",
    "        rerun.run(file=os.path.join(temp_dir, 'lmp0.lmp'), n_cores=1)\n",
    "\n",
    "        rerun_analysis = lmp.LMP(md_dir=temp_dir)\n",
    "        Ef = rerun_analysis.data[0, :, 1]\n",
    "        weights = rerun_analysis.weights(Ei=Ei, Ef=Ef, T=protein_object.get_temperatures()[T])\n",
    "        weights = weights / np.sum(weights)\n",
    "        n_eff = n_eff_calc(weights)\n",
    "        reweight_rg = np.dot(rgi, weights.T)\n",
    "        return reweight_rg, n_eff\n",
    "\n",
    "    def calc_cost(x, args):\n",
    "        T = args[0]\n",
    "        if \"I\" in x0_dict:\n",
    "            I = x[x0_dict[\"I\"]]\n",
    "        else:\n",
    "            I = default[\"I\"]\n",
    "        if \"ls\" in x0_dict:\n",
    "            ls = x[x0_dict[\"ls\"]]\n",
    "        else:\n",
    "            ls = default[\"ls\"]\n",
    "        if \"eps\" in x0_dict:\n",
    "            eps = x[x0_dict[\"eps\"]]\n",
    "        else:\n",
    "            eps = default[\"eps\"]\n",
    "        print(ls, eps)\n",
    "        rw_above_rg, neff_a = rg_rerun(T=T, eps=eps, I=I, ls=ls, protein_object=above_tc, data_dir=a_dir)\n",
    "        rw_below_rg, neff_b = rg_rerun(T=T, eps=eps, I=I, ls=ls, protein_object=below_tc, data_dir=b_dir)\n",
    "        global rw_A\n",
    "        global rw_B\n",
    "        rw_A, rw_B = rw_above_rg, rw_below_rg\n",
    "        c = - (rw_above_rg - rw_below_rg) ** 2 + weight_cost_mean * ((rw_below_rg + rw_above_rg) / 2 - mean_rg) ** 2\n",
    "        print(\"=\" * 80)\n",
    "        print(f\"I={I}, ls={ls}, eps={eps}, RgA_i={rgiA}, RgB_i={rgiB}\")\n",
    "        print(\n",
    "            f\"Rw RgA, {rw_A:.3f}, Rw RgB {rw_B:.3f}, diff {rw_A - rw_B:.2f}, dist to mean {(rw_below_rg + rw_above_rg) / 2 - mean_rg:.2f}, cost {c:.2f}\")\n",
    "        print(f\"Neff-A, {neff_a} Neff-B, {neff_b}\")\n",
    "        print(\"=\" * 80)\n",
    "        return c, neff_a, neff_b\n",
    "    cst, neff_a, neff_b = calc_cost([100e-3, 1, 80], args=[T, 100e-3, 1, 80])\n",
    "    return cst, neff_a, neff_b\n",
    "    if method == 'opt':\n",
    "        m = scipy.optimize.minimize(fun=calc_cost, x0=np.array(x0),\n",
    "                                    args=[T, default[\"I\"], default[\"ls\"], default[\"eps\"]])\n",
    "\n",
    "        print(\"=\" * 80)\n",
    "        print(\n",
    "            f\"For T={T} and initial parameters I = {I0}, eps = {eps0} with RgA = {above_tc.rg(use='md').mean(axis=1)[T]:.2f}, RgB = {below_tc.rg(use='md').mean(axis=1)[T]:.2f}\")\n",
    "        print(f\"Minimization resulted in {m.x[0]}  {m.x[1]} and reweighted Rg's A = {rw_A:.2f} and B = {rw_B:.2f}\")\n",
    "        print(\"=\" * 80)\n",
    "        result = \"=============================================\\n\"\n",
    "        result += f'T={T}, I0={I0}, eps={eps0}, rgiAbove={rgiA}, rgiBelow={rgiB} \\n'\n",
    "        result += f'If={m.x[0]}, eps={m.x[1]}, rgAboveF={rw_A}, rgBelowF={rw_B}\\n'\n",
    "        result += \"=============================================\\n\"\n",
    "        with open(f'minimization_{T}.txt', 'a+') as min:\n",
    "            min.write(result)\n",
    "\n",
    "        return m\n",
    "    elif method == 'sto':\n",
    "        best, best_params, best_neffs = 0, [], [-1, -1]\n",
    "        iterations = 50000\n",
    "        for it in range(iterations):\n",
    "            current = []\n",
    "            for x in x0:\n",
    "                current.append(x * np.random.normal(1, 0.02, 1)[0])\n",
    "            cst, neff_a, neff_b = calc_cost(current, args=[T, default[\"I\"], default[\"ls\"], default[\"eps\"]])\n",
    "            if cst < best:\n",
    "                best = cst\n",
    "                best_params = current[:]\n",
    "                best_neffs = [neff_a, neff_b]\n",
    "                print(current)\n",
    "                print(\"Saving at /home/adria/rew_test.txt\", f'data/{savefile}')\n",
    "                with open('/home/adria/rew_test.txt', 'a+') as fout:\n",
    "                    str_curr = \", \".join(map(str,current))\n",
    "                    fout.write(\n",
    "                        f\"{it} {cst} {rw_A} {rw_B} {str_curr} {neff_a} {neff_b}\\n\")\n",
    "                x0 = current\n",
    "        return best, best_params, best_neffs"
   ]
  }
 ],
 "metadata": {
  "kernelspec": {
   "display_name": "Python 3",
   "language": "python",
   "name": "python3"
  },
  "language_info": {
   "codemirror_mode": {
    "name": "ipython",
    "version": 3
   },
   "file_extension": ".py",
   "mimetype": "text/x-python",
   "name": "python",
   "nbconvert_exporter": "python",
   "pygments_lexer": "ipython3",
   "version": "3.7.4"
  }
 },
 "nbformat": 4,
 "nbformat_minor": 2
}
