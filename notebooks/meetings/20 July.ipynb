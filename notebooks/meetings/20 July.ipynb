{
 "cells": [
  {
   "cell_type": "code",
   "execution_count": 1,
   "metadata": {},
   "outputs": [],
   "source": [
    "%load_ext autoreload\n",
    "%autoreload 2\n",
    "%matplotlib inline\n",
    "\n",
    "import analysis\n",
    "import lmpsetup\n",
    "import hmdsetup\n",
    "import hmd\n",
    "\n",
    "import numpy as np\n",
    "import matplotlib.pyplot as plt\n",
    "import analysis\n",
    "import rgRPA\n",
    "\n",
    "import scipy.constants as cnt\n",
    "\n",
    "import mdtraj as md\n",
    "import statsmodels.tsa.stattools\n",
    "import MDAnalysis.analysis as mda\n",
    "from matplotlib.lines import Line2D"
   ]
  },
  {
   "cell_type": "code",
   "execution_count": 524,
   "metadata": {},
   "outputs": [
    {
     "name": "stdout",
     "output_type": "stream",
     "text": [
      "╔═══════════════════════════════════════════════════════════════════╗\n",
      "║     Input files created at /home/adria/test/pulchra/pr for PR     ║\n",
      "║-------------------------------------------------------------------║\n",
      "║   PARAMETERS                                                      ║\n",
      "║       - Model = HPS                                               ║\n",
      "║       - Chains = 1                                                ║\n",
      "║       - Ionic Strength (mM) = 0.1                                 ║\n",
      "║       - Medium Permittivity = 80.0                                ║\n",
      "║       - Temperatures (K) = [300, 320, 340, 360, 380, 400]         ║\n",
      "║       - HPS Scale = 1.0                                           ║\n",
      "╚═══════════════════════════════════════════════════════════════════╝\n"
     ]
    }
   ],
   "source": [
    "lmpsetup.LMPSetup('/home/adria/test/pulchra/pr',\n",
    "                 protein='PR').write_hps_files()"
   ]
  },
  {
   "cell_type": "markdown",
   "metadata": {},
   "source": [
    "## Summary\n",
    "\n",
    "**[1. CPEB4 KH Testing](#1)**\n",
    "\n",
    "**[2. CPEB4 RtoK](#2)**\n",
    "\n",
    "**[3. HOOMD FUS Test](#3)**\n",
    "\n",
    "**[4. Alpha helical of CPEB4](#4)**"
   ]
  },
  {
   "cell_type": "markdown",
   "metadata": {},
   "source": [
    "### 1. CPEB4 KH Testing <a id='1'></a>"
   ]
  },
  {
   "cell_type": "code",
   "execution_count": 9,
   "metadata": {},
   "outputs": [
    {
     "name": "stdout",
     "output_type": "stream",
     "text": [
      "╔════════════════════════════════════════════════════════════════════════════════════════════╗\n",
      "║     Input files created at /home/adria/perdiux/prod/lammps/dignon/KH/CPEB4-H for CPEB4     ║\n",
      "║--------------------------------------------------------------------------------------------║\n",
      "║   PARAMETERS                                                                               ║\n",
      "║       - Model = KH-HPS                                                                     ║\n",
      "║       - Chains = 1                                                                         ║\n",
      "║       - Ionic Strength (mM) = 0.1                                                          ║\n",
      "║       - Medium Permittivity = 80.0                                                         ║\n",
      "║       - Temperatures (K) = [300.         321.42857143 342.85714286 364.28571429 385.71428571\n",
      " 407.14285714 428.57142857 450.        ]    ║\n",
      "║       - HPS Scale = 1.0                                                                    ║\n",
      "╚════════════════════════════════════════════════════════════════════════════════════════════╝\n",
      "╔══════════════════════════════════════════════════════════════════════════════════════════╗\n",
      "║     Input files created at /home/adria/perdiux/prod/lammps/dignon/KH/CPEB4 for CPEB4     ║\n",
      "║------------------------------------------------------------------------------------------║\n",
      "║   PARAMETERS                                                                             ║\n",
      "║       - Model = KH                                                                       ║\n",
      "║       - Chains = 1                                                                       ║\n",
      "║       - Ionic Strength (mM) = 0.1                                                        ║\n",
      "║       - Medium Permittivity = 80.0                                                       ║\n",
      "║       - Temperatures (K) = [300.         321.42857143 342.85714286 364.28571429 385.71428571\n",
      " 407.14285714 428.57142857 450.        ]    ║\n",
      "║       - HPS Scale = 1.0                                                                  ║\n",
      "╚══════════════════════════════════════════════════════════════════════════════════════════╝\n"
     ]
    }
   ],
   "source": [
    "temperatures = np.linspace(300,450,8)\n",
    "lmpsetup.LMPSetup(temperatures=temperatures,\n",
    "                  protein='CPEB4',\n",
    "                  host='@perdiu37',\n",
    "                  debye=0.1,\n",
    "                  oliba_wd='/home/adria/perdiux/prod/lammps/dignon/KH/CPEB4-H', \n",
    "                  save=50000,\n",
    "                  t=int(1e9),\n",
    "                  processors=2,\n",
    "                  model='KH-HPS').write_hps_files()\n",
    "\n",
    "lmpsetup.LMPSetup(temperatures=temperatures,\n",
    "                  protein='CPEB4',\n",
    "                  debye=0.1,\n",
    "                  oliba_wd='/home/adria/perdiux/prod/lammps/dignon/KH/CPEB4', \n",
    "                  save=50000,\n",
    "                  t=int(1e9),\n",
    "                  host='@perdiu38',\n",
    "                  processors=2,\n",
    "                  model='KH').write_hps_files()"
   ]
  },
  {
   "cell_type": "code",
   "execution_count": 92,
   "metadata": {},
   "outputs": [
    {
     "name": "stdout",
     "output_type": "stream",
     "text": [
      "> Taking frames every 1 for a total of 10000 to avoid strong correlations\n",
      "> Taking frames every 1 for a total of 10000 to avoid strong correlations\n"
     ]
    }
   ],
   "source": [
    "hps_KH = analysis.Analysis(oliba_wd='/home/adria/perdiux/prod/lammps/dignon/KH/CPEB4-H')\n",
    "true_KH = analysis.Analysis(oliba_wd='/home/adria/perdiux/prod/lammps/dignon/KH/CPEB4')"
   ]
  },
  {
   "cell_type": "code",
   "execution_count": 129,
   "metadata": {},
   "outputs": [
    {
     "data": {
      "text/plain": [
       "<ErrorbarContainer object of 3 artists>"
      ]
     },
     "execution_count": 129,
     "metadata": {},
     "output_type": "execute_result"
    },
    {
     "data": {
      "image/png": "[encoded data removed]",
      "text/plain": [
       "<Figure size 432x288 with 1 Axes>"
      ]
     },
     "metadata": {
      "needs_background": "light"
     },
     "output_type": "display_data"
    }
   ],
   "source": [
    "rg1 = hps_KH.rg()\n",
    "rg_avg = []\n",
    "err = []\n",
    "for i,r in enumerate(rg1):\n",
    "    err.append(analysis.Analysis(oliba_wd=None).block_error(observable=np.array([r]))[0])\n",
    "    rg_avg.append(r.mean())\n",
    "\n",
    "plt.errorbar(hps_KH.temperatures, rg_avg, yerr=err)\n",
    "\n",
    "rg1 = true_KH.rg()\n",
    "rg_avg = []\n",
    "err = []\n",
    "for i,r in enumerate(rg1):\n",
    "    err.append(analysis.Analysis(oliba_wd=None).block_error(observable=np.array([r]))[0])\n",
    "    rg_avg.append(r.mean())\n",
    "    \n",
    "plt.errorbar(true_KH.temperatures, rg_avg, yerr=err)\n"
   ]
  },
  {
   "cell_type": "code",
   "execution_count": 10,
   "metadata": {},
   "outputs": [
    {
     "name": "stdout",
     "output_type": "stream",
     "text": [
      "╔═══════════════════════════════════════════════════════════════════════════════════════════════╗\n",
      "║     Input files created at /home/adria/perdiux/prod/lammps/dignon/KH/CPEB4_D4-H for CPEB4     ║\n",
      "║-----------------------------------------------------------------------------------------------║\n",
      "║   PARAMETERS                                                                                  ║\n",
      "║       - Model = KH-HPS                                                                        ║\n",
      "║       - Chains = 1                                                                            ║\n",
      "║       - Ionic Strength (mM) = 0.1                                                             ║\n",
      "║       - Medium Permittivity = 80.0                                                            ║\n",
      "║       - Temperatures (K) = [300.         321.42857143 342.85714286 364.28571429 385.71428571\n",
      " 407.14285714 428.57142857 450.        ]    ║\n",
      "║       - HPS Scale = 1.0                                                                       ║\n",
      "╚═══════════════════════════════════════════════════════════════════════════════════════════════╝\n",
      "╔═════════════════════════════════════════════════════════════════════════════════════════════╗\n",
      "║     Input files created at /home/adria/perdiux/prod/lammps/dignon/KH/CPEB4_D4 for CPEB4     ║\n",
      "║---------------------------------------------------------------------------------------------║\n",
      "║   PARAMETERS                                                                                ║\n",
      "║       - Model = KH                                                                          ║\n",
      "║       - Chains = 1                                                                          ║\n",
      "║       - Ionic Strength (mM) = 0.1                                                           ║\n",
      "║       - Medium Permittivity = 80.0                                                          ║\n",
      "║       - Temperatures (K) = [300.         321.42857143 342.85714286 364.28571429 385.71428571\n",
      " 407.14285714 428.57142857 450.        ]    ║\n",
      "║       - HPS Scale = 1.0                                                                     ║\n",
      "╚═════════════════════════════════════════════════════════════════════════════════════════════╝\n"
     ]
    }
   ],
   "source": [
    "temperatures = np.linspace(300,450, 8)\n",
    "lmpsetup.LMPSetup(temperatures=temperatures,\n",
    "                  protein='CPEB4',\n",
    "                  host='@perdiu39',\n",
    "                  debye=0.1,\n",
    "                  oliba_wd='/home/adria/perdiux/prod/lammps/dignon/KH/CPEB4_D4-H', \n",
    "                  save=50000,\n",
    "                  t=int(1e9),\n",
    "                  processors=2,\n",
    "                  model='KH-HPS').write_hps_files()\n",
    "\n",
    "lmpsetup.LMPSetup(temperatures=temperatures,\n",
    "                  protein='CPEB4',\n",
    "                  debye=0.1,\n",
    "                  oliba_wd='/home/adria/perdiux/prod/lammps/dignon/KH/CPEB4_D4', \n",
    "                  save=50000,\n",
    "                  t=int(1e9),\n",
    "                  host='@perdiu40',\n",
    "                  processors=2,\n",
    "                  model='KH').write_hps_files()"
   ]
  },
  {
   "cell_type": "code",
   "execution_count": 130,
   "metadata": {},
   "outputs": [
    {
     "name": "stdout",
     "output_type": "stream",
     "text": [
      "> Taking frames every 1 for a total of 10000 to avoid strong correlations\n",
      "> Taking frames every 1 for a total of 10000 to avoid strong correlations\n"
     ]
    },
    {
     "data": {
      "text/plain": [
       "<ErrorbarContainer object of 3 artists>"
      ]
     },
     "execution_count": 130,
     "metadata": {},
     "output_type": "execute_result"
    },
    {
     "data": {
      "image/png": "[encoded data removed]",
      "text/plain": [
       "<Figure size 432x288 with 1 Axes>"
      ]
     },
     "metadata": {
      "needs_background": "light"
     },
     "output_type": "display_data"
    }
   ],
   "source": [
    "wt = analysis.Analysis(oliba_wd='/home/adria/perdiux/prod/lammps/dignon/KH/CPEB4-H')\n",
    "d4 = analysis.Analysis(oliba_wd='/home/adria/perdiux/prod/lammps/dignon/KH/CPEB4_D4-H')\n",
    "\n",
    "rg_wt = wt.rg()\n",
    "rg_d4 = d4.rg()\n",
    "\n",
    "rg_avg_wt = []\n",
    "err_wt = []\n",
    "rg_avg_d4 = []\n",
    "err_d4 = []\n",
    "\n",
    "for i,r in enumerate(rg_wt):\n",
    "    err_wt.append(analysis.Analysis(oliba_wd=None).block_error(observable=np.array([r]))[0])\n",
    "    rg_avg_wt.append(r.mean())\n",
    "    \n",
    "\n",
    "for i,r in enumerate(rg_d4):\n",
    "    err_d4.append(analysis.Analysis(oliba_wd=None).block_error(observable=np.array([r]))[0])\n",
    "    rg_avg_d4.append(r.mean())\n",
    "\n",
    "plt.errorbar(wt.temperatures, rg_avg_wt, yerr=err_wt, label='WT')\n",
    "plt.errorbar(d4.temperatures, rg_avg_d4, yerr=err_d4, label='D4')"
   ]
  },
  {
   "cell_type": "markdown",
   "metadata": {},
   "source": [
    "### 2. CPEB4 RtoK <a id='2'></a>"
   ]
  },
  {
   "cell_type": "code",
   "execution_count": 145,
   "metadata": {},
   "outputs": [
    {
     "name": "stdout",
     "output_type": "stream",
     "text": [
      "╔════════════════════════════════════════════════════════════════════════════════════════════════════╗\n",
      "║     Input files created at /home/adria/perdiux/prod/lammps/dignon/KH/CPEB4_RtoK for CPEB4_RtoK     ║\n",
      "║----------------------------------------------------------------------------------------------------║\n",
      "║   PARAMETERS                                                                                       ║\n",
      "║       - Model = HPS                                                                                ║\n",
      "║       - Chains = 1                                                                                 ║\n",
      "║       - Ionic Strength (mM) = 0.1                                                                  ║\n",
      "║       - Medium Permittivity = 80.0                                                                 ║\n",
      "║       - Temperatures (K) = [300. 330. 360. 390. 420. 450.]                                         ║\n",
      "║       - HPS Scale = 1.0                                                                            ║\n",
      "╚════════════════════════════════════════════════════════════════════════════════════════════════════╝\n"
     ]
    }
   ],
   "source": [
    "temperatures = np.linspace(300,450, 6)\n",
    "lmpsetup.LMPSetup(temperatures=temperatures,\n",
    "                  protein='CPEB4_RtoK',\n",
    "                  host='@perdiu32',\n",
    "                  debye=0.1,\n",
    "                  oliba_wd='/home/adria/perdiux/prod/lammps/dignon/KH/CPEB4_RtoK', \n",
    "                  save=50000,\n",
    "                  t=int(1e9),\n",
    "                  processors=2,\n",
    "                  model='HPS').write_hps_files()"
   ]
  },
  {
   "cell_type": "code",
   "execution_count": 133,
   "metadata": {},
   "outputs": [
    {
     "name": "stdout",
     "output_type": "stream",
     "text": [
      "> Taking frames every 1 for a total of 10000 to avoid strong correlations\n",
      "(0,)\n",
      "(0,)\n",
      "(0,)\n",
      "(0,)\n",
      "(0,)\n",
      "(0,)\n",
      "(0,)\n",
      "(0,)\n"
     ]
    },
    {
     "name": "stderr",
     "output_type": "stream",
     "text": [
      "/home/adria/scripts/lammps/lammps/analysis.py:655: RuntimeWarning: Mean of empty slice.\n",
      "  errors = []\n",
      "/home/adria/scripts/lammps/lammps/analysis.py:662: RuntimeWarning: Mean of empty slice.\n",
      "  errors.append(np.sqrt(err / (n_blocks * (n_blocks - 1))))\n",
      "/home/adria/scripts/lammps/lammps/analysis.py:404: RuntimeWarning: Mean of empty slice.\n",
      "  return np.array(rgs), np.array(err)\n"
     ]
    },
    {
     "data": {
      "text/plain": [
       "(array([nan, nan, nan, nan, nan, nan, nan, nan]),\n",
       " array([nan, nan, nan, nan, nan, nan, nan, nan]))"
      ]
     },
     "execution_count": 133,
     "metadata": {},
     "output_type": "execute_result"
    }
   ],
   "source": [
    "analysis.Analysis(oliba_wd='/home/adria/perdiux/prod/lammps/dignon/KH/CPEB4_RtoK').rg()"
   ]
  },
  {
   "cell_type": "markdown",
   "metadata": {},
   "source": [
    "Choose which aminoacids are going to be used for KH"
   ]
  },
  {
   "cell_type": "code",
   "execution_count": 16,
   "metadata": {},
   "outputs": [],
   "source": [
    "t = analysis.Analysis(oliba_wd=None)"
   ]
  },
  {
   "cell_type": "code",
   "execution_count": 18,
   "metadata": {},
   "outputs": [],
   "source": [
    "r, aa_dict = t.pair_potential()"
   ]
  },
  {
   "cell_type": "markdown",
   "metadata": {},
   "source": [
    "Attempt to change lambda value to 1 just for testing..."
   ]
  },
  {
   "cell_type": "code",
   "execution_count": 146,
   "metadata": {
    "scrolled": true
   },
   "outputs": [
    {
     "name": "stdout",
     "output_type": "stream",
     "text": [
      "╔═══════════════════════════════════════════════════════════════════════════════════════════════╗\n",
      "║     Input files created at /home/adria/perdiux/prod/lammps/dignon/KH/CPEB4_RasP for CPEB4     ║\n",
      "║-----------------------------------------------------------------------------------------------║\n",
      "║   PARAMETERS                                                                                  ║\n",
      "║       - Model = HPS                                                                           ║\n",
      "║       - Chains = 1                                                                            ║\n",
      "║       - Ionic Strength (mM) = 0.1                                                             ║\n",
      "║       - Medium Permittivity = 80.0                                                            ║\n",
      "║       - Temperatures (K) = [300. 330. 360. 390. 420. 450.]                                    ║\n",
      "║       - HPS Scale = 1.0                                                                       ║\n",
      "╚═══════════════════════════════════════════════════════════════════════════════════════════════╝\n"
     ]
    }
   ],
   "source": [
    "temperatures = np.linspace(300,450,6)\n",
    "test = lmpsetup.LMPSetup(temperatures=temperatures,\n",
    "                  protein='CPEB4',\n",
    "                  host='@perdiu33',\n",
    "                  debye=0.1,\n",
    "                  oliba_wd='/home/adria/perdiux/prod/lammps/dignon/KH/CPEB4_RasP', \n",
    "                  save=50000,\n",
    "                  t=int(1e9),\n",
    "                  processors=2,\n",
    "                  model='HPS')\n",
    "test.residue_dict[\"R\"][\"lambda\"] = 1\n",
    "test.write_hps_files()"
   ]
  },
  {
   "cell_type": "markdown",
   "metadata": {},
   "source": [
    "### 3. HOOMD FUS Test <a id='3'></a>"
   ]
  },
  {
   "cell_type": "code",
   "execution_count": 2,
   "metadata": {},
   "outputs": [],
   "source": [
    "# temperatures_FUS = np.array(plot_data)[:,1]*344.4\n",
    "temperatures_FUS = [290, 300, 310, 320]\n",
    "\n",
    "for temp in temperatures_FUS:\n",
    "    hmdsetup.HMDSetup(oliba_wd=f'/home/adria/irb/hoomd/FUS2',\n",
    "                          protein='FUS',\n",
    "                          chains=100, \n",
    "                          model='HPS',\n",
    "                          save=50000,\n",
    "                          t=int(1e9),\n",
    "                          slab=True,\n",
    "                          use_random=True,\n",
    "                          temperature=temp,\n",
    "                          debye=0.1).write_hps_files()"
   ]
  },
  {
   "cell_type": "markdown",
   "metadata": {},
   "source": [
    "## HMD RESULTS"
   ]
  },
  {
   "cell_type": "code",
   "execution_count": 3,
   "metadata": {},
   "outputs": [
    {
     "name": "stdout",
     "output_type": "stream",
     "text": [
      "[<mdtraj.Trajectory with 363 frames, 16300 atoms, 16300 residues, and unitcells at 0x7fd02291b9d0>, <mdtraj.Trajectory with 190 frames, 16300 atoms, 16300 residues, and unitcells at 0x7fd02291b850>, <mdtraj.Trajectory with 409 frames, 16300 atoms, 16300 residues, and unitcells at 0x7fd021fa5fd0>, <mdtraj.Trajectory with 431 frames, 16300 atoms, 16300 residues, and unitcells at 0x7fd021fa5650>]\n",
      "85.50464876033058\n"
     ]
    },
    {
     "data": {
      "text/plain": [
       "[<matplotlib.lines.Line2D at 0x7fd005f98d90>]"
      ]
     },
     "execution_count": 3,
     "metadata": {},
     "output_type": "execute_result"
    },
    {
     "data": {
      "image/png": "[encoded data removed]",
      "text/plain": [
       "<Figure size 432x288 with 1 Axes>"
      ]
     },
     "metadata": {
      "needs_background": "light"
     },
     "output_type": "display_data"
    },
    {
     "data": {
      "image/png": "[encoded data removed]",
      "text/plain": [
       "<Figure size 432x288 with 1 Axes>"
      ]
     },
     "metadata": {
      "needs_background": "light"
     },
     "output_type": "display_data"
    }
   ],
   "source": [
    "s = hmd.HMD(md_dir='/home/adria/irb/hoomd/FUS2', equil_frames=100)\n",
    "T=0\n",
    "z, rho = s.density_profile(T=T)\n",
    "print(rho.mean(axis=0).max())\n",
    "plt.imshow(rho, aspect='auto')\n",
    "plt.figure()\n",
    "plt.plot(z,rho.mean(axis=0))\n",
    "\n",
    "\n",
    "#     intf = s.interface_position(z=z, rho_z=rho.mean(axis=0))[0]\n",
    "#     print(intf)\n",
    "#     plt.plot(z[68:90],rho.mean(axis=0)[68:90], '--', label=f'{T}-HMD')\n",
    "#     plt.axvline(intf[0])\n",
    "#     plt.axvline(intf[1])\n",
    "#     z, rho = fus.density_profile(T=T)\n",
    "#     intf = fus.interface_position(z=z, rho_z=rho.mean(axis=0))\n",
    "#     plt.plot(z[68:90],rho.mean(axis=0)[68:90],  label=f'{T}-LMP')\n",
    "#     plt.axvline(intf[0], color='orange')\n",
    "#     plt.axvline(intf[1], color='orange')\n",
    "    \n",
    "# plt.legend()\n",
    "\n",
    "# rho_d, rho_c = s.phase_diagram()\n",
    "# exp_data = np.genfromtxt('/home/adria/documents/fus.txt', delimiter=',')\n",
    "# print(exp_data)\n",
    "# plt.plot(rho_c, s.temperatures, '--o')\n",
    "# plt.plot(rho_d, s.temperatures, '--o')"
   ]
  },
  {
   "cell_type": "code",
   "execution_count": null,
   "metadata": {},
   "outputs": [],
   "source": [
    "s = hmd.HMD(md_dir='/home/adria/irb/hoomd/FUS2', equil_frames=100)\n",
    "\n",
    "rho_d, rho_c = s.phase_diagram()\n",
    "exp_data = np.genfromtxt('/home/adria/documents/fus.txt', delimiter=',')\n",
    "# print(exp_data)\n",
    "plt.plot(rho_c, s.temperatures, '--o')\n",
    "plt.plot(rho_d, s.temperatures, '--o')"
   ]
  },
  {
   "cell_type": "markdown",
   "metadata": {},
   "source": [
    "## LMP RESULTS"
   ]
  },
  {
   "cell_type": "code",
   "execution_count": 185,
   "metadata": {},
   "outputs": [
    {
     "name": "stdout",
     "output_type": "stream",
     "text": [
      "> Taking frames every 1 for a total of 10000 to avoid strong correlations\n",
      "126.11062834224599\n"
     ]
    },
    {
     "data": {
      "text/plain": [
       "[<matplotlib.lines.Line2D at 0x7fec9b107e50>]"
      ]
     },
     "execution_count": 185,
     "metadata": {},
     "output_type": "execute_result"
    },
    {
     "data": {
      "image/png": "[encoded data removed]",
      "text/plain": [
       "<Figure size 432x288 with 1 Axes>"
      ]
     },
     "metadata": {
      "needs_background": "light"
     },
     "output_type": "display_data"
    },
    {
     "data": {
      "image/png": "[encoded data removed]",
      "text/plain": [
       "<Figure size 432x288 with 1 Axes>"
      ]
     },
     "metadata": {
      "needs_background": "light"
     },
     "output_type": "display_data"
    }
   ],
   "source": [
    "t = analysis.Analysis(oliba_wd='/home/adria/perdiux/prod/lammps/dignon/FUS_TEST')\n",
    "T=0\n",
    "z, rho = t.density_profile(T=T)\n",
    "print(rho.mean(axis=0).max())\n",
    "plt.imshow(rho, aspect='auto')\n",
    "plt.figure()\n",
    "plt.plot(z,rho.mean(axis=0))"
   ]
  },
  {
   "cell_type": "code",
   "execution_count": 164,
   "metadata": {},
   "outputs": [
    {
     "data": {
      "text/plain": [
       "[<matplotlib.lines.Line2D at 0x7fec98e20150>]"
      ]
     },
     "execution_count": 164,
     "metadata": {},
     "output_type": "execute_result"
    },
    {
     "data": {
      "image/png": "[encoded data removed]",
      "text/plain": [
       "<Figure size 432x288 with 1 Axes>"
      ]
     },
     "metadata": {
      "needs_background": "light"
     },
     "output_type": "display_data"
    }
   ],
   "source": [
    "plt.plot(z[68:90],rho.mean(axis=0)[68:90],  label=f'{T}-LMP')"
   ]
  },
  {
   "cell_type": "code",
   "execution_count": 150,
   "metadata": {},
   "outputs": [
    {
     "name": "stdout",
     "output_type": "stream",
     "text": [
      "> Taking frames every 1 for a total of 10000 to avoid strong correlations\n"
     ]
    },
    {
     "data": {
      "image/png": "[encoded data removed]",
      "text/plain": [
       "<Figure size 432x288 with 1 Axes>"
      ]
     },
     "metadata": {
      "needs_background": "light"
     },
     "output_type": "display_data"
    }
   ],
   "source": [
    "fus = analysis.Analysis(oliba_wd='/home/adria/perdiux/prod/lammps/dignon/FUS_TEST')\n",
    "for T in range(4):\n",
    "    z, rho = fus.density_profile(T=T)\n",
    "    plt.plot(z,rho.mean(axis=0))"
   ]
  },
  {
   "cell_type": "markdown",
   "metadata": {},
   "source": [
    "Compared to LMP FUS:"
   ]
  },
  {
   "cell_type": "code",
   "execution_count": 31,
   "metadata": {},
   "outputs": [
    {
     "name": "stdout",
     "output_type": "stream",
     "text": [
      "> Taking frames every 1 for a total of 10000 to avoid strong correlations\n",
      "> Interface fit failed for negative z, returning 0 (no interface) !!!\n"
     ]
    },
    {
     "data": {
      "text/plain": [
       "[<matplotlib.lines.Line2D at 0x7fecc0e64b10>]"
      ]
     },
     "execution_count": 31,
     "metadata": {},
     "output_type": "execute_result"
    },
    {
     "data": {
      "image/png": "[encoded data removed]",
      "text/plain": [
       "<Figure size 432x288 with 1 Axes>"
      ]
     },
     "metadata": {
      "needs_background": "light"
     },
     "output_type": "display_data"
    }
   ],
   "source": [
    "fus = analysis.Analysis(oliba_wd='/home/adria/perdiux/prod/lammps/dignon/FUS_TEST')\n",
    "rho_c, rho_d = fus.phase_diagram()\n",
    "\n",
    "exp_data = np.genfromtxt('/home/adria/documents/fus.txt', delimiter=',')\n",
    "# plt.plot(rho_c*1660.54, fus.temperatures, '--o')\n",
    "plt.plot(rho_c, fus.temperatures, '--o')\n",
    "# plt.plot(rho_d*1660.54, fus.temperatures, '--o')\n",
    "plt.plot(rho_d, fus.temperatures, '--o')\n",
    "# plt.plot(exp_data[:,0],  exp_data[:,1]*344.4, '--o')"
   ]
  },
  {
   "cell_type": "markdown",
   "metadata": {},
   "source": [
    "### 4. Secondary structure on CPEB4 <a id='4'></a>"
   ]
  },
  {
   "cell_type": "markdown",
   "metadata": {},
   "source": [
    "Start from a non helical CPEB4 and then add the helicity !"
   ]
  },
  {
   "cell_type": "code",
   "execution_count": 59,
   "metadata": {},
   "outputs": [],
   "source": [
    "seq = 'MGDYGFGVLVQSNTGNKSAFPVRFHPHLQPPHHHQNATPSPAAFINNNTAANGSSAGSAWLFPAPATHNIQDEILGSEKAKSQQQEQQDPLEKQQLSPSPGQEAGILPETEKAKSEENQGDNSSENGNGKEKIRIESPVLTGFDYQEATGLGTSTQPLTSSASSLTGFSNWSAAIAPSSSTIINEDASFFHQGGVPAASANNGALLFQNFPHHVSPGFGGSFSPQIGPLSQHHPHHPHFQHHHSQHQQQRRSPASPHPPPFTHRNAAFNQLPHLANNLNKPPSPWSSYQSPSPTPSSSWSPGGGGYGGWGGSQGRDHRRGLNGGITPLNSISPLKKNFASNHIQLQKYARPSSAFAPKSWMEDSLNRADNIFPFPDRPRTFDMHSLESSLIDIMRAENDTIKARTYGRRRGQSSLFPMEDGFLDDGRGDQPLHSGLGSPHCFSHQNGE'"
   ]
  },
  {
   "cell_type": "code",
   "execution_count": 63,
   "metadata": {},
   "outputs": [
    {
     "data": {
      "text/plain": [
       "'RTFDMHSLESSLIDI'"
      ]
     },
     "execution_count": 63,
     "metadata": {},
     "output_type": "execute_result"
    }
   ],
   "source": [
    "nexp = seq[378:393]\n",
    "nexp"
   ]
  },
  {
   "cell_type": "code",
   "execution_count": 53,
   "metadata": {},
   "outputs": [
    {
     "name": "stdout",
     "output_type": "stream",
     "text": [
      "╔═══════════════════════════════════════════════════════════════════════╗\n",
      "║     Input files created at /home/adria/test/CPEB4_alpha for CPEB4     ║\n",
      "║-----------------------------------------------------------------------║\n",
      "║   PARAMETERS                                                          ║\n",
      "║       - Model = HPS                                                   ║\n",
      "║       - Chains = 1                                                    ║\n",
      "║       - Ionic Strength (mM) = 0.1                                     ║\n",
      "║       - Medium Permittivity = 80.0                                    ║\n",
      "║       - Temperatures (K) = [300]                                      ║\n",
      "║       - HPS Scale = 1.0                                               ║\n",
      "╚═══════════════════════════════════════════════════════════════════════╝\n"
     ]
    }
   ],
   "source": [
    "lmpsetup.LMPSetup(oliba_wd='/home/adria/test/CPEB4_alpha',\n",
    "                  protein='CPEB4',\n",
    "                  time=(1e7),\n",
    "                  save=50000, \n",
    "                  temperatures=[300],\n",
    "                  debye=0.1).write_hps_files(qsub=False)"
   ]
  },
  {
   "cell_type": "code",
   "execution_count": 121,
   "metadata": {},
   "outputs": [],
   "source": [
    "coords = np.zeros(shape=(448,3))\n",
    "d = np.arange(0, 378*3.8, 3.8)\n",
    "coords[:d.shape[0],0] = d\n"
   ]
  },
  {
   "cell_type": "code",
   "execution_count": 122,
   "metadata": {},
   "outputs": [],
   "source": [
    "alpha_coords = md.load_pdb('/home/adria/test/CPEB4_alpha/ca_nexp.pdb').xyz*10.\n",
    "alpha_coords=alpha_coords+[+1463.5980011+3.8,-81.949,-22.581999]"
   ]
  },
  {
   "cell_type": "code",
   "execution_count": 123,
   "metadata": {},
   "outputs": [],
   "source": [
    "coords[378:393,:] = alpha_coords"
   ]
  },
  {
   "cell_type": "code",
   "execution_count": 124,
   "metadata": {},
   "outputs": [
    {
     "data": {
      "text/plain": [
       "array([[[ 1.43640000e+03, -2.50244140e-06, -1.74926758e-07],\n",
       "        [ 1.43767800e+03, -3.46899664e+00, -8.92000373e-01],\n",
       "        [ 1.43746900e+03, -4.70700323e+00,  2.70500166e+00],\n",
       "        [ 1.43419000e+03, -2.91399634e+00,  3.42100126e+00],\n",
       "        [ 1.43200300e+03, -5.69999945e+00,  4.79599935e+00],\n",
       "        [ 1.42884700e+03, -3.60399878e+00,  5.19000036e+00],\n",
       "        [ 1.42722600e+03, -5.74199927e+00,  2.49500066e+00],\n",
       "        [ 1.42763100e+03, -8.74599707e+00,  4.80500013e+00],\n",
       "        [ 1.42618200e+03, -6.78800452e+00,  7.73300153e+00],\n",
       "        [ 1.42305200e+03, -5.68200171e+00,  5.87400037e+00],\n",
       "        [ 1.42238500e+03, -9.21000159e+00,  4.64200002e+00],\n",
       "        [ 1.42282101e+03, -1.05560023e+01,  8.16200048e+00],\n",
       "        [ 1.42060200e+03, -7.94199622e+00,  9.81900198e+00],\n",
       "        [ 1.41797900e+03, -8.68699896e+00,  7.15900213e+00],\n",
       "        [ 1.41762200e+03, -1.21610056e+01,  8.69199926e+00]]])"
      ]
     },
     "execution_count": 124,
     "metadata": {},
     "output_type": "execute_result"
    }
   ],
   "source": [
    "alpha_coords"
   ]
  },
  {
   "cell_type": "code",
   "execution_count": 126,
   "metadata": {},
   "outputs": [],
   "source": [
    "final = np.arange( 8.69199926e+00+3.8,  8.69199926e+00+3.8+55*3.8, +3.8)\n",
    "coords[393:,0] = 1.41762200e+03\n",
    "coords[393:,1] = -1.21610056e+01\n",
    "coords[393:,2] = final"
   ]
  },
  {
   "cell_type": "code",
   "execution_count": 127,
   "metadata": {},
   "outputs": [
    {
     "data": {
      "text/plain": [
       "array([   0.        ,    3.8       ,    7.6       ,   11.4       ,\n",
       "         15.2       ,   19.        ,   22.8       ,   26.6       ,\n",
       "         30.4       ,   34.2       ,   38.        ,   41.8       ,\n",
       "         45.6       ,   49.4       ,   53.2       ,   57.        ,\n",
       "         60.8       ,   64.6       ,   68.4       ,   72.2       ,\n",
       "         76.        ,   79.8       ,   83.6       ,   87.4       ,\n",
       "         91.2       ,   95.        ,   98.8       ,  102.6       ,\n",
       "        106.4       ,  110.2       ,  114.        ,  117.8       ,\n",
       "        121.6       ,  125.4       ,  129.2       ,  133.        ,\n",
       "        136.8       ,  140.6       ,  144.4       ,  148.2       ,\n",
       "        152.        ,  155.8       ,  159.6       ,  163.4       ,\n",
       "        167.2       ,  171.        ,  174.8       ,  178.6       ,\n",
       "        182.4       ,  186.2       ,  190.        ,  193.8       ,\n",
       "        197.6       ,  201.4       ,  205.2       ,  209.        ,\n",
       "        212.8       ,  216.6       ,  220.4       ,  224.2       ,\n",
       "        228.        ,  231.8       ,  235.6       ,  239.4       ,\n",
       "        243.2       ,  247.        ,  250.8       ,  254.6       ,\n",
       "        258.4       ,  262.2       ,  266.        ,  269.8       ,\n",
       "        273.6       ,  277.4       ,  281.2       ,  285.        ,\n",
       "        288.8       ,  292.6       ,  296.4       ,  300.2       ,\n",
       "        304.        ,  307.8       ,  311.6       ,  315.4       ,\n",
       "        319.2       ,  323.        ,  326.8       ,  330.6       ,\n",
       "        334.4       ,  338.2       ,  342.        ,  345.8       ,\n",
       "        349.6       ,  353.4       ,  357.2       ,  361.        ,\n",
       "        364.8       ,  368.6       ,  372.4       ,  376.2       ,\n",
       "        380.        ,  383.8       ,  387.6       ,  391.4       ,\n",
       "        395.2       ,  399.        ,  402.8       ,  406.6       ,\n",
       "        410.4       ,  414.2       ,  418.        ,  421.8       ,\n",
       "        425.6       ,  429.4       ,  433.2       ,  437.        ,\n",
       "        440.8       ,  444.6       ,  448.4       ,  452.2       ,\n",
       "        456.        ,  459.8       ,  463.6       ,  467.4       ,\n",
       "        471.2       ,  475.        ,  478.8       ,  482.6       ,\n",
       "        486.4       ,  490.2       ,  494.        ,  497.8       ,\n",
       "        501.6       ,  505.4       ,  509.2       ,  513.        ,\n",
       "        516.8       ,  520.6       ,  524.4       ,  528.2       ,\n",
       "        532.        ,  535.8       ,  539.6       ,  543.4       ,\n",
       "        547.2       ,  551.        ,  554.8       ,  558.6       ,\n",
       "        562.4       ,  566.2       ,  570.        ,  573.8       ,\n",
       "        577.6       ,  581.4       ,  585.2       ,  589.        ,\n",
       "        592.8       ,  596.6       ,  600.4       ,  604.2       ,\n",
       "        608.        ,  611.8       ,  615.6       ,  619.4       ,\n",
       "        623.2       ,  627.        ,  630.8       ,  634.6       ,\n",
       "        638.4       ,  642.2       ,  646.        ,  649.8       ,\n",
       "        653.6       ,  657.4       ,  661.2       ,  665.        ,\n",
       "        668.8       ,  672.6       ,  676.4       ,  680.2       ,\n",
       "        684.        ,  687.8       ,  691.6       ,  695.4       ,\n",
       "        699.2       ,  703.        ,  706.8       ,  710.6       ,\n",
       "        714.4       ,  718.2       ,  722.        ,  725.8       ,\n",
       "        729.6       ,  733.4       ,  737.2       ,  741.        ,\n",
       "        744.8       ,  748.6       ,  752.4       ,  756.2       ,\n",
       "        760.        ,  763.8       ,  767.6       ,  771.4       ,\n",
       "        775.2       ,  779.        ,  782.8       ,  786.6       ,\n",
       "        790.4       ,  794.2       ,  798.        ,  801.8       ,\n",
       "        805.6       ,  809.4       ,  813.2       ,  817.        ,\n",
       "        820.8       ,  824.6       ,  828.4       ,  832.2       ,\n",
       "        836.        ,  839.8       ,  843.6       ,  847.4       ,\n",
       "        851.2       ,  855.        ,  858.8       ,  862.6       ,\n",
       "        866.4       ,  870.2       ,  874.        ,  877.8       ,\n",
       "        881.6       ,  885.4       ,  889.2       ,  893.        ,\n",
       "        896.8       ,  900.6       ,  904.4       ,  908.2       ,\n",
       "        912.        ,  915.8       ,  919.6       ,  923.4       ,\n",
       "        927.2       ,  931.        ,  934.8       ,  938.6       ,\n",
       "        942.4       ,  946.2       ,  950.        ,  953.8       ,\n",
       "        957.6       ,  961.4       ,  965.2       ,  969.        ,\n",
       "        972.8       ,  976.6       ,  980.4       ,  984.2       ,\n",
       "        988.        ,  991.8       ,  995.6       ,  999.4       ,\n",
       "       1003.2       , 1007.        , 1010.8       , 1014.6       ,\n",
       "       1018.4       , 1022.2       , 1026.        , 1029.8       ,\n",
       "       1033.6       , 1037.4       , 1041.2       , 1045.        ,\n",
       "       1048.8       , 1052.6       , 1056.4       , 1060.2       ,\n",
       "       1064.        , 1067.8       , 1071.6       , 1075.4       ,\n",
       "       1079.2       , 1083.        , 1086.8       , 1090.6       ,\n",
       "       1094.4       , 1098.2       , 1102.        , 1105.8       ,\n",
       "       1109.6       , 1113.4       , 1117.2       , 1121.        ,\n",
       "       1124.8       , 1128.6       , 1132.4       , 1136.2       ,\n",
       "       1140.        , 1143.8       , 1147.6       , 1151.4       ,\n",
       "       1155.2       , 1159.        , 1162.8       , 1166.6       ,\n",
       "       1170.4       , 1174.2       , 1178.        , 1181.8       ,\n",
       "       1185.6       , 1189.4       , 1193.2       , 1197.        ,\n",
       "       1200.8       , 1204.6       , 1208.4       , 1212.2       ,\n",
       "       1216.        , 1219.8       , 1223.6       , 1227.4       ,\n",
       "       1231.2       , 1235.        , 1238.8       , 1242.6       ,\n",
       "       1246.4       , 1250.2       , 1254.        , 1257.8       ,\n",
       "       1261.6       , 1265.4       , 1269.2       , 1273.        ,\n",
       "       1276.8       , 1280.6       , 1284.4       , 1288.2       ,\n",
       "       1292.        , 1295.8       , 1299.6       , 1303.4       ,\n",
       "       1307.2       , 1311.        , 1314.8       , 1318.6       ,\n",
       "       1322.4       , 1326.2       , 1330.        , 1333.8       ,\n",
       "       1337.6       , 1341.4       , 1345.2       , 1349.        ,\n",
       "       1352.8       , 1356.6       , 1360.4       , 1364.2       ,\n",
       "       1368.        , 1371.8       , 1375.6       , 1379.4       ,\n",
       "       1383.2       , 1387.        , 1390.8       , 1394.6       ,\n",
       "       1398.4       , 1402.2       , 1406.        , 1409.8       ,\n",
       "       1413.6       , 1417.4       , 1421.2       , 1425.        ,\n",
       "       1428.8       , 1432.6       , 1436.4       , 1437.67800179,\n",
       "       1437.46900215, 1434.19000092, 1432.00300064, 1428.84700241,\n",
       "       1427.22600021, 1427.63099899, 1426.18199768, 1423.05200043,\n",
       "       1422.38500061, 1422.82100525, 1420.60200348, 1417.97900238,\n",
       "       1417.62200012, 1417.622     , 1417.622     , 1417.622     ,\n",
       "       1417.622     , 1417.622     , 1417.622     , 1417.622     ,\n",
       "       1417.622     , 1417.622     , 1417.622     , 1417.622     ,\n",
       "       1417.622     , 1417.622     , 1417.622     , 1417.622     ,\n",
       "       1417.622     , 1417.622     , 1417.622     , 1417.622     ,\n",
       "       1417.622     , 1417.622     , 1417.622     , 1417.622     ,\n",
       "       1417.622     , 1417.622     , 1417.622     , 1417.622     ,\n",
       "       1417.622     , 1417.622     , 1417.622     , 1417.622     ,\n",
       "       1417.622     , 1417.622     , 1417.622     , 1417.622     ,\n",
       "       1417.622     , 1417.622     , 1417.622     , 1417.622     ,\n",
       "       1417.622     , 1417.622     , 1417.622     , 1417.622     ,\n",
       "       1417.622     , 1417.622     , 1417.622     , 1417.622     ,\n",
       "       1417.622     , 1417.622     , 1417.622     , 1417.622     ,\n",
       "       1417.622     , 1417.622     , 1417.622     , 1417.622     ])"
      ]
     },
     "execution_count": 127,
     "metadata": {},
     "output_type": "execute_result"
    }
   ],
   "source": [
    "coords[:,0]"
   ]
  },
  {
   "cell_type": "code",
   "execution_count": 128,
   "metadata": {},
   "outputs": [],
   "source": [
    "s = md.load_pdb('/home/adria/test/CPEB4_alpha/topo.pdb')\n",
    "s.xyz = coords/10.\n",
    "s.save_pdb('/home/adria/test/CPEB4_alpha/topo_test.pdb')"
   ]
  },
  {
   "cell_type": "markdown",
   "metadata": {},
   "source": [
    "We made some equilibration and so we save the results :"
   ]
  },
  {
   "cell_type": "code",
   "execution_count": 6,
   "metadata": {},
   "outputs": [],
   "source": [
    "t = md.load('/home/adria/test/CPEB4_alpha/atom_traj_0.lammpstrj', top='/home/adria/test/CPEB4_alpha/topo.pdb')"
   ]
  },
  {
   "cell_type": "code",
   "execution_count": 7,
   "metadata": {},
   "outputs": [],
   "source": [
    "t[-1].save_pdb('/home/adria/CPEB4_alpha.pdb')"
   ]
  },
  {
   "cell_type": "markdown",
   "metadata": {},
   "source": [
    "Let's test it !"
   ]
  },
  {
   "cell_type": "code",
   "execution_count": 43,
   "metadata": {},
   "outputs": [
    {
     "name": "stdout",
     "output_type": "stream",
     "text": [
      "╔════════════════════════════════════════════════════════════════════════════════════════════════════════╗\n",
      "║     Input files created at /home/adria/perdiux/prod/lammps/dignon/CPEB4_alpha_slab for CPEB4_alpha     ║\n",
      "║--------------------------------------------------------------------------------------------------------║\n",
      "║   PARAMETERS                                                                                           ║\n",
      "║       - Model = HPS                                                                                    ║\n",
      "║       - Chains = 1                                                                                     ║\n",
      "║       - Ionic Strength (mM) = 0.1                                                                      ║\n",
      "║       - Medium Permittivity = 80.0                                                                     ║\n",
      "║       - Temperatures (K) = [300. 330. 360. 390. 420. 450.]                                             ║\n",
      "║       - HPS Scale = 1.0                                                                                ║\n",
      "╚════════════════════════════════════════════════════════════════════════════════════════════════════════╝\n"
     ]
    }
   ],
   "source": [
    "temperatures = np.linspace(300,450,6)\n",
    "test_alpha = lmpsetup.LMPSetup(oliba_wd='/home/adria/perdiux/prod/lammps/dignon/CPEB4_alpha_slab',\n",
    "                               debye=0.1,\n",
    "                               temperatures=temperatures,\n",
    "                               model='HPS',\n",
    "                               save=50000,\n",
    "                               host='@perdiu31',\n",
    "                               chains=1,\n",
    "                               protein='CPEB4_alpha',\n",
    "                               fix_region=[379,393],\n",
    "                               t=int(1e9)).write_hps_files(qsub=True)"
   ]
  }
 ],
 "metadata": {
  "kernelspec": {
   "display_name": "Python 3",
   "language": "python",
   "name": "python3"
  },
  "language_info": {
   "codemirror_mode": {
    "name": "ipython",
    "version": 3
   },
   "file_extension": ".py",
   "mimetype": "text/x-python",
   "name": "python",
   "nbconvert_exporter": "python",
   "pygments_lexer": "ipython3",
   "version": "3.7.4"
  }
 },
 "nbformat": 4,
 "nbformat_minor": 2
}
