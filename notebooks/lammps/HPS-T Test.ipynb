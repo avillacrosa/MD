{
 "cells": [
  {
   "cell_type": "code",
   "execution_count": 2,
   "metadata": {},
   "outputs": [],
   "source": [
    "%load_ext autoreload\n",
    "%autoreload 2\n",
    "\n",
    "import lmpsetup"
   ]
  },
  {
   "cell_type": "markdown",
   "metadata": {},
   "source": [
    "**SLAB TEST**"
   ]
  },
  {
   "cell_type": "code",
   "execution_count": 32,
   "metadata": {},
   "outputs": [
    {
     "name": "stdout",
     "output_type": "stream",
     "text": [
      "╔════════════════════════════════════════════════════════════════╗\n",
      "║     Input files created at /home/adria/TEST/SLAB for CPEB4     ║\n",
      "║----------------------------------------------------------------║\n",
      "║   PARAMETERS                                                   ║\n",
      "║       - Model = HPS                                            ║\n",
      "║       - Chains = 20                                            ║\n",
      "║       - Ionic Strength (mM) = 0.1                              ║\n",
      "║       - Medium Permittivity = 80.0                             ║\n",
      "║       - Temperatures (K) = [300]                               ║\n",
      "║       - HPS Scale = 1.0                                        ║\n",
      "╚════════════════════════════════════════════════════════════════╝\n"
     ]
    }
   ],
   "source": [
    "# CPEB4 SLAB DEFORM TEST\n",
    "slab = lmpsetup.LMPSetup(oliba_wd='/home/adria/TEST/SLAB', temper=False, protein='CPEB4', slab=True, chains=20)\n",
    "slab.temperatures = [300]\n",
    "slab.processors = 12\n",
    "slab.t = 100000\n",
    "slab.slab_t = 50000\n",
    "slab.save = 5000\n",
    "slab.write_hps_files(qsub=False)"
   ]
  },
  {
   "cell_type": "code",
   "execution_count": null,
   "metadata": {},
   "outputs": [],
   "source": []
  },
  {
   "cell_type": "code",
   "execution_count": null,
   "metadata": {},
   "outputs": [],
   "source": []
  },
  {
   "cell_type": "code",
   "execution_count": 2,
   "metadata": {},
   "outputs": [
    {
     "name": "stdout",
     "output_type": "stream",
     "text": [
      "╔════════════════════════════════════════════════════════════════════════════════════════════╗\n",
      "║     Input files created at /home/adria/perdiux/prod/lammps/dignon/CPEB4-HPST for CPEB4     ║\n",
      "║--------------------------------------------------------------------------------------------║\n",
      "║   PARAMETERS                                                                               ║\n",
      "║       - Model = HPS-T                                                                      ║\n",
      "║       - Chains = 1                                                                         ║\n",
      "║       - Ionic Strength (mM) = 0.1                                                          ║\n",
      "║       - Medium Permittivity = 80.0                                                         ║\n",
      "║       - Temperatures (K) = [275, 300, 325, 350, 375, 400, 450]                             ║\n",
      "║       - HPS Scale = 1.0                                                                    ║\n",
      "╚════════════════════════════════════════════════════════════════════════════════════════════╝\n"
     ]
    }
   ],
   "source": [
    "cpeb4 = lmpsetup.LMPSetup(oliba_wd='/home/adria/perdiux/prod/lammps/dignon/CPEB4-HPST', protein='CPEB4', temper=False, chains=1, model='HPS-T')\n",
    "cpeb4.temperatures = [275, 300, 325, 350, 375, 400, 450]\n",
    "cpeb4.processors = 4\n",
    "cpeb4.write_hps_files()"
   ]
  },
  {
   "cell_type": "code",
   "execution_count": 51,
   "metadata": {},
   "outputs": [
    {
     "name": "stdout",
     "output_type": "stream",
     "text": [
      "╔═════════════════════════════════════════════════════════════════════════════════════════════════════╗\n",
      "║     Input files created at /home/adria/perdiux/prod/lammps/dignon/HPS-T_Test/CT-CspTm for CspTm     ║\n",
      "║-----------------------------------------------------------------------------------------------------║\n",
      "║   PARAMETERS                                                                                        ║\n",
      "║       - Model = HPS-T                                                                               ║\n",
      "║       - Chains = 1                                                                                  ║\n",
      "║       - Ionic Strength (mM) = 0.1                                                                   ║\n",
      "║       - Medium Permittivity = 80.0                                                                  ║\n",
      "║       - Temperatures (K) = [275, 300, 325, 350, 375, 400, 450]                                      ║\n",
      "║       - HPS Scale = 1.0                                                                             ║\n",
      "╚═════════════════════════════════════════════════════════════════════════════════════════════════════╝\n"
     ]
    }
   ],
   "source": [
    "csptm = lmpsetup.LMPSetup(oliba_wd='/home/adria/perdiux/prod/lammps/dignon/HPS-T_Test/CT-CspTm', protein='CspTm', temper=False, chains=1, model='HPS-T')\n",
    "csptm.temperatures = [275, 300, 325, 350, 375, 400, 450]\n",
    "csptm.processors = 2\n",
    "csptm.t = 1000000000\n",
    "csptm.write_hps_files()"
   ]
  },
  {
   "cell_type": "code",
   "execution_count": 52,
   "metadata": {},
   "outputs": [
    {
     "name": "stdout",
     "output_type": "stream",
     "text": [
      "╔═════════════════════════════════════════════════════════════════════════════════════════════════════════════╗\n",
      "║     Input files created at /home/adria/perdiux/prod/lammps/dignon/HPS-T_Test/CT-Integrase for Integrase     ║\n",
      "║-------------------------------------------------------------------------------------------------------------║\n",
      "║   PARAMETERS                                                                                                ║\n",
      "║       - Model = HPS-T                                                                                       ║\n",
      "║       - Chains = 1                                                                                          ║\n",
      "║       - Ionic Strength (mM) = 0.1                                                                           ║\n",
      "║       - Medium Permittivity = 80.0                                                                          ║\n",
      "║       - Temperatures (K) = [275, 300, 325, 350, 375, 400, 450]                                              ║\n",
      "║       - HPS Scale = 1.0                                                                                     ║\n",
      "╚═════════════════════════════════════════════════════════════════════════════════════════════════════════════╝\n"
     ]
    }
   ],
   "source": [
    "integrase = lmpsetup.LMPSetup(oliba_wd='/home/adria/perdiux/prod/lammps/dignon/HPS-T_Test/CT-Integrase', protein='Integrase', temper=False, chains=1, model='HPS-T')\n",
    "integrase.temperatures = [275, 300, 325, 350, 375, 400, 450]\n",
    "integrase.processors = 2\n",
    "integrase.t = 1000000000\n",
    "integrase.write_hps_files()"
   ]
  },
  {
   "cell_type": "code",
   "execution_count": 114,
   "metadata": {
    "scrolled": false
   },
   "outputs": [
    {
     "name": "stdout",
     "output_type": "stream",
     "text": [
      "╔══════════════════════════════════════════════════════════════════════════════════════════════════╗\n",
      "║     Input files created at /home/adria/perdiux/prod/lammps/dignon/SLAB-TEST/PERDIU for CPEB4     ║\n",
      "║--------------------------------------------------------------------------------------------------║\n",
      "║   PARAMETERS                                                                                     ║\n",
      "║       - Model = HPS                                                                              ║\n",
      "║       - Chains = 50                                                                              ║\n",
      "║       - Ionic Strength (mM) = 0.1                                                                ║\n",
      "║       - Medium Permittivity = 80.0                                                               ║\n",
      "║       - Temperatures (K) = [300]                                                                 ║\n",
      "║       - HPS Scale = 1.0                                                                          ║\n",
      "╚══════════════════════════════════════════════════════════════════════════════════════════════════╝\n"
     ]
    }
   ],
   "source": [
    "# CPEB4 SLAB TEST\n",
    "slab = lmpsetup.LMPSetup(oliba_wd='/home/adria/perdiux/prod/lammps/dignon/SLAB-TEST/PERDIU', temper=False, protein='CPEB4', slab=True, chains=50)\n",
    "slab.temperatures = [300]\n",
    "slab.processors = 12\n",
    "slab.t = 10000000\n",
    "slab.write_hps_files(qsub=True)"
   ]
  },
  {
   "cell_type": "code",
   "execution_count": 12,
   "metadata": {},
   "outputs": [
    {
     "name": "stdout",
     "output_type": "stream",
     "text": [
      "╔══════════════════════════════════════════════════════════════════════════════════════════════════╗\n",
      "║     Input files created at /home/adria/perdiux/prod/lammps/dignon/SLAB-TEST/DEFORM for CPEB4     ║\n",
      "║--------------------------------------------------------------------------------------------------║\n",
      "║   PARAMETERS                                                                                     ║\n",
      "║       - Model = HPS                                                                              ║\n",
      "║       - Chains = 20                                                                              ║\n",
      "║       - Ionic Strength (mM) = 0.1                                                                ║\n",
      "║       - Medium Permittivity = 80.0                                                               ║\n",
      "║       - Temperatures (K) = [300]                                                                 ║\n",
      "║       - HPS Scale = 1.0                                                                          ║\n",
      "╚══════════════════════════════════════════════════════════════════════════════════════════════════╝\n"
     ]
    }
   ],
   "source": [
    "# CPEB4 SLAB DEFORM TEST\n",
    "slab = lmpsetup.LMPSetup(oliba_wd='/home/adria/perdiux/prod/lammps/dignon/SLAB-TEST/DEFORM', temper=False, protein='CPEB4', slab=True, chains=20)\n",
    "slab.temperatures = [300]\n",
    "slab.processors = 12\n",
    "slab.t = 100000\n",
    "slab.slab_t = 50000\n",
    "slab.save = 5000\n",
    "slab.write_hps_files(qsub=True)"
   ]
  },
  {
   "cell_type": "code",
   "execution_count": null,
   "metadata": {},
   "outputs": [],
   "source": []
  },
  {
   "cell_type": "code",
   "execution_count": null,
   "metadata": {},
   "outputs": [],
   "source": []
  },
  {
   "cell_type": "code",
   "execution_count": null,
   "metadata": {},
   "outputs": [],
   "source": []
  },
  {
   "cell_type": "code",
   "execution_count": 15,
   "metadata": {},
   "outputs": [
    {
     "name": "stdout",
     "output_type": "stream",
     "text": [
      "The autoreload extension is already loaded. To reload it, use:\n",
      "  %reload_ext autoreload\n",
      "> Run Completed at 16.55% for 12D_CPEB4_D4. Ran 16550000 steps for a total of 332 frames \n",
      "> Taking frames every 1 for a total of 1000 to avoid strong correlations\n",
      "<mdtraj.Trajectory with 32 frames, 22000 atoms, 22000 residues, and unitcells>\n",
      "<mdtraj.Trajectory with 32 frames, 22000 atoms, 22000 residues, and unitcells>\n",
      "<mdtraj.Trajectory with 32 frames, 22000 atoms, 22000 residues, and unitcells>\n",
      "<mdtraj.Trajectory with 32 frames, 22000 atoms, 22000 residues, and unitcells>\n",
      "<mdtraj.Trajectory with 32 frames, 22000 atoms, 22000 residues, and unitcells>\n",
      "<mdtraj.Trajectory with 32 frames, 22000 atoms, 22000 residues, and unitcells>\n",
      "<mdtraj.Trajectory with 32 frames, 22000 atoms, 22000 residues, and unitcells>\n",
      "<mdtraj.Trajectory with 32 frames, 22000 atoms, 22000 residues, and unitcells>\n"
     ]
    }
   ],
   "source": [
    "%load_ext autoreload\n",
    "%autoreload 2\n",
    "import analysis\n",
    "\n",
    "s = analysis.Analysis(oliba_wd='/home/adria/data/prod/lammps/HPS/EXPANDED-REX-CPEB4/12D')\n",
    "s.save_movies()"
   ]
  },
  {
   "cell_type": "code",
   "execution_count": null,
   "metadata": {},
   "outputs": [],
   "source": []
  },
  {
   "cell_type": "code",
   "execution_count": null,
   "metadata": {},
   "outputs": [],
   "source": []
  },
  {
   "cell_type": "code",
   "execution_count": 43,
   "metadata": {},
   "outputs": [
    {
     "name": "stdout",
     "output_type": "stream",
     "text": [
      "╔══════════════════════════════════════════════════════════════════════════════════════════════════╗\n",
      "║     Input files created at /home/adria/perdiux/prod/lammps/dignon/PERFORMANCE/NP/1 for CPEB4     ║\n",
      "║--------------------------------------------------------------------------------------------------║\n",
      "║   PARAMETERS                                                                                     ║\n",
      "║       - Model = HPS                                                                              ║\n",
      "║       - Chains = 50                                                                              ║\n",
      "║       - Ionic Strength (mM) = 0.1                                                                ║\n",
      "║       - Medium Permittivity = 80.0                                                               ║\n",
      "║       - Temperatures (K) = [300]                                                                 ║\n",
      "║       - HPS Scale = 1.0                                                                          ║\n",
      "╚══════════════════════════════════════════════════════════════════════════════════════════════════╝\n"
     ]
    }
   ],
   "source": [
    "# CPEB4 SLAB DEFORM TEST\n",
    "slab = lmpsetup.LMPSetup(oliba_wd='/home/adria/perdiux/prod/lammps/dignon/PERFORMANCE/NP/1', \n",
    "                         temper=False, \n",
    "                         protein='CPEB4', \n",
    "                         slab=False,\n",
    "                         model='HPS',\n",
    "                         chains=50)\n",
    "slab.temperatures = [300]\n",
    "slab.processors = 1\n",
    "slab.t = 1000000\n",
    "slab.save = 50000\n",
    "slab.write_hps_files(qsub=True)"
   ]
  },
  {
   "cell_type": "code",
   "execution_count": 44,
   "metadata": {},
   "outputs": [
    {
     "name": "stdout",
     "output_type": "stream",
     "text": [
      "╔══════════════════════════════════════════════════════════════════════════════════════════════════╗\n",
      "║     Input files created at /home/adria/perdiux/prod/lammps/dignon/PERFORMANCE/NP/2 for CPEB4     ║\n",
      "║--------------------------------------------------------------------------------------------------║\n",
      "║   PARAMETERS                                                                                     ║\n",
      "║       - Model = HPS                                                                              ║\n",
      "║       - Chains = 50                                                                              ║\n",
      "║       - Ionic Strength (mM) = 0.1                                                                ║\n",
      "║       - Medium Permittivity = 80.0                                                               ║\n",
      "║       - Temperatures (K) = [300]                                                                 ║\n",
      "║       - HPS Scale = 1.0                                                                          ║\n",
      "╚══════════════════════════════════════════════════════════════════════════════════════════════════╝\n"
     ]
    }
   ],
   "source": [
    "# CPEB4 SLAB DEFORM TEST\n",
    "slab = lmpsetup.LMPSetup(oliba_wd='/home/adria/perdiux/prod/lammps/dignon/PERFORMANCE/NP/2', \n",
    "                         temper=False, \n",
    "                         protein='CPEB4', \n",
    "                         slab=False,\n",
    "                         model='HPS',\n",
    "                         chains=50)\n",
    "slab.temperatures = [300]\n",
    "slab.processors = 2\n",
    "slab.t = 1000000\n",
    "slab.save = 50000\n",
    "slab.write_hps_files(qsub=True)"
   ]
  },
  {
   "cell_type": "code",
   "execution_count": 45,
   "metadata": {},
   "outputs": [
    {
     "name": "stdout",
     "output_type": "stream",
     "text": [
      "╔══════════════════════════════════════════════════════════════════════════════════════════════════╗\n",
      "║     Input files created at /home/adria/perdiux/prod/lammps/dignon/PERFORMANCE/NP/3 for CPEB4     ║\n",
      "║--------------------------------------------------------------------------------------------------║\n",
      "║   PARAMETERS                                                                                     ║\n",
      "║       - Model = HPS                                                                              ║\n",
      "║       - Chains = 50                                                                              ║\n",
      "║       - Ionic Strength (mM) = 0.1                                                                ║\n",
      "║       - Medium Permittivity = 80.0                                                               ║\n",
      "║       - Temperatures (K) = [300]                                                                 ║\n",
      "║       - HPS Scale = 1.0                                                                          ║\n",
      "╚══════════════════════════════════════════════════════════════════════════════════════════════════╝\n"
     ]
    }
   ],
   "source": [
    "# CPEB4 SLAB DEFORM TEST\n",
    "slab = lmpsetup.LMPSetup(oliba_wd='/home/adria/perdiux/prod/lammps/dignon/PERFORMANCE/NP/3', \n",
    "                         temper=False, \n",
    "                         protein='CPEB4', \n",
    "                         slab=False,\n",
    "                         model='HPS',\n",
    "                         chains=50)\n",
    "slab.temperatures = [300]\n",
    "slab.processors = 3\n",
    "slab.t = 1000000\n",
    "slab.save = 50000\n",
    "slab.write_hps_files(qsub=True)"
   ]
  },
  {
   "cell_type": "code",
   "execution_count": 46,
   "metadata": {},
   "outputs": [
    {
     "name": "stdout",
     "output_type": "stream",
     "text": [
      "╔══════════════════════════════════════════════════════════════════════════════════════════════════╗\n",
      "║     Input files created at /home/adria/perdiux/prod/lammps/dignon/PERFORMANCE/NP/4 for CPEB4     ║\n",
      "║--------------------------------------------------------------------------------------------------║\n",
      "║   PARAMETERS                                                                                     ║\n",
      "║       - Model = HPS                                                                              ║\n",
      "║       - Chains = 50                                                                              ║\n",
      "║       - Ionic Strength (mM) = 0.1                                                                ║\n",
      "║       - Medium Permittivity = 80.0                                                               ║\n",
      "║       - Temperatures (K) = [300]                                                                 ║\n",
      "║       - HPS Scale = 1.0                                                                          ║\n",
      "╚══════════════════════════════════════════════════════════════════════════════════════════════════╝\n"
     ]
    }
   ],
   "source": [
    "# CPEB4 SLAB DEFORM TEST\n",
    "slab = lmpsetup.LMPSetup(oliba_wd='/home/adria/perdiux/prod/lammps/dignon/PERFORMANCE/NP/4', \n",
    "                         temper=False, \n",
    "                         protein='CPEB4', \n",
    "                         slab=False,\n",
    "                         model='HPS',\n",
    "                         chains=50)\n",
    "slab.temperatures = [300]\n",
    "slab.processors = 4\n",
    "slab.t = 1000000\n",
    "slab.save = 50000\n",
    "slab.write_hps_files(qsub=True)"
   ]
  },
  {
   "cell_type": "code",
   "execution_count": 47,
   "metadata": {},
   "outputs": [
    {
     "name": "stdout",
     "output_type": "stream",
     "text": [
      "╔══════════════════════════════════════════════════════════════════════════════════════════════════╗\n",
      "║     Input files created at /home/adria/perdiux/prod/lammps/dignon/PERFORMANCE/NP/8 for CPEB4     ║\n",
      "║--------------------------------------------------------------------------------------------------║\n",
      "║   PARAMETERS                                                                                     ║\n",
      "║       - Model = HPS                                                                              ║\n",
      "║       - Chains = 50                                                                              ║\n",
      "║       - Ionic Strength (mM) = 0.1                                                                ║\n",
      "║       - Medium Permittivity = 80.0                                                               ║\n",
      "║       - Temperatures (K) = [300]                                                                 ║\n",
      "║       - HPS Scale = 1.0                                                                          ║\n",
      "╚══════════════════════════════════════════════════════════════════════════════════════════════════╝\n"
     ]
    }
   ],
   "source": [
    "# CPEB4 SLAB DEFORM TEST\n",
    "slab = lmpsetup.LMPSetup(oliba_wd='/home/adria/perdiux/prod/lammps/dignon/PERFORMANCE/NP/8', \n",
    "                         temper=False, \n",
    "                         protein='CPEB4', \n",
    "                         slab=False,\n",
    "                         model='HPS',\n",
    "                         chains=50)\n",
    "slab.temperatures = [300]\n",
    "slab.processors = 8\n",
    "slab.t = 1000000\n",
    "slab.save = 50000\n",
    "slab.write_hps_files(qsub=True)"
   ]
  },
  {
   "cell_type": "code",
   "execution_count": null,
   "metadata": {},
   "outputs": [],
   "source": []
  },
  {
   "cell_type": "code",
   "execution_count": null,
   "metadata": {},
   "outputs": [],
   "source": []
  },
  {
   "cell_type": "code",
   "execution_count": null,
   "metadata": {},
   "outputs": [],
   "source": []
  },
  {
   "cell_type": "code",
   "execution_count": 198,
   "metadata": {},
   "outputs": [
    {
     "name": "stdout",
     "output_type": "stream",
     "text": [
      "╔═════════════════════════════════════════════════════════════════════════════════════════════════════╗\n",
      "║     Input files created at /home/adria/perdiux/prod/lammps/dignon/PERFORMANCE/BOX/BIG for CPEB4     ║\n",
      "║-----------------------------------------------------------------------------------------------------║\n",
      "║   PARAMETERS                                                                                        ║\n",
      "║       - Model = HPS                                                                                 ║\n",
      "║       - Chains = 50                                                                                 ║\n",
      "║       - Ionic Strength (mM) = 0.1                                                                   ║\n",
      "║       - Medium Permittivity = 80.0                                                                  ║\n",
      "║       - Temperatures (K) = [300]                                                                    ║\n",
      "║       - HPS Scale = 1.0                                                                             ║\n",
      "╚═════════════════════════════════════════════════════════════════════════════════════════════════════╝\n"
     ]
    }
   ],
   "source": [
    "# CPEB4 SLAB DEFORM TEST\n",
    "slab = lmpsetup.LMPSetup(oliba_wd='/home/adria/perdiux/prod/lammps/dignon/PERFORMANCE/BOX/BIG', \n",
    "                         temper=False, \n",
    "                         protein='CPEB4', \n",
    "                         slab=False,\n",
    "                         model='HPS',\n",
    "                         chains=50)\n",
    "slab.temperatures = [300]\n",
    "slab.processors = 1\n",
    "slab.t = 1000000\n",
    "slab.save = 5000\n",
    "slab.write_hps_files(qsub=True)"
   ]
  },
  {
   "cell_type": "code",
   "execution_count": null,
   "metadata": {},
   "outputs": [],
   "source": [
    "# CPEB4 SLAB DEFORM TEST\n",
    "slab = lmpsetup.LMPSetup(oliba_wd='/home/adria/perdiux/prod/lammps/dignon/PERFORMANCE/BOX/BIG', \n",
    "                         temper=False, \n",
    "                         protein='CPEB4', \n",
    "                         slab=False,\n",
    "                         model='HPS',\n",
    "                         chains=50)\n",
    "slab.temperatures = [300]\n",
    "slab.processors = 1\n",
    "slab.t = 1000000\n",
    "slab.save = 5000\n",
    "slab.write_hps_files(qsub=True)"
   ]
  },
  {
   "cell_type": "code",
   "execution_count": null,
   "metadata": {},
   "outputs": [],
   "source": [
    "# CPEB4 SLAB TEST\n",
    "slab = lmpsetup.LMPSetup(oliba_wd='/home/adria/perdiux/prod/lammps/dignon/SLAB-TEST/CSUC', temper=False, protein='CPEB4', slab=True, chains=50)\n",
    "slab.temperatures = [300]\n",
    "slab.processors = 12\n",
    "slab.t = 10000000\n",
    "slab.write_hps_files(qsub=False, slurm=True)"
   ]
  },
  {
   "cell_type": "code",
   "execution_count": 113,
   "metadata": {},
   "outputs": [
    {
     "name": "stdout",
     "output_type": "stream",
     "text": [
      "-> Equilibrating structure with a short LAMMPS run...\n",
      "/home/adria/scripts/lammps/notebooks\n",
      "-> Saving equilibration pdb at /home/adria/scripts/data/equil/LAF-1_RGG.pdb\n",
      "╔══════════════════════════════════════════════════════════════════════════════════════════════════╗\n",
      "║     Input files created at /home/adria/perdiux/prod/lammps/dignon/CONTACT-TEST for LAF-1_RGG     ║\n",
      "║--------------------------------------------------------------------------------------------------║\n",
      "║   PARAMETERS                                                                                     ║\n",
      "║       - Model = HPS                                                                              ║\n",
      "║       - Chains = 100                                                                             ║\n",
      "║       - Ionic Strength (mM) = 0.1                                                                ║\n",
      "║       - Medium Permittivity = 80.0                                                               ║\n",
      "║       - Temperatures (K) = [300]                                                                 ║\n",
      "║       - HPS Scale = 1.0                                                                          ║\n",
      "╚══════════════════════════════════════════════════════════════════════════════════════════════════╝\n"
     ]
    }
   ],
   "source": [
    "# CONTACT SLAB TEST (LAF1)\n",
    "laf1 = lmpsetup.LMPSetup(oliba_wd='/home/adria/perdiux/prod/lammps/dignon/CONTACT-TEST', temper=False, protein='LAF-1_RGG', slab=True, chains=100)\n",
    "laf1.temperatures = [300]\n",
    "laf1.processors = 12\n",
    "laf1.write_hps_files(qsub=True)"
   ]
  },
  {
   "cell_type": "markdown",
   "metadata": {},
   "source": [
    "**Giulio TEST**"
   ]
  },
  {
   "cell_type": "code",
   "execution_count": 137,
   "metadata": {},
   "outputs": [
    {
     "name": "stdout",
     "output_type": "stream",
     "text": [
      "╔═════════════════════════════════════════════════════════════════════════════════════════════╗\n",
      "║     Input files created at /home/adria/perdiux/prod/lammps/dignon/GIULIO-TEST for CPEB4     ║\n",
      "║---------------------------------------------------------------------------------------------║\n",
      "║   PARAMETERS                                                                                ║\n",
      "║       - Model = gHPS                                                                        ║\n",
      "║       - Chains = 1                                                                          ║\n",
      "║       - Ionic Strength (mM) = 0.1                                                           ║\n",
      "║       - Medium Permittivity = 80.0                                                          ║\n",
      "║       - Temperatures (K) = [300.0, 318.18, 336.36, 354.55, 372.73, 390.91, 409.09, 427.27, 445.45, 463.64, 481.82, 500.0]    ║\n",
      "║       - HPS Scale = 1.0                                                                     ║\n",
      "╚═════════════════════════════════════════════════════════════════════════════════════════════╝\n"
     ]
    }
   ],
   "source": [
    "# CONTACT SLAB TEST (LAF1)\n",
    "ghps = lmpsetup.LMPSetup(oliba_wd='/home/adria/perdiux/prod/lammps/dignon/GIULIO-TEST', \n",
    "                         temper=True, \n",
    "                         protein='CPEB4', \n",
    "                         slab=False, \n",
    "                         chains=1,\n",
    "                         model='gHPS')\n",
    "ghps.temperatures = [300.0, 318.18, 336.36, 354.55, 372.73, 390.91, 409.09, 427.27, 445.45, 463.64, 481.82, 500.0]\n",
    "ghps.t=100000000\n",
    "ghps.save = 5000\n",
    "ghps.processors = 12\n",
    "ghps.write_hps_files(qsub=True)"
   ]
  },
  {
   "cell_type": "markdown",
   "metadata": {},
   "source": [
    "## NEW CARLA RUNS"
   ]
  },
  {
   "cell_type": "code",
   "execution_count": 57,
   "metadata": {},
   "outputs": [
    {
     "name": "stdout",
     "output_type": "stream",
     "text": [
      "╔═══════════════════════════════════════════════════════════════════════════════════════════════════════════════╗\n",
      "║     Input files created at /home/adria/perdiux/prod/lammps/dignon/EXPANDED-REX-CPEB4/12D for 12D_CPEB4_D4     ║\n",
      "║---------------------------------------------------------------------------------------------------------------║\n",
      "║   PARAMETERS                                                                                                  ║\n",
      "║       - Model = HPS                                                                                           ║\n",
      "║       - Chains = 50                                                                                           ║\n",
      "║       - Ionic Strength (mM) = 0.1                                                                             ║\n",
      "║       - Medium Permittivity = 80.0                                                                            ║\n",
      "║       - Temperatures (K) = [350, 400, 450, 500, 550, 600, 650, 700]                                           ║\n",
      "║       - HPS Scale = 1.0                                                                                       ║\n",
      "╚═══════════════════════════════════════════════════════════════════════════════════════════════════════════════╝\n"
     ]
    }
   ],
   "source": [
    "D12 = lmpsetup.LMPSetup(oliba_wd='/home/adria/perdiux/prod/lammps/dignon/EXPANDED-REX-CPEB4/12D',\n",
    "                        protein='12D_CPEB4_D4',\n",
    "                        temper=True,\n",
    "                        chains=50)\n",
    "D12.processors=8\n",
    "D12.temperatures=[350,400,450,500,550,600,650,700]\n",
    "D12.save=50000\n",
    "D12.t=100000000\n",
    "D12.write_hps_files(qsub=True)"
   ]
  },
  {
   "cell_type": "code",
   "execution_count": 58,
   "metadata": {},
   "outputs": [
    {
     "name": "stdout",
     "output_type": "stream",
     "text": [
      "╔══════════════════════════════════════════════════════════════════════════════════════════════════════════╗\n",
      "║     Input files created at /home/adria/perdiux/prod/lammps/dignon/EXPANDED-REX-CPEB4/D4 for CPEB4_D4     ║\n",
      "║----------------------------------------------------------------------------------------------------------║\n",
      "║   PARAMETERS                                                                                             ║\n",
      "║       - Model = HPS                                                                                      ║\n",
      "║       - Chains = 50                                                                                      ║\n",
      "║       - Ionic Strength (mM) = 0.1                                                                        ║\n",
      "║       - Medium Permittivity = 80.0                                                                       ║\n",
      "║       - Temperatures (K) = [350, 400, 450, 500, 550, 600, 650, 700]                                      ║\n",
      "║       - HPS Scale = 1.0                                                                                  ║\n",
      "╚══════════════════════════════════════════════════════════════════════════════════════════════════════════╝\n"
     ]
    }
   ],
   "source": [
    "D12 = lmpsetup.LMPSetup(oliba_wd='/home/adria/perdiux/prod/lammps/dignon/EXPANDED-REX-CPEB4/D4',\n",
    "                        protein='CPEB4_D4',\n",
    "                        temper=True,\n",
    "                        chains=50)\n",
    "D12.processors=4\n",
    "D12.temperatures=[350,400,450,500,550,600,650,700]\n",
    "D12.save=50000\n",
    "D12.t=100000000\n",
    "D12.write_hps_files(qsub=True)"
   ]
  },
  {
   "cell_type": "code",
   "execution_count": 59,
   "metadata": {},
   "outputs": [
    {
     "name": "stdout",
     "output_type": "stream",
     "text": [
      "╔═══════════════════════════════════════════════════════════════════════════════════════════════════════╗\n",
      "║     Input files created at /home/adria/perdiux/prod/lammps/dignon/EXPANDED-REX-CPEB4/WT for CPEB4     ║\n",
      "║-------------------------------------------------------------------------------------------------------║\n",
      "║   PARAMETERS                                                                                          ║\n",
      "║       - Model = HPS                                                                                   ║\n",
      "║       - Chains = 50                                                                                   ║\n",
      "║       - Ionic Strength (mM) = 0.1                                                                     ║\n",
      "║       - Medium Permittivity = 80.0                                                                    ║\n",
      "║       - Temperatures (K) = [350, 400, 450, 500, 550, 600, 650, 700]                                   ║\n",
      "║       - HPS Scale = 1.0                                                                               ║\n",
      "╚═══════════════════════════════════════════════════════════════════════════════════════════════════════╝\n"
     ]
    }
   ],
   "source": [
    "D12 = lmpsetup.LMPSetup(oliba_wd='/home/adria/perdiux/prod/lammps/dignon/EXPANDED-REX-CPEB4/WT',\n",
    "                        protein='CPEB4',\n",
    "                        temper=True,\n",
    "                        chains=50)\n",
    "D12.processors=8\n",
    "D12.temperatures=[350,400,450,500,550,600,650,700]\n",
    "D12.save=50000\n",
    "D12.t=100000000\n",
    "D12.write_hps_files(qsub=True)"
   ]
  },
  {
   "cell_type": "code",
   "execution_count": 60,
   "metadata": {},
   "outputs": [
    {
     "name": "stdout",
     "output_type": "stream",
     "text": [
      "╔══════════════════════════════════════════════════════════════════════════════════════════════════════════╗\n",
      "║     Input files created at /home/adria/perdiux/prod/lammps/dignon/EXPANDED-REX-CPEB4/7D for 7D_CPEB4     ║\n",
      "║----------------------------------------------------------------------------------------------------------║\n",
      "║   PARAMETERS                                                                                             ║\n",
      "║       - Model = HPS                                                                                      ║\n",
      "║       - Chains = 50                                                                                      ║\n",
      "║       - Ionic Strength (mM) = 0.1                                                                        ║\n",
      "║       - Medium Permittivity = 80.0                                                                       ║\n",
      "║       - Temperatures (K) = [350, 400, 450, 500, 550, 600, 650, 700]                                      ║\n",
      "║       - HPS Scale = 1.0                                                                                  ║\n",
      "╚══════════════════════════════════════════════════════════════════════════════════════════════════════════╝\n"
     ]
    }
   ],
   "source": [
    "D12 = lmpsetup.LMPSetup(oliba_wd='/home/adria/perdiux/prod/lammps/dignon/EXPANDED-REX-CPEB4/7D',\n",
    "                        protein='7D_CPEB4',\n",
    "                        temper=True,\n",
    "                        chains=50)\n",
    "D12.processors=8\n",
    "D12.temperatures=[350,400,450,500,550,600,650,700]\n",
    "D12.save=50000\n",
    "D12.t=100000000\n",
    "D12.write_hps_files(qsub=True)"
   ]
  },
  {
   "cell_type": "markdown",
   "metadata": {},
   "source": [
    "## NEW CARLA RUNS HPS-T"
   ]
  },
  {
   "cell_type": "code",
   "execution_count": 79,
   "metadata": {},
   "outputs": [
    {
     "name": "stdout",
     "output_type": "stream",
     "text": [
      "╔═════════════════════════════════════════════════════════════════════════════════════════════════════════════╗\n",
      "║     Input files created at /home/adria/perdiux/prod/lammps/dignon/CARLA-RUNS-HPS-T/12D for 12D_CPEB4_D4     ║\n",
      "║-------------------------------------------------------------------------------------------------------------║\n",
      "║   PARAMETERS                                                                                                ║\n",
      "║       - Model = HPS-T                                                                                       ║\n",
      "║       - Chains = 50                                                                                         ║\n",
      "║       - Ionic Strength (mM) = 0.1                                                                           ║\n",
      "║       - Medium Permittivity = 80.0                                                                          ║\n",
      "║       - Temperatures (K) = [250, 300, 350, 400, 450, 500]                                                   ║\n",
      "║       - HPS Scale = 1.0                                                                                     ║\n",
      "╚═════════════════════════════════════════════════════════════════════════════════════════════════════════════╝\n"
     ]
    }
   ],
   "source": [
    "D12 = lmpsetup.LMPSetup(oliba_wd='/home/adria/perdiux/prod/lammps/dignon/CARLA-RUNS-HPS-T/12D',\n",
    "                        protein='12D_CPEB4_D4',\n",
    "                        temper=False,\n",
    "                        model='HPS-T',\n",
    "                        host='@perdiu42',\n",
    "                        chains=50)\n",
    "D12.processors=2\n",
    "D12.temperatures=[250,300,350,400,450,500,]\n",
    "D12.save=50000\n",
    "D12.t=100000000\n",
    "D12.write_hps_files()"
   ]
  },
  {
   "cell_type": "code",
   "execution_count": 80,
   "metadata": {},
   "outputs": [
    {
     "name": "stdout",
     "output_type": "stream",
     "text": [
      "╔════════════════════════════════════════════════════════════════════════════════════════════════════════╗\n",
      "║     Input files created at /home/adria/perdiux/prod/lammps/dignon/CARLA-RUNS-HPS-T/D4 for CPEB4_D4     ║\n",
      "║--------------------------------------------------------------------------------------------------------║\n",
      "║   PARAMETERS                                                                                           ║\n",
      "║       - Model = HPS-T                                                                                  ║\n",
      "║       - Chains = 50                                                                                    ║\n",
      "║       - Ionic Strength (mM) = 0.1                                                                      ║\n",
      "║       - Medium Permittivity = 80.0                                                                     ║\n",
      "║       - Temperatures (K) = [250, 300, 350, 400, 450, 500]                                              ║\n",
      "║       - HPS Scale = 1.0                                                                                ║\n",
      "╚════════════════════════════════════════════════════════════════════════════════════════════════════════╝\n"
     ]
    }
   ],
   "source": [
    "D12 = lmpsetup.LMPSetup(oliba_wd='/home/adria/perdiux/prod/lammps/dignon/CARLA-RUNS-HPS-T/D4',\n",
    "                        protein='CPEB4_D4',\n",
    "                        temper=False,\n",
    "                        model='HPS-T',\n",
    "                        host='@perdiu39',\n",
    "                        chains=50)\n",
    "D12.processors=2\n",
    "D12.temperatures=[250,300,350,400,450,500,]\n",
    "D12.save=50000\n",
    "D12.t=100000000\n",
    "D12.write_hps_files()"
   ]
  },
  {
   "cell_type": "code",
   "execution_count": 81,
   "metadata": {},
   "outputs": [
    {
     "name": "stdout",
     "output_type": "stream",
     "text": [
      "╔═════════════════════════════════════════════════════════════════════════════════════════════════════╗\n",
      "║     Input files created at /home/adria/perdiux/prod/lammps/dignon/CARLA-RUNS-HPS-T/WT for CPEB4     ║\n",
      "║-----------------------------------------------------------------------------------------------------║\n",
      "║   PARAMETERS                                                                                        ║\n",
      "║       - Model = HPS-T                                                                               ║\n",
      "║       - Chains = 50                                                                                 ║\n",
      "║       - Ionic Strength (mM) = 0.1                                                                   ║\n",
      "║       - Medium Permittivity = 80.0                                                                  ║\n",
      "║       - Temperatures (K) = [250, 300, 350, 400, 450, 500]                                           ║\n",
      "║       - HPS Scale = 1.0                                                                             ║\n",
      "╚═════════════════════════════════════════════════════════════════════════════════════════════════════╝\n"
     ]
    }
   ],
   "source": [
    "D12 = lmpsetup.LMPSetup(oliba_wd='/home/adria/perdiux/prod/lammps/dignon/CARLA-RUNS-HPS-T/WT',\n",
    "                        protein='CPEB4',\n",
    "                        temper=False,\n",
    "                        model='HPS-T',\n",
    "                        host='@perdiu35',\n",
    "                        chains=50)\n",
    "D12.processors=2\n",
    "D12.temperatures=[250,300,350,400,450,500,]\n",
    "D12.save=50000\n",
    "D12.t=100000000\n",
    "D12.write_hps_files()"
   ]
  },
  {
   "cell_type": "code",
   "execution_count": 82,
   "metadata": {},
   "outputs": [
    {
     "name": "stdout",
     "output_type": "stream",
     "text": [
      "╔════════════════════════════════════════════════════════════════════════════════════════════════════════╗\n",
      "║     Input files created at /home/adria/perdiux/prod/lammps/dignon/CARLA-RUNS-HPS-T/7D for 7D_CPEB4     ║\n",
      "║--------------------------------------------------------------------------------------------------------║\n",
      "║   PARAMETERS                                                                                           ║\n",
      "║       - Model = HPS-T                                                                                  ║\n",
      "║       - Chains = 50                                                                                    ║\n",
      "║       - Ionic Strength (mM) = 0.1                                                                      ║\n",
      "║       - Medium Permittivity = 80.0                                                                     ║\n",
      "║       - Temperatures (K) = [250, 300, 350, 400, 450, 500]                                              ║\n",
      "║       - HPS Scale = 1.0                                                                                ║\n",
      "╚════════════════════════════════════════════════════════════════════════════════════════════════════════╝\n"
     ]
    }
   ],
   "source": [
    "D12 = lmpsetup.LMPSetup(oliba_wd='/home/adria/perdiux/prod/lammps/dignon/CARLA-RUNS-HPS-T/7D',\n",
    "                        protein='7D_CPEB4',\n",
    "                        temper=False,\n",
    "                        model='HPS-T',\n",
    "                        host='@perdiu43',\n",
    "                        chains=50)\n",
    "D12.processors=2\n",
    "D12.temperatures=[250,300,350,400,450,500,]\n",
    "D12.save=50000\n",
    "D12.t=100000000\n",
    "D12.write_hps_files()"
   ]
  },
  {
   "cell_type": "code",
   "execution_count": null,
   "metadata": {},
   "outputs": [],
   "source": []
  },
  {
   "cell_type": "code",
   "execution_count": null,
   "metadata": {},
   "outputs": [],
   "source": []
  },
  {
   "cell_type": "code",
   "execution_count": null,
   "metadata": {},
   "outputs": [],
   "source": []
  },
  {
   "cell_type": "code",
   "execution_count": null,
   "metadata": {},
   "outputs": [],
   "source": []
  },
  {
   "cell_type": "code",
   "execution_count": 53,
   "metadata": {},
   "outputs": [
    {
     "data": {
      "image/png": "[encoded data removed]",
      "text/plain": [
       "<Figure size 432x288 with 1 Axes>"
      ]
     },
     "metadata": {
      "needs_background": "light"
     },
     "output_type": "display_data"
    }
   ],
   "source": [
    "import matplotlib.pyplot as plt\n",
    "import numpy as np\n",
    "temp = np.arange(280,470)\n",
    "\n",
    "alpha = 0.7836\n",
    "Tref = 296.7\n",
    "Tshift = 61.97\n",
    "\n",
    "def Eh(x):\n",
    "    ex  = -22.657 + 0.15379*x - 0.00025597*(x**2)\n",
    "    return ex\n",
    "\n",
    "\n",
    "def Ep(x):\n",
    "    ex  = 10.475 - 0.071482*x + 0.0001201*(x**2)\n",
    "    return ex\n",
    "\n",
    "plt.plot(temp, 1.0 - 25.475 + 0.14537*temp - 0.00020059*temp**2, label='Hydroph A')\n",
    "plt.plot(temp, 1.0 + alpha*(Eh(temp-Tshift)-Eh(Tref-Tshift)), '--',label='Hydroph b')\n",
    "\n",
    "plt.plot(temp, 0.45 + 11.795 - 0.067679*temp + 0.000094114*temp**2, label='Polar A')\n",
    "plt.plot(temp, 0.45 + alpha*(Ep(temp-Tshift)-Ep(Tref-Tshift)), '--',label='Polar B')\n",
    "plt.legend()\n",
    "plt.show()"
   ]
  },
  {
   "cell_type": "code",
   "execution_count": null,
   "metadata": {},
   "outputs": [],
   "source": []
  }
 ],
 "metadata": {
  "kernelspec": {
   "display_name": "Python 3",
   "language": "python",
   "name": "python3"
  },
  "language_info": {
   "codemirror_mode": {
    "name": "ipython",
    "version": 3
   },
   "file_extension": ".py",
   "mimetype": "text/x-python",
   "name": "python",
   "nbconvert_exporter": "python",
   "pygments_lexer": "ipython3",
   "version": "3.7.4"
  }
 },
 "nbformat": 4,
 "nbformat_minor": 2
}
