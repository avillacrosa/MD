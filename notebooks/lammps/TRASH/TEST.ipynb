{
 "cells": [
  {
   "cell_type": "code",
   "execution_count": 2,
   "metadata": {},
   "outputs": [],
   "source": [
    "import os\n",
    "import sys\n",
    "import importlib\n",
    "import matplotlib.pyplot as plt\n",
    "if '../utils' not in sys.path:\n",
    "    sys.path.insert(0,'../utils')\n",
    "import lmp\n",
    "import lmpsetup\n",
    "import analysis\n",
    "import numpy as np\n",
    "\n",
    "importlib.reload(lmp);\n",
    "importlib.reload(lmpsetup);\n",
    "importlib.reload(analysis);"
   ]
  },
  {
   "cell_type": "code",
   "execution_count": 9,
   "metadata": {},
   "outputs": [],
   "source": [
    "np1 = [9*60+40, 10*60+53]\n",
    "np2 = [6*60+55, 6*60+55]\n",
    "np1 = np.array(np1)\n",
    "np2 = np.array(np2)"
   ]
  },
  {
   "cell_type": "code",
   "execution_count": 11,
   "metadata": {},
   "outputs": [
    {
     "name": "stdout",
     "output_type": "stream",
     "text": [
      "616.5 415.0 1.4855421686746988\n"
     ]
    }
   ],
   "source": [
    "print(np1.mean(), np2.mean(), np1.mean()/np2.mean())"
   ]
  },
  {
   "cell_type": "code",
   "execution_count": 14,
   "metadata": {},
   "outputs": [
    {
     "name": "stdout",
     "output_type": "stream",
     "text": [
      "Directory does not exist. Creating dir : /home/adria/perdiux/prod/lammps/dignon/CPEB4/eps/I_as_Eps/80\n",
      "hps_80\n",
      "Directory does not exist. Creating dir : /home/adria/perdiux/prod/lammps/dignon/CPEB4/eps/I_as_Eps/800\n",
      "hps_800\n"
     ]
    }
   ],
   "source": [
    "Is = np.array([80, 800])*10**(-3)\n",
    "cpeb4     = 'MGDYGFGVLVQSNTGNKSAFPVRFHPHLQPPHHHQNATPSPAAFINNNTAANGSSAGSAWLFPAPATHNIQDEILGSEKAKSQQQEQQDPLEKQQLSPSPGQEAGILPETEKAKSEENQGDNSSENGNGKEKIRIESPVLTGFDYQEATGLGTSTQPLTSSASSLTGFSNWSAAIAPSSSTIINEDASFFHQGGVPAASANNGALLFQNFPHHVSPGFGGSFSPQIGPLSQHHPHHPHFQHHHSQHQQQRRSPASPHPPPFTHRNAAFNQLPHLANNLNKPPSPWSSYQSPSPTPSSSWSPGGGGYGGWGGSQGRDHRRGLNGGITPLNSISPLKKNFASNHIQLQKYARPSSAFAPKSWMEDSLNRADNIFPFPDRPRTFDMHSLESSLIDIMRAENDTIKARTYGRRRGQSSLFPMEDGFLDDGRGDQPLHSGLGSPHCFSHQNGE'\n",
    "base_dir = '/home/adria/perdiux/prod/lammps/dignon/CPEB4/eps/I_as_Eps'\n",
    "for I in Is:\n",
    "    d = os.path.join(base_dir,f'{I*10**3:.0f}')\n",
    "    eps_as = lmpsetup.LMPSetup(oliba_wd=d, seq=cpeb4, temper=True)\n",
    "    eps_as.ionic_strength=I\n",
    "    eps_as.get_hps_params()\n",
    "    eps_as.get_hps_pairs()\n",
    "    eps_as.write_hps_files()"
   ]
  },
  {
   "cell_type": "code",
   "execution_count": 214,
   "metadata": {},
   "outputs": [],
   "source": [
    "importlib.reload(lmp);\n",
    "importlib.reload(lmpsetup);\n",
    "importlib.reload(analysis);\n",
    "\n",
    "cpeb4_eq_pdb = '/home/adria/scripts/depured-lammps/data/equilibration.pdb'\n",
    "cpeb4 = 'MGDYGFGVLVQSNTGNKSAFPVRFHPHLQPPHHHQNATPSPAAFINNNTAANGSSAGSAWLFPAPATHNIQDEILGSEKAKSQQQEQQDPLEKQQLSPSPGQEAGILPETEKAKSEENQGDNSSENGNGKEKIRIESPVLTGFDYQEATGLGTSTQPLTSSASSLTGFSNWSAAIAPSSSTIINEDASFFHQGGVPAASANNGALLFQNFPHHVSPGFGGSFSPQIGPLSQHHPHHPHFQHHHSQHQQQRRSPASPHPPPFTHRNAAFNQLPHLANNLNKPPSPWSSYQSPSPTPSSSWSPGGGGYGGWGGSQGRDHRRGLNGGITPLNSISPLKKNFASNHIQLQKYARPSSAFAPKSWMEDSLNRADNIFPFPDRPRTFDMHSLESSLIDIMRAENDTIKARTYGRRRGQSSLFPMEDGFLDDGRGDQPLHSGLGSPHCFSHQNGE'\n",
    "\n",
    "base_dir = '/home/adria/perdiux/prod/lammps/dignon/MULTICHAIN'\n",
    "for n in [2, 10, 50]:\n",
    "    wd = os.path.join(base_dir, str(n))\n",
    "    tester = lmpsetup.LMPSetup(oliba_wd=wd, seq=cpeb4, chains=n, temper=True)\n",
    "    tester.get_pdb_xyz(pdb=cpeb4_eq_pdb)\n",
    "    tester.get_hps_params()\n",
    "    tester.get_hps_pairs()\n",
    "    tester.write_hps_files()"
   ]
  },
  {
   "cell_type": "code",
   "execution_count": 226,
   "metadata": {},
   "outputs": [],
   "source": [
    "importlib.reload(lmp);\n",
    "importlib.reload(lmpsetup);\n",
    "importlib.reload(analysis);\n",
    "\n",
    "cpeb4_eq_pdb = '/home/adria/scripts/depured-lammps/data/equilibration.pdb'\n",
    "cpeb4 = 'MGDYGFGVLVQSNTGNKSAFPVRFHPHLQPPHHHQNATPSPAAFINNNTAANGSSAGSAWLFPAPATHNIQDEILGSEKAKSQQQEQQDPLEKQQLSPSPGQEAGILPETEKAKSEENQGDNSSENGNGKEKIRIESPVLTGFDYQEATGLGTSTQPLTSSASSLTGFSNWSAAIAPSSSTIINEDASFFHQGGVPAASANNGALLFQNFPHHVSPGFGGSFSPQIGPLSQHHPHHPHFQHHHSQHQQQRRSPASPHPPPFTHRNAAFNQLPHLANNLNKPPSPWSSYQSPSPTPSSSWSPGGGGYGGWGGSQGRDHRRGLNGGITPLNSISPLKKNFASNHIQLQKYARPSSAFAPKSWMEDSLNRADNIFPFPDRPRTFDMHSLESSLIDIMRAENDTIKARTYGRRRGQSSLFPMEDGFLDDGRGDQPLHSGLGSPHCFSHQNGE'\n",
    "\n",
    "base_dir = '/home/adria/perdiux/prod/lammps/dignon/MULTICHAIN'\n",
    "for n in [2, 10, 50]:\n",
    "    wd = os.path.join(base_dir, str(n))\n",
    "    tester = lmpsetup.LMPSetup(oliba_wd=wd, seq=cpeb4, chains=n, temper=True)\n",
    "    tester.get_pdb_xyz(pdb=cpeb4_eq_pdb)\n",
    "    tester.get_hps_params()\n",
    "    tester.get_hps_pairs()\n",
    "    tester.write_hps_files()"
   ]
  },
  {
   "cell_type": "code",
   "execution_count": null,
   "metadata": {},
   "outputs": [],
   "source": []
  },
  {
   "cell_type": "code",
   "execution_count": null,
   "metadata": {},
   "outputs": [],
   "source": []
  },
  {
   "cell_type": "code",
   "execution_count": 198,
   "metadata": {},
   "outputs": [],
   "source": [
    "importlib.reload(lmp);\n",
    "importlib.reload(lmpsetup);\n",
    "importlib.reload(analysis);\n",
    "\n",
    "cpeb4     = 'MGDYGFGVLVQSNTGNKSAFPVRFHPHLQPPHHHQNATPSPAAFINNNTAANGSSAGSAWLFPAPATHNIQDEILGSEKAKSQQQEQQDPLEKQQLSPSPGQEAGILPETEKAKSEENQGDNSSENGNGKEKIRIESPVLTGFDYQEATGLGTSTQPLTSSASSLTGFSNWSAAIAPSSSTIINEDASFFHQGGVPAASANNGALLFQNFPHHVSPGFGGSFSPQIGPLSQHHPHHPHFQHHHSQHQQQRRSPASPHPPPFTHRNAAFNQLPHLANNLNKPPSPWSSYQSPSPTPSSSWSPGGGGYGGWGGSQGRDHRRGLNGGITPLNSISPLKKNFASNHIQLQKYARPSSAFAPKSWMEDSLNRADNIFPFPDRPRTFDMHSLESSLIDIMRAENDTIKARTYGRRRGQSSLFPMEDGFLDDGRGDQPLHSGLGSPHCFSHQNGE'\n",
    "\n",
    "restart = lmpsetup.LMPSetup(oliba_wd='/home/adria/test/restart', seq=cpeb4, temper=True)\n",
    "restart.get_hps_params()\n",
    "restart.get_hps_pairs()\n",
    "restart.write_hps_files()"
   ]
  },
  {
   "cell_type": "code",
   "execution_count": null,
   "metadata": {},
   "outputs": [],
   "source": []
  },
  {
   "cell_type": "code",
   "execution_count": null,
   "metadata": {},
   "outputs": [],
   "source": []
  },
  {
   "cell_type": "code",
   "execution_count": 229,
   "metadata": {},
   "outputs": [],
   "source": [
    "Ts = [150.0, 170.0, 192.5, 217.5, 247.5, 280.0, 320.0, 362.5, 410.0, 467.5, 530.0, 600.0]"
   ]
  },
  {
   "cell_type": "code",
   "execution_count": 227,
   "metadata": {},
   "outputs": [
    {
     "name": "stdout",
     "output_type": "stream",
     "text": [
      "Swapping progress : 99.85 %\n",
      "Swapping progress : 99.90 %\n"
     ]
    }
   ],
   "source": [
    "importlib.reload(lmp);\n",
    "importlib.reload(lmpsetup);\n",
    "importlib.reload(analysis);\n",
    "\n",
    "dir1 = '/home/adria/perdiux/prod/lammps/dignon/L0_CPEB4/0ls-10I-80e'\n",
    "dir2 = '/home/adria/perdiux/prod/lammps/dignon/L0_CPEB4/0ls-400I-80e'\n",
    "\n",
    "one = analysis.Analysis(oliba_wd=dir1, temper=True)\n",
    "two = analysis.Analysis(oliba_wd=dir2, temper=True)\n",
    "rg1 = one.rg(use='md')\n",
    "rg2 = two.rg(use='md')"
   ]
  },
  {
   "cell_type": "code",
   "execution_count": 233,
   "metadata": {},
   "outputs": [
    {
     "data": {
      "text/plain": [
       "[<matplotlib.lines.Line2D at 0x7ff2b4e3d350>]"
      ]
     },
     "execution_count": 233,
     "metadata": {},
     "output_type": "execute_result"
    },
    {
     "data": {
      "image/png": "[encoded data removed]",
      "text/plain": [
       "<Figure size 432x288 with 1 Axes>"
      ]
     },
     "metadata": {
      "needs_background": "light"
     },
     "output_type": "display_data"
    }
   ],
   "source": [
    "plt.plot(Ts, rg1.mean(1))\n",
    "plt.plot(Ts, rg2.mean(1))"
   ]
  },
  {
   "cell_type": "code",
   "execution_count": 337,
   "metadata": {},
   "outputs": [
    {
     "name": "stdout",
     "output_type": "stream",
     "text": [
      "50\n",
      "Swapping progress : 99.99 %50\n",
      "Swapping progress : 99.99 %"
     ]
    }
   ],
   "source": [
    "importlib.reload(lmp);\n",
    "importlib.reload(lmpsetup);\n",
    "importlib.reload(analysis);\n",
    "\n",
    "dir1 = '/home/adria/perdiux/prod/lammps/dignon/CPEB4/RE-cpeb4'\n",
    "\n",
    "one = analysis.Analysis(oliba_wd=dir1, temper=True, force_reorder=True)\n",
    "rg1 = one.rg(use='md')\n",
    "fl = one.flory_scaling_fit(use='md', r0=5.5)"
   ]
  },
  {
   "cell_type": "code",
   "execution_count": 338,
   "metadata": {},
   "outputs": [
    {
     "data": {
      "text/plain": [
       "[<matplotlib.lines.Line2D at 0x7ff2b49b3a10>]"
      ]
     },
     "execution_count": 338,
     "metadata": {},
     "output_type": "execute_result"
    },
    {
     "data": {
      "image/png": "[encoded data removed]",
      "text/plain": [
       "<Figure size 576x432 with 1 Axes>"
      ]
     },
     "metadata": {
      "needs_background": "light"
     },
     "output_type": "display_data"
    },
    {
     "data": {
      "image/png": "[encoded data removed]",
      "text/plain": [
       "<Figure size 576x432 with 1 Axes>"
      ]
     },
     "metadata": {
      "needs_background": "light"
     },
     "output_type": "display_data"
    }
   ],
   "source": [
    "plt.figure(figsize=(8,6))\n",
    "plt.xlabel(\"T\")\n",
    "plt.ylabel(\"Rg\")\n",
    "plt.plot(Ts, rg1.mean(1),'.')\n",
    "plt.figure(figsize=(8,6))\n",
    "plt.xlabel(\"T\")\n",
    "plt.ylabel(\"mu\")\n",
    "plt.plot(Ts, fl[0],'.')"
   ]
  },
  {
   "cell_type": "code",
   "execution_count": 339,
   "metadata": {},
   "outputs": [
    {
     "data": {
      "text/plain": [
       "array([[[ 36.924004 , -16.277    , -25.072    ],\n",
       "        [ 36.845    , -16.356    , -24.702002 ],\n",
       "        [ 37.023003 , -16.459002 , -24.399002 ],\n",
       "        ...,\n",
       "        [ 91.523    , -25.524002 , -23.330002 ],\n",
       "        [ 91.801    , -25.735    , -23.141    ],\n",
       "        [ 91.854004 , -26.12     , -23.161001 ]],\n",
       "\n",
       "       [[ 44.714    , -17.107    , -20.201    ],\n",
       "        [ 44.938004 , -17.166    , -19.943    ],\n",
       "        [ 44.855003 , -17.067001 , -19.592001 ],\n",
       "        ...,\n",
       "        [ 85.754005 , -24.688002 , -24.185001 ],\n",
       "        [ 85.41701  , -24.724    , -24.384    ],\n",
       "        [ 85.48701  , -24.622002 , -24.750002 ]],\n",
       "\n",
       "       [[ 53.296    , -21.918001 , -27.439001 ],\n",
       "        [ 52.941    , -21.832    , -27.396002 ],\n",
       "        [ 52.699    , -22.124    , -27.299002 ],\n",
       "        ...,\n",
       "        [ 87.036    , -26.335001 , -24.784    ],\n",
       "        [ 87.25001  , -26.166    , -24.525002 ],\n",
       "        [ 87.239006 , -26.295002 , -24.18     ]],\n",
       "\n",
       "       ...,\n",
       "\n",
       "       [[ 64.801    ,   1.539    , -54.921    ],\n",
       "        [ 64.597    ,   1.261    , -55.090004 ],\n",
       "        [ 64.30701  ,   1.4710001, -55.251003 ],\n",
       "        ...,\n",
       "        [ 75.268005 ,   4.196    , -47.961002 ],\n",
       "        [ 74.958    ,   3.9830003, -47.822002 ],\n",
       "        [ 74.788    ,   4.026    , -47.466003 ]],\n",
       "\n",
       "       [[ 77.772    ,   7.2950006, -52.476    ],\n",
       "        [ 77.872    ,   7.6590004, -52.361004 ],\n",
       "        [ 77.679    ,   7.7590003, -52.057003 ],\n",
       "        ...,\n",
       "        [ 67.181    ,   1.6620001, -62.203003 ],\n",
       "        [ 67.37701  ,   1.7630001, -61.948    ],\n",
       "        [ 67.678    ,   2.019    , -62.006004 ]],\n",
       "\n",
       "       [[ 68.452    ,   2.1420002, -49.926003 ],\n",
       "        [ 68.628006 ,   1.7870001, -49.861004 ],\n",
       "        [ 68.778    ,   1.746    , -49.555004 ],\n",
       "        ...,\n",
       "        [ 60.433002 ,  -5.6450005, -64.68201  ],\n",
       "        [ 60.757004 ,  -5.4210005, -64.716    ],\n",
       "        [ 61.086002 ,  -5.5140004, -64.643005 ]]], dtype=float32)"
      ]
     },
     "execution_count": 339,
     "metadata": {},
     "output_type": "execute_result"
    }
   ],
   "source": [
    "import mdtraj as md\n",
    "tr = md.load('/home/adria/perdiux/prod/lammps/dignon/CPEB4/RE-cpeb4/reorder-8.xtc', top='/home/adria/perdiux/prod/lammps/dignon/CPEB4/RE-cpeb4/data_trj.pdb')\n",
    "tr.xyz"
   ]
  },
  {
   "cell_type": "code",
   "execution_count": 258,
   "metadata": {},
   "outputs": [
    {
     "name": "stdout",
     "output_type": "stream",
     "text": [
      "[[ 36.924004 -16.277    -25.072   ]\n",
      " [ 36.845    -16.356    -24.702002]\n",
      " [ 37.023003 -16.459002 -24.399002]\n",
      " ...\n",
      " [ 91.523    -25.524002 -23.330002]\n",
      " [ 91.801    -25.735    -23.141   ]\n",
      " [ 91.854004 -26.12     -23.161001]]\n"
     ]
    }
   ],
   "source": [
    "tr = md.load('/home/adria/perdiux/prod/lammps/dignon/CPEB4/RE-cpeb4/xtc_temper11.xtc', top='/home/adria/perdiux/prod/lammps/dignon/CPEB4/RE-cpeb4/data_trj.pdb')\n",
    "print(tr.xyz[0,:,:])"
   ]
  },
  {
   "cell_type": "code",
   "execution_count": 331,
   "metadata": {},
   "outputs": [
    {
     "name": "stdout",
     "output_type": "stream",
     "text": [
      "Swapping progress : 99.99 %"
     ]
    },
    {
     "data": {
      "text/plain": [
       "['/home/adria/scripts/depured-lammps/default_output/reorder-0.xtc',\n",
       " '/home/adria/scripts/depured-lammps/default_output/reorder-1.xtc',\n",
       " '/home/adria/scripts/depured-lammps/default_output/reorder-2.xtc',\n",
       " '/home/adria/scripts/depured-lammps/default_output/reorder-3.xtc',\n",
       " '/home/adria/scripts/depured-lammps/default_output/reorder-4.xtc',\n",
       " '/home/adria/scripts/depured-lammps/default_output/reorder-5.xtc',\n",
       " '/home/adria/scripts/depured-lammps/default_output/reorder-6.xtc',\n",
       " '/home/adria/scripts/depured-lammps/default_output/reorder-7.xtc',\n",
       " '/home/adria/scripts/depured-lammps/default_output/reorder-8.xtc',\n",
       " '/home/adria/scripts/depured-lammps/default_output/reorder-9.xtc',\n",
       " '/home/adria/scripts/depured-lammps/default_output/reorder-10.xtc',\n",
       " '/home/adria/scripts/depured-lammps/default_output/reorder-11.xtc']"
      ]
     },
     "execution_count": 331,
     "metadata": {},
     "output_type": "execute_result"
    }
   ],
   "source": [
    "importlib.reload(lmp);\n",
    "importlib.reload(lmpsetup);\n",
    "importlib.reload(analysis);\n",
    "\n",
    "test = analysis.Analysis(oliba_wd='/home/adria/test/reorder_bug', temper=True, force_reorder=True)\n",
    "test._temper_trj_reorder()"
   ]
  },
  {
   "cell_type": "code",
   "execution_count": 324,
   "metadata": {},
   "outputs": [
    {
     "data": {
      "text/plain": [
       "array([[[ 36.924004 , -16.277    , -25.072    ],\n",
       "        [ 36.845    , -16.356    , -24.702002 ],\n",
       "        [ 37.023003 , -16.459002 , -24.399002 ],\n",
       "        ...,\n",
       "        [ 91.523    , -25.524002 , -23.330002 ],\n",
       "        [ 91.801    , -25.735    , -23.141    ],\n",
       "        [ 91.854004 , -26.12     , -23.161001 ]],\n",
       "\n",
       "       [[ 44.714    , -17.107    , -20.201    ],\n",
       "        [ 44.938004 , -17.166    , -19.943    ],\n",
       "        [ 44.855003 , -17.067001 , -19.592001 ],\n",
       "        ...,\n",
       "        [ 85.754005 , -24.688002 , -24.185001 ],\n",
       "        [ 85.41701  , -24.724    , -24.384    ],\n",
       "        [ 85.48701  , -24.622002 , -24.750002 ]],\n",
       "\n",
       "       [[ 53.296    , -21.918001 , -27.439001 ],\n",
       "        [ 52.941    , -21.832    , -27.396002 ],\n",
       "        [ 52.699    , -22.124    , -27.299002 ],\n",
       "        ...,\n",
       "        [ 87.036    , -26.335001 , -24.784    ],\n",
       "        [ 87.25001  , -26.166    , -24.525002 ],\n",
       "        [ 87.239006 , -26.295002 , -24.18     ]],\n",
       "\n",
       "       ...,\n",
       "\n",
       "       [[ 64.801    ,   1.539    , -54.921    ],\n",
       "        [ 64.597    ,   1.261    , -55.090004 ],\n",
       "        [ 64.30701  ,   1.4710001, -55.251003 ],\n",
       "        ...,\n",
       "        [ 75.268005 ,   4.196    , -47.961002 ],\n",
       "        [ 74.958    ,   3.9830003, -47.822002 ],\n",
       "        [ 74.788    ,   4.026    , -47.466003 ]],\n",
       "\n",
       "       [[ 77.772    ,   7.2950006, -52.476    ],\n",
       "        [ 77.872    ,   7.6590004, -52.361004 ],\n",
       "        [ 77.679    ,   7.7590003, -52.057003 ],\n",
       "        ...,\n",
       "        [ 67.181    ,   1.6620001, -62.203003 ],\n",
       "        [ 67.37701  ,   1.7630001, -61.948    ],\n",
       "        [ 67.678    ,   2.019    , -62.006004 ]],\n",
       "\n",
       "       [[ 68.452    ,   2.1420002, -49.926003 ],\n",
       "        [ 68.628006 ,   1.7870001, -49.861004 ],\n",
       "        [ 68.778    ,   1.746    , -49.555004 ],\n",
       "        ...,\n",
       "        [ 60.433002 ,  -5.6450005, -64.68201  ],\n",
       "        [ 60.757004 ,  -5.4210005, -64.716    ],\n",
       "        [ 61.086002 ,  -5.5140004, -64.643005 ]]], dtype=float32)"
      ]
     },
     "execution_count": 324,
     "metadata": {},
     "output_type": "execute_result"
    }
   ],
   "source": [
    "tr = md.load('/home/adria/test/reorder_bug/reorder-8.xtc', top = '/home/adria/test/reorder_bug/data_trj.pdb')\n",
    "tr.xyz"
   ]
  },
  {
   "cell_type": "code",
   "execution_count": 347,
   "metadata": {},
   "outputs": [
    {
     "name": "stdout",
     "output_type": "stream",
     "text": [
      "2\n",
      "Swapping progress : 0.00 %\r",
      "Swapping progress : 3.92 %\r",
      "Swapping progress : 7.84 %\r",
      "Swapping progress : 11.76 %\r",
      "Swapping progress : 15.69 %\r",
      "Swapping progress : 19.61 %\r",
      "Swapping progress : 23.53 %\r",
      "Swapping progress : 27.45 %\r",
      "Swapping progress : 31.37 %\r",
      "Swapping progress : 35.29 %\r",
      "Swapping progress : 39.22 %\r",
      "Swapping progress : 43.14 %\r",
      "Swapping progress : 47.06 %\r",
      "Swapping progress : 50.98 %\r",
      "Swapping progress : 54.90 %\r",
      "Swapping progress : 58.82 %\r",
      "Swapping progress : 62.75 %\r",
      "Swapping progress : 66.67 %\r",
      "Swapping progress : 70.59 %\r",
      "Swapping progress : 74.51 %\r",
      "Swapping progress : 78.43 %\r",
      "Swapping progress : 82.35 %\r",
      "Swapping progress : 86.27 %\r",
      "Swapping progress : 90.20 %\r",
      "Swapping progress : 94.12 %\r",
      "Swapping progress : 98.04 %\r",
      "\r",
      "\r",
      "(2, 21, 5)\n"
     ]
    },
    {
     "data": {
      "text/plain": [
       "['/home/adria/scripts/depured-lammps/default_output/reorder-0.xtc',\n",
       " '/home/adria/scripts/depured-lammps/default_output/reorder-1.xtc']"
      ]
     },
     "execution_count": 347,
     "metadata": {},
     "output_type": "execute_result"
    }
   ],
   "source": [
    "importlib.reload(lmp);\n",
    "importlib.reload(lmpsetup);\n",
    "importlib.reload(analysis);\n",
    "\n",
    "test = analysis.Analysis(oliba_wd='/home/adria/test/reorder_test', temper=True, force_reorder=True)\n",
    "test._temper_trj_reorder()"
   ]
  },
  {
   "cell_type": "code",
   "execution_count": 345,
   "metadata": {},
   "outputs": [
    {
     "name": "stdout",
     "output_type": "stream",
     "text": [
      "[[36.924004 36.845    37.023003 37.043003 37.385002]\n",
      " [36.783    37.073    37.061    37.029003 37.416   ]\n",
      " [36.907    36.735    36.926003 36.882    37.242   ]\n",
      " [36.981003 36.972    36.895    36.831    37.190002]\n",
      " [36.65     36.946003 36.763    36.799004 37.077003]]\n",
      "[[36.924004 36.845    37.023003 37.043003 37.385002]\n",
      " [36.782    37.072002 37.06     37.029003 37.416   ]\n",
      " [36.905003 36.730003 36.918003 36.882    37.241   ]\n",
      " [36.980003 36.973003 36.895    36.83     37.188004]\n",
      " [36.649002 36.946003 36.759003 36.797    37.08    ]]\n",
      "==================================================\n",
      "[[36.924004 36.845    37.023003 37.043003 37.385002]\n",
      " [36.782    37.072002 37.06     37.029003 37.416   ]\n",
      " [36.907    36.735    36.926003 36.882    37.242   ]\n",
      " [36.981003 36.972    36.895    36.831    37.190002]\n",
      " [36.649002 36.946003 36.759003 36.797    37.08    ]]\n",
      "[[36.924004 36.845    37.023003 37.043003 37.385002]\n",
      " [36.783    37.073    37.061    37.029003 37.416   ]\n",
      " [36.905003 36.730003 36.918003 36.882    37.241   ]\n",
      " [36.980003 36.973003 36.895    36.83     37.188004]\n",
      " [36.65     36.946003 36.763    36.799004 37.077003]]\n"
     ]
    }
   ],
   "source": [
    "r0 = md.load('/home/adria/test/reorder_test/xtc_temper0.xtc', top='/home/adria/test/reorder_test/data_trj.pdb')\n",
    "r1 = md.load('/home/adria/test/reorder_test/xtc_temper1.xtc', top='/home/adria/test/reorder_test/data_trj.pdb')\n",
    "rT0 = md.load('/home/adria/test/reorder_test/reorder-0.xtc', top='/home/adria/test/reorder_test/data_trj.pdb')\n",
    "rT1 = md.load('/home/adria/test/reorder_test/reorder-1.xtc', top='/home/adria/test/reorder_test/data_trj.pdb')\n",
    "print(r0.xyz[0:5, 0:5, 0])\n",
    "print(r1.xyz[0:5, 0:5, 0])\n",
    "print(\"=\"*50)\n",
    "print(rT0.xyz[0:5, 0:5, 0])\n",
    "print(rT1.xyz[0:5, 0:5, 0])"
   ]
  },
  {
   "cell_type": "code",
   "execution_count": 352,
   "metadata": {},
   "outputs": [
    {
     "data": {
      "text/plain": [
       "array([150.27429507, 169.7298097 , 192.29054458, 217.92285701,\n",
       "       248.34534896, 280.16317572, 321.804561  , 365.92346433,\n",
       "       409.92690204, 471.52587781, 529.77398169, 600.92557433])"
      ]
     },
     "execution_count": 352,
     "metadata": {},
     "output_type": "execute_result"
    }
   ],
   "source": [
    "one.data[:,:,3].mean(axis=1)"
   ]
  },
  {
   "cell_type": "code",
   "execution_count": 356,
   "metadata": {},
   "outputs": [
    {
     "name": "stdout",
     "output_type": "stream",
     "text": [
      "Omitting temper reordering (reorder files already present)\n",
      "50\n",
      "Swapping progress : 99.92 %(12, 149, 5)\n"
     ]
    }
   ],
   "source": [
    "IasEps1 = analysis.Analysis(oliba_wd='/home/adria/perdiux/prod/lammps/dignon/CPEB4/eps/I_as_Eps/80', temper=True)\n",
    "IasEps2 = analysis.Analysis(oliba_wd='/home/adria/perdiux/prod/lammps/dignon/CPEB4/eps/I_as_Eps/800', temper=True)\n",
    "\n",
    "rgs1 = IasEps1.rg(use='md')\n",
    "rgs2 = IasEps2.rg(use='md')"
   ]
  },
  {
   "cell_type": "code",
   "execution_count": 357,
   "metadata": {},
   "outputs": [
    {
     "data": {
      "text/plain": [
       "[<matplotlib.lines.Line2D at 0x7ff2bf2b5f50>]"
      ]
     },
     "execution_count": 357,
     "metadata": {},
     "output_type": "execute_result"
    },
    {
     "data": {
      "image/png": "[encoded data removed]",
      "text/plain": [
       "<Figure size 432x288 with 1 Axes>"
      ]
     },
     "metadata": {
      "needs_background": "light"
     },
     "output_type": "display_data"
    }
   ],
   "source": [
    "plt.plot(Ts, rgs1.mean(axis=1))\n",
    "plt.plot(Ts, rgs2.mean(axis=1))"
   ]
  },
  {
   "cell_type": "code",
   "execution_count": 438,
   "metadata": {},
   "outputs": [],
   "source": [
    "importlib.reload(lmp);\n",
    "importlib.reload(lmpsetup);\n",
    "importlib.reload(analysis);\n",
    "\n",
    "cpeb4     = 'MGDYGFGVLVQSNTGNKSAFPVRFHPHLQPPHHHQNATPSPAAFINNNTAANGSSAGSAWLFPAPATHNIQDEILGSEKAKSQQQEQQDPLEKQQLSPSPGQEAGILPETEKAKSEENQGDNSSENGNGKEKIRIESPVLTGFDYQEATGLGTSTQPLTSSASSLTGFSNWSAAIAPSSSTIINEDASFFHQGGVPAASANNGALLFQNFPHHVSPGFGGSFSPQIGPLSQHHPHHPHFQHHHSQHQQQRRSPASPHPPPFTHRNAAFNQLPHLANNLNKPPSPWSSYQSPSPTPSSSWSPGGGGYGGWGGSQGRDHRRGLNGGITPLNSISPLKKNFASNHIQLQKYARPSSAFAPKSWMEDSLNRADNIFPFPDRPRTFDMHSLESSLIDIMRAENDTIKARTYGRRRGQSSLFPMEDGFLDDGRGDQPLHSGLGSPHCFSHQNGE'\n",
    "dcpeb4     = 'PAPATHNIQDEILGSEKAKSQQQEQQDPLEKQQLSPSPGQEAGILPETEKAK'\n",
    "\n",
    "win_q = lmp.LMP(oliba_wd='.')\n",
    "total, plus, minus = win_q.get_charge_seq(sequence=cpeb4)"
   ]
  },
  {
   "cell_type": "code",
   "execution_count": 455,
   "metadata": {},
   "outputs": [
    {
     "data": {
      "image/png": "[encoded data removed]",
      "text/plain": [
       "<Figure size 576x432 with 1 Axes>"
      ]
     },
     "metadata": {
      "needs_background": "light"
     },
     "output_type": "display_data"
    }
   ],
   "source": [
    "plt.figure(figsize=(8,6))\n",
    "plt.stem(plus, markerfmt=' ', use_line_collection=True, linefmt='blue', basefmt='')\n",
    "plt.stem(minus, markerfmt=' ', use_line_collection=True, linefmt='red', basefmt='')\n",
    "plt.ylim(-0.6, 0.6);"
   ]
  },
  {
   "cell_type": "code",
   "execution_count": null,
   "metadata": {},
   "outputs": [],
   "source": []
  },
  {
   "cell_type": "code",
   "execution_count": null,
   "metadata": {},
   "outputs": [],
   "source": []
  },
  {
   "cell_type": "code",
   "execution_count": 479,
   "metadata": {},
   "outputs": [
    {
     "name": "stdout",
     "output_type": "stream",
     "text": [
      "Omitting temper reordering (reorder files already present)\n",
      "[[1.         1.         0.07894737 ... 0.         0.         0.        ]\n",
      " [1.         1.         1.         ... 0.         0.         0.        ]\n",
      " [0.07894737 1.         1.         ... 0.         0.         0.        ]\n",
      " ...\n",
      " [0.         0.         0.         ... 1.         1.         0.14473684]\n",
      " [0.         0.         0.         ... 1.         1.         1.        ]\n",
      " [0.         0.         0.         ... 0.14473684 1.         1.        ]]\n",
      "[[1.         1.         0.09210526 ... 0.         0.         0.        ]\n",
      " [1.         1.         1.         ... 0.         0.         0.        ]\n",
      " [0.09210526 1.         1.         ... 0.         0.         0.        ]\n",
      " ...\n",
      " [0.         0.         0.         ... 1.         1.         0.09868421]\n",
      " [0.         0.         0.         ... 1.         1.         1.        ]\n",
      " [0.         0.         0.         ... 0.09868421 1.         1.        ]]\n",
      "[[1.         1.         0.13157895 ... 0.         0.         0.        ]\n",
      " [1.         1.         1.         ... 0.         0.00657895 0.        ]\n",
      " [0.13157895 1.         1.         ... 0.         0.00657895 0.        ]\n",
      " ...\n",
      " [0.         0.         0.         ... 1.         1.         0.1513158 ]\n",
      " [0.         0.00657895 0.00657895 ... 1.         1.         1.        ]\n",
      " [0.         0.         0.         ... 0.1513158  1.         1.        ]]\n",
      "[[1.         1.         0.07894737 ... 0.         0.00657895 0.        ]\n",
      " [1.         1.         1.         ... 0.00657895 0.         0.        ]\n",
      " [0.07894737 1.         1.         ... 0.         0.         0.        ]\n",
      " ...\n",
      " [0.         0.00657895 0.         ... 1.         1.         0.13157895]\n",
      " [0.00657895 0.         0.         ... 1.         1.         1.        ]\n",
      " [0.         0.         0.         ... 0.13157895 1.         1.        ]]\n",
      "[[1.         1.         0.16447368 ... 0.         0.00657895 0.        ]\n",
      " [1.         1.         1.         ... 0.         0.         0.        ]\n",
      " [0.16447368 1.         1.         ... 0.         0.         0.        ]\n",
      " ...\n",
      " [0.         0.         0.         ... 1.         1.         0.19078948]\n",
      " [0.00657895 0.         0.         ... 1.         1.         1.        ]\n",
      " [0.         0.         0.         ... 0.19078948 1.         1.        ]]\n",
      "[[1.         1.         0.09868421 ... 0.         0.         0.        ]\n",
      " [1.         1.         1.         ... 0.         0.         0.        ]\n",
      " [0.09868421 1.         1.         ... 0.         0.         0.        ]\n",
      " ...\n",
      " [0.         0.         0.         ... 1.         1.         0.11842106]\n",
      " [0.         0.         0.         ... 1.         1.         1.        ]\n",
      " [0.         0.         0.         ... 0.11842106 1.         1.        ]]\n",
      "[[1.        1.        0.125     ... 0.        0.        0.       ]\n",
      " [1.        1.        1.        ... 0.        0.        0.       ]\n",
      " [0.125     1.        1.        ... 0.        0.        0.       ]\n",
      " ...\n",
      " [0.        0.        0.        ... 1.        1.        0.1513158]\n",
      " [0.        0.        0.        ... 1.        1.        1.       ]\n",
      " [0.        0.        0.        ... 0.1513158 1.        1.       ]]\n",
      "[[1.         1.         0.13815789 ... 0.         0.         0.        ]\n",
      " [1.         1.         1.         ... 0.         0.         0.        ]\n",
      " [0.13815789 1.         1.         ... 0.         0.         0.        ]\n",
      " ...\n",
      " [0.         0.         0.         ... 1.         1.         0.17105263]\n",
      " [0.         0.         0.         ... 1.         1.         1.        ]\n",
      " [0.         0.         0.         ... 0.17105263 1.         1.        ]]\n",
      "[[1.         1.         0.2631579  ... 0.         0.         0.        ]\n",
      " [1.         1.         1.         ... 0.         0.         0.        ]\n",
      " [0.2631579  1.         1.         ... 0.         0.         0.        ]\n",
      " ...\n",
      " [0.         0.         0.         ... 1.         1.         0.15789473]\n",
      " [0.         0.         0.         ... 1.         1.         1.        ]\n",
      " [0.         0.         0.         ... 0.15789473 1.         1.        ]]\n",
      "[[1.         1.         0.2236842  ... 0.         0.         0.        ]\n",
      " [1.         1.         1.         ... 0.         0.         0.        ]\n",
      " [0.2236842  1.         1.         ... 0.         0.         0.        ]\n",
      " ...\n",
      " [0.         0.         0.         ... 1.         1.         0.18421052]\n",
      " [0.         0.         0.         ... 1.         1.         1.        ]\n",
      " [0.         0.         0.         ... 0.18421052 1.         1.        ]]\n",
      "[[1.         1.         0.19078948 ... 0.         0.         0.        ]\n",
      " [1.         1.         1.         ... 0.         0.         0.        ]\n",
      " [0.19078948 1.         1.         ... 0.         0.         0.        ]\n",
      " ...\n",
      " [0.         0.         0.         ... 1.         1.         0.21052632]\n",
      " [0.         0.         0.         ... 1.         1.         1.        ]\n",
      " [0.         0.         0.         ... 0.21052632 1.         1.        ]]\n",
      "[[1.         1.         0.17105263 ... 0.         0.         0.        ]\n",
      " [1.         1.         1.         ... 0.         0.         0.        ]\n",
      " [0.17105263 1.         1.         ... 0.         0.         0.        ]\n",
      " ...\n",
      " [0.         0.         0.         ... 1.         1.         0.15789473]\n",
      " [0.         0.         0.         ... 1.         1.         1.        ]\n",
      " [0.         0.         0.         ... 0.15789473 1.         1.        ]]\n"
     ]
    }
   ],
   "source": [
    "importlib.reload(lmp);\n",
    "importlib.reload(lmpsetup);\n",
    "importlib.reload(analysis);\n",
    "\n",
    "cpeb4     = 'MGDYGFGVLVQSNTGNKSAFPVRFHPHLQPPHHHQNATPSPAAFINNNTAANGSSAGSAWLFPAPATHNIQDEILGSEKAKSQQQEQQDPLEKQQLSPSPGQEAGILPETEKAKSEENQGDNSSENGNGKEKIRIESPVLTGFDYQEATGLGTSTQPLTSSASSLTGFSNWSAAIAPSSSTIINEDASFFHQGGVPAASANNGALLFQNFPHHVSPGFGGSFSPQIGPLSQHHPHHPHFQHHHSQHQQQRRSPASPHPPPFTHRNAAFNQLPHLANNLNKPPSPWSSYQSPSPTPSSSWSPGGGGYGGWGGSQGRDHRRGLNGGITPLNSISPLKKNFASNHIQLQKYARPSSAFAPKSWMEDSLNRADNIFPFPDRPRTFDMHSLESSLIDIMRAENDTIKARTYGRRRGQSSLFPMEDGFLDDGRGDQPLHSGLGSPHCFSHQNGE'\n",
    "dcpeb4     = 'PAPATHNIQDEILGSEKAKSQQQEQQDPLEKQQLSPSPGQEAGILPETEKAK'\n",
    "\n",
    "by_cont = analysis.Analysis(oliba_wd='/home/adria/perdiux/prod/lammps/dignon/CPEB4/eps/I_as_Eps/80', temper=True)\n",
    "cnts = by_cont.distance_map(use='md', contacts=True)"
   ]
  },
  {
   "cell_type": "code",
   "execution_count": 480,
   "metadata": {},
   "outputs": [
    {
     "data": {
      "text/plain": [
       "<matplotlib.image.AxesImage at 0x7ff2b446bb50>"
      ]
     },
     "execution_count": 480,
     "metadata": {},
     "output_type": "execute_result"
    },
    {
     "data": {
      "image/png": "[encoded data removed]",
      "text/plain": [
       "<Figure size 432x288 with 1 Axes>"
      ]
     },
     "metadata": {
      "needs_background": "light"
     },
     "output_type": "display_data"
    }
   ],
   "source": [
    "plt.imshow(cnts[0])"
   ]
  },
  {
   "cell_type": "code",
   "execution_count": null,
   "metadata": {},
   "outputs": [],
   "source": []
  },
  {
   "cell_type": "code",
   "execution_count": null,
   "metadata": {},
   "outputs": [],
   "source": []
  },
  {
   "cell_type": "code",
   "execution_count": null,
   "metadata": {},
   "outputs": [],
   "source": []
  },
  {
   "cell_type": "code",
   "execution_count": null,
   "metadata": {},
   "outputs": [],
   "source": []
  },
  {
   "cell_type": "code",
   "execution_count": 14,
   "metadata": {},
   "outputs": [],
   "source": [
    "importlib.reload(lmp);\n",
    "importlib.reload(lmpsetup);\n",
    "importlib.reload(analysis);\n",
    "\n",
    "cpeb4_eq_pdb = '/home/adria/scripts/lammps/data/equil/cpeb4.pdb'\n",
    "cpeb4 = 'MGDYGFGVLVQSNTGNKSAFPVRFHPHLQPPHHHQNATPSPAAFINNNTAANGSSAGSAWLFPAPATHNIQDEILGSEKAKSQQQEQQDPLEKQQLSPSPGQEAGILPETEKAKSEENQGDNSSENGNGKEKIRIESPVLTGFDYQEATGLGTSTQPLTSSASSLTGFSNWSAAIAPSSSTIINEDASFFHQGGVPAASANNGALLFQNFPHHVSPGFGGSFSPQIGPLSQHHPHHPHFQHHHSQHQQQRRSPASPHPPPFTHRNAAFNQLPHLANNLNKPPSPWSSYQSPSPTPSSSWSPGGGGYGGWGGSQGRDHRRGLNGGITPLNSISPLKKNFASNHIQLQKYARPSSAFAPKSWMEDSLNRADNIFPFPDRPRTFDMHSLESSLIDIMRAENDTIKARTYGRRRGQSSLFPMEDGFLDDGRGDQPLHSGLGSPHCFSHQNGE'\n",
    "\n",
    "base_dir = '/home/adria/perdiux/prod/lammps/dignon/MULTICHAIN'\n",
    "wd = os.path.join(base_dir, str(2))\n",
    "tester = lmpsetup.LMPSetup(oliba_wd=wd, seq=cpeb4, chains=2, temper=True)\n",
    "tester.get_pdb_xyz(pdb=cpeb4_eq_pdb)\n",
    "tester.get_hps_params()\n",
    "tester.get_hps_pairs()\n",
    "tester.write_hps_files()"
   ]
  },
  {
   "cell_type": "code",
   "execution_count": 17,
   "metadata": {},
   "outputs": [],
   "source": [
    "import mdtraj as md\n",
    "tr = md.load('/home/adria/perdiux/prod/csuc/v2/dcd_traj_0.dcd', top='/home/adria/perdiux/prod/csuc/v2/data_trj.pdb')"
   ]
  },
  {
   "cell_type": "code",
   "execution_count": 40,
   "metadata": {},
   "outputs": [
    {
     "name": "stdout",
     "output_type": "stream",
     "text": [
      "[[ 41.9819    38.4559    41.381603]\n",
      " [ 42.273903  38.695904  41.3446  ]\n",
      " [ 42.4559    39.0029    41.2086  ]\n",
      " ...\n",
      " [-42.790203  38.7439    39.2756  ]\n",
      " [-42.9512    38.4439    39.1716  ]\n",
      " [-43.1052    38.3819    38.8376  ]]\n",
      "[[[41.9819 38.4559 41.3816]\n",
      "  [42.2739 38.6959 41.3446]\n",
      "  [42.4559 39.0029 41.2086]\n",
      "  ...\n",
      "  [48.8098 38.7439 39.2756]\n",
      "  [48.6487 38.4439 39.1716]\n",
      "  [48.4948 38.3819 38.8376]]]\n"
     ]
    }
   ],
   "source": [
    "print(tr[0].xyz[0,:,:])\n",
    "pdb = md.load_pdb('/home/adria/perdiux/prod/csuc/v2/data_trj.pdb')\n",
    "print(pdb.xyz)"
   ]
  },
  {
   "cell_type": "code",
   "execution_count": 46,
   "metadata": {},
   "outputs": [
    {
     "data": {
      "text/plain": [
       "0.032"
      ]
     },
     "execution_count": 46,
     "metadata": {},
     "output_type": "execute_result"
    }
   ],
   "source": [
    "import scipy.constants as cnt\n",
    "\n",
    "def debye_length(eps,I):\n",
    "    l = np.sqrt(cnt.epsilon_0 * eps * cnt.Boltzmann * 300) / (np.sqrt(2 * I * 10 ** 3 * cnt.Avogadro) * cnt.e)\n",
    "    return l\n",
    "round(1/debye_length(80,10e-3)*10**-10, 3)"
   ]
  },
  {
   "cell_type": "code",
   "execution_count": 47,
   "metadata": {},
   "outputs": [
    {
     "data": {
      "text/plain": [
       "0.092"
      ]
     },
     "execution_count": 47,
     "metadata": {},
     "output_type": "execute_result"
    }
   ],
   "source": [
    "import scipy.constants as cnt\n",
    "\n",
    "def debye_length(eps,I):\n",
    "    l = np.sqrt(cnt.epsilon_0 * eps * cnt.Boltzmann * 300) / (np.sqrt(2 * I * 10 ** 3 * cnt.Avogadro) * cnt.e)\n",
    "    return l\n",
    "round(1/debye_length(10,10e-3)*10**-10, 3)"
   ]
  },
  {
   "cell_type": "code",
   "execution_count": 48,
   "metadata": {},
   "outputs": [
    {
     "name": "stdout",
     "output_type": "stream",
     "text": [
      "448\n"
     ]
    }
   ],
   "source": [
    "cpeb4     = 'MGDYGFGVLVQSNTGNKSAFPVRFHPHLQPPHHHQNATPSPAAFINNNTAANGSSAGSAWLFPAPATHNIQDEILGSEKAKSQQQEQQDPLEKQQLSPSPGQEAGILPETEKAKSEENQGDNSSENGNGKEKIRIESPVLTGFDYQEATGLGTSTQPLTSSASSLTGFSNWSAAIAPSSSTIINEDASFFHQGGVPAASANNGALLFQNFPHHVSPGFGGSFSPQIGPLSQHHPHHPHFQHHHSQHQQQRRSPASPHPPPFTHRNAAFNQLPHLANNLNKPPSPWSSYQSPSPTPSSSWSPGGGGYGGWGGSQGRDHRRGLNGGITPLNSISPLKKNFASNHIQLQKYARPSSAFAPKSWMEDSLNRADNIFPFPDRPRTFDMHSLESSLIDIMRAENDTIKARTYGRRRGQSSLFPMEDGFLDDGRGDQPLHSGLGSPHCFSHQNGE'\n",
    "print(len(cpeb4))"
   ]
  },
  {
   "cell_type": "code",
   "execution_count": 79,
   "metadata": {},
   "outputs": [
    {
     "name": "stdout",
     "output_type": "stream",
     "text": [
      "0.13169642857142858 0.08035714285714286\n",
      "1.2127619126160663\n",
      "0.13169642857142858 0.08035714285714286\n",
      "1.2127619126160663\n",
      "0.13169642857142858 0.08035714285714286\n",
      "1.2127619126160663\n"
     ]
    }
   ],
   "source": [
    "importlib.reload(lmp);\n",
    "importlib.reload(lmpsetup);\n",
    "importlib.reload(analysis);\n",
    "\n",
    "cpeb4     = 'MGDYGFGVLVQSNTGNKSAFPVRFHPHLQPPHHHQNATPSPAAFINNNTAANGSSAGSAWLFPAPATHNIQDEILGSEKAKSQQQEQQDPLEKQQLSPSPGQEAGILPETEKAKSEENQGDNSSENGNGKEKIRIESPVLTGFDYQEATGLGTSTQPLTSSASSLTGFSNWSAAIAPSSSTIINEDASFFHQGGVPAASANNGALLFQNFPHHVSPGFGGSFSPQIGPLSQHHPHHPHFQHHHSQHQQQRRSPASPHPPPFTHRNAAFNQLPHLANNLNKPPSPWSSYQSPSPTPSSSWSPGGGGYGGWGGSQGRDHRRGLNGGITPLNSISPLKKNFASNHIQLQKYARPSSAFAPKSWMEDSLNRADNIFPFPDRPRTFDMHSLESSLIDIMRAENDTIKARTYGRRRGQSSLFPMEDGFLDDGRGDQPLHSGLGSPHCFSHQNGE'\n",
    "cpeb4_7D  = 'MGDYGFGVLVQSNTGNKDAFPVRFHPHLQPPHHHQNADPDPAAFINNNTAANGSSAGSAWLFPAPATHNIQDEILGSEKAKSQQQEQQDPLEKQQLDPSPGQEAGILPETEKAKSEENQGDNSSENGNGKEKIRIESPVLTGFDYQEATGLGTSTQPLTSSASSLTGFSNWSAAIAPSSSTIINEDASFFHQGGVPAASANNGALLFQNFPHHVSPGFGGSFSPQIGPLSQHHPHHPHFQHHHSQHQQQRRDPADPHPPPFTHRNAAFNQLPHLANNLNKPPSPWSSYQSPSPTPSSSWSPGGGGYGGWGGSQGRDHRRGLNGGITPLNSISPLKKNFASNHIQLQKYARPSDAFAPKSWMEDSLNRADNIFPFPDRPRTFDMHSLESSLIDIMRAENDTIKARTYGRRRGQSSLFPMEDGFLDDGRGDQPLHSGLGSPHCFSHQNGE'\n",
    "cpeb4_12D = 'MGDYGFGVLVQSNTGNKDAFPVRFHPHLQPPHHHQNADPDPAAFINNNTAANGSSAGSAWLFPAPATHNIQDEILGSEKAKSQQQEQQDPLEKQQLDPSPGQEAGILPETEKAKSEENQGDNSSENGNGKEKIRIESPVLTGFDYQEATGLGTSTQPLTSSASSLTGFSNWSAAIAPSSSTIINEDASFFHQGGVPAASANNGALLFQNFPHHVSPGFGGSFSPQIGPLSQHHPHHPHFQHHHSQHQQQRRDPADPHPPPFTHRNAAFNQLPHLANNLNKPPSPWSSYQSPSPTPSSSWSPGGGGYGGWGGSQGRDHRRGLNGGIDPLNDIDPLKKNFASNHIQLQKYARPSDAFAPKDWMEDDLNRADNIFPFPDRPRTFDMHSLESSLIDIMRAENDTIKARTYGRRRGQSSLFPMEDGFLDDGRGDQPLHSGLGSPHCFSHQNGE'\n",
    "cpeb4_d4  = 'MGDYGFGVLVQSNTGNKSAFPVRFHPHLQPPHHHQNATPSPAAFINNNTAANGSSAGSAWLFPAPATHNIQDEILGSEKAKSQQQEQQDPLEKQQLSPSPGQEAGILPETEKAKSEENQGDNSSENGNGKEKIRIESPVLTGFDYQEATGLGTSTQPLTSSASSLTGFSNWSAAIAPSSSTIINEDASFFHQGGVPAASANNGALLFQNFPHHVSPGFGGSFSPQIGPLSQHHPHHPHFQHHHSQHQQQRRSPASPHPPPFTHRNAAFNQLPHLANNLNKPPSPWSSYQSPSPTPSSSWSPGGGGYGGWGGSQGRDHRRGLNGGITPLNSISPLKKNFASNHIQLQKYARPSSAFAPKSWMEDSLNRADNIFPFPDRPRTFDMHSLESSLIDIMRAENDTIKGQSSLFPMEDGFLDDGRGDQPLHSGLGSPHCFSHQNGE'\n",
    "scr2 = 'MGDYGFGVLVQSNTGNESAFPVHFKPDLQPPREEQNATPSPAAFINNNTAANGSSAGSAWLFPAPATENIQEKILGSEDAKSQQQEQQDPLKEQQLSPSPGQRAGILPRTHKAHSKRNQGHNSSKNGNGHHKIRIHSPVLTGFHYQHATGLGTSTQPLTSSASSLTGFSNWSAAIAPSSSTIINEDASFFHQGGVPAASANNGALLFQNFPRHVSPGFGGSFSPQIGPLSQHHPDRPHFQHKKSQRQQQHRSPASPEPPPFTEENAAFNQLPDLANNLNDPPSPWSSYQSPSPTPSSSWSPGGGGYGGWGGSQGDKKHHGLNGGITPLNSISPLDENFASNDIQLQEYAKPSSAFAPRSWMRHSLNDAENIFPFPDEPKTFRMRSLDSSLIEIMHAHNRTIHARTYGHHRGQSSLFPMHHGFLDDGEGDQPLESGLGSPHCFSRQNGR'\n",
    "scr1 = 'MDRYHFGVLVQSNTGNKEAFPVNHGHERQPHHKGQNATPSPAKFINNNTAAHHSSAGSHDLFPAPDHENIQNSILHSPRDSSHQDHQQQPLGKEQLSESPKEGHGILPPTRGEDKAGKQGEKSSLNGNGQAQHDIQEPVLTGFSYQDATGLGTSTQPLTSSASSLDGFSNWSAAIAPSSSTIINNPKSFHHKGEVPAASANNGALLFQNFPARVSPGFGGSFSDQIGPLSHAHPHPHRDDQHWSQTQQQIQSPAKPPPPPFTFHNAAFNQLPNLANELNSRPSPHKSYRSPSETRSSSWSPGGEGYGGWGGSQGREDQHGLNGEITPLRSISPLERNFASNFIQEKDYALPRREFAPASHMAISLNSAFRIFPFPNDPSTFQMTSLNSSLIRIMPARNETKSAGTYGAAHGDDSLHPMSGGFLWWGGGQQPLFSGLRSPPCFSPQNGQ'\n",
    "\n",
    "# scr2 = 'MGDYGF'\n",
    "# scr1 = 'MDRYHF'\n",
    "# cpeb4     = 'MGDDGF'\n",
    "\n",
    "\n",
    "scramb = lmp.LMP(oliba_wd='.')\n",
    "print(scramb.pappu_delta(sequence=cpeb4))\n",
    "print(scramb.pappu_delta(sequence=scr1))\n",
    "print(scramb.pappu_delta(sequence=scr2))"
   ]
  },
  {
   "cell_type": "code",
   "execution_count": null,
   "metadata": {},
   "outputs": [],
   "source": []
  }
 ],
 "metadata": {
  "kernelspec": {
   "display_name": "Python 3",
   "language": "python",
   "name": "python3"
  },
  "language_info": {
   "codemirror_mode": {
    "name": "ipython",
    "version": 3
   },
   "file_extension": ".py",
   "mimetype": "text/x-python",
   "name": "python",
   "nbconvert_exporter": "python",
   "pygments_lexer": "ipython3",
   "version": "3.7.4"
  }
 },
 "nbformat": 4,
 "nbformat_minor": 2
}
