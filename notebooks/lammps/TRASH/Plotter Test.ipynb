{
 "cells": [
  {
   "cell_type": "code",
   "execution_count": 122,
   "metadata": {},
   "outputs": [],
   "source": [
    "import os\n",
    "import sys\n",
    "import importlib\n",
    "import matplotlib.pyplot as plt\n",
    "if '../utils' not in sys.path:\n",
    "    sys.path.insert(0,'../utils')\n",
    "import lmp\n",
    "import lmpsetup\n",
    "import analysis\n",
    "import plotter\n",
    "import numpy as np\n",
    "\n",
    "importlib.reload(lmp);\n",
    "importlib.reload(lmpsetup);\n",
    "importlib.reload(analysis);\n",
    "importlib.reload(plotter);"
   ]
  },
  {
   "cell_type": "code",
   "execution_count": 123,
   "metadata": {
    "scrolled": false
   },
   "outputs": [
    {
     "name": "stdout",
     "output_type": "stream",
     "text": [
      "==================== AVAILABLE DATA ====================\n",
      "      Protein    I  Eps  Scale              Name  \\\n",
      "0   12D_CPEB4   10   10   1.00     1.0ls-10I-10e   \n",
      "1   12D_CPEB4  400   10   1.00    1.0ls-400I-10e   \n",
      "2   12D_CPEB4   10   80   0.80     0.8ls-10I-80e   \n",
      "3   12D_CPEB4  400   80   0.80    0.8ls-400I-80e   \n",
      "4   12D_CPEB4   10   80   1.00     1.0ls-10I-80e   \n",
      "5   12D_CPEB4  400   80   1.00    1.0ls-400I-80e   \n",
      "6    7D_CPEB4   10   10   1.00     1.0ls-10I-10e   \n",
      "7    7D_CPEB4  400   10   1.00    1.0ls-400I-10e   \n",
      "8    7D_CPEB4   10   80   0.80     0.8ls-10I-80e   \n",
      "9    7D_CPEB4  400   80   0.80    0.8ls-400I-80e   \n",
      "10   7D_CPEB4   10   80   1.00     1.0ls-10I-80e   \n",
      "11   7D_CPEB4  400   80   1.00    1.0ls-400I-80e   \n",
      "12      CPEB4  100   10   0.55  0.55l-100I-CPEB4   \n",
      "13      CPEB4   10   10   0.55   0.55l-10I-CPEB4   \n",
      "14      CPEB4  100   10   0.70   0.7l-100I-CPEB4   \n",
      "15      CPEB4   10   10   0.70    0.7l-10I-CPEB4   \n",
      "16      CPEB4  100   10   0.85  0.85l-100I-CPEB4   \n",
      "17      CPEB4   10   10   0.85   0.85l-10I-CPEB4   \n",
      "18      CPEB4  100   10   1.00   1.0l-100I-CPEB4   \n",
      "19      CPEB4   10   10   1.00    1.0l-10I-CPEB4   \n",
      "20      CPEB4   95   80   1.00               100   \n",
      "21      CPEB4   25   80   0.55       0.55l-CPEB4   \n",
      "22      CPEB4   25   80   0.70        0.7l-CPEB4   \n",
      "23      CPEB4   25   80   0.85       0.85l-CPEB4   \n",
      "24      CPEB4   25   80   1.00        1.0l-CPEB4   \n",
      "25      CPEB4  400   80   0.55       0.55l-CPEB4   \n",
      "26      CPEB4  400   80   0.70        0.7l-CPEB4   \n",
      "27      CPEB4  400   80   0.85       0.85l-CPEB4   \n",
      "28      CPEB4  400   80   1.00        1.0l-CPEB4   \n",
      "29      CPEB4   95   80   0.55     0.55-lS-cpeb4   \n",
      "30      CPEB4   95   80   0.70     0.70-lS-cpeb4   \n",
      "31      CPEB4   95   80   0.85     0.85-lS-cpeb4   \n",
      "32   CPEB4_D4   10   10   1.00     1.0ls-10I-10e   \n",
      "33   CPEB4_D4  400   10   1.00    1.0ls-400I-10e   \n",
      "34   CPEB4_D4   10   80   0.80     0.8ls-10I-80e   \n",
      "35   CPEB4_D4  400   80   0.80    0.8ls-400I-80e   \n",
      "36   CPEB4_D4   10   80   1.00     1.0ls-10I-80e   \n",
      "37   CPEB4_D4  400   80   1.00    1.0ls-400I-80e   \n",
      "\n",
      "                                             FullPath  \n",
      "0   /home/adria/data/prod/lammps/12D_CPEB4/EPS/10/...  \n",
      "1   /home/adria/data/prod/lammps/12D_CPEB4/EPS/10/...  \n",
      "2   /home/adria/data/prod/lammps/12D_CPEB4/EPS/80/...  \n",
      "3   /home/adria/data/prod/lammps/12D_CPEB4/EPS/80/...  \n",
      "4   /home/adria/data/prod/lammps/12D_CPEB4/EPS/80/...  \n",
      "5   /home/adria/data/prod/lammps/12D_CPEB4/EPS/80/...  \n",
      "6   /home/adria/data/prod/lammps/7D_CPEB4/EPS/10/1...  \n",
      "7   /home/adria/data/prod/lammps/7D_CPEB4/EPS/10/1...  \n",
      "8   /home/adria/data/prod/lammps/7D_CPEB4/EPS/80/0...  \n",
      "9   /home/adria/data/prod/lammps/7D_CPEB4/EPS/80/0...  \n",
      "10  /home/adria/data/prod/lammps/7D_CPEB4/EPS/80/1...  \n",
      "11  /home/adria/data/prod/lammps/7D_CPEB4/EPS/80/1...  \n",
      "12  /home/adria/data/prod/lammps/CPEB4/EPS/10/0.55...  \n",
      "13  /home/adria/data/prod/lammps/CPEB4/EPS/10/0.55...  \n",
      "14  /home/adria/data/prod/lammps/CPEB4/EPS/10/0.7l...  \n",
      "15  /home/adria/data/prod/lammps/CPEB4/EPS/10/0.7l...  \n",
      "16  /home/adria/data/prod/lammps/CPEB4/EPS/10/0.85...  \n",
      "17  /home/adria/data/prod/lammps/CPEB4/EPS/10/0.85...  \n",
      "18  /home/adria/data/prod/lammps/CPEB4/EPS/10/1.0l...  \n",
      "19  /home/adria/data/prod/lammps/CPEB4/EPS/10/1.0l...  \n",
      "20           /home/adria/data/prod/lammps/CPEB4/I/100  \n",
      "21  /home/adria/data/prod/lammps/CPEB4/I/25/0.55l-...  \n",
      "22  /home/adria/data/prod/lammps/CPEB4/I/25/0.7l-C...  \n",
      "23  /home/adria/data/prod/lammps/CPEB4/I/25/0.85l-...  \n",
      "24  /home/adria/data/prod/lammps/CPEB4/I/25/1.0l-C...  \n",
      "25  /home/adria/data/prod/lammps/CPEB4/I/400/0.55l...  \n",
      "26  /home/adria/data/prod/lammps/CPEB4/I/400/0.7l-...  \n",
      "27  /home/adria/data/prod/lammps/CPEB4/I/400/0.85l...  \n",
      "28  /home/adria/data/prod/lammps/CPEB4/I/400/1.0l-...  \n",
      "29  /home/adria/data/prod/lammps/CPEB4/LS/0.55-lS-...  \n",
      "30  /home/adria/data/prod/lammps/CPEB4/LS/0.70-lS-...  \n",
      "31  /home/adria/data/prod/lammps/CPEB4/LS/0.85-lS-...  \n",
      "32  /home/adria/data/prod/lammps/CPEB4_D4/EPS/10/1...  \n",
      "33  /home/adria/data/prod/lammps/CPEB4_D4/EPS/10/1...  \n",
      "34  /home/adria/data/prod/lammps/CPEB4_D4/EPS/80/0...  \n",
      "35  /home/adria/data/prod/lammps/CPEB4_D4/EPS/80/0...  \n",
      "36  /home/adria/data/prod/lammps/CPEB4_D4/EPS/80/1...  \n",
      "37  /home/adria/data/prod/lammps/CPEB4_D4/EPS/80/1...  \n",
      "PLOT1\n",
      "Omitting temper reordering (reorder files already present)\n",
      "PLOT1\n",
      "Omitting temper reordering (reorder files already present)\n"
     ]
    },
    {
     "data": {
      "image/png": "[encoded data removed]",
      "text/plain": [
       "<Figure size 576x432 with 1 Axes>"
      ]
     },
     "metadata": {
      "needs_background": "light"
     },
     "output_type": "display_data"
    }
   ],
   "source": [
    "cpeb4     = 'MGDYGFGVLVQSNTGNKSAFPVRFHPHLQPPHHHQNATPSPAAFINNNTAANGSSAGSAWLFPAPATHNIQDEILGSEKAKSQQQEQQDPLEKQQLSPSPGQEAGILPETEKAKSEENQGDNSSENGNGKEKIRIESPVLTGFDYQEATGLGTSTQPLTSSASSLTGFSNWSAAIAPSSSTIINEDASFFHQGGVPAASANNGALLFQNFPHHVSPGFGGSFSPQIGPLSQHHPHHPHFQHHHSQHQQQRRSPASPHPPPFTHRNAAFNQLPHLANNLNKPPSPWSSYQSPSPTPSSSWSPGGGGYGGWGGSQGRDHRRGLNGGITPLNSISPLKKNFASNHIQLQKYARPSSAFAPKSWMEDSLNRADNIFPFPDRPRTFDMHSLESSLIDIMRAENDTIKARTYGRRRGQSSLFPMEDGFLDDGRGDQPLHSGLGSPHCFSHQNGE'\n",
    "\n",
    "plotty = plotter.Plotter(oliba_wd='/home/adria/data/prod/lammps/CPEB4/LS/0.55-lS-cpeb4', temper=True)\n",
    "plotty.make_index()\n",
    "plotty.plot(observable='rg', protein='CPEB4', I=10, eps=10, ls=1.0)\n",
    "plotty.plot(observable='rg', protein='CPEB4', I=10, eps=10, ls=0.85)\n",
    "# plotty.plot_contacts(sequence=cpeb4, B='/home/adria/data/prod/lammps/CPEB4/LS/0.85-lS-cpeb4')\n",
    "# plotty.plot_dijs(plot_flory_fit=True)\n",
    "# plotty.plot_rg()"
   ]
  },
  {
   "cell_type": "code",
   "execution_count": null,
   "metadata": {},
   "outputs": [],
   "source": []
  },
  {
   "cell_type": "code",
   "execution_count": null,
   "metadata": {},
   "outputs": [],
   "source": [
    "78259000\n",
    "100000000"
   ]
  }
 ],
 "metadata": {
  "kernelspec": {
   "display_name": "Python 3",
   "language": "python",
   "name": "python3"
  },
  "language_info": {
   "codemirror_mode": {
    "name": "ipython",
    "version": 3
   },
   "file_extension": ".py",
   "mimetype": "text/x-python",
   "name": "python",
   "nbconvert_exporter": "python",
   "pygments_lexer": "ipython3",
   "version": "3.7.4"
  }
 },
 "nbformat": 4,
 "nbformat_minor": 2
}
