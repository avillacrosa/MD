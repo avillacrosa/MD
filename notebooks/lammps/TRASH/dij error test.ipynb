{
 "cells": [
  {
   "cell_type": "code",
   "execution_count": 1,
   "metadata": {},
   "outputs": [],
   "source": [
    "%load_ext autoreload\n",
    "%autoreload 2\n",
    "\n",
    "import lmp\n",
    "import plotter\n",
    "import analysis\n",
    "import matplotlib.pyplot as plt"
   ]
  },
  {
   "cell_type": "code",
   "execution_count": 2,
   "metadata": {},
   "outputs": [
    {
     "data": {
      "text/html": [
       "<div>\n",
       "<style scoped>\n",
       "    .dataframe tbody tr th:only-of-type {\n",
       "        vertical-align: middle;\n",
       "    }\n",
       "\n",
       "    .dataframe tbody tr th {\n",
       "        vertical-align: top;\n",
       "    }\n",
       "\n",
       "    .dataframe thead th {\n",
       "        text-align: right;\n",
       "    }\n",
       "</style>\n",
       "<table border=\"1\" class=\"dataframe\">\n",
       "  <thead>\n",
       "    <tr style=\"text-align: right;\">\n",
       "      <th></th>\n",
       "      <th>Protein</th>\n",
       "      <th>I</th>\n",
       "      <th>Eps</th>\n",
       "      <th>Scale</th>\n",
       "      <th>Name</th>\n",
       "      <th>FullPath</th>\n",
       "    </tr>\n",
       "  </thead>\n",
       "  <tbody>\n",
       "    <tr>\n",
       "      <td>0</td>\n",
       "      <td>12D_CPEB4_D4</td>\n",
       "      <td>100</td>\n",
       "      <td>80.0</td>\n",
       "      <td>1.0</td>\n",
       "      <td>1.0ls-100I-80e</td>\n",
       "      <td>/home/adria/data/prod/lammps/12D_CPEB4_D4/x1/1...</td>\n",
       "    </tr>\n",
       "    <tr>\n",
       "      <td>1</td>\n",
       "      <td>7D_CPEB4</td>\n",
       "      <td>100</td>\n",
       "      <td>80.0</td>\n",
       "      <td>1.0</td>\n",
       "      <td>1.0ls-100I-80e</td>\n",
       "      <td>/home/adria/data/prod/lammps/7D_CPEB4/x1/1.0ls...</td>\n",
       "    </tr>\n",
       "    <tr>\n",
       "      <td>2</td>\n",
       "      <td>CPEB4</td>\n",
       "      <td>100</td>\n",
       "      <td>80.0</td>\n",
       "      <td>1.0</td>\n",
       "      <td>1.0ls-100I-80e</td>\n",
       "      <td>/home/adria/data/prod/lammps/CPEB4/x1/1.0ls-10...</td>\n",
       "    </tr>\n",
       "    <tr>\n",
       "      <td>3</td>\n",
       "      <td>CPEB4_D4</td>\n",
       "      <td>100</td>\n",
       "      <td>80.0</td>\n",
       "      <td>1.0</td>\n",
       "      <td>1.0ls-100I-80e</td>\n",
       "      <td>/home/adria/data/prod/lammps/CPEB4_D4/x1/1.0ls...</td>\n",
       "    </tr>\n",
       "    <tr>\n",
       "      <td>4</td>\n",
       "      <td>CPEB4x50-24</td>\n",
       "      <td>100</td>\n",
       "      <td>80.0</td>\n",
       "      <td>1.0</td>\n",
       "      <td>CPEB4x50-24</td>\n",
       "      <td>/home/adria/data/prod/lammps/CPEB4x50-24</td>\n",
       "    </tr>\n",
       "    <tr>\n",
       "      <td>5</td>\n",
       "      <td>CPEBx50</td>\n",
       "      <td>100</td>\n",
       "      <td>10.0</td>\n",
       "      <td>1.0</td>\n",
       "      <td>1.0ls-100I-10e</td>\n",
       "      <td>/home/adria/data/prod/lammps/CPEBx50/1.0ls-100...</td>\n",
       "    </tr>\n",
       "    <tr>\n",
       "      <td>6</td>\n",
       "      <td>CPEBx50</td>\n",
       "      <td>100</td>\n",
       "      <td>80.0</td>\n",
       "      <td>1.0</td>\n",
       "      <td>1.0ls-100I-80e</td>\n",
       "      <td>/home/adria/data/prod/lammps/CPEBx50/1.0ls-100...</td>\n",
       "    </tr>\n",
       "    <tr>\n",
       "      <td>7</td>\n",
       "      <td>TEST</td>\n",
       "      <td>100</td>\n",
       "      <td>80.0</td>\n",
       "      <td>1.0</td>\n",
       "      <td>7D_CPEB4</td>\n",
       "      <td>/home/adria/data/prod/lammps/TEST/7D_CPEB4</td>\n",
       "    </tr>\n",
       "    <tr>\n",
       "      <td>8</td>\n",
       "      <td>TEST</td>\n",
       "      <td>100</td>\n",
       "      <td>80.0</td>\n",
       "      <td>1.0</td>\n",
       "      <td>CPEB4</td>\n",
       "      <td>/home/adria/data/prod/lammps/TEST/CPEB4</td>\n",
       "    </tr>\n",
       "  </tbody>\n",
       "</table>\n",
       "</div>"
      ],
      "text/plain": [
       "        Protein    I   Eps  Scale            Name  \\\n",
       "0  12D_CPEB4_D4  100  80.0    1.0  1.0ls-100I-80e   \n",
       "1      7D_CPEB4  100  80.0    1.0  1.0ls-100I-80e   \n",
       "2         CPEB4  100  80.0    1.0  1.0ls-100I-80e   \n",
       "3      CPEB4_D4  100  80.0    1.0  1.0ls-100I-80e   \n",
       "4   CPEB4x50-24  100  80.0    1.0     CPEB4x50-24   \n",
       "5       CPEBx50  100  10.0    1.0  1.0ls-100I-10e   \n",
       "6       CPEBx50  100  80.0    1.0  1.0ls-100I-80e   \n",
       "7          TEST  100  80.0    1.0        7D_CPEB4   \n",
       "8          TEST  100  80.0    1.0           CPEB4   \n",
       "\n",
       "                                            FullPath  \n",
       "0  /home/adria/data/prod/lammps/12D_CPEB4_D4/x1/1...  \n",
       "1  /home/adria/data/prod/lammps/7D_CPEB4/x1/1.0ls...  \n",
       "2  /home/adria/data/prod/lammps/CPEB4/x1/1.0ls-10...  \n",
       "3  /home/adria/data/prod/lammps/CPEB4_D4/x1/1.0ls...  \n",
       "4           /home/adria/data/prod/lammps/CPEB4x50-24  \n",
       "5  /home/adria/data/prod/lammps/CPEBx50/1.0ls-100...  \n",
       "6  /home/adria/data/prod/lammps/CPEBx50/1.0ls-100...  \n",
       "7         /home/adria/data/prod/lammps/TEST/7D_CPEB4  \n",
       "8            /home/adria/data/prod/lammps/TEST/CPEB4  "
      ]
     },
     "execution_count": 2,
     "metadata": {},
     "output_type": "execute_result"
    }
   ],
   "source": [
    "plotty = plotter.Plotter()\n",
    "plotty.index"
   ]
  },
  {
   "cell_type": "code",
   "execution_count": 3,
   "metadata": {
    "scrolled": false
   },
   "outputs": [
    {
     "name": "stdout",
     "output_type": "stream",
     "text": [
      "50\n"
     ]
    }
   ],
   "source": [
    "# plotty.plot('flory', 2, plot_id=0, label='CPEB4')\n",
    "rg_multi = analysis.Analysis(oliba_wd = '/home/adria/data/prod/lammps/CPEBx50/1.0ls-100I-80e')\n",
    "rg_multi = rg_multi.rg()"
   ]
  },
  {
   "cell_type": "code",
   "execution_count": null,
   "metadata": {},
   "outputs": [],
   "source": []
  }
 ],
 "metadata": {
  "kernelspec": {
   "display_name": "Python 3",
   "language": "python",
   "name": "python3"
  },
  "language_info": {
   "codemirror_mode": {
    "name": "ipython",
    "version": 3
   },
   "file_extension": ".py",
   "mimetype": "text/x-python",
   "name": "python",
   "nbconvert_exporter": "python",
   "pygments_lexer": "ipython3",
   "version": "3.7.4"
  }
 },
 "nbformat": 4,
 "nbformat_minor": 2
}
