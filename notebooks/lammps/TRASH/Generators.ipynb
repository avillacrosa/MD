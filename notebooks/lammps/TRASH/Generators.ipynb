{
 "cells": [
  {
   "cell_type": "code",
   "execution_count": 191,
   "metadata": {},
   "outputs": [],
   "source": [
    "import os\n",
    "import sys\n",
    "import importlib\n",
    "import matplotlib.pyplot as plt\n",
    "if '../utils' not in sys.path:\n",
    "    sys.path.insert(0,'../utils')\n",
    "import lmp\n",
    "import lmpsetup\n",
    "import analysis\n",
    "import numpy as np\n",
    "\n",
    "importlib.reload(lmp);\n",
    "importlib.reload(lmpsetup);\n",
    "importlib.reload(analysis);"
   ]
  },
  {
   "cell_type": "markdown",
   "metadata": {},
   "source": [
    "## Here should go all the procedures that generated every lammps run made..."
   ]
  },
  {
   "cell_type": "markdown",
   "metadata": {},
   "source": [
    "### CPEB4"
   ]
  },
  {
   "cell_type": "markdown",
   "metadata": {},
   "source": [
    "**$\\epsilon_r$ = 10**"
   ]
  },
  {
   "cell_type": "code",
   "execution_count": 192,
   "metadata": {},
   "outputs": [],
   "source": [
    "eps = 10\n",
    "seq     = 'MGDYGFGVLVQSNTGNKSAFPVRFHPHLQPPHHHQNATPSPAAFINNNTAANGSSAGSAWLFPAPATHNIQDEILGSEKAKSQQQEQQDPLEKQQLSPSPGQEAGILPETEKAKSEENQGDNSSENGNGKEKIRIESPVLTGFDYQEATGLGTSTQPLTSSASSLTGFSNWSAAIAPSSSTIINEDASFFHQGGVPAASANNGALLFQNFPHHVSPGFGGSFSPQIGPLSQHHPHHPHFQHHHSQHQQQRRSPASPHPPPFTHRNAAFNQLPHLANNLNKPPSPWSSYQSPSPTPSSSWSPGGGGYGGWGGSQGRDHRRGLNGGITPLNSISPLKKNFASNHIQLQKYARPSSAFAPKSWMEDSLNRADNIFPFPDRPRTFDMHSLESSLIDIMRAENDTIKARTYGRRRGQSSLFPMEDGFLDDGRGDQPLHSGLGSPHCFSHQNGE'\n",
    "oliba_dir = '/home/adria/perdiux/prod/lammps/dignon/WT_CPEB4'\n",
    "Is = np.array([10, 400])*10**(-3)\n",
    "for I in Is:\n",
    "    ls = 1.\n",
    "    oliba_wd = os.path.join(oliba_dir,f'{ls:.1f}ls-{I*1e3:.0f}I-{eps:.0f}e')\n",
    "    setter = lmpsetup.LMPSetup(oliba_wd=oliba_wd, seq=seq, temper=True)\n",
    "    setter.ionic_strength = I\n",
    "    setter.water_perm = eps\n",
    "    setter.hps_scale = ls\n",
    "    setter.get_pdb_xyz(pdb='../data/equil/cpeb4.pdb')\n",
    "    setter.get_hps_params()\n",
    "    setter.get_hps_pairs()\n",
    "    setter.write_hps_files()"
   ]
  },
  {
   "cell_type": "markdown",
   "metadata": {},
   "source": [
    "**I as $\\epsilon_r$**"
   ]
  },
  {
   "cell_type": "code",
   "execution_count": 203,
   "metadata": {},
   "outputs": [
    {
     "name": "stdout",
     "output_type": "stream",
     "text": [
      "Directory does not exist. Creating dir : /home/adria/perdiux/prod/lammps/dignon/CPEB4/IasEps/1.0ls-10I-10e\n",
      "Directory does not exist. Creating dir : /home/adria/perdiux/prod/lammps/dignon/CPEB4/IasEps/1.0ls-80I-80e\n"
     ]
    }
   ],
   "source": [
    "epss = [10,80]\n",
    "Is = [10e-3, 80e-3]\n",
    "seq     = 'MGDYGFGVLVQSNTGNKSAFPVRFHPHLQPPHHHQNATPSPAAFINNNTAANGSSAGSAWLFPAPATHNIQDEILGSEKAKSQQQEQQDPLEKQQLSPSPGQEAGILPETEKAKSEENQGDNSSENGNGKEKIRIESPVLTGFDYQEATGLGTSTQPLTSSASSLTGFSNWSAAIAPSSSTIINEDASFFHQGGVPAASANNGALLFQNFPHHVSPGFGGSFSPQIGPLSQHHPHHPHFQHHHSQHQQQRRSPASPHPPPFTHRNAAFNQLPHLANNLNKPPSPWSSYQSPSPTPSSSWSPGGGGYGGWGGSQGRDHRRGLNGGITPLNSISPLKKNFASNHIQLQKYARPSSAFAPKSWMEDSLNRADNIFPFPDRPRTFDMHSLESSLIDIMRAENDTIKARTYGRRRGQSSLFPMEDGFLDDGRGDQPLHSGLGSPHCFSHQNGE'\n",
    "oliba_dir = '/home/adria/perdiux/prod/lammps/dignon/CPEB4/IasEps'\n",
    "for i in range(len(eps)):\n",
    "    eps = epss[i]\n",
    "    I = Is[i]\n",
    "    ls = 1.\n",
    "    oliba_wd = os.path.join(oliba_dir,f'{ls:.1f}ls-{I*1e3:.0f}I-{eps:.0f}e')\n",
    "    setter = lmpsetup.LMPSetup(oliba_wd=oliba_wd, seq=seq, temper=True)\n",
    "    setter.ionic_strength = I\n",
    "    setter.water_perm = eps\n",
    "    setter.hps_scale = ls\n",
    "    setter.get_pdb_xyz(pdb='../data/equil/cpeb4.pdb')\n",
    "    setter.get_hps_params()\n",
    "    setter.get_hps_pairs()\n",
    "    setter.write_hps_files()"
   ]
  },
  {
   "cell_type": "markdown",
   "metadata": {},
   "source": [
    "### CPEB4 SCRAMBLES"
   ]
  },
  {
   "cell_type": "code",
   "execution_count": null,
   "metadata": {},
   "outputs": [],
   "source": [
    "# Movable positions, so close to a \"random\" protein\n",
    "scramble1 = 'MDRYHFGVLVQSNTGNKEAFPVNHGHERQPHHKGQNATPSPAKFINNNTAAHHSSAGSHDLFPAPDHENIQNSILHSPRDSSHQDHQQQPLGKEQLSESPKEGHGILPPTRGEDKAGKQGEKSSLNGNGQAQHDIQEPVLTGFSYQDATGLGTSTQPLTSSASSLDGFSNWSAAIAPSSSTIINNPKSFHHKGEVPAASANNGALLFQNFPARVSPGFGGSFSDQIGPLSHAHPHPHRDDQHWSQTQQQIQSPAKPPPPPFTFHNAAFNQLPNLANELNSRPSPHKSYRSPSETRSSSWSPGGEGYGGWGGSQGREDQHGLNGEITPLRSISPLERNFASNFIQEKDYALPRREFAPASHMAISLNSAFRIFPFPNDPSTFQMTSLNSSLIRIMPARNETKSAGTYGAAHGDDSLHPMSGGFLWWGGGQQPLFSGLRSPPCFSPQNGQ'\n",
    "# Fixed positions, kappa = 1\n",
    "scramble2 = 'MGDYGFGVLVQSNTGNESAFPVHFKPDLQPPREEQNATPSPAAFINNNTAANGSSAGSAWLFPAPATENIQEKILGSEDAKSQQQEQQDPLKEQQLSPSPGQRAGILPRTHKAHSKRNQGHNSSKNGNGHHKIRIHSPVLTGFHYQHATGLGTSTQPLTSSASSLTGFSNWSAAIAPSSSTIINEDASFFHQGGVPAASANNGALLFQNFPRHVSPGFGGSFSPQIGPLSQHHPDRPHFQHKKSQRQQQHRSPASPEPPPFTEENAAFNQLPDLANNLNDPPSPWSSYQSPSPTPSSSWSPGGGGYGGWGGSQGDKKHHGLNGGITPLNSISPLDENFASNDIQLQEYAKPSSAFAPRSWMRHSLNDAENIFPFPDEPKTFRMRSLDSSLIEIMHAHNRTIHARTYGHHRGQSSLFPMHHGFLDDGEGDQPLESGLGSPHCFSRQNGR'\n",
    "#Fixed positions, kappa = minimum\n",
    "scramble3 = 'MGKYGFGVLVQSNTGNHSAFPVHFEPHLQPPREKQNATPSPAAFINNNTAANGSSAGSAWLFPAPATDNIQDHILGSHRAESQQQDQQEPLREQQLSPSPGQKAGILPHTRDAHSDHNQGENSSHNGNGHKKIEIKSPVLTGFDYQHATGLGTSTQPLTSSASSLTGFSNWSAAIAPSSSTIINKHASFFKQGGVPAASANNGALLFQNFPHEVSPGFGGSFSPQIGPLSQHEPKRPRFQDRKSQEQQQHHSPASPKPPPFTRENAAFNQLPELANNLNEPPSPWSSYQSPSPTPSSSWSPGGGGYGGWGGSQGDHKDHGLNGGITPLNSISPLDHNFASNDIQLQEYARPSSAFAPHSWMDHSLNEAHNIFPFPKRPDTFHMRSLRSSLIHIMHADNRTIEAETYGKEHGQSSLFPMRDGFLDRGRGEQPLRSGLGSPRCFSDQNGH'\n",
    "\n",
    "scrambles = [scramble1, scramble2, scramble3]\n",
    "dirs = ['/home/adria/perdiux/prod/lammps/dignon/SCRAMBLES/1', '/home/adria/perdiux/prod/lammps/dignon/SCRAMBLES/2', '/home/adria/perdiux/prod/lammps/dignon/SCRAMBLES/3']\n",
    "\n",
    "for i, scr in enumerate(scrambles):\n",
    "    for I in Is:\n",
    "        for eps in eps_r:\n",
    "            ls = 1.\n",
    "            o_wd = os.path.join(dirs[i],f'{ls:.1f}ls-{I*1e3:.0f}I-{eps:.0f}e')\n",
    "            setter = lmpsetup.LMPSetup(oliba_wd=o_wd, seq=scr, temper=True)\n",
    "            setter.ionic_strength = I\n",
    "            setter.water_perm = eps\n",
    "            setter.hps_scale = ls\n",
    "            setter.get_hps_params()\n",
    "            setter.get_hps_pairs()\n",
    "            setter.write_hps_files()"
   ]
  },
  {
   "cell_type": "markdown",
   "metadata": {},
   "source": [
    "### CPEB4 x 2"
   ]
  },
  {
   "cell_type": "code",
   "execution_count": 95,
   "metadata": {},
   "outputs": [],
   "source": [
    "importlib.reload(lmp);\n",
    "importlib.reload(lmpsetup);\n",
    "importlib.reload(analysis);\n",
    "\n",
    "cpeb4_eq_pdb = '/home/adria/scripts/lammps/data/equil/cpeb4.pdb'\n",
    "cpeb4 = 'MGDYGFGVLVQSNTGNKSAFPVRFHPHLQPPHHHQNATPSPAAFINNNTAANGSSAGSAWLFPAPATHNIQDEILGSEKAKSQQQEQQDPLEKQQLSPSPGQEAGILPETEKAKSEENQGDNSSENGNGKEKIRIESPVLTGFDYQEATGLGTSTQPLTSSASSLTGFSNWSAAIAPSSSTIINEDASFFHQGGVPAASANNGALLFQNFPHHVSPGFGGSFSPQIGPLSQHHPHHPHFQHHHSQHQQQRRSPASPHPPPFTHRNAAFNQLPHLANNLNKPPSPWSSYQSPSPTPSSSWSPGGGGYGGWGGSQGRDHRRGLNGGITPLNSISPLKKNFASNHIQLQKYARPSSAFAPKSWMEDSLNRADNIFPFPDRPRTFDMHSLESSLIDIMRAENDTIKARTYGRRRGQSSLFPMEDGFLDDGRGDQPLHSGLGSPHCFSHQNGE'\n",
    "\n",
    "DIR_CPEB4x2 = '/home/adria/perdiux/test/lammps/x2'\n",
    "\n",
    "tester = lmpsetup.LMPSetup(oliba_wd=DIR_CPEB4x2, seq=cpeb4, chains=2, temper=True)\n",
    "tester.get_pdb_xyz(pdb=cpeb4_eq_pdb, padding=18)\n",
    "tester._generate_pdb()\n",
    "tester.get_hps_params()\n",
    "tester.get_hps_pairs()\n",
    "tester.write_hps_files()"
   ]
  },
  {
   "cell_type": "markdown",
   "metadata": {},
   "source": [
    "### CPEB4 x 50"
   ]
  },
  {
   "cell_type": "code",
   "execution_count": 176,
   "metadata": {},
   "outputs": [],
   "source": [
    "importlib.reload(lmp);\n",
    "importlib.reload(lmpsetup);\n",
    "importlib.reload(analysis);\n",
    "\n",
    "cpeb4_eq_pdb = '/home/adria/scripts/lammps/data/equil/cpeb4.pdb'\n",
    "cpeb4 = 'MGDYGFGVLVQSNTGNKSAFPVRFHPHLQPPHHHQNATPSPAAFINNNTAANGSSAGSAWLFPAPATHNIQDEILGSEKAKSQQQEQQDPLEKQQLSPSPGQEAGILPETEKAKSEENQGDNSSENGNGKEKIRIESPVLTGFDYQEATGLGTSTQPLTSSASSLTGFSNWSAAIAPSSSTIINEDASFFHQGGVPAASANNGALLFQNFPHHVSPGFGGSFSPQIGPLSQHHPHHPHFQHHHSQHQQQRRSPASPHPPPFTHRNAAFNQLPHLANNLNKPPSPWSSYQSPSPTPSSSWSPGGGGYGGWGGSQGRDHRRGLNGGITPLNSISPLKKNFASNHIQLQKYARPSSAFAPKSWMEDSLNRADNIFPFPDRPRTFDMHSLESSLIDIMRAENDTIKARTYGRRRGQSSLFPMEDGFLDDGRGDQPLHSGLGSPHCFSHQNGE'\n",
    "\n",
    "DIR_CPEB4x50 = '/home/adria/perdiux/test/lammps/x50'\n",
    "\n",
    "tester = lmpsetup.LMPSetup(oliba_wd=DIR_CPEB4x50, seq=cpeb4, chains=50, temper=True)\n",
    "tester.get_pdb_xyz(pdb=cpeb4_eq_pdb, padding=15)\n",
    "tester._generate_pdb()\n",
    "tester.get_hps_params()\n",
    "tester.get_hps_pairs()\n",
    "tester.write_hps_files()"
   ]
  },
  {
   "cell_type": "markdown",
   "metadata": {},
   "source": [
    "### 7D CPEB4"
   ]
  },
  {
   "cell_type": "markdown",
   "metadata": {},
   "source": [
    "**$\\epsilon_r$ = 10**"
   ]
  },
  {
   "cell_type": "code",
   "execution_count": 195,
   "metadata": {},
   "outputs": [],
   "source": [
    "eps = 10\n",
    "seq     = 'MGDYGFGVLVQSNTGNKDAFPVRFHPHLQPPHHHQNADPDPAAFINNNTAANGSSAGSAWLFPAPATHNIQDEILGSEKAKSQQQEQQDPLEKQQLDPSPGQEAGILPETEKAKSEENQGDNSSENGNGKEKIRIESPVLTGFDYQEATGLGTSTQPLTSSASSLTGFSNWSAAIAPSSSTIINEDASFFHQGGVPAASANNGALLFQNFPHHVSPGFGGSFSPQIGPLSQHHPHHPHFQHHHSQHQQQRRDPADPHPPPFTHRNAAFNQLPHLANNLNKPPSPWSSYQSPSPTPSSSWSPGGGGYGGWGGSQGRDHRRGLNGGITPLNSISPLKKNFASNHIQLQKYARPSDAFAPKSWMEDSLNRADNIFPFPDRPRTFDMHSLESSLIDIMRAENDTIKARTYGRRRGQSSLFPMEDGFLDDGRGDQPLHSGLGSPHCFSHQNGE'\n",
    "oliba_dir = '/home/adria/perdiux/prod/lammps/dignon/7D_CPEB4'\n",
    "Is = np.array([10, 400])*10**(-3)\n",
    "for I in Is:\n",
    "    ls = 1.\n",
    "    oliba_wd = os.path.join(oliba_dir,f'{ls:.1f}ls-{I*1e3:.0f}I-{eps:.0f}e')\n",
    "    setter = lmpsetup.LMPSetup(oliba_wd=oliba_wd, seq=seq, temper=True)\n",
    "    setter.ionic_strength = I\n",
    "    setter.water_perm = eps\n",
    "    setter.hps_scale = ls\n",
    "    setter.get_pdb_xyz(pdb='../data/equil/cpeb4.pdb')\n",
    "    setter.get_hps_params()\n",
    "    setter.get_hps_pairs()\n",
    "    setter.write_hps_files()"
   ]
  },
  {
   "cell_type": "markdown",
   "metadata": {},
   "source": [
    "### 12D CPEB4"
   ]
  },
  {
   "cell_type": "markdown",
   "metadata": {},
   "source": [
    "**$\\epsilon_r$ = 10**"
   ]
  },
  {
   "cell_type": "code",
   "execution_count": 196,
   "metadata": {},
   "outputs": [],
   "source": [
    "eps = 10\n",
    "seq     = 'MGDYGFGVLVQSNTGNKDAFPVRFHPHLQPPHHHQNADPDPAAFINNNTAANGSSAGSAWLFPAPATHNIQDEILGSEKAKSQQQEQQDPLEKQQLDPSPGQEAGILPETEKAKSEENQGDNSSENGNGKEKIRIESPVLTGFDYQEATGLGTSTQPLTSSASSLTGFSNWSAAIAPSSSTIINEDASFFHQGGVPAASANNGALLFQNFPHHVSPGFGGSFSPQIGPLSQHHPHHPHFQHHHSQHQQQRRDPADPHPPPFTHRNAAFNQLPHLANNLNKPPSPWSSYQSPSPTPSSSWSPGGGGYGGWGGSQGRDHRRGLNGGIDPLNDIDPLKKNFASNHIQLQKYARPSDAFAPKDWMEDDLNRADNIFPFPDRPRTFDMHSLESSLIDIMRAENDTIKARTYGRRRGQSSLFPMEDGFLDDGRGDQPLHSGLGSPHCFSHQNGE'\n",
    "oliba_dir = '/home/adria/perdiux/prod/lammps/dignon/12D_CPEB4'\n",
    "Is = np.array([10, 400])*10**(-3)\n",
    "for I in Is:\n",
    "    ls = 1.\n",
    "    oliba_wd = os.path.join(oliba_dir,f'{ls:.1f}ls-{I*1e3:.0f}I-{eps:.0f}e')\n",
    "    setter = lmpsetup.LMPSetup(oliba_wd=oliba_wd, seq=seq, temper=True)\n",
    "    setter.ionic_strength = I\n",
    "    setter.water_perm = eps\n",
    "    setter.hps_scale = ls\n",
    "    setter.get_pdb_xyz(pdb='../data/equil/cpeb4.pdb')\n",
    "    setter.get_hps_params()\n",
    "    setter.get_hps_pairs()\n",
    "    setter.write_hps_files()"
   ]
  },
  {
   "cell_type": "markdown",
   "metadata": {},
   "source": [
    "### CPEB4 $\\Delta$4"
   ]
  },
  {
   "cell_type": "markdown",
   "metadata": {},
   "source": [
    "**$\\epsilon_r$ = 10**"
   ]
  },
  {
   "cell_type": "code",
   "execution_count": 200,
   "metadata": {},
   "outputs": [],
   "source": [
    "eps = 10\n",
    "seq     = 'MGDYGFGVLVQSNTGNKSAFPVRFHPHLQPPHHHQNATPSPAAFINNNTAANGSSAGSAWLFPAPATHNIQDEILGSEKAKSQQQEQQDPLEKQQLSPSPGQEAGILPETEKAKSEENQGDNSSENGNGKEKIRIESPVLTGFDYQEATGLGTSTQPLTSSASSLTGFSNWSAAIAPSSSTIINEDASFFHQGGVPAASANNGALLFQNFPHHVSPGFGGSFSPQIGPLSQHHPHHPHFQHHHSQHQQQRRSPASPHPPPFTHRNAAFNQLPHLANNLNKPPSPWSSYQSPSPTPSSSWSPGGGGYGGWGGSQGRDHRRGLNGGITPLNSISPLKKNFASNHIQLQKYARPSSAFAPKSWMEDSLNRADNIFPFPDRPRTFDMHSLESSLIDIMRAENDTIKGQSSLFPMEDGFLDDGRGDQPLHSGLGSPHCFSHQNGE'\n",
    "oliba_dir = '/home/adria/perdiux/prod/lammps/dignon/CPEB4_D4'\n",
    "Is = np.array([10, 400])*10**(-3)\n",
    "for I in Is:\n",
    "    ls = 1.\n",
    "    oliba_wd = os.path.join(oliba_dir,f'{ls:.1f}ls-{I*1e3:.0f}I-{eps:.0f}e')\n",
    "    setter = lmpsetup.LMPSetup(oliba_wd=oliba_wd, seq=seq, temper=True)\n",
    "    setter.ionic_strength = I\n",
    "    setter.water_perm = eps\n",
    "    setter.hps_scale = ls\n",
    "    setter.get_pdb_xyz(pdb='../data/equil/cpeb4.pdb')\n",
    "    setter.get_hps_params()\n",
    "    setter.get_hps_pairs()\n",
    "    setter.write_hps_files()"
   ]
  },
  {
   "cell_type": "code",
   "execution_count": null,
   "metadata": {},
   "outputs": [],
   "source": []
  },
  {
   "cell_type": "code",
   "execution_count": null,
   "metadata": {},
   "outputs": [],
   "source": []
  },
  {
   "cell_type": "code",
   "execution_count": 201,
   "metadata": {},
   "outputs": [
    {
     "name": "stdout",
     "output_type": "stream",
     "text": [
      "{'A': {'id': 1, 'name': 'ALA', 'mass': 71.0800018, 'q': 0.0, 'lambda': 0.72973, 'sigma': 5.04}, 'R': {'id': 2, 'name': 'ARG', 'mass': 156.10111, 'q': 1.0, 'lambda': 0.0, 'sigma': 6.56}, 'N': {'id': 3, 'name': 'ASN', 'mass': 114.099998, 'q': 0.0, 'lambda': 0.432432, 'sigma': 5.68}, 'D': {'id': 4, 'name': 'ASP', 'mass': 115.099998, 'q': -1.0, 'lambda': 0.378378, 'sigma': 5.58}, 'C': {'id': 5, 'name': 'CYS', 'mass': 103.00919, 'q': 0.0, 'lambda': 0.594595, 'sigma': 5.48}, 'E': {'id': 6, 'name': 'GLU', 'mass': 129.100006, 'q': -1.0, 'lambda': 0.459459, 'sigma': 5.92}, 'Q': {'id': 7, 'name': 'GLN', 'mass': 128.100006, 'q': 0.0, 'lambda': 0.513514, 'sigma': 6.02}, 'G': {'id': 8, 'name': 'GLY', 'mass': 57.0499992, 'q': 0.0, 'lambda': 0.648649, 'sigma': 4.5}, 'H': {'id': 9, 'name': 'HIS', 'mass': 137.100006, 'q': 0.5, 'lambda': 0.513514, 'sigma': 6.08}, 'I': {'id': 10, 'name': 'ILE', 'mass': 113.199997, 'q': 0.0, 'lambda': 0.972973, 'sigma': 6.18}, 'L': {'id': 11, 'name': 'LEU', 'mass': 113.199997, 'q': 0.0, 'lambda': 0.972973, 'sigma': 6.18}, 'K': {'id': 12, 'name': 'LYS', 'mass': 128.199997, 'q': 1.0, 'lambda': 0.513514, 'sigma': 6.36}, 'M': {'id': 13, 'name': 'MET', 'mass': 131.199997, 'q': 0.0, 'lambda': 0.837838, 'sigma': 6.18}, 'F': {'id': 14, 'name': 'PHE', 'mass': 147.199997, 'q': 0.0, 'lambda': 1.0, 'sigma': 6.36}, 'P': {'id': 15, 'name': 'PRO', 'mass': 97.1200027, 'q': 0.0, 'lambda': 1.0, 'sigma': 5.56}, 'S': {'id': 16, 'name': 'SER', 'mass': 87.0800018, 'q': 0.0, 'lambda': 0.594595, 'sigma': 5.18}, 'T': {'id': 17, 'name': 'THR', 'mass': 101.099998, 'q': 0.0, 'lambda': 0.675676, 'sigma': 5.62}, 'W': {'id': 18, 'name': 'TRP', 'mass': 186.07931, 'q': 0.0, 'lambda': 0.945946, 'sigma': 6.78}, 'Y': {'id': 19, 'name': 'TYR', 'mass': 163.199997, 'q': 0.0, 'lambda': 0.864865, 'sigma': 6.46}, 'V': {'id': 20, 'name': 'VAL', 'mass': 99.0699997, 'q': 0.0, 'lambda': 0.891892, 'sigma': 5.86}}\n"
     ]
    }
   ],
   "source": [
    "eps = 10\n",
    "seq     = 'MGDYGFGVLVQSNTGNKSAFPVRFHPHLQPPHHHQNATPSPAAFINNNTAANGSSAGSAWLFPAPATHNIQDEILGSEKAKSQQQEQQDPLEKQQLSPSPGQEAGILPETEKAKSEENQGDNSSENGNGKEKIRIESPVLTGFDYQEATGLGTSTQPLTSSASSLTGFSNWSAAIAPSSSTIINEDASFFHQGGVPAASANNGALLFQNFPHHVSPGFGGSFSPQIGPLSQHHPHHPHFQHHHSQHQQQRRSPASPHPPPFTHRNAAFNQLPHLANNLNKPPSPWSSYQSPSPTPSSSWSPGGGGYGGWGGSQGRDHRRGLNGGITPLNSISPLKKNFASNHIQLQKYARPSSAFAPKSWMEDSLNRADNIFPFPDRPRTFDMHSLESSLIDIMRAENDTIKGQSSLFPMEDGFLDDGRGDQPLHSGLGSPHCFSHQNGE'\n",
    "oliba_dir = '/home/adria/perdiux/prod/lammps/dignon/CPEB4_D4'\n",
    "setter = lmpsetup.LMPSetup(oliba_wd='.', seq=seq, temper=True)\n",
    "setter.get_hps_params()\n",
    "setter.get_hps_pairs()\n",
    "print(setter.residue_dict)"
   ]
  },
  {
   "cell_type": "code",
   "execution_count": null,
   "metadata": {},
   "outputs": [],
   "source": []
  },
  {
   "cell_type": "code",
   "execution_count": 199,
   "metadata": {},
   "outputs": [],
   "source": [
    "# TEST\n",
    "eps = 10\n",
    "seq     = 'MGDYGFGVLVQSNTGNKDAFPVRFHPHLQPPHHHQNADPDPAAFINNNTAANGSSAGSAWLFPAPATHNIQDEILGSEKAKSQQQEQQDPLEKQQLDPSPGQEAGILPETEKAKSEENQGDNSSENGNGKEKIRIESPVLTGFDYQEATGLGTSTQPLTSSASSLTGFSNWSAAIAPSSSTIINEDASFFHQGGVPAASANNGALLFQNFPHHVSPGFGGSFSPQIGPLSQHHPHHPHFQHHHSQHQQQRRDPADPHPPPFTHRNAAFNQLPHLANNLNKPPSPWSSYQSPSPTPSSSWSPGGGGYGGWGGSQGRDHRRGLNGGIDPLNDIDPLKKNFASNHIQLQKYARPSDAFAPKDWMEDDLNRADNIFPFPDRPRTFDMHSLESSLIDIMRAENDTIKARTYGRRRGQSSLFPMEDGFLDDGRGDQPLHSGLGSPHCFSHQNGE'\n",
    "setter = lmpsetup.LMPSetup(oliba_wd='/home/adria/test/eps10/10', seq=seq, temper=True)\n",
    "setter.ionic_strength = 100e-3\n",
    "setter.water_perm = eps\n",
    "setter.get_pdb_xyz(pdb='../data/equil/cpeb4.pdb')\n",
    "setter.get_hps_params()\n",
    "setter.get_hps_pairs()\n",
    "setter.write_hps_files()\n",
    "    \n",
    "eps = 80\n",
    "seq     = 'MGDYGFGVLVQSNTGNKDAFPVRFHPHLQPPHHHQNADPDPAAFINNNTAANGSSAGSAWLFPAPATHNIQDEILGSEKAKSQQQEQQDPLEKQQLDPSPGQEAGILPETEKAKSEENQGDNSSENGNGKEKIRIESPVLTGFDYQEATGLGTSTQPLTSSASSLTGFSNWSAAIAPSSSTIINEDASFFHQGGVPAASANNGALLFQNFPHHVSPGFGGSFSPQIGPLSQHHPHHPHFQHHHSQHQQQRRDPADPHPPPFTHRNAAFNQLPHLANNLNKPPSPWSSYQSPSPTPSSSWSPGGGGYGGWGGSQGRDHRRGLNGGIDPLNDIDPLKKNFASNHIQLQKYARPSDAFAPKDWMEDDLNRADNIFPFPDRPRTFDMHSLESSLIDIMRAENDTIKARTYGRRRGQSSLFPMEDGFLDDGRGDQPLHSGLGSPHCFSHQNGE'\n",
    "ls = 1.\n",
    "setter = lmpsetup.LMPSetup(oliba_wd='/home/adria/test/eps10/80', seq=seq, temper=True)\n",
    "setter.ionic_strength = 100e-3\n",
    "setter.water_perm = eps\n",
    "setter.get_pdb_xyz(pdb='../data/equil/cpeb4.pdb')\n",
    "setter.get_hps_params()\n",
    "setter.get_hps_pairs()\n",
    "setter.write_hps_files()\n",
    "\n",
    "eps = 10\n",
    "seq     = 'MGDYGFGVLVQSNTGNKDAFPVRFHPHLQPPHHHQNADPDPAAFINNNTAANGSSAGSAWLFPAPATHNIQDEILGSEKAKSQQQEQQDPLEKQQLDPSPGQEAGILPETEKAKSEENQGDNSSENGNGKEKIRIESPVLTGFDYQEATGLGTSTQPLTSSASSLTGFSNWSAAIAPSSSTIINEDASFFHQGGVPAASANNGALLFQNFPHHVSPGFGGSFSPQIGPLSQHHPHHPHFQHHHSQHQQQRRDPADPHPPPFTHRNAAFNQLPHLANNLNKPPSPWSSYQSPSPTPSSSWSPGGGGYGGWGGSQGRDHRRGLNGGIDPLNDIDPLKKNFASNHIQLQKYARPSDAFAPKDWMEDDLNRADNIFPFPDRPRTFDMHSLESSLIDIMRAENDTIKARTYGRRRGQSSLFPMEDGFLDDGRGDQPLHSGLGSPHCFSHQNGE'\n",
    "ls = 1.\n",
    "setter = lmpsetup.LMPSetup(oliba_wd='/home/adria/test/eps10/I', seq=seq, temper=True)\n",
    "setter.ionic_strength = 12.5e-3\n",
    "setter.water_perm = eps\n",
    "setter.get_pdb_xyz(pdb='../data/equil/cpeb4.pdb')\n",
    "setter.get_hps_params()\n",
    "setter.get_hps_pairs()\n",
    "setter.write_hps_files()"
   ]
  }
 ],
 "metadata": {
  "kernelspec": {
   "display_name": "Python 3",
   "language": "python",
   "name": "python3"
  },
  "language_info": {
   "codemirror_mode": {
    "name": "ipython",
    "version": 3
   },
   "file_extension": ".py",
   "mimetype": "text/x-python",
   "name": "python",
   "nbconvert_exporter": "python",
   "pygments_lexer": "ipython3",
   "version": "3.7.4"
  }
 },
 "nbformat": 4,
 "nbformat_minor": 2
}
