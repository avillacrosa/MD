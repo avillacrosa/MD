{
 "cells": [
  {
   "cell_type": "code",
   "execution_count": 3,
   "metadata": {},
   "outputs": [],
   "source": [
    "import mdtraj as md"
   ]
  },
  {
   "cell_type": "code",
   "execution_count": 1,
   "metadata": {},
   "outputs": [],
   "source": [
    "dipole_dir = '/home/adria/xoriguer/adria/prod/dipole'\n",
    "pppm_dir = '/home/adria/xoriguer/adria/prod/pppm'\n",
    "normal_dir = '/home/adria/xoriguer/adria/prod/normal'"
   ]
  },
  {
   "cell_type": "code",
   "execution_count": 8,
   "metadata": {},
   "outputs": [
    {
     "data": {
      "text/plain": [
       "28.370477599956168"
      ]
     },
     "execution_count": 8,
     "metadata": {},
     "output_type": "execute_result"
    }
   ],
   "source": [
    "dipole = md.load('/home/adria/xoriguer/adria/prod/dipole/trajectory.dcd', top='/home/adria/xoriguer/adria/prod/topo.pdb')\n",
    "md.compute_rg(dipole).mean()*10"
   ]
  },
  {
   "cell_type": "code",
   "execution_count": 10,
   "metadata": {},
   "outputs": [
    {
     "data": {
      "text/plain": [
       "28.20855458644796"
      ]
     },
     "execution_count": 10,
     "metadata": {},
     "output_type": "execute_result"
    }
   ],
   "source": [
    "pppm = md.load('/home/adria/xoriguer/adria/prod/pppm/trajectory.dcd', top='/home/adria/xoriguer/adria/prod/topo.pdb')\n",
    "md.compute_rg(pppm).mean()*10"
   ]
  },
  {
   "cell_type": "code",
   "execution_count": 12,
   "metadata": {},
   "outputs": [
    {
     "data": {
      "text/plain": [
       "28.178398153603048"
      ]
     },
     "execution_count": 12,
     "metadata": {},
     "output_type": "execute_result"
    }
   ],
   "source": [
    "normal = md.load('/home/adria/xoriguer/adria/prod/normal/trajectory.dcd', top='/home/adria/xoriguer/adria/prod/topo.pdb')\n",
    "md.compute_rg(normal).mean()*10"
   ]
  },
  {
   "cell_type": "code",
   "execution_count": null,
   "metadata": {},
   "outputs": [],
   "source": []
  }
 ],
 "metadata": {
  "kernelspec": {
   "display_name": "Python 3",
   "language": "python",
   "name": "python3"
  },
  "language_info": {
   "codemirror_mode": {
    "name": "ipython",
    "version": 3
   },
   "file_extension": ".py",
   "mimetype": "text/x-python",
   "name": "python",
   "nbconvert_exporter": "python",
   "pygments_lexer": "ipython3",
   "version": "3.7.4"
  }
 },
 "nbformat": 4,
 "nbformat_minor": 2
}
