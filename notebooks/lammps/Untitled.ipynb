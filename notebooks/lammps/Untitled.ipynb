{
 "cells": [
  {
   "cell_type": "code",
   "execution_count": 1,
   "metadata": {},
   "outputs": [],
   "source": [
    "%load_ext autoreload\n",
    "%autoreload 2\n",
    "import analysis\n",
    "import matplotlib.pyplot as plt"
   ]
  },
  {
   "cell_type": "code",
   "execution_count": null,
   "metadata": {},
   "outputs": [],
   "source": [
    "a = analysis.Anal"
   ]
  },
  {
   "cell_type": "code",
   "execution_count": 5,
   "metadata": {},
   "outputs": [
    {
     "name": "stdout",
     "output_type": "stream",
     "text": [
      "> Run Completed at 100.00% for PR. Ran 10000 steps for a total of 2 frames \n",
      "> Taking frames every 1 for a total of 10000 to avoid strong correlations\n"
     ]
    }
   ],
   "source": [
    "a = analysis.Analysis(oliba_wd='/home/adria/puput/Desktop/MD/lammps/notebooks/Giulio/PR/a6_0.75/a12_0.2/D_HPS-T/1_lambda')"
   ]
  },
  {
   "cell_type": "code",
   "execution_count": 9,
   "metadata": {},
   "outputs": [
    {
     "data": {
      "text/plain": [
       "[<matplotlib.lines.Line2D at 0x7f3f9b90c290>]"
      ]
     },
     "execution_count": 9,
     "metadata": {},
     "output_type": "execute_result"
    },
    {
     "data": {
      "image/png": "[encoded data removed]",
      "text/plain": [
       "<Figure size 432x288 with 1 Axes>"
      ]
     },
     "metadata": {
      "needs_background": "light"
     },
     "output_type": "display_data"
    }
   ],
   "source": [
    "plt.plot(a.rg().mean(axis=1))"
   ]
  },
  {
   "cell_type": "code",
   "execution_count": null,
   "metadata": {},
   "outputs": [],
   "source": []
  },
  {
   "cell_type": "code",
   "execution_count": null,
   "metadata": {},
   "outputs": [],
   "source": []
  },
  {
   "cell_type": "code",
   "execution_count": null,
   "metadata": {},
   "outputs": [],
   "source": []
  },
  {
   "cell_type": "code",
   "execution_count": 2,
   "metadata": {},
   "outputs": [
    {
     "name": "stdout",
     "output_type": "stream",
     "text": [
      "> Run Completed at 16.55% for 12D_CPEB4_D4. Ran 16550000 steps for a total of 332 frames \n",
      "> Taking frames every 1 for a total of 1000 to avoid strong correlations\n"
     ]
    }
   ],
   "source": [
    "analysis.Analysis(oliba_wd='/home/adria/data/prod/lammps/HPS/EXPANDED-REX-CPEB4/12D', equil_frames=0).save_movies()"
   ]
  },
  {
   "cell_type": "code",
   "execution_count": 3,
   "metadata": {},
   "outputs": [
    {
     "name": "stdout",
     "output_type": "stream",
     "text": [
      "> Run Completed at 12.60% for 7D_CPEB4. Ran 12600000 steps for a total of 253 frames \n",
      "> Taking frames every 1 for a total of 1000 to avoid strong correlations\n"
     ]
    }
   ],
   "source": [
    "analysis.Analysis(oliba_wd='/home/adria/data/prod/lammps/HPS/EXPANDED-REX-CPEB4/7D', equil_frames=0).save_movies()"
   ]
  },
  {
   "cell_type": "code",
   "execution_count": 4,
   "metadata": {},
   "outputs": [
    {
     "name": "stdout",
     "output_type": "stream",
     "text": [
      "> Run Completed at 14.80% for CPEB4_D4. Ran 14800000 steps for a total of 297 frames \n",
      "> Taking frames every 1 for a total of 1000 to avoid strong correlations\n"
     ]
    }
   ],
   "source": [
    "analysis.Analysis(oliba_wd='/home/adria/data/prod/lammps/HPS/EXPANDED-REX-CPEB4/D4', equil_frames=0).save_movies()"
   ]
  },
  {
   "cell_type": "code",
   "execution_count": 5,
   "metadata": {},
   "outputs": [
    {
     "name": "stdout",
     "output_type": "stream",
     "text": [
      "> Run Completed at 13.40% for CPEB4. Ran 13400000 steps for a total of 269 frames \n",
      "> Taking frames every 1 for a total of 1000 to avoid strong correlations\n"
     ]
    }
   ],
   "source": [
    "analysis.Analysis(oliba_wd='/home/adria/data/prod/lammps/HPS/EXPANDED-REX-CPEB4/WT', equil_frames=0).save_movies()"
   ]
  },
  {
   "cell_type": "code",
   "execution_count": 2,
   "metadata": {},
   "outputs": [
    {
     "data": {
      "text/plain": [
       "['A',\n",
       " 'B',\n",
       " 'C',\n",
       " 'D',\n",
       " 'E',\n",
       " 'F',\n",
       " 'G',\n",
       " 'H',\n",
       " 'I',\n",
       " 'J',\n",
       " 'K',\n",
       " 'L',\n",
       " 'M',\n",
       " 'N',\n",
       " 'O',\n",
       " 'P',\n",
       " 'Q',\n",
       " 'R',\n",
       " 'S',\n",
       " 'T',\n",
       " 'U',\n",
       " 'V',\n",
       " 'W',\n",
       " 'X',\n",
       " 'Y',\n",
       " 'Z']"
      ]
     },
     "execution_count": 2,
     "metadata": {},
     "output_type": "execute_result"
    }
   ],
   "source": [
    "a = \"ABCDEFGHIJKLMNOPQRSTUVWXYZ\"\n",
    "list(a)"
   ]
  },
  {
   "cell_type": "code",
   "execution_count": 6,
   "metadata": {},
   "outputs": [
    {
     "name": "stdout",
     "output_type": "stream",
     "text": [
      "> Run Completed at 13.46% for 7D_CPEB4. Ran 13455000 steps for a total of 2692 frames \n",
      "> Taking frames every 2 for a total of 1000 to avoid strong correlations\n"
     ]
    }
   ],
   "source": [
    "import analysis\n",
    "d7 = analysis.Analysis(oliba_wd='/home/adria/data/prod/lammps/HPS/REX-7D_CPEB4x50')"
   ]
  },
  {
   "cell_type": "code",
   "execution_count": 8,
   "metadata": {},
   "outputs": [],
   "source": [
    "d7.save_last_frame()"
   ]
  },
  {
   "cell_type": "code",
   "execution_count": 5,
   "metadata": {},
   "outputs": [
    {
     "name": "stdout",
     "output_type": "stream",
     "text": [
      "The autoreload extension is already loaded. To reload it, use:\n",
      "  %reload_ext autoreload\n",
      "(1, 22400, 3)\n",
      "╔══════════════════════════════════════════════════════════════════════╗\n",
      "║     Input files created at /home/adria/gil_lmp_test for 7D_CPEB4     ║\n",
      "║----------------------------------------------------------------------║\n",
      "║   PARAMETERS                                                         ║\n",
      "║       - Model = HPS                                                  ║\n",
      "║       - Chains = 50                                                  ║\n",
      "║       - Ionic Strength (mM) = 0.1                                    ║\n",
      "║       - Medium Permittivity = 80.0                                   ║\n",
      "║       - Temperatures (K) = [300]                                     ║\n",
      "║       - HPS Scale = 1.0                                              ║\n",
      "╚══════════════════════════════════════════════════════════════════════╝\n"
     ]
    }
   ],
   "source": [
    "%load_ext autoreload\n",
    "%autoreload 2\n",
    "\n",
    "import lmpsetup\n",
    "import mdtraj as md\n",
    "\n",
    "s = md.load_pdb('/home/adria/Movies/7D_CPEB4x50-T300.pdb')\n",
    "gil_setup = lmpsetup.LMPSetup(oliba_wd='/home/adria/gil_lmp_test',\n",
    "                              chains=50,\n",
    "                              protein='7D_CPEB4',\n",
    "                              temper=False,\n",
    "                              temperatures=[300],\n",
    "                              t=10000,\n",
    "                              save=500,\n",
    "                              debye=0.1)\n",
    "gil_setup.xyz = s.xyz*10.\n",
    "gil_setup.write_hps_files(qsub=False)"
   ]
  }
 ],
 "metadata": {
  "kernelspec": {
   "display_name": "Python 3",
   "language": "python",
   "name": "python3"
  },
  "language_info": {
   "codemirror_mode": {
    "name": "ipython",
    "version": 3
   },
   "file_extension": ".py",
   "mimetype": "text/x-python",
   "name": "python",
   "nbconvert_exporter": "python",
   "pygments_lexer": "ipython3",
   "version": "3.7.4"
  }
 },
 "nbformat": 4,
 "nbformat_minor": 2
}
