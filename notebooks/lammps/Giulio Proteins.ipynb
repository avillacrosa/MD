{
 "cells": [
  {
   "cell_type": "code",
   "execution_count": 15,
   "metadata": {},
   "outputs": [
    {
     "name": "stdout",
     "output_type": "stream",
     "text": [
      "The autoreload extension is already loaded. To reload it, use:\n",
      "  %reload_ext autoreload\n"
     ]
    }
   ],
   "source": [
    "%load_ext autoreload\n",
    "%autoreload 2\n",
    "import lmpsetup"
   ]
  },
  {
   "cell_type": "markdown",
   "metadata": {},
   "source": [
    "We need to simulate 5 different proteins using HPS at different Ionic Strengths :\n",
    "    - OPN220,   I=0.15\n",
    "    - BASP1,    I=0.15\n",
    "    - FUS LC,   I=0.16\n",
    "    - FUS12ELC, I=0.16\n",
    "    - SIC1,     I=0.16"
   ]
  },
  {
   "cell_type": "code",
   "execution_count": 16,
   "metadata": {},
   "outputs": [
    {
     "name": "stdout",
     "output_type": "stream",
     "text": [
      "╔════════════════════════════════════════════════════════════════════════════════════════════════════════╗\n",
      "║     Input files created at /home/adria/perdiux/prod/lammps/dignon/GiulioProteins/OPN220 for OPN220     ║\n",
      "║--------------------------------------------------------------------------------------------------------║\n",
      "║   PARAMETERS                                                                                           ║\n",
      "║       - Model = HPS                                                                                    ║\n",
      "║       - Chains = 1                                                                                     ║\n",
      "║       - Ionic Strength (mM) = 0.15                                                                     ║\n",
      "║       - Medium Permittivity = 80.0                                                                     ║\n",
      "║       - Temperatures (K) = [300]                                                                       ║\n",
      "║       - HPS Scale = 1.0                                                                                ║\n",
      "╚════════════════════════════════════════════════════════════════════════════════════════════════════════╝\n"
     ]
    }
   ],
   "source": [
    "#OPN220\n",
    "opn = lmpsetup.LMPSetup(oliba_wd='/home/adria/perdiux/prod/lammps/dignon/GiulioProteins/OPN220',\n",
    "                        protein='OPN220',\n",
    "                        model='HPS',\n",
    "                        temper=False)\n",
    "opn.temperatures = [300]\n",
    "opn.ionic_strength = 0.15\n",
    "opn.processors = 4\n",
    "opn.t = 1000000000\n",
    "opn.write_hps_files(qsub=True)"
   ]
  },
  {
   "cell_type": "code",
   "execution_count": 17,
   "metadata": {},
   "outputs": [
    {
     "name": "stdout",
     "output_type": "stream",
     "text": [
      "╔══════════════════════════════════════════════════════════════════════════════════════════════════════╗\n",
      "║     Input files created at /home/adria/perdiux/prod/lammps/dignon/GiulioProteins/BASP1 for BASP1     ║\n",
      "║------------------------------------------------------------------------------------------------------║\n",
      "║   PARAMETERS                                                                                         ║\n",
      "║       - Model = HPS                                                                                  ║\n",
      "║       - Chains = 1                                                                                   ║\n",
      "║       - Ionic Strength (mM) = 0.15                                                                   ║\n",
      "║       - Medium Permittivity = 80.0                                                                   ║\n",
      "║       - Temperatures (K) = [300]                                                                     ║\n",
      "║       - HPS Scale = 1.0                                                                              ║\n",
      "╚══════════════════════════════════════════════════════════════════════════════════════════════════════╝\n"
     ]
    }
   ],
   "source": [
    "#BASP1\n",
    "basp1 = lmpsetup.LMPSetup(oliba_wd='/home/adria/perdiux/prod/lammps/dignon/GiulioProteins/BASP1',\n",
    "                        protein='BASP1',\n",
    "                        model='HPS',\n",
    "                        temper=False)\n",
    "basp1.temperatures = [300]\n",
    "basp1.ionic_strength = 0.15\n",
    "basp1.processors = 4\n",
    "basp1.t = 1000000000\n",
    "basp1.write_hps_files(qsub=True)"
   ]
  },
  {
   "cell_type": "code",
   "execution_count": 18,
   "metadata": {},
   "outputs": [
    {
     "name": "stdout",
     "output_type": "stream",
     "text": [
      "╔══════════════════════════════════════════════════════════════════════════════════════════════════════╗\n",
      "║     Input files created at /home/adria/perdiux/prod/lammps/dignon/GiulioProteins/FUSLC for FUSLC     ║\n",
      "║------------------------------------------------------------------------------------------------------║\n",
      "║   PARAMETERS                                                                                         ║\n",
      "║       - Model = HPS                                                                                  ║\n",
      "║       - Chains = 1                                                                                   ║\n",
      "║       - Ionic Strength (mM) = 0.16                                                                   ║\n",
      "║       - Medium Permittivity = 80.0                                                                   ║\n",
      "║       - Temperatures (K) = [300]                                                                     ║\n",
      "║       - HPS Scale = 1.0                                                                              ║\n",
      "╚══════════════════════════════════════════════════════════════════════════════════════════════════════╝\n"
     ]
    }
   ],
   "source": [
    "#FUSLC\n",
    "fuslc = lmpsetup.LMPSetup(oliba_wd='/home/adria/perdiux/prod/lammps/dignon/GiulioProteins/FUSLC',\n",
    "                        protein='FUSLC',\n",
    "                        model='HPS',\n",
    "                        temper=False)\n",
    "fuslc.temperatures = [300]\n",
    "fuslc.ionic_strength = 0.16\n",
    "fuslc.processors = 4\n",
    "fuslc.t = 1000000000\n",
    "fuslc.write_hps_files(qsub=True)"
   ]
  },
  {
   "cell_type": "code",
   "execution_count": 19,
   "metadata": {},
   "outputs": [
    {
     "name": "stdout",
     "output_type": "stream",
     "text": [
      "╔════════════════════════════════════════════════════════════════════════════════════════════════════════════╗\n",
      "║     Input files created at /home/adria/perdiux/prod/lammps/dignon/GiulioProteins/FUS12ELC for FUS12ELC     ║\n",
      "║------------------------------------------------------------------------------------------------------------║\n",
      "║   PARAMETERS                                                                                               ║\n",
      "║       - Model = HPS                                                                                        ║\n",
      "║       - Chains = 1                                                                                         ║\n",
      "║       - Ionic Strength (mM) = 0.16                                                                         ║\n",
      "║       - Medium Permittivity = 80.0                                                                         ║\n",
      "║       - Temperatures (K) = [300]                                                                           ║\n",
      "║       - HPS Scale = 1.0                                                                                    ║\n",
      "╚════════════════════════════════════════════════════════════════════════════════════════════════════════════╝\n"
     ]
    }
   ],
   "source": [
    "#FUS12ELC\n",
    "fus12elc = lmpsetup.LMPSetup(oliba_wd='/home/adria/perdiux/prod/lammps/dignon/GiulioProteins/FUS12ELC',\n",
    "                        protein='FUS12ELC',\n",
    "                        model='HPS',\n",
    "                        temper=False)\n",
    "fus12elc.temperatures = [300]\n",
    "fus12elc.ionic_strength = 0.16\n",
    "fus12elc.processors = 4\n",
    "fus12elc.t = 1000000000\n",
    "fus12elc.write_hps_files(qsub=True)"
   ]
  },
  {
   "cell_type": "code",
   "execution_count": 20,
   "metadata": {},
   "outputs": [
    {
     "name": "stdout",
     "output_type": "stream",
     "text": [
      "╔════════════════════════════════════════════════════════════════════════════════════════════════════╗\n",
      "║     Input files created at /home/adria/perdiux/prod/lammps/dignon/GiulioProteins/SIC1 for SIC1     ║\n",
      "║----------------------------------------------------------------------------------------------------║\n",
      "║   PARAMETERS                                                                                       ║\n",
      "║       - Model = HPS                                                                                ║\n",
      "║       - Chains = 1                                                                                 ║\n",
      "║       - Ionic Strength (mM) = 0.16                                                                 ║\n",
      "║       - Medium Permittivity = 80.0                                                                 ║\n",
      "║       - Temperatures (K) = [300]                                                                   ║\n",
      "║       - HPS Scale = 1.0                                                                            ║\n",
      "╚════════════════════════════════════════════════════════════════════════════════════════════════════╝\n"
     ]
    }
   ],
   "source": [
    "#SIC1\n",
    "sic1 = lmpsetup.LMPSetup(oliba_wd='/home/adria/perdiux/prod/lammps/dignon/GiulioProteins/SIC1',\n",
    "                        protein='SIC1',\n",
    "                        model='HPS',\n",
    "                        temper=False)\n",
    "sic1.temperatures = [300]\n",
    "sic1.ionic_strength = 0.16\n",
    "sic1.t = 1000000000\n",
    "sic1.processors = 4\n",
    "sic1.write_hps_files(qsub=True)"
   ]
  },
  {
   "cell_type": "code",
   "execution_count": null,
   "metadata": {},
   "outputs": [],
   "source": []
  },
  {
   "cell_type": "code",
   "execution_count": null,
   "metadata": {},
   "outputs": [],
   "source": []
  },
  {
   "cell_type": "code",
   "execution_count": null,
   "metadata": {},
   "outputs": [],
   "source": []
  }
 ],
 "metadata": {
  "kernelspec": {
   "display_name": "Python 3",
   "language": "python",
   "name": "python3"
  },
  "language_info": {
   "codemirror_mode": {
    "name": "ipython",
    "version": 3
   },
   "file_extension": ".py",
   "mimetype": "text/x-python",
   "name": "python",
   "nbconvert_exporter": "python",
   "pygments_lexer": "ipython3",
   "version": "3.7.4"
  }
 },
 "nbformat": 4,
 "nbformat_minor": 2
}
