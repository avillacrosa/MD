{
 "cells": [
  {
   "cell_type": "code",
   "execution_count": 3,
   "metadata": {},
   "outputs": [
    {
     "name": "stdout",
     "output_type": "stream",
     "text": [
      "The autoreload extension is already loaded. To reload it, use:\n",
      "  %reload_ext autoreload\n"
     ]
    }
   ],
   "source": [
    "%load_ext autoreload\n",
    "%autoreload 2\n",
    "import mdtraj as md\n",
    "import numpy as np\n",
    "import time\n",
    "import lmp\n",
    "import analysis"
   ]
  },
  {
   "cell_type": "code",
   "execution_count": 4,
   "metadata": {},
   "outputs": [
    {
     "name": "stdout",
     "output_type": "stream",
     "text": [
      "/home/adria/data/prod/lammps/MYTEST/data.data\n",
      "> Run Completed at 2.59% for TDP43. Ran 25905000 steps for a total of 5182 frames \n",
      "FANCY REORDER\n",
      "A\n"
     ]
    },
    {
     "ename": "KeyboardInterrupt",
     "evalue": "",
     "output_type": "error",
     "traceback": [
      "\u001b[0;31m---------------------------------------------------------------------------\u001b[0m",
      "\u001b[0;31mKeyboardInterrupt\u001b[0m                         Traceback (most recent call last)",
      "\u001b[0;32m<ipython-input-4-2668f03adc89>\u001b[0m in \u001b[0;36m<module>\u001b[0;34m\u001b[0m\n\u001b[1;32m      1\u001b[0m \u001b[0ms\u001b[0m \u001b[0;34m=\u001b[0m \u001b[0mlmp\u001b[0m\u001b[0;34m.\u001b[0m\u001b[0mLMP\u001b[0m\u001b[0;34m(\u001b[0m\u001b[0moliba_wd\u001b[0m\u001b[0;34m=\u001b[0m\u001b[0;34m'/home/adria/data/prod/lammps/MYTEST'\u001b[0m\u001b[0;34m)\u001b[0m\u001b[0;34m\u001b[0m\u001b[0;34m\u001b[0m\u001b[0m\n\u001b[0;32m----> 2\u001b[0;31m \u001b[0ms\u001b[0m\u001b[0;34m.\u001b[0m\u001b[0mtemper_reorder\u001b[0m\u001b[0;34m(\u001b[0m\u001b[0;34m)\u001b[0m\u001b[0;34m\u001b[0m\u001b[0;34m\u001b[0m\u001b[0m\n\u001b[0m",
      "\u001b[0;32m~/scripts/lammps/lammps/lmp.py\u001b[0m in \u001b[0;36mtemper_reorder\u001b[0;34m(self)\u001b[0m\n\u001b[1;32m    511\u001b[0m         \u001b[0;31m#     print(\"B\")\u001b[0m\u001b[0;34m\u001b[0m\u001b[0;34m\u001b[0m\u001b[0;34m\u001b[0m\u001b[0m\n\u001b[1;32m    512\u001b[0m         \u001b[0;31m#     trajs_xyz[temp_log[::trj_frame_incr, 1:], :, :] = xyzcop[:, :, :]\u001b[0m\u001b[0;34m\u001b[0m\u001b[0;34m\u001b[0m\u001b[0;34m\u001b[0m\u001b[0m\n\u001b[0;32m--> 513\u001b[0;31m         \u001b[0;31m# print(\"WE DONE SWAPPING?\")\u001b[0m\u001b[0;34m\u001b[0m\u001b[0;34m\u001b[0m\u001b[0;34m\u001b[0m\u001b[0m\n\u001b[0m\u001b[1;32m    514\u001b[0m         \u001b[0;31m# print(time.time()-ti)\u001b[0m\u001b[0;34m\u001b[0m\u001b[0;34m\u001b[0m\u001b[0;34m\u001b[0m\u001b[0m\n\u001b[1;32m    515\u001b[0m \u001b[0;34m\u001b[0m\u001b[0m\n",
      "\u001b[0;31mKeyboardInterrupt\u001b[0m: "
     ]
    }
   ],
   "source": [
    "s = lmp.LMP(oliba_wd='/home/adria/data/prod/lammps/MYTEST')\n",
    "s.temper_reorder()"
   ]
  },
  {
   "cell_type": "code",
   "execution_count": null,
   "metadata": {},
   "outputs": [],
   "source": [
    "print(s.rg().mean(axis=1))"
   ]
  },
  {
   "cell_type": "code",
   "execution_count": 155,
   "metadata": {},
   "outputs": [
    {
     "name": "stdout",
     "output_type": "stream",
     "text": [
      "/home/adria/data/prod/lammps/TDP-BIG/data.data\n",
      "> Run Completed at 2.59% for TDP43. Ran 25905000 steps for a total of 5182 frames \n",
      "> Taking frames every 2 for a total of 1000 to avoid strong correlations\n"
     ]
    }
   ],
   "source": [
    "r = analysis.Analysis(oliba_wd='/home/adria/data/prod/lammps/TDP-BIG')"
   ]
  },
  {
   "cell_type": "code",
   "execution_count": 156,
   "metadata": {},
   "outputs": [
    {
     "name": "stdout",
     "output_type": "stream",
     "text": [
      "[24.93564266 26.33549204 28.36512679 30.43061364 33.63827013 37.95508444\n",
      " 41.81975328 47.53896513 50.96352227 54.75682547 58.2299643  59.23023999]\n"
     ]
    }
   ],
   "source": [
    "print(r.rg().mean(axis=1))"
   ]
  },
  {
   "cell_type": "code",
   "execution_count": null,
   "metadata": {},
   "outputs": [],
   "source": []
  },
  {
   "cell_type": "code",
   "execution_count": 138,
   "metadata": {
    "scrolled": false
   },
   "outputs": [
    {
     "name": "stdout",
     "output_type": "stream",
     "text": [
      "/home/adria/data/prod/lammps/MYTEST/data.data\n",
      "> Run Completed at 2.59% for TDP43. Ran 25905000 steps for a total of 5182 frames \n",
      "[252.80081422 268.72368689 286.89546609 300.66487019 323.59539982\n",
      " 341.22668805 360.14548821 377.97675585 396.24834487 413.81994001\n",
      " 432.16923365 445.5497005 ]\n"
     ]
    }
   ],
   "source": [
    "s = lmp.LMP(oliba_wd='/home/adria/data/prod/lammps/MYTEST')\n",
    "rdata = s._data_reorder()\n",
    "print(s.data[:, :, 3].mean(axis=1))\n",
    "# print(s.data[:, 0:2, 3])\n",
    "# print(\"=\"*40)\n",
    "# print(rdata[:, 0:2, 3])"
   ]
  },
  {
   "cell_type": "code",
   "execution_count": 137,
   "metadata": {},
   "outputs": [
    {
     "name": "stdout",
     "output_type": "stream",
     "text": [
      "/home/adria/data/prod/lammps/TDP-BIG/data.data\n",
      "> Run Completed at 2.59% for TDP43. Ran 25905000 steps for a total of 5182 frames \n",
      "[252.80081422 268.72368689 286.89546609 300.66487019 323.59539982\n",
      " 341.22668805 360.14548821 377.97675585 396.24834487 413.81994001\n",
      " 432.16923365 445.5497005 ]\n",
      "[[250.      263.5201 ]\n",
      " [268.      263.80548]\n",
      " [286.      292.82623]\n",
      " [300.      300.04264]\n",
      " [322.      341.46916]\n",
      " [340.      319.10568]\n",
      " [359.      374.67264]\n",
      " [377.      382.40215]\n",
      " [395.      412.65927]\n",
      " [413.      414.64863]\n",
      " [431.      438.33022]\n",
      " [450.      438.3838 ]]\n",
      "========================================\n",
      "[[250.      263.5201 ]\n",
      " [268.      263.80548]\n",
      " [286.      292.82623]\n",
      " [300.      300.04264]\n",
      " [322.      341.46916]\n",
      " [340.      319.10568]\n",
      " [359.      374.67264]\n",
      " [377.      382.40215]\n",
      " [395.      412.65927]\n",
      " [413.      414.64863]\n",
      " [431.      438.33022]\n",
      " [450.      438.3838 ]]\n"
     ]
    }
   ],
   "source": [
    "s = lmp.LMP(oliba_wd='/home/adria/data/prod/lammps/TDP-BIG')\n",
    "rdata = s._data_reorder()\n",
    "print(rdata[:, :, 3].mean(axis=1))\n",
    "print(s.data[:, 0:2, 3])\n",
    "print(\"=\"*40)\n",
    "print(rdata[:, 0:2, 3])"
   ]
  },
  {
   "cell_type": "code",
   "execution_count": 139,
   "metadata": {},
   "outputs": [
    {
     "name": "stdout",
     "output_type": "stream",
     "text": [
      "[[[ 0  1  2]\n",
      "  [48 49 50]\n",
      "  [ 6  7  8]\n",
      "  [ 9 10 11]\n",
      "  [12 13 14]]\n",
      "\n",
      " [[15 16 17]\n",
      "  [18 19 20]\n",
      "  [21 22 23]\n",
      "  [24 25 26]\n",
      "  [27 28 29]]\n",
      "\n",
      " [[30 31 32]\n",
      "  [ 3  4  5]\n",
      "  [36 37 38]\n",
      "  [39 40 41]\n",
      "  [42 43 44]]\n",
      "\n",
      " [[45 46 47]\n",
      "  [33 34 35]\n",
      "  [51 52 53]\n",
      "  [54 55 56]\n",
      "  [57 58 59]]]\n"
     ]
    }
   ],
   "source": [
    "a = np.arange(4*3*5).reshape(4,5,3)\n",
    "b = a.copy()\n",
    "a[:,1,:] = b[np.array([3, 1, 0, 2]),1,:]\n",
    "print(a)"
   ]
  },
  {
   "cell_type": "code",
   "execution_count": 128,
   "metadata": {},
   "outputs": [
    {
     "name": "stdout",
     "output_type": "stream",
     "text": [
      "[[[ 0  1  2]\n",
      "  [33 34 35]\n",
      "  [ 6  7  8]\n",
      "  [ 9 10 11]\n",
      "  [12 13 14]]\n",
      "\n",
      " [[15 16 17]\n",
      "  [18 19 20]\n",
      "  [21 22 23]\n",
      "  [24 25 26]\n",
      "  [27 28 29]]\n",
      "\n",
      " [[30 31 32]\n",
      "  [48 49 50]\n",
      "  [36 37 38]\n",
      "  [39 40 41]\n",
      "  [42 43 44]]\n",
      "\n",
      " [[45 46 47]\n",
      "  [ 3  4  5]\n",
      "  [51 52 53]\n",
      "  [54 55 56]\n",
      "  [57 58 59]]]\n"
     ]
    }
   ],
   "source": [
    "b = np.arange(4*3*5).reshape(4,5,3)\n",
    "c = b.copy()\n",
    "for Ti,T in enumerate([3, 1, 0, 2]):\n",
    "    c[T,1,:] = b[Ti,1,:]\n",
    "print(c)"
   ]
  }
 ],
 "metadata": {
  "kernelspec": {
   "display_name": "Python 3",
   "language": "python",
   "name": "python3"
  },
  "language_info": {
   "codemirror_mode": {
    "name": "ipython",
    "version": 3
   },
   "file_extension": ".py",
   "mimetype": "text/x-python",
   "name": "python",
   "nbconvert_exporter": "python",
   "pygments_lexer": "ipython3",
   "version": "3.7.4"
  }
 },
 "nbformat": 4,
 "nbformat_minor": 2
}
