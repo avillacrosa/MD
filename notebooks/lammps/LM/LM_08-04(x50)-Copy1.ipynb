{
 "cells": [
  {
   "cell_type": "code",
   "execution_count": 1,
   "metadata": {},
   "outputs": [],
   "source": [
    "%load_ext autoreload\n",
    "%autoreload 2\n",
    "\n",
    "import analysis\n",
    "import plotter\n",
    "import matplotlib.pyplot as plt\n",
    "import numpy as np"
   ]
  },
  {
   "cell_type": "code",
   "execution_count": 2,
   "metadata": {},
   "outputs": [
    {
     "data": {
      "text/html": [
       "<div>\n",
       "<style scoped>\n",
       "    .dataframe tbody tr th:only-of-type {\n",
       "        vertical-align: middle;\n",
       "    }\n",
       "\n",
       "    .dataframe tbody tr th {\n",
       "        vertical-align: top;\n",
       "    }\n",
       "\n",
       "    .dataframe thead th {\n",
       "        text-align: right;\n",
       "    }\n",
       "</style>\n",
       "<table border=\"1\" class=\"dataframe\">\n",
       "  <thead>\n",
       "    <tr style=\"text-align: right;\">\n",
       "      <th></th>\n",
       "      <th>Protein</th>\n",
       "      <th>I</th>\n",
       "      <th>Eps</th>\n",
       "      <th>Scale</th>\n",
       "      <th>Name</th>\n",
       "      <th>FullPath</th>\n",
       "    </tr>\n",
       "  </thead>\n",
       "  <tbody>\n",
       "    <tr>\n",
       "      <td>0</td>\n",
       "      <td>12D_CPEB4_D4</td>\n",
       "      <td>100</td>\n",
       "      <td>80.0</td>\n",
       "      <td>1.0</td>\n",
       "      <td>1.0ls-100I-80e</td>\n",
       "      <td>/home/adria/data/prod/lammps/12D_CPEB4_D4/1.0l...</td>\n",
       "    </tr>\n",
       "    <tr>\n",
       "      <td>1</td>\n",
       "      <td>12D_CPEB4_D4x2</td>\n",
       "      <td>100</td>\n",
       "      <td>80.0</td>\n",
       "      <td>1.0</td>\n",
       "      <td>12D_CPEB4_D4x2</td>\n",
       "      <td>/home/adria/data/prod/lammps/12D_CPEB4_D4x2</td>\n",
       "    </tr>\n",
       "    <tr>\n",
       "      <td>2</td>\n",
       "      <td>12D_CPEB4_D4x50</td>\n",
       "      <td>100</td>\n",
       "      <td>80.0</td>\n",
       "      <td>1.0</td>\n",
       "      <td>T0</td>\n",
       "      <td>/home/adria/data/prod/lammps/12D_CPEB4_D4x50/T0</td>\n",
       "    </tr>\n",
       "    <tr>\n",
       "      <td>3</td>\n",
       "      <td>12D_CPEB4_D4x50</td>\n",
       "      <td>67</td>\n",
       "      <td>80.0</td>\n",
       "      <td>1.0</td>\n",
       "      <td>T1</td>\n",
       "      <td>/home/adria/data/prod/lammps/12D_CPEB4_D4x50/T1</td>\n",
       "    </tr>\n",
       "    <tr>\n",
       "      <td>4</td>\n",
       "      <td>7D_CPEB4</td>\n",
       "      <td>100</td>\n",
       "      <td>80.0</td>\n",
       "      <td>1.0</td>\n",
       "      <td>1.0ls-100I-80e</td>\n",
       "      <td>/home/adria/data/prod/lammps/7D_CPEB4/1.0ls-10...</td>\n",
       "    </tr>\n",
       "    <tr>\n",
       "      <td>5</td>\n",
       "      <td>7D_CPEB4x2</td>\n",
       "      <td>100</td>\n",
       "      <td>80.0</td>\n",
       "      <td>1.0</td>\n",
       "      <td>7D_CPEB4x2</td>\n",
       "      <td>/home/adria/data/prod/lammps/7D_CPEB4x2</td>\n",
       "    </tr>\n",
       "    <tr>\n",
       "      <td>6</td>\n",
       "      <td>7D_CPEB4x50</td>\n",
       "      <td>100</td>\n",
       "      <td>80.0</td>\n",
       "      <td>1.0</td>\n",
       "      <td>T0</td>\n",
       "      <td>/home/adria/data/prod/lammps/7D_CPEB4x50/T0</td>\n",
       "    </tr>\n",
       "    <tr>\n",
       "      <td>7</td>\n",
       "      <td>7D_CPEB4x50</td>\n",
       "      <td>67</td>\n",
       "      <td>80.0</td>\n",
       "      <td>1.0</td>\n",
       "      <td>T1</td>\n",
       "      <td>/home/adria/data/prod/lammps/7D_CPEB4x50/T1</td>\n",
       "    </tr>\n",
       "    <tr>\n",
       "      <td>8</td>\n",
       "      <td>CPEB4</td>\n",
       "      <td>100</td>\n",
       "      <td>80.0</td>\n",
       "      <td>1.0</td>\n",
       "      <td>1.0ls-100I-80e</td>\n",
       "      <td>/home/adria/data/prod/lammps/CPEB4/1.0ls-100I-80e</td>\n",
       "    </tr>\n",
       "    <tr>\n",
       "      <td>9</td>\n",
       "      <td>CPEB4_D4</td>\n",
       "      <td>100</td>\n",
       "      <td>80.0</td>\n",
       "      <td>1.0</td>\n",
       "      <td>1.0ls-100I-80e</td>\n",
       "      <td>/home/adria/data/prod/lammps/CPEB4_D4/1.0ls-10...</td>\n",
       "    </tr>\n",
       "    <tr>\n",
       "      <td>10</td>\n",
       "      <td>CPEB4_D4x2</td>\n",
       "      <td>100</td>\n",
       "      <td>80.0</td>\n",
       "      <td>1.0</td>\n",
       "      <td>CPEB4_D4x2</td>\n",
       "      <td>/home/adria/data/prod/lammps/CPEB4_D4x2</td>\n",
       "    </tr>\n",
       "    <tr>\n",
       "      <td>11</td>\n",
       "      <td>CPEB4_D4x50</td>\n",
       "      <td>100</td>\n",
       "      <td>80.0</td>\n",
       "      <td>1.0</td>\n",
       "      <td>T0</td>\n",
       "      <td>/home/adria/data/prod/lammps/CPEB4_D4x50/T0</td>\n",
       "    </tr>\n",
       "    <tr>\n",
       "      <td>12</td>\n",
       "      <td>CPEB4_D4x50</td>\n",
       "      <td>67</td>\n",
       "      <td>80.0</td>\n",
       "      <td>1.0</td>\n",
       "      <td>T1</td>\n",
       "      <td>/home/adria/data/prod/lammps/CPEB4_D4x50/T1</td>\n",
       "    </tr>\n",
       "    <tr>\n",
       "      <td>13</td>\n",
       "      <td>CPEB4x2</td>\n",
       "      <td>100</td>\n",
       "      <td>80.0</td>\n",
       "      <td>1.0</td>\n",
       "      <td>CPEB4x2</td>\n",
       "      <td>/home/adria/data/prod/lammps/CPEB4x2</td>\n",
       "    </tr>\n",
       "    <tr>\n",
       "      <td>14</td>\n",
       "      <td>EXT-12D_CPEB4_D4x2</td>\n",
       "      <td>100</td>\n",
       "      <td>80.0</td>\n",
       "      <td>1.0</td>\n",
       "      <td>EXT-12D_CPEB4_D4x2</td>\n",
       "      <td>/home/adria/data/prod/lammps/EXT-12D_CPEB4_D4x2</td>\n",
       "    </tr>\n",
       "    <tr>\n",
       "      <td>15</td>\n",
       "      <td>EXT-7D_CPEB4x2</td>\n",
       "      <td>100</td>\n",
       "      <td>80.0</td>\n",
       "      <td>1.0</td>\n",
       "      <td>EXT-7D_CPEB4x2</td>\n",
       "      <td>/home/adria/data/prod/lammps/EXT-7D_CPEB4x2</td>\n",
       "    </tr>\n",
       "    <tr>\n",
       "      <td>16</td>\n",
       "      <td>EXT-CPEB4_D4x2</td>\n",
       "      <td>100</td>\n",
       "      <td>80.0</td>\n",
       "      <td>1.0</td>\n",
       "      <td>EXT-CPEB4_D4x2</td>\n",
       "      <td>/home/adria/data/prod/lammps/EXT-CPEB4_D4x2</td>\n",
       "    </tr>\n",
       "    <tr>\n",
       "      <td>17</td>\n",
       "      <td>EXT-CPEB4x2</td>\n",
       "      <td>100</td>\n",
       "      <td>80.0</td>\n",
       "      <td>1.0</td>\n",
       "      <td>EXT-CPEB4x2</td>\n",
       "      <td>/home/adria/data/prod/lammps/EXT-CPEB4x2</td>\n",
       "    </tr>\n",
       "    <tr>\n",
       "      <td>18</td>\n",
       "      <td>MYTEST</td>\n",
       "      <td>100</td>\n",
       "      <td>80.0</td>\n",
       "      <td>1.0</td>\n",
       "      <td>MYTEST</td>\n",
       "      <td>/home/adria/data/prod/lammps/MYTEST</td>\n",
       "    </tr>\n",
       "    <tr>\n",
       "      <td>19</td>\n",
       "      <td>REX-12D_CPEB4_D4x50</td>\n",
       "      <td>100</td>\n",
       "      <td>80.0</td>\n",
       "      <td>1.0</td>\n",
       "      <td>REX-12D_CPEB4_D4x50</td>\n",
       "      <td>/home/adria/data/prod/lammps/REX-12D_CPEB4_D4x50</td>\n",
       "    </tr>\n",
       "    <tr>\n",
       "      <td>20</td>\n",
       "      <td>REX-7D_CPEB4x50</td>\n",
       "      <td>100</td>\n",
       "      <td>80.0</td>\n",
       "      <td>1.0</td>\n",
       "      <td>REX-7D_CPEB4x50</td>\n",
       "      <td>/home/adria/data/prod/lammps/REX-7D_CPEB4x50</td>\n",
       "    </tr>\n",
       "    <tr>\n",
       "      <td>21</td>\n",
       "      <td>REX-CPEB4_D4x50</td>\n",
       "      <td>100</td>\n",
       "      <td>80.0</td>\n",
       "      <td>1.0</td>\n",
       "      <td>REX-CPEB4_D4x50</td>\n",
       "      <td>/home/adria/data/prod/lammps/REX-CPEB4_D4x50</td>\n",
       "    </tr>\n",
       "    <tr>\n",
       "      <td>22</td>\n",
       "      <td>REX-CPEB4x50</td>\n",
       "      <td>100</td>\n",
       "      <td>10.0</td>\n",
       "      <td>1.0</td>\n",
       "      <td>1.0ls-100I-10e</td>\n",
       "      <td>/home/adria/data/prod/lammps/REX-CPEB4x50/1.0l...</td>\n",
       "    </tr>\n",
       "    <tr>\n",
       "      <td>23</td>\n",
       "      <td>REX-CPEB4x50</td>\n",
       "      <td>100</td>\n",
       "      <td>80.0</td>\n",
       "      <td>1.0</td>\n",
       "      <td>1.0ls-100I-80e</td>\n",
       "      <td>/home/adria/data/prod/lammps/REX-CPEB4x50/1.0l...</td>\n",
       "    </tr>\n",
       "    <tr>\n",
       "      <td>24</td>\n",
       "      <td>TDP</td>\n",
       "      <td>100</td>\n",
       "      <td>80.0</td>\n",
       "      <td>1.0</td>\n",
       "      <td>TDP</td>\n",
       "      <td>/home/adria/data/prod/lammps/TDP</td>\n",
       "    </tr>\n",
       "    <tr>\n",
       "      <td>25</td>\n",
       "      <td>TDP-BIG</td>\n",
       "      <td>100</td>\n",
       "      <td>80.0</td>\n",
       "      <td>1.0</td>\n",
       "      <td>TDP-BIG</td>\n",
       "      <td>/home/adria/data/prod/lammps/TDP-BIG</td>\n",
       "    </tr>\n",
       "    <tr>\n",
       "      <td>26</td>\n",
       "      <td>TEST</td>\n",
       "      <td>100</td>\n",
       "      <td>80.0</td>\n",
       "      <td>1.0</td>\n",
       "      <td>TEST</td>\n",
       "      <td>/home/adria/data/prod/lammps/TEST</td>\n",
       "    </tr>\n",
       "  </tbody>\n",
       "</table>\n",
       "</div>"
      ],
      "text/plain": [
       "                Protein    I   Eps  Scale                 Name  \\\n",
       "0          12D_CPEB4_D4  100  80.0    1.0       1.0ls-100I-80e   \n",
       "1        12D_CPEB4_D4x2  100  80.0    1.0       12D_CPEB4_D4x2   \n",
       "2       12D_CPEB4_D4x50  100  80.0    1.0                   T0   \n",
       "3       12D_CPEB4_D4x50   67  80.0    1.0                   T1   \n",
       "4              7D_CPEB4  100  80.0    1.0       1.0ls-100I-80e   \n",
       "5            7D_CPEB4x2  100  80.0    1.0           7D_CPEB4x2   \n",
       "6           7D_CPEB4x50  100  80.0    1.0                   T0   \n",
       "7           7D_CPEB4x50   67  80.0    1.0                   T1   \n",
       "8                 CPEB4  100  80.0    1.0       1.0ls-100I-80e   \n",
       "9              CPEB4_D4  100  80.0    1.0       1.0ls-100I-80e   \n",
       "10           CPEB4_D4x2  100  80.0    1.0           CPEB4_D4x2   \n",
       "11          CPEB4_D4x50  100  80.0    1.0                   T0   \n",
       "12          CPEB4_D4x50   67  80.0    1.0                   T1   \n",
       "13              CPEB4x2  100  80.0    1.0              CPEB4x2   \n",
       "14   EXT-12D_CPEB4_D4x2  100  80.0    1.0   EXT-12D_CPEB4_D4x2   \n",
       "15       EXT-7D_CPEB4x2  100  80.0    1.0       EXT-7D_CPEB4x2   \n",
       "16       EXT-CPEB4_D4x2  100  80.0    1.0       EXT-CPEB4_D4x2   \n",
       "17          EXT-CPEB4x2  100  80.0    1.0          EXT-CPEB4x2   \n",
       "18               MYTEST  100  80.0    1.0               MYTEST   \n",
       "19  REX-12D_CPEB4_D4x50  100  80.0    1.0  REX-12D_CPEB4_D4x50   \n",
       "20      REX-7D_CPEB4x50  100  80.0    1.0      REX-7D_CPEB4x50   \n",
       "21      REX-CPEB4_D4x50  100  80.0    1.0      REX-CPEB4_D4x50   \n",
       "22         REX-CPEB4x50  100  10.0    1.0       1.0ls-100I-10e   \n",
       "23         REX-CPEB4x50  100  80.0    1.0       1.0ls-100I-80e   \n",
       "24                  TDP  100  80.0    1.0                  TDP   \n",
       "25              TDP-BIG  100  80.0    1.0              TDP-BIG   \n",
       "26                 TEST  100  80.0    1.0                 TEST   \n",
       "\n",
       "                                             FullPath  \n",
       "0   /home/adria/data/prod/lammps/12D_CPEB4_D4/1.0l...  \n",
       "1         /home/adria/data/prod/lammps/12D_CPEB4_D4x2  \n",
       "2     /home/adria/data/prod/lammps/12D_CPEB4_D4x50/T0  \n",
       "3     /home/adria/data/prod/lammps/12D_CPEB4_D4x50/T1  \n",
       "4   /home/adria/data/prod/lammps/7D_CPEB4/1.0ls-10...  \n",
       "5             /home/adria/data/prod/lammps/7D_CPEB4x2  \n",
       "6         /home/adria/data/prod/lammps/7D_CPEB4x50/T0  \n",
       "7         /home/adria/data/prod/lammps/7D_CPEB4x50/T1  \n",
       "8   /home/adria/data/prod/lammps/CPEB4/1.0ls-100I-80e  \n",
       "9   /home/adria/data/prod/lammps/CPEB4_D4/1.0ls-10...  \n",
       "10            /home/adria/data/prod/lammps/CPEB4_D4x2  \n",
       "11        /home/adria/data/prod/lammps/CPEB4_D4x50/T0  \n",
       "12        /home/adria/data/prod/lammps/CPEB4_D4x50/T1  \n",
       "13               /home/adria/data/prod/lammps/CPEB4x2  \n",
       "14    /home/adria/data/prod/lammps/EXT-12D_CPEB4_D4x2  \n",
       "15        /home/adria/data/prod/lammps/EXT-7D_CPEB4x2  \n",
       "16        /home/adria/data/prod/lammps/EXT-CPEB4_D4x2  \n",
       "17           /home/adria/data/prod/lammps/EXT-CPEB4x2  \n",
       "18                /home/adria/data/prod/lammps/MYTEST  \n",
       "19   /home/adria/data/prod/lammps/REX-12D_CPEB4_D4x50  \n",
       "20       /home/adria/data/prod/lammps/REX-7D_CPEB4x50  \n",
       "21       /home/adria/data/prod/lammps/REX-CPEB4_D4x50  \n",
       "22  /home/adria/data/prod/lammps/REX-CPEB4x50/1.0l...  \n",
       "23  /home/adria/data/prod/lammps/REX-CPEB4x50/1.0l...  \n",
       "24                   /home/adria/data/prod/lammps/TDP  \n",
       "25               /home/adria/data/prod/lammps/TDP-BIG  \n",
       "26                  /home/adria/data/prod/lammps/TEST  "
      ]
     },
     "execution_count": 2,
     "metadata": {},
     "output_type": "execute_result"
    }
   ],
   "source": [
    "p = plotter.Plotter()\n",
    "p.index"
   ]
  },
  {
   "cell_type": "markdown",
   "metadata": {},
   "source": [
    "### 50 chains (REX)"
   ]
  },
  {
   "cell_type": "code",
   "execution_count": 26,
   "metadata": {},
   "outputs": [
    {
     "name": "stdout",
     "output_type": "stream",
     "text": [
      "> Run Completed at 13.46% for 7D_CPEB4. Ran 13455000 steps for a total of 2692 frames \n"
     ]
    },
    {
     "ename": "KeyboardInterrupt",
     "evalue": "",
     "output_type": "error",
     "traceback": [
      "\u001b[0;31m---------------------------------------------------------------------------\u001b[0m",
      "\u001b[0;31mKeyboardInterrupt\u001b[0m                         Traceback (most recent call last)",
      "\u001b[0;32m<ipython-input-26-05d97d34b1ca>\u001b[0m in \u001b[0;36m<module>\u001b[0;34m\u001b[0m\n\u001b[0;32m----> 1\u001b[0;31m \u001b[0md7\u001b[0m \u001b[0;34m=\u001b[0m \u001b[0manalysis\u001b[0m\u001b[0;34m.\u001b[0m\u001b[0mAnalysis\u001b[0m\u001b[0;34m(\u001b[0m\u001b[0moliba_wd\u001b[0m\u001b[0;34m=\u001b[0m\u001b[0;34m'/home/adria/data/prod/lammps/REX-7D_CPEB4x50'\u001b[0m\u001b[0;34m)\u001b[0m\u001b[0;34m\u001b[0m\u001b[0;34m\u001b[0m\u001b[0m\n\u001b[0m\u001b[1;32m      2\u001b[0m \u001b[0mwt\u001b[0m \u001b[0;34m=\u001b[0m \u001b[0manalysis\u001b[0m\u001b[0;34m.\u001b[0m\u001b[0mAnalysis\u001b[0m\u001b[0;34m(\u001b[0m\u001b[0moliba_wd\u001b[0m\u001b[0;34m=\u001b[0m\u001b[0;34m'/home/adria/data/prod/lammps/REX-CPEB4x50'\u001b[0m\u001b[0;34m)\u001b[0m\u001b[0;34m\u001b[0m\u001b[0;34m\u001b[0m\u001b[0m\n\u001b[1;32m      3\u001b[0m \u001b[0mwt_means\u001b[0m\u001b[0;34m,\u001b[0m \u001b[0md7_means\u001b[0m \u001b[0;34m=\u001b[0m \u001b[0;34m[\u001b[0m\u001b[0;34m]\u001b[0m\u001b[0;34m,\u001b[0m \u001b[0;34m[\u001b[0m\u001b[0;34m]\u001b[0m\u001b[0;34m\u001b[0m\u001b[0;34m\u001b[0m\u001b[0m\n\u001b[1;32m      4\u001b[0m \u001b[0;34m\u001b[0m\u001b[0m\n\u001b[1;32m      5\u001b[0m \u001b[0md4\u001b[0m \u001b[0;34m=\u001b[0m \u001b[0manalysis\u001b[0m\u001b[0;34m.\u001b[0m\u001b[0mAnalysis\u001b[0m\u001b[0;34m(\u001b[0m\u001b[0moliba_wd\u001b[0m\u001b[0;34m=\u001b[0m\u001b[0;34m'/home/adria/data/prod/lammps/REX-CPEB4_D4x50'\u001b[0m\u001b[0;34m)\u001b[0m\u001b[0;34m\u001b[0m\u001b[0;34m\u001b[0m\u001b[0m\n",
      "\u001b[0;32m~/scripts/lammps/lammps/analysis.py\u001b[0m in \u001b[0;36m__init__\u001b[0;34m(self, max_frames, **kw)\u001b[0m\n\u001b[1;32m     36\u001b[0m         \u001b[0mself\u001b[0m\u001b[0;34m.\u001b[0m\u001b[0mevery_frames\u001b[0m \u001b[0;34m=\u001b[0m \u001b[0;36m1\u001b[0m\u001b[0;34m\u001b[0m\u001b[0;34m\u001b[0m\u001b[0m\n\u001b[1;32m     37\u001b[0m         \u001b[0;32mif\u001b[0m \u001b[0mself\u001b[0m\u001b[0;34m.\u001b[0m\u001b[0mo_wd\u001b[0m \u001b[0;32mis\u001b[0m \u001b[0;32mnot\u001b[0m \u001b[0;32mNone\u001b[0m\u001b[0;34m:\u001b[0m\u001b[0;34m\u001b[0m\u001b[0;34m\u001b[0m\u001b[0m\n\u001b[0;32m---> 38\u001b[0;31m             \u001b[0mself\u001b[0m\u001b[0;34m.\u001b[0m\u001b[0mstructures\u001b[0m \u001b[0;34m=\u001b[0m \u001b[0mself\u001b[0m\u001b[0;34m.\u001b[0m\u001b[0mget_structures\u001b[0m\u001b[0;34m(\u001b[0m\u001b[0mtotal_frames\u001b[0m\u001b[0;34m=\u001b[0m\u001b[0mself\u001b[0m\u001b[0;34m.\u001b[0m\u001b[0mmax_frames\u001b[0m\u001b[0;34m,\u001b[0m \u001b[0mevery\u001b[0m\u001b[0;34m=\u001b[0m\u001b[0mself\u001b[0m\u001b[0;34m.\u001b[0m\u001b[0mevery_frames\u001b[0m\u001b[0;34m+\u001b[0m\u001b[0;36m1\u001b[0m\u001b[0;34m)\u001b[0m\u001b[0;34m\u001b[0m\u001b[0;34m\u001b[0m\u001b[0m\n\u001b[0m\u001b[1;32m     39\u001b[0m \u001b[0;34m\u001b[0m\u001b[0m\n\u001b[1;32m     40\u001b[0m     \u001b[0;32mdef\u001b[0m \u001b[0mintra_distance_map\u001b[0m\u001b[0;34m(\u001b[0m\u001b[0mself\u001b[0m\u001b[0;34m,\u001b[0m \u001b[0mcontacts\u001b[0m\u001b[0;34m=\u001b[0m\u001b[0;32mFalse\u001b[0m\u001b[0;34m,\u001b[0m \u001b[0mtemperature\u001b[0m\u001b[0;34m=\u001b[0m\u001b[0;32mNone\u001b[0m\u001b[0;34m)\u001b[0m\u001b[0;34m:\u001b[0m\u001b[0;34m\u001b[0m\u001b[0;34m\u001b[0m\u001b[0m\n",
      "\u001b[0;32m~/scripts/lammps/lammps/lmp.py\u001b[0m in \u001b[0;36mget_structures\u001b[0;34m(self, total_frames, every)\u001b[0m\n\u001b[1;32m    408\u001b[0m         \u001b[0mstructures\u001b[0m \u001b[0;34m=\u001b[0m \u001b[0;34m[\u001b[0m\u001b[0;34m]\u001b[0m\u001b[0;34m\u001b[0m\u001b[0;34m\u001b[0m\u001b[0m\n\u001b[1;32m    409\u001b[0m         \u001b[0;32mfor\u001b[0m \u001b[0mdcd\u001b[0m \u001b[0;32min\u001b[0m \u001b[0mdcds\u001b[0m\u001b[0;34m:\u001b[0m\u001b[0;34m\u001b[0m\u001b[0;34m\u001b[0m\u001b[0m\n\u001b[0;32m--> 410\u001b[0;31m             \u001b[0mtr\u001b[0m \u001b[0;34m=\u001b[0m \u001b[0mmd\u001b[0m\u001b[0;34m.\u001b[0m\u001b[0mload\u001b[0m\u001b[0;34m(\u001b[0m\u001b[0mdcd\u001b[0m\u001b[0;34m,\u001b[0m \u001b[0mtop\u001b[0m\u001b[0;34m=\u001b[0m\u001b[0mself\u001b[0m\u001b[0;34m.\u001b[0m\u001b[0mtopology_path\u001b[0m\u001b[0;34m)\u001b[0m\u001b[0;34m\u001b[0m\u001b[0;34m\u001b[0m\u001b[0m\n\u001b[0m\u001b[1;32m    411\u001b[0m             \u001b[0;31m# if not self.rerun:\u001b[0m\u001b[0;34m\u001b[0m\u001b[0;34m\u001b[0m\u001b[0;34m\u001b[0m\u001b[0m\n\u001b[1;32m    412\u001b[0m             \u001b[0;31m#     if total_frames:\u001b[0m\u001b[0;34m\u001b[0m\u001b[0;34m\u001b[0m\u001b[0;34m\u001b[0m\u001b[0m\n",
      "\u001b[0;32m~/anaconda3/lib/python3.7/site-packages/mdtraj/core/trajectory.py\u001b[0m in \u001b[0;36mload\u001b[0;34m(filename_or_filenames, discard_overlapping_frames, **kwargs)\u001b[0m\n\u001b[1;32m    428\u001b[0m         \u001b[0m_assert_files_or_dirs_exist\u001b[0m\u001b[0;34m(\u001b[0m\u001b[0mfilename_or_filenames\u001b[0m\u001b[0;34m)\u001b[0m\u001b[0;34m\u001b[0m\u001b[0;34m\u001b[0m\u001b[0m\n\u001b[1;32m    429\u001b[0m \u001b[0;34m\u001b[0m\u001b[0m\n\u001b[0;32m--> 430\u001b[0;31m     \u001b[0mvalue\u001b[0m \u001b[0;34m=\u001b[0m \u001b[0mloader\u001b[0m\u001b[0;34m(\u001b[0m\u001b[0mfilename\u001b[0m\u001b[0;34m,\u001b[0m \u001b[0;34m**\u001b[0m\u001b[0mkwargs\u001b[0m\u001b[0;34m)\u001b[0m\u001b[0;34m\u001b[0m\u001b[0;34m\u001b[0m\u001b[0m\n\u001b[0m\u001b[1;32m    431\u001b[0m     \u001b[0;32mreturn\u001b[0m \u001b[0mvalue\u001b[0m\u001b[0;34m\u001b[0m\u001b[0;34m\u001b[0m\u001b[0m\n\u001b[1;32m    432\u001b[0m \u001b[0;34m\u001b[0m\u001b[0m\n",
      "\u001b[0;32mmdtraj/formats/dcd/dcd.pyx\u001b[0m in \u001b[0;36mmdtraj.formats.dcd.load_dcd\u001b[0;34m()\u001b[0m\n",
      "\u001b[0;32mmdtraj/formats/dcd/dcd.pyx\u001b[0m in \u001b[0;36mmdtraj.formats.dcd.load_dcd\u001b[0;34m()\u001b[0m\n",
      "\u001b[0;32mmdtraj/formats/dcd/dcd.pyx\u001b[0m in \u001b[0;36mmdtraj.formats.dcd.DCDTrajectoryFile.read_as_traj\u001b[0;34m()\u001b[0m\n",
      "\u001b[0;32mmdtraj/formats/dcd/dcd.pyx\u001b[0m in \u001b[0;36mmdtraj.formats.dcd.DCDTrajectoryFile.read\u001b[0;34m()\u001b[0m\n",
      "\u001b[0;32m<__array_function__ internals>\u001b[0m in \u001b[0;36mall\u001b[0;34m(*args, **kwargs)\u001b[0m\n",
      "\u001b[0;31mKeyboardInterrupt\u001b[0m: "
     ]
    }
   ],
   "source": [
    "d7 = analysis.Analysis(oliba_wd='/home/adria/data/prod/lammps/REX-7D_CPEB4x50')\n",
    "wt = analysis.Analysis(oliba_wd='/home/adria/data/prod/lammps/REX-CPEB4x50')\n",
    "wt_means, d7_means = [], []\n",
    "\n",
    "d4 = analysis.Analysis(oliba_wd='/home/adria/data/prod/lammps/REX-CPEB4_D4x50')\n",
    "d12 = analysis.Analysis(oliba_wd='/home/adria/data/prod/lammps/REX-12D_CPEB4_D4x50')\n",
    "d4_means, d12_means = [], []\n",
    "\n",
    "mbox = 0\n",
    "for key in d4.box:\n",
    "    mbox += np.abs(np.array(d4.box[key], dtype='float')).sum()\n",
    "mbox=mbox/3\n",
    "cutoff = 50\n",
    "\n",
    "for T in range(12):\n",
    "    clusters = wt.clusters(T, cutoff=cutoff)[0]\n",
    "    f_clust=[]\n",
    "    for clust in clusters:\n",
    "        f_clust.append(len(clust))\n",
    "    wt_means.append(f_clust)\n",
    "    \n",
    "    clusters = d7.clusters(T, cutoff=cutoff)[0]\n",
    "    f_clust=[]\n",
    "    for clust in clusters:\n",
    "        f_clust.append(len(clust))\n",
    "    d7_means.append(true_d)\n",
    "    \n",
    "    clusters = d4.clusters(T, cutoff=cutoff)[0]\n",
    "    f_clust=[]\n",
    "    for clust in clusters:\n",
    "        f_clust.append(len(clust))\n",
    "    d4_means.append(f_clust)\n",
    "    \n",
    "    clusters = d12.clusters(T, cutoff=cutoff)[0]\n",
    "    f_clust=[]\n",
    "    for clust in clusters:\n",
    "        f_clust.append(len(clust))\n",
    "    d12_means.append(f_clust)"
   ]
  },
  {
   "cell_type": "code",
   "execution_count": 3,
   "metadata": {},
   "outputs": [],
   "source": [
    "cutoff=70"
   ]
  },
  {
   "cell_type": "code",
   "execution_count": 28,
   "metadata": {},
   "outputs": [
    {
     "name": "stdout",
     "output_type": "stream",
     "text": [
      "> Run Completed at 34.45% for CPEB4. Ran 34450000 steps for a total of 690 frames \n",
      "<mdtraj.Trajectory with 657 frames, 22400 atoms, 22400 residues, and unitcells>\n",
      "<mdtraj.Trajectory with 657 frames, 22400 atoms, 22400 residues, and unitcells>\n",
      "<mdtraj.Trajectory with 657 frames, 22400 atoms, 22400 residues, and unitcells>\n",
      "<mdtraj.Trajectory with 657 frames, 22400 atoms, 22400 residues, and unitcells>\n",
      "<mdtraj.Trajectory with 657 frames, 22400 atoms, 22400 residues, and unitcells>\n",
      "<mdtraj.Trajectory with 657 frames, 22400 atoms, 22400 residues, and unitcells>\n",
      "<mdtraj.Trajectory with 657 frames, 22400 atoms, 22400 residues, and unitcells>\n",
      "<mdtraj.Trajectory with 657 frames, 22400 atoms, 22400 residues, and unitcells>\n",
      "<mdtraj.Trajectory with 657 frames, 22400 atoms, 22400 residues, and unitcells>\n",
      "<mdtraj.Trajectory with 657 frames, 22400 atoms, 22400 residues, and unitcells>\n",
      "<mdtraj.Trajectory with 657 frames, 22400 atoms, 22400 residues, and unitcells>\n",
      "<mdtraj.Trajectory with 657 frames, 22400 atoms, 22400 residues, and unitcells>\n",
      "> Taking frames every 2 for a total of 1000 to avoid strong correlations\n"
     ]
    }
   ],
   "source": [
    "# DATA\n",
    "\n",
    "wt = analysis.Analysis(oliba_wd='/home/adria/data/prod/lammps/REX-CPEB4x50/1.0ls-100I-80e')\n",
    "wt_clusts_f = []\n",
    "for T in range(12):\n",
    "    clusters = wt.clusters(T, cutoff=cutoff)[0]\n",
    "    f_clust=[]\n",
    "    for clust in clusters:\n",
    "        f_clust.append(len(clust))\n",
    "    wt_clusts_f.append(f_clust)"
   ]
  },
  {
   "cell_type": "code",
   "execution_count": 5,
   "metadata": {},
   "outputs": [
    {
     "data": {
      "text/plain": [
       "[<matplotlib.lines.Line2D at 0x7f0d0dcc5a10>]"
      ]
     },
     "execution_count": 5,
     "metadata": {},
     "output_type": "execute_result"
    },
    {
     "data": {
      "image/png": "[encoded data removed]",
      "text/plain": [
       "<Figure size 432x288 with 1 Axes>"
      ]
     },
     "metadata": {
      "needs_background": "light"
     },
     "output_type": "display_data"
    }
   ],
   "source": [
    "npwt = np.array(wt_clusts_f)\n",
    "plt.plot(npwt.mean(axis=1))"
   ]
  },
  {
   "cell_type": "code",
   "execution_count": 1,
   "metadata": {},
   "outputs": [
    {
     "ename": "NameError",
     "evalue": "name 'analysis' is not defined",
     "output_type": "error",
     "traceback": [
      "\u001b[0;31m---------------------------------------------------------------------------\u001b[0m",
      "\u001b[0;31mNameError\u001b[0m                                 Traceback (most recent call last)",
      "\u001b[0;32m<ipython-input-1-236bc8f0e9b3>\u001b[0m in \u001b[0;36m<module>\u001b[0;34m\u001b[0m\n\u001b[1;32m      1\u001b[0m \u001b[0;31m# DATA\u001b[0m\u001b[0;34m\u001b[0m\u001b[0;34m\u001b[0m\u001b[0;34m\u001b[0m\u001b[0m\n\u001b[1;32m      2\u001b[0m \u001b[0;34m\u001b[0m\u001b[0m\n\u001b[0;32m----> 3\u001b[0;31m \u001b[0md7\u001b[0m \u001b[0;34m=\u001b[0m \u001b[0manalysis\u001b[0m\u001b[0;34m.\u001b[0m\u001b[0mAnalysis\u001b[0m\u001b[0;34m(\u001b[0m\u001b[0moliba_wd\u001b[0m\u001b[0;34m=\u001b[0m\u001b[0;34m'/home/adria/data/prod/lammps/REX-7D_CPEB4x50'\u001b[0m\u001b[0;34m)\u001b[0m\u001b[0;34m\u001b[0m\u001b[0;34m\u001b[0m\u001b[0m\n\u001b[0m\u001b[1;32m      4\u001b[0m \u001b[0md7_clusts_f\u001b[0m \u001b[0;34m=\u001b[0m \u001b[0;34m[\u001b[0m\u001b[0;34m]\u001b[0m\u001b[0;34m\u001b[0m\u001b[0;34m\u001b[0m\u001b[0m\n\u001b[1;32m      5\u001b[0m \u001b[0;32mfor\u001b[0m \u001b[0mT\u001b[0m \u001b[0;32min\u001b[0m \u001b[0mrange\u001b[0m\u001b[0;34m(\u001b[0m\u001b[0;36m12\u001b[0m\u001b[0;34m)\u001b[0m\u001b[0;34m:\u001b[0m\u001b[0;34m\u001b[0m\u001b[0;34m\u001b[0m\u001b[0m\n",
      "\u001b[0;31mNameError\u001b[0m: name 'analysis' is not defined"
     ]
    }
   ],
   "source": [
    "# DATA\n",
    "\n",
    "d7 = analysis.Analysis(oliba_wd='/home/adria/data/prod/lammps/REX-7D_CPEB4x50')\n",
    "d7_clusts_f = []\n",
    "for T in range(12):\n",
    "    clusters = d7.clusters(T, cutoff=cutoff)[0]\n",
    "    f_clust=[]\n",
    "    for clust in clusters:\n",
    "        f_clust.append(len(clust))\n",
    "    d7_clusts_f.append(f_clust)"
   ]
  },
  {
   "cell_type": "code",
   "execution_count": 7,
   "metadata": {},
   "outputs": [
    {
     "data": {
      "text/plain": [
       "[<matplotlib.lines.Line2D at 0x7f0bd8621950>]"
      ]
     },
     "execution_count": 7,
     "metadata": {},
     "output_type": "execute_result"
    },
    {
     "data": {
      "image/png": "[encoded data removed]",
      "text/plain": [
       "<Figure size 432x288 with 1 Axes>"
      ]
     },
     "metadata": {
      "needs_background": "light"
     },
     "output_type": "display_data"
    }
   ],
   "source": [
    "npd7 = np.array(d7_clusts_f)\n",
    "plt.plot(npd7.mean(axis=1))"
   ]
  },
  {
   "cell_type": "code",
   "execution_count": null,
   "metadata": {},
   "outputs": [],
   "source": [
    "# DATA\n",
    "d12 = analysis.Analysis(oliba_wd='/home/adria/data/prod/lammps/REX-12D_CPEB4_D4x50')\n",
    "d12_clusts_f = []\n",
    "for T in range(12):\n",
    "    clusters = d12.clusters(T, cutoff=cutoff)[0]\n",
    "    f_clust=[]\n",
    "    for clust in clusters:\n",
    "        f_clust.append(len(clust))\n",
    "    d12_clusts_f.append(f_clust)"
   ]
  },
  {
   "cell_type": "code",
   "execution_count": 9,
   "metadata": {},
   "outputs": [
    {
     "data": {
      "text/plain": [
       "[<matplotlib.lines.Line2D at 0x7f0b6ad59f10>]"
      ]
     },
     "execution_count": 9,
     "metadata": {},
     "output_type": "execute_result"
    },
    {
     "data": {
      "image/png": "[encoded data removed]",
      "text/plain": [
       "<Figure size 432x288 with 1 Axes>"
      ]
     },
     "metadata": {
      "needs_background": "light"
     },
     "output_type": "display_data"
    }
   ],
   "source": [
    "npd12 = np.array(d12_clusts_f)\n",
    "plt.plot(npd12.mean(axis=1))"
   ]
  },
  {
   "cell_type": "code",
   "execution_count": null,
   "metadata": {},
   "outputs": [],
   "source": [
    "# DATA\n",
    "d4 = analysis.Analysis(oliba_wd='/home/adria/data/prod/lammps/REX-CPEB4_D4x50')\n",
    "d4_clusts_f = []\n",
    "for T in range(12):\n",
    "    clusters = d4.clusters(T, cutoff=cutoff)[0]\n",
    "    f_clust=[]\n",
    "    for clust in clusters:\n",
    "        f_clust.append(len(clust))\n",
    "    d4_clusts_f.append(f_clust)"
   ]
  },
  {
   "cell_type": "code",
   "execution_count": 11,
   "metadata": {},
   "outputs": [
    {
     "data": {
      "text/plain": [
       "[<matplotlib.lines.Line2D at 0x7f0a6e783190>]"
      ]
     },
     "execution_count": 11,
     "metadata": {},
     "output_type": "execute_result"
    },
    {
     "data": {
      "image/png": "[encoded data removed]",
      "text/plain": [
       "<Figure size 432x288 with 1 Axes>"
      ]
     },
     "metadata": {
      "needs_background": "light"
     },
     "output_type": "display_data"
    }
   ],
   "source": [
    "npd4 = np.array(d4_clusts_f)\n",
    "plt.plot(npd4.mean(axis=1))"
   ]
  },
  {
   "cell_type": "code",
   "execution_count": 7,
   "metadata": {},
   "outputs": [
    {
     "data": {
      "text/plain": [
       "<mdtraj.Trajectory with 2692 frames, 22400 atoms, 22400 residues, and unitcells at 0x7ff67140b550>"
      ]
     },
     "execution_count": 7,
     "metadata": {},
     "output_type": "execute_result"
    }
   ],
   "source": [
    "import mdtraj as md\n",
    "md.load('/home/adria/data/prod/lammps/REX-7D_CPEB4x50/dcd_traj_0.dcd',top='/home/adria/data/prod/lammps/REX-7D_CPEB4x50/topo.pdb')"
   ]
  },
  {
   "cell_type": "code",
   "execution_count": null,
   "metadata": {},
   "outputs": [],
   "source": [
    "npd4 = np.array(d4_clusts_f)\n",
    "npd12 = np.array(d12_clusts_f)\n",
    "fig, ax = plt.subplots(figsize=(8,6))\n",
    "\n",
    "ax.plot(d4.get_temperatures(), npd4.mean(axis=1), label='D4', color='tab:orange')\n",
    "ax.plot(d12.get_temperatures(), npd12.mean(axis=1), label='12D', color='tab:blue')\n",
    "ax.set_xlabel(\"Temperature(K)\")\n",
    "ax.set_ylabel(\"<N Clusters>\")\n",
    "ax.legend()"
   ]
  },
  {
   "cell_type": "code",
   "execution_count": 24,
   "metadata": {},
   "outputs": [
    {
     "data": {
      "text/plain": [
       "<matplotlib.legend.Legend at 0x7f0a254e09d0>"
      ]
     },
     "execution_count": 24,
     "metadata": {},
     "output_type": "execute_result"
    },
    {
     "data": {
      "image/png": "[encoded data removed]",
      "text/plain": [
       "<Figure size 576x432 with 1 Axes>"
      ]
     },
     "metadata": {
      "needs_background": "light"
     },
     "output_type": "display_data"
    }
   ],
   "source": [
    "npwt = np.array(wt_clusts_f)\n",
    "npd7 = np.array(d7_clusts_f)\n",
    "fig, ax = plt.subplots(figsize=(8,6))\n",
    "\n",
    "ax.plot(wt.get_temperatures(), npwt.mean(axis=1), label='WT', color='tab:red')\n",
    "ax.plot(d7.get_temperatures(), npd7.mean(axis=1), label='7D', color='tab:purple')\n",
    "ax.set_xlabel(\"Temperature(K)\")\n",
    "ax.set_ylabel(\"<N Clusters>\")\n",
    "ax.legend()"
   ]
  },
  {
   "cell_type": "code",
   "execution_count": 25,
   "metadata": {
    "scrolled": true
   },
   "outputs": [
    {
     "name": "stdout",
     "output_type": "stream",
     "text": [
      "<mdtraj.Trajectory with 100 frames, 22000 atoms, 22000 residues, and unitcells>\n",
      "NFRAMES 100\n",
      "<mdtraj.Trajectory with 100 frames, 22000 atoms, 22000 residues, and unitcells>\n",
      "NFRAMES 100\n",
      "<mdtraj.Trajectory with 100 frames, 22000 atoms, 22000 residues, and unitcells>\n",
      "NFRAMES 100\n",
      "<mdtraj.Trajectory with 100 frames, 22000 atoms, 22000 residues, and unitcells>\n",
      "NFRAMES 100\n",
      "<mdtraj.Trajectory with 100 frames, 22000 atoms, 22000 residues, and unitcells>\n",
      "NFRAMES 100\n",
      "<mdtraj.Trajectory with 100 frames, 22000 atoms, 22000 residues, and unitcells>\n",
      "NFRAMES 100\n",
      "<mdtraj.Trajectory with 100 frames, 22000 atoms, 22000 residues, and unitcells>\n",
      "NFRAMES 100\n",
      "<mdtraj.Trajectory with 100 frames, 22000 atoms, 22000 residues, and unitcells>\n",
      "NFRAMES 100\n",
      "<mdtraj.Trajectory with 100 frames, 22000 atoms, 22000 residues, and unitcells>\n",
      "NFRAMES 100\n",
      "<mdtraj.Trajectory with 100 frames, 22000 atoms, 22000 residues, and unitcells>\n",
      "NFRAMES 100\n",
      "<mdtraj.Trajectory with 100 frames, 22000 atoms, 22000 residues, and unitcells>\n",
      "NFRAMES 100\n",
      "<mdtraj.Trajectory with 100 frames, 22000 atoms, 22000 residues, and unitcells>\n",
      "NFRAMES 100\n",
      "<mdtraj.Trajectory with 100 frames, 22400 atoms, 22400 residues, and unitcells>\n",
      "NFRAMES 100\n",
      "<mdtraj.Trajectory with 100 frames, 22400 atoms, 22400 residues, and unitcells>\n",
      "NFRAMES 100\n",
      "<mdtraj.Trajectory with 100 frames, 22400 atoms, 22400 residues, and unitcells>\n",
      "NFRAMES 100\n",
      "<mdtraj.Trajectory with 100 frames, 22400 atoms, 22400 residues, and unitcells>\n",
      "NFRAMES 100\n",
      "<mdtraj.Trajectory with 100 frames, 22400 atoms, 22400 residues, and unitcells>\n",
      "NFRAMES 100\n",
      "<mdtraj.Trajectory with 100 frames, 22400 atoms, 22400 residues, and unitcells>\n",
      "NFRAMES 100\n",
      "<mdtraj.Trajectory with 100 frames, 22400 atoms, 22400 residues, and unitcells>\n",
      "NFRAMES 100\n",
      "<mdtraj.Trajectory with 100 frames, 22400 atoms, 22400 residues, and unitcells>\n",
      "NFRAMES 100\n",
      "<mdtraj.Trajectory with 100 frames, 22400 atoms, 22400 residues, and unitcells>\n",
      "NFRAMES 100\n",
      "<mdtraj.Trajectory with 100 frames, 22400 atoms, 22400 residues, and unitcells>\n",
      "NFRAMES 100\n",
      "<mdtraj.Trajectory with 100 frames, 22400 atoms, 22400 residues, and unitcells>\n",
      "NFRAMES 100\n",
      "<mdtraj.Trajectory with 100 frames, 22400 atoms, 22400 residues, and unitcells>\n",
      "NFRAMES 100\n",
      "<mdtraj.Trajectory with 100 frames, 22000 atoms, 22000 residues, and unitcells>\n",
      "NFRAMES 100\n",
      "<mdtraj.Trajectory with 100 frames, 22000 atoms, 22000 residues, and unitcells>\n",
      "NFRAMES 100\n",
      "<mdtraj.Trajectory with 100 frames, 22000 atoms, 22000 residues, and unitcells>\n",
      "NFRAMES 100\n",
      "<mdtraj.Trajectory with 100 frames, 22000 atoms, 22000 residues, and unitcells>\n",
      "NFRAMES 100\n",
      "<mdtraj.Trajectory with 100 frames, 22000 atoms, 22000 residues, and unitcells>\n",
      "NFRAMES 100\n",
      "<mdtraj.Trajectory with 100 frames, 22000 atoms, 22000 residues, and unitcells>\n",
      "NFRAMES 100\n",
      "<mdtraj.Trajectory with 100 frames, 22000 atoms, 22000 residues, and unitcells>\n",
      "NFRAMES 100\n",
      "<mdtraj.Trajectory with 100 frames, 22000 atoms, 22000 residues, and unitcells>\n",
      "NFRAMES 100\n",
      "<mdtraj.Trajectory with 100 frames, 22000 atoms, 22000 residues, and unitcells>\n",
      "NFRAMES 100\n",
      "<mdtraj.Trajectory with 100 frames, 22000 atoms, 22000 residues, and unitcells>\n",
      "NFRAMES 100\n",
      "<mdtraj.Trajectory with 100 frames, 22000 atoms, 22000 residues, and unitcells>\n",
      "NFRAMES 100\n",
      "<mdtraj.Trajectory with 100 frames, 22000 atoms, 22000 residues, and unitcells>\n",
      "NFRAMES 100\n",
      "<mdtraj.Trajectory with 100 frames, 22400 atoms, 22400 residues, and unitcells>\n",
      "NFRAMES 100\n",
      "<mdtraj.Trajectory with 100 frames, 22400 atoms, 22400 residues, and unitcells>\n",
      "NFRAMES 100\n",
      "<mdtraj.Trajectory with 100 frames, 22400 atoms, 22400 residues, and unitcells>\n",
      "NFRAMES 100\n",
      "<mdtraj.Trajectory with 100 frames, 22400 atoms, 22400 residues, and unitcells>\n",
      "NFRAMES 100\n",
      "<mdtraj.Trajectory with 100 frames, 22400 atoms, 22400 residues, and unitcells>\n",
      "NFRAMES 100\n",
      "<mdtraj.Trajectory with 100 frames, 22400 atoms, 22400 residues, and unitcells>\n",
      "NFRAMES 100\n",
      "<mdtraj.Trajectory with 100 frames, 22400 atoms, 22400 residues, and unitcells>\n",
      "NFRAMES 100\n",
      "<mdtraj.Trajectory with 100 frames, 22400 atoms, 22400 residues, and unitcells>\n",
      "NFRAMES 100\n",
      "<mdtraj.Trajectory with 100 frames, 22400 atoms, 22400 residues, and unitcells>\n",
      "NFRAMES 100\n",
      "<mdtraj.Trajectory with 100 frames, 22400 atoms, 22400 residues, and unitcells>\n",
      "NFRAMES 100\n",
      "<mdtraj.Trajectory with 100 frames, 22400 atoms, 22400 residues, and unitcells>\n",
      "NFRAMES 100\n",
      "<mdtraj.Trajectory with 100 frames, 22400 atoms, 22400 residues, and unitcells>\n",
      "NFRAMES 100\n"
     ]
    }
   ],
   "source": [
    "d4.save_movies()\n",
    "wt.save_movies()\n",
    "d12.save_movies()\n",
    "d7.save_movies()"
   ]
  }
 ],
 "metadata": {
  "kernelspec": {
   "display_name": "Python 3",
   "language": "python",
   "name": "python3"
  },
  "language_info": {
   "codemirror_mode": {
    "name": "ipython",
    "version": 3
   },
   "file_extension": ".py",
   "mimetype": "text/x-python",
   "name": "python",
   "nbconvert_exporter": "python",
   "pygments_lexer": "ipython3",
   "version": "3.7.4"
  }
 },
 "nbformat": 4,
 "nbformat_minor": 2
}
