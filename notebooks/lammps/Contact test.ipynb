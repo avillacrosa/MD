{
 "cells": [
  {
   "cell_type": "code",
   "execution_count": 2,
   "metadata": {},
   "outputs": [],
   "source": [
    "%load_ext autoreload\n",
    "%autoreload 2\n",
    "\n",
    "import analysis\n",
    "import MDAnalysis.analysis as mda\n",
    "import numpy as np\n",
    "import matplotlib.pyplot as plt"
   ]
  },
  {
   "cell_type": "code",
   "execution_count": 10,
   "metadata": {},
   "outputs": [
    {
     "name": "stdout",
     "output_type": "stream",
     "text": [
      "[[ 0  1  2  3  4]\n",
      " [ 5  6  7  8  9]\n",
      " [10 11 12 13 14]\n",
      " [15 16 17 18 19]\n",
      " [20 21 22 23 24]]\n",
      "[ 1  7 13 19]\n"
     ]
    },
    {
     "data": {
      "image/png": "[encoded data removed]",
      "text/plain": [
       "<Figure size 432x288 with 1 Axes>"
      ]
     },
     "metadata": {
      "needs_background": "light"
     },
     "output_type": "display_data"
    }
   ],
   "source": [
    "d = np.arange(0,25)\n",
    "d = d.reshape(5,5)\n",
    "print(d)\n",
    "\n",
    "plt.imshow(d)\n",
    "print(np.diagonal(d, offset=1))"
   ]
  },
  {
   "cell_type": "code",
   "execution_count": null,
   "metadata": {},
   "outputs": [],
   "source": []
  },
  {
   "cell_type": "code",
   "execution_count": 2,
   "metadata": {},
   "outputs": [
    {
     "name": "stdout",
     "output_type": "stream",
     "text": [
      "> Run Completed at 100.00% for LAF-1_RGG. Ran 20000 steps for a total of 2 frames \n",
      "> Taking frames every 1 for a total of 10000 to avoid strong correlations\n"
     ]
    }
   ],
   "source": [
    "t = analysis.Analysis(oliba_wd='/home/adria/perdiux/prod/lammps/dignon/CONTACT-TEST2')"
   ]
  },
  {
   "cell_type": "code",
   "execution_count": null,
   "metadata": {},
   "outputs": [],
   "source": []
  },
  {
   "cell_type": "code",
   "execution_count": 3,
   "metadata": {},
   "outputs": [],
   "source": [
    "# coords = t.structures[0].xyz*10.\n",
    "# contacts_frame = np.empty(shape=(coords.shape[1], coords.shape[2]))\n",
    "# for frame in range(coords.shape[0]):\n",
    "#     cf = coords[frame,:,:]\n",
    "#     contacts_frame += mda.contacts.contact_matrix(cf, radius=6)"
   ]
  },
  {
   "cell_type": "code",
   "execution_count": null,
   "metadata": {},
   "outputs": [
    {
     "name": "stdout",
     "output_type": "stream",
     "text": [
      "409/1411\r"
     ]
    }
   ],
   "source": [
    "coords = t.structures[0].xyz*10.\n",
    "contacts_frame = np.empty(shape=(coords.shape[1], coords.shape[1]))\n",
    "for frame in range(800):\n",
    "    print(f\"{frame}/{coords.shape[0]}\", end='\\r')\n",
    "    cf = coords[frame,:,:]\n",
    "    contacts_frame += mda.distances.contact_matrix(cf, cutoff=6.)\n",
    "contacts_frame = contacts_frame/50"
   ]
  },
  {
   "cell_type": "code",
   "execution_count": null,
   "metadata": {},
   "outputs": [],
   "source": [
    "fig, ax =plt.figure(figsize=(16, 16))\n",
    "img = plt.imshow(contacts_frame)\n",
    "plt.colorbar(img)"
   ]
  },
  {
   "cell_type": "markdown",
   "metadata": {},
   "source": [
    "Convert to chain blocks"
   ]
  },
  {
   "cell_type": "code",
   "execution_count": null,
   "metadata": {},
   "outputs": [],
   "source": [
    "dd = np.zeros(shape=(t.chains, t.chains, t.chain_atoms, t.chain_atoms)) - 1\n",
    "\n",
    "for c1 in range(t.chains):\n",
    "    for c2 in range(t.chains):\n",
    "        c1_slice = slice(c1*t.chain_atoms, (c1+1)*t.chain_atoms)\n",
    "        c2_slice = slice(c2*t.chain_atoms, (c2+1)*t.chain_atoms)\n",
    "        dd[c1,c2] = contacts_frame[c1_slice, c2_slice]\n",
    "        \n",
    "intra = np.diagonal(dd, axis1=0, axis2=1).mean(axis=2)\n",
    "inter = np.zeros(shape=(t.chain_atoms, t.chain_atoms))\n",
    "for chain in range(t.chains-1):\n",
    "    inter += np.diagonal(dd, axis1=0, axis2=1, offset=chain+1).mean(axis=2)\n",
    "\n",
    "plt.imshow(intra)\n",
    "plt.figure()\n",
    "plt.imshow(inter)"
   ]
  },
  {
   "cell_type": "code",
   "execution_count": null,
   "metadata": {},
   "outputs": [],
   "source": []
  },
  {
   "cell_type": "code",
   "execution_count": 1,
   "metadata": {},
   "outputs": [
    {
     "ename": "NameError",
     "evalue": "name 'np' is not defined",
     "output_type": "error",
     "traceback": [
      "\u001b[0;31m---------------------------------------------------------------------------\u001b[0m",
      "\u001b[0;31mNameError\u001b[0m                                 Traceback (most recent call last)",
      "\u001b[0;32m<ipython-input-1-89c21c441fda>\u001b[0m in \u001b[0;36m<module>\u001b[0;34m\u001b[0m\n\u001b[0;32m----> 1\u001b[0;31m \u001b[0md\u001b[0m \u001b[0;34m=\u001b[0m \u001b[0mnp\u001b[0m\u001b[0;34m.\u001b[0m\u001b[0marange\u001b[0m\u001b[0;34m(\u001b[0m\u001b[0;36m1\u001b[0m\u001b[0;34m,\u001b[0m\u001b[0;36m100\u001b[0m\u001b[0;34m)\u001b[0m\u001b[0;34m\u001b[0m\u001b[0;34m\u001b[0m\u001b[0m\n\u001b[0m\u001b[1;32m      2\u001b[0m \u001b[0md\u001b[0m\u001b[0;34m.\u001b[0m\u001b[0mreshape\u001b[0m\u001b[0;34m(\u001b[0m\u001b[0;36m10\u001b[0m\u001b[0;34m,\u001b[0m\u001b[0;36m10\u001b[0m\u001b[0;34m)\u001b[0m\u001b[0;34m\u001b[0m\u001b[0;34m\u001b[0m\u001b[0m\n\u001b[1;32m      3\u001b[0m \u001b[0mplt\u001b[0m\u001b[0;34m.\u001b[0m\u001b[0mimshow\u001b[0m\u001b[0;34m(\u001b[0m\u001b[0md\u001b[0m\u001b[0;34m)\u001b[0m\u001b[0;34m\u001b[0m\u001b[0;34m\u001b[0m\u001b[0m\n",
      "\u001b[0;31mNameError\u001b[0m: name 'np' is not defined"
     ]
    }
   ],
   "source": [
    "d = np.arange(1,100)\n",
    "d.reshape(10,10)\n",
    "plt.imshow(d)"
   ]
  },
  {
   "cell_type": "code",
   "execution_count": null,
   "metadata": {},
   "outputs": [],
   "source": []
  },
  {
   "cell_type": "code",
   "execution_count": null,
   "metadata": {},
   "outputs": [],
   "source": []
  },
  {
   "cell_type": "code",
   "execution_count": null,
   "metadata": {},
   "outputs": [],
   "source": [
    "tr.unitcell"
   ]
  },
  {
   "cell_type": "code",
   "execution_count": null,
   "metadata": {},
   "outputs": [],
   "source": [
    "lmpsetup.LMPSetup(oliba_wd='/home/adria/perdiux/prod/lammps/dignon/CONTACT-TEST2',\n",
    "                  host='@perdiu41',\n",
    "                  temper=False,\n",
    "                  protein='LAF-1_RGG',\n",
    "                  chains=100, \n",
    "                  model='HPS',\n",
    "                  save=20000,\n",
    "                  t=int(1e9),\n",
    "                  use_random=True,\n",
    "                  slab=True,\n",
    "                  processors=4,\n",
    "                  hps_scale=1.0,\n",
    "                  temperatures=[250],\n",
    "                  debye=0.1).write_hps_files(qsub=False, slurm=True)"
   ]
  }
 ],
 "metadata": {
  "kernelspec": {
   "display_name": "Python 3",
   "language": "python",
   "name": "python3"
  },
  "language_info": {
   "codemirror_mode": {
    "name": "ipython",
    "version": 3
   },
   "file_extension": ".py",
   "mimetype": "text/x-python",
   "name": "python",
   "nbconvert_exporter": "python",
   "pygments_lexer": "ipython3",
   "version": "3.7.4"
  }
 },
 "nbformat": 4,
 "nbformat_minor": 2
}
