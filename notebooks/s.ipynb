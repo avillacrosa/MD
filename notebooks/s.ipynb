{
 "cells": [
  {
   "cell_type": "code",
   "execution_count": 14,
   "metadata": {},
   "outputs": [],
   "source": [
    "import lmp\n",
    "import numpy as np"
   ]
  },
  {
   "cell_type": "code",
   "execution_count": 3,
   "metadata": {},
   "outputs": [
    {
     "name": "stdout",
     "output_type": "stream",
     "text": [
      "> Run Completed at 100.00% for CPEB4_alpha. Ran 1000000000 steps for a total of 100001 frames \n",
      "> Taking frames every None for a total of [99701, 99701, 99701, 99701, 99701, 99701, 99701, 99701] to avoid strong correlations\n"
     ]
    }
   ],
   "source": [
    "t = lmp.LMP(md_dir='/home/adria/data/real_final/HPS/1.0/WT')"
   ]
  },
  {
   "cell_type": "code",
   "execution_count": 5,
   "metadata": {},
   "outputs": [],
   "source": [
    "rg = t.rg(full=True)"
   ]
  },
  {
   "cell_type": "code",
   "execution_count": 21,
   "metadata": {},
   "outputs": [
    {
     "data": {
      "text/plain": [
       "8"
      ]
     },
     "execution_count": 21,
     "metadata": {},
     "output_type": "execute_result"
    }
   ],
   "source": [
    "len(rg[0])"
   ]
  },
  {
   "cell_type": "code",
   "execution_count": 31,
   "metadata": {},
   "outputs": [
    {
     "name": "stdout",
     "output_type": "stream",
     "text": [
      "(99701,)\n",
      "(99701,)\n",
      "(99701,)\n",
      "(99701,)\n",
      "(99701,)\n",
      "(99701,)\n",
      "(99701,)\n",
      "(99701,)\n",
      "(99701,)\n",
      "(99701,)\n",
      "(99701,)\n",
      "(99701,)\n",
      "(99701,)\n",
      "(99701,)\n",
      "(99701,)\n",
      "(99701,)\n"
     ]
    }
   ],
   "source": [
    "for r in range(len(rg[0])):\n",
    "    print(rg[0][r].shape)\n",
    "    print(t.data[r,300:,1].shape)\n",
    "#     np.savetxt(f'/home/adria/info_ramon/rg_{r}.txt', rg[0][r])\n",
    "#     np.savetxt(f'/home/adria/info_ramon/ep_{r}.txt', t.data[r,300:,1])"
   ]
  }
 ],
 "metadata": {
  "kernelspec": {
   "display_name": "Python 3",
   "language": "python",
   "name": "python3"
  },
  "language_info": {
   "codemirror_mode": {
    "name": "ipython",
    "version": 3
   },
   "file_extension": ".py",
   "mimetype": "text/x-python",
   "name": "python",
   "nbconvert_exporter": "python",
   "pygments_lexer": "ipython3",
   "version": "3.7.4"
  }
 },
 "nbformat": 4,
 "nbformat_minor": 2
}
