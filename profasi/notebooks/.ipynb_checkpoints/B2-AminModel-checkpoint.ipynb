{
 "cells": [
  {
   "cell_type": "code",
   "execution_count": 1,
   "metadata": {},
   "outputs": [],
   "source": [
    "import math\n",
    "import numpy as np\n",
    "import numba\n",
    "import matplotlib.pyplot as plt\n",
    "from numba import jit\n",
    "import time\n",
    "import scipy.integrate as integrate\n",
    "import scipy.constants as cnt\n",
    "from scipy.optimize import minimize\n",
    "from decimal import Decimal\n",
    "import multiprocessing as mp"
   ]
  },
  {
   "cell_type": "markdown",
   "metadata": {},
   "source": [
    "#### Sequences for proteins full H1 and full prota"
   ]
  },
  {
   "cell_type": "code",
   "execution_count": 2,
   "metadata": {},
   "outputs": [],
   "source": [
    "h1 = {\n",
    "    \"seq\": \"TENSTSAPAAKPKRAKASKKSTDHPKYSDMIVAAIQAEKNRAGSSRQSIQKYIKSHYKVGENADSQIKLSIKRLVTTGVLKQTKGVGASGSFRLAKSDEPKKSVAFKKTKKEIKKVATPKKASKPKKAASKAPTKKPKATPVKKAKKKLAATPKKAKKPKTVKAKPVKASKPKKAKPVKPKAKSSAKRAGKKK\",\n",
    "#     \"seq\": \"MTENSTSAPAAKPKRAKASKKSTDHPKYSDMIVAAIQAEKNRAGSSRQSIQKYIKSHYKVGENADSQIKLSIKRLVTTGVLKQTKGVGASGSFRLAKSDEPKKSVAFKKTKKELKKVATPKKASKPKKAASKAPTKKPKATPVKKTKKELKKVATPKKAKKPKTVKAKPVKASKPKKAKPVKPKAKSSAKRAGKKKHHHHHH\",\n",
    "#     \"seq\": \"CTENSTSAPAAKPKRAKASKKSTDHPKYSDMIVAAIQAEKNRAGSSRQSIQKYIKSHYKVGENADSQIKLSIKRLVTTGVLKQTKGVGASGSFRLAKSDEPKKSVAFKKTKKEIKKVATPKKASKPKKAASKAPTKKPKATPVKKAKKKLAATPKKAKKPKTVKAKPVKASKPKKAKPVKPKAKSSAKRAGKKKGGPR\",\n",
    "    \"qseq\": [],\n",
    "    \"q\": +53\n",
    "}\n",
    "protalpha = {\n",
    "#     \"seq\": \"GPSDAAVDTSSEITTKDLKEKKEVVEEAENGRDAPANGNAENEENGEQEADNEVDEEEEEGGEEEEEEEEGDGEEEDGDEDEEAESATGKRAAEDDEDDDVDTKKQKTDEDD\",\n",
    "#     \"seq\": \"GSYMSDAAVDTSSEITTKDLKEKKEVVEEAENGRDAPANGNAENEENGEQEADNEVDEEEEEGGEEEEEEEEGDGEEEDGDEDEEAESATGKRAAEDDEDDDVDTKKQKTDEDD\",\n",
    "#     \"seq\": \"GPSDAAVDTSSEITTKDLKEKKEVVEEAENGRDAPANGNAENEENGEQEADNEVDEEEEEGGEEEEEEEEGDGEEEDGDEDEEAESATGKRAAEDDEDDDVDTKKQKTDEDD\",\n",
    "    \"seq\": \"SDAAVDTSSEITTKDLKEKKEVVEEAENGRDAPANGNAENEENGEQEADNEVDEEEEEGGEEEEEEEEGDGEEEDGDEDEEAESATGKRAAEDDEDDDVDTKKQKTDEDD\",\n",
    "    \"qseq\": [],\n",
    "    \"q\": -44\n",
    "}"
   ]
  },
  {
   "cell_type": "markdown",
   "metadata": {},
   "source": [
    "#### Explicit integrand\n"
   ]
  },
  {
   "cell_type": "code",
   "execution_count": 3,
   "metadata": {},
   "outputs": [],
   "source": [
    "@jit(nopython=True)\n",
    "def integrand(x, a, b, kuhn, kappa, lb):\n",
    "    v = (x / (x ** 2.0 + kappa ** 2)) ** 2.0\n",
    "    s = 0\n",
    "    for qa1 in range(a.shape[0]):\n",
    "        for qa2 in range(a.shape[0]):\n",
    "            for qb1 in range(b.shape[0]):\n",
    "                for qb2 in range(b.shape[0]):\n",
    "                    s += a[qa1][0] * a[qa2][0] * b[qb1][0] * b[qb2][0] * math.exp(\n",
    "                        -(1.0 / 6.0) * (abs(a[qa1][1] - a[qa2][1]) + abs(b[qb1][1] - b[qb2][1])) * (x * kuhn) ** 2.0)\n",
    "#     return - 4.0 * v * s * (lb ** 2.0) / kappa ** 4 * 10**(-27)\n",
    "    return v * s"
   ]
  },
  {
   "cell_type": "markdown",
   "metadata": {},
   "source": [
    "#### Explicitly find Kd"
   ]
  },
  {
   "cell_type": "code",
   "execution_count": 4,
   "metadata": {},
   "outputs": [],
   "source": [
    "def findKd(protA, protB, lb, kappa, kuhn, order = 1, ranget=np.inf):\n",
    "    B2_O1 = 4.0 * math.pi * lb * protA[\"q\"] * protB[\"q\"] / (kappa ** 2.0) \n",
    "    B2_O2 = 0\n",
    "    integral = [0]\n",
    "    if type(kuhn) is np.ndarray:\n",
    "        kuhn = kuhn[0]\n",
    "    if order==2:\n",
    "        integral = integrate.quad(integrand, \n",
    "                                  a=0, \n",
    "                                  b=ranget, \n",
    "                                  args=(protA[\"qseq\"], protB[\"qseq\"], kuhn, kappa, lb),\n",
    "                                  epsabs=0,\n",
    "                                  epsrel=1.49e-10)\n",
    "#         integral = [740]\n",
    "        B2_O2 = - 4.0 * (integral[0]) * (lb ** 2.0) \n",
    "#         B2_O2 = integral[0]\n",
    "        \n",
    "    B2 = (B2_O1 + B2_O2)*10**(-27)          # In m**3\n",
    "    kD = -(1/(B2*cnt.Avogadro))*10**(-3)    # In L \n",
    "    return kD,  integral[0], B2_O1, B2_O2"
   ]
  },
  {
   "cell_type": "markdown",
   "metadata": {},
   "source": [
    "#### Kd Opt function"
   ]
  },
  {
   "cell_type": "code",
   "execution_count": 5,
   "metadata": {},
   "outputs": [],
   "source": [
    "def KdOpt(x, KdExp, protA, protB, lb, kappa, order = 1, ranget=1e8):\n",
    "    Kd = findKd(protA, protB, lb, kappa, x, order = 2, ranget=1e8)\n",
    "    return (Kd[0] - KdExp)**2"
   ]
  },
  {
   "cell_type": "markdown",
   "metadata": {},
   "source": [
    "#### Main Run"
   ]
  },
  {
   "cell_type": "code",
   "execution_count": 12,
   "metadata": {},
   "outputs": [
    {
     "name": "stdout",
     "output_type": "stream",
     "text": [
      "==================== CHARGE CHECK ====================\n",
      "= H1 : Expected  53 From QSEQ 53\n",
      "= Protalpha : Expected -44 From QSEQ -44\n",
      "==================== CHARGE CHECK ==================== \n",
      "\n",
      "INTEGRAL RESULT 83572.03424139663\n",
      "B2_O1  -5531.967203251638\n",
      "B2_O2  -162052.81906192406\n",
      "Kd (um)  9.908650286426543\n"
     ]
    }
   ],
   "source": [
    "expkD0 = np.array([142, 189, 223, 257, 300]) * 10 ** -6\n",
    "expkD1 = np.array([3.41, 5.09, 6.46, 7.94, 9.95]) * 10 ** -6\n",
    "\n",
    "c     = np.array([165, 220, 260, 300, 350]) * 10 ** -3\n",
    "I     = c[4] * 10**(-27) * 10 ** 3                                                                    # Salt Concentration in Molar\n",
    "lb    = cnt.e * cnt.e / (4 * math.pi * cnt.epsilon_0 * 80 * cnt.Boltzmann * 300)*10**9  # Bjerrum Length (at T=300K)\n",
    "kappa = np.sqrt(8 * math.pi * lb * I * cnt.Avogadro)                          # Debye Wavenumber\n",
    "kuhn  = 0.3768                                                                   # Kuhn Length\n",
    "\n",
    "h1[\"qseq\"]        = []\n",
    "protalpha[\"qseq\"] = []\n",
    "\n",
    "charge_dict = {'D': -1, 'E': -1, 'R': +1, 'K': +1}  # This dict reproduces data from the paper\n",
    "    \n",
    "for prot in [h1, protalpha]:\n",
    "    for i, d in enumerate(prot[\"seq\"]):\n",
    "        if charge_dict.get(d, None) is not None:\n",
    "            prot[\"qseq\"].append([charge_dict[d], i + 1])\n",
    "    prot[\"qseq\"] = np.array(prot[\"qseq\"])\n",
    "print(\"=\"*20,\"CHARGE CHECK\",\"=\"*20)\n",
    "print(\"= H1 : Expected \",h1[\"q\"],\"From QSEQ\",np.sum(h1[\"qseq\"][:,0], axis=0))\n",
    "print(\"= Protalpha : Expected\", protalpha[\"q\"],\"From QSEQ\",np.sum(protalpha[\"qseq\"][:,0], axis=0))\n",
    "print(\"=\"*20,\"CHARGE CHECK\",\"=\"*20,\"\\n\")\n",
    "kappa = np.sqrt(8 * math.pi * lb * I * cnt.Avogadro)\n",
    "Kd, integ, B2_O1, B2_O2 = findKd(h1, protalpha, lb, kappa, kuhn, order=2, ranget=np.inf)\n",
    "\n",
    "print(\"INTEGRAL RESULT\", integ)\n",
    "print(\"B2_O1 \",B2_O1)\n",
    "print(\"B2_O2 \",B2_O2)\n",
    "print(\"Kd (um) \", Kd * 10**6)"
   ]
  },
  {
   "cell_type": "markdown",
   "metadata": {},
   "source": [
    "#### Plot integrand"
   ]
  },
  {
   "cell_type": "code",
   "execution_count": 36,
   "metadata": {},
   "outputs": [
    {
     "name": "stdout",
     "output_type": "stream",
     "text": [
      "20647936\n",
      "0.04169857973374781 0.6962541756194208 5438224\n"
     ]
    }
   ],
   "source": [
    "c     = np.array([165, 220, 260, 300, 350]) * 10 ** -3\n",
    "I     = c[0] *10**(-27)                                                                     # Salt Concentration in Molar\n",
    "lb    = cnt.e * cnt.e / (4 * math.pi * cnt.epsilon_0 * 80 * cnt.Boltzmann * 300)*10**9  # Bjerrum Length (at T=300K)\n",
    "kappa = np.sqrt(8 * math.pi * lb * I * cnt.Avogadro)                          # Debye Wavenumber\n",
    "kuhn  = 0                                                                    # Kuhn Length\n",
    "\n",
    "\n",
    "h1[\"qseq\"]        = []\n",
    "protalpha[\"qseq\"] = []\n",
    "\n",
    "\n",
    "charge_dict = {'D': -1, 'E': -1, 'R': +1, 'K': +1}  # This dict reproduces data from the paper\n",
    "    \n",
    "for prot in [h1, protalpha]:\n",
    "    for i, d in enumerate(prot[\"seq\"]):\n",
    "        if charge_dict.get(d, None) is not None:\n",
    "            prot[\"qseq\"].append([charge_dict[d], i + 1])\n",
    "    prot[\"qseq\"] = np.array(prot[\"qseq\"])\n",
    "\n",
    "a = h1[\"qseq\"]\n",
    "b = protalpha[\"qseq\"]\n",
    "print(a.shape[0]**2*b.shape[0]**2)                    \n",
    "s=0\n",
    "for qa1 in range(a.shape[0]):\n",
    "    for qa2 in range(a.shape[0]):\n",
    "        for qb1 in range(b.shape[0]):\n",
    "            for qb2 in range(b.shape[0]):\n",
    "                s += a[qa1,0] * a[qa2,0] * b[qb1,0] * b[qb2,0]\n",
    "\n",
    "print(kappa, lb, s)"
   ]
  },
  {
   "cell_type": "markdown",
   "metadata": {},
   "source": [
    "#### Kuhn length optimization"
   ]
  },
  {
   "cell_type": "code",
   "execution_count": null,
   "metadata": {
    "scrolled": false
   },
   "outputs": [],
   "source": [
    "expkD0 = np.array([142, 189, 223, 257, 300]) * 10 ** -6\n",
    "expkD1 = np.array([3.41, 5.09, 6.46, 7.94, 9.95]) * 10 ** -6\n",
    "\n",
    "c     = np.array([165, 220, 260, 300, 350]) * 10 ** -3\n",
    "I     = c[0] *10**(-27)                                                                     # Salt Concentration in Molar\n",
    "lb    = cnt.e * cnt.e / (4 * math.pi * cnt.epsilon_0 * 80 * cnt.Boltzmann * 300)*10**9      # Bjerrum Length (at T=300K)\n",
    "kappa = np.sqrt(4 * math.pi * lb * (2 * I * cnt.Avogadro))                                  # Debye Wavenumber\n",
    "kuhn  = 1                                                                                # Kuhn Length\n",
    "\n",
    "h1[\"qseq\"]        = []\n",
    "protalpha[\"qseq\"] = []\n",
    "\n",
    "charge_dict = {'D': -1, 'E': -1, 'R': +1, 'K': +1}  # This dict reproduces data from the paper\n",
    "\n",
    "for prot in [h1, protalpha]:\n",
    "    for i, d in enumerate(prot[\"seq\"]):\n",
    "        if charge_dict.get(d, None) is not None:\n",
    "            prot[\"qseq\"].append([charge_dict[d], i + 1])\n",
    "    prot[\"qseq\"] = np.array(prot[\"qseq\"])\n",
    "\n",
    "result = minimize(KdOpt, x0=kuhn, args=(expkD1[0], h1, protalpha, lb, kappa, 2, np.inf))\n",
    "\n",
    "print(f\"Minimization ended. OG b : {kuhn}, Min b : {result.x[0]}. Difference {kuhn - result.x[0]}\")\n",
    "\n",
    "iKd, integ, B2_O1, B2_O2 = findKd(h1, protalpha, lb, kappa, kuhn, order=2, ranget=np.inf)\n",
    "fKd, integ, B2_O1, B2_O2 = findKd(h1, protalpha, lb, kappa, result.x[0], order=2, ranget=np.inf)\n",
    "\n",
    "print(\"Initial Kd (um)\", iKd*10**6, \"Optimized Kd (um)\", fKd*10**6)"
   ]
  },
  {
   "cell_type": "code",
   "execution_count": null,
   "metadata": {},
   "outputs": [],
   "source": []
  }
 ],
 "metadata": {
  "kernelspec": {
   "display_name": "Python 3",
   "language": "python",
   "name": "python3"
  },
  "language_info": {
   "codemirror_mode": {
    "name": "ipython",
    "version": 3
   },
   "file_extension": ".py",
   "mimetype": "text/x-python",
   "name": "python",
   "nbconvert_exporter": "python",
   "pygments_lexer": "ipython3",
   "version": "3.7.4"
  }
 },
 "nbformat": 4,
 "nbformat_minor": 2
}
