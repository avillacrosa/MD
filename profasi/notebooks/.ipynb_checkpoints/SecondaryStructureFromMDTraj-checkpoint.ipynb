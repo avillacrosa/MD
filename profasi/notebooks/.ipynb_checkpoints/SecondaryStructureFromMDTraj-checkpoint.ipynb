{
 "cells": [
  {
   "cell_type": "markdown",
   "metadata": {},
   "source": [
    "#### Library Import"
   ]
  },
  {
   "cell_type": "code",
   "execution_count": 3,
   "metadata": {},
   "outputs": [],
   "source": [
    "import mdtraj as md\n",
    "import numpy as np"
   ]
  },
  {
   "cell_type": "markdown",
   "metadata": {},
   "source": [
    "#### File load"
   ]
  },
  {
   "cell_type": "code",
   "execution_count": null,
   "metadata": {},
   "outputs": [],
   "source": [
    "trajFile = '/home/adria/mounts/oliba/data/profasi/asyn/pre/asyn100k/frames/fulltraj.xtc'\n",
    "traj = md.load(trajFile,top='/home/adria/mounts/oliba/data/profasi/asyn/pre/asyn100k/frames/frame_0000000.pdb')"
   ]
  },
  {
   "cell_type": "markdown",
   "metadata": {},
   "source": [
    "#### Calculate secondary structure components\n",
    "\n",
    "mdtraj.compute_dssp(traj, simplified=True) assigns each residue a structural value. If simplified = False:\n",
    "\n",
    "\n",
    "‘H’ : Alpha helix\n",
    "\n",
    "‘B’ : Residue in isolated beta-bridge\n",
    "\n",
    "‘E’ : Extended strand, participates in beta ladder\n",
    "\n",
    "‘G’ : 3-helix (3/10 helix)\n",
    "\n",
    "‘I’ : 5 helix (pi helix)\n",
    "\n",
    "‘T’ : hydrogen bonded turn\n",
    "\n",
    "‘S’ : bend\n",
    "\n",
    "‘ ‘ : Loops and irregular elements\n",
    "\n",
    "If simplified = True:\n",
    "\n",
    "‘H’ : Helix. Either of the ‘H’, ‘G’, or ‘I’ codes.\n",
    "\n",
    "‘E’ : Strand. Either of the ‘E’, or ‘B’ codes.\n",
    "\n",
    "‘C’ : Coil. Either of the ‘T’, ‘S’ or ‘ ‘ codes.\n",
    "\n",
    "returns assignmentsnp.ndarray, shape=(n_frames, n_residues), dtype=S1"
   ]
  },
  {
   "cell_type": "code",
   "execution_count": null,
   "metadata": {},
   "outputs": [],
   "source": [
    "ss = md.compute_dssp(traj,simplified=True)"
   ]
  }
 ],
 "metadata": {
  "kernelspec": {
   "display_name": "Python 3",
   "language": "python",
   "name": "python3"
  },
  "language_info": {
   "codemirror_mode": {
    "name": "ipython",
    "version": 3
   },
   "file_extension": ".py",
   "mimetype": "text/x-python",
   "name": "python",
   "nbconvert_exporter": "python",
   "pygments_lexer": "ipython3",
   "version": "3.7.3"
  }
 },
 "nbformat": 4,
 "nbformat_minor": 2
}
